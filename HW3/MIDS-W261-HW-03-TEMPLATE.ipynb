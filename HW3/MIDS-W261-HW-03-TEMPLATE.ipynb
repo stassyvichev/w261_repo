{
 "cells": [
  {
   "cell_type": "markdown",
   "metadata": {
    "toc": "true"
   },
   "source": [
    "# Table of Contents\n",
    " <p><div class=\"lev1 toc-item\"><a href=\"#MIDS---w261-Machine-Learning-At-Scale\" data-toc-modified-id=\"MIDS---w261-Machine-Learning-At-Scale-1\"><span class=\"toc-item-num\">1&nbsp;&nbsp;</span>MIDS - w261 Machine Learning At Scale</a></div><div class=\"lev2 toc-item\"><a href=\"#Assignment---HW3\" data-toc-modified-id=\"Assignment---HW3-11\"><span class=\"toc-item-num\">1.1&nbsp;&nbsp;</span>Assignment - HW3</a></div><div class=\"lev2 toc-item\"><a href=\"#INSTRUCTIONS-for-SUBMISSION\" data-toc-modified-id=\"INSTRUCTIONS-for-SUBMISSION-12\"><span class=\"toc-item-num\">1.2&nbsp;&nbsp;</span>INSTRUCTIONS for SUBMISSION</a></div><div class=\"lev2 toc-item\"><a href=\"#CONFIGURATION\" data-toc-modified-id=\"CONFIGURATION-13\"><span class=\"toc-item-num\">1.3&nbsp;&nbsp;</span>CONFIGURATION</a></div><div class=\"lev2 toc-item\"><a href=\"#DATASETS\" data-toc-modified-id=\"DATASETS-14\"><span class=\"toc-item-num\">1.4&nbsp;&nbsp;</span>DATASETS</a></div><div class=\"lev1 toc-item\"><a href=\"#HW-Problems\" data-toc-modified-id=\"HW-Problems-2\"><span class=\"toc-item-num\">2&nbsp;&nbsp;</span>HW Problems</a></div><div class=\"lev2 toc-item\"><a href=\"#HW3.0.\" data-toc-modified-id=\"HW3.0.-21\"><span class=\"toc-item-num\">2.1&nbsp;&nbsp;</span>HW3.0.</a></div><div class=\"lev2 toc-item\"><a href=\"#HW3.1-Consumer-Complaints-EDA---exploring-counters\" data-toc-modified-id=\"HW3.1-Consumer-Complaints-EDA---exploring-counters-22\"><span class=\"toc-item-num\">2.2&nbsp;&nbsp;</span>HW3.1 Consumer Complaints EDA - exploring counters</a></div><div class=\"lev3 toc-item\"><a href=\"#HW-3.2-Analyze-the-performance-of-your-Mappers,-Combiners-and-Reducers-using-Counters\" data-toc-modified-id=\"HW-3.2-Analyze-the-performance-of-your-Mappers,-Combiners-and-Reducers-using-Counters-221\"><span class=\"toc-item-num\">2.2.1&nbsp;&nbsp;</span>HW 3.2 Analyze the performance of your Mappers, Combiners and Reducers using Counters</a></div><div class=\"lev3 toc-item\"><a href=\"#3.2.A-SOLUTION\" data-toc-modified-id=\"3.2.A-SOLUTION-222\"><span class=\"toc-item-num\">2.2.2&nbsp;&nbsp;</span>3.2.A SOLUTION</a></div><div class=\"lev4 toc-item\"><a href=\"#3.2.A-EXPLANATION\" data-toc-modified-id=\"3.2.A-EXPLANATION-2221\"><span class=\"toc-item-num\">2.2.2.1&nbsp;&nbsp;</span>3.2.A EXPLANATION</a></div><div class=\"lev3 toc-item\"><a href=\"#3.2.B-SOLUTION\" data-toc-modified-id=\"3.2.B-SOLUTION-223\"><span class=\"toc-item-num\">2.2.3&nbsp;&nbsp;</span>3.2.B SOLUTION</a></div><div class=\"lev3 toc-item\"><a href=\"#3.2.C-SOLUTION\" data-toc-modified-id=\"3.2.C-SOLUTION-224\"><span class=\"toc-item-num\">2.2.4&nbsp;&nbsp;</span>3.2.C SOLUTION</a></div><div class=\"lev3 toc-item\"><a href=\"#3.2.1\" data-toc-modified-id=\"3.2.1-225\"><span class=\"toc-item-num\">2.2.5&nbsp;&nbsp;</span>3.2.1</a></div><div class=\"lev4 toc-item\"><a href=\"#START-STUDENT-CODE-HW321-(INSERT-CELLS-BELOW-AS-NEEDED)\" data-toc-modified-id=\"START-STUDENT-CODE-HW321-(INSERT-CELLS-BELOW-AS-NEEDED)-2251\"><span class=\"toc-item-num\">2.2.5.1&nbsp;&nbsp;</span>START STUDENT CODE HW321 (INSERT CELLS BELOW AS NEEDED)</a></div><div class=\"lev4 toc-item\"><a href=\"#END-STUDENT-CODE-HW321\" data-toc-modified-id=\"END-STUDENT-CODE-HW321-2252\"><span class=\"toc-item-num\">2.2.5.2&nbsp;&nbsp;</span>END STUDENT CODE HW321</a></div><div class=\"lev2 toc-item\"><a href=\"#HW3.3.-Shopping-Cart-Analysis\" data-toc-modified-id=\"HW3.3.-Shopping-Cart-Analysis-23\"><span class=\"toc-item-num\">2.3&nbsp;&nbsp;</span>HW3.3. Shopping Cart Analysis</a></div><div class=\"lev4 toc-item\"><a href=\"#START-STUDENT-CODE-HW33-(INSERT-CELLS-BELOW-AS-NEEDED)\" data-toc-modified-id=\"START-STUDENT-CODE-HW33-(INSERT-CELLS-BELOW-AS-NEEDED)-2301\"><span class=\"toc-item-num\">2.3.0.1&nbsp;&nbsp;</span>START STUDENT CODE HW33 (INSERT CELLS BELOW AS NEEDED)</a></div><div class=\"lev4 toc-item\"><a href=\"#END-STUDENT-CODE-HW33\" data-toc-modified-id=\"END-STUDENT-CODE-HW33-2302\"><span class=\"toc-item-num\">2.3.0.2&nbsp;&nbsp;</span>END STUDENT CODE HW33</a></div><div class=\"lev2 toc-item\"><a href=\"#HW3.3.1-OPTIONAL\" data-toc-modified-id=\"HW3.3.1-OPTIONAL-24\"><span class=\"toc-item-num\">2.4&nbsp;&nbsp;</span>HW3.3.1 OPTIONAL</a></div><div class=\"lev4 toc-item\"><a href=\"#START-STUDENT-CODE-HW331-(INSERT-CELLS-BELOW-AS-NEEDED)\" data-toc-modified-id=\"START-STUDENT-CODE-HW331-(INSERT-CELLS-BELOW-AS-NEEDED)-2401\"><span class=\"toc-item-num\">2.4.0.1&nbsp;&nbsp;</span>START STUDENT CODE HW331 (INSERT CELLS BELOW AS NEEDED)</a></div><div class=\"lev4 toc-item\"><a href=\"#END-STUDENT-CODE-HW331\" data-toc-modified-id=\"END-STUDENT-CODE-HW331-2402\"><span class=\"toc-item-num\">2.4.0.2&nbsp;&nbsp;</span>END STUDENT CODE HW331</a></div><div class=\"lev2 toc-item\"><a href=\"#HW3.4.-(Computationally-prohibitive-but-then-again-Hadoop-can-handle-this)-Pairs\" data-toc-modified-id=\"HW3.4.-(Computationally-prohibitive-but-then-again-Hadoop-can-handle-this)-Pairs-25\"><span class=\"toc-item-num\">2.5&nbsp;&nbsp;</span>HW3.4. (Computationally prohibitive but then again Hadoop can handle this) Pairs</a></div><div class=\"lev4 toc-item\"><a href=\"#START-STUDENT-CODE-HW34-(INSERT-CELLS-BELOW-AS-NEEDED)\" data-toc-modified-id=\"START-STUDENT-CODE-HW34-(INSERT-CELLS-BELOW-AS-NEEDED)-2501\"><span class=\"toc-item-num\">2.5.0.1&nbsp;&nbsp;</span>START STUDENT CODE HW34 (INSERT CELLS BELOW AS NEEDED)</a></div><div class=\"lev4 toc-item\"><a href=\"#END-STUDENT-CODE-HW34\" data-toc-modified-id=\"END-STUDENT-CODE-HW34-2502\"><span class=\"toc-item-num\">2.5.0.2&nbsp;&nbsp;</span>END STUDENT CODE HW34</a></div><div class=\"lev2 toc-item\"><a href=\"#HW3.5:-Stripes\" data-toc-modified-id=\"HW3.5:-Stripes-26\"><span class=\"toc-item-num\">2.6&nbsp;&nbsp;</span>HW3.5: Stripes</a></div><div class=\"lev4 toc-item\"><a href=\"#START-STUDENT-CODE-HW35-(INSERT-CELLS-BELOW-AS-NEEDED)\" data-toc-modified-id=\"START-STUDENT-CODE-HW35-(INSERT-CELLS-BELOW-AS-NEEDED)-2601\"><span class=\"toc-item-num\">2.6.0.1&nbsp;&nbsp;</span>START STUDENT CODE HW35 (INSERT CELLS BELOW AS NEEDED)</a></div><div class=\"lev4 toc-item\"><a href=\"#END-STUDENT-CODE-HW35\" data-toc-modified-id=\"END-STUDENT-CODE-HW35-2602\"><span class=\"toc-item-num\">2.6.0.2&nbsp;&nbsp;</span>END STUDENT CODE HW35</a></div><div class=\"lev1 toc-item\"><a href=\"#OPTIONAL\" data-toc-modified-id=\"OPTIONAL-3\"><span class=\"toc-item-num\">3&nbsp;&nbsp;</span>OPTIONAL</a></div><div class=\"lev2 toc-item\"><a href=\"#HW3.6-Computing-Relative-Frequencies-on-100K-WikiPedia-pages-(93Meg)\" data-toc-modified-id=\"HW3.6-Computing-Relative-Frequencies-on-100K-WikiPedia-pages-(93Meg)-31\"><span class=\"toc-item-num\">3.1&nbsp;&nbsp;</span>HW3.6 Computing Relative Frequencies on 100K WikiPedia pages (93Meg)</a></div><div class=\"lev2 toc-item\"><a href=\"#HW3.7-Apriori-Algorithm\" data-toc-modified-id=\"HW3.7-Apriori-Algorithm-32\"><span class=\"toc-item-num\">3.2&nbsp;&nbsp;</span>HW3.7 Apriori Algorithm</a></div><div class=\"lev2 toc-item\"><a href=\"#HW3.8.-Shopping-Cart-Analysis\" data-toc-modified-id=\"HW3.8.-Shopping-Cart-Analysis-33\"><span class=\"toc-item-num\">3.3&nbsp;&nbsp;</span>HW3.8. Shopping Cart Analysis</a></div><div class=\"lev2 toc-item\"><a href=\"#HW3.8.1\" data-toc-modified-id=\"HW3.8.1-34\"><span class=\"toc-item-num\">3.4&nbsp;&nbsp;</span>HW3.8.1</a></div><div class=\"lev1 toc-item\"><a href=\"#END-OF-HOMEWORK\" data-toc-modified-id=\"END-OF-HOMEWORK-4\"><span class=\"toc-item-num\">4&nbsp;&nbsp;</span>END OF HOMEWORK</a></div>"
   ]
  },
  {
   "cell_type": "markdown",
   "metadata": {},
   "source": [
    "# MIDS - w261 Machine Learning At Scale\n",
    "__Course Lead:__ Dr James G. Shanahan (__email__ Jimi via  James.Shanahan _AT_ gmail.com)\n",
    "\n",
    "## Assignment - HW3\n",
    "\n",
    "\n",
    "---\n",
    "__Name:__  Stanimir Vichev   \n",
    "__Class:__ MIDS w261 (Section Spring 2018 Group 1)     \n",
    "__Email:__  stassyvichev@iSchool.Berkeley.edu  \n",
    "     \n",
    "\n",
    "## INSTRUCTIONS for SUBMISSION\n",
    "\n",
    "This homework can be completed locally on your computer. __Please submit your notebook to your classroom github repository 24 hours prior to the next live session.__ "
   ]
  },
  {
   "cell_type": "markdown",
   "metadata": {},
   "source": [
    "## CONFIGURATION\n",
    "Before starting your homework, run the following cells to confirm your setup."
   ]
  },
  {
   "cell_type": "code",
   "execution_count": 1,
   "metadata": {
    "collapsed": true
   },
   "outputs": [],
   "source": [
    "# general imports\n",
    "import os\n",
    "import re\n",
    "import sys\n",
    "import time\n",
    "import random\n",
    "import numpy as np\n",
    "import pandas as pd\n",
    "import matplotlib.pyplot as plt\n",
    "from os import environ\n",
    "PATH  = environ['PATH']\n",
    "# tell matplotlib not to open a new window\n",
    "%matplotlib inline\n",
    "\n",
    "# automatically reload modules \n",
    "%reload_ext autoreload\n",
    "%autoreload 2"
   ]
  },
  {
   "cell_type": "code",
   "execution_count": 2,
   "metadata": {},
   "outputs": [
    {
     "name": "stdout",
     "output_type": "stream",
     "text": [
      "Python Version: 2.7.14 \n",
      "HDFS filesystem running at: \n",
      "\t hdfs://quickstart.cloudera:8020\n"
     ]
    }
   ],
   "source": [
    "# print some configuration details for future replicability.\n",
    "print ('Python Version: %s' % (sys.version.split('|')[0]))\n",
    "hdfs_conf = !hdfs getconf -confKey fs.defaultFS ### UNCOMMENT ON DOCKER\n",
    "#hdfs_conf = !hdfs getconf -confKey fs.default.name ### UNCOMMENT ON ALTISCALE\n",
    "print ('HDFS filesystem running at: \\n\\t %s' % (hdfs_conf[0]))"
   ]
  },
  {
   "cell_type": "code",
   "execution_count": 9,
   "metadata": {
    "collapsed": true
   },
   "outputs": [],
   "source": [
    "# create an HDFS directory for this assignment\n",
    "!hdfs dfs -mkdir hw3"
   ]
  },
  {
   "cell_type": "markdown",
   "metadata": {},
   "source": [
    "__[OPTIONAL]:__ Save yourself some typing by defining global variables for paths we'll reuse frequently (like the hadoop-streaming jar file and the HDFS directory for your output)."
   ]
  },
  {
   "cell_type": "code",
   "execution_count": 10,
   "metadata": {
    "collapsed": true
   },
   "outputs": [
    {
     "name": "stdout",
     "output_type": "stream",
     "text": [
      "/media/notebooks/HW3\n"
     ]
    }
   ],
   "source": [
    "JAR_FILE = \"/usr/lib/hadoop-mapreduce/hadoop-streaming-2.6.0-cdh5.7.0.jar\" # eg. /usr/lib/hadoop-mapreduce/hadoop-streaming.jar\n",
    "HDFS_DIR = \"/user/root/hw3\" # eg. /user/root/hw3 \n",
    "HOME_DIR = os.getcwd() \n",
    "!echo $HOME_DIR"
   ]
  },
  {
   "cell_type": "markdown",
   "metadata": {},
   "source": [
    "__[OPTIONAL]:__ Fix chrome formatting. _The cell below implements a quick hack based on [this stackoverflow thread](http://stackoverflow.com/questions/34277967/chrome-rendering-mathjax-equations-with-a-trailing-vertical-line) to fix [this known issue](https://github.com/mathjax/MathJax/issues/1300) with Mathjax formatting in Chrome (a rounding issue adds a border to the right of mathjax markup)._"
   ]
  },
  {
   "cell_type": "code",
   "execution_count": 4,
   "metadata": {
    "collapsed": true
   },
   "outputs": [
    {
     "data": {
      "application/javascript": [
       "$('.math>span').css(\"border-left-color\",\"transparent\")"
      ],
      "text/plain": [
       "<IPython.core.display.Javascript object>"
      ]
     },
     "metadata": {},
     "output_type": "display_data"
    }
   ],
   "source": [
    "%%javascript\n",
    "$('.math>span').css(\"border-left-color\",\"transparent\")"
   ]
  },
  {
   "cell_type": "markdown",
   "metadata": {},
   "source": [
    "## DATASETS\n",
    "For this homework we be using a few different datasets. These include:\n",
    "* __The Consumer Complaints Dataset [available here](https://www.dropbox.com/s/vbalm3yva2rr86m/Consumer_Complaints.csv?dl=0) -__ _consists of diverse consumer complaints which have been reported across the United States regarding various types of loans. We'll use this in HW 3.1 to learn about Hadoop Counters and then in HW 3.2 where we count words and compute relative frequencies._\n",
    "\n",
    "* __The Product Purchase Dataset [available here](https://www.dropbox.com/s/zlfyiwa70poqg74/ProductPurchaseData.txt?dl=0) -__ _consists of data about products sold online and customer browsing behavior. We'll use this data in 3.3 to perform a shopping cart analysis._\n",
    "\n",
    "Follow the directions below to load/create each of these datasets. You may want to familiarize yourself with their contents before proceeding to the homework questions."
   ]
  },
  {
   "cell_type": "markdown",
   "metadata": {},
   "source": [
    "__`Consumer_Complaints.csv`__  \n",
    "The dataset consists of records of the form:  \n",
    ">Complaint ID,Product,Sub-product,Issue,Sub-issue,State,ZIP code,Submitted via,Date received,Date sent to company,Company,Company response,Timely response?,Consumer disputed?\n",
    "\n",
    "Download the csv file to your current directory using the dropbox link provided above. You can do this manually or with `curl` or `wget` as we did in HW2. Then use the following cell to put the data into HDFS."
   ]
  },
  {
   "cell_type": "code",
   "execution_count": 16,
   "metadata": {
    "collapsed": true
   },
   "outputs": [
    {
     "name": "stdout",
     "output_type": "stream",
     "text": [
      "Complaint ID,Product,Sub-product,Issue,Sub-issue,State,ZIP code,Submitted via,Date received,Date sent to company,Company,Company response,Timely response?,Consumer disputed?\n",
      "1114245,Debt collection,Medical,Disclosure verification of debt,Not given enough info to verify debt,FL,32219,Web,11/13/2014,11/13/2014,\"Choice Recovery, Inc.\",Closed with explanation,Yes,\n"
     ]
    }
   ],
   "source": [
    "# take a look at the first two lines\n",
    "!head -n 2 Consumer_Complaints.csv"
   ]
  },
  {
   "cell_type": "code",
   "execution_count": 11,
   "metadata": {
    "collapsed": true
   },
   "outputs": [],
   "source": [
    "# Put the data into HDFS - adjust path or filename as needed\n",
    "!hdfs dfs -put Consumer_Complaints.csv {HDFS_DIR}/Consumer_Complaints.csv"
   ]
  },
  {
   "cell_type": "markdown",
   "metadata": {},
   "source": [
    "__`ProductPurchaseData.txt`__  \n",
    "Notes about the data format:\n",
    "> Each line in this dataset represents a browsing session of a customer. On each line, each string of 8 characters represents the id of an item browsed during that session. For example:  \n",
    "`FRO11987 ELE17451 ELE89019 SNA90258 GRO99222`  \n",
    "> would represent a single customer's browsing session in which they viewed 5 products.  \n",
    "\n",
    "Download the csv file to your current directory using the dropbox link provided above. You can do this manually or with `curl` or `wget` as we did in HW2. Take a look at the first few lines of the file, then use the following cell to put the data into HDFS."
   ]
  },
  {
   "cell_type": "code",
   "execution_count": 24,
   "metadata": {
    "collapsed": true
   },
   "outputs": [
    {
     "name": "stdout",
     "output_type": "stream",
     "text": [
      "\n",
      "\n"
     ]
    }
   ],
   "source": [
    "# Take a peak at the data\n",
    "!head -n 2 ProductPurchaseData.txt"
   ]
  },
  {
   "cell_type": "code",
   "execution_count": 23,
   "metadata": {},
   "outputs": [
    {
     "name": "stdout",
     "output_type": "stream",
     "text": [
      "total 53173\n",
      "-rwxr-xr-x 1 root root 50906486 Jan 27 15:04 Consumer_Complaints.csv\n",
      "-rwxr-xr-x 1 root root    45950 Jan 27 15:22 MIDS-W261-HW-03-TEMPLATE.ipynb\n",
      "-rwxr-xr-x 1 root root  3489618 Jan 27 15:21 ProductPurchaseData.txt\n",
      "-rwxr-xr-x 1 root root        2 Jan 11 00:53 readme.md\n"
     ]
    }
   ],
   "source": [
    "!ls -l"
   ]
  },
  {
   "cell_type": "code",
   "execution_count": 12,
   "metadata": {
    "collapsed": true
   },
   "outputs": [],
   "source": [
    "# Put the data into HDFS - adjust path or filename if needed\n",
    "!hdfs dfs -put ProductPurchaseData.txt {HDFS_DIR}/ProductPurchaseData.txt"
   ]
  },
  {
   "cell_type": "markdown",
   "metadata": {},
   "source": [
    "---\n",
    "# HW Problems\n",
    "\n",
    "## HW3.0.\n",
    "1. How do you merge  two sorted  lists/arrays of records of the form [key, value]?\n",
    "1. Where is this  used in Hadoop MapReduce? [Hint within the shuffle]\n",
    "1. What is  a combiner function in the context of Hadoop? \n",
    "1. Give an example where it can be used and justify why it should be used in the context of this problem.\n",
    "1. What is the Hadoop shuffle?"
   ]
  },
  {
   "cell_type": "markdown",
   "metadata": {},
   "source": [
    "#### START STUDENT RESPONSE HW3.0\n",
    "1. You go through both lists, checking which element is the smallest in every step and adding that to a third list.\n",
    "2. It is used within shuffle to collect the results from the mappers after they are sorted and send them to the reducers.\n",
    "3. A combiner function runs locally to a mapper, acting as a small reducer that can combine some of the key value pairs before they are sent to the reducer.\n",
    "4. it can be used when counting words as it means the reducer has to deal with less key-value pairs. \n",
    "5. the step between map and reduce that is responsible for collecting all the key-value pairs, sorting them and distributing them to the reducers. "
   ]
  },
  {
   "cell_type": "markdown",
   "metadata": {},
   "source": []
  },
  {
   "cell_type": "code",
   "execution_count": null,
   "metadata": {
    "collapsed": true
   },
   "outputs": [],
   "source": [
    "# END STUDENT RESPONSE HW3.0"
   ]
  },
  {
   "cell_type": "markdown",
   "metadata": {},
   "source": [
    "\n",
    "## HW3.1 Consumer Complaints EDA - exploring counters\n",
    "Notes about Counters:\n",
    ">Counters are lightweight objects in Hadoop that allow you to keep track of system progress in both the map and reduce stages of processing. By default, Hadoop defines a number of standard counters in \"groups\"; these show up in the jobtracker webapp, giving you information such as \"Map input records\", \"Map output records\", etc. \n",
    "\n",
    ">While processing information/data using MapReduce job, it is a challenge to monitor the progress of parallel threads running across nodes of distributed clusters. Moreover, it is also complicated to distinguish between the data that has been processed and the data which is yet to be processed. The MapReduce Framework also offers a provision of user-defined Counters, which can be effectively utilized to monitor the progress of data across nodes of distributed clusters.\n",
    "\n",
    "In this homework problem, we'll use Hadoop Counters to identify the number of complaints pertaining to debt collection, mortgage and other categories (all other categories get lumped into this one) in the consumer complaints dataset (__`Consumer_Complaints.csv`__). Basically, your goal is to produce the distribution of the Product column in this dataset using counters (limited to 3 counters here).\n",
    "\n",
    "Hadoop offers Job Tracker, an UI tool to determine the status and statistics of all jobs. Using the job tracker UI, developers can view the Counters that have been created. Screenshot your job tracker UI as your job completes and include it here. Make sure that your user defined counters are visible."
   ]
  },
  {
   "cell_type": "code",
   "execution_count": 26,
   "metadata": {
    "collapsed": true
   },
   "outputs": [
    {
     "name": "stdout",
     "output_type": "stream",
     "text": [
      "-rw-r--r--   1 root supergroup   50906486 2018-01-27 15:19 /user/root/hw3/Consumer_Complaints.csv\n"
     ]
    }
   ],
   "source": [
    "# Confirm the data location in HDFS - adjust path as needed\n",
    "!hdfs dfs -ls {HDFS_DIR} |grep Consumer*"
   ]
  },
  {
   "cell_type": "code",
   "execution_count": 27,
   "metadata": {},
   "outputs": [
    {
     "name": "stdout",
     "output_type": "stream",
     "text": [
      "Writing complaintCountsMapper.py\n"
     ]
    }
   ],
   "source": [
    "%%writefile complaintCountsMapper.py\n",
    "#!/usr/bin/env python\n",
    "# START STUDENT CODE HW31MAPPER\n",
    "import re\n",
    "import sys\n",
    "\n",
    "# read from standard input\n",
    "for line in sys.stdin:\n",
    "    if line.split(\",\")[0] != \"Complaint ID\":\n",
    "        product = line.split(\",\")[1].lower()\n",
    "        if product == \"debt collection\":\n",
    "            sys.stderr.write(\"reporter:counter:product_count,dc,1\\n\")\n",
    "            print \"%s\\t%s\" % (\"dc\",1)\n",
    "        elif product ==\"mortgage\":\n",
    "            sys.stderr.write(\"reporter:counter:product_count,m,1\\n\")\n",
    "            print \"%s\\t%s\" % (\"m\",1)\n",
    "        else:\n",
    "            sys.stderr.write(\"reporter:counter:product_count,o,1\\n\")\n",
    "            print \"%s\\t%s\" % (\"other\",1)\n",
    "    \n",
    "# END STUDENT CODE HW31MAPPER"
   ]
  },
  {
   "cell_type": "code",
   "execution_count": 28,
   "metadata": {},
   "outputs": [
    {
     "name": "stdout",
     "output_type": "stream",
     "text": [
      "Writing complaintCountsReducer.py\n"
     ]
    }
   ],
   "source": [
    "%%writefile complaintCountsReducer.py\n",
    "#!/usr/bin/env python\n",
    "# START STUDENT CODE HW31REDUCER\n",
    "import re\n",
    "import sys\n",
    "\n",
    "cur_word = None\n",
    "dc_count, m_count, o_count = 0,0,0\n",
    "# read from standard input\n",
    "for line in sys.stdin:\n",
    "    # parse input\n",
    "    product, count = line.split('\\t')\n",
    "    if product == cur_word:\n",
    "        if product == \"dc\":\n",
    "            dc_count += int(count)\n",
    "        elif product == \"m\":\n",
    "            m_count += int(count)\n",
    "        else:\n",
    "            o_count += int(count)\n",
    "    else:\n",
    "        if cur_word:\n",
    "            if cur_word == \"dc\":\n",
    "                print \"%s\\t%s\\t\" % (cur_word, dc_count)\n",
    "            elif cur_word == \"m\":\n",
    "                print \"%s\\t%s\\t\" % (cur_word, m_count)\n",
    "            else:\n",
    "                print \"%s\\t%s\\t\" % (cur_word, o_count)\n",
    "        cur_word = product\n",
    "        dc_count, m_count, o_count = 0,0,0\n",
    "        if product == \"dc\":\n",
    "            dc_count += int(count)\n",
    "        elif product == \"m\":\n",
    "            m_count += int(count)\n",
    "        else:\n",
    "            o_count += int(count)\n",
    "        \n",
    "if cur_word == \"dc\":\n",
    "    print \"%s\\t%s\\t\" % (cur_word, dc_count)\n",
    "elif cur_word == \"m\":\n",
    "    print \"%s\\t%s\\t\" % (cur_word, m_count)\n",
    "else:\n",
    "    print \"%s\\t%s\\t\" % (cur_word, o_count)\n",
    "# END STUDENT CODE HW31REDUCER"
   ]
  },
  {
   "cell_type": "code",
   "execution_count": 30,
   "metadata": {
    "collapsed": true
   },
   "outputs": [
    {
     "name": "stdout",
     "output_type": "stream",
     "text": [
      "rm: `/user/root/hw3/p31-output': No such file or directory\n",
      "packageJobJar: [] [/usr/jars/hadoop-streaming-2.6.0-cdh5.7.0.jar] /tmp/streamjob3971764729982242674.jar tmpDir=null\n",
      "18/01/27 16:32:39 INFO client.RMProxy: Connecting to ResourceManager at /0.0.0.0:8032\n",
      "18/01/27 16:32:40 INFO client.RMProxy: Connecting to ResourceManager at /0.0.0.0:8032\n",
      "18/01/27 16:32:40 INFO mapred.FileInputFormat: Total input paths to process : 1\n",
      "18/01/27 16:32:40 INFO mapreduce.JobSubmitter: number of splits:2\n",
      "18/01/27 16:32:40 INFO mapreduce.JobSubmitter: Submitting tokens for job: job_1516834782618_0001\n",
      "18/01/27 16:32:41 INFO impl.YarnClientImpl: Submitted application application_1516834782618_0001\n",
      "18/01/27 16:32:41 INFO mapreduce.Job: The url to track the job: http://quickstart.cloudera:8088/proxy/application_1516834782618_0001/\n",
      "18/01/27 16:32:41 INFO mapreduce.Job: Running job: job_1516834782618_0001\n",
      "18/01/27 16:32:48 INFO mapreduce.Job: Job job_1516834782618_0001 running in uber mode : false\n",
      "18/01/27 16:32:48 INFO mapreduce.Job:  map 0% reduce 0%\n",
      "18/01/27 16:32:58 INFO mapreduce.Job:  map 100% reduce 0%\n",
      "18/01/27 16:33:05 INFO mapreduce.Job:  map 100% reduce 100%\n",
      "18/01/27 16:33:05 INFO mapreduce.Job: Job job_1516834782618_0001 completed successfully\n",
      "18/01/27 16:33:05 INFO mapreduce.Job: Counters: 52\n",
      "\tFile System Counters\n",
      "\t\tFILE: Number of bytes read=3950102\n",
      "\t\tFILE: Number of bytes written=8251709\n",
      "\t\tFILE: Number of read operations=0\n",
      "\t\tFILE: Number of large read operations=0\n",
      "\t\tFILE: Number of write operations=0\n",
      "\t\tHDFS: Number of bytes read=50910824\n",
      "\t\tHDFS: Number of bytes written=54\n",
      "\t\tHDFS: Number of read operations=9\n",
      "\t\tHDFS: Number of large read operations=0\n",
      "\t\tHDFS: Number of write operations=2\n",
      "\tJob Counters \n",
      "\t\tLaunched map tasks=2\n",
      "\t\tLaunched reduce tasks=1\n",
      "\t\tData-local map tasks=2\n",
      "\t\tTotal time spent by all maps in occupied slots (ms)=14733\n",
      "\t\tTotal time spent by all reduces in occupied slots (ms)=4906\n",
      "\t\tTotal time spent by all map tasks (ms)=14733\n",
      "\t\tTotal time spent by all reduce tasks (ms)=4906\n",
      "\t\tTotal vcore-seconds taken by all map tasks=14733\n",
      "\t\tTotal vcore-seconds taken by all reduce tasks=4906\n",
      "\t\tTotal megabyte-seconds taken by all map tasks=15086592\n",
      "\t\tTotal megabyte-seconds taken by all reduce tasks=5023744\n",
      "\tMap-Reduce Framework\n",
      "\t\tMap input records=312913\n",
      "\t\tMap output records=312912\n",
      "\t\tMap output bytes=3324272\n",
      "\t\tMap output materialized bytes=3950108\n",
      "\t\tInput split bytes=242\n",
      "\t\tCombine input records=0\n",
      "\t\tCombine output records=0\n",
      "\t\tReduce input groups=3\n",
      "\t\tReduce shuffle bytes=3950108\n",
      "\t\tReduce input records=312912\n",
      "\t\tReduce output records=3\n",
      "\t\tSpilled Records=625824\n",
      "\t\tShuffled Maps =2\n",
      "\t\tFailed Shuffles=0\n",
      "\t\tMerged Map outputs=2\n",
      "\t\tGC time elapsed (ms)=115\n",
      "\t\tCPU time spent (ms)=5890\n",
      "\t\tPhysical memory (bytes) snapshot=823750656\n",
      "\t\tVirtual memory (bytes) snapshot=4093632512\n",
      "\t\tTotal committed heap usage (bytes)=752877568\n",
      "\tShuffle Errors\n",
      "\t\tBAD_ID=0\n",
      "\t\tCONNECTION=0\n",
      "\t\tIO_ERROR=0\n",
      "\t\tWRONG_LENGTH=0\n",
      "\t\tWRONG_MAP=0\n",
      "\t\tWRONG_REDUCE=0\n",
      "\tFile Input Format Counters \n",
      "\t\tBytes Read=50910582\n",
      "\tFile Output Format Counters \n",
      "\t\tBytes Written=54\n",
      "\tproduct_count\n",
      "\t\tdc=44372\n",
      "\t\tm=125752\n",
      "\t\to=142788\n",
      "18/01/27 16:33:05 INFO streaming.StreamJob: Output directory: /user/root/hw3/p31-output\n"
     ]
    }
   ],
   "source": [
    "# Hadoop command\n",
    "# START STUDENT CODE HW31HADOOP\n",
    "!hdfs dfs -rm -r {HDFS_DIR}/p31-output\n",
    "!hadoop jar {JAR_FILE} \\\n",
    "  -files complaintCountsReducer.py,complaintCountsMapper.py \\\n",
    "  -mapper complaintCountsMapper.py \\\n",
    "  -reducer complaintCountsReducer.py \\\n",
    "  -input {HDFS_DIR}/Consumer_Complaints.csv \\\n",
    "  -output {HDFS_DIR}/p31-output\n",
    "\n",
    "# END STUDENT CODE HW31HADOOP"
   ]
  },
  {
   "cell_type": "code",
   "execution_count": 31,
   "metadata": {
    "collapsed": true
   },
   "outputs": [],
   "source": [
    "# take a look at your results\n",
    "!hdfs dfs -cat {HDFS_DIR}/p31-output/part-0000* > p31_results.txt"
   ]
  },
  {
   "cell_type": "code",
   "execution_count": 32,
   "metadata": {},
   "outputs": [
    {
     "name": "stdout",
     "output_type": "stream",
     "text": [
      "debt collection\t44372\t\n",
      "mortgage\t125752\t\n",
      "other\t142788\t\n"
     ]
    }
   ],
   "source": [
    "!cat p31_results.txt"
   ]
  },
  {
   "cell_type": "markdown",
   "metadata": {},
   "source": [
    "### HW 3.2 Analyze the performance of your Mappers, Combiners and Reducers using Counters\n",
    "\n",
    "For this brief study the Input file will be one record (the next line only):    \n",
    "`foo foo quux labs foo bar quux`\n",
    "\n",
    "\n",
    "__3.2.A__     \n",
    "Perform a word count analysis of this single record dataset using a Mapper and Reducer based WordCount (i.e., no combiners are used here) using user defined Counters to count up how many times the mapper and reducer are called. What is the value of your user defined Mapper Counter, and Reducer Counter after completing this word count job. The answer  should be 1 and 4 respectively. Please explain.\n",
    "\n",
    "__3.2.B__   \n",
    "Please use mulitple mappers and reducers for these jobs (at least 2 mappers and 2 reducers).\n",
    "Perform a word count analysis of the Issue column of the Consumer Complaints  Dataset using a Mapper and Reducer based WordCount (i.e., no combiners used anywhere)  using user defined Counters to count up how many time the mapper and reducer are called. What is the value of your user defined Mapper Counter, and Reducer Counter after completing your word count job. \n",
    "\n",
    "__3.2.C__     \n",
    "Perform a word count analysis of the Issue column of the Consumer Complaints  Dataset using a Mapper, Reducer, and standalone combiner (i.e., not an in-memory combiner) based WordCount using user defined Counters to count up how many time the mapper, combiner, reducer are called. What is the value of your user defined Mapper Counter, and Reducer Counter after completing your word count job. \n",
    "\n",
    "Then, using a single reducer: \n",
    "- What are the top 50 most frequent terms in your word count analysis?    \n",
    "- Present the top 50 terms and their frequency and their relative frequency. If there are ties please sort the tokens in alphanumeric/string order.    \n",
    "- Present bottom 10 tokens (least frequent items). \n",
    "\n",
    "__NOTE:__ You can use: `WORD_RE = re.compile(r\"[\\w']+\")` to tokenize."
   ]
  },
  {
   "cell_type": "markdown",
   "metadata": {},
   "source": [
    "### 3.2.A SOLUTION"
   ]
  },
  {
   "cell_type": "code",
   "execution_count": 43,
   "metadata": {},
   "outputs": [
    {
     "name": "stdout",
     "output_type": "stream",
     "text": [
      "Overwriting mapper3.2.A.py\n"
     ]
    }
   ],
   "source": [
    "%%writefile mapper3.2.A.py\n",
    "#!/usr/bin/env python\n",
    "# START STUDENT CODE HW32AMAPPER\n",
    "import re\n",
    "import sys\n",
    "\n",
    "# read from standard input\n",
    "sys.stderr.write(\"reporter:counter:mr_count,map,1\\n\")\n",
    "for line in sys.stdin:\n",
    "    line = line.strip()\n",
    "    # tokenize\n",
    "    words = re.findall(r\"[\\w']+\", line.lower())\n",
    "    # emit words and count of 1\n",
    "    for word in words:\n",
    "        print '%s\\t%s' % (word, 1)\n",
    "    \n",
    "\n",
    "# END STUDENT CODE HW32AMAPPER"
   ]
  },
  {
   "cell_type": "code",
   "execution_count": 44,
   "metadata": {},
   "outputs": [
    {
     "name": "stdout",
     "output_type": "stream",
     "text": [
      "reporter:counter:mr_count,map,1\n",
      "foo\t1\n",
      "foo\t1\n",
      "quux\t1\n",
      "labs\t1\n",
      "foo\t1\n",
      "bar\t1\n",
      "quux\t1\n"
     ]
    }
   ],
   "source": [
    "!cat p32_input.txt | python mapper3.2.A.py"
   ]
  },
  {
   "cell_type": "code",
   "execution_count": 37,
   "metadata": {},
   "outputs": [],
   "source": [
    "!echo \"foo foo quux labs foo bar quux\" > p32_input.txt\n",
    "!hdfs dfs -put p32_input.txt {HDFS_DIR}/p32_input.txt"
   ]
  },
  {
   "cell_type": "code",
   "execution_count": 36,
   "metadata": {},
   "outputs": [
    {
     "name": "stdout",
     "output_type": "stream",
     "text": [
      "Writing reducer3.2.A.py\n"
     ]
    }
   ],
   "source": [
    "%%writefile reducer3.2.A.py\n",
    "#!/usr/bin/env python\n",
    "# START STUDENT CODE HW32AREDUCER\n",
    "import sys\n",
    "\n",
    "# initialize trackers\n",
    "cur_word = None\n",
    "cur_count = 0\n",
    "\n",
    "# read input key-value pairs from standard input\n",
    "sys.stderr.write(\"reporter:counter:mr_count,reduce,1\\n\")\n",
    "for line in sys.stdin:\n",
    "    \n",
    "    key, value = line.split(\"\\t\")\n",
    "    # tally counts from current key\n",
    "    if key == cur_word: \n",
    "        cur_count += int(value)\n",
    "    # OR emit current total and start a new tally \n",
    "    else: \n",
    "        if cur_word:\n",
    "            print '%s\\t%s' % (cur_word, cur_count)\n",
    "        cur_word, cur_count  = key, int(value)\n",
    "\n",
    "# don't forget the last record! \n",
    "print '%s\\t%s' % (cur_word, cur_count)\n",
    "# END STUDENT CODE HW32AREDUCER"
   ]
  },
  {
   "cell_type": "code",
   "execution_count": 45,
   "metadata": {
    "collapsed": true
   },
   "outputs": [
    {
     "name": "stdout",
     "output_type": "stream",
     "text": [
      "Deleted /user/root/hw3/p32a-output\n",
      "packageJobJar: [] [/usr/jars/hadoop-streaming-2.6.0-cdh5.7.0.jar] /tmp/streamjob298566724417143844.jar tmpDir=null\n",
      "18/01/27 17:02:40 INFO client.RMProxy: Connecting to ResourceManager at /0.0.0.0:8032\n",
      "18/01/27 17:02:40 INFO client.RMProxy: Connecting to ResourceManager at /0.0.0.0:8032\n",
      "18/01/27 17:02:40 INFO mapred.FileInputFormat: Total input paths to process : 1\n",
      "18/01/27 17:02:40 INFO mapreduce.JobSubmitter: number of splits:2\n",
      "18/01/27 17:02:41 INFO mapreduce.JobSubmitter: Submitting tokens for job: job_1516834782618_0004\n",
      "18/01/27 17:02:41 INFO impl.YarnClientImpl: Submitted application application_1516834782618_0004\n",
      "18/01/27 17:02:41 INFO mapreduce.Job: The url to track the job: http://quickstart.cloudera:8088/proxy/application_1516834782618_0004/\n",
      "18/01/27 17:02:41 INFO mapreduce.Job: Running job: job_1516834782618_0004\n",
      "18/01/27 17:02:47 INFO mapreduce.Job: Job job_1516834782618_0004 running in uber mode : false\n",
      "18/01/27 17:02:47 INFO mapreduce.Job:  map 0% reduce 0%\n",
      "18/01/27 17:02:52 INFO mapreduce.Job:  map 50% reduce 0%\n",
      "18/01/27 17:02:53 INFO mapreduce.Job:  map 100% reduce 0%\n",
      "18/01/27 17:02:57 INFO mapreduce.Job:  map 100% reduce 100%\n",
      "18/01/27 17:02:58 INFO mapreduce.Job: Job job_1516834782618_0004 completed successfully\n",
      "18/01/27 17:02:58 INFO mapreduce.Job: Counters: 51\n",
      "\tFile System Counters\n",
      "\t\tFILE: Number of bytes read=65\n",
      "\t\tFILE: Number of bytes written=351294\n",
      "\t\tFILE: Number of read operations=0\n",
      "\t\tFILE: Number of large read operations=0\n",
      "\t\tFILE: Number of write operations=0\n",
      "\t\tHDFS: Number of bytes read=269\n",
      "\t\tHDFS: Number of bytes written=26\n",
      "\t\tHDFS: Number of read operations=9\n",
      "\t\tHDFS: Number of large read operations=0\n",
      "\t\tHDFS: Number of write operations=2\n",
      "\tJob Counters \n",
      "\t\tLaunched map tasks=2\n",
      "\t\tLaunched reduce tasks=1\n",
      "\t\tData-local map tasks=2\n",
      "\t\tTotal time spent by all maps in occupied slots (ms)=7052\n",
      "\t\tTotal time spent by all reduces in occupied slots (ms)=2765\n",
      "\t\tTotal time spent by all map tasks (ms)=7052\n",
      "\t\tTotal time spent by all reduce tasks (ms)=2765\n",
      "\t\tTotal vcore-seconds taken by all map tasks=7052\n",
      "\t\tTotal vcore-seconds taken by all reduce tasks=2765\n",
      "\t\tTotal megabyte-seconds taken by all map tasks=7221248\n",
      "\t\tTotal megabyte-seconds taken by all reduce tasks=2831360\n",
      "\tMap-Reduce Framework\n",
      "\t\tMap input records=1\n",
      "\t\tMap output records=7\n",
      "\t\tMap output bytes=45\n",
      "\t\tMap output materialized bytes=71\n",
      "\t\tInput split bytes=222\n",
      "\t\tCombine input records=0\n",
      "\t\tCombine output records=0\n",
      "\t\tReduce input groups=4\n",
      "\t\tReduce shuffle bytes=71\n",
      "\t\tReduce input records=7\n",
      "\t\tReduce output records=4\n",
      "\t\tSpilled Records=14\n",
      "\t\tShuffled Maps =2\n",
      "\t\tFailed Shuffles=0\n",
      "\t\tMerged Map outputs=2\n",
      "\t\tGC time elapsed (ms)=68\n",
      "\t\tCPU time spent (ms)=1240\n",
      "\t\tPhysical memory (bytes) snapshot=754573312\n",
      "\t\tVirtual memory (bytes) snapshot=4105457664\n",
      "\t\tTotal committed heap usage (bytes)=552075264\n",
      "\tShuffle Errors\n",
      "\t\tBAD_ID=0\n",
      "\t\tCONNECTION=0\n",
      "\t\tIO_ERROR=0\n",
      "\t\tWRONG_LENGTH=0\n",
      "\t\tWRONG_MAP=0\n",
      "\t\tWRONG_REDUCE=0\n",
      "\tmr_count\n",
      "\t\tmap=2\n",
      "\t\treduce=1\n",
      "\tFile Input Format Counters \n",
      "\t\tBytes Read=47\n",
      "\tFile Output Format Counters \n",
      "\t\tBytes Written=26\n",
      "18/01/27 17:02:58 INFO streaming.StreamJob: Output directory: /user/root/hw3/p32a-output\n"
     ]
    }
   ],
   "source": [
    "# Hadoop command\n",
    "# START STUDENT CODE HW32AHADOOP\n",
    "!hdfs dfs -rm -r {HDFS_DIR}/p32a-output\n",
    "!hadoop jar {JAR_FILE} \\\n",
    "  -files reducer3.2.A.py,mapper3.2.A.py \\\n",
    "  -mapper mapper3.2.A.py \\\n",
    "  -reducer reducer3.2.A.py \\\n",
    "  -input {HDFS_DIR}/p32_input.txt \\\n",
    "  -output {HDFS_DIR}/p32a-output\n",
    "# END STUDENT CODE HW32AHADOOP"
   ]
  },
  {
   "cell_type": "code",
   "execution_count": 46,
   "metadata": {
    "collapsed": true
   },
   "outputs": [],
   "source": [
    "# INSERT SCREENSHOT OF JOB TRACKER UI COUNTERS\n",
    "!hdfs dfs -cat {HDFS_DIR}/p32a-output/part-0000* > p32a_results.txt"
   ]
  },
  {
   "cell_type": "markdown",
   "metadata": {},
   "source": [
    "#### 3.2.A EXPLANATION\n",
    "STUDENT TODO"
   ]
  },
  {
   "cell_type": "markdown",
   "metadata": {},
   "source": [
    "### 3.2.B SOLUTION"
   ]
  },
  {
   "cell_type": "code",
   "execution_count": 50,
   "metadata": {},
   "outputs": [
    {
     "name": "stdout",
     "output_type": "stream",
     "text": [
      "Writing mapper3.2.B.py\n"
     ]
    }
   ],
   "source": [
    "%%writefile mapper3.2.B.py\n",
    "#!/usr/bin/env python\n",
    "# START STUDENT CODE HW32BMAPPER\n",
    "import re\n",
    "import sys\n",
    "\n",
    "# read from standard input\n",
    "sys.stderr.write(\"reporter:counter:mr_count,map,1\\n\")\n",
    "for line in sys.stdin:\n",
    "    line = line.strip()\n",
    "    if line.split(\",\")[0] !=\"Complaint ID\":\n",
    "        issue = line.split(\",\")[3]\n",
    "        # tokenize\n",
    "        words = re.findall(r\"[\\w']+\", issue.lower())\n",
    "        # emit words and count of 1\n",
    "        for word in words:\n",
    "            print '%s\\t%s' % (word, 1)\n",
    "\n",
    "# END STUDENT CODE HW32BMAPPER"
   ]
  },
  {
   "cell_type": "code",
   "execution_count": 51,
   "metadata": {},
   "outputs": [
    {
     "name": "stdout",
     "output_type": "stream",
     "text": [
      "reporter:counter:mr_count,map,1\n",
      "disclosure\t1\n",
      "verification\t1\n",
      "of\t1\n",
      "debt\t1\n",
      "disclosure\t1\n",
      "verification\t1\n",
      "of\t1\n",
      "debt\t1\n"
     ]
    }
   ],
   "source": [
    "!head -n 3 Consumer_Complaints.csv | python mapper3.2.B.py"
   ]
  },
  {
   "cell_type": "code",
   "execution_count": 53,
   "metadata": {},
   "outputs": [
    {
     "name": "stdout",
     "output_type": "stream",
     "text": [
      "Writing reducer3.2.B.py\n"
     ]
    }
   ],
   "source": [
    "%%writefile reducer3.2.B.py\n",
    "#!/usr/bin/env python\n",
    "# START STUDENT CODE HW32BREDUCER\n",
    "import sys\n",
    "\n",
    "# initialize trackers\n",
    "cur_word = None\n",
    "cur_count = 0\n",
    "\n",
    "# read input key-value pairs from standard input\n",
    "sys.stderr.write(\"reporter:counter:mr_count,reduce,1\\n\")\n",
    "for line in sys.stdin:\n",
    "    \n",
    "    key, value = line.split(\"\\t\")\n",
    "    # tally counts from current key\n",
    "    if key == cur_word: \n",
    "        cur_count += int(value)\n",
    "    # OR emit current total and start a new tally \n",
    "    else: \n",
    "        if cur_word:\n",
    "            print '%s\\t%s' % (cur_word, cur_count)\n",
    "        cur_word, cur_count  = key, int(value)\n",
    "\n",
    "# don't forget the last record! \n",
    "print '%s\\t%s' % (cur_word, cur_count)\n",
    "# END STUDENT CODE HW32BREDUCER"
   ]
  },
  {
   "cell_type": "code",
   "execution_count": 55,
   "metadata": {
    "collapsed": true
   },
   "outputs": [
    {
     "name": "stdout",
     "output_type": "stream",
     "text": [
      "rm: `/user/root/hw3/p32b-output': No such file or directory\n",
      "packageJobJar: [] [/usr/jars/hadoop-streaming-2.6.0-cdh5.7.0.jar] /tmp/streamjob7504754535322616215.jar tmpDir=null\n",
      "18/01/27 17:17:02 INFO client.RMProxy: Connecting to ResourceManager at /0.0.0.0:8032\n",
      "18/01/27 17:17:02 INFO client.RMProxy: Connecting to ResourceManager at /0.0.0.0:8032\n",
      "18/01/27 17:17:03 INFO mapred.FileInputFormat: Total input paths to process : 1\n",
      "18/01/27 17:17:03 INFO mapreduce.JobSubmitter: number of splits:2\n",
      "18/01/27 17:17:03 INFO mapreduce.JobSubmitter: Submitting tokens for job: job_1516834782618_0005\n",
      "18/01/27 17:17:03 INFO impl.YarnClientImpl: Submitted application application_1516834782618_0005\n",
      "18/01/27 17:17:03 INFO mapreduce.Job: The url to track the job: http://quickstart.cloudera:8088/proxy/application_1516834782618_0005/\n",
      "18/01/27 17:17:03 INFO mapreduce.Job: Running job: job_1516834782618_0005\n",
      "18/01/27 17:17:09 INFO mapreduce.Job: Job job_1516834782618_0005 running in uber mode : false\n",
      "18/01/27 17:17:09 INFO mapreduce.Job:  map 0% reduce 0%\n",
      "18/01/27 17:17:17 INFO mapreduce.Job:  map 100% reduce 0%\n",
      "18/01/27 17:17:26 INFO mapreduce.Job:  map 100% reduce 100%\n",
      "18/01/27 17:17:27 INFO mapreduce.Job: Job job_1516834782618_0005 completed successfully\n",
      "18/01/27 17:17:28 INFO mapreduce.Job: Counters: 51\n",
      "\tFile System Counters\n",
      "\t\tFILE: Number of bytes read=11233477\n",
      "\t\tFILE: Number of bytes written=22935220\n",
      "\t\tFILE: Number of read operations=0\n",
      "\t\tFILE: Number of large read operations=0\n",
      "\t\tFILE: Number of write operations=0\n",
      "\t\tHDFS: Number of bytes read=50910824\n",
      "\t\tHDFS: Number of bytes written=2091\n",
      "\t\tHDFS: Number of read operations=12\n",
      "\t\tHDFS: Number of large read operations=0\n",
      "\t\tHDFS: Number of write operations=4\n",
      "\tJob Counters \n",
      "\t\tLaunched map tasks=2\n",
      "\t\tLaunched reduce tasks=2\n",
      "\t\tData-local map tasks=2\n",
      "\t\tTotal time spent by all maps in occupied slots (ms)=12151\n",
      "\t\tTotal time spent by all reduces in occupied slots (ms)=12760\n",
      "\t\tTotal time spent by all map tasks (ms)=12151\n",
      "\t\tTotal time spent by all reduce tasks (ms)=12760\n",
      "\t\tTotal vcore-seconds taken by all map tasks=12151\n",
      "\t\tTotal vcore-seconds taken by all reduce tasks=12760\n",
      "\t\tTotal megabyte-seconds taken by all map tasks=12442624\n",
      "\t\tTotal megabyte-seconds taken by all reduce tasks=13066240\n",
      "\tMap-Reduce Framework\n",
      "\t\tMap input records=312913\n",
      "\t\tMap output records=980482\n",
      "\t\tMap output bytes=9272501\n",
      "\t\tMap output materialized bytes=11233489\n",
      "\t\tInput split bytes=242\n",
      "\t\tCombine input records=0\n",
      "\t\tCombine output records=0\n",
      "\t\tReduce input groups=169\n",
      "\t\tReduce shuffle bytes=11233489\n",
      "\t\tReduce input records=980482\n",
      "\t\tReduce output records=169\n",
      "\t\tSpilled Records=1960964\n",
      "\t\tShuffled Maps =4\n",
      "\t\tFailed Shuffles=0\n",
      "\t\tMerged Map outputs=4\n",
      "\t\tGC time elapsed (ms)=144\n",
      "\t\tCPU time spent (ms)=6370\n",
      "\t\tPhysical memory (bytes) snapshot=975790080\n",
      "\t\tVirtual memory (bytes) snapshot=5470785536\n",
      "\t\tTotal committed heap usage (bytes)=789053440\n",
      "\tShuffle Errors\n",
      "\t\tBAD_ID=0\n",
      "\t\tCONNECTION=0\n",
      "\t\tIO_ERROR=0\n",
      "\t\tWRONG_LENGTH=0\n",
      "\t\tWRONG_MAP=0\n",
      "\t\tWRONG_REDUCE=0\n",
      "\tmr_count\n",
      "\t\tmap=2\n",
      "\t\treduce=2\n",
      "\tFile Input Format Counters \n",
      "\t\tBytes Read=50910582\n",
      "\tFile Output Format Counters \n",
      "\t\tBytes Written=2091\n",
      "18/01/27 17:17:28 INFO streaming.StreamJob: Output directory: /user/root/hw3/p32b-output\n"
     ]
    }
   ],
   "source": [
    "# Hadoop command\n",
    "# START STUDENT CODE HW32BHADOOP\n",
    "!hdfs dfs -rm -r {HDFS_DIR}/p32b-output\n",
    "!hadoop jar {JAR_FILE} \\\n",
    "  -files reducer3.2.B.py,mapper3.2.B.py \\\n",
    "  -mapper mapper3.2.B.py \\\n",
    "  -reducer reducer3.2.B.py \\\n",
    "  -input {HDFS_DIR}/Consumer_Complaints.csv \\\n",
    "  -output {HDFS_DIR}/p32b-output \\\n",
    "  -numReduceTasks 2\n",
    "# END STUDENT CODE HW32BHADOOP"
   ]
  },
  {
   "cell_type": "code",
   "execution_count": 56,
   "metadata": {
    "collapsed": true
   },
   "outputs": [],
   "source": [
    "# 3.2.B OUTPUT/ANSWER\n",
    "!hdfs dfs -cat {HDFS_DIR}/p32b-output/part-0000* > p32b_results.txt\n"
   ]
  },
  {
   "cell_type": "code",
   "execution_count": 17,
   "metadata": {
    "collapsed": true
   },
   "outputs": [],
   "source": [
    "# INSERT SCREENSHOT OF JOB TRACKER UI COUNTERS"
   ]
  },
  {
   "cell_type": "markdown",
   "metadata": {},
   "source": [
    "### 3.2.C SOLUTION"
   ]
  },
  {
   "cell_type": "code",
   "execution_count": 62,
   "metadata": {},
   "outputs": [
    {
     "name": "stdout",
     "output_type": "stream",
     "text": [
      "Overwriting mapper3.2.C.py\n"
     ]
    }
   ],
   "source": [
    "%%writefile mapper3.2.C.py\n",
    "#!/usr/bin/env python\n",
    "# START STUDENT CODE HW32CMAPPER\n",
    "import re\n",
    "import sys\n",
    "sys.stderr.write(\"reporter:counter:mr_count,map,1\\n\")\n",
    "# read from standard input\n",
    "for line in sys.stdin:\n",
    "    line = line.strip()\n",
    "    if line.split(\",\")[0] !=\"Complaint ID\":\n",
    "        issue = line.split(\",\")[3]\n",
    "        # tokenize\n",
    "        words = re.findall(r\"[\\w']+\", issue.lower())\n",
    "        # emit words and count of 1\n",
    "        for word in words:\n",
    "            print '%s\\t%s' % (word, 1)\n",
    "\n",
    "# END STUDENT CODE HW32CMAPPER"
   ]
  },
  {
   "cell_type": "code",
   "execution_count": 59,
   "metadata": {},
   "outputs": [
    {
     "name": "stdout",
     "output_type": "stream",
     "text": [
      "Writing combiner3.2.C.py\n"
     ]
    }
   ],
   "source": [
    "%%writefile combiner3.2.C.py\n",
    "#!/usr/bin/env python\n",
    "# START STUDENT CODE HW32CCOMBINER\n",
    "import sys\n",
    "\n",
    "# initialize trackers\n",
    "cur_word = None\n",
    "cur_count = 0\n",
    "\n",
    "# read input key-value pairs from standard input\n",
    "sys.stderr.write(\"reporter:counter:mr_count,combine,1\\n\")\n",
    "for line in sys.stdin:\n",
    "    \n",
    "    key, value = line.split(\"\\t\")\n",
    "    # tally counts from current key\n",
    "    if key == cur_word: \n",
    "        cur_count += int(value)\n",
    "    # OR emit current total and start a new tally \n",
    "    else: \n",
    "        if cur_word:\n",
    "            print '%s\\t%s' % (cur_word, cur_count)\n",
    "        cur_word, cur_count  = key, int(value)\n",
    "\n",
    "# don't forget the last record! \n",
    "print '%s\\t%s' % (cur_word, cur_count)\n",
    "# END STUDENT CODE HW32CCOMBINER"
   ]
  },
  {
   "cell_type": "code",
   "execution_count": 58,
   "metadata": {},
   "outputs": [
    {
     "name": "stdout",
     "output_type": "stream",
     "text": [
      "Writing reducer3.2.C.py\n"
     ]
    }
   ],
   "source": [
    "%%writefile reducer3.2.C.py\n",
    "#!/usr/bin/env python\n",
    "# START STUDENT CODE HW32CREDUCER\n",
    "import sys\n",
    "\n",
    "# initialize trackers\n",
    "cur_word = None\n",
    "cur_count = 0\n",
    "\n",
    "# read input key-value pairs from standard input\n",
    "sys.stderr.write(\"reporter:counter:mr_count,reduce,1\\n\")\n",
    "for line in sys.stdin:\n",
    "    \n",
    "    key, value = line.split(\"\\t\")\n",
    "    # tally counts from current key\n",
    "    if key == cur_word: \n",
    "        cur_count += int(value)\n",
    "    # OR emit current total and start a new tally \n",
    "    else: \n",
    "        if cur_word:\n",
    "            print '%s\\t%s' % (cur_word, cur_count)\n",
    "        cur_word, cur_count  = key, int(value)\n",
    "\n",
    "# don't forget the last record! \n",
    "print '%s\\t%s' % (cur_word, cur_count)\n",
    "# END STUDENT CODE HW32CREDUCER"
   ]
  },
  {
   "cell_type": "code",
   "execution_count": 13,
   "metadata": {
    "collapsed": true
   },
   "outputs": [
    {
     "name": "stdout",
     "output_type": "stream",
     "text": [
      "rm: `/user/root/hw3/p32c-output': No such file or directory\n",
      "packageJobJar: [] [/usr/jars/hadoop-streaming-2.6.0-cdh5.7.0.jar] /tmp/streamjob869738061895285961.jar tmpDir=null\n",
      "18/01/28 09:20:13 INFO client.RMProxy: Connecting to ResourceManager at /0.0.0.0:8032\n",
      "18/01/28 09:20:13 INFO client.RMProxy: Connecting to ResourceManager at /0.0.0.0:8032\n",
      "18/01/28 09:20:13 INFO mapred.FileInputFormat: Total input paths to process : 1\n",
      "18/01/28 09:20:13 INFO mapreduce.JobSubmitter: number of splits:2\n",
      "18/01/28 09:20:14 INFO mapreduce.JobSubmitter: Submitting tokens for job: job_1517130852318_0003\n",
      "18/01/28 09:20:14 INFO impl.YarnClientImpl: Submitted application application_1517130852318_0003\n",
      "18/01/28 09:20:14 INFO mapreduce.Job: The url to track the job: http://quickstart.cloudera:8088/proxy/application_1517130852318_0003/\n",
      "18/01/28 09:20:14 INFO mapreduce.Job: Running job: job_1517130852318_0003\n",
      "18/01/28 09:20:22 INFO mapreduce.Job: Job job_1517130852318_0003 running in uber mode : false\n",
      "18/01/28 09:20:22 INFO mapreduce.Job:  map 0% reduce 0%\n",
      "18/01/28 09:20:31 INFO mapreduce.Job:  map 50% reduce 0%\n",
      "18/01/28 09:20:32 INFO mapreduce.Job:  map 100% reduce 0%\n",
      "18/01/28 09:20:38 INFO mapreduce.Job:  map 100% reduce 100%\n",
      "18/01/28 09:20:38 INFO mapreduce.Job: Job job_1517130852318_0003 completed successfully\n",
      "18/01/28 09:20:38 INFO mapreduce.Job: Counters: 52\n",
      "\tFile System Counters\n",
      "\t\tFILE: Number of bytes read=4438\n",
      "\t\tFILE: Number of bytes written=362026\n",
      "\t\tFILE: Number of read operations=0\n",
      "\t\tFILE: Number of large read operations=0\n",
      "\t\tFILE: Number of write operations=0\n",
      "\t\tHDFS: Number of bytes read=50910824\n",
      "\t\tHDFS: Number of bytes written=2091\n",
      "\t\tHDFS: Number of read operations=9\n",
      "\t\tHDFS: Number of large read operations=0\n",
      "\t\tHDFS: Number of write operations=2\n",
      "\tJob Counters \n",
      "\t\tLaunched map tasks=2\n",
      "\t\tLaunched reduce tasks=1\n",
      "\t\tData-local map tasks=2\n",
      "\t\tTotal time spent by all maps in occupied slots (ms)=15469\n",
      "\t\tTotal time spent by all reduces in occupied slots (ms)=4113\n",
      "\t\tTotal time spent by all map tasks (ms)=15469\n",
      "\t\tTotal time spent by all reduce tasks (ms)=4113\n",
      "\t\tTotal vcore-seconds taken by all map tasks=15469\n",
      "\t\tTotal vcore-seconds taken by all reduce tasks=4113\n",
      "\t\tTotal megabyte-seconds taken by all map tasks=15840256\n",
      "\t\tTotal megabyte-seconds taken by all reduce tasks=4211712\n",
      "\tMap-Reduce Framework\n",
      "\t\tMap input records=312913\n",
      "\t\tMap output records=980482\n",
      "\t\tMap output bytes=9272501\n",
      "\t\tMap output materialized bytes=4444\n",
      "\t\tInput split bytes=242\n",
      "\t\tCombine input records=980482\n",
      "\t\tCombine output records=313\n",
      "\t\tReduce input groups=169\n",
      "\t\tReduce shuffle bytes=4444\n",
      "\t\tReduce input records=313\n",
      "\t\tReduce output records=169\n",
      "\t\tSpilled Records=626\n",
      "\t\tShuffled Maps =2\n",
      "\t\tFailed Shuffles=0\n",
      "\t\tMerged Map outputs=2\n",
      "\t\tGC time elapsed (ms)=107\n",
      "\t\tCPU time spent (ms)=4360\n",
      "\t\tPhysical memory (bytes) snapshot=734248960\n",
      "\t\tVirtual memory (bytes) snapshot=4096430080\n",
      "\t\tTotal committed heap usage (bytes)=619184128\n",
      "\tShuffle Errors\n",
      "\t\tBAD_ID=0\n",
      "\t\tCONNECTION=0\n",
      "\t\tIO_ERROR=0\n",
      "\t\tWRONG_LENGTH=0\n",
      "\t\tWRONG_MAP=0\n",
      "\t\tWRONG_REDUCE=0\n",
      "\tmr_count\n",
      "\t\tcombine=2\n",
      "\t\tmap=2\n",
      "\t\treduce=1\n",
      "\tFile Input Format Counters \n",
      "\t\tBytes Read=50910582\n",
      "\tFile Output Format Counters \n",
      "\t\tBytes Written=2091\n",
      "18/01/28 09:20:38 INFO streaming.StreamJob: Output directory: /user/root/hw3/p32c-output\n"
     ]
    }
   ],
   "source": [
    "# Hadoop command\n",
    "# START STUDENT CODE HW32CHADOOP\n",
    "!hdfs dfs -rm -r {HDFS_DIR}/p32c-output\n",
    "!hadoop jar {JAR_FILE} \\\n",
    "  -files reducer3.2.C.py,mapper3.2.C.py,combiner3.2.C.py \\\n",
    "  -mapper mapper3.2.C.py \\\n",
    "  -reducer reducer3.2.C.py \\\n",
    "  -combiner combiner3.2.C.py \\\n",
    "  -input {HDFS_DIR}/Consumer_Complaints.csv \\\n",
    "  -output {HDFS_DIR}/p32c-output\n",
    "# END STUDENT CODE HW32CHADOOP"
   ]
  },
  {
   "cell_type": "code",
   "execution_count": 14,
   "metadata": {
    "collapsed": true
   },
   "outputs": [],
   "source": [
    "# 3.2.C OUTPUT/ANSWER\n",
    "!hdfs dfs -cat {HDFS_DIR}/p32c-output/part-0000* > p32c_results.txt"
   ]
  },
  {
   "cell_type": "code",
   "execution_count": 23,
   "metadata": {
    "collapsed": true
   },
   "outputs": [],
   "source": [
    "# INSERT SCREENSHOT OF JOB TRACKER UI COUNTERS"
   ]
  },
  {
   "cell_type": "code",
   "execution_count": 15,
   "metadata": {},
   "outputs": [
    {
     "name": "stdout",
     "output_type": "stream",
     "text": [
      "Overwriting frequencies_mapper3.2.Cf.py\n"
     ]
    }
   ],
   "source": [
    "%%writefile frequencies_mapper3.2.Cf.py\n",
    "#!/usr/bin/env python\n",
    "# START STUDENT CODE HW32CFREQMAPPER\n",
    "import re\n",
    "import sys\n",
    "\n",
    "# input here is p32c_results.txt\n",
    "# read from standard input\n",
    "for line in sys.stdin:\n",
    "    line = line.strip()\n",
    "    word, count = line.split(\"\\t\")\n",
    "    print '%s\\t%s\\t' % (word, count)\n",
    "    print '%s\\t%s\\t' % (count, 0)\n",
    "\n",
    "# END STUDENT CODE HW32CFREQMAPPER"
   ]
  },
  {
   "cell_type": "code",
   "execution_count": 16,
   "metadata": {},
   "outputs": [
    {
     "name": "stdout",
     "output_type": "stream",
     "text": [
      "acct\t163\t0.00601653624686\n",
      "advance\t240\t0.00885870367636\n",
      "action\t2505\t0.092462719622\n",
      "a\t3503\t0.12930016241\n",
      "account\t20681\t0.763361878045\n",
      "Total\t27092\t1\n"
     ]
    }
   ],
   "source": [
    "!head -n 5 p32c_results.txt | python frequencies_mapper3.2.Cf.py | sort -k2,2n | python frequencies_reducer3.2.Cf.py"
   ]
  },
  {
   "cell_type": "code",
   "execution_count": 136,
   "metadata": {},
   "outputs": [
    {
     "name": "stdout",
     "output_type": "stream",
     "text": [
      "Overwriting frequencies_reducer3.2.Cf.py\n"
     ]
    }
   ],
   "source": [
    "%%writefile frequencies_reducer3.2.Cf.py\n",
    "#!/usr/bin/env python\n",
    "# START STUDENT CODE HW32CFREQREDUCER\n",
    "import sys, re\n",
    "\n",
    "# initialize trackers\n",
    "cur_word = None\n",
    "cur_count = 0\n",
    "total = 0\n",
    "# read input key-value pairs from standard input\n",
    "\n",
    "for line in sys.stdin:\n",
    "    key, value,_ = line.split(\"\\t\")\n",
    "    if int(value) == 0 and not re.findall(r\"[a-z]+\", key.lower()):\n",
    "        total = total + int(key)\n",
    "    else:\n",
    "        # tally counts from current key\n",
    "        if key == cur_word: \n",
    "            cur_count += int(value)\n",
    "        # OR emit current total and start a new tally \n",
    "        else: \n",
    "            if cur_word:\n",
    "                prob = (cur_count*1.0)/total\n",
    "                print '%s\\t%s\\t%s' % (cur_word, cur_count, prob)\n",
    "            cur_word, cur_count  = key, int(value)\n",
    "\n",
    "# don't forget the last record! \n",
    "prob = (cur_count*1.0)/total\n",
    "print '%s\\t%s\\t%s' % (cur_word, cur_count, prob)\n",
    "\n",
    "print '%s\\t%s\\t%s' % (\"Total\", total, 1)\n",
    "# END STUDENT CODE HW32CFREQREDUCER"
   ]
  },
  {
   "cell_type": "code",
   "execution_count": 17,
   "metadata": {
    "collapsed": true
   },
   "outputs": [
    {
     "name": "stdout",
     "output_type": "stream",
     "text": [
      "rm: `/user/root/hw3/p32cf-output': No such file or directory\n",
      "packageJobJar: [] [/usr/jars/hadoop-streaming-2.6.0-cdh5.7.0.jar] /tmp/streamjob6671211803053534094.jar tmpDir=null\n",
      "18/01/28 09:21:37 INFO client.RMProxy: Connecting to ResourceManager at /0.0.0.0:8032\n",
      "18/01/28 09:21:37 INFO client.RMProxy: Connecting to ResourceManager at /0.0.0.0:8032\n",
      "18/01/28 09:21:38 INFO mapred.FileInputFormat: Total input paths to process : 1\n",
      "18/01/28 09:21:38 INFO mapreduce.JobSubmitter: number of splits:2\n",
      "18/01/28 09:21:38 INFO mapreduce.JobSubmitter: Submitting tokens for job: job_1517130852318_0004\n",
      "18/01/28 09:21:38 INFO impl.YarnClientImpl: Submitted application application_1517130852318_0004\n",
      "18/01/28 09:21:38 INFO mapreduce.Job: The url to track the job: http://quickstart.cloudera:8088/proxy/application_1517130852318_0004/\n",
      "18/01/28 09:21:38 INFO mapreduce.Job: Running job: job_1517130852318_0004\n",
      "18/01/28 09:21:44 INFO mapreduce.Job: Job job_1517130852318_0004 running in uber mode : false\n",
      "18/01/28 09:21:44 INFO mapreduce.Job:  map 0% reduce 0%\n",
      "18/01/28 09:21:51 INFO mapreduce.Job:  map 50% reduce 0%\n",
      "18/01/28 09:21:52 INFO mapreduce.Job:  map 100% reduce 0%\n",
      "18/01/28 09:21:56 INFO mapreduce.Job:  map 100% reduce 100%\n",
      "18/01/28 09:21:56 INFO mapreduce.Job: Job job_1517130852318_0004 completed successfully\n",
      "18/01/28 09:21:56 INFO mapreduce.Job: Counters: 49\n",
      "\tFile System Counters\n",
      "\t\tFILE: Number of bytes read=4258\n",
      "\t\tFILE: Number of bytes written=361581\n",
      "\t\tFILE: Number of read operations=0\n",
      "\t\tFILE: Number of large read operations=0\n",
      "\t\tFILE: Number of write operations=0\n",
      "\t\tHDFS: Number of bytes read=3377\n",
      "\t\tHDFS: Number of bytes written=4985\n",
      "\t\tHDFS: Number of read operations=9\n",
      "\t\tHDFS: Number of large read operations=0\n",
      "\t\tHDFS: Number of write operations=2\n",
      "\tJob Counters \n",
      "\t\tLaunched map tasks=2\n",
      "\t\tLaunched reduce tasks=1\n",
      "\t\tData-local map tasks=2\n",
      "\t\tTotal time spent by all maps in occupied slots (ms)=7628\n",
      "\t\tTotal time spent by all reduces in occupied slots (ms)=3194\n",
      "\t\tTotal time spent by all map tasks (ms)=7628\n",
      "\t\tTotal time spent by all reduce tasks (ms)=3194\n",
      "\t\tTotal vcore-seconds taken by all map tasks=7628\n",
      "\t\tTotal vcore-seconds taken by all reduce tasks=3194\n",
      "\t\tTotal megabyte-seconds taken by all map tasks=7811072\n",
      "\t\tTotal megabyte-seconds taken by all reduce tasks=3270656\n",
      "\tMap-Reduce Framework\n",
      "\t\tMap input records=169\n",
      "\t\tMap output records=338\n",
      "\t\tMap output bytes=3576\n",
      "\t\tMap output materialized bytes=4264\n",
      "\t\tInput split bytes=240\n",
      "\t\tCombine input records=0\n",
      "\t\tCombine output records=0\n",
      "\t\tReduce input groups=338\n",
      "\t\tReduce shuffle bytes=4264\n",
      "\t\tReduce input records=338\n",
      "\t\tReduce output records=170\n",
      "\t\tSpilled Records=676\n",
      "\t\tShuffled Maps =2\n",
      "\t\tFailed Shuffles=0\n",
      "\t\tMerged Map outputs=2\n",
      "\t\tGC time elapsed (ms)=62\n",
      "\t\tCPU time spent (ms)=1580\n",
      "\t\tPhysical memory (bytes) snapshot=749142016\n",
      "\t\tVirtual memory (bytes) snapshot=4110639104\n",
      "\t\tTotal committed heap usage (bytes)=550502400\n",
      "\tShuffle Errors\n",
      "\t\tBAD_ID=0\n",
      "\t\tCONNECTION=0\n",
      "\t\tIO_ERROR=0\n",
      "\t\tWRONG_LENGTH=0\n",
      "\t\tWRONG_MAP=0\n",
      "\t\tWRONG_REDUCE=0\n",
      "\tFile Input Format Counters \n",
      "\t\tBytes Read=3137\n",
      "\tFile Output Format Counters \n",
      "\t\tBytes Written=4985\n",
      "18/01/28 09:21:56 INFO streaming.StreamJob: Output directory: /user/root/hw3/p32cf-output\n"
     ]
    }
   ],
   "source": [
    "# Hadoop command\n",
    "# START STUDENT CODE HW32CFREQHADOOP\n",
    "!hdfs dfs -rm -r {HDFS_DIR}/p32cf-output\n",
    "!hadoop jar {JAR_FILE} \\\n",
    "  -D stream.num.map.output.key.fields=2 \\\n",
    "  -D mapreduce.job.output.key.comparator.class=org.apache.hadoop.mapred.lib.KeyFieldBasedComparator \\\n",
    "  -D mapreduce.partition.keycomparator.options=\"-k2,2n\" \\\n",
    "  -files frequencies_reducer3.2.Cf.py,frequencies_mapper3.2.Cf.py \\\n",
    "  -mapper frequencies_mapper3.2.Cf.py \\\n",
    "  -reducer frequencies_reducer3.2.Cf.py \\\n",
    "  -input {HDFS_DIR}/p32c-output \\\n",
    "  -output {HDFS_DIR}/p32cf-output\n",
    "# END STUDENT CODE HW32CFREQHADOOP"
   ]
  },
  {
   "cell_type": "code",
   "execution_count": 18,
   "metadata": {
    "collapsed": true
   },
   "outputs": [],
   "source": [
    "# 3.2.C OUTPUT/ANSWER \n",
    "!hdfs dfs -cat {HDFS_DIR}/p32cf-output/part-0000* > p32cf_results.txt"
   ]
  },
  {
   "cell_type": "code",
   "execution_count": 19,
   "metadata": {},
   "outputs": [
    {
     "name": "stdout",
     "output_type": "stream",
     "text": [
      "or\t22533\t0.0229815539704\n",
      "on\t29069\t0.0296476630882\n",
      "information\t29069\t0.0296476630882\n",
      "incorrect\t29133\t0.0297129371064\n",
      "report\t34903\t0.0355977978178\n",
      "servicing\t36767\t0.0374989036005\n",
      "credit\t55251\t0.0563508560076\n",
      "modification\t70487\t0.0718901519865\n",
      "loan\t119630\t0.122011418874\n",
      "Total\t980482\t1\n"
     ]
    }
   ],
   "source": [
    "!tail -n 10 p32cf_results.txt"
   ]
  },
  {
   "cell_type": "code",
   "execution_count": 20,
   "metadata": {},
   "outputs": [
    {
     "name": "stdout",
     "output_type": "stream",
     "text": [
      "disclosures\t64\t6.5274018289e-05\n",
      "missing\t64\t6.5274018289e-05\n",
      "day\t71\t7.24133640393e-05\n",
      "amt\t71\t7.24133640393e-05\n",
      "convenience\t75\t7.64929901824e-05\n",
      "checks\t75\t7.64929901824e-05\n",
      "credited\t92\t9.38314012904e-05\n",
      "payment\t92\t9.38314012904e-05\n",
      "amount\t98\t9.9950840505e-05\n",
      "apply\t118\t0.00012034897122\n"
     ]
    }
   ],
   "source": [
    "!head -n 10 p32cf_results.txt"
   ]
  },
  {
   "cell_type": "markdown",
   "metadata": {},
   "source": [
    "<a name=\"3.2.1\"></a>\n",
    "### 3.2.1  \n",
    "Using **2 reducers**: What are the top **50 most frequent terms** in your word count analysis? \n",
    "\n",
    "Present the top 50 terms and their frequency and their relative frequency. Present the top 50 terms and their frequency and their relative frequency. If there are ties please sort the tokens in alphanumeric/string order. Present bottom 10 tokens (least frequent items). Please **use a combiner.**"
   ]
  },
  {
   "cell_type": "markdown",
   "metadata": {},
   "source": [
    "#### START STUDENT CODE HW321 (INSERT CELLS BELOW AS NEEDED)"
   ]
  },
  {
   "cell_type": "code",
   "execution_count": 60,
   "metadata": {},
   "outputs": [
    {
     "name": "stdout",
     "output_type": "stream",
     "text": [
      "Overwriting frequencies_mapper3.2.Cfr.py\n"
     ]
    }
   ],
   "source": [
    "%%writefile frequencies_mapper3.2.Cfr.py\n",
    "#!/usr/bin/env python\n",
    "# START STUDENT CODE HW32CFREQMAPPER\n",
    "import re\n",
    "import sys\n",
    "\n",
    "# input here is p32c_results.txt\n",
    "# read from standard input\n",
    "for line in sys.stdin:\n",
    "    line = line.strip()\n",
    "    word, count = line.split(\"\\t\")\n",
    "    \n",
    "    if int(count) < 3000:\n",
    "        print '%s\\t%s\\t%s' % (\"A\",word, count)\n",
    "    else:\n",
    "        print '%s\\t%s\\t%s' % (\"B\",word, count)\n",
    "    \n",
    "    print '%s\\t%s\\t%s' % (\"A\",count, 0)\n",
    "    print '%s\\t%s\\t%s' % (\"B\",count, 0)\n",
    "# END STUDENT CODE HW32CFREQMAPPER"
   ]
  },
  {
   "cell_type": "code",
   "execution_count": 80,
   "metadata": {},
   "outputs": [
    {
     "name": "stdout",
     "output_type": "stream",
     "text": [
      "Overwriting frequencies_reducer3.2.Cfr.py\n"
     ]
    }
   ],
   "source": [
    "%%writefile frequencies_reducer3.2.Cfr.py\n",
    "#!/usr/bin/env python\n",
    "# START STUDENT CODE HW32CFREQREDUCER\n",
    "import sys, re\n",
    "import logging\n",
    "# initialize trackers\n",
    "cur_word = None\n",
    "cur_count = 0\n",
    "total = 0\n",
    "# read input key-value pairs from standard input\n",
    "\n",
    "for line in sys.stdin:\n",
    "#     logging.warning( line.split(\"\\t\"))\n",
    "    arr = line.split(\"\\t\")\n",
    "    extra, key, value = arr[0], arr[1], arr[2]\n",
    "    if int(value) == 0 and not re.findall(r\"[a-z]+\", key.lower()):\n",
    "        total = total + int(key)\n",
    "    else:\n",
    "        # tally counts from current key\n",
    "        if key == cur_word: \n",
    "            cur_count += int(value)\n",
    "        # OR emit current total and start a new tally \n",
    "        else: \n",
    "            if cur_word:\n",
    "                prob = (cur_count*1.0)/total\n",
    "                print '%s\\t%s\\t%s\\t%s' % (extra, cur_word, cur_count, prob)\n",
    "            cur_word, cur_count  = key, int(value)\n",
    "\n",
    "# don't forget the last record! \n",
    "prob = (cur_count*1.0)/total\n",
    "print '%s\\t%s\\t%s\\t%s' % (extra, cur_word, cur_count, prob)\n",
    "\n",
    "# END STUDENT CODE HW32CFREQREDUCER"
   ]
  },
  {
   "cell_type": "code",
   "execution_count": 81,
   "metadata": {},
   "outputs": [
    {
     "name": "stdout",
     "output_type": "stream",
     "text": [
      "A\tacct\t163\t0.00300826812343\n",
      "A\tadvance\t240\t0.00442935183818\n",
      "B\taction\t2505\t0.046231359811\n",
      "B\ta\t3503\t0.0646500812048\n",
      "B\taccount\t20681\t0.381680939023\n"
     ]
    }
   ],
   "source": [
    "!head -n 5 p32c_results.txt | python frequencies_mapper3.2.Cfr.py | sort -k3,3n | python frequencies_reducer3.2.Cfr.py"
   ]
  },
  {
   "cell_type": "code",
   "execution_count": 22,
   "metadata": {},
   "outputs": [
    {
     "name": "stdout",
     "output_type": "stream",
     "text": [
      "a\t3503\n",
      "account\t20681\n",
      "acct\t163\n",
      "action\t2505\n",
      "advance\t240\n"
     ]
    }
   ],
   "source": [
    "!head -n 5 p32c_results.txt"
   ]
  },
  {
   "cell_type": "code",
   "execution_count": 91,
   "metadata": {},
   "outputs": [
    {
     "name": "stdout",
     "output_type": "stream",
     "text": [
      "Deleted /user/root/hw3/p32cfr-output\n",
      "packageJobJar: [] [/usr/jars/hadoop-streaming-2.6.0-cdh5.7.0.jar] /tmp/streamjob4464903359723209714.jar tmpDir=null\n",
      "18/01/28 10:08:03 INFO client.RMProxy: Connecting to ResourceManager at /0.0.0.0:8032\n",
      "18/01/28 10:08:03 INFO client.RMProxy: Connecting to ResourceManager at /0.0.0.0:8032\n",
      "18/01/28 10:08:03 INFO mapred.FileInputFormat: Total input paths to process : 1\n",
      "18/01/28 10:08:03 INFO mapreduce.JobSubmitter: number of splits:2\n",
      "18/01/28 10:08:04 INFO mapreduce.JobSubmitter: Submitting tokens for job: job_1517130852318_0018\n",
      "18/01/28 10:08:04 INFO impl.YarnClientImpl: Submitted application application_1517130852318_0018\n",
      "18/01/28 10:08:04 INFO mapreduce.Job: The url to track the job: http://quickstart.cloudera:8088/proxy/application_1517130852318_0018/\n",
      "18/01/28 10:08:04 INFO mapreduce.Job: Running job: job_1517130852318_0018\n",
      "18/01/28 10:08:11 INFO mapreduce.Job: Job job_1517130852318_0018 running in uber mode : false\n",
      "18/01/28 10:08:11 INFO mapreduce.Job:  map 0% reduce 0%\n",
      "18/01/28 10:08:17 INFO mapreduce.Job:  map 50% reduce 0%\n",
      "18/01/28 10:08:18 INFO mapreduce.Job:  map 100% reduce 0%\n",
      "18/01/28 10:08:26 INFO mapreduce.Job:  map 100% reduce 100%\n",
      "18/01/28 10:08:26 INFO mapreduce.Job: Job job_1517130852318_0018 completed successfully\n",
      "18/01/28 10:08:27 INFO mapreduce.Job: Counters: 49\n",
      "\tFile System Counters\n",
      "\t\tFILE: Number of bytes read=6932\n",
      "\t\tFILE: Number of bytes written=486650\n",
      "\t\tFILE: Number of read operations=0\n",
      "\t\tFILE: Number of large read operations=0\n",
      "\t\tFILE: Number of write operations=0\n",
      "\t\tHDFS: Number of bytes read=3377\n",
      "\t\tHDFS: Number of bytes written=5308\n",
      "\t\tHDFS: Number of read operations=12\n",
      "\t\tHDFS: Number of large read operations=0\n",
      "\t\tHDFS: Number of write operations=4\n",
      "\tJob Counters \n",
      "\t\tLaunched map tasks=2\n",
      "\t\tLaunched reduce tasks=2\n",
      "\t\tData-local map tasks=2\n",
      "\t\tTotal time spent by all maps in occupied slots (ms)=9797\n",
      "\t\tTotal time spent by all reduces in occupied slots (ms)=10000\n",
      "\t\tTotal time spent by all map tasks (ms)=9797\n",
      "\t\tTotal time spent by all reduce tasks (ms)=10000\n",
      "\t\tTotal vcore-seconds taken by all map tasks=9797\n",
      "\t\tTotal vcore-seconds taken by all reduce tasks=10000\n",
      "\t\tTotal megabyte-seconds taken by all map tasks=10032128\n",
      "\t\tTotal megabyte-seconds taken by all reduce tasks=10240000\n",
      "\tMap-Reduce Framework\n",
      "\t\tMap input records=169\n",
      "\t\tMap output records=507\n",
      "\t\tMap output bytes=5906\n",
      "\t\tMap output materialized bytes=6944\n",
      "\t\tInput split bytes=240\n",
      "\t\tCombine input records=0\n",
      "\t\tCombine output records=0\n",
      "\t\tReduce input groups=395\n",
      "\t\tReduce shuffle bytes=6944\n",
      "\t\tReduce input records=507\n",
      "\t\tReduce output records=169\n",
      "\t\tSpilled Records=1014\n",
      "\t\tShuffled Maps =4\n",
      "\t\tFailed Shuffles=0\n",
      "\t\tMerged Map outputs=4\n",
      "\t\tGC time elapsed (ms)=96\n",
      "\t\tCPU time spent (ms)=2330\n",
      "\t\tPhysical memory (bytes) snapshot=860385280\n",
      "\t\tVirtual memory (bytes) snapshot=5467664384\n",
      "\t\tTotal committed heap usage (bytes)=606601216\n",
      "\tShuffle Errors\n",
      "\t\tBAD_ID=0\n",
      "\t\tCONNECTION=0\n",
      "\t\tIO_ERROR=0\n",
      "\t\tWRONG_LENGTH=0\n",
      "\t\tWRONG_MAP=0\n",
      "\t\tWRONG_REDUCE=0\n",
      "\tFile Input Format Counters \n",
      "\t\tBytes Read=3137\n",
      "\tFile Output Format Counters \n",
      "\t\tBytes Written=5308\n",
      "18/01/28 10:08:27 INFO streaming.StreamJob: Output directory: /user/root/hw3/p32cfr-output\n"
     ]
    }
   ],
   "source": [
    "# Hadoop command\n",
    "# START STUDENT CODE HW32CFREQHADOOP\n",
    "!hdfs dfs -rm -r {HDFS_DIR}/p32cfr-output\n",
    "!hadoop jar {JAR_FILE} \\\n",
    "  -D stream.num.map.output.key.fields=3 \\\n",
    "  -D stream.map.output.field.separator=\"\\t\" \\\n",
    "  -D mapreduce.partition.keypartitioner.options=\"-k1,1\" \\\n",
    "  -D mapreduce.job.output.key.comparator.class=org.apache.hadoop.mapred.lib.KeyFieldBasedComparator \\\n",
    "  -D mapreduce.partition.keycomparator.options=\"-k1,1 -k3,3n -k2,2\" \\\n",
    "  -files frequencies_reducer3.2.Cfr.py,frequencies_mapper3.2.Cfr.py \\\n",
    "  -mapper frequencies_mapper3.2.Cfr.py \\\n",
    "  -reducer frequencies_reducer3.2.Cfr.py \\\n",
    "  -input {HDFS_DIR}/p32c-output \\\n",
    "  -output {HDFS_DIR}/p32cfr-output \\\n",
    "  -numReduceTasks 2 \\\n",
    "  -partitioner org.apache.hadoop.mapred.lib.KeyFieldBasedPartitioner\n",
    "# END STUDENT CODE HW32CFREQHADOOP"
   ]
  },
  {
   "cell_type": "code",
   "execution_count": 83,
   "metadata": {},
   "outputs": [
    {
     "name": "stdout",
     "output_type": "stream",
     "text": [
      "Found 3 items\n",
      "-rw-r--r--   1 root supergroup          0 2018-01-28 10:05 /user/root/hw3/p32cfr-output/_SUCCESS\n",
      "-rw-r--r--   1 root supergroup       2309 2018-01-28 10:05 /user/root/hw3/p32cfr-output/part-00000\n",
      "-rw-r--r--   1 root supergroup       2999 2018-01-28 10:05 /user/root/hw3/p32cfr-output/part-00001\n"
     ]
    }
   ],
   "source": [
    "!hdfs dfs -ls {HDFS_DIR}/p32cfr-output/"
   ]
  },
  {
   "cell_type": "code",
   "execution_count": 84,
   "metadata": {},
   "outputs": [
    {
     "name": "stdout",
     "output_type": "stream",
     "text": [
      "B\tcontact\t3053\t0.00311377465369\n",
      "B\tfee\t3198\t0.00326166110138\n",
      "B\tmaking\t3226\t0.00329021848438\n",
      "B\tpayments\t3226\t0.00329021848438\n",
      "B\treceiving\t3226\t0.00329021848438\n",
      "B\tembezzlement\t3276\t0.00334121381117\n",
      "B\ttheft\t3276\t0.00334121381117\n",
      "B\tapr\t3431\t0.00349929932421\n",
      "B\trate\t3431\t0.00349929932421\n",
      "B\ta\t3503\t0.00357273259479\n",
      "B\ttaking\t3747\t0.00382158978951\n",
      "B\tare\t3821\t0.00389706287316\n",
      "B\tpay\t3821\t0.00389706287316\n",
      "B\tyou\t3821\t0.00389706287316\n",
      "B\tfraud\t3842\t0.00391848091041\n",
      "B\trepaying\t3844\t0.00392052072348\n",
      "B\tyour\t3844\t0.00392052072348\n",
      "B\twhen\t4095\t0.00417651726396\n",
      "B\tprotection\t4139\t0.00422139315153\n",
      "B\tinterest\t4238\t0.00432236389857\n",
      "B\timproper\t4309\t0.00439477726261\n",
      "B\tcosts\t4350\t0.00443659343058\n",
      "B\tsettlement\t4350\t0.00443659343058\n",
      "B\tget\t4357\t0.00444373277633\n",
      "B\tscore\t4357\t0.00444373277633\n",
      "B\tcard\t4405\t0.00449268829005\n",
      "B\tidentity\t4729\t0.00482313800763\n",
      "B\tcompany's\t4858\t0.00495470595075\n",
      "B\tinvestigation\t4858\t0.00495470595075\n",
      "B\tmanaging\t5006\t0.00510565211804\n",
      "B\tdisclosure\t5214\t0.00531779267748\n",
      "B\tverification\t5214\t0.00531779267748\n",
      "B\tprocess\t5505\t0.00561458547939\n",
      "B\tbeing\t5663\t0.00577573071204\n",
      "B\tby\t5663\t0.00577573071204\n",
      "B\tcaused\t5663\t0.00577573071204\n",
      "B\tfunds\t5663\t0.00577573071204\n",
      "B\tlow\t5663\t0.00577573071204\n",
      "B\tthe\t6248\t0.00637237603546\n",
      "B\tlease\t6337\t0.00646314771714\n",
      "B\treporting\t6559\t0.00668956696808\n",
      "B\tcommunication\t6920\t0.00705775322749\n",
      "B\ttactics\t6920\t0.00705775322749\n",
      "B\tdisputes\t6938\t0.00707611154514\n",
      "B\tother\t7886\t0.00804298294104\n",
      "B\tbilling\t8158\t0.00832039751877\n",
      "B\tunable\t8178\t0.00834079564949\n",
      "B\tto\t8401\t0.00856823480696\n",
      "B\tapplication\t8868\t0.00904453115916\n",
      "B\tproblems\t9484\t0.0096727935852\n",
      "B\tdeposits\t10555\t0.010765113485\n",
      "B\twithdrawals\t10555\t0.010765113485\n",
      "B\tmy\t10731\t0.0109446170353\n",
      "B\tof\t10885\t0.0111016826418\n",
      "B\tattempts\t11848\t0.0120838526357\n",
      "B\tcollect\t11848\t0.0120838526357\n",
      "B\tcont'd\t11848\t0.0120838526357\n",
      "B\towed\t11848\t0.0120838526357\n",
      "B\tnot\t12353\t0.0125989054363\n",
      "B\tclub\t12545\t0.0127947274912\n",
      "B\thealth\t12545\t0.0127947274912\n",
      "B\topening\t16205\t0.0165275854121\n",
      "B\tand\t16448\t0.0167754227003\n",
      "B\tdebt\t19309\t0.0196933752991\n",
      "B\taccount\t20681\t0.0210926870662\n",
      "B\tor\t22533\t0.0229815539704\n",
      "B\tinformation\t29069\t0.0296476630882\n",
      "B\ton\t29069\t0.0296476630882\n",
      "B\tincorrect\t29133\t0.0297129371064\n",
      "B\treport\t34903\t0.0355977978178\n",
      "B\tservicing\t36767\t0.0374989036005\n",
      "B\tcredit\t55251\t0.0563508560076\n",
      "B\tmodification\t70487\t0.0718901519865\n",
      "B\tloan\t119630\t0.122011418874\n"
     ]
    }
   ],
   "source": [
    "!hdfs dfs -cat {HDFS_DIR}/p32cfr-output/part-00000"
   ]
  },
  {
   "cell_type": "code",
   "execution_count": 85,
   "metadata": {},
   "outputs": [
    {
     "name": "stdout",
     "output_type": "stream",
     "text": [
      "A\tdisclosures\t64\t6.5274018289e-05\n",
      "A\tmissing\t64\t6.5274018289e-05\n",
      "A\tamt\t71\t7.24133640393e-05\n",
      "A\tday\t71\t7.24133640393e-05\n",
      "A\tchecks\t75\t7.64929901824e-05\n",
      "A\tconvenience\t75\t7.64929901824e-05\n",
      "A\tcredited\t92\t9.38314012904e-05\n",
      "A\tpayment\t92\t9.38314012904e-05\n",
      "A\tamount\t98\t9.9950840505e-05\n",
      "A\tapply\t118\t0.00012034897122\n",
      "A\toverlimit\t127\t0.000129528130042\n",
      "A\tcharges\t131\t0.000133607756185\n",
      "A\tstop\t131\t0.000133607756185\n",
      "A\tapplied\t139\t0.000141767008471\n",
      "A\tdid\t139\t0.000141767008471\n",
      "A\treceive\t139\t0.000141767008471\n",
      "A\tsale\t139\t0.000141767008471\n",
      "A\tacct\t163\t0.00016624476533\n",
      "A\tarbitration\t168\t0.000171344298009\n",
      "A\twrong\t169\t0.000172364204544\n",
      "A\tbank\t202\t0.000206021120225\n",
      "A\treceived\t216\t0.000220299811725\n",
      "A\tbankruptcy\t222\t0.00022641925094\n",
      "A\tadvance\t240\t0.000244777568584\n",
      "A\tcash\t240\t0.000244777568584\n",
      "A\tprivacy\t240\t0.000244777568584\n",
      "A\tdelay\t243\t0.000247837288191\n",
      "A\tprocessing\t243\t0.000247837288191\n",
      "A\tavailable\t274\t0.0002794543908\n",
      "A\tpromised\t274\t0.0002794543908\n",
      "A\twas\t274\t0.0002794543908\n",
      "A\tgetting\t291\t0.000296792801908\n",
      "A\tchanges\t350\t0.000356967287518\n",
      "A\tforbearance\t350\t0.000356967287518\n",
      "A\tplans\t350\t0.000356967287518\n",
      "A\tterms\t350\t0.000356967287518\n",
      "A\tworkout\t350\t0.000356967287518\n",
      "A\tmoney\t413\t0.000421221399271\n",
      "A\tissues\t538\t0.000548709716242\n",
      "A\tscam\t566\t0.000577267099243\n",
      "A\tbalance\t597\t0.000608884201852\n",
      "A\ttransfer\t597\t0.000608884201852\n",
      "A\tissuance\t640\t0.00065274018289\n",
      "A\tunsolicited\t640\t0.00065274018289\n",
      "A\tshopping\t672\t0.000685377192034\n",
      "A\texpect\t807\t0.000823064574362\n",
      "A\tfees\t807\t0.000823064574362\n",
      "A\tdispute\t904\t0.000921995508332\n",
      "A\tdidn't\t925\t0.000943413545583\n",
      "A\ti\t925\t0.000943413545583\n",
      "A\tfor\t929\t0.000947493171726\n",
      "A\tcharged\t976\t0.000995428778907\n",
      "A\trewards\t1002\t0.00102194634884\n",
      "A\tpractices\t1003\t0.00102296625537\n",
      "A\tdelinquent\t1061\t0.00108212083445\n",
      "A\tissue\t1098\t0.00111985737627\n",
      "A\tdecrease\t1149\t0.00117187260959\n",
      "A\tincrease\t1149\t0.00117187260959\n",
      "A\tpayoff\t1155\t0.00117799204881\n",
      "A\tadvertising\t1193\t0.00121674849717\n",
      "A\tmarketing\t1193\t0.00121674849717\n",
      "A\tstatement\t1220\t0.00124428597363\n",
      "A\tout\t1242\t0.00126672391742\n",
      "A\trelations\t1367\t0.00139421223439\n",
      "A\tmonitoring\t1453\t0.00148192419647\n",
      "A\tuse\t1477\t0.00150640195332\n",
      "A\ttransaction\t1485\t0.00151456120561\n",
      "A\tdetermination\t1490\t0.00151966073829\n",
      "A\tservice\t1518\t0.00154821812129\n",
      "A\trepay\t1647\t0.00167978606441\n",
      "A\tline\t1732\t0.00176647811995\n",
      "A\tlate\t1797\t0.00183277204477\n",
      "A\tcollection\t1907\t0.0019449617637\n",
      "A\tdealing\t1944\t0.00198269830553\n",
      "A\tservicer\t1944\t0.00198269830553\n",
      "A\twith\t1944\t0.00198269830553\n",
      "A\tcan't\t1999\t0.00203879316499\n",
      "A\tlender\t2165\t0.00220809764993\n",
      "A\tatm\t2422\t0.00247021362962\n",
      "A\tdebit\t2422\t0.00247021362962\n",
      "A\tusing\t2422\t0.00247021362962\n",
      "A\taction\t2505\t0.00255486587209\n",
      "A\tan\t2505\t0.00255486587209\n",
      "A\tillegal\t2505\t0.00255486587209\n",
      "A\tthreatening\t2505\t0.00255486587209\n",
      "A\tfalse\t2508\t0.0025579255917\n",
      "A\trepresentation\t2508\t0.0025579255917\n",
      "A\tstatements\t2508\t0.0025579255917\n",
      "A\tcustomer\t2734\t0.00278842446878\n",
      "A\tdecision\t2774\t0.00282922073021\n",
      "A\tunderwriting\t2774\t0.00282922073021\n",
      "A\tcancelling\t2795\t0.00285063876746\n",
      "A\tclosing\t2795\t0.00285063876746\n",
      "A\tsharing\t2832\t0.00288837530929\n",
      "A\tinfo\t2896\t0.00295364932758\n"
     ]
    }
   ],
   "source": [
    "!hdfs dfs -cat {HDFS_DIR}/p32cfr-output/part-00001"
   ]
  },
  {
   "cell_type": "code",
   "execution_count": 89,
   "metadata": {},
   "outputs": [],
   "source": [
    "# The two partitions have to be ordered by looking at the extra field in the first line: all A rows need to go before all B rows\n",
    "!hdfs dfs -cat {HDFS_DIR}/p32cfr-output/part-00001 {HDFS_DIR}/p32cfr-output/part-00000 > p32cfr_results.txt"
   ]
  },
  {
   "cell_type": "code",
   "execution_count": 92,
   "metadata": {},
   "outputs": [
    {
     "name": "stdout",
     "output_type": "stream",
     "text": [
      "B\taccount\t20681\t0.0210926870662\n",
      "B\tor\t22533\t0.0229815539704\n",
      "B\tinformation\t29069\t0.0296476630882\n",
      "B\ton\t29069\t0.0296476630882\n",
      "B\tincorrect\t29133\t0.0297129371064\n",
      "B\treport\t34903\t0.0355977978178\n",
      "B\tservicing\t36767\t0.0374989036005\n",
      "B\tcredit\t55251\t0.0563508560076\n",
      "B\tmodification\t70487\t0.0718901519865\n",
      "B\tloan\t119630\t0.122011418874\n"
     ]
    }
   ],
   "source": [
    "!tail -n 10 p32cfr_results.txt"
   ]
  },
  {
   "cell_type": "code",
   "execution_count": 93,
   "metadata": {},
   "outputs": [
    {
     "name": "stdout",
     "output_type": "stream",
     "text": [
      "A\tdisclosures\t64\t6.5274018289e-05\n",
      "A\tmissing\t64\t6.5274018289e-05\n",
      "A\tamt\t71\t7.24133640393e-05\n",
      "A\tday\t71\t7.24133640393e-05\n",
      "A\tchecks\t75\t7.64929901824e-05\n",
      "A\tconvenience\t75\t7.64929901824e-05\n",
      "A\tcredited\t92\t9.38314012904e-05\n",
      "A\tpayment\t92\t9.38314012904e-05\n",
      "A\tamount\t98\t9.9950840505e-05\n",
      "A\tapply\t118\t0.00012034897122\n"
     ]
    }
   ],
   "source": [
    "!head -n 10 p32cfr_results.txt"
   ]
  },
  {
   "cell_type": "markdown",
   "metadata": {},
   "source": [
    "#### END STUDENT CODE HW321"
   ]
  },
  {
   "cell_type": "markdown",
   "metadata": {},
   "source": [
    "## HW3.3. Shopping Cart Analysis\n",
    "Product Recommendations: \n",
    ">The action or practice of selling additional products or services to existing customers is called cross-selling. Giving a product recommendation is one example of cross-selling that are frequently used by online retailers. One simple method to give product recommendations is to recommend products that are frequently browsed together by the customers.\n",
    "\t\n",
    "For this homework question you will perform some exploratory data analysis on the online browsing behavior dataset `ProductPurchaseData.txt` in preparation for performing product recommendations later. Use Hadoop MapReduce for your EDA. Consider answering the following questions: \n",
    "* How many unique items are available from this supplier?\n",
    "* What is the largest basket?\n",
    "* What are the top 50 most frequently purchased items? their frequency? their relative frequency? (break ties by sorting in alphabetical order\n",
    "\n",
    "NOTE: Use a single reducer for all jobs in this section."
   ]
  },
  {
   "cell_type": "markdown",
   "metadata": {},
   "source": [
    "#### START STUDENT CODE HW33 (INSERT CELLS BELOW AS NEEDED)"
   ]
  },
  {
   "cell_type": "markdown",
   "metadata": {},
   "source": [
    "##### Frequencies, Relative Frequencies and Top 50 items"
   ]
  },
  {
   "cell_type": "code",
   "execution_count": 106,
   "metadata": {},
   "outputs": [
    {
     "name": "stdout",
     "output_type": "stream",
     "text": [
      "Overwriting mapper3.3f.py\n"
     ]
    }
   ],
   "source": [
    "%%writefile mapper3.3f.py\n",
    "#!/usr/bin/env python\n",
    "# START STUDENT CODE HW32CFREQMAPPER\n",
    "import re\n",
    "import sys\n",
    "\n",
    "# input here is p32c_results.txt\n",
    "# read from standard input\n",
    "for line in sys.stdin:\n",
    "    line = line.strip().lower()\n",
    "    words = line.split()\n",
    "    for word in words:\n",
    "        if word[0]< \"f\":\n",
    "            print '%s\\t%s\\t%s' % (\"A\",word, 1)\n",
    "        else:\n",
    "            print '%s\\t%s\\t%s' % (\"B\",word, 1)\n",
    "    \n",
    "    print '%s\\t%s\\t%s' % (\"A\",1, 0)\n",
    "    print '%s\\t%s\\t%s' % (\"B\",1, 0)\n",
    "# END STUDENT CODE HW32CFREQMAPPER"
   ]
  },
  {
   "cell_type": "code",
   "execution_count": 112,
   "metadata": {},
   "outputs": [
    {
     "name": "stdout",
     "output_type": "stream",
     "text": [
      "Overwriting reducer3.3f.py\n"
     ]
    }
   ],
   "source": [
    "%%writefile reducer3.3f.py\n",
    "#!/usr/bin/env python\n",
    "# START STUDENT CODE HW32CFREQREDUCER\n",
    "import sys, re\n",
    "import logging\n",
    "# initialize trackers\n",
    "cur_word = None\n",
    "cur_count = 0\n",
    "total = 0\n",
    "# read input key-value pairs from standard input\n",
    "\n",
    "for line in sys.stdin:\n",
    "#     logging.warning( line.split(\"\\t\"))\n",
    "    arr = line.split(\"\\t\")\n",
    "    extra, key, value = arr[0], arr[1], arr[2]\n",
    "    if int(value) == 0 and not re.findall(r\"[a-z]+\", key.lower()):\n",
    "        total = total + int(key)\n",
    "    else:\n",
    "        # tally counts from current key\n",
    "        if key == cur_word: \n",
    "            cur_count += int(value)\n",
    "        # OR emit current total and start a new tally \n",
    "        else: \n",
    "            if cur_word:\n",
    "                prob = (cur_count*1.0)/total\n",
    "                print '%s\\t%s\\t%s' % (cur_word, cur_count, prob)\n",
    "            cur_word, cur_count  = key, int(value)\n",
    "\n",
    "# don't forget the last record! \n",
    "prob = (cur_count*1.0)/total\n",
    "print '%s\\t%s\\t%s' % (cur_word, cur_count, prob)\n",
    "\n",
    "# END STUDENT CODE HW32CFREQREDUCER"
   ]
  },
  {
   "cell_type": "code",
   "execution_count": 109,
   "metadata": {},
   "outputs": [
    {
     "name": "stdout",
     "output_type": "stream",
     "text": [
      "A\tdai22896\t1\t0.1\n",
      "A\tdai54444\t1\t0.1\n",
      "A\tele11375\t1\t0.1\n",
      "A\tele17451\t5\t0.5\n",
      "A\tele23393\t1\t0.1\n",
      "A\tele26917\t1\t0.1\n",
      "A\tele28573\t1\t0.1\n",
      "A\tele37798\t1\t0.1\n",
      "A\tele52966\t1\t0.1\n",
      "A\tele89019\t1\t0.1\n",
      "B\tele91550\t1\t0.1\n",
      "B\tfro11987\t1\t0.1\n",
      "B\tfro12685\t1\t0.1\n",
      "B\tfro78087\t1\t0.1\n",
      "B\tfro84225\t1\t0.1\n",
      "B\tfro86643\t3\t0.3\n",
      "B\tfro90334\t1\t0.1\n",
      "B\tgro12298\t1\t0.1\n",
      "B\tgro39357\t1\t0.1\n",
      "B\tgro56989\t1\t0.1\n",
      "B\tgro73461\t1\t0.1\n",
      "B\tgro99222\t2\t0.2\n",
      "B\tsna11465\t3\t0.3\n",
      "B\tsna30755\t1\t0.1\n",
      "B\tsna69641\t1\t0.1\n",
      "B\tsna80192\t1\t0.1\n",
      "B\tsna90258\t1\t0.1\n",
      "B\tsna99873\t1\t0.1\n"
     ]
    }
   ],
   "source": [
    "!head -n 5 ProductPurchaseData.txt | python mapper3.3f.py | sort -k3,3n | python reducer3.3f.py"
   ]
  },
  {
   "cell_type": "code",
   "execution_count": 113,
   "metadata": {},
   "outputs": [
    {
     "name": "stdout",
     "output_type": "stream",
     "text": [
      "Deleted /user/root/hw3/p33f-output\n",
      "packageJobJar: [] [/usr/jars/hadoop-streaming-2.6.0-cdh5.7.0.jar] /tmp/streamjob2814506039466463343.jar tmpDir=null\n",
      "18/01/28 16:23:18 INFO client.RMProxy: Connecting to ResourceManager at /0.0.0.0:8032\n",
      "18/01/28 16:23:18 INFO client.RMProxy: Connecting to ResourceManager at /0.0.0.0:8032\n",
      "18/01/28 16:23:19 INFO mapred.FileInputFormat: Total input paths to process : 1\n",
      "18/01/28 16:23:19 INFO mapreduce.JobSubmitter: number of splits:2\n",
      "18/01/28 16:23:19 INFO mapreduce.JobSubmitter: Submitting tokens for job: job_1517130852318_0023\n",
      "18/01/28 16:23:19 INFO impl.YarnClientImpl: Submitted application application_1517130852318_0023\n",
      "18/01/28 16:23:19 INFO mapreduce.Job: The url to track the job: http://quickstart.cloudera:8088/proxy/application_1517130852318_0023/\n",
      "18/01/28 16:23:19 INFO mapreduce.Job: Running job: job_1517130852318_0023\n",
      "18/01/28 16:23:25 INFO mapreduce.Job: Job job_1517130852318_0023 running in uber mode : false\n",
      "18/01/28 16:23:25 INFO mapreduce.Job:  map 0% reduce 0%\n",
      "18/01/28 16:23:33 INFO mapreduce.Job:  map 50% reduce 0%\n",
      "18/01/28 16:23:34 INFO mapreduce.Job:  map 100% reduce 0%\n",
      "18/01/28 16:23:43 INFO mapreduce.Job:  map 100% reduce 100%\n",
      "18/01/28 16:23:43 INFO mapreduce.Job: Job job_1517130852318_0023 completed successfully\n",
      "18/01/28 16:23:44 INFO mapreduce.Job: Counters: 49\n",
      "\tFile System Counters\n",
      "\t\tFILE: Number of bytes read=6653014\n",
      "\t\tFILE: Number of bytes written=13778246\n",
      "\t\tFILE: Number of read operations=0\n",
      "\t\tFILE: Number of large read operations=0\n",
      "\t\tFILE: Number of write operations=0\n",
      "\t\tHDFS: Number of bytes read=3493956\n",
      "\t\tHDFS: Number of bytes written=366468\n",
      "\t\tHDFS: Number of read operations=12\n",
      "\t\tHDFS: Number of large read operations=0\n",
      "\t\tHDFS: Number of write operations=4\n",
      "\tJob Counters \n",
      "\t\tLaunched map tasks=2\n",
      "\t\tLaunched reduce tasks=2\n",
      "\t\tData-local map tasks=2\n",
      "\t\tTotal time spent by all maps in occupied slots (ms)=11795\n",
      "\t\tTotal time spent by all reduces in occupied slots (ms)=13226\n",
      "\t\tTotal time spent by all map tasks (ms)=11795\n",
      "\t\tTotal time spent by all reduce tasks (ms)=13226\n",
      "\t\tTotal vcore-seconds taken by all map tasks=11795\n",
      "\t\tTotal vcore-seconds taken by all reduce tasks=13226\n",
      "\t\tTotal megabyte-seconds taken by all map tasks=12078080\n",
      "\t\tTotal megabyte-seconds taken by all reduce tasks=13543424\n",
      "\tMap-Reduce Framework\n",
      "\t\tMap input records=31101\n",
      "\t\tMap output records=443026\n",
      "\t\tMap output bytes=5766950\n",
      "\t\tMap output materialized bytes=6653026\n",
      "\t\tInput split bytes=242\n",
      "\t\tCombine input records=0\n",
      "\t\tCombine output records=0\n",
      "\t\tReduce input groups=12594\n",
      "\t\tReduce shuffle bytes=6653026\n",
      "\t\tReduce input records=443026\n",
      "\t\tReduce output records=12592\n",
      "\t\tSpilled Records=886052\n",
      "\t\tShuffled Maps =4\n",
      "\t\tFailed Shuffles=0\n",
      "\t\tMerged Map outputs=4\n",
      "\t\tGC time elapsed (ms)=188\n",
      "\t\tCPU time spent (ms)=7160\n",
      "\t\tPhysical memory (bytes) snapshot=1014018048\n",
      "\t\tVirtual memory (bytes) snapshot=5453037568\n",
      "\t\tTotal committed heap usage (bytes)=1009778688\n",
      "\tShuffle Errors\n",
      "\t\tBAD_ID=0\n",
      "\t\tCONNECTION=0\n",
      "\t\tIO_ERROR=0\n",
      "\t\tWRONG_LENGTH=0\n",
      "\t\tWRONG_MAP=0\n",
      "\t\tWRONG_REDUCE=0\n",
      "\tFile Input Format Counters \n",
      "\t\tBytes Read=3493714\n",
      "\tFile Output Format Counters \n",
      "\t\tBytes Written=366468\n",
      "18/01/28 16:23:44 INFO streaming.StreamJob: Output directory: /user/root/hw3/p33f-output\n"
     ]
    }
   ],
   "source": [
    "# Hadoop command\n",
    "# START STUDENT CODE HW32CFREQHADOOP\n",
    "!hdfs dfs -rm -r {HDFS_DIR}/p33f-output\n",
    "!hadoop jar {JAR_FILE} \\\n",
    "  -D stream.num.map.output.key.fields=3 \\\n",
    "  -D stream.map.output.field.separator=\"\\t\" \\\n",
    "  -D mapreduce.partition.keypartitioner.options=\"-k1,1\" \\\n",
    "  -D mapreduce.job.output.key.comparator.class=org.apache.hadoop.mapred.lib.KeyFieldBasedComparator \\\n",
    "  -D mapreduce.partition.keycomparator.options=\"-k1,1 -k3,3n -k2,2\" \\\n",
    "  -files reducer3.3f.py,mapper3.3f.py \\\n",
    "  -mapper mapper3.3f.py \\\n",
    "  -reducer reducer3.3f.py \\\n",
    "  -input {HDFS_DIR}/ProductPurchaseData.txt \\\n",
    "  -output {HDFS_DIR}/p33f-output \\\n",
    "  -numReduceTasks 2 \\\n",
    "  -partitioner org.apache.hadoop.mapred.lib.KeyFieldBasedPartitioner\n",
    "# END STUDENT CODE HW32CFREQHADOOP"
   ]
  },
  {
   "cell_type": "code",
   "execution_count": 115,
   "metadata": {},
   "outputs": [],
   "source": [
    "!hdfs dfs -cat {HDFS_DIR}/p33f-output/part-00001 {HDFS_DIR}/p33f-output/part-00000 > p33c_results.txt"
   ]
  },
  {
   "cell_type": "code",
   "execution_count": 122,
   "metadata": {},
   "outputs": [
    {
     "name": "stdout",
     "output_type": "stream",
     "text": [
      "Overwriting mapper3.3fr.py\n"
     ]
    }
   ],
   "source": [
    "%%writefile mapper3.3fr.py\n",
    "#!/usr/bin/env python\n",
    "# START STUDENT CODE HW32CFREQMAPPER\n",
    "import re\n",
    "import sys\n",
    "\n",
    "# input here is p33c_results.txt\n",
    "# read from standard input\n",
    "for line in sys.stdin:\n",
    "    line = line.strip().lower()\n",
    "    word, count, prob = line.split(\"\\t\")\n",
    "    if int(count) <50:\n",
    "        print '%s\\t%s\\t%s\\t%s' % (\"A\",word, count, prob)\n",
    "    else:\n",
    "        print '%s\\t%s\\t%s\\t%s' % (\"B\",word, count, prob)\n",
    "    \n",
    "#     print '%s\\t%s\\t%s' % (\"A\",1, 0)\n",
    "#     print '%s\\t%s\\t%s' % (\"B\",1, 0)\n",
    "# END STUDENT CODE HW32CFREQMAPPER"
   ]
  },
  {
   "cell_type": "code",
   "execution_count": 123,
   "metadata": {},
   "outputs": [
    {
     "name": "stdout",
     "output_type": "stream",
     "text": [
      "Deleted /user/root/hw3/p33fr-output\n",
      "packageJobJar: [] [/usr/jars/hadoop-streaming-2.6.0-cdh5.7.0.jar] /tmp/streamjob4638316361662427088.jar tmpDir=null\n",
      "18/01/28 16:32:59 INFO client.RMProxy: Connecting to ResourceManager at /0.0.0.0:8032\n",
      "18/01/28 16:32:59 INFO client.RMProxy: Connecting to ResourceManager at /0.0.0.0:8032\n",
      "18/01/28 16:33:00 INFO mapred.FileInputFormat: Total input paths to process : 2\n",
      "18/01/28 16:33:00 INFO mapreduce.JobSubmitter: number of splits:3\n",
      "18/01/28 16:33:01 INFO mapreduce.JobSubmitter: Submitting tokens for job: job_1517130852318_0027\n",
      "18/01/28 16:33:01 INFO impl.YarnClientImpl: Submitted application application_1517130852318_0027\n",
      "18/01/28 16:33:01 INFO mapreduce.Job: The url to track the job: http://quickstart.cloudera:8088/proxy/application_1517130852318_0027/\n",
      "18/01/28 16:33:01 INFO mapreduce.Job: Running job: job_1517130852318_0027\n",
      "18/01/28 16:33:07 INFO mapreduce.Job: Job job_1517130852318_0027 running in uber mode : false\n",
      "18/01/28 16:33:07 INFO mapreduce.Job:  map 0% reduce 0%\n",
      "18/01/28 16:33:14 INFO mapreduce.Job:  map 33% reduce 0%\n",
      "18/01/28 16:33:16 INFO mapreduce.Job:  map 100% reduce 0%\n",
      "18/01/28 16:33:21 INFO mapreduce.Job:  map 100% reduce 50%\n",
      "18/01/28 16:33:22 INFO mapreduce.Job:  map 100% reduce 100%\n",
      "18/01/28 16:33:23 INFO mapreduce.Job: Job job_1517130852318_0027 completed successfully\n",
      "18/01/28 16:33:23 INFO mapreduce.Job: Counters: 49\n",
      "\tFile System Counters\n",
      "\t\tFILE: Number of bytes read=429440\n",
      "\t\tFILE: Number of bytes written=1447576\n",
      "\t\tFILE: Number of read operations=0\n",
      "\t\tFILE: Number of large read operations=0\n",
      "\t\tFILE: Number of write operations=0\n",
      "\t\tHDFS: Number of bytes read=370924\n",
      "\t\tHDFS: Number of bytes written=404244\n",
      "\t\tHDFS: Number of read operations=15\n",
      "\t\tHDFS: Number of large read operations=0\n",
      "\t\tHDFS: Number of write operations=4\n",
      "\tJob Counters \n",
      "\t\tLaunched map tasks=3\n",
      "\t\tLaunched reduce tasks=2\n",
      "\t\tData-local map tasks=3\n",
      "\t\tTotal time spent by all maps in occupied slots (ms)=16363\n",
      "\t\tTotal time spent by all reduces in occupied slots (ms)=8776\n",
      "\t\tTotal time spent by all map tasks (ms)=16363\n",
      "\t\tTotal time spent by all reduce tasks (ms)=8776\n",
      "\t\tTotal vcore-seconds taken by all map tasks=16363\n",
      "\t\tTotal vcore-seconds taken by all reduce tasks=8776\n",
      "\t\tTotal megabyte-seconds taken by all map tasks=16755712\n",
      "\t\tTotal megabyte-seconds taken by all reduce tasks=8986624\n",
      "\tMap-Reduce Framework\n",
      "\t\tMap input records=12592\n",
      "\t\tMap output records=12592\n",
      "\t\tMap output bytes=404244\n",
      "\t\tMap output materialized bytes=429464\n",
      "\t\tInput split bytes=360\n",
      "\t\tCombine input records=0\n",
      "\t\tCombine output records=0\n",
      "\t\tReduce input groups=12592\n",
      "\t\tReduce shuffle bytes=429464\n",
      "\t\tReduce input records=12592\n",
      "\t\tReduce output records=12592\n",
      "\t\tSpilled Records=25184\n",
      "\t\tShuffled Maps =6\n",
      "\t\tFailed Shuffles=0\n",
      "\t\tMerged Map outputs=6\n",
      "\t\tGC time elapsed (ms)=163\n",
      "\t\tCPU time spent (ms)=4500\n",
      "\t\tPhysical memory (bytes) snapshot=1220067328\n",
      "\t\tVirtual memory (bytes) snapshot=6828507136\n",
      "\t\tTotal committed heap usage (bytes)=950534144\n",
      "\tShuffle Errors\n",
      "\t\tBAD_ID=0\n",
      "\t\tCONNECTION=0\n",
      "\t\tIO_ERROR=0\n",
      "\t\tWRONG_LENGTH=0\n",
      "\t\tWRONG_MAP=0\n",
      "\t\tWRONG_REDUCE=0\n",
      "\tFile Input Format Counters \n",
      "\t\tBytes Read=370564\n",
      "\tFile Output Format Counters \n",
      "\t\tBytes Written=404244\n",
      "18/01/28 16:33:23 INFO streaming.StreamJob: Output directory: /user/root/hw3/p33fr-output\n"
     ]
    }
   ],
   "source": [
    "!hdfs dfs -rm -r {HDFS_DIR}/p33fr-output\n",
    "!hadoop jar {JAR_FILE} \\\n",
    "  -D stream.num.map.output.key.fields=3 \\\n",
    "  -D stream.map.output.field.separator=\"\\t\" \\\n",
    "  -D mapreduce.partition.keypartitioner.options=\"-k1,1\" \\\n",
    "  -D mapreduce.job.output.key.comparator.class=org.apache.hadoop.mapred.lib.KeyFieldBasedComparator \\\n",
    "  -D mapreduce.partition.keycomparator.options=\"-k1,1 -k3,3n -k2,2\" \\\n",
    "  -files mapper3.3fr.py \\\n",
    "  -mapper mapper3.3fr.py \\\n",
    "  -reducer /bin/cat \\\n",
    "  -input {HDFS_DIR}/p33f-output \\\n",
    "  -output {HDFS_DIR}/p33fr-output \\\n",
    "  -numReduceTasks 2 \\\n",
    "  -partitioner org.apache.hadoop.mapred.lib.KeyFieldBasedPartitioner"
   ]
  },
  {
   "cell_type": "code",
   "execution_count": 135,
   "metadata": {},
   "outputs": [],
   "source": [
    "!hdfs dfs -cat {HDFS_DIR}/p33fr-output/part-00001 {HDFS_DIR}/p33fr-output/part-00000 > p33fr_results.txt"
   ]
  },
  {
   "cell_type": "markdown",
   "metadata": {},
   "source": [
    "##### Unique items"
   ]
  },
  {
   "cell_type": "code",
   "execution_count": 140,
   "metadata": {},
   "outputs": [
    {
     "name": "stdout",
     "output_type": "stream",
     "text": [
      "Overwriting mapper3.3u.py\n"
     ]
    }
   ],
   "source": [
    "%%writefile mapper3.3u.py\n",
    "#!/usr/bin/env python\n",
    "# START STUDENT CODE HW32CFREQMAPPER\n",
    "import re\n",
    "import sys\n",
    "\n",
    "# read from standard input\n",
    "for line in sys.stdin:\n",
    "    line = line.strip().lower()\n",
    "    for word in line.split():\n",
    "        print '%s\\t%s' % (word, 1)"
   ]
  },
  {
   "cell_type": "code",
   "execution_count": 137,
   "metadata": {},
   "outputs": [
    {
     "name": "stdout",
     "output_type": "stream",
     "text": [
      "Overwriting reducer3.3u.py\n"
     ]
    }
   ],
   "source": [
    "%%writefile reducer3.3u.py\n",
    "#!/usr/bin/env python\n",
    "# START STUDENT CODE HW32CFREQREDUCER\n",
    "import sys, re\n",
    "import logging\n",
    "# initialize trackers\n",
    "cur_word = None\n",
    "num_words = 0\n",
    "# read input key-value pairs from standard input\n",
    "\n",
    "for line in sys.stdin:\n",
    "#     logging.warning( line.split(\"\\t\"))\n",
    "    arr = line.split(\"\\t\")\n",
    "    key, count = arr[0], arr[1]\n",
    "    # tally counts from current key\n",
    "    if key != cur_word: \n",
    "        if cur_word:\n",
    "            num_words += 1\n",
    "        cur_word = key\n",
    "num_words += 1\n",
    "print '%s' % (num_words)\n",
    "\n",
    "# END STUDENT CODE HW32CFREQREDUCER"
   ]
  },
  {
   "cell_type": "code",
   "execution_count": 138,
   "metadata": {},
   "outputs": [
    {
     "name": "stdout",
     "output_type": "stream",
     "text": [
      "Deleted /user/root/hw3/p33u-output\n",
      "packageJobJar: [] [/usr/jars/hadoop-streaming-2.6.0-cdh5.7.0.jar] /tmp/streamjob6922031096016615947.jar tmpDir=null\n",
      "18/01/28 17:00:16 INFO client.RMProxy: Connecting to ResourceManager at /0.0.0.0:8032\n",
      "18/01/28 17:00:16 INFO client.RMProxy: Connecting to ResourceManager at /0.0.0.0:8032\n",
      "18/01/28 17:00:17 INFO mapred.FileInputFormat: Total input paths to process : 1\n",
      "18/01/28 17:00:17 INFO mapreduce.JobSubmitter: number of splits:2\n",
      "18/01/28 17:00:17 INFO mapreduce.JobSubmitter: Submitting tokens for job: job_1517130852318_0030\n",
      "18/01/28 17:00:17 INFO impl.YarnClientImpl: Submitted application application_1517130852318_0030\n",
      "18/01/28 17:00:17 INFO mapreduce.Job: The url to track the job: http://quickstart.cloudera:8088/proxy/application_1517130852318_0030/\n",
      "18/01/28 17:00:17 INFO mapreduce.Job: Running job: job_1517130852318_0030\n",
      "18/01/28 17:00:23 INFO mapreduce.Job: Job job_1517130852318_0030 running in uber mode : false\n",
      "18/01/28 17:00:24 INFO mapreduce.Job:  map 0% reduce 0%\n",
      "18/01/28 17:00:32 INFO mapreduce.Job:  map 50% reduce 0%\n",
      "18/01/28 17:00:33 INFO mapreduce.Job:  map 100% reduce 0%\n",
      "18/01/28 17:00:40 INFO mapreduce.Job:  map 100% reduce 50%\n",
      "18/01/28 17:00:41 INFO mapreduce.Job:  map 100% reduce 100%\n",
      "18/01/28 17:00:41 INFO mapreduce.Job: Job job_1517130852318_0030 completed successfully\n",
      "18/01/28 17:00:41 INFO mapreduce.Job: Counters: 49\n",
      "\tFile System Counters\n",
      "\t\tFILE: Number of bytes read=5331548\n",
      "\t\tFILE: Number of bytes written=11135262\n",
      "\t\tFILE: Number of read operations=0\n",
      "\t\tFILE: Number of large read operations=0\n",
      "\t\tFILE: Number of write operations=0\n",
      "\t\tHDFS: Number of bytes read=3493956\n",
      "\t\tHDFS: Number of bytes written=12\n",
      "\t\tHDFS: Number of read operations=12\n",
      "\t\tHDFS: Number of large read operations=0\n",
      "\t\tHDFS: Number of write operations=4\n",
      "\tJob Counters \n",
      "\t\tLaunched map tasks=2\n",
      "\t\tLaunched reduce tasks=2\n",
      "\t\tData-local map tasks=2\n",
      "\t\tTotal time spent by all maps in occupied slots (ms)=12473\n",
      "\t\tTotal time spent by all reduces in occupied slots (ms)=10465\n",
      "\t\tTotal time spent by all map tasks (ms)=12473\n",
      "\t\tTotal time spent by all reduce tasks (ms)=10465\n",
      "\t\tTotal vcore-seconds taken by all map tasks=12473\n",
      "\t\tTotal vcore-seconds taken by all reduce tasks=10465\n",
      "\t\tTotal megabyte-seconds taken by all map tasks=12772352\n",
      "\t\tTotal megabyte-seconds taken by all reduce tasks=10716160\n",
      "\tMap-Reduce Framework\n",
      "\t\tMap input records=31101\n",
      "\t\tMap output records=380824\n",
      "\t\tMap output bytes=4569888\n",
      "\t\tMap output materialized bytes=5331560\n",
      "\t\tInput split bytes=242\n",
      "\t\tCombine input records=0\n",
      "\t\tCombine output records=0\n",
      "\t\tReduce input groups=12592\n",
      "\t\tReduce shuffle bytes=5331560\n",
      "\t\tReduce input records=380824\n",
      "\t\tReduce output records=2\n",
      "\t\tSpilled Records=761648\n",
      "\t\tShuffled Maps =4\n",
      "\t\tFailed Shuffles=0\n",
      "\t\tMerged Map outputs=4\n",
      "\t\tGC time elapsed (ms)=178\n",
      "\t\tCPU time spent (ms)=6330\n",
      "\t\tPhysical memory (bytes) snapshot=1055748096\n",
      "\t\tVirtual memory (bytes) snapshot=5456904192\n",
      "\t\tTotal committed heap usage (bytes)=1060110336\n",
      "\tShuffle Errors\n",
      "\t\tBAD_ID=0\n",
      "\t\tCONNECTION=0\n",
      "\t\tIO_ERROR=0\n",
      "\t\tWRONG_LENGTH=0\n",
      "\t\tWRONG_MAP=0\n",
      "\t\tWRONG_REDUCE=0\n",
      "\tFile Input Format Counters \n",
      "\t\tBytes Read=3493714\n",
      "\tFile Output Format Counters \n",
      "\t\tBytes Written=12\n",
      "18/01/28 17:00:41 INFO streaming.StreamJob: Output directory: /user/root/hw3/p33u-output\n"
     ]
    }
   ],
   "source": [
    "!hdfs dfs -rm -r {HDFS_DIR}/p33u-output\n",
    "!hadoop jar {JAR_FILE} \\\n",
    "  -D stream.num.map.output.key.fields=1 \\\n",
    "  -D stream.map.output.field.separator=\"\\t\" \\\n",
    "  -D mapreduce.partition.keypartitioner.options=\"-k1,1\" \\\n",
    "  -D mapreduce.job.output.key.comparator.class=org.apache.hadoop.mapred.lib.KeyFieldBasedComparator \\\n",
    "  -D mapreduce.partition.keycomparator.options=\"-k1,1\" \\\n",
    "  -files mapper3.3u.py,reducer3.3u.py \\\n",
    "  -mapper mapper3.3u.py \\\n",
    "  -reducer reducer3.3u.py \\\n",
    "  -input {HDFS_DIR}/ProductPurchaseData.txt \\\n",
    "  -output {HDFS_DIR}/p33u-output \\\n",
    "  -numReduceTasks 2 \\\n",
    "  -partitioner org.apache.hadoop.mapred.lib.KeyFieldBasedPartitioner"
   ]
  },
  {
   "cell_type": "code",
   "execution_count": 139,
   "metadata": {},
   "outputs": [
    {
     "name": "stdout",
     "output_type": "stream",
     "text": [
      "6308\t\n",
      "6284\t\n"
     ]
    }
   ],
   "source": [
    "# sum the two numbers in the remaining files\n",
    "!hdfs dfs -cat {HDFS_DIR}/p33u-output/part-00001 {HDFS_DIR}/p33u-output/part-00000"
   ]
  },
  {
   "cell_type": "markdown",
   "metadata": {},
   "source": [
    "##### Largest basket"
   ]
  },
  {
   "cell_type": "code",
   "execution_count": 147,
   "metadata": {},
   "outputs": [
    {
     "name": "stdout",
     "output_type": "stream",
     "text": [
      "Overwriting mapper3.3lb.py\n"
     ]
    }
   ],
   "source": [
    "%%writefile mapper3.3lb.py\n",
    "#!/usr/bin/env python\n",
    "# START STUDENT CODE HW32CFREQMAPPER\n",
    "import re\n",
    "import sys\n",
    "\n",
    "# read from standard input\n",
    "basket_count = 0\n",
    "for line in sys.stdin:\n",
    "    line = line.strip().lower().replace(\" \",\"_\")\n",
    "    print '%s\\t%s' % (line, 1)"
   ]
  },
  {
   "cell_type": "code",
   "execution_count": 148,
   "metadata": {},
   "outputs": [
    {
     "name": "stdout",
     "output_type": "stream",
     "text": [
      "Overwriting reducer3.3lb.py\n"
     ]
    }
   ],
   "source": [
    "%%writefile reducer3.3lb.py\n",
    "#!/usr/bin/env python\n",
    "# START STUDENT CODE HW32CFREQREDUCER\n",
    "import sys, re\n",
    "import logging\n",
    "# initialize trackers\n",
    "biggest_basket = None\n",
    "most_items = 0\n",
    "# read input key-value pairs from standard input\n",
    "\n",
    "for line in sys.stdin:\n",
    "    logging.warning( line.split(\"\\t\"))\n",
    "    arr = line.split(\"\\t\")\n",
    "    line, count = arr[0], arr[1]\n",
    "    # tally counts from current key\n",
    "    if len(line.split(\"_\"))>most_items:\n",
    "        most_items = len(line.split(\"_\"))\n",
    "        biggest_basket = line\n",
    "print '%s\\t%s' % (biggest_basket, most_items)"
   ]
  },
  {
   "cell_type": "code",
   "execution_count": 149,
   "metadata": {},
   "outputs": [
    {
     "name": "stdout",
     "output_type": "stream",
     "text": [
      "Deleted /user/root/hw3/p33lb-output\n",
      "packageJobJar: [] [/usr/jars/hadoop-streaming-2.6.0-cdh5.7.0.jar] /tmp/streamjob1550110984441064667.jar tmpDir=null\n",
      "18/01/28 17:13:16 INFO client.RMProxy: Connecting to ResourceManager at /0.0.0.0:8032\n",
      "18/01/28 17:13:16 INFO client.RMProxy: Connecting to ResourceManager at /0.0.0.0:8032\n",
      "18/01/28 17:13:17 INFO mapred.FileInputFormat: Total input paths to process : 1\n",
      "18/01/28 17:13:17 INFO mapreduce.JobSubmitter: number of splits:2\n",
      "18/01/28 17:13:17 INFO mapreduce.JobSubmitter: Submitting tokens for job: job_1517130852318_0033\n",
      "18/01/28 17:13:17 INFO impl.YarnClientImpl: Submitted application application_1517130852318_0033\n",
      "18/01/28 17:13:17 INFO mapreduce.Job: The url to track the job: http://quickstart.cloudera:8088/proxy/application_1517130852318_0033/\n",
      "18/01/28 17:13:17 INFO mapreduce.Job: Running job: job_1517130852318_0033\n",
      "18/01/28 17:13:23 INFO mapreduce.Job: Job job_1517130852318_0033 running in uber mode : false\n",
      "18/01/28 17:13:23 INFO mapreduce.Job:  map 0% reduce 0%\n",
      "18/01/28 17:13:31 INFO mapreduce.Job:  map 50% reduce 0%\n",
      "18/01/28 17:13:32 INFO mapreduce.Job:  map 100% reduce 0%\n",
      "18/01/28 17:13:40 INFO mapreduce.Job:  map 100% reduce 50%\n",
      "18/01/28 17:13:41 INFO mapreduce.Job:  map 100% reduce 100%\n",
      "18/01/28 17:13:41 INFO mapreduce.Job: Job job_1517130852318_0033 completed successfully\n",
      "18/01/28 17:13:41 INFO mapreduce.Job: Counters: 49\n",
      "\tFile System Counters\n",
      "\t\tFILE: Number of bytes read=3603604\n",
      "\t\tFILE: Number of bytes written=7679418\n",
      "\t\tFILE: Number of read operations=0\n",
      "\t\tFILE: Number of large read operations=0\n",
      "\t\tFILE: Number of write operations=0\n",
      "\t\tHDFS: Number of bytes read=3493956\n",
      "\t\tHDFS: Number of bytes written=663\n",
      "\t\tHDFS: Number of read operations=12\n",
      "\t\tHDFS: Number of large read operations=0\n",
      "\t\tHDFS: Number of write operations=4\n",
      "\tJob Counters \n",
      "\t\tLaunched map tasks=2\n",
      "\t\tLaunched reduce tasks=2\n",
      "\t\tData-local map tasks=2\n",
      "\t\tTotal time spent by all maps in occupied slots (ms)=9957\n",
      "\t\tTotal time spent by all reduces in occupied slots (ms)=11945\n",
      "\t\tTotal time spent by all map tasks (ms)=9957\n",
      "\t\tTotal time spent by all reduce tasks (ms)=11945\n",
      "\t\tTotal vcore-seconds taken by all map tasks=9957\n",
      "\t\tTotal vcore-seconds taken by all reduce tasks=11945\n",
      "\t\tTotal megabyte-seconds taken by all map tasks=10195968\n",
      "\t\tTotal megabyte-seconds taken by all reduce tasks=12231680\n",
      "\tMap-Reduce Framework\n",
      "\t\tMap input records=31101\n",
      "\t\tMap output records=31101\n",
      "\t\tMap output bytes=3530092\n",
      "\t\tMap output materialized bytes=3603616\n",
      "\t\tInput split bytes=242\n",
      "\t\tCombine input records=0\n",
      "\t\tCombine output records=0\n",
      "\t\tReduce input groups=30697\n",
      "\t\tReduce shuffle bytes=3603616\n",
      "\t\tReduce input records=31101\n",
      "\t\tReduce output records=2\n",
      "\t\tSpilled Records=62202\n",
      "\t\tShuffled Maps =4\n",
      "\t\tFailed Shuffles=0\n",
      "\t\tMerged Map outputs=4\n",
      "\t\tGC time elapsed (ms)=185\n",
      "\t\tCPU time spent (ms)=6490\n",
      "\t\tPhysical memory (bytes) snapshot=966033408\n",
      "\t\tVirtual memory (bytes) snapshot=5469425664\n",
      "\t\tTotal committed heap usage (bytes)=929562624\n",
      "\tShuffle Errors\n",
      "\t\tBAD_ID=0\n",
      "\t\tCONNECTION=0\n",
      "\t\tIO_ERROR=0\n",
      "\t\tWRONG_LENGTH=0\n",
      "\t\tWRONG_MAP=0\n",
      "\t\tWRONG_REDUCE=0\n",
      "\tFile Input Format Counters \n",
      "\t\tBytes Read=3493714\n",
      "\tFile Output Format Counters \n",
      "\t\tBytes Written=663\n",
      "18/01/28 17:13:41 INFO streaming.StreamJob: Output directory: /user/root/hw3/p33lb-output\n"
     ]
    }
   ],
   "source": [
    "!hdfs dfs -rm -r {HDFS_DIR}/p33lb-output\n",
    "!hadoop jar {JAR_FILE} \\\n",
    "  -D stream.num.map.output.key.fields=1 \\\n",
    "  -D stream.map.output.field.separator=\"\\t\" \\\n",
    "  -D mapreduce.partition.keypartitioner.options=\"-k1,1\" \\\n",
    "  -D mapreduce.job.output.key.comparator.class=org.apache.hadoop.mapred.lib.KeyFieldBasedComparator \\\n",
    "  -D mapreduce.partition.keycomparator.options=\"-k1,1\" \\\n",
    "  -files mapper3.3lb.py,reducer3.3lb.py \\\n",
    "  -mapper mapper3.3lb.py \\\n",
    "  -reducer reducer3.3lb.py \\\n",
    "  -input {HDFS_DIR}/ProductPurchaseData.txt \\\n",
    "  -output {HDFS_DIR}/p33lb-output \\\n",
    "  -numReduceTasks 2 \\\n",
    "  -partitioner org.apache.hadoop.mapred.lib.KeyFieldBasedPartitioner"
   ]
  },
  {
   "cell_type": "code",
   "execution_count": 150,
   "metadata": {},
   "outputs": [
    {
     "name": "stdout",
     "output_type": "stream",
     "text": [
      "gro61133_fro53271_ele32164_sna54638_fro35904_gro69543_ele12845_fro89565_fro91114_dai19463_sna57626_gro22635_gro21629_gro85506_sna80062_ele15344_ele15355_gro15448_gro64900_dai23411_dai59119_ele59935_sna57913_gro94173_dai37607_sna96071_dai50921_ele44399_gro52093_sna12045_sna88283_ele17451_sna31619_gro59710_sna45677_dai33336\t36\n",
      "fro31317_dai94514_fro49726_fro83352_fro61354_gro35122_gro82670_gro63683_gro73461_gro15017_gro61133_fro78087_sna26649_gro71615_ele28573_fro47962_gro59710_ele12516_gro39357_sna56073_gro87006_ele25172_gro93333_ele20847_fro75586_fro16142_fro94733_fro32801_sna11790_fro45082_ele66600_dai43223_gro50832_fro40251_gro38636_gro38814_fro33870\t37\n"
     ]
    }
   ],
   "source": [
    "# pick the largest of the remaining\n",
    "!hdfs dfs -cat {HDFS_DIR}/p33lb-output/part-00001 {HDFS_DIR}/p33lb-output/part-00000"
   ]
  },
  {
   "cell_type": "markdown",
   "metadata": {},
   "source": [
    "#### END STUDENT CODE HW33"
   ]
  },
  {
   "cell_type": "markdown",
   "metadata": {},
   "source": [
    "<a name=\"3.3.1\"></a>\n",
    "## HW3.3.1 OPTIONAL \n",
    "Using 2 reducers:  Report your findings such as number of unique products; largest basket; report the top 50 most frequently purchased items,  their frequency,  and their relative frequency (break ties by sorting the products alphabetical order) etc. using Hadoop Map-Reduce. "
   ]
  },
  {
   "cell_type": "markdown",
   "metadata": {},
   "source": [
    "#### START STUDENT CODE HW331 (INSERT CELLS BELOW AS NEEDED)"
   ]
  },
  {
   "cell_type": "markdown",
   "metadata": {},
   "source": [
    "#### END STUDENT CODE HW331"
   ]
  },
  {
   "cell_type": "markdown",
   "metadata": {},
   "source": [
    "## HW3.4. (Computationally prohibitive but then again Hadoop can handle this) Pairs\n",
    "\n",
    "Suppose we want to recommend new products to the customer based on the products they\n",
    "have already browsed on the online website. Write a map-reduce program \n",
    "to find products which are frequently browsed together. Fix the support count (cooccurence count) to s = 100 \n",
    "(i.e. product pairs need to occur together at least 100 times to be considered frequent) \n",
    "and find pairs of items (sometimes referred to itemsets of size 2 in association rule mining) that have a support count of 100 or more.\n",
    "\n",
    "List the top 50 product pairs with corresponding support count (aka frequency), and support (aka relative frequency) in decreasing order of support  for frequent (100>count) itemsets of size 2. \n",
    "\n",
    "The global relative frequency (support) of an itemset of size 2, is the number of occurances of the item set, related to the total number of baskets in the data set. For instance, if the pair (\"beer\",\"diapers\") occurs 10 times, and there are a total of 20 baskets, then the relative frequency (support) for (\"beer\",\"diapers\") is $\\frac{10}{20}$ = 0.5.\n",
    "\n",
    "$$ support(A,B) = \\frac{count(A,B)}{N} $$\n",
    "\n",
    "\n",
    "Use the Pairs pattern (lecture 3)  to  extract these frequent itemsets of size 2. Feel free to use combiners if they bring value. Instrument your code with counters for count the number of times your mapper, combiner, and reducers are called.  \n",
    "\n",
    "Please output records of the following form for the top 50 pairs (itemsets of size 2): \n",
    "\n",
    "      item1, item2, support count, support\n",
    "\n",
    "\n",
    "\n",
    "Fix the ordering of the pairs lexicographically (left to right), and break ties in support (between pairs, if any exist) by taking the first ones in lexicographically increasing order. \n",
    "\n",
    "Report  the compute time for the Pairs job. Describe the computational setup used (E.g., single computer; dual core; linux, number of mappers, number of reducers)\n",
    "Instrument your mapper, combiner, and reducer to count how many times each is called using Counters and report these counts.\n",
    "\n",
    "\n",
    "***\n",
    "\n",
    "__OPTIONAL NOTES:__   \n",
    "\n",
    "Distinguishing between global relative frequency, and local relative frequency (AKA support vs confidence in association rule mining), the local relative frequency of a bigram (AKA itemset of size 2) $(w_i, w_j)$ relative to its first word $w_i$ is the number of occurrences of the pair $(w_i, w_j)$ related to the number of occurrences of the word $w_i$. For instance, if the word \"euro\" followed by the word \"crisis\" occurs 10 times and the word \"euro\" occurs 20 times in total, we say that the frequency of the pair (\"euro\",\"crisis\") is $\\frac{10}{20}$ = 0.5.\n",
    "\n",
    "$$ f(B|A) = \\frac{count(A,B)}{count(A)} = \\frac{count(A,B)}{\\sum_{B'} count(A,B')}$$\n",
    "\n",
    "This specific notion of relative frequency with respect to the first term in the pair is example of the concept of “confidence” from association rule mining.  \n",
    "Additional reference: https://www-users.cs.umn.edu/~kumar/dmbook/ch6.pdf pg. 3-4   \n"
   ]
  },
  {
   "cell_type": "markdown",
   "metadata": {},
   "source": [
    "#### START STUDENT CODE HW34 (INSERT CELLS BELOW AS NEEDED)"
   ]
  },
  {
   "cell_type": "markdown",
   "metadata": {},
   "source": [
    "#### END STUDENT CODE HW34"
   ]
  },
  {
   "cell_type": "markdown",
   "metadata": {},
   "source": [
    "<a name=\"3.5\"></a>\n",
    "## HW3.5: Stripes\n",
    "Repeat 3.4 using the stripes design pattern for finding cooccuring pairs.\n",
    "\n",
    "Report  the compute times for stripes job versus the Pairs job. Describe the computational setup used (E.g., single computer; dual core; linux, number of mappers, number of reducers)\n",
    "\n",
    "Instrument your mapper, combiner, and reducer to count how many times each is called using Counters and report these counts. Discuss the differences in these counts between the Pairs and Stripes jobs\n"
   ]
  },
  {
   "cell_type": "markdown",
   "metadata": {},
   "source": [
    "#### START STUDENT CODE HW35 (INSERT CELLS BELOW AS NEEDED)"
   ]
  },
  {
   "cell_type": "markdown",
   "metadata": {},
   "source": [
    "#### END STUDENT CODE HW35"
   ]
  },
  {
   "cell_type": "markdown",
   "metadata": {},
   "source": [
    "# OPTIONAL\n",
    "QUESTIONS  BELOW THIS LINE ARE OPTIONAL"
   ]
  },
  {
   "cell_type": "markdown",
   "metadata": {},
   "source": [
    "<a name=\"3.6\"></a>\n",
    "## HW3.6 Computing Relative Frequencies on 100K WikiPedia pages (93Meg)\n",
    "\n",
    "Dataset description\n",
    "For this assignment you will explore a set of 100,000 Wikipedia documents:\n",
    "\n",
    "https://www.dropbox.com/s/n5lfbnztclo93ej/wikitext_100k.txt?dl=0\n",
    "s3://cs9223/wikitext_100k.txt, or\n",
    "https://s3.amazonaws.com/cs9223/wikitext_100k.txt\n",
    "Each line in this file consists of the plain text extracted from a Wikipedia document.\n",
    "\n",
    "Task\n",
    "Compute the relative frequencies of each word that occurs in the documents in wikitext_100k.txt and output the top 100 word pairs sorted by decreasing order of relative frequency.\n",
    "\n",
    "Recall that the relative frequency (RF) of word B given word A is defined as follows:\n",
    "\n",
    "   f(B|A) = Count(A, B) / Count (A)   =  Count(A, B) / sum_B'(Count (A, B')\n",
    "\n",
    "where count(A,B) is the number of times A and B co-occur within a window of two words (co-occurrence window size of two) in a document and count(A) the number of times A occurs with anything else. Intuitively, given a document collection, the relative frequency captures the proportion of time the word B appears in the same document as A. (See Section 3.3, in Data-Intensive Text Processing with MapReduce).\n",
    "\n",
    "In the async lecture you learned different approaches to do this, and in this assignment, you will implement them:\n",
    "\n",
    "a.\tWrite a mapreduce program which uses the Stripes approach and writes its output in a file named rfstripes.txt \n",
    "\n",
    "b.\tWrite a mapreduce program which uses the Pairs approach and writes its output in a file named rfpairs.txt\n",
    "\n",
    "c.\tCompare the performance of the two approaches and output the relative performance to a file named rfcomp.txt. Compute the relative performance as follows: (running time for Pairs/ running time for Stripes). Also include an analysis comparing the communication costs for the two approaches. Instrument your mapper and reduces for counters where necessary to aid with your analysis.\n",
    "\n",
    "NOTE: please limit your analysis to the top 100 word pairs sorted by decreasing order of relative frequency for each word (tokens with all alphabetical letters).\n",
    "\n",
    "Please include markdown cell named rf.txt that describes the following:\n",
    "\n",
    "the input/output format in each Hadoop task, i.e., the keys for the mappers and reducers\n",
    "the Hadoop cluster settings you used, i.e., number of mappers and reducers\n",
    "the running time for each approach: pairs and stripes\n",
    "\n",
    "You can write your program using Python or MrJob (with Hadoop streaming) and you should run it on AWS. It is a good idea to develop and test your program on a local machine  before deploying on AWS. Remember your notebook, needs to have all the commands you used to run each Mapreduce job (i.e., pairs and stripes) -- include the Hadoop streaming commands you used to run your jobs.\n",
    "\n",
    "In addition the All the following files should be compressed in one ZIP file and submitted. The ZIP file should contain:\n",
    "\n",
    "\n",
    "A.\tThe result files: rfstripes.txt, rfpairs.txt, rfcomp.txt\n",
    "\n",
    "Prior to working with Hadoop, the corpus should first be preprocessed as follows:\n",
    "perform tokenization (whitespace and all non-alphabetic characters) and stopword removal  using standard tools from the Lucene search engine. All tokens should  then be replaced\n",
    "with unique integers for a more efficient encoding. \n",
    "\n",
    "\n",
    "== Preliminary information for the remaing HW problems===\n",
    "\n",
    "Much of this homework beyond this point will focus on the Apriori algorithm for frequent itemset  mining and the additional step for extracting association rules from these frequent itemsets.\n",
    "Please acquaint yourself with the background information (below)\n",
    "before approaching the remaining  assignments.\n",
    "\n",
    "=== Apriori background information ===\n",
    "\n",
    "Some background material for the  Apriori algorithm is located at:\n",
    "\n",
    " - Slides in Live Session #3\n",
    " - https://en.wikipedia.org/wiki/Apriori_algorithm\n",
    " - https://www.dropbox.com/s/k2zm4otych279z2/Apriori-good-slides.pdf?dl=0\n",
    " - http://snap.stanford.edu/class/cs246-2014/slides/02-assocrules.pdf\n",
    "\n",
    "Association Rules are frequently used for Market Basket Analysis (MBA) by retailers to\n",
    "understand the purchase behavior of their customers. This information can be then used for\n",
    "many different purposes such as cross-selling and up-selling of products, sales promotions,\n",
    "loyalty programs, store design, discount plans and many others.\n",
    "Evaluation of item sets: Once you have found the frequent itemsets of a dataset, you need\n",
    "to choose a subset of them as your recommendations. Commonly used metrics for measuring\n",
    "significance and interest for selecting rules for recommendations are: confidence; lift; and conviction."
   ]
  },
  {
   "cell_type": "markdown",
   "metadata": {},
   "source": [
    "<a name=\"3.7\"></a>\n",
    "## HW3.7 Apriori Algorithm\n",
    "What is the Apriori algorithm? Describe an example use in your domain of expertise and what kind of . Define confidence and lift.\n",
    "\n",
    "NOTE:\n",
    "For the remaining homework use the online browsing behavior dataset located at (same dataset as used above): \n",
    "\n",
    "       https://www.dropbox.com/s/zlfyiwa70poqg74/ProductPurchaseData.txt?dl=0\n",
    "\n",
    "Each line in this dataset represents a browsing session of a customer. \n",
    "On each line, each string of 8 characters represents the id of an item browsed during that session. \n",
    "The items are separated by spaces.\n",
    "\n",
    "Here are the first few lines of the ProductPurchaseData \n",
    "FRO11987 ELE17451 ELE89019 SNA90258 GRO99222 \n",
    "GRO99222 GRO12298 FRO12685 ELE91550 SNA11465 ELE26917 ELE52966 FRO90334 SNA30755 ELE17451 FRO84225 SNA80192 \n",
    "ELE17451 GRO73461 DAI22896 SNA99873 FRO86643 \n",
    "ELE17451 ELE37798 FRO86643 GRO56989 ELE23393 SNA11465 \n",
    "ELE17451 SNA69641 FRO86643 FRO78087 SNA11465 GRO39357 ELE28573 ELE11375 DAI54444 "
   ]
  },
  {
   "cell_type": "markdown",
   "metadata": {},
   "source": [
    "<a name=\"3.8\"></a>\n",
    "## HW3.8. Shopping Cart Analysis\n",
    "Product Recommendations: The action or practice of selling additional products or services \n",
    "to existing customers is called cross-selling. Giving product recommendation is \n",
    "one of the examples of cross-selling that are frequently used by online retailers. \n",
    "One simple method to give product recommendations is to recommend products that are frequently\n",
    "browsed together by the customers.\n",
    "\n",
    "Suppose we want to recommend new products to the customer based on the products they\n",
    "have already browsed on the online website. Write a program using the A-priori algorithm\n",
    "to find products which are frequently browsed together. Fix the support to s = 100 \n",
    "(i.e. product sets need to occur together at least 100 times to be considered frequent) \n",
    "and find itemsets of size 2 and 3.\n",
    "\n",
    "Then extract association rules from these frequent items. \n",
    "\n",
    "A rule is of the form: \n",
    "\n",
    "(item1, item5) ⇒ item2.\n",
    "\n",
    "List the top 10 discovered rules in descreasing order of confidence in the following format\n",
    " \n",
    "(item1, item5) ⇒ item2, supportCount ,support, confidence"
   ]
  },
  {
   "cell_type": "markdown",
   "metadata": {},
   "source": [
    "<a name=\"3.8.1\"></a>\n",
    "## HW3.8.1\n",
    "\n",
    "Benchmark your results using the pyFIM implementation of the Apriori algorithm\n",
    "(Apriori - Association Rule Induction / Frequent Item Set Mining implemented by Christian Borgelt). \n",
    "You can download pyFIM from here: \n",
    "\n",
    "http://www.borgelt.net/pyfim.html\n",
    "\n",
    "Comment on the results from both implementations (your Hadoop MapReduce of apriori versus pyFIM) \n",
    "in terms of results and execution times."
   ]
  },
  {
   "cell_type": "markdown",
   "metadata": {},
   "source": [
    "END OF HOMEWORK\n",
    "==============="
   ]
  }
 ],
 "metadata": {
  "kernelspec": {
   "display_name": "Python 2",
   "language": "python",
   "name": "python2"
  },
  "language_info": {
   "codemirror_mode": {
    "name": "ipython",
    "version": 2
   },
   "file_extension": ".py",
   "mimetype": "text/x-python",
   "name": "python",
   "nbconvert_exporter": "python",
   "pygments_lexer": "ipython2",
   "version": "2.7.14"
  },
  "toc": {
   "colors": {
    "hover_highlight": "#DAA520",
    "running_highlight": "#FF0000",
    "selected_highlight": "#FFD700"
   },
   "moveMenuLeft": true,
   "nav_menu": {
    "height": "512px",
    "width": "252px"
   },
   "navigate_menu": true,
   "number_sections": false,
   "sideBar": false,
   "threshold": 4,
   "toc_cell": true,
   "toc_position": {
    "height": "40px",
    "left": "231px",
    "right": "20px",
    "top": "126px",
    "width": "372px"
   },
   "toc_section_display": "none",
   "toc_window_display": true,
   "widenNotebook": false
  }
 },
 "nbformat": 4,
 "nbformat_minor": 2
}
