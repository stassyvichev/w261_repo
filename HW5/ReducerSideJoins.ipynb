{
 "cells": [
  {
   "cell_type": "markdown",
   "metadata": {
    "toc": "true"
   },
   "source": [
    "# Table of Contents\n",
    " <p><div class=\"lev1 toc-item\"><a href=\"#Reducer-Joins\" data-toc-modified-id=\"Reducer-Joins-1\"><span class=\"toc-item-num\">1&nbsp;&nbsp;</span>Reducer Joins</a></div><div class=\"lev2 toc-item\"><a href=\"#A-slightly-modified-version-that-works-with-the-HW5.1-toy-dataset,-as-well-as-contains-explanations\" data-toc-modified-id=\"A-slightly-modified-version-that-works-with-the-HW5.1-toy-dataset,-as-well-as-contains-explanations-11\"><span class=\"toc-item-num\">1.1&nbsp;&nbsp;</span>A slightly modified version that works with the HW5.1 toy dataset, as well as contains explanations</a></div><div class=\"lev2 toc-item\"><a href=\"#Sligthly-modified-version-that-works-with-the-HW5.2-msweb-dataset\" data-toc-modified-id=\"Sligthly-modified-version-that-works-with-the-HW5.2-msweb-dataset-12\"><span class=\"toc-item-num\">1.2&nbsp;&nbsp;</span>Sligthly modified version that works with the HW5.2 msweb dataset</a></div>"
   ]
  },
  {
   "cell_type": "markdown",
   "metadata": {},
   "source": [
    "# Reducer Joins"
   ]
  },
  {
   "cell_type": "code",
   "execution_count": 117,
   "metadata": {
    "collapsed": false
   },
   "outputs": [
    {
     "data": {
      "image/png": "[encoded data removed]",
      "text/plain": [
       "<IPython.core.display.Image object>"
      ]
     },
     "execution_count": 117,
     "metadata": {},
     "output_type": "execute_result"
    }
   ],
   "source": [
    "from IPython.display import Image\n",
    "Image(\"join-customers-orders.png\")"
   ]
  },
  {
   "cell_type": "code",
   "execution_count": 118,
   "metadata": {
    "collapsed": false
   },
   "outputs": [
    {
     "name": "stdout",
     "output_type": "stream",
     "text": [
      "Overwriting customers.dat\n"
     ]
    }
   ],
   "source": [
    "%%writefile customers.dat\n",
    "1|Alice Bob|31|CA\n",
    "2|Sam Sneed|51|NV\n",
    "3|Jon Sneed|37|CA\n",
    "4|Arnold Wesise|17|NY\n",
    "5|Henry Bob|25|NV\n",
    "6|Yo Yo Ma|37|NY\n",
    "7|Jon York|41|WA\n",
    "8|Alex Ball|26|WA\n",
    "9|Jim Davis|19|CA"
   ]
  },
  {
   "cell_type": "code",
   "execution_count": 119,
   "metadata": {
    "collapsed": false
   },
   "outputs": [
    {
     "name": "stdout",
     "output_type": "stream",
     "text": [
      "Overwriting orders.dat\n"
     ]
    }
   ],
   "source": [
    "%%writefile orders.dat\n",
    "1|Apple\n",
    "3|Garlic\n",
    "2|Milk\n",
    "1|Iphone\n",
    "4|Ipad\n",
    "5|Book\n",
    "7|Potato\n",
    "8|Tomato\n",
    "9|Orange\n",
    "5|shoes"
   ]
  },
  {
   "cell_type": "code",
   "execution_count": 126,
   "metadata": {
    "collapsed": false
   },
   "outputs": [
    {
     "name": "stdout",
     "output_type": "stream",
     "text": [
      "Overwriting ReducerSideJoins.py\n"
     ]
    }
   ],
   "source": [
    "%%writefile ReducerSideJoins.py\n",
    "\n",
    "import sys, os, re\n",
    "from mrjob.job import MRJob\n",
    "\n",
    "class MRJoin(MRJob):\n",
    "  # Data will be sorted by key (the customer id), nd then by value:\n",
    "  # Performs secondary sort on the value starting with either 'A' or 'B'\n",
    "  SORT_VALUES = True\n",
    "\n",
    "  def mapper(self, _, line):\n",
    "    splits = line.rstrip(\"\\n\").split(\"|\")\n",
    "\n",
    "    if len(splits) == 4: # customers\n",
    "      table = 'A' # make customers sort before orders data\n",
    "      cid = splits[0]\n",
    "      yield cid, (table, splits)\n",
    "    else: # orders\n",
    "      table = 'B'\n",
    "      cid = splits[0]\n",
    "      yield cid, (table, splits)\n",
    "\n",
    "  def reducer(self, key, values):\n",
    "    for value in values:\n",
    "      # customer should come first, as customers are sorted on artificial key 'A'. \n",
    "      # Also, we assume that custmer id is a unique identifier\n",
    "      if value[0] == 'A':\n",
    "        customer=value[1:][0][1:]\n",
    "      if value[0] == 'B' and customer:\n",
    "        transaction=value[1:][0][1:]\n",
    "        yield key, customer + transaction\n",
    "\n",
    "class MRLeftJoin(MRJoin):\n",
    "  def reducer(self, key, values):\n",
    "    transactionSeen = False\n",
    "    for value in values:\n",
    "      if value[0] == 'A': \n",
    "        customer=value[1:][0][1:]\n",
    "      if value[0] == 'B' and customer: \n",
    "        transactionSeen = True\n",
    "        transaction=value[1:][0][1:]\n",
    "        yield key, customer + transaction   \n",
    "    if not transactionSeen and customer:\n",
    "        yield key, customer+[None]\n",
    "    \n",
    "class MRRightJoin(MRJoin):\n",
    "  def reducer(self, key, values):\n",
    "    for value in values:\n",
    "      if value[0] == 'A':\n",
    "        customer=value[1:][0][1:]\n",
    "      if value[0] == 'B':\n",
    "        transaction=value[1:][0][1:]\n",
    "        if customer:\n",
    "            yield key, customer + transaction      \n",
    "        else:\n",
    "            yield \"Unknown Customer\", transaction\n",
    "                \n",
    "    \n",
    "if __name__ == '__main__':\n",
    "  MRJoin.run()"
   ]
  },
  {
   "cell_type": "code",
   "execution_count": 127,
   "metadata": {
    "collapsed": false
   },
   "outputs": [
    {
     "name": "stdout",
     "output_type": "stream",
     "text": [
      "1 ['Alice Bob', '31', 'CA', 'Apple']\n",
      "1 ['Alice Bob', '31', 'CA', 'Iphone']\n",
      "2 ['Sam Sneed', '51', 'NV', 'Milk']\n",
      "3 ['Jon Sneed', '37', 'CA', 'Garlic']\n",
      "4 ['Arnold Wesise', '17', 'NY', 'Ipad']\n",
      "5 ['Henry Bob', '25', 'NV', 'Book']\n",
      "5 ['Henry Bob', '25', 'NV', 'shoes']\n",
      "7 ['Jon York', '41', 'WA', 'Potato']\n",
      "8 ['Alex Ball', '26', 'WA', 'Tomato']\n",
      "9 ['Jim Davis', '19', 'CA', 'Orange']\n",
      "\"MRJoin\" : 10 rows\n",
      "\n",
      "1 ['Alice Bob', '31', 'CA', 'Apple']\n",
      "1 ['Alice Bob', '31', 'CA', 'Iphone']\n",
      "2 ['Sam Sneed', '51', 'NV', 'Milk']\n",
      "3 ['Jon Sneed', '37', 'CA', 'Garlic']\n",
      "4 ['Arnold Wesise', '17', 'NY', 'Ipad']\n",
      "5 ['Henry Bob', '25', 'NV', 'Book']\n",
      "5 ['Henry Bob', '25', 'NV', 'shoes']\n",
      "6 ['Yo Yo Ma', '37', 'NY', None]\n",
      "7 ['Jon York', '41', 'WA', 'Potato']\n",
      "8 ['Alex Ball', '26', 'WA', 'Tomato']\n",
      "9 ['Jim Davis', '19', 'CA', 'Orange']\n",
      "\"MRLeftJoin\" : 11 rows\n",
      "\n",
      "1 ['Alice Bob', '31', 'CA', 'Apple']\n",
      "1 ['Alice Bob', '31', 'CA', 'Iphone']\n",
      "2 ['Sam Sneed', '51', 'NV', 'Milk']\n",
      "3 ['Jon Sneed', '37', 'CA', 'Garlic']\n",
      "4 ['Arnold Wesise', '17', 'NY', 'Ipad']\n",
      "5 ['Henry Bob', '25', 'NV', 'Book']\n",
      "5 ['Henry Bob', '25', 'NV', 'shoes']\n",
      "7 ['Jon York', '41', 'WA', 'Potato']\n",
      "8 ['Alex Ball', '26', 'WA', 'Tomato']\n",
      "9 ['Jim Davis', '19', 'CA', 'Orange']\n",
      "\"MRRightJoin\" : 10 rows\n",
      "\n"
     ]
    }
   ],
   "source": [
    "from ReducerSideJoins import MRJoin, MRLeftJoin, MRRightJoin\n",
    "\n",
    "for join_type in [MRJoin, MRLeftJoin, MRRightJoin]:\n",
    "    mr_job = join_type([\"customers.dat\", \"orders.dat\"])    \n",
    "    with mr_job.make_runner() as runner:\n",
    "        runner.run()\n",
    "        counter = 0\n",
    "        for line in runner.stream_output():\n",
    "            counter += 1\n",
    "            key, value = mr_job.parse_output_line(line)\n",
    "            print key, value\n",
    "            \n",
    "        className=str(mr_job).split(\".\")[1].split(\" \")[0]    \n",
    "        print '\"%s\" : %d rows\\n' % (className, counter)"
   ]
  },
  {
   "cell_type": "markdown",
   "metadata": {},
   "source": [
    "## A slightly modified version that works with the HW5.1 toy dataset, as well as contains explanations"
   ]
  },
  {
   "cell_type": "code",
   "execution_count": 128,
   "metadata": {
    "collapsed": false
   },
   "outputs": [
    {
     "name": "stdout",
     "output_type": "stream",
     "text": [
      "Overwriting ReducerSideJoins.py\n"
     ]
    }
   ],
   "source": [
    "%%writefile ReducerSideJoins.py\n",
    "\n",
    "import sys, os, re\n",
    "from mrjob.job import MRJob\n",
    "\n",
    "class MRJoin(MRJob):\n",
    "  # Data will be sorted by key (the country id), nd then by value:\n",
    "  # Performs secondary sort on the value starting with either 'A' or 'B'\n",
    "  SORT_VALUES = True\n",
    "\n",
    "  def mapper(self, _, line):\n",
    "    splits = line.rstrip(\"\\n\").split(\"|\")\n",
    "\n",
    "    if len(splits) == 2: # countries\n",
    "      table = 'A' # make countries sort before transactions data\n",
    "      cid = splits[1]\n",
    "      yield cid, (table, splits)\n",
    "    else: # transactions\n",
    "      table = 'B'\n",
    "      cid = splits[2]\n",
    "      yield cid, (table, splits)\n",
    "\n",
    "  def reducer(self, key, values):\n",
    "    country = [None]\n",
    "    for value in values:\n",
    "      # country should come first, as countries are sorted on artificial key 'A'. \n",
    "      # Also, we assume that country id is a unique identifier\n",
    "      if value[0] == 'A':\n",
    "        country=value[1:]\n",
    "      if value[0] == 'B' and country[0] is not None:\n",
    "        transaction=value[1:]\n",
    "        yield key, country + transaction\n",
    "\n",
    "class MRLeftJoin(MRJoin):\n",
    "  \n",
    "  #####################################################################\n",
    "  # For a Left-Join we want to make sure that we are not emitting any \n",
    "  # rows where there is no row in the left table, hence this check: \n",
    "  # \"and country[0] is not None\"\n",
    "  #####################################################################\n",
    "  \n",
    "  \n",
    "  def reducer(self, key, values):\n",
    "    \n",
    "    ##################################################################\n",
    "    # transactionSeen = False\n",
    "    #\n",
    "    # keeps track of whether the transaction has been seen, in other \n",
    "    # words, whether there is an entry in the right table 'B'. This \n",
    "    # makes the reducer stateful, but only using a single value, \n",
    "    # so it is not a memory concern.\n",
    "    ##################################################################\n",
    "    \n",
    "    transactionSeen = False\n",
    "    \n",
    "    ##################################################################\n",
    "    # country = [None]\n",
    "    #\n",
    "    # initialize the country to None. Wrap 'None' in a list for  \n",
    "    # convenience so we can concatenate the country and transaction \n",
    "    # lists thus avoiding ugly string manipulation\n",
    "    ##################################################################\n",
    "    \n",
    "    country = [None]\n",
    "    \n",
    "    for value in values:\n",
    "      if value[0] == 'A': \n",
    "        country=value[1:]\n",
    "      if value[0] == 'B' and country[0] is not None: \n",
    "        transactionSeen = True\n",
    "        transaction=value[1:]\n",
    "        yield key, country + transaction\n",
    "    if transactionSeen == False and country[0] is not None:\n",
    "        yield key, country + [None]\n",
    "    \n",
    "class MRRightJoin(MRJoin):\n",
    "  \n",
    "  #################################################################\n",
    "  # For a Right-Join we want to make that we are not emitting any \n",
    "  # rows where there is no row in the right table, hence this check:\n",
    "  # we only yield a row if we come across a transaction.\n",
    "  #################################################################\n",
    "  \n",
    "  def reducer(self, key, values):\n",
    "    country = [None]\n",
    "    for value in values:\n",
    "      if value[0] == 'A':\n",
    "        country=value[1:]\n",
    "      if value[0] == 'B':\n",
    "        transaction=value[1:]\n",
    "        yield key, country + transaction\n",
    "    \n",
    "if __name__ == '__main__':\n",
    "  MRJoin.run()"
   ]
  },
  {
   "cell_type": "code",
   "execution_count": 1,
   "metadata": {
    "collapsed": false
   },
   "outputs": [
    {
     "name": "stdout",
     "output_type": "stream",
     "text": [
      "CA [['Canada', 'CA'], ['Jon Sneed', '$20', 'CA']]\n",
      "CA [['Canada', 'CA'], ['Jon York', '$44', 'CA']]\n",
      "CA [['Canada', 'CA'], ['Sam Sneed', '$1', 'CA']]\n",
      "CA [['Canada', 'CA'], ['Yo Yo Ma', '$2', 'CA']]\n",
      "UK [['United Kingdom', 'UK'], ['Alex Ball', '$5', 'UK']]\n",
      "UK [['United Kingdom', 'UK'], ['Arnold Wesise', '$400', 'UK']]\n",
      "US [['United States', 'US'], ['Alice Bob', '$10', 'US']]\n",
      "US [['United States', 'US'], ['Henry Bob', '$2', 'US']]\n",
      "\"MRJoin\" : 8 rows\n",
      "\n",
      "CA [['Canada', 'CA'], ['Jon Sneed', '$20', 'CA']]\n",
      "CA [['Canada', 'CA'], ['Jon York', '$44', 'CA']]\n",
      "CA [['Canada', 'CA'], ['Sam Sneed', '$1', 'CA']]\n",
      "CA [['Canada', 'CA'], ['Yo Yo Ma', '$2', 'CA']]\n",
      "IT [['Italy', 'IT'], None]\n",
      "UK [['United Kingdom', 'UK'], ['Alex Ball', '$5', 'UK']]\n",
      "UK [['United Kingdom', 'UK'], ['Arnold Wesise', '$400', 'UK']]\n",
      "US [['United States', 'US'], ['Alice Bob', '$10', 'US']]\n",
      "US [['United States', 'US'], ['Henry Bob', '$2', 'US']]\n",
      "\"MRLeftJoin\" : 9 rows\n",
      "\n",
      "CA [['Canada', 'CA'], ['Jon Sneed', '$20', 'CA']]\n",
      "CA [['Canada', 'CA'], ['Jon York', '$44', 'CA']]\n",
      "CA [['Canada', 'CA'], ['Sam Sneed', '$1', 'CA']]\n",
      "CA [['Canada', 'CA'], ['Yo Yo Ma', '$2', 'CA']]\n",
      "JA [None, ['Jim Davis', '$66', 'JA']]\n",
      "UK [['United Kingdom', 'UK'], ['Alex Ball', '$5', 'UK']]\n",
      "UK [['United Kingdom', 'UK'], ['Arnold Wesise', '$400', 'UK']]\n",
      "US [['United States', 'US'], ['Alice Bob', '$10', 'US']]\n",
      "US [['United States', 'US'], ['Henry Bob', '$2', 'US']]\n",
      "\"MRRightJoin\" : 9 rows\n",
      "\n"
     ]
    }
   ],
   "source": [
    "from ReducerSideJoins import MRJoin, MRLeftJoin, MRRightJoin\n",
    "\n",
    "for join_type in [MRJoin, MRLeftJoin, MRRightJoin]:\n",
    "    mr_job = join_type([\"countries.dat\", \"transactions.dat\"])    \n",
    "    with mr_job.make_runner() as runner:\n",
    "        runner.run()\n",
    "        counter = 0\n",
    "        for line in runner.stream_output():\n",
    "            counter += 1\n",
    "            key, value = mr_job.parse_output_line(line)\n",
    "            print key, value\n",
    "            \n",
    "        className=str(mr_job).split(\".\")[1].split(\" \")[0]    \n",
    "        print '\"%s\" : %d rows\\n' % (className, counter)"
   ]
  },
  {
   "cell_type": "markdown",
   "metadata": {},
   "source": [
    "## Sligthly modified version that works with the HW5.2 msweb dataset"
   ]
  },
  {
   "cell_type": "markdown",
   "metadata": {},
   "source": [
    "<img src=\"http://www.candpgeneration.com/images/JOINS.png\" style=\"float:left\">"
   ]
  },
  {
   "cell_type": "code",
   "execution_count": 2,
   "metadata": {
    "collapsed": false
   },
   "outputs": [
    {
     "name": "stdout",
     "output_type": "stream",
     "text": [
      "A,1287,1,International AutoRoute,/autoroute\n",
      "A,1288,1,library,/library\n",
      "A,1289,1,Master Chef Product Information,/masterchef\n",
      "A,1297,1,Central America,/centroam\n",
      "A,1215,1,For Developers Only Info,/developer\n",
      "A,1279,1,Multimedia Golf,/msgolf\n",
      "A,1239,1,Microsoft Consulting,/msconsult\n",
      "A,1282,1,home,/home\n",
      "A,1251,1,Reference Support,/referencesupport\n",
      "A,1121,1,Microsoft Magazine,/magazine\n",
      "     294 urls-msweb.csv\n"
     ]
    }
   ],
   "source": [
    "!head urls-msweb.csv\n",
    "!wc -l urls-msweb.csv"
   ]
  },
  {
   "cell_type": "code",
   "execution_count": 3,
   "metadata": {
    "collapsed": false
   },
   "outputs": [
    {
     "name": "stdout",
     "output_type": "stream",
     "text": [
      "V,1000,1,C,10001\n",
      "V,1001,1,C,10001\n",
      "V,1002,1,C,10001\n",
      "V,1001,1,C,10002\n",
      "V,1003,1,C,10002\n",
      "V,1001,1,C,10003\n",
      "V,1003,1,C,10003\n",
      "V,1004,1,C,10003\n",
      "V,1005,1,C,10004\n",
      "V,1006,1,C,10005\n",
      "   98654 customers-msweb.csv\n"
     ]
    }
   ],
   "source": [
    "!head customers-msweb.csv\n",
    "!wc -l customers-msweb.csv"
   ]
  },
  {
   "cell_type": "code",
   "execution_count": 1,
   "metadata": {
    "collapsed": false
   },
   "outputs": [
    {
     "name": "stdout",
     "output_type": "stream",
     "text": [
      "Overwriting ReducerSideJoinsMSWEB.py\n"
     ]
    }
   ],
   "source": [
    "%%writefile ReducerSideJoinsMSWEB.py\n",
    "\n",
    "import sys, os, re\n",
    "from mrjob.job import MRJob\n",
    "\n",
    "class MRJoin(MRJob):\n",
    "  # Data will be sorted by key (the customer id), and then by value:\n",
    "  # Performs secondary sort on the value starting with either 'A' or 'V'\n",
    "  # fortuitously, the data already contains 'A' and 'V', so there is no need to prepend keys.\n",
    "  SORT_VALUES = True\n",
    "\n",
    "  def mapper(self, _, line):\n",
    "    splits = line.rstrip(\"\\n\").split(\",\")\n",
    "    cid = splits[1]\n",
    "    yield cid, (splits[0], splits)\n",
    "\n",
    "  def reducer(self, key, values):\n",
    "    for value in values:\n",
    "      leftTBL = [None]\n",
    "      if value[0] == 'A':\n",
    "        leftTBL=value[1:]\n",
    "      if value[0] == 'V':\n",
    "        rightTBL=value[1:]\n",
    "        yield key, leftTBL + rightTBL\n",
    "\n",
    "class MRLeftJoin(MRJoin):\n",
    "  def reducer(self, key, values):\n",
    "    transactionSeen = False\n",
    "    leftTBL = [None]\n",
    "    for value in values:\n",
    "      if value[0] == 'A': \n",
    "        leftTBL=value[1:]\n",
    "      if value[0] == 'V' and leftTBL[0] is not None: \n",
    "        transactionSeen = True\n",
    "        rightTBL=value[1:]\n",
    "        yield key, leftTBL + rightTBL   \n",
    "    if not transactionSeen and leftTBL[0] is not None:\n",
    "        yield key, leftTBL+[None]\n",
    "    \n",
    "class MRRightJoin(MRJoin):\n",
    "  def reducer(self, key, values):\n",
    "    leftTBL = [None]\n",
    "    for value in values:\n",
    "      if value[0] == 'A':\n",
    "        leftTBL=value[1:]\n",
    "      if value[0] == 'V':\n",
    "        rightTBL=value[1:]\n",
    "        yield key, leftTBL + rightTBL      \n",
    "\n",
    "                \n",
    "    \n",
    "if __name__ == '__main__':\n",
    "  MRJoin.run()"
   ]
  },
  {
   "cell_type": "code",
   "execution_count": 2,
   "metadata": {
    "collapsed": false
   },
   "outputs": [
    {
     "name": "stdout",
     "output_type": "stream",
     "text": [
      "\"MRJoin\" : 98654 rows\n",
      "\n",
      "\"MRLeftJoin\" : 98663 rows\n",
      "\n",
      "\"MRRightJoin\" : 98654 rows\n",
      "\n"
     ]
    }
   ],
   "source": [
    "from ReducerSideJoinsMSWEB import MRJoin, MRLeftJoin, MRRightJoin\n",
    "\n",
    "for join_type in [MRJoin, MRLeftJoin, MRRightJoin]:\n",
    "    mr_job = join_type([\"urls-msweb.csv\", \"customers-msweb.csv\"])    \n",
    "    with mr_job.make_runner() as runner:\n",
    "        runner.run()\n",
    "        counter = 0\n",
    "        for line in runner.stream_output():\n",
    "            counter += 1\n",
    "            key, value = mr_job.parse_output_line(line)\n",
    "#             print key, value # don't print, you will prob crash jupyter UI\n",
    "            \n",
    "        className=str(mr_job).split(\".\")[1].split(\" \")[0]    \n",
    "        print '\"%s\" : %d rows\\n' % (className, counter)"
   ]
  },
  {
   "cell_type": "code",
   "execution_count": null,
   "metadata": {
    "collapsed": true
   },
   "outputs": [],
   "source": []
  }
 ],
 "metadata": {
  "kernelspec": {
   "display_name": "Python 2",
   "language": "python",
   "name": "python2"
  },
  "language_info": {
   "codemirror_mode": {
    "name": "ipython",
    "version": 2
   },
   "file_extension": ".py",
   "mimetype": "text/x-python",
   "name": "python",
   "nbconvert_exporter": "python",
   "pygments_lexer": "ipython2",
   "version": "2.7.11"
  },
  "toc": {
   "colors": {
    "hover_highlight": "#DAA520",
    "running_highlight": "#FF0000",
    "selected_highlight": "#FFD700"
   },
   "moveMenuLeft": true,
   "nav_menu": {
    "height": "12px",
    "width": "252px"
   },
   "navigate_menu": true,
   "number_sections": true,
   "sideBar": false,
   "threshold": 4,
   "toc_cell": true,
   "toc_section_display": "block",
   "toc_window_display": true
  }
 },
 "nbformat": 4,
 "nbformat_minor": 0
}
