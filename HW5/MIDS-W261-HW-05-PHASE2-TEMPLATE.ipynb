{
 "cells": [
  {
   "cell_type": "markdown",
   "metadata": {},
   "source": [
    "# MIDS - w261 Machine Learning At Scale\n",
    "__Course Lead:__ Dr James G. Shanahan (__email__ Jimi via  James.Shanahan _AT_ gmail.com)\n",
    "\n",
    "## Assignment - HW5 Phase 2\n",
    "\n",
    "\n",
    "---\n",
    "__Name:__  *Your Name Goes Here*   \n",
    "__Class:__ MIDS w261 (Section *Your Section Goes Here*, e.g., Fall 2016 Group 1)     \n",
    "__Email:__  *Your UC Berkeley Email Goes Here*@iSchool.Berkeley.edu     \n",
    "__StudentId__  123457    __End of StudentId__     \n",
    "__Week:__   5.5\n",
    "\n",
    "__NOTE:__ please replace `1234567` with your student id above      \n",
    "__Due Time:__ HW is due the Thursday of the following week by 8AM (West coast time).\n",
    "\n",
    "* __HW5 Phase 1__ \n",
    "This can be done on a local machine (with a unit test on the cloud such as Altiscale's PaaS or on AWS) and is due Thursday, Week 6 by 8AM (West coast time). It will primarily focus on building a unit/systems and for pairwise similarity calculations pipeline (for stripe documents)\n",
    "\n",
    "* __HW5 Phase 2__ \n",
    "This will require the Altiscale cluster and will be due Thursday of the following week by 8AM (West coast time). \n",
    "The focus of  HW5 Phase 2  will be to scale up the unit/systems tests to the Google 5 gram corpus. "
   ]
  },
  {
   "cell_type": "markdown",
   "metadata": {},
   "source": [
    "# Datasets\n",
    "\n",
    "For Phase 2 you will first use the small datasets from phase 1 to systems test your code in the cloud. Then you will test your code on 1 file and then 20 files before running the full (191 file) Google n-gram dataset."
   ]
  },
  {
   "cell_type": "markdown",
   "metadata": {},
   "source": [
    "__Small data for systems tests__"
   ]
  },
  {
   "cell_type": "code",
   "execution_count": 1,
   "metadata": {},
   "outputs": [
    {
     "name": "stdout",
     "output_type": "stream",
     "text": [
      "Overwriting atlas-boon-systems-test.txt\n"
     ]
    }
   ],
   "source": [
    "%%writefile atlas-boon-systems-test.txt\n",
    "atlas boon\t50\t50\t50\n",
    "boon cava dipped\t10\t10\t10\n",
    "atlas dipped\t15\t15\t15"
   ]
  },
  {
   "cell_type": "code",
   "execution_count": null,
   "metadata": {
    "collapsed": true
   },
   "outputs": [],
   "source": [
    "%%writefile googlebooks-eng-all-5gram-20090715-0-filtered-first-10-lines.txt\n",
    "A BILL FOR ESTABLISHING RELIGIOUS\t59\t59\t54\n",
    "A Biography of General George\t92\t90\t74\n",
    "A Case Study in Government\t102\t102\t78\n",
    "A Case Study of Female\t447\t447\t327\n",
    "A Case Study of Limited\t55\t55\t43\n",
    "A Child's Christmas in Wales\t1099\t1061\t866\n",
    "A Circumstantial Narrative of the\t62\t62\t50\n",
    "A City by the Sea\t62\t60\t49\n",
    "A Collection of Fairy Tales\t123\t117\t80\n",
    "A Collection of Forms of\t116\t103\t82"
   ]
  },
  {
   "cell_type": "markdown",
   "metadata": {},
   "source": [
    "__Paths to Main data in HDFS on Altiscale__"
   ]
  },
  {
   "cell_type": "code",
   "execution_count": 8,
   "metadata": {},
   "outputs": [],
   "source": [
    "import os\n",
    "USER = !whoami\n",
    "USER = USER[0]\n",
    "OUTPUT_PATH_BASE = '/user/{USER}'.format(USER=USER)\n",
    "TEST_1 = \"/user/winegarj/data/1_test\"\n",
    "TEST_20 = \"/user/winegarj/data/20_test\"\n",
    "FULL_DATA = \"/user/winegarj/data/full\" \n",
    "HDFS_DIR = \"/user/root/hw51\" # eg. /user/root/hw3 \n",
    "HOME_DIR = os.getcwd()\n",
    "USER_DIR = \"/home/stassyvichev\""
   ]
  },
  {
   "cell_type": "code",
   "execution_count": 3,
   "metadata": {},
   "outputs": [],
   "source": [
    "# general imports\n",
    "import os\n",
    "import re\n",
    "import sys\n",
    "from os import environ\n",
    "import numpy as np\n",
    "import matplotlib.pyplot as plt\n",
    "PATH  = environ['PATH']\n",
    "# tell matplotlib not to open a new window\n",
    "%matplotlib inline\n",
    "\n",
    "# automatically reload modules \n",
    "%reload_ext autoreload\n",
    "%autoreload 2"
   ]
  },
  {
   "cell_type": "code",
   "execution_count": 4,
   "metadata": {},
   "outputs": [
    {
     "name": "stdout",
     "output_type": "stream",
     "text": [
      "Python Version: 2.7.14 \n",
      "HDFS filesystem running at: \n",
      "\t hdfs://nn-ia.s3s.altiscale.com:8020\n"
     ]
    }
   ],
   "source": [
    "# print some configuration details for future replicability.\n",
    "print 'Python Version: %s' % (sys.version.split('|')[0])\n",
    "hdfs_conf = !hdfs getconf -confKey fs.defaultFS ### UNCOMMENT ON DOCKER\n",
    "#hdfs_conf = !hdfs getconf -confKey fs.default.name ### UNCOMMENT ON ALTISCALE\n",
    "print 'HDFS filesystem running at: \\n\\t %s' % (hdfs_conf[0])"
   ]
  },
  {
   "cell_type": "code",
   "execution_count": 5,
   "metadata": {},
   "outputs": [
    {
     "name": "stdout",
     "output_type": "stream",
     "text": [
      "mkdir: `hw52': File exists\r\n"
     ]
    }
   ],
   "source": [
    "# create an HDFS directory for this assignment\n",
    "!hdfs dfs -mkdir hw52"
   ]
  },
  {
   "cell_type": "code",
   "execution_count": 9,
   "metadata": {},
   "outputs": [
    {
     "data": {
      "application/javascript": [
       "$('.math>span').css(\"border-left-color\",\"transparent\")"
      ],
      "text/plain": [
       "<IPython.core.display.Javascript object>"
      ]
     },
     "metadata": {},
     "output_type": "display_data"
    }
   ],
   "source": [
    "%%javascript\n",
    "$('.math>span').css(\"border-left-color\",\"transparent\")"
   ]
  },
  {
   "cell_type": "markdown",
   "metadata": {},
   "source": [
    "# Set - Up for Phase 2\n",
    "Before you can run your simlarity analysis on the full Google n-gram dataset you should confirm that the code your wrote in Phase 1 works on the cloud. In the space below, copy the code for your three jobs from Phase 1 (`buildStripes.py`, `invertedIndex.py`, `similarity.py`) and rerun your  atlas-boon systems tests on Altiscale (i.e. ** the cloud**). NOTE: _you may end up modifying this code when you get to 5.7, that's fine._"
   ]
  },
  {
   "cell_type": "markdown",
   "metadata": {},
   "source": [
    "### `buildStripesP2.py`"
   ]
  },
  {
   "cell_type": "code",
   "execution_count": 10,
   "metadata": {},
   "outputs": [
    {
     "name": "stdout",
     "output_type": "stream",
     "text": [
      "Overwriting buildStripesP2.py\n"
     ]
    }
   ],
   "source": [
    "%%writefile buildStripesP2.py\n",
    "#!~/anaconda2/bin/python\n",
    "# -*- coding: utf-8 -*-\n",
    "\n",
    "from __future__ import division\n",
    "import re\n",
    "import mrjob\n",
    "import json\n",
    "from mrjob.protocol import RawProtocol\n",
    "from mrjob.job import MRJob\n",
    "from mrjob.step import MRStep\n",
    "\n",
    "class MRbuildStripes(MRJob):\n",
    "    SORT_VALUES = True\n",
    "    \n",
    "    def mapper(self, _, line):\n",
    "        fields = line.lower().strip(\"\\n\").split(\"\\t\")\n",
    "        words = fields[0].split(\" \")\n",
    "        occurrence_count = int(fields[1])\n",
    "        count = 1\n",
    "        for word in words:\n",
    "            for i in xrange(count, len(words)):\n",
    "                yield word, (words[i], occurrence_count)\n",
    "                yield words[i], (word, occurrence_count)\n",
    "            count += 1\n",
    "    \n",
    "    def reducer(self, word, occurrence_counts):\n",
    "        stripe = {}\n",
    "        for other_word, occurrence_count in occurrence_counts:\n",
    "            stripe[other_word] = stripe.get(other_word,0)+occurrence_count\n",
    "        yield word, stripe\n",
    "\n",
    "if __name__ == '__main__':\n",
    "    MRbuildStripes.run()"
   ]
  },
  {
   "cell_type": "code",
   "execution_count": 12,
   "metadata": {},
   "outputs": [
    {
     "name": "stdout",
     "output_type": "stream",
     "text": [
      "rm: `/user/stassyvichev/test_buildStripes': No such file or directory\n",
      "Using configs in /home/stassyvichev/.mrjob.conf\n",
      "Looking for hadoop binary in /opt/hadoop/bin...\n",
      "Found hadoop binary: /opt/hadoop/bin/hadoop\n",
      "Using Hadoop version 2.7.3\n",
      "Looking for Hadoop streaming jar in /opt/hadoop...\n",
      "Found Hadoop streaming jar: /opt/hadoop/share/hadoop/tools/lib/hadoop-streaming-2.7.3.jar\n",
      "Creating temp directory /tmp/buildStripesP2.stassyvichev.20180217.145539.303785\n",
      "Copying local files to hdfs:///user/stassyvichev/tmp/mrjob/buildStripesP2.stassyvichev.20180217.145539.303785/files/...\n",
      "Running step 1 of 1...\n",
      "  packageJobJar: [] [/opt/hadoop-2.7.3/share/hadoop/tools/lib/hadoop-streaming-2.7.3.jar] /tmp/streamjob5834547609153019611.jar tmpDir=null\n",
      "  Timeline service address: http://rm-ia.s3s.altiscale.com:8188/ws/v1/timeline/\n",
      "  Connecting to ResourceManager at rm-ia.s3s.altiscale.com/10.251.255.108:8032\n",
      "  Connecting to Application History server at rm-ia.s3s.altiscale.com/10.251.255.108:10200\n",
      "  Timeline service address: http://rm-ia.s3s.altiscale.com:8188/ws/v1/timeline/\n",
      "  Connecting to ResourceManager at rm-ia.s3s.altiscale.com/10.251.255.108:8032\n",
      "  Connecting to Application History server at rm-ia.s3s.altiscale.com/10.251.255.108:10200\n",
      "  Loaded native gpl library from the embedded binaries\n",
      "  Successfully loaded & initialized native-lzo library [hadoop-lzo rev d62701d4d05dfa6115bbaf8d9dff002df142e62d]\n",
      "  Total input paths to process : 1\n",
      "  number of splits:2\n",
      "  Submitting tokens for job: job_1509050304403_11979\n",
      "  Submitted application application_1509050304403_11979\n",
      "  The url to track the job: http://rm-ia.s3s.altiscale.com:8088/proxy/application_1509050304403_11979/\n",
      "  Running job: job_1509050304403_11979\n",
      "  Job job_1509050304403_11979 running in uber mode : false\n",
      "   map 0% reduce 0%\n",
      "   map 10% reduce 0%\n",
      "   map 15% reduce 0%\n",
      "   map 19% reduce 0%\n",
      "   map 24% reduce 0%\n",
      "   map 30% reduce 0%\n",
      "   map 34% reduce 0%\n",
      "   map 39% reduce 0%\n",
      "   map 45% reduce 0%\n",
      "   map 50% reduce 0%\n",
      "   map 54% reduce 0%\n",
      "   map 59% reduce 0%\n",
      "   map 64% reduce 0%\n",
      "   map 67% reduce 0%\n",
      "   map 83% reduce 0%\n",
      "   map 100% reduce 0%\n",
      "   map 100% reduce 68%\n",
      "   map 100% reduce 70%\n",
      "   map 100% reduce 72%\n",
      "   map 100% reduce 74%\n",
      "   map 100% reduce 76%\n",
      "   map 100% reduce 78%\n",
      "   map 100% reduce 80%\n",
      "   map 100% reduce 82%\n",
      "   map 100% reduce 84%\n",
      "   map 100% reduce 86%\n",
      "   map 100% reduce 88%\n",
      "   map 100% reduce 90%\n",
      "   map 100% reduce 92%\n",
      "   map 100% reduce 94%\n",
      "   map 100% reduce 96%\n",
      "   map 100% reduce 98%\n",
      "   map 100% reduce 100%\n",
      "  Job job_1509050304403_11979 completed successfully\n",
      "  Output directory: hdfs:///user/stassyvichev/test_buildStripes\n",
      "Counters: 49\n",
      "\tFile Input Format Counters \n",
      "\t\tBytes Read=11489475\n",
      "\tFile Output Format Counters \n",
      "\t\tBytes Written=22448410\n",
      "\tFile System Counters\n",
      "\t\tFILE: Number of bytes read=35744328\n",
      "\t\tFILE: Number of bytes written=74829366\n",
      "\t\tFILE: Number of large read operations=0\n",
      "\t\tFILE: Number of read operations=0\n",
      "\t\tFILE: Number of write operations=0\n",
      "\t\tHDFS: Number of bytes read=11489801\n",
      "\t\tHDFS: Number of bytes written=22448410\n",
      "\t\tHDFS: Number of large read operations=0\n",
      "\t\tHDFS: Number of read operations=9\n",
      "\t\tHDFS: Number of write operations=2\n",
      "\tJob Counters \n",
      "\t\tLaunched map tasks=2\n",
      "\t\tLaunched reduce tasks=1\n",
      "\t\tRack-local map tasks=2\n",
      "\t\tTotal megabyte-milliseconds taken by all map tasks=161080320\n",
      "\t\tTotal megabyte-milliseconds taken by all reduce tasks=151362560\n",
      "\t\tTotal time spent by all map tasks (ms)=104870\n",
      "\t\tTotal time spent by all maps in occupied slots (ms)=314610\n",
      "\t\tTotal time spent by all reduce tasks (ms)=59126\n",
      "\t\tTotal time spent by all reduces in occupied slots (ms)=295630\n",
      "\t\tTotal vcore-milliseconds taken by all map tasks=104870\n",
      "\t\tTotal vcore-milliseconds taken by all reduce tasks=59126\n",
      "\tMap-Reduce Framework\n",
      "\t\tCPU time spent (ms)=160390\n",
      "\t\tCombine input records=0\n",
      "\t\tCombine output records=0\n",
      "\t\tFailed Shuffles=0\n",
      "\t\tGC time elapsed (ms)=381\n",
      "\t\tInput split bytes=326\n",
      "\t\tMap input records=311614\n",
      "\t\tMap output bytes=137309840\n",
      "\t\tMap output materialized bytes=38688982\n",
      "\t\tMap output records=6232280\n",
      "\t\tMerged Map outputs=2\n",
      "\t\tPhysical memory (bytes) snapshot=2158157824\n",
      "\t\tReduce input groups=4437771\n",
      "\t\tReduce input records=6232280\n",
      "\t\tReduce output records=36353\n",
      "\t\tReduce shuffle bytes=38688982\n",
      "\t\tShuffled Maps =2\n",
      "\t\tSpilled Records=12464560\n",
      "\t\tTotal committed heap usage (bytes)=2719481856\n",
      "\t\tVirtual memory (bytes) snapshot=11433144320\n",
      "\tShuffle Errors\n",
      "\t\tBAD_ID=0\n",
      "\t\tCONNECTION=0\n",
      "\t\tIO_ERROR=0\n",
      "\t\tWRONG_LENGTH=0\n",
      "\t\tWRONG_MAP=0\n",
      "\t\tWRONG_REDUCE=0\n",
      "Removing HDFS temp directory hdfs:///user/stassyvichev/tmp/mrjob/buildStripesP2.stassyvichev.20180217.145539.303785...\n",
      "Removing temp directory /tmp/buildStripesP2.stassyvichev.20180217.145539.303785...\n"
     ]
    }
   ],
   "source": [
    "OUTPUT_PATH = os.path.join(OUTPUT_PATH_BASE,'test_buildStripes')\n",
    "!hadoop fs -rm -r {OUTPUT_PATH}\n",
    "!python buildStripesP2.py \\\n",
    "        -r hadoop hdfs://{TEST_1} \\\n",
    "        --output-dir={OUTPUT_PATH} \\\n",
    "        --no-output"
   ]
  },
  {
   "cell_type": "code",
   "execution_count": 25,
   "metadata": {},
   "outputs": [],
   "source": [
    "OUTPUT_PATH = os.path.join(OUTPUT_PATH_BASE,'test_buildStripes')"
   ]
  },
  {
   "cell_type": "code",
   "execution_count": 28,
   "metadata": {},
   "outputs": [
    {
     "name": "stdout",
     "output_type": "stream",
     "text": [
      "\"a\"\t{\"writings\": 43, \"nunnery\": 96, \"progressively\": 46, \"foul\": 679, \"narcotic\": 123, \"four\": 6411, \"prices\": 341, \"prefix\": 180, \"woods\": 44, \"friend's\": 91, \"hanging\": 197, \"localized\": 134, \"briskness\": 47, \"looking\": 1846, \"coarctation\": 41, \"electricity\": 489, \"similarity\": 905, \"johnson's\": 156, \"lore\": 55, \"lord\": 1506, \"shaving\": 111, \"sinking\": 398, \"regional\": 1190, \"grenadiers\": 41, \"stipulate\": 57, \"leisurely\": 187, \"politician\": 503, \"bringing\": 3190, \"differentiated\": 56, \"uttering\": 221, \"prize\": 1810, \"wooden\": 1543, \"broiled\": 54, \"persisted\": 85, \"judicial\": 342, \"shows\": 1433, \"straight\": 2337, \"elegy\": 55, \"charter\": 765, \"specially\": 116, \"maneuver\": 140, \"preface\": 431, \"pulse\": 188, \"budget\": 395, \"feasibility\": 166, \"elegant\": 44, \"second\": 8097, \"sooth\": 67, \"valiant\": 201, \"sailed\": 42, \"horseshoe\": 77, \"prosody\": 49, \"quite\": 8162, \"blouse\": 71, \"solvent\": 309, \"errors\": 178, \"relieving\": 239, \"thunder\": 288, \"contributed\": 2389, \"fingers\": 210, \"designing\": 241, \"contributes\": 206, \"inducement\": 88, \"pressed\": 67, \"pioneering\": 68, \"specialist\": 114, \"hero\": 614, \"reporter\": 219, \"sunbeams\": 90, \"leaning\": 95, \"here\": 8050, \"herd\": 332, \"reported\": 648, \"china\": 1034, \"cult\": 108, \"shriek\": 99, \"kids\": 107, \"granting\": 259, \"sentinel's\": 62, \"elaborate\": 367, \"climbed\": 280, \"reports\": 671, \"controversy\": 711, \"etiology\": 197, \"military\": 3251, \"criticism\": 884, \"appropriately\": 59, \"divide\": 60, \"classification\": 407, \"secluded\": 75, \"propounds\": 43, \"brought\": 5712, \"remnant\": 101, \"sizeable\": 61, \"stern\": 687, \"involvement\": 231, \"sinew\": 44, \"unit\": 4900, \"derivatives\": 62, \"sexual\": 944, \"dna\": 179, \"spoke\": 1230, \"insecurity\": 179, \"glimmering\": 80, \"occupying\": 96, \"embarks\": 99, \"panoply\": 40, \"symphony\": 133, \"music\": 861, \"telegraph\": 64, \"violently\": 42, \"strike\": 1151, \"sermons\": 94, \"capital\": 1541, \"females\": 101, \"standardized\": 400, \"holy\": 2052, \"populations\": 89, \"successful\": 2477, \"brings\": 498, \"hereby\": 66, \"sortie\": 43, \"hurt\": 469, \"glass\": 5484, \"reversible\": 63, \"tying\": 59, \"hole\": 3496, \"hold\": 9219, \"unpack\": 197, \"circumstances\": 370, \"intake\": 87, \"captain's\": 67, \"locked\": 942, \"pursue\": 175, \"blade\": 89, \"temperatures\": 156, \"concepts\": 93, \"revenues\": 468, \"example\": 7190, \"triple\": 403, \"wand\": 513, \"unjust\": 107, \"household\": 209, \"organized\": 1087, \"currency\": 397, \"promulgated\": 294, \"caution\": 173, \"want\": 14257, \"counseling\": 115, \"dyke\": 144, \"absolute\": 352, \"hog\": 292, \"knows\": 367, \"turn\": 3868, \"complaining\": 53, \"travel\": 787, \"copious\": 67, \"machine\": 2271, \"how\": 13121, \"hot\": 1802, \"significance\": 717, \"preferable\": 83, \"void\": 230, \"dignified\": 120, \"fanaticism\": 45, \"gaming\": 90, \"abstraction\": 46, \"supplied\": 133, \"beauty\": 767, \"mediating\": 146, \"modulation\": 62, \"typed\": 46, \"swing\": 599, \"diagram\": 805, \"modest\": 1346, \"destined\": 260, \"constants\": 43, \"profess\": 202, \"effective\": 1127, \"green's\": 89, \"endeavoured\": 62, \"revolt\": 145, \"headquarters\": 106, \"cigarettes\": 65, \"orally\": 1883, \"ho\": 132, \"keeps\": 54, \"democratic\": 2934, \"wing\": 213, \"backdrop\": 216, \"wine\": 861, \"restriction\": 252, \"feedback\": 442, \"dreamed\": 57, \"concurrence\": 475, \"misdemeanor\": 959, \"vary\": 4784, \"whizzing\": 45, \"sunshine\": 126, \"fidelity\": 140, \"wrought\": 103, \"admirably\": 46, \"whoring\": 57, \"fit\": 3381, \"auditory\": 145, \"lifeline\": 82, \"fix\": 204, \"revenue\": 313, \"folate\": 75, \"rescued\": 60, \"distinguishing\": 298, \"fig\": 41, \"nobler\": 245, \"nobles\": 89, \"hidden\": 304, \"fin\": 112, \"easier\": 475, \"grievous\": 172, \"mahometanism\": 54, \"wooded\": 40, \"feconde\": 46, \"educating\": 79, \"detachment\": 991, \"effects\": 3540, \"schools\": 236, \"multidimensional\": 155, \"mimicking\": 65, \"silver\": 1206, \"saddened\": 61, \"scholar\": 308, \"represents\": 1493, \"phenotype\": 101, \"seamstress\": 133, \"naturalist\": 126, \"tuberculin\": 132, \"crops\": 183, \"arrow\": 40, \"retainers\": 108, \"interfering\": 48, \"toll\": 1046, \"burial\": 54, \"preceded\": 149, \"whim\": 153, \"financial\": 2392, \"rink\": 49, \"concord\": 134, \"knockout\": 43, \"garment\": 864, \"allah\": 75, \"displacement\": 265, \"solution\": 12894, \"contracting\": 296, \"depositing\": 295, \"fortnight\": 713, \"substantially\": 205, \"cathedral\": 159, \"whit\": 81, \"whir\": 48, \"blinded\": 44, \"whip\": 273, \"borne\": 306, \"toleration\": 143, \"misfortune\": 158, \"won\": 495, \"rs\": 823, \"semiconductor\": 91, \"re\": 1143, \"encourage\": 157, \"dsm\": 54, \"adapt\": 91, \"millions\": 463, \"strategist\": 56, \"misrepresentations\": 84, \"foundation\": 2076, \"written\": 6843, \"succession\": 1721, \"threatened\": 363, \"fugitive\": 401, \"managerial\": 883, \"crowned\": 176, \"estimate\": 1445, \"cornerstone\": 58, \"chlorine\": 129, \"mimic\": 82, \"ate\": 386, \"shipper\": 74, \"piecemeal\": 79, \"moment\": 25527, \"heading\": 142, \"silicon\": 73, \"disturbed\": 739, \"speedy\": 166, \"atp\": 232, \"stripe\": 154, \"size\": 3945, \"wasp\": 57, \"whereabouts\": 122, \"chloroplast\": 47, \"channels\": 55, \"wash\": 240, \"clarity\": 133, \"bitten\": 56, \"households\": 62, \"silvery\": 46, \"service\": 4306, \"engagement\": 103, \"returns\": 227, \"stack\": 185, \"needed\": 2648, \"grossness\": 179, \"hypothetical\": 234, \"gilbert\": 66, \"legs\": 120, \"bitter\": 1046, \"genesis\": 47, \"listen\": 42, \"danish\": 119, \"collapse\": 340, \"geneva\": 44, \"cushions\": 40, \"fibrous\": 131, \"convention\": 1208, \"exulted\": 53, \"prosthetic\": 66, \"wisdom\": 250, \"advisement\": 52, \"storm's\": 50, \"palsy\": 70, \"crawl\": 263, \"freemen\": 51, \"expanding\": 89, \"surer\": 46, \"peril\": 237, \"outlay\": 48, \"exultation\": 257, \"showed\": 1815, \"hyenas\": 61, \"iteration\": 182, \"nations\": 5604, \"project\": 2961, \"idle\": 95, \"exclaimed\": 178, \"endure\": 176, \"silky\": 134, \"seminary\": 162, \"feeling\": 9466, \"acquisition\": 5102, \"assertiveness\": 43, \"entail\": 80, \"willingness\": 533, \"boston\": 810, \"broody\": 41, \"untrained\": 85, \"purchaser\": 281, \"increment\": 292, \"tale\": 2709, \"alive\": 210, \"dozen\": 6044, \"affairs\": 879, \"absorber\": 57, \"sterile\": 45, \"wholesome\": 290, \"person\": 33132, \"source\": 13863, \"responsible\": 842, \"metallic\": 893, \"recommended\": 768, \"causing\": 244, \"absorbed\": 86, \"amusing\": 42, \"doors\": 217, \"season\": 1169, \"kremlin\": 47, \"paintbrush\": 86, \"committing\": 981, \"shall\": 8660, \"object\": 1767, \"wells\": 44, \"disjointed\": 152, \"affirmation\": 73, \"mouth\": 845, \"letter\": 21508, \"entry\": 592, \"retaining\": 60, \"ipso\": 47, \"quantify\": 46, \"stylized\": 141, \"singer\": 239, \"stupid\": 173, \"episode\": 108, \"grove\": 523, \"confederation\": 70, \"professor\": 1688, \"camp\": 1576, \"multiracial\": 130, \"prevention\": 92, \"detriment\": 44, \"nineteenth\": 2079, \"recoverable\": 45, \"derbyshire\": 152, \"came\": 8497, \"marvel\": 316, \"mortise\": 45, \"advisory\": 54, \"bomb\": 175, \"reactor\": 174, \"insects\": 58, \"meetings\": 44, \"nominated\": 379, \"schism\": 129, \"rediscovery\": 51, \"soluble\": 140, \"gauge\": 56, \"participate\": 194, \"lethal\": 147, \"tempted\": 62, \"prefatory\": 66, \"lessons\": 204, \"orleans\": 149, \"busy\": 637, \"quaint\": 96, \"kinase\": 108, \"bush\": 252, \"specify\": 59, \"rich\": 4712, \"heartily\": 77, \"pickens\": 50, \"rice\": 292, \"emphatically\": 40, \"plate\": 812, \"wide\": 26349, \"remarry\": 82, \"umbilical\": 89, \"psychiatric\": 172, \"foremost\": 123, \"pocket\": 726, \"photoelectric\": 147, \"cushion\": 190, \"altogether\": 412, \"relish\": 163, \"increasing\": 511, \"traction\": 41, \"rectal\": 49, \"patch\": 730, \"unwarrantable\": 62, \"esteeming\": 48, \"chromatograph\": 74, \"adherence\": 641, \"hasten\": 231, \"boarded\": 618, \"generosity\": 95, \"fait\": 188, \"precluding\": 57, \"disaster\": 962, \"fair\": 8292, \"consummation\": 115, \"peripheral\": 442, \"niche\": 130, \"standpoints\": 65, \"radius\": 368, \"cloning\": 77, \"fail\": 340, \"fain\": 418, \"nocturnal\": 44, \"hammer\": 106, \"best\": 11024, \"ambitions\": 107, \"delphi\": 94, \"solicitude\": 40, \"pressures\": 186, \"r\": 84, \"conceptual\": 784, \"glasgow\": 178, \"side\": 4672, \"preserve\": 387, \"claws\": 121, \"never\": 23113, \"extend\": 321, \"nature\": 8479, \"felony\": 271, \"authorizing\": 133, \"twinkling\": 53, \"ursuline\": 54, \"rude\": 164, \"extent\": 8935, \"defiance\": 46, \"carbon\": 277, \"debt\": 561, \"pity\": 659, \"accident\": 504, \"disdain\": 54, \"country\": 12971, \"adventures\": 156, \"demanded\": 425, \"secretion\": 51, \"iron\": 2679, \"logic\": 183, \"argue\": 714, \"adapted\": 46, \"asked\": 2256, \"jack\": 111, \"pre\": 358, \"honouring\": 69, \"vain\": 184, \"wearying\": 52, \"hers\": 135, \"gleaming\": 100, \"pregnancy\": 251, \"humming\": 265, \"godhead\": 53, \"question\": 15088, \"reconsideration\": 96, \"shouting\": 2458, \"union\": 4611, \"trapdoor\": 75, \"regiones\": 112, \"subsidy\": 567, \"impeding\": 53, \"privilege\": 858, \"superhuman\": 59, \"exactness\": 161, \"dots\": 77, \"recessive\": 61, \"faintness\": 271, \"retrospect\": 123, \"spit\": 52, \"eastern\": 129, \"worker\": 826, \"wish\": 2740, \"relevance\": 335, \"lift\": 496, \"invalidated\": 67, \"child\": 15197, \"worked\": 2170, \"doth\": 137, \"spin\": 122, \"loftiness\": 50, \"chill\": 649, \"commerce\": 606, \"adaptations\": 128, \"contemplated\": 101, \"administrative\": 167, \"dissect\": 42, \"voltmeter\": 104, \"employ\": 943, \"calcium\": 41, \"slam\": 46, \"prostrate\": 45, \"k\": 282, \"remembering\": 64, \"vulnerability\": 169, \"surprises\": 420, \"played\": 1281, \"cuprous\": 114, \"suffocation\": 163, \"conditioned\": 117, \"obeying\": 172, \"player\": 383, \"eighteen\": 75, \"slag\": 100, \"madonna\": 41, \"tropical\": 219, \"trusted\": 397, \"trustee\": 1544, \"memorial\": 389, \"severity\": 564, \"things\": 6143, \"yellow\": 965, \"cumulative\": 125, \"rebellion\": 93, \"haphazard\": 233, \"damages\": 364, \"principals\": 42, \"emphatic\": 114, \"european\": 547, \"exertion\": 51, \"fairly\": 2089, \"boiled\": 415, \"pipette\": 188, \"frenchmen\": 165, \"qualifications\": 167, \"hectares\": 97, \"boiler\": 151, \"supper\": 158, \"pioneers\": 72, \"haggard\": 47, \"tune\": 294, \"subgroups\": 49, \"maxims\": 49, \"echoed\": 62, \"academic\": 91, \"stillness\": 120, \"simulated\": 617, \"quantitative\": 3279, \"juridical\": 101, \"corporate\": 60, \"plaque\": 179, \"opinions\": 45, \"golden\": 1193, \"distribute\": 45, \"sleepy\": 53, \"boatmen\": 40, \"disguise\": 169, \"exclaiming\": 116, \"plight\": 357, \"cellophane\": 46, \"previous\": 2093, \"enters\": 291, \"ham\": 46, \"yoke\": 165, \"sciences\": 323, \"ease\": 248, \"mobility\": 66, \"had\": 149947, \"hae\": 64, \"hay\": 97, \"disparity\": 78, \"obedient\": 96, \"beloved\": 141, \"prison\": 550, \"east\": 1965, \"hat\": 1121, \"wisp\": 118, \"elevation\": 158, \"municipal\": 227, \"survival\": 882, \"thermometer\": 173, \"posed\": 1770, \"possible\": 7590, \"firmer\": 821, \"possibly\": 264, \"indicative\": 62, \"birth\": 1527, \"unlikely\": 603, \"pertinent\": 48, \"shadow\": 684, \"poses\": 50, \"tolerable\": 310, \"occurring\": 87, \"desire\": 5979, \"psychological\": 991, \"articulated\": 51, \"steadily\": 149, \"bishopric\": 80, \"remind\": 45, \"steps\": 367, \"prologue\": 63, \"court's\": 278, \"grotesquely\": 45, \"sympathize\": 68, \"beneficial\": 3499, \"right\": 18828, \"old\": 4172, \"creek\": 41, \"crowd\": 6257, \"people\": 14241, \"predominance\": 642, \"creed\": 86, \"crown\": 628, \"deflection\": 205, \"captive\": 189, \"sure\": 1840, \"trombone\": 57, \"fiduciary\": 265, \"harassment\": 83, \"creep\": 46, \"enemies\": 113, \"consensus\": 314, \"daddy's\": 82, \"for\": 419313, \"bottom\": 1855, \"fox\": 390, \"creative\": 1319, \"contributing\": 43, \"when\": 37697, \"ruffles\": 124, \"fog\": 81, \"exposition\": 45, \"tertiary\": 68, \"summoned\": 369, \"nitrate\": 62, \"surging\": 205, \"fon\": 199, \"theological\": 68, \"shaker\": 54, \"neatly\": 41, \"insipidus\": 159, \"energy\": 2532, \"post\": 2301, \"terraces\": 203, \"substituted\": 45, \"shifting\": 112, \"defensive\": 342, \"losing\": 180, \"brokerage\": 81, \"manufacturing\": 270, \"shaken\": 282, \"restlessness\": 49, \"predisposition\": 72, \"visitors\": 144, \"dollars\": 9072, \"citizens\": 469, \"o\": 171, \"despair\": 177, \"leverage\": 105, \"disqualified\": 108, \"slightly\": 2082, \"raised\": 3218, \"sob\": 208, \"statements\": 617, \"facility\": 156, \"saddle\": 254, \"administer\": 83, \"freshman\": 115, \"beings\": 58, \"raises\": 355, \"stockholder\": 72, \"wrap\": 47, \"reducing\": 46, \"foothold\": 452, \"fabric\": 237, \"altitude\": 101, \"constantly\": 502, \"knowing\": 513, \"raped\": 53, \"avail\": 48, \"width\": 319, \"grasping\": 266, \"boy's\": 152, \"minute's\": 226, \"greatness\": 46, \"resulted\": 3827, \"overhead\": 44, \"launching\": 43, \"happy\": 3966, \"vector\": 121, \"insurrection\": 45, \"toward\": 3506, \"manufacturers\": 1834, \"fascination\": 65, \"forming\": 976, \"denoting\": 100, \"hemisphere\": 46, \"incorporation\": 146, \"palmetto\": 42, \"safeguard\": 46, \"week\": 11880, \"circumstantial\": 62, \"extremity\": 54, \"utmost\": 76, \"inside\": 151, \"devices\": 522, \"until\": 4441, \"considered\": 5351, \"pest\": 123, \"palm\": 160, \"panels\": 89, \"azt\": 53, \"passenger\": 118, \"certitude\": 52, \"later\": 8321, \"disgrace\": 541, \"puerto\": 45, \"steady\": 2627, \"proven\": 140, \"convergent\": 45, \"somebody\": 231, \"proves\": 217, \"exist\": 1090, \"signification\": 74, \"tooth\": 259, \"dealer\": 194, \"negotiations\": 104, \"guinean\": 266, \"floor\": 2184, \"ammeter\": 51, \"publick\": 42, \"uttered\": 657, \"flood\": 590, \"republic\": 787, \"ambitious\": 136, \"guineas\": 87, \"momentary\": 184, \"smell\": 285, \"roll\": 512, \"steamship\": 40, \"tame\": 57, \"intend\": 197, \"models\": 92, \"scream\": 158, \"agnus\": 61, \"comely\": 294, \"intent\": 156, \"sticks\": 103, \"began\": 2703, \"hygienic\": 47, \"fastened\": 175, \"dogma\": 40, \"vestiges\": 55, \"quandary\": 67, \"monopsonist\": 52, \"time\": 107456, \"push\": 141, \"conferred\": 173, \"breadth\": 674, \"chain\": 2313, \"activated\": 1091, \"crocodile\": 65, \"amelia's\": 44, \"kellynch\": 73, \"chair\": 3078, \"midst\": 245, \"quartered\": 108, \"inhabited\": 42, \"william\": 63, \"rambling\": 51, \"religion\": 1119, \"recurrence\": 82, \"phraseology\": 194, \"irksome\": 51, \"veterans\": 190, \"recipient\": 89, \"jerk\": 108, \"pursuant\": 132, \"consolidation\": 51, \"choice\": 5493, \"embark\": 233, \"gloomy\": 223, \"luxury\": 174, \"exact\": 169, \"minute\": 3625, \"orifice\": 190, \"discovered\": 685, \"judaism\": 204, \"went\": 4624, \"solves\": 47, \"multifunctional\": 45, \"leave\": 4127, \"solved\": 283, \"coincidences\": 40, \"phthisis\": 102, \"team\": 686, \"inscribed\": 432, \"speculation\": 290, \"son's\": 88, \"bonfire\": 148, \"prevent\": 1818, \"spiritual\": 2634, \"accomplishment\": 65, \"meadow\": 185, \"findings\": 85, \"insignificant\": 74, \"collage\": 81, \"hindered\": 205, \"prediction\": 144, \"sign\": 8840, \"erotic\": 66, \"crescent\": 57, \"speck\": 170, \"psychosocial\": 252, \"educate\": 69, \"essence\": 339, \"celebrated\": 961, \"current\": 4533, \"necrotic\": 58, \"thermocouple\": 59, \"falling\": 1487, \"crackling\": 147, \"badge\": 61, \"drafted\": 179, \"streptomyces\": 129, \"jury\": 5986, \"amalgam\": 45, \"funeral\": 268, \"wundt\": 48, \"understanding\": 11887, \"shortened\": 78, \"magnetism\": 60, \"yards\": 1890, \"address\": 971, \"alone\": 1003, \"unimpeachable\": 74, \"along\": 7349, \"momentous\": 234, \"laurel\": 634, \"brilliant\": 651, \"studied\": 1030, \"wherever\": 169, \"commonly\": 693, \"queue\": 67, \"accomplished\": 390, \"studies\": 4048, \"nowhere\": 71, \"synonym\": 70, \"love\": 5355, \"proportion\": 26884, \"prefer\": 484, \"logical\": 801, \"bloody\": 490, \"marvelous\": 410, \"betraying\": 113, \"logically\": 89, \"traversing\": 127, \"shipmates\": 133, \"red\": 2463, \"opposes\": 46, \"working\": 6075, \"homesick\": 71, \"perished\": 2538, \"positive\": 8610, \"angry\": 56, \"dangle\": 49, \"tightly\": 63, \"montero\": 77, \"papal\": 89, \"cherished\": 109, \"opposed\": 470, \"films\": 192, \"scope\": 1764, \"theoretical\": 1234, \"loving\": 293, \"introducing\": 525, \"afford\": 1042, \"subsistence\": 223, \"apparent\": 307, \"validity\": 303, \"approving\": 101, \"visual\": 338, \"appendix\": 175, \"everywhere\": 49, \"virtue\": 3330, \"behalf\": 1203, \"subjective\": 230, \"preponderance\": 179, \"anything\": 1837, \"originally\": 338, \"abortion\": 52, \"privy\": 182, \"believer\": 205, \"believes\": 2568, \"strain\": 1515, \"harmonious\": 53, \"values\": 1665, \"three\": 4920, \"believed\": 2323, \"webster\": 51, \"detached\": 86, \"insubordination\": 50, \"remitted\": 146, \"parachute\": 52, \"unveiled\": 55, \"admirer\": 224, \"offense\": 58, \"evidently\": 408, \"precepts\": 54, \"recrossed\": 75, \"bibliographical\": 56, \"monitoring\": 211, \"winter\": 418, \"secretory\": 98, \"divided\": 697, \"sudden\": 4380, \"immune\": 72, \"optimal\": 61, \"parameter\": 101, \"undertook\": 435, \"edinburgh\": 53, \"provincial\": 340, \"spot\": 1581, \"boilers\": 49, \"applications\": 70, \"reassessment\": 57, \"cardiac\": 500, \"such\": 88725, \"truly\": 989, \"dove\": 91, \"narrating\": 102, \"disagreeable\": 244, \"pulley\": 44, \"stress\": 1368, \"natural\": 7857, \"sectors\": 177, \"conscious\": 1171, \"aseptically\": 53, \"biographical\": 365, \"wheelchair\": 1784, \"sclerosis\": 74, \"su\": 53, \"st\": 219, \"darkened\": 79, \"remoter\": 275, \"so\": 29084, \"garlands\": 150, \"definitions\": 223, \"truce\": 194, \"pollution\": 159, \"pulled\": 1962, \"se\": 104, \"drunken\": 147, \"noteworthy\": 61, \"unacceptable\": 55, \"sublime\": 67, \"feature\": 3378, \"professors\": 97, \"course\": 13310, \"experiments\": 821, \"counterclockwise\": 277, \"headings\": 125, \"deity\": 203, \"tendency\": 5759, \"tore\": 133, \"constituted\": 629, \"limbs\": 70, \"derive\": 657, \"yawning\": 195, \"despotic\": 284, \"panacea\": 159, \"nymph\": 156, \"methodology\": 115, \"decreases\": 99, \"attraction\": 99, \"hubbub\": 62, \"suspicion\": 1159, \"stroll\": 161, \"constitutes\": 963, \"antipathy\": 53, \"decreased\": 361, \"troubled\": 459, \"decades\": 203, \"petition\": 511, \"ideal\": 675, \"apron\": 128, \"recipients\": 47, \"civilian\": 523, \"withdrawal\": 202, \"regarding\": 587, \"indigenous\": 44, \"records\": 153, \"compelled\": 242, \"epithets\": 69, \"servers\": 138, \"maintaining\": 2130, \"matched\": 414, \"frontage\": 60, \"shouted\": 288, \"prophylaxis\": 44, \"didn\": 229, \"revert\": 51, \"establishing\": 738, \"seasonable\": 154, \"fisherman\": 71, \"veins\": 45, \"moderating\": 65, \"amnesty\": 102, \"hoy\": 76, \"manors\": 41, \"trampled\": 114, \"square\": 1894, \"retrieve\": 78, \"bursting\": 456, \"subgame\": 114, \"vane\": 41, \"receipt\": 905, \"breakthrough\": 103, \"owing\": 188, \"entering\": 655, \"beetle\": 79, \"methotrexate\": 75, \"unification\": 129, \"salads\": 44, \"minority\": 10128, \"canvas\": 94, \"container\": 272, \"rounding\": 56, \"peece\": 836, \"contained\": 652, \"investigation\": 823, \"trauma\": 113, \"internet\": 110, \"suggesting\": 4318, \"formula\": 1181, \"reexamination\": 65, \"unifying\": 450, \"obeisances\": 75, \"siege\": 160, \"million\": 12868, \"presbyterianism\": 72, \"shepherd's\": 40, \"governing\": 248, \"loyalty\": 48, \"disrespect\": 123, \"complicated\": 1800, \"plea\": 665, \"poems\": 161, \"byte\": 192, \"remainder\": 115, \"sages\": 41, \"patronage\": 172, \"training\": 1524, \"disguised\": 150, \"iterative\": 42, \"wrong\": 1560, \"initiate\": 66, \"crucifix\": 154, \"aboard\": 414, \"router\": 41, \"neglect\": 50, \"intuition\": 115, \"saving\": 956, \"metayer's\": 69, \"symmetry\": 269, \"reveals\": 616, \"spoken\": 631, \"clause\": 365, \"safety\": 347, \"one\": 75307, \"williams\": 47, \"specifically\": 117, \"periodical\": 56, \"habitation\": 57, \"vote\": 4157, \"open\": 2728, \"affords\": 516, \"city\": 6362, \"convent\": 58, \"bite\": 230, \"structured\": 497, \"indicate\": 2586, \"teacher\": 7087, \"shiver\": 53, \"draft\": 630, \"microscopical\": 182, \"stuffed\": 64, \"convene\": 60, \"bits\": 133, \"cite\": 79, \"lingering\": 477, \"vapours\": 116, \"prone\": 128, \"suffixing\": 46, \"shawl\": 264, \"perpetuation\": 46, \"artifact\": 42, \"snatch\": 49, \"ridiculous\": 272, \"photographic\": 92, \"poultice\": 104, \"boyfriend\": 44, \"third\": 12065, \"depressed\": 105, \"exacted\": 61, \"summary\": 3692, \"crossroads\": 54, \"coats\": 45, \"siding\": 129, \"future\": 3996, \"recombination\": 42, \"surprisingly\": 89, \"wandering\": 234, \"damned\": 53, \"prospect\": 651, \"addressing\": 89, \"illness\": 1282, \"san\": 493, \"nicer\": 84, \"polemic\": 226, \"parking\": 335, \"turned\": 2896, \"argument\": 4091, \"alley\": 134, \"sad\": 1703, \"threw\": 179, \"say\": 9741, \"buried\": 663, \"foiled\": 58, \"uninterrupted\": 373, \"borough\": 51, \"erudition\": 94, \"sat\": 2066, \"fashionable\": 42, \"warriors\": 43, \"aside\": 390, \"instructed\": 224, \"note\": 17292, \"intends\": 49, \"jefferson\": 154, \"take\": 26204, \"supply\": 4350, \"destroy\": 202, \"coincide\": 190, \"blinding\": 46, \"butterfly\": 424, \"teacher's\": 115, \"appellation\": 120, \"printer\": 150, \"altered\": 222, \"opposite\": 2802, \"buffer\": 364, \"knew\": 3233, \"compress\": 40, \"buffet\": 72, \"printed\": 459, \"remarks\": 195, \"knee\": 188, \"knowingly\": 71, \"creditable\": 197, \"lawn\": 105, \"mechanistic\": 50, \"average\": 459, \"farmers\": 167, \"infections\": 54, \"drive\": 2218, \"walls\": 132, \"crooked\": 166, \"wind\": 2099, \"refining\": 90, \"axe\": 158, \"link\": 1437, \"salt\": 2725, \"trembled\": 1474, \"affirmed\": 334, \"landlady\": 87, \"walking\": 2048, \"surplus\": 314, \"senators\": 239, \"definite\": 2895, \"synchronous\": 83, \"friction\": 44, \"bright\": 1870, \"commissary\": 109, \"fife\": 44, \"aggressive\": 273, \"imagined\": 63, \"slot\": 1358, \"roofed\": 54, \"strangled\": 44, \"conduction\": 93, \"cloak\": 101, \"suggests\": 620, \"liberation\": 181, \"tears\": 558, \"going\": 5513, \"equipped\": 606, \"robe\": 137, \"posted\": 173, \"carolina\": 192, \"guarded\": 50, \"touch\": 3141, \"psychiatrist\": 91, \"historicism\": 44, \"freezing\": 200, \"outlet\": 83, \"prime\": 1201, \"uneven\": 250, \"prima\": 54, \"artist\": 646, \"assimilate\": 81, \"saliva\": 78, \"borrow\": 270, \"mounted\": 1010, \"network\": 1312, \"priest\": 3318, \"liable\": 2277, \"where\": 26691, \"hinged\": 120, \"vision\": 2399, \"gout\": 111, \"surgery\": 105, \"rewarded\": 291, \"planet\": 208, \"mutton\": 61, \"compounds\": 580, \"jumped\": 141, \"representatives\": 180, \"denizen\": 50, \"un\": 518, \"anywhither\": 165, \"affecting\": 48, \"enjoys\": 157, \"forsake\": 44, \"fir\": 178, \"checkered\": 140, \"jobs\": 205, \"impregnated\": 137, \"useful\": 5028, \"apparition\": 88, \"screen\": 701, \"planes\": 63, \"ascribed\": 1242, \"revealed\": 176, \"etiologic\": 57, \"concentrate\": 177, \"spare\": 1291, \"menacing\": 95, \"spark\": 554, \"concentrated\": 652, \"circumference\": 41, \"avoid\": 1383, \"many\": 13830, \"sympathetic\": 446, \"millionaire\": 85, \"soleus\": 40, \"deduction\": 1084, \"s\": 388, \"densely\": 45, \"concentrates\": 159, \"expression\": 3802, \"gridiron\": 105, \"roominess\": 46, \"allowance\": 265, \"riddle\": 154, \"midshipman\": 45, \"compels\": 45, \"twin\": 49, \"minims\": 56, \"boar\": 44, \"supervisor\": 68, \"extinct\": 43, \"twig\": 120, \"considers\": 291, \"boat\": 1969, \"math\": 58, \"caring\": 223, \"plantation\": 196, \"combines\": 56, \"cities\": 1389, \"testimonial\": 43, \"teddy\": 98, \"stretch\": 777, \"mounting\": 265, \"recaptured\": 53, \"vacation\": 112, \"mutinous\": 137, \"breath\": 527, \"raging\": 119, \"incubation\": 74, \"practised\": 367, \"combined\": 948, \"motives\": 176, \"stripped\": 101, \"sparkled\": 145, \"reflex\": 51, \"harmonics\": 1169, \"wants\": 1073, \"enable\": 1144, \"through\": 27331, \"unsafe\": 53, \"coughing\": 339, \"formed\": 5409, \"photon\": 115, \"observe\": 368, \"wales\": 1099, \"diffuse\": 186, \"profane\": 85, \"henry's\": 73, \"consultant\": 590, \"defeatist\": 59, \"pretence\": 70, \"engineering\": 42, \"invoking\": 223, \"canoes\": 62, \"policies\": 113, \"newspaper\": 2020, \"situation\": 18022, \"constituency\": 75, \"riot\": 194, \"canoe\": 414, \"brow\": 138, \"engaged\": 2215, \"regularity\": 44, \"proteolytic\": 82, \"demolition\": 165, \"fame\": 270, \"binary\": 397, \"expenditures\": 268, \"concealment\": 42, \"parliament\": 1279, \"coexisting\": 61, \"perpetually\": 102, \"surveillance\": 232, \"substitution\": 184, \"wineglassful\": 189, \"respite\": 223, \"transient\": 179, \"reverberation\": 118, \"breakdown\": 472, \"swiss\": 43, \"sickness\": 228, \"allocation\": 54, \"harris\": 230, \"barber\": 125, \"recapture\": 49, \"costa\": 102, \"photocell\": 152, \"utterance\": 70, \"vacant\": 47, \"customized\": 220, \"uproar\": 42, \"costs\": 261, \"evict\": 43, \"dimension\": 1347, \"scholarship\": 267, \"summer\": 1079, \"ninepence\": 102, \"being\": 22788, \"sceptre\": 51, \"exaggerating\": 64, \"rest\": 2623, \"spurt\": 97, \"steamer\": 195, \"scrape\": 46, \"summed\": 133, \"township\": 58, \"provocation\": 62, \"presumption\": 1493, \"librarianship\": 398, \"deceiving\": 478, \"generator\": 540, \"kirk\": 64, \"retinue\": 60, \"esprit\": 152, \"geological\": 42, \"plumed\": 71, \"color\": 1421, \"formative\": 419, \"continuation\": 500, \"actors\": 198, \"structural\": 1521, \"joyful\": 308, \"aspects\": 1633, \"around\": 19257, \"sums\": 100, \"cabaretier\": 45, \"copartnership\": 62, \"dark\": 2719, \"traffic\": 190, \"bandage\": 164, \"vacuum\": 304, \"world\": 25820, \"demised\": 63, \"postal\": 126, \"vague\": 1882, \"dare\": 56, \"clan\": 199, \"stranger\": 3675, \"draggled\": 52, \"clad\": 96, \"yearly\": 571, \"shutter\": 44, \"superiority\": 287, \"clay\": 657, \"travelogue\": 40, \"tart\": 103, \"stationary\": 103, \"intestinal\": 237, \"satisfactory\": 2102, \"superintendent\": 84, \"landowner\": 84, \"grub\": 91, \"yeats\": 57, \"conditional\": 42, \"supplementary\": 97, \"potion\": 49, \"racial\": 578, \"divine\": 779, \"thinks\": 438, \"wrongly\": 45, \"dialectical\": 81, \"dimensions\": 53, \"congeries\": 202, \"substance\": 2348, \"cavity\": 340, \"noon\": 107, \"moslem\": 54, \"nook\": 67, \"revenged\": 64, \"exit\": 246, \"restoring\": 42, \"refer\": 982, \"turkey\": 203, \"biased\": 68, \"contingent\": 2320, \"confided\": 60, \"intimate\": 742, \"retains\": 168, \"ration\": 165, \"uniform\": 1249, \"partner's\": 56, \"meniscus\": 238, \"leadership\": 115, \"pluralism\": 56, \"volcano\": 462, \"standpoint\": 299, \"thailand\": 155, \"prepared\": 4806, \"frenchman\": 119, \"stone\": 3379, \"package\": 294, \"disabilities\": 202, \"favorite\": 1380, \"slender\": 226, \"meal\": 2762, \"tumor\": 421, \"stipulations\": 69, \"apostate\": 53, \"neighbor\": 81, \"act\": 7498, \"lofty\": 369, \"curling\": 43, \"burning\": 393, \"interruption\": 155, \"image\": 2045, \"lively\": 2576, \"parties\": 1608, \"accumulated\": 638, \"snakes\": 53, \"subscriber\": 98, \"legacy\": 56, \"her\": 29645, \"endeavouring\": 41, \"gleam\": 752, \"betrays\": 49, \"sides\": 577, \"sealed\": 335, \"convertibility\": 46, \"hen\": 162, \"viscous\": 209, \"bubble\": 142, \"tireless\": 72, \"complete\": 15295, \"verbatim\": 40, \"child's\": 1895, \"outcrop\": 72, \"fastidious\": 56, \"spider\": 287, \"survived\": 211, \"helicopter\": 56, \"elimination\": 166, \"impedance\": 211, \"mice\": 77, \"marital\": 129, \"with\": 296043, \"buying\": 791, \"handsome\": 1225, \"abused\": 49, \"pull\": 366, \"rush\": 1106, \"october\": 546, \"rescuing\": 62, \"monopoly\": 1405, \"reasoned\": 194, \"robustness\": 51, \"flirt\": 89, \"impute\": 57, \"dirty\": 1160, \"abuses\": 232, \"agree\": 472, \"conventicle\": 42, \"detailed\": 1808, \"gone\": 2174, \"ab\": 168, \"ad\": 586, \"fright\": 53, \"general's\": 52, \"exhausted\": 48, \"certain\": 34539, \"galleys\": 42, \"stealing\": 44, \"am\": 6465, \"an\": 54871, \"behest\": 117, \"as\": 551240, \"at\": 189520, \"fumbling\": 47, \"formulation\": 581, \"watched\": 556, \"tranquil\": 245, \"amused\": 607, \"tremble\": 40, \"carven\": 71, \"ideally\": 86, \"extract\": 102, \"sanguine\": 60, \"vocational\": 143, \"abolish\": 41, \"tight\": 2255, \"summit\": 168, \"puppy\": 65, \"disgraceful\": 457, \"contend\": 97, \"congress\": 1282, \"accosted\": 100, \"merchants\": 202, \"seriousness\": 67, \"herbs\": 88, \"sheepishly\": 47, \"intimation\": 44, \"realised\": 183, \"sponsored\": 1732, \"disdained\": 42, \"visits\": 137, \"thorn\": 70, \"acids\": 255, \"mask\": 177, \"fraudulent\": 115, \"mast\": 49, \"mass\": 6771, \"nelson\": 71, \"behavioral\": 346, \"dyes\": 42, \"sensibility\": 222, \"original\": 426, \"refused\": 644, \"consider\": 1108, \"consciences\": 51, \"caused\": 2768, \"instincts\": 43, \"ceramic\": 99, \"trigonometric\": 52, \"debris\": 49, \"subtle\": 438, \"fairness\": 58, \"reasoning\": 370, \"causes\": 792, \"evicted\": 59, \"particles\": 1958, \"disciples\": 157, \"hunting\": 453, \"tv\": 250, \"startled\": 221, \"white\": 6979, \"including\": 421, \"prophets\": 122, \"tail\": 282, \"tk\": 52, \"dressing\": 263, \"smile\": 3142, \"norm\": 51, \"degeneration\": 88, \"paying\": 723, \"appointment\": 713, \"returned\": 1580, \"puzzled\": 569, \"detention\": 360, \"floated\": 77, \"baton\": 45, \"blockade\": 94, \"corollary\": 545, \"candid\": 228, \"diary\": 259, \"interpreting\": 858, \"surprise\": 3074, \"manageable\": 48, \"condition\": 8963, \"illustrated\": 816, \"lome\": 164, \"cable\": 426, \"accompanying\": 227, \"herrings\": 67, \"millimetre\": 43, \"laying\": 879, \"joined\": 204, \"large\": 64182, \"sang\": 118, \"sand\": 1151, \"sane\": 52, \"facsimile\": 54, \"millimeters\": 73, \"small\": 74132, \"sank\": 148, \"abbreviated\": 74, \"quicker\": 165, \"partiality\": 105, \"cloudlet\": 67, \"past\": 2016, \"modal\": 54, \"honourable\": 110, \"pass\": 6176, \"healer\": 336, \"investment\": 773, \"trick\": 564, \"researched\": 55, \"richard\": 71, \"clock\": 5842, \"section\": 5621, \"whiff\": 45, \"burgundy\": 57, \"prevailed\": 229, \"succinct\": 1477, \"whirled\": 129, \"nurse\": 2085, \"jurist\": 89, \"method\": 8045, \"contrast\": 3738, \"revealing\": 305, \"full\": 12174, \"escaping\": 100, \"sentient\": 47, \"indecision\": 147, \"contused\": 70, \"hours\": 3973, \"concluding\": 642, \"buzzing\": 87, \"legend\": 918, \"travaile\": 49, \"sender\": 93, \"introductory\": 94, \"turkish\": 169, \"bestow\": 174, \"experience\": 3435, \"mouldy\": 60, \"prior\": 650, \"periodic\": 164, \"pick\": 1049, \"cessation\": 435, \"slope\": 1948, \"luck\": 654, \"struggle\": 5891, \"day's\": 973, \"via\": 125, \"followed\": 4702, \"polymer\": 634, \"sawyer\": 70, \"regiment\": 498, \"beheld\": 100, \"select\": 1182, \"literary\": 1486, \"attendance\": 137, \"trips\": 53, \"objectives\": 1254, \"universally\": 90, \"magnification\": 468, \"fragrance\": 99, \"gorgeous\": 40, \"ballad\": 98, \"more\": 93566, \"door\": 2483, \"initiated\": 821, \"substances\": 92, \"company\": 6652, \"corrected\": 57, \"tested\": 61, \"citizenry\": 47, \"evolves\": 67, \"keeping\": 1211, \"enlightenment\": 274, \"science\": 2100, \"centrifugal\": 96, \"mall\": 128, \"resources\": 719, \"evolved\": 179, \"learn\": 1719, \"knocked\": 184, \"ingredient\": 1941, \"scramble\": 104, \"beautiful\": 3173, \"memoirs\": 89, \"gallop\": 136, \"lout\": 44, \"neglected\": 113, \"staten\": 52, \"accept\": 1124, \"autumn\": 203, \"memoire\": 46, \"sense\": 26505, \"schoolgirl\": 110, \"gallon\": 179, \"prostration\": 56, \"scar\": 210, \"dress\": 522, \"sikh\": 366, \"bonded\": 48, \"axis\": 625, \"huge\": 1687, \"respective\": 45, \"dismissed\": 811, \"glowing\": 233, \"tinge\": 270, \"freshly\": 40, \"creature\": 1130, \"waved\": 3713, \"plant\": 1738, \"intended\": 1419, \"disgraced\": 40, \"pleader\": 47, \"plane\": 4107, \"director\": 1788, \"waves\": 479, \"ethics\": 73, \"authentic\": 51, \"plank\": 566, \"semblance\": 485, \"transposed\": 60, \"refuse\": 636, \"imagery\": 75, \"register\": 376, \"rosebud\": 58, \"broadcasting\": 43, \"fundamental\": 4022, \"patio\": 54, \"replied\": 220, \"adorned\": 40, \"passages\": 242, \"mexican\": 267, \"reminded\": 2483, \"distortion\": 127, \"redefinition\": 84, \"attitude\": 1429, \"embassy\": 229, \"pang\": 86, \"brim\": 138, \"signs\": 818, \"turbine\": 41, \"quagmire\": 41, \"cheerfulness\": 241, \"roots\": 179, \"scintigraphy\": 59, \"laced\": 41, \"rapidly\": 626, \"microarray\": 252, \"stricture\": 58, \"deeds\": 71, \"hounds\": 79, \"symptoms\": 1285, \"individuals\": 2019, \"inquiry\": 445, \"travelling\": 133, \"ally\": 241, \"wry\": 167, \"colleague\": 48, \"rapier\": 47, \"tyrants\": 59, \"manila\": 89, \"entire\": 1413, \"motley\": 245, \"propose\": 740, \"buys\": 40, \"abrasion\": 100, \"misuse\": 110, \"respectful\": 320, \"document\": 997, \"likeness\": 348, \"hereafter\": 45, \"designation\": 342, \"coping\": 169, \"always\": 10527, \"loosely\": 40, \"labeling\": 52, \"eloquence\": 42, \"courses\": 44, \"piping\": 74, \"aggrieved\": 45, \"found\": 15075, \"chipping\": 47, \"investigators\": 401, \"reactions\": 334, \"pig's\": 74, \"shock\": 6706, \"england\": 743, \"upstairs\": 90, \"noble\": 2455, \"resolute\": 90, \"reduce\": 165, \"police\": 983, \"doses\": 379, \"seton\": 45, \"operation\": 619, \"really\": 4406, \"mottled\": 83, \"missed\": 118, \"blacks\": 308, \"savage\": 552, \"research\": 4068, \"sociological\": 62, \"cognizable\": 85, \"denoted\": 101, \"whirlpool\": 63, \"darling\": 76, \"impudence\": 64, \"highway\": 292, \"steering\": 150, \"belief\": 4361, \"risen\": 1171, \"localization\": 355, \"barges\": 60, \"porcelain\": 204, \"cyclopean\": 48, \"montagnard\": 108, \"qualify\": 126, \"conditioning\": 52, \"murmur\": 243, \"airway\": 113, \"rises\": 277, \"reproach\": 864, \"definition\": 1290, \"owners\": 997, \"retained\": 137, \"neuromuscular\": 75, \"persons\": 1105, \"woman's\": 698, \"statutory\": 72, \"resembling\": 571, \"sensations\": 79, \"expedient\": 218, \"cyanide\": 96, \"contingency\": 84, \"clump\": 385, \"exhibited\": 210, \"delicate\": 851, \"major\": 24131, \"faradic\": 84, \"gazed\": 51, \"precautionary\": 74, \"succeeded\": 714, \"historian\": 282, \"belligerent\": 268, \"contender\": 41, \"number\": 101108, \"preservation\": 452, \"captive's\": 54, \"biography\": 876, \"contended\": 51, \"stage\": 4041, \"pledge\": 909, \"differ\": 463, \"peaceable\": 278, \"fuller\": 581, \"guest\": 1668, \"jet\": 284, \"multicenter\": 51, \"introduction\": 628, \"reversion\": 598, \"swipe\": 57, \"moderately\": 41, \"litany\": 267, \"tradition\": 2739, \"towel\": 1021, \"philanthropy\": 122, \"flings\": 48, \"calculations\": 710, \"antigen\": 464, \"master\": 2676, \"essays\": 435, \"molecular\": 144, \"relations\": 1584, \"justly\": 44, \"relationship\": 7853, \"longing\": 447, \"zeus\": 79, \"immediate\": 308, \"quaker\": 66, \"appreciation\": 390, \"consult\": 70, \"focusing\": 704, \"rivers\": 185, \"stairs\": 226, \"grace\": 502, \"diffusion\": 93, \"polarized\": 1915, \"frock\": 60, \"iranian\": 416, \"vocal\": 56, \"ranging\": 516, \"determined\": 1964, \"marriage\": 2309, \"ranch\": 121, \"fights\": 94, \"fireside\": 106, \"vitally\": 54, \"conjugate\": 1181, \"cumbrous\": 61, \"permanence\": 51, \"self\": 3303, \"commotion\": 1102, \"reliance\": 136, \"sonnet\": 579, \"also\": 49905, \"recognizing\": 331, \"internal\": 522, \"generalized\": 140, \"analogy\": 128, \"frail\": 44, \"swath\": 43, \"commemorated\": 49, \"brace\": 131, \"shops\": 65, \"transparent\": 136, \"play\": 8532, \"villages\": 152, \"monastery\": 135, \"swiftly\": 51, \"confluence\": 41, \"virus\": 182, \"plan\": 7509, \"termination\": 91, \"accepting\": 101, \"deviations\": 396, \"galway\": 75, \"industry\": 1492, \"sometimes\": 1490, \"cover\": 1822, \"salinity\": 88, \"barred\": 55, \"artistic\": 197, \"wisht\": 57, \"fashions\": 60, \"barren\": 509, \"barrel\": 365, \"sinner\": 215, \"dragged\": 186, \"gospels\": 513, \"golf\": 205, \"gold\": 3942, \"defended\": 886, \"hen's\": 120, \"desolate\": 111, \"freight\": 189, \"defender\": 121, \"superceded\": 63, \"overwhelmed\": 42, \"occupation\": 675, \"impact\": 1464, \"indicator\": 1019, \"writes\": 144, \"writer\": 5254, \"failed\": 1573, \"enzyme\": 56, \"solitary\": 411, \"condom\": 120, \"equity\": 130, \"indifference\": 335, \"columns\": 556, \"ordained\": 52, \"boarding\": 40, \"chamberland\": 46, \"gratis\": 52, \"dependent\": 871, \"beams\": 91, \"secular\": 118, \"ceasing\": 46, \"sunny\": 235, \"informants\": 70, \"generalizable\": 50, \"farthing\": 334, \"remedy\": 2406, \"actress\": 81, \"closely\": 208, \"compass\": 516, \"banner\": 194, \"deductive\": 46, \"enemy\": 3242, \"sects\": 68, \"progressive\": 507, \"incapacitated\": 75, \"cry\": 1588, \"harebrained\": 44, \"couriers\": 52, \"enema\": 122, \"obscure\": 88, \"river\": 2675, \"pontigny\": 42, \"approaching\": 95, \"bulky\": 83, \"set\": 46163, \"tree\": 3001, \"vertebrates\": 434, \"instituted\": 61, \"potent\": 792, \"sex\": 443, \"collectively\": 45, \"see\": 13147, \"individualities\": 43, \"migration\": 67, \"sea\": 3525, \"contour\": 45, \"shower\": 318, \"spirits\": 201, \"guinea\": 299, \"currently\": 450, \"dipole\": 67, \"rite\": 94, \"avoidance\": 84, \"naik\": 58, \"compliment\": 207, \"europe\": 1346, \"milder\": 67, \"hardship\": 54, \"heuristic\": 159, \"premises\": 134, \"subject\": 9784, \"postponement\": 81, \"dramatization\": 65, \"incident\": 312, \"mingling\": 75, \"diminution\": 807, \"dividend\": 635, \"repression\": 614, \"pagan\": 43, \"premised\": 60, \"legislature\": 613, \"prospects\": 168, \"murtagh\": 76, \"improved\": 464, \"influential\": 47, \"barely\": 256, \"timorous\": 46, \"connection\": 20509, \"poverty\": 386, \"approve\": 431, \"sink\": 142, \"load\": 1037, \"loaf\": 339, \"volcanic\": 160, \"majesty\": 50, \"drunk\": 268, \"loam\": 345, \"acted\": 1242, \"northeastern\": 74, \"corresponds\": 1090, \"community\": 5898, \"coincidence\": 170, \"dimensional\": 102, \"splendor\": 111, \"agents\": 92, \"adaptation\": 224, \"church\": 4238, \"connexion\": 59, \"belt\": 696, \"devil\": 1377, \"cream\": 84, \"publishing\": 496, \"conveyor\": 226, \"monthly\": 273, \"acceptance\": 502, \"satire\": 116, \"convicted\": 267, \"suburbs\": 248, \"proprietor\": 75, \"flounced\": 74, \"assassinated\": 111, \"firm\": 3288, \"resting\": 853, \"champion\": 305, \"counselling\": 49, \"fire\": 4045, \"nra\": 45, \"preeminence\": 49, \"spectrum\": 2535, \"syngeneic\": 384, \"fund\": 932, \"casing\": 43, \"awake\": 130, \"representative\": 3767, \"systematic\": 3094, \"towns\": 880, \"hardness\": 270, \"handling\": 55, \"caged\": 87, \"reliable\": 521, \"expanded\": 163, \"empirical\": 341, \"admire\": 42, \"spitefulness\": 44, \"momentum\": 96, \"evaluating\": 296, \"error\": 1305, \"projecting\": 140, \"robin\": 47, \"owed\": 50, \"pound\": 1202, \"hoping\": 198, \"backing\": 110, \"calculator\": 184, \"binding\": 794, \"ducks\": 41, \"vow\": 392, \"owes\": 338, \"chase\": 43, \"unfit\": 69, \"funny\": 443, \"sounding\": 61, \"wretch\": 96, \"fibers\": 41, \"maids\": 83, \"pliers\": 81, \"elevated\": 591, \"shorter\": 717, \"rules\": 836, \"virtually\": 60, \"ruler\": 1912, \"serum\": 251, \"premonition\": 50, \"mortifying\": 49, \"displeased\": 187, \"snail\": 51, \"flooded\": 118, \"comprehensive\": 3362, \"cigar\": 83, \"alert\": 168, \"viewing\": 93, \"levels\": 109, \"rabid\": 75, \"necessity\": 6362, \"nickname\": 44, \"fabrication\": 56, \"focal\": 944, \"euro\": 691, \"infertility\": 227, \"surrogate\": 144, \"honor\": 190, \"concrete\": 701, \"predetermined\": 222, \"regulating\": 226, \"redistribution\": 43, \"comprise\": 206, \"clasped\": 96, \"dissentient\": 55, \"watching\": 753, \"soaked\": 82, \"cabins\": 65, \"telegram\": 601, \"using\": 2594, \"unto\": 1076, \"goblet\": 80, \"readers\": 149, \"reap\": 44, \"admission\": 853, \"kissed\": 66, \"fitting\": 440, \"eager\": 316, \"parents\": 789, \"location\": 492, \"disulfide\": 116, \"input\": 320, \"swinish\": 591, \"surprised\": 1324, \"niece\": 75, \"cordon\": 260, \"clutches\": 140, \"emergency\": 536, \"demands\": 278, \"couple\": 14495, \"wives\": 141, \"suffering\": 663, \"quest\": 166, \"abound\": 74, \"fortune\": 1638, \"emergence\": 1963, \"projects\": 1763, \"formal\": 2691, \"thurman\": 60, \"imposed\": 597, \"d\": 818, \"spine\": 198, \"governess\": 41, \"chorus\": 146, \"communications\": 50, \"continue\": 1238, \"yields\": 138, \"ivan\": 57, \"tribes\": 950, \"disorder\": 211, \"privately\": 48, \"methods\": 446, \"senate\": 1228, \"spring\": 1244, \"oval\": 61, \"mighty\": 837, \"sight\": 2675, \"curious\": 2989, \"pale\": 256, \"irresistible\": 108, \"twinkle\": 112, \"mummy\": 115, \"measurements\": 202, \"novelty\": 108, \"oblivion\": 40, \"potentate\": 50, \"behave\": 580, \"artist's\": 41, \"convulsions\": 55, \"seclusion\": 44, \"temple\": 1983, \"inclination\": 504, \"somehow\": 157, \"be\": 303177, \"varying\": 53, \"ba\": 46, \"interpreters\": 44, \"odor\": 42, \"dictates\": 40, \"agreement\": 1341, \"feelings\": 236, \"concealed\": 313, \"obscured\": 233, \"dictated\": 209, \"by\": 214865, \"analysing\": 318, \"discontented\": 50, \"deserved\": 115, \"exaggerated\": 64, \"modernity\": 65, \"straightened\": 46, \"sacrament\": 49, \"deserves\": 42, \"breakup\": 89, \"canning\": 114, \"anterior\": 78, \"computational\": 230, \"clinton\": 60, \"reverence\": 45, \"thronged\": 89, \"into\": 62621, \"conceded\": 73, \"integral\": 817, \"awaited\": 50, \"pedagogical\": 60, \"appropriate\": 1836, \"primarily\": 1018, \"contributor\": 991, \"clustering\": 41, \"uncertainties\": 66, \"span\": 297, \"harnessed\": 126, \"tasting\": 113, \"mythic\": 194, \"bargaining\": 157, \"assuring\": 331, \"gases\": 92, \"custom\": 1470, \"occupy\": 1043, \"crackdown\": 122, \"suit\": 4529, \"curiofity\": 46, \"opens\": 606, \"strives\": 100, \"blueprint\": 99, \"considerably\": 1594, \"excavating\": 52, \"impudent\": 41, \"elsewhere\": 116, \"inches\": 231, \"ligation\": 41, \"jewish\": 638, \"relaxed\": 56, \"retina\": 75, \"slump\": 41, \"atlantic\": 105, \"pacific\": 120, \"atom\": 251, \"line\": 12290, \"considerable\": 17089, \"peeped\": 108, \"charmed\": 41, \"immured\": 54, \"inducements\": 45, \"walks\": 82, \"up\": 50998, \"us\": 16254, \"maturity\": 48, \"preemptive\": 74, \"verification\": 41, \"mature\": 206, \"faded\": 146, \"continuously\": 86, \"laplace\": 86, \"genial\": 204, \"aerial\": 61, \"snatched\": 86, \"oddity\": 54, \"defined\": 3900, \"likewise\": 359, \"flocked\": 128, \"influence\": 8803, \"consigned\": 70, \"presided\": 127, \"ploughshare\": 84, \"mucoperiosteal\": 73, \"chap\": 230, \"diverse\": 1457, \"chat\": 81, \"surveying\": 61, \"graceful\": 202, \"gompers\": 62, \"defines\": 189, \"paradox\": 120, \"sunken\": 64, \"tuft\": 441, \"conjure\": 100, \"fixing\": 297, \"uncapable\": 60, \"idleness\": 58, \"invalid\": 48, \"redeeming\": 92, \"occasional\": 329, \"adjuvant\": 50, \"conceptions\": 99, \"points\": 688, \"coded\": 153, \"swirl\": 48, \"deviate\": 83, \"revision\": 2088, \"scapegoat\": 106, \"elements\": 1054, \"mankind\": 533, \"beginnings\": 256, \"provided\": 4357, \"sublimation\": 107, \"lucid\": 48, \"prosecution\": 390, \"vantage\": 440, \"suppression\": 49, \"meals\": 114, \"ago\": 2772, \"thatch\": 43, \"glycogenolytic\": 107, \"land\": 6392, \"fighter\": 65, \"electromagnet\": 142, \"sunbeam\": 41, \"age\": 2770, \"newspaperman\": 136, \"holes\": 173, \"walked\": 2003, \"consumes\": 47, \"feud\": 42, \"beverage\": 340, \"doves\": 128, \"enrolled\": 95, \"fresh\": 2412, \"menace\": 817, \"having\": 11400, \"essay\": 2608, \"code\": 976, \"partial\": 2204, \"sharply\": 129, \"illustrates\": 222, \"scooped\": 143, \"scratch\": 429, \"knotted\": 41, \"results\": 2541, \"existing\": 560, \"enjoyable\": 84, \"softer\": 70, \"stops\": 205, \"broader\": 734, \"dainty\": 41, \"prim\": 42, \"inferences\": 138, \"seemed\": 4016, \"windowsill\": 55, \"depletion\": 147, \"concerned\": 1167, \"young\": 15145, \"send\": 5065, \"will\": 31976, \"dislike\": 523, \"carelessly\": 61, \"indicating\": 189, \"garret\": 119, \"jurisdiction\": 224, \"saying\": 1027, \"garden\": 1273, \"torture\": 96, \"continues\": 786, \"decedent's\": 130, \"abduction\": 363, \"specific\": 10501, \"syntax\": 266, \"continued\": 1957, \"timely\": 195, \"magic\": 491, \"harbor\": 239, \"experiencing\": 44, \"marry\": 1567, \"embarked\": 177, \"fewer\": 196, \"anxious\": 270, \"race\": 2543, \"trite\": 105, \"severed\": 75, \"rack\": 216, \"sown\": 60, \"frenna's\": 43, \"disordered\": 103, \"staggering\": 41, \"mediterranean\": 118, \"mishap\": 60, \"crook\": 88, \"imply\": 268, \"video\": 212, \"enclosed\": 1711, \"thickener\": 118, \"wheat\": 61, \"urethral\": 144, \"odd\": 247, \"leakage\": 63, \"graduating\": 47, \"index\": 227, \"twine\": 97, \"desperado\": 49, \"expressed\": 2830, \"hereditary\": 70, \"consistently\": 46, \"indian\": 622, \"flowing\": 449, \"expresses\": 269, \"firms\": 48, \"bird\": 2242, \"thin\": 2735, \"scenery\": 51, \"scepticism\": 83, \"proliferation\": 151, \"led\": 5729, \"lee\": 41, \"eminently\": 152, \"leg\": 811, \"respectively\": 96, \"gathered\": 597, \"punch\": 137, \"misgiving\": 46, \"desdemonas\": 44, \"dentin\": 44, \"resisting\": 92, \"let\": 2646, \"licence\": 215, \"consideration\": 2784, \"invented\": 109, \"fifteen\": 768, \"great\": 77360, \"engage\": 2191, \"receive\": 3257, \"involved\": 2687, \"resulting\": 690, \"defeat\": 1095, \"opinion\": 2367, \"makes\": 3413, \"factious\": 50, \"involves\": 1720, \"hornet's\": 43, \"outcomes\": 97, \"pillion\": 380, \"entryng\": 56, \"reserved\": 353, \"stag\": 308, \"tools\": 136, \"causal\": 289, \"standing\": 1459, \"confidence\": 1111, \"exciting\": 52, \"reeds\": 51, \"certificate\": 2032, \"whipping\": 97, \"chocolates\": 237, \"ministers\": 153, \"next\": 3643, \"figurative\": 212, \"eleven\": 227, \"duplicate\": 80, \"doubt\": 5021, \"humus\": 131, \"humorless\": 45, \"chloride\": 45, \"touched\": 398, \"baalim\": 57, \"pencil\": 958, \"infamy\": 40, \"occurred\": 1054, \"bodily\": 124, \"carrying\": 1056, \"labourer\": 129, \"labelled\": 53, \"rubbish\": 204, \"baby\": 927, \"charity\": 127, \"customer\": 1001, \"resection\": 141, \"balls\": 48, \"animals\": 283, \"piety\": 81, \"this\": 95534, \"challenge\": 2204, \"clients\": 395, \"insists\": 83, \"pour\": 553, \"patient's\": 435, \"emerson\": 43, \"publications\": 106, \"drill\": 51, \"worksheet\": 66, \"rica\": 102, \"coffin\": 140, \"murmuring\": 101, \"slid\": 63, \"weaker\": 142, \"bent\": 367, \"pawn\": 78, \"process\": 14426, \"lock\": 312, \"coolness\": 40, \"rode\": 208, \"purposes\": 125, \"pieces\": 1597, \"high\": 45420, \"spruce\": 51, \"bend\": 939, \"slip\": 2324, \"rods\": 238, \"martyr\": 155, \"trumpet\": 42, \"bolstered\": 81, \"educational\": 329, \"destroying\": 54, \"king's\": 290, \"delay\": 676, \"procured\": 55, \"pair\": 10119, \"animal\": 2378, \"hormones\": 47, \"wolf\": 128, \"mysteries\": 63, \"establishment\": 9785, \"wellascertained\": 62, \"luster\": 46, \"especial\": 47, \"tailors\": 86, \"blocks\": 554, \"waded\": 72, \"aspiring\": 120, \"await\": 102, \"tied\": 794, \"halted\": 870, \"hitched\": 102, \"aspirins\": 65, \"terrors\": 59, \"demonstrating\": 52, \"fits\": 517, \"marrow\": 135, \"perpetrating\": 236, \"referring\": 119, \"solidarity\": 69, \"varied\": 151, \"realized\": 449, \"tributary\": 60, \"deranged\": 87, \"counter\": 430, \"microbial\": 140, \"element\": 2202, \"commodities\": 55, \"writ\": 490, \"allot\": 76, \"allow\": 1649, \"intellectuals\": 172, \"volunteers\": 330, \"counted\": 404, \"transformation\": 1541, \"reversal\": 221, \"producer\": 268, \"produces\": 983, \"peck\": 50, \"insight\": 796, \"outlook\": 42, \"doubtful\": 692, \"produced\": 2438, \"comma\": 77, \"bronchopleural\": 74, \"parameters\": 394, \"player's\": 105, \"perfect\": 3660, \"recreating\": 137, \"decay\": 42, \"chosen\": 895, \"strewed\": 58, \"dispose\": 500, \"responsibilities\": 997, \"strode\": 57, \"shudder\": 193, \"precaution\": 135, \"thieves\": 113, \"degrees\": 41, \"misapprehension\": 53, \"instruments\": 103, \"derivative\": 359, \"colonel's\": 56, \"attachment\": 146, \"parabola\": 69, \"briefer\": 66, \"disrupted\": 162, \"mitigated\": 54, \"snake\": 546, \"kiss\": 1098, \"rotation\": 1171, \"cage\": 2779, \"outlines\": 266, \"presidential\": 123, \"reconstruction\": 201, \"intelligent\": 271, \"traced\": 83, \"concave\": 45, \"suits\": 59, \"sufficiently\": 227, \"delightful\": 1383, \"truth\": 2424, \"shortage\": 1542, \"accompanied\": 4110, \"beneath\": 426, \"stock\": 1930, \"traces\": 227, \"tracer\": 48, \"glasses\": 281, \"homogeneous\": 564, \"watery\": 347, \"nanometers\": 160, \"tents\": 110, \"doing\": 1506, \"verily\": 53, \"frae\": 66, \"sportsman\": 155, \"deficiency\": 1062, \"frequency\": 4147, \"static\": 127, \"thirteen\": 106, \"jagged\": 74, \"confiderable\": 154, \"witness\": 3368, \"fundamentally\": 50, \"populace\": 79, \"singular\": 1485, \"microscope\": 122, \"huguenot\": 99, \"cess\": 44, \"motifs\": 41, \"burke\": 117, \"oblong\": 41, \"shut\": 637, \"gonzalo\": 73, \"godly\": 102, \"incalculable\": 73, \"release\": 425, \"graze\": 68, \"threedimensional\": 55, \"ignominious\": 51, \"tempt\": 133, \"thrust\": 293, \"embarrass\": 42, \"monographs\": 53, \"craving\": 44, \"shortest\": 85, \"party's\": 40, \"cremona\": 87, \"could\": 40628, \"compulsive\": 49, \"congeniality\": 49, \"length\": 3486, \"pigs\": 257, \"qualifying\": 240, \"receding\": 97, \"scare\": 59, \"respond\": 1412, \"staggered\": 237, \"platonic\": 46, \"manuscript\": 441, \"blown\": 356, \"scene\": 3073, \"owned\": 1279, \"alleged\": 69, \"affliction\": 73, \"owner\": 1542, \"blows\": 178, \"weekly\": 3673, \"montaigne\": 60, \"legislative\": 524, \"reference\": 10046, \"dickens's\": 1162, \"start\": 3289, \"festival\": 106, \"behaves\": 650, \"traveller\": 384, \"system\": 22980, \"upstate\": 76, \"sergeant\": 98, \"behaved\": 204, \"sensitivity\": 384, \"painful\": 1365, \"evacuated\": 76, \"interests\": 219, \"enforcement\": 207, \"stomach\": 608, \"stars\": 370, \"quarry\": 52, \"stevens's\": 52, \"depressing\": 114, \"confectioner\": 45, \"accompaniment\": 550, \"coinage\": 85, \"elite\": 109, \"haven\": 244, \"steel\": 502, \"subroutine\": 165, \"warfare\": 243, \"egregious\": 61, \"split\": 935, \"bother\": 477, \"gentile\": 48, \"tortured\": 124, \"reproduction\": 303, \"punctured\": 44, \"stricter\": 252, \"steep\": 439, \"torrent\": 236, \"devotion\": 966, \"result\": 57235, \"collecting\": 191, \"chromic\": 45, \"false\": 3812, \"beggar\": 1422, \"viewer\": 99, \"trusting\": 163, \"partnership\": 358, \"gently\": 254, \"spelled\": 66, \"robot\": 120, \"tonight\": 197, \"gentle\": 2172, \"fourteenth\": 260, \"clearly\": 4627, \"viewed\": 8801, \"prodigiously\": 40, \"competency\": 48, \"documents\": 270, \"soak\": 175, \"bacterium\": 44, \"babel\": 54, \"mechanism\": 1994, \"adjunct\": 583, \"septal\": 202, \"reproducing\": 630, \"awes\": 45, \"competence\": 91, \"accuracy\": 53, \"worldwide\": 426, \"pebbles\": 48, \"regard\": 1898, \"nancy\": 82, \"voyage\": 1042, \"whirl\": 74, \"courtesy\": 165, \"said\": 4269, \"plus\": 183, \"vise\": 116, \"device\": 2485, \"medal\": 260, \"placement\": 49, \"parisian\": 55, \"sweeping\": 136, \"bred\": 167, \"stronger\": 858, \"posterior\": 50, \"enlist\": 91, \"firm's\": 256, \"colonnade\": 127, \"mechanical\": 560, \"innocent\": 104, \"painting\": 894, \"fact\": 22012, \"atmosphere\": 785, \"perversion\": 128, \"terminate\": 143, \"centralized\": 44, \"vacancy\": 507, \"bring\": 3265, \"greenhouse\": 42, \"rough\": 538, \"trivial\": 454, \"decade\": 1172, \"principal\": 973, \"pause\": 1231, \"hops\": 45, \"conciliate\": 40, \"quickened\": 127, \"jar\": 153, \"should\": 28035, \"buttons\": 91, \"entities\": 90, \"hopi\": 45, \"planted\": 159, \"tape\": 301, \"molecules\": 56, \"printers\": 69, \"riding\": 464, \"wretchedness\": 58, \"flinch\": 150, \"secretaries\": 44, \"hope\": 6576, \"exchanged\": 47, \"move\": 7491, \"handle\": 754, \"listened\": 2775, \"means\": 92891, \"familiar\": 919, \"irreproachable\": 58, \"lucky\": 116, \"prohibition\": 278, \"savoyard\": 68, \"scorn\": 222, \"meter\": 678, \"exchanger\": 57, \"sinus\": 178, \"shaping\": 168, \"antagonist\": 75, \"smash\": 44, \"committees\": 43, \"embedded\": 422, \"contemptible\": 101, \"h\": 123, \"comprising\": 51, \"taxes\": 48, \"pirate\": 290, \"proved\": 1848, \"stuff\": 49, \"allegation\": 65, \"ohio\": 43, \"deathlike\": 107, \"townspeople\": 50, \"guessing\": 54, \"temporarily\": 129, \"pronoun\": 80, \"indecisive\": 44, \"frame\": 1590, \"packet\": 596, \"capful\": 45, \"edition\": 40538, \"slanted\": 81, \"generational\": 41, \"agricultural\": 139, \"dravidian\": 58, \"electrode\": 484, \"packed\": 169, \"taxed\": 70, \"dungeon\": 69, \"wire\": 1036, \"destiny\": 155, \"insulting\": 72, \"fellowworker\": 50, \"nuclear\": 586, \"partisan\": 97, \"zeolite\": 57, \"synod\": 88, \"supersonic\": 77, \"injustice\": 186, \"membrane\": 228, \"piston\": 238, \"pistol\": 349, \"industries\": 353, \"derogatory\": 91, \"explosive\": 49, \"notion\": 3278, \"negotiated\": 1427, \"vitamin\": 382, \"courtyard\": 257, \"strides\": 64, \"wingless\": 41, \"ende\": 56, \"historians\": 129, \"shapes\": 158, \"configuration\": 161, \"lawsuit\": 154, \"staring\": 58, \"restrictions\": 78, \"figured\": 77, \"drum\": 198, \"invited\": 570, \"wrongefull\": 69, \"drug\": 1824, \"doorway\": 304, \"figures\": 326, \"puff\": 604, \"inviter\": 143, \"strongly\": 163, \"adjusted\": 328, \"co\": 163, \"cm\": 54, \"conclude\": 2084, \"cb\": 103, \"ce\": 62, \"cd\": 55, \"coercive\": 50, \"allocated\": 109, \"winning\": 2304, \"accursed\": 52, \"ct\": 70, \"suppository\": 49, \"outsider\": 44, \"thropes\": 56, \"dazzling\": 60, \"underlying\": 43, \"mathematics\": 58, \"genetic\": 1231, \"drank\": 352, \"feather\": 771, \"waste\": 3619, \"louisiana\": 65, \"trend\": 1941, \"ballast\": 50, \"antifungal\": 98, \"tyranny\": 250, \"homosexual\": 138, \"lymphoid\": 64, \"neighbour\": 72, \"hateful\": 99, \"hobby\": 214, \"muslims\": 250, \"spain\": 118, \"laser\": 215, \"grinning\": 103, \"surveyors\": 45, \"fallacious\": 238, \"loathes\": 49, \"westerly\": 41, \"concerted\": 171, \"ve\": 1883, \"ripe\": 162, \"aristotelian\": 73, \"delaying\": 138, \"retarding\": 168, \"heating\": 756, \"logbook\": 71, \"renunciation\": 250, \"politics\": 628, \"felice\": 203, \"situ\": 261, \"ransom\": 51, \"cohort\": 56, \"denial\": 688, \"primary\": 2133, \"carbohydrates\": 97, \"concealing\": 96, \"spends\": 99, \"romance\": 162, \"ruins\": 156, \"digging\": 623, \"vocabulary\": 116, \"outbreak\": 67, \"glaring\": 72, \"planned\": 966, \"covenant\": 1110, \"conflicting\": 116, \"ball\": 2209, \"columbia\": 761, \"recruitment\": 41, \"drink\": 2812, \"upon\": 20577, \"nationally\": 111, \"phd\": 126, \"proficiency\": 74, \"paving\": 138, \"dust\": 1013, \"expand\": 116, \"diabetes\": 520, \"audit\": 155, \"genus\": 118, \"off\": 9378, \"acknowledgement\": 50, \"shacks\": 79, \"colour\": 616, \"patterns\": 83, \"command\": 3097, \"oft\": 70, \"administered\": 274, \"micrograph\": 47, \"drawing\": 1186, \"subgroup\": 65, \"enunciation\": 64, \"surest\": 450, \"legendary\": 42, \"flesh\": 686, \"moments\": 2337, \"diarrhea\": 131, \"predicts\": 52, \"years\": 18216, \"momenta\": 52, \"commemoration\": 94, \"spinsters\": 43, \"afflicted\": 105, \"web\": 1267, \"generous\": 989, \"bibliography\": 266, \"clergyman\": 273, \"roses\": 119, \"residential\": 72, \"realize\": 432, \"arrest\": 130, \"combine\": 590, \"clipped\": 189, \"exempt\": 65, \"scoundrel\": 47, \"photo\": 161, \"increased\": 1258, \"government\": 12075, \"checking\": 203, \"chancellor\": 233, \"smithsonian\": 132, \"haul\": 128, \"five\": 3579, \"desk\": 612, \"password\": 499, \"pier\": 60, \"you\": 55246, \"descendant\": 464, \"placenta\": 41, \"crisp\": 46, \"onion\": 168, \"chairs\": 141, \"resin\": 64, \"units\": 62, \"undertaking\": 413, \"become\": 16676, \"radiant\": 116, \"replacement\": 226, \"amendment\": 538, \"poor\": 5485, \"indications\": 240, \"guaranty\": 288, \"underwent\": 193, \"interact\": 444, \"thief\": 2375, \"daylight\": 141, \"choosing\": 269, \"springs\": 214, \"hissing\": 61, \"ballot\": 47, \"recognition\": 2913, \"headship\": 45, \"darwinian\": 102, \"literally\": 80, \"bedding\": 137, \"peking\": 49, \"shone\": 170, \"stem\": 606, \"does\": 12931, \"passion\": 798, \"saucepan\": 569, \"forgiven\": 53, \"salaried\": 70, \"legate\": 271, \"slower\": 100, \"blowing\": 49, \"schedule\": 2115, \"pear\": 108, \"pressure\": 9018, \"posterity\": 376, \"proceeded\": 516, \"loans\": 72, \"monomials\": 44, \"counties\": 356, \"hiding\": 57, \"gained\": 1404, \"repaired\": 141, \"sister\": 500, \"eradication\": 63, \"face\": 39879, \"laboring\": 246, \"angeles\": 57, \"pillow\": 408, \"bullets\": 55, \"concession\": 247, \"constraints\": 116, \"documentary\": 54, \"revise\": 87, \"peak\": 494, \"subset\": 137, \"cadet\": 94, \"alliance\": 829, \"letters\": 2263, \"suited\": 77, \"unfavourable\": 485, \"commitment\": 2697, \"referendum\": 125, \"assess\": 858, \"lung\": 232, \"tiny\": 1040, \"cultivated\": 320, \"roads\": 51, \"particulars\": 115, \"mere\": 8522, \"terminated\": 658, \"walpole\": 134, \"housing\": 227, \"watchman\": 112, \"stamina\": 49, \"metz\": 52, \"much\": 28002, \"frustration\": 447, \"heresy\": 104, \"specimens\": 67, \"subsidiaries\": 71, \"naturally\": 377, \"function\": 17475, \"fiscal\": 141, \"funnel\": 96, \"connotations\": 64, \"rooted\": 200, \"renegotiation\": 53, \"strengths\": 46, \"societe\": 62, \"delivery\": 610, \"construction\": 2685, \"foretaste\": 252, \"convergence\": 66, \"rectum\": 156, \"valuation\": 82, \"entered\": 2797, \"bilateral\": 176, \"count\": 264, \"fragmentation\": 62, \"compute\": 46, \"evident\": 640, \"society\": 8984, \"shrunk\": 41, \"official\": 735, \"smooth\": 828, \"reinforcement\": 375, \"excitement\": 705, \"harvested\": 126, \"convince\": 156, \"monument\": 962, \"distribution\": 1811, \"baptism\": 222, \"tanner\": 529, \"profusion\": 70, \"bearing\": 3458, \"irish\": 201, \"unusual\": 470, \"rightly\": 179, \"governor's\": 48, \"recognize\": 144, \"contribute\": 838, \"life\": 45600, \"denote\": 145, \"sibling\": 42, \"replica\": 289, \"variegated\": 130, \"aristotle\": 77, \"ink\": 158, \"recommendations\": 50, \"effected\": 445, \"compared\": 2061, \"prosperous\": 260, \"variety\": 36595, \"deadly\": 569, \"scholarly\": 85, \"lately\": 58, \"compares\": 40, \"details\": 223, \"behold\": 95, \"predominant\": 280, \"illusion\": 65, \"francisco\": 203, \"monday\": 52, \"oppression\": 295, \"outlets\": 54, \"chance\": 26396, \"repeal\": 1358, \"veil\": 527, \"vein\": 499, \"exposure\": 164, \"ghost\": 413, \"niveau\": 51, \"tinkling\": 599, \"lasted\": 785, \"rule\": 4919, \"sensorineural\": 49, \"mercenary\": 70, \"write\": 3790, \"pension\": 838, \"vassal\": 44, \"rural\": 850, \"trims\": 130, \"silica\": 63, \"valve\": 136, \"brindisi\": 180, \"clamoring\": 52, \"surrounding\": 99, \"magnetic\": 881, \"doubts\": 60, \"desirable\": 810, \"precondition\": 191, \"rapid\": 2499, \"nursery\": 136, \"entropy\": 387, \"controversial\": 204, \"mansion\": 238, \"integrity\": 224, \"relationships\": 4089, \"longfellow's\": 49, \"votes\": 110, \"physiological\": 857, \"ventral\": 108, \"manhandled\": 42, \"there's\": 2081, \"messenger\": 891, \"sped\": 49, \"worth\": 2526, \"scriptural\": 63, \"wreath\": 956, \"blanket\": 535, \"women's\": 187, \"manic\": 49, \"lecture\": 2362, \"chapel\": 702, \"bewildered\": 388, \"abhorrence\": 43, \"progression\": 238, \"huguenots\": 67, \"pinch\": 509, \"surgical\": 798, \"stratagem\": 129, \"nigger\": 203, \"systemic\": 118, \"delegate\": 874, \"triumph\": 154, \"jamaica\": 42, \"monotonous\": 52, \"preached\": 370, \"blasphemy\": 42, \"bubbling\": 44, \"midsummer\": 98, \"horn\": 441, \"approximation\": 394, \"depraved\": 61, \"proverb\": 82, \"subaltern\": 43, \"decadence\": 67, \"established\": 2586, \"settlement\": 2558, \"deliberate\": 1902, \"regale\": 52, \"near\": 5041, \"consequent\": 339, \"moratorium\": 287, \"above\": 3871, \"retrieved\": 204, \"suppose\": 957, \"consisting\": 1370, \"told\": 9439, \"notions\": 124, \"kindred\": 40, \"protection\": 670, \"pursuit\": 321, \"miscarriage\": 124, \"celebration\": 386, \"obtained\": 2873, \"derivable\": 198, \"daughter\": 1873, \"items\": 374, \"employees\": 1777, \"unipolar\": 84, \"foolishness\": 98, \"smoke\": 726, \"browsing\": 117, \"surely\": 876, \"postponed\": 402, \"glittering\": 142, \"diameter\": 882, \"secure\": 3072, \"graders\": 45, \"highly\": 2770, \"soever\": 137, \"socioeconomic\": 55, \"atrium\": 78, \"glance\": 2892, \"total\": 29341, \"plot\": 1054, \"inculcation\": 238, \"plop\": 64, \"coins\": 75, \"chooses\": 223, \"afterward\": 58, \"iq\": 108, \"seriously\": 219, \"exacts\": 92, \"fractions\": 43, \"tolerated\": 50, \"recondite\": 71, \"infusion\": 120, \"award\": 1288, \"aware\": 348, \"separates\": 821, \"continual\": 1085, \"hooksett\": 48, \"striving\": 339, \"blocking\": 98, \"overrun\": 51, \"piero\": 62, \"word\": 18014, \"wore\": 686, \"divorced\": 97, \"permits\": 223, \"presentation\": 1858, \"work\": 19610, \"refusing\": 98, \"worn\": 197, \"theories\": 208, \"groves\": 49, \"era\": 1953, \"mechanic\": 62, \"mortar\": 204, \"elbow\": 40, \"phosphorylates\": 108, \"initial\": 515, \"acetylcholine\": 59, \"indicated\": 2408, \"cited\": 639, \"flung\": 53, \"india\": 844, \"noises\": 54, \"indicates\": 1532, \"liter\": 215, \"violin\": 176, \"indifferent\": 355, \"rhomboid\": 100, \"worse\": 372, \"clubbed\": 91, \"farce\": 291, \"hindus\": 46, \"inhabitants\": 173, \"photocopy\": 59, \"song\": 2050, \"debauchery\": 60, \"infringement\": 70, \"ratification\": 268, \"morbid\": 433, \"boats\": 69, \"ordinary\": 122, \"beach\": 442, \"gamble\": 60, \"classifying\": 73, \"fever\": 943, \"waltham\": 81, \"lad\": 103, \"lichfield\": 98, \"ladder\": 298, \"after\": 25731, \"customs\": 108, \"induce\": 48, \"law\": 9471, \"arch\": 86, \"las\": 112, \"chilled\": 50, \"repeats\": 50, \"elusive\": 77, \"hasty\": 492, \"appreciate\": 567, \"greet\": 603, \"stimulate\": 206, \"greek\": 3088, \"sons\": 1396, \"green\": 1295, \"south\": 1580, \"parish\": 943, \"worst\": 50, \"order\": 19225, \"modesty\": 66, \"office\": 13993, \"claimant\": 132, \"consent\": 940, \"missionary\": 361, \"satisfied\": 325, \"proportionate\": 213, \"westphalia\": 50, \"ancients\": 132, \"japan\": 405, \"patronized\": 50, \"mayor\": 60, \"respectability\": 120, \"drudges\": 42, \"somewhere\": 398, \"sheaf\": 2363, \"tinkle\": 203, \"production\": 3529, \"thrown\": 1614, \"valor\": 95, \"precipitate\": 911, \"harmony\": 835, \"eventually\": 118, \"coffee\": 316, \"affected\": 530, \"woken\": 72, \"remission\": 179, \"fragment\": 1524, \"thee\": 707, \"safe\": 2754, \"trail\": 591, \"break\": 3056, \"band\": 9284, \"bang\": 225, \"penetration\": 90, \"sack\": 249, \"suitor\": 51, \"jesus\": 1062, \"bank\": 4837, \"bread\": 924, \"moneyed\": 45, \"whoop\": 59, \"rocky\": 319, \"oxygen\": 329, \"relishes\": 71, \"reasonably\": 610, \"classified\": 373, \"backgrounds\": 198, \"l\": 908, \"embankment\": 54, \"louis\": 122, \"puppet\": 354, \"feeds\": 120, \"bells\": 75, \"excavations\": 75, \"lifted\": 150, \"schemes\": 61, \"monolith\": 83, \"inftigation\": 64, \"meets\": 104, \"councils\": 82, \"train\": 2349, \"crimes\": 46, \"desolated\": 40, \"flock\": 695, \"slew\": 60, \"trench\": 156, \"hoofed\": 73, \"misanthropical\": 45, \"cameras\": 47, \"forty\": 454, \"vessels\": 109, \"fellows\": 88, \"fellowship\": 350, \"daniel\": 95, \"medicine\": 466, \"hooker\": 40, \"forth\": 4375, \"sliding\": 523, \"forcible\": 449, \"barrier\": 604, \"veto\": 277, \"mourning\": 128, \"campaigns\": 65, \"fervid\": 48, \"people's\": 52, \"enlightened\": 113, \"pressor\": 49, \"certified\": 49, \"drench\": 57, \"created\": 4956, \"refugee\": 101, \"shunted\": 214, \"creates\": 319, \"ordering\": 256, \"licked\": 58, \"oppose\": 167, \"incorporated\": 41, \"regress\": 99, \"baltic\": 65, \"transaction\": 574, \"footsteps\": 62, \"warden\": 152, \"preoperative\": 55, \"organize\": 429, \"daunting\": 118, \"suspension\": 165, \"render\": 349, \"jackknife\": 44, \"unicorn\": 41, \"railroads\": 480, \"immolation\": 131, \"meshes\": 54, \"another\": 3448, \"comic\": 247, \"electronic\": 183, \"illustrate\": 144, \"centrifuge\": 90, \"agriculture\": 56, \"cartesian\": 104, \"nullity\": 70, \"rejects\": 44, \"gooseberry\": 55, \"takeovers\": 60, \"approximately\": 355, \"baptised\": 44, \"compromise\": 1929, \"observations\": 1303, \"cannula\": 72, \"dogs\": 443, \"fanatical\": 99, \"happily\": 52, \"luncheon\": 148, \"diversified\": 106, \"rejected\": 233, \"wastes\": 57, \"hazelnut\": 361, \"buckeen\": 97, \"tithe\": 49, \"rebuff\": 47, \"mercy\": 92, \"messing\": 46, \"asseverations\": 56, \"target\": 864, \"tavern\": 353, \"baronet\": 63, \"subterraneous\": 42, \"scenes\": 41, \"medley\": 201, \"tobacconist's\": 66, \"binds\": 420, \"guilt\": 51, \"domestics\": 43, \"rationalization\": 135, \"contrasted\": 57, \"powers\": 272, \"minus\": 65, \"refreshment\": 87, \"malady\": 98, \"manned\": 115, \"septicemia\": 75, \"scragging\": 75, \"portraits\": 103, \"lull\": 228, \"vigorous\": 827, \"contents\": 156, \"forced\": 419, \"quieter\": 48, \"strength\": 1198, \"genuine\": 939, \"laden\": 192, \"convenient\": 2315, \"latter\": 1259, \"potentialities\": 310, \"casual\": 260, \"zest\": 311, \"practices\": 54, \"frictionless\": 79, \"forces\": 3721, \"thundering\": 115, \"pilgrimage\": 641, \"completed\": 1276, \"conducive\": 108, \"circles\": 98, \"insulated\": 110, \"nobody\": 282, \"maiden\": 136, \"iceland\": 49, \"viscosity\": 52, \"prohibitive\": 83, \"exercised\": 359, \"extending\": 577, \"involving\": 507, \"germany\": 830, \"catechumen\": 48, \"scripts\": 54, \"disenfranchisement\": 48, \"corded\": 45, \"autopsy\": 44, \"grave\": 1470, \"peevish\": 112, \"ducal\": 68, \"incomplete\": 51, \"calculated\": 1803, \"witnessed\": 442, \"inferred\": 59, \"deacon\": 106, \"enshrined\": 153, \"accounted\": 141, \"aunt\": 76, \"unsophisticated\": 85, \"sun\": 1260, \"voting\": 94, \"briskly\": 335, \"fitted\": 145, \"reserve\": 649, \"decidedly\": 40, \"rascal\": 41, \"precarious\": 187, \"brief\": 14892, \"reactance\": 146, \"nephew\": 1120, \"enjoyed\": 749, \"toast\": 129, \"foraging\": 128, \"latent\": 152, \"alluded\": 50, \"implementation\": 266, \"guidance\": 98, \"wasteful\": 57, \"layman\": 115, \"thermodynamically\": 85, \"screening\": 70, \"pursuing\": 293, \"pulpit\": 52, \"adequate\": 243, \"rectangle\": 240, \"personality\": 664, \"predecessor\": 246, \"do\": 45333, \"terrifying\": 152, \"forsworn\": 58, \"de\": 516, \"dc\": 450, \"cardinals\": 59, \"yielded\": 973, \"haunted\": 204, \"deliberative\": 56, \"dr\": 264, \"ulster\": 52, \"rebirth\": 41, \"runs\": 908, \"emf\": 46, \"covering\": 958, \"colloid\": 51, \"photostat\": 2098, \"lexington\": 69, \"superimposition\": 40, \"emu\": 96, \"children's\": 685, \"gears\": 44, \"rung\": 126, \"analytical\": 44, \"implication\": 69, \"explanations\": 76, \"steam\": 5589, \"secretary\": 1486, \"erroneous\": 628, \"human\": 8706, \"observer\": 271, \"observes\": 115, \"dustbin\": 82, \"gladness\": 41, \"observed\": 2259, \"facts\": 281, \"depends\": 882, \"projections\": 283, \"cattle\": 45, \"entailing\": 83, \"sketches\": 107, \"optimum\": 48, \"techniques\": 287, \"yer\": 76, \"draws\": 96, \"away\": 6443, \"gentleman\": 3048, \"calamity\": 183, \"bier\": 134, \"portrayed\": 77, \"symmetric\": 130, \"bien\": 49, \"unable\": 804, \"deputies\": 50, \"encounters\": 46, \"accord\": 195, \"rudimentary\": 42, \"terms\": 5753, \"loves\": 259, \"handful\": 1985, \"buyers\": 62, \"remedial\": 76, \"unfold\": 92, \"clues\": 99, \"packages\": 48, \"abolished\": 71, \"kitchen\": 335, \"cop\": 113, \"climate\": 1095, \"cot\": 112, \"cow\": 307, \"ill\": 632, \"matrimony\": 133, \"gasped\": 44, \"steer\": 120, \"receives\": 1584, \"receiver\": 321, \"exceeds\": 54, \"transmission\": 747, \"disappears\": 95, \"negotiation\": 534, \"ingenious\": 311, \"tone\": 6640, \"sigmoidal\": 106, \"rheological\": 51, \"royal\": 1059, \"sardines\": 189, \"girding\": 96, \"tons\": 265, \"applicability\": 1052, \"tightening\": 59, \"polynomial\": 403, \"resignation\": 54, \"wakefulness\": 52, \"speak\": 2167, \"gratitude\": 66, \"broadening\": 49, \"sucker\": 120, \"petty\": 112, \"unhappily\": 40, \"engines\": 183, \"mobilization\": 41, \"observing\": 52, \"condemned\": 153, \"drafting\": 83, \"flexible\": 306, \"acuity\": 40, \"castration\": 57, \"families\": 444, \"easy\": 2280, \"attacked\": 189, \"concerning\": 1461, \"excite\": 377, \"coherent\": 1608, \"gracious\": 49, \"applied\": 4772, \"physician\": 2014, \"gnp\": 260, \"has\": 101909, \"ahead\": 50, \"publicly\": 45, \"air\": 2723, \"aim\": 1457, \"applies\": 51, \"aid\": 1212, \"property\": 4796, \"partaker\": 218, \"launched\": 355, \"mistake\": 3402, \"cylinder\": 479, \"beetles\": 46, \"phenomenological\": 59, \"allows\": 759, \"throat\": 353, \"fiendishness\": 75, \"cone\": 175, \"comparative\": 1159, \"lieutenant's\": 156, \"confirmed\": 44, \"descent\": 246, \"miniature\": 93, \"patent\": 840, \"apparently\": 160, \"punctuation\": 278, \"imbued\": 150, \"varies\": 1607, \"descend\": 41, \"monarch\": 161, \"indictment\": 535, \"wheel\": 981, \"independent\": 643, \"raid\": 263, \"fuss\": 471, \"nil\": 45, \"prohibits\": 108, \"springing\": 50, \"swell\": 45, \"hang\": 514, \"endued\": 46, \"evil\": 806, \"hand\": 16879, \"liberties\": 67, \"norwegian\": 65, \"fuse\": 144, \"producers\": 64, \"descry\": 55, \"rabbi\": 206, \"catheter\": 592, \"prescribed\": 55, \"vengeful\": 54, \"kept\": 5372, \"whereby\": 260, \"scenario\": 44, \"singleness\": 47, \"humble\": 1401, \"ragged\": 178, \"client\": 390, \"studying\": 615, \"impertinent\": 84, \"reichstag\": 95, \"the\": 1147320, \"musical\": 290, \"wider\": 5836, \"epa\": 105, \"unified\": 1399, \"stringent\": 111, \"impression\": 2095, \"background\": 2922, \"quoted\": 214, \"slighter\": 55, \"gods\": 167, \"newton\": 41, \"mid\": 40, \"farther\": 721, \"victim\": 1278, \"adding\": 300, \"transformer\": 697, \"unique\": 3200, \"hills\": 45, \"cornell\": 116, \"occupants\": 52, \"passive\": 781, \"utilization\": 49, \"shout\": 167, \"belongs\": 347, \"transformed\": 564, \"board\": 3611, \"requiring\": 266, \"evidenced\": 82, \"righteous\": 138, \"plasma\": 104, \"leering\": 56, \"mayd\": 58, \"insensitive\": 44, \"hoists\": 92, \"retractor\": 46, \"tourney\": 80, \"boxes\": 180, \"injuring\": 42, \"realm\": 128, \"unmolested\": 43, \"retreat\": 755, \"disadvantage\": 625, \"triumphal\": 85, \"disinclination\": 46, \"virginian\": 73, \"soap\": 325, \"securities\": 143, \"gandhi\": 2041, \"sparse\": 265, \"hepatic\": 127, \"lapses\": 43, \"invaluable\": 56, \"security\": 1213, \"towards\": 3494, \"antique\": 42, \"portuguese\": 56, \"honored\": 42, \"trained\": 426, \"lashes\": 460, \"flatter\": 45, \"oh\": 50, \"born\": 2735, \"critique\": 1192, \"bore\": 206, \"rill\": 77, \"confusing\": 241, \"congratulate\": 275, \"humor\": 56, \"purple\": 44, \"idealists\": 41, \"comments\": 64, \"asking\": 665, \"honoured\": 212, \"denied\": 96, \"beating\": 194, \"participation\": 453, \"galsworthy\": 114, \"peek\": 176, \"repository\": 93, \"marketing\": 293, \"pose\": 62, \"confer\": 62, \"illustration\": 1182, \"constructive\": 385, \"englishmen\": 124, \"revived\": 314, \"architectural\": 46, \"posy\": 65, \"peer\": 86, \"peep\": 1244, \"vault\": 181, \"properties\": 245, \"tetramer\": 41, \"rallying\": 189, \"theirs\": 63, \"coral\": 49, \"months\": 9543, \"accepts\": 102, \"constituting\": 88, \"situated\": 195, \"dined\": 62, \"banker\": 712, \"horizon\": 204, \"considerations\": 58, \"digestion\": 54, \"dilemma\": 226, \"mantle\": 184, \"wasting\": 167, \"pays\": 101, \"float\": 89, \"profession\": 1238, \"bound\": 1316, \"rendering\": 163, \"formidable\": 1200, \"balanced\": 353, \"strangely\": 308, \"wan\": 139, \"compression\": 55, \"undiscovered\": 131, \"segment\": 310, \"unchanging\": 43, \"wad\": 80, \"legislation\": 170, \"sovereign\": 1030, \"fight\": 2301, \"repudiate\": 43, \"accordingly\": 48, \"clinical\": 1294, \"way\": 79928, \"wax\": 119, \"herdsmen\": 41, \"wat\": 50, \"syracusans\": 114, \"war\": 15528, \"lowest\": 116, \"ccelom\": 60, \"gaseous\": 422, \"becoming\": 1803, \"vitality\": 52, \"maxim\": 1364, \"peninsula\": 117, \"taken\": 11556, \"catalyst\": 1474, \"encoded\": 152, \"true\": 4445, \"confequence\": 63, \"nationwide\": 48, \"dowry\": 79, \"braver\": 103, \"maximum\": 2692, \"apostles\": 50, \"anew\": 50, \"emotional\": 6357, \"retreats\": 57, \"fulfills\": 46, \"promises\": 233, \"stranded\": 56, \"moore\": 46, \"aorta\": 41, \"inclusive\": 643, \"abstract\": 170, \"israel\": 1144, \"muscular\": 45, \"evidence\": 2154, \"manure\": 49, \"howling\": 325, \"promised\": 409, \"prayer\": 917, \"chablis\": 50, \"mold\": 49, \"archive\": 69, \"constriction\": 205, \"inculcated\": 58, \"dimly\": 40, \"dying\": 530, \"stake\": 1849, \"reality\": 1909, \"interested\": 685, \"holding\": 1847, \"crested\": 68, \"heterozygous\": 69, \"unwilling\": 316, \"autonomic\": 66, \"brothers\": 140, \"gasps\": 44, \"forster's\": 46, \"supranuclear\": 70, \"convincing\": 1015, \"polite\": 236, \"let's\": 160, \"assiduous\": 86, \"authoritarianism\": 202, \"sociology\": 186, \"scores\": 108, \"inkstand\": 51, \"regime\": 722, \"cheated\": 82, \"hemophilia\": 62, \"paces\": 296, \"interval\": 275, \"governed\": 1842, \"cohesion\": 44, \"loyal\": 399, \"classmate\": 41, \"berenger\": 46, \"necessitated\": 169, \"precedent\": 767, \"paced\": 40, \"songs\": 547, \"concept\": 5204, \"impulse\": 405, \"diplomacy\": 84, \"dance\": 718, \"global\": 714, \"baited\": 60, \"wakeful\": 74, \"horseback\": 189, \"switches\": 61, \"moisture\": 111, \"selection\": 2824, \"grateful\": 44, \"battle\": 5400, \"plucked\": 104, \"devoted\": 1292, \"devotee\": 239, \"certainly\": 771, \"hurry\": 1485, \"grape\": 88, \"zone\": 284, \"hovers\": 308, \"flask\": 300, \"graph\": 877, \"hump\": 46, \"fregean\": 45, \"aristocratic\": 88, \"compensate\": 305, \"dissatisfied\": 42, \"chaplain\": 191, \"rhythm\": 275, \"devotes\": 242, \"terror\": 298, \"dartmouth\": 68, \"southwest\": 51, \"brown\": 547, \"predicate\": 51, \"protective\": 307, \"upriver\": 59, \"aldermen\": 51, \"patroness's\": 83, \"liability\": 768, \"forgiving\": 84, \"blast\": 216, \"feeble\": 1791, \"soul's\": 59, \"perceived\": 544, \"scandinavia\": 52, \"prophylactic\": 72, \"presented\": 2854, \"turns\": 815, \"gun\": 1328, \"souvenir\": 272, \"discrete\": 108, \"offering\": 953, \"traitor\": 561, \"guy\": 611, \"tinne\": 74, \"jurisdictional\": 41, \"upper\": 435, \"wanton\": 40, \"brave\": 716, \"regret\": 55, \"regained\": 108, \"discover\": 698, \"thinker\": 202, \"cost\": 2847, \"scarcity\": 426, \"helpless\": 178, \"tempest\": 40, \"penetrated\": 97, \"thing's\": 41, \"cargo\": 305, \"curse\": 250, \"appear\": 1097, \"assistance\": 2887, \"foregoing\": 44, \"shares\": 1443, \"rome\": 344, \"sequential\": 171, \"illustrations\": 43, \"shared\": 3853, \"appeal\": 1172, \"alertness\": 42, \"paradoxical\": 41, \"satisfy\": 125, \"collateral\": 309, \"predicting\": 463, \"efficacious\": 44, \"genes\": 176, \"whiteness\": 74, \"gorge\": 264, \"teaches\": 139, \"appears\": 7702, \"change\": 17108, \"bookless\": 45, \"buck\": 166, \"merriment\": 179, \"precursor\": 188, \"squandered\": 85, \"vibrating\": 347, \"hydrostatic\": 591, \"trial\": 3341, \"nonvolatile\": 184, \"franklin\": 324, \"mysie\": 66, \"jaw\": 72, \"patriotic\": 95, \"triad\": 68, \"country's\": 166, \"plotted\": 314, \"sulphide\": 71, \"inference\": 468, \"extra\": 1187, \"lending\": 595, \"marked\": 5640, \"bullock\": 43, \"sincerely\": 117, \"italians\": 60, \"memorable\": 169, \"marker\": 91, \"illumination\": 109, \"rarely\": 169, \"firearm\": 72, \"market\": 5366, \"terminal\": 53, \"remaking\": 173, \"prove\": 3594, \"termed\": 136, \"sherman\": 65, \"camkii\": 128, \"live\": 4007, \"ripening\": 45, \"sensitization\": 95, \"unexplored\": 49, \"angels\": 167, \"ischemia\": 179, \"marginally\": 50, \"rainfall\": 65, \"entrance\": 115, \"club\": 329, \"methodist\": 40, \"envelope\": 126, \"clue\": 139, \"wallowed\": 94, \"velvet\": 88, \"commissioned\": 746, \"misconception\": 40, \"merchantman\": 56, \"logarithm\": 334, \"organizations\": 49, \"graphic\": 623, \"slogan\": 235, \"pushed\": 325, \"indescribable\": 41, \"car\": 11402, \"cap\": 492, \"cat\": 511, \"purge\": 51, \"labeled\": 63, \"renders\": 307, \"can\": 48110, \"cab\": 351, \"equilibrium\": 224, \"stimulating\": 64, \"social\": 21560, \"heart\": 6393, \"dedicated\": 482, \"grassy\": 80, \"december\": 45, \"chip\": 143, \"bridesmaid\": 496, \"bird's\": 208, \"fortunes\": 150, \"chin\": 96, \"occur\": 1364, \"shoe\": 480, \"productive\": 75, \"bankrupt\": 1273, \"discussion\": 6413, \"starch\": 122, \"magazine\": 783, \"lounge\": 280, \"flank\": 120, \"criterion\": 810, \"truckling\": 226, \"gaping\": 516, \"firmly\": 232, \"dominance\": 80, \"backsliding\": 55, \"economy\": 4228, \"tablespoonful\": 73, \"armies\": 164, \"product\": 2980, \"shooter\": 74, \"escalate\": 64, \"sacrifice\": 759, \"averted\": 82, \"morphologic\": 98, \"countermand\": 67, \"produce\": 5328, \"islands\": 43, \"drastic\": 85, \"flourish\": 137, \"lacked\": 130, \"lifting\": 81, \"backpacking\": 45, \"patellar\": 181, \"remember\": 1774, \"wanderings\": 45, \"sulaco\": 50, \"whenever\": 755, \"candles\": 64, \"explicit\": 357, \"rather\": 11887, \"accelerated\": 50, \"crept\": 318, \"opportunity\": 4906, \"crumple\": 72, \"occupant\": 61, \"serving\": 646, \"foreclosure\": 132, \"nucleon\": 47, \"indeed\": 2159, \"colt\": 42, \"haircut\": 288, \"displayed\": 161, \"brain\": 300, \"stayed\": 1634, \"nitrogen\": 289, \"cold\": 3222, \"still\": 10650, \"birds\": 449, \"trifle\": 453, \"tending\": 122, \"rudiment\": 48, \"acknowledge\": 115, \"reaping\": 104, \"curls\": 123, \"vicinity\": 545, \"inflicted\": 192, \"forms\": 1145, \"window\": 1848, \"spacious\": 55, \"saxon\": 40, \"revivalist\": 61, \"emigrants\": 49, \"correspondence\": 452, \"non\": 301, \"halt\": 127, \"fling\": 166, \"nod\": 188, \"relativism\": 44, \"introduce\": 705, \"extrication\": 48, \"brigadier\": 52, \"adrenaline\": 170, \"equidistant\": 75, \"half\": 23769, \"not\": 158040, \"now\": 8693, \"provision\": 827, \"hall\": 1040, \"halo\": 79, \"barrow\": 86, \"wont\": 187, \"inversion\": 110, \"lies\": 267, \"servant\": 1942, \"james\": 340, \"drop\": 2227, \"intrigued\": 65, \"entirely\": 735, \"cliffs\": 47, \"concerts\": 825, \"em\": 46, \"civilizing\": 56, \"en\": 60, \"vowel\": 257, \"fired\": 1303, \"another's\": 92, \"challenged\": 132, \"cairo\": 62, \"directing\": 87, \"ec\": 92, \"replay\": 50, \"ex\": 44, \"year\": 28470, \"eu\": 272, \"ubiquitous\": 76, \"happen\": 588, \"avoided\": 211, \"refined\": 41, \"amusement\": 88, \"er\": 50, \"shown\": 4846, \"accomplish\": 514, \"opened\": 1569, \"space\": 4243, \"irony\": 102, \"thirst\": 124, \"increase\": 10225, \"rational\": 1408, \"ruinous\": 50, \"receiving\": 665, \"viable\": 190, \"magnocellular\": 43, \"inevitably\": 240, \"symbolic\": 587, \"cars\": 195, \"cart\": 305, \"diagnostic\": 226, \"quart\": 53, \"intruding\": 47, \"advantages\": 493, \"rebel\": 141, \"argo\": 48, \"visions\": 45, \"obligation\": 754, \"marine\": 786, \"inevitable\": 129, \"card\": 1247, \"care\": 2904, \"vestige\": 233, \"reflect\": 57, \"cycles\": 55, \"contemplation\": 64, \"textbook\": 81, \"deprivation\": 40, \"transition\": 2102, \"british\": 1117, \"honest\": 185, \"palaces\": 43, \"invitation\": 617, \"styles\": 65, \"promotion\": 489, \"entrusted\": 499, \"suffice\": 148, \"blind\": 449, \"benefited\": 99, \"springe\": 67, \"occupations\": 148, \"jealousy\": 584, \"variables\": 681, \"municipality\": 303, \"comprised\": 130, \"directly\": 405, \"invasion\": 151, \"comprises\": 77, \"impossible\": 2425, \"message\": 4191, \"drove\": 114, \"seaport\": 71, \"metalanguage\": 63, \"sheep\": 354, \"corinthian\": 127, \"sheer\": 208, \"inconceivable\": 402, \"checked\": 87, \"silent\": 489, \"caught\": 1824, \"breed\": 150, \"carson\": 82, \"joseph\": 47, \"tragic\": 105, \"exerted\": 295, \"friend\": 29123, \"authorized\": 156, \"mostly\": 352, \"that\": 315341, \"brains\": 55, \"taxation\": 153, \"constitutively\": 52, \"transverse\": 322, \"probably\": 4213, \"eliminated\": 113, \"flowers\": 326, \"heretical\": 84, \"than\": 66974, \"television\": 1457, \"threads\": 52, \"accordance\": 780, \"transferred\": 291, \"prerequisites\": 53, \"magnesium\": 83, \"fruits\": 57, \"accessed\": 67, \"extinguish\": 43, \"profuse\": 101, \"anatomic\": 58, \"troublesome\": 172, \"portsmouth\": 43, \"angel\": 258, \"remained\": 2054, \"correction\": 173, \"premier\": 144, \"hippogriff\": 48, \"contortion\": 45, \"decapitated\": 97, \"posited\": 74, \"anger\": 198, \"abnormalities\": 611, \"breakfast\": 536, \"recover\": 233, \"slab\": 624, \"windsor\": 98, \"publicity\": 84, \"nuanced\": 87, \"veteran\": 254, \"offer\": 3678, \"terrific\": 1372, \"equipment\": 400, \"roster\": 41, \"objective\": 486, \"negligible\": 159, \"swelled\": 70, \"impairment\": 49, \"specifying\": 155, \"begin\": 3169, \"scaring\": 70, \"coils\": 41, \"sledge\": 118, \"dispute\": 1937, \"price\": 4704, \"healthfulness\": 40, \"clockmaker\": 85, \"america\": 1007, \"envying\": 92, \"interacting\": 69, \"forever\": 61, \"renal\": 41, \"feminine\": 40, \"dream\": 6747, \"reform\": 507, \"implications\": 375, \"talents\": 83, \"mrs\": 132, \"mri\": 70, \"pattern\": 5852, \"professional\": 848, \"dispersed\": 56, \"typically\": 188, \"filing\": 1013, \"discoverer\": 56, \"german\": 1704, \"fifty\": 4409, \"femur\": 108, \"fifth\": 130, \"ground\": 10253, \"ratio\": 14162, \"title\": 1620, \"proclamation\": 1472, \"stained\": 42, \"prepositional\": 125, \"texture\": 41, \"direly\": 67, \"only\": 68075, \"enriched\": 42, \"chopin\": 82, \"thompson\": 44, \"stain\": 59, \"evinced\": 89, \"respectable\": 166, \"alcoholism\": 62, \"cannon\": 157, \"samuel\": 62, \"stoppage\": 83, \"soon\": 1765, \"fortifications\": 72, \"cannot\": 4352, \"pestilential\": 47, \"manuscripts\": 107, \"celebrate\": 49, \"leather\": 191, \"seldom\": 104, \"irritant\": 41, \"globalisation\": 80, \"pituitary\": 218, \"husband\": 2621, \"gleamed\": 46, \"concert\": 309, \"burst\": 369, \"severely\": 49, \"staged\": 41, \"soot\": 43, \"ends\": 13293, \"anchored\": 436, \"elected\": 6239, \"bursa\": 80, \"actively\": 93, \"asleep\": 116, \"staunch\": 148, \"hypodermic\": 54, \"sport\": 298, \"reputed\": 47, \"concern\": 1914, \"tackling\": 59, \"lexical\": 298, \"glaze\": 93, \"justifies\": 47, \"colours\": 285, \"complexion\": 226, \"between\": 33922, \"it\": 159865, \"import\": 85, \"justified\": 342, \"urban\": 509, \"notice\": 2514, \"monarchy\": 1113, \"pluck\": 238, \"analyzed\": 270, \"article\": 1541, \"cleave\": 52, \"stages\": 215, \"installation\": 213, \"talented\": 100, \"resides\": 49, \"monk\": 1257, \"resided\": 343, \"mont\": 53, \"haunch\": 61, \"comet\": 192, \"wheels\": 1376, \"lateral\": 582, \"comes\": 2404, \"nearby\": 606, \"zeni\": 74, \"madness\": 116, \"characterization\": 180, \"overview\": 6620, \"stagery\": 68, \"jeans\": 122, \"juvenile\": 68, \"learning\": 1808, \"liberal\": 1326, \"actually\": 1202, \"charismatic\": 46, \"amino\": 198, \"lioness\": 51, \"cares\": 69, \"owen's\": 166, \"informed\": 574, \"territorial\": 122, \"cared\": 94, \"punished\": 73, \"dangers\": 57, \"technical\": 1279, \"linguistic\": 195, \"conceptualized\": 124, \"systems\": 956, \"patriarchal\": 100, \"wonderful\": 1640, \"pesticide\": 43, \"observers\": 55, \"constantinople\": 652, \"external\": 466, \"suspected\": 793, \"countless\": 89, \"coquetry\": 52, \"developing\": 1549, \"these\": 9053, \"windchimes\": 93, \"perfection\": 249, \"handicapped\": 617, \"editorial\": 809, \"joke\": 1396, \"person's\": 712, \"mining\": 189, \"forbear\": 167, \"topoisomerase\": 72, \"soil\": 713, \"metric\": 96, \"sectional\": 142, \"commander\": 200, \"anxieties\": 66, \"bias\": 141, \"embrace\": 44, \"boulders\": 57, \"kenya\": 54, \"utile\": 48, \"ship\": 2016, \"worry\": 41, \"sucking\": 47, \"widows\": 73, \"develop\": 5015, \"media\": 262, \"delusive\": 72, \"ceo\": 43, \"poetic\": 46, \"followers\": 140, \"shit\": 213, \"fatalism\": 200, \"highwaymen\": 90, \"investigated\": 283, \"thunderbolt\": 316, \"centuries\": 100, \"enjoyment\": 566, \"swan's\": 58, \"reigning\": 42, \"fruit\": 1073, \"despatched\": 57, \"passing\": 1649, \"purer\": 549, \"highland\": 61, \"theater\": 206, \"valued\": 588, \"constitutional\": 2013, \"verdant\": 62, \"severe\": 1850, \"breeze\": 262, \"coordinate\": 665, \"laboratories\": 49, \"charged\": 511, \"taxi\": 1120, \"transmitting\": 86, \"knowledgeable\": 54, \"armour\": 46, \"valuable\": 3034, \"accumulate\": 64, \"civilized\": 806, \"maternity\": 69, \"actor\": 65, \"correspondences\": 69, \"ounces\": 99, \"slanting\": 40, \"speed\": 1085, \"death\": 19838, \"staging\": 257, \"thinking\": 851, \"senseless\": 66, \"wet\": 355, \"improvement\": 414, \"lender\": 50, \"allude\": 146, \"verse\": 355, \"treatment\": 2431, \"role\": 9508, \"struck\": 1093, \"disproportionate\": 41, \"real\": 6119, \"ream\": 89, \"frown\": 105, \"spectacular\": 124, \"read\": 6118, \"offence\": 55, \"specimen\": 1644, \"digital\": 129, \"guilford\": 116, \"vasco\": 103, \"gonna\": 225, \"early\": 3931, \"earnest\": 140, \"listening\": 237, \"superlative\": 72, \"amp\": 225, \"execution\": 950, \"lady\": 3246, \"hovel\": 149, \"rear\": 4346, \"ruled\": 215, \"conversing\": 132, \"heightened\": 261, \"utterances\": 137, \"pounds\": 1356, \"postcard\": 261, \"superfluous\": 140, \"collective\": 733, \"velocities\": 51, \"greeting\": 85, \"miracle\": 482, \"annually\": 60, \"subtler\": 64, \"benefit\": 2539, \"maker\": 178, \"t\": 6281, \"occasions\": 81, \"output\": 240, \"downward\": 672, \"endorsed\": 159, \"ceremonial\": 98, \"twelve\": 1449, \"falsehood\": 56, \"laugh\": 3169, \"verbal\": 283, \"exposed\": 1422, \"cathode\": 144, \"chronology\": 58, \"romaine's\": 86, \"pursuance\": 89, \"duration\": 306, \"questionnaire\": 166, \"enacting\": 49, \"viral\": 135, \"salicylic\": 59, \"perverse\": 166, \"abetted\": 142, \"unlocked\": 52, \"recorded\": 632, \"conservative\": 966, \"deficit\": 252, \"recorder\": 189, \"propagating\": 93, \"masses\": 123, \"assembly\": 1058, \"business\": 7027, \"throb\": 64, \"sixth\": 1535, \"equivalent\": 597, \"strained\": 219, \"credits\": 43, \"uncivilized\": 47, \"hectic\": 172, \"inherent\": 85, \"sixty\": 245, \"motorable\": 60, \"francis\": 109, \"wheal\": 48, \"throw\": 1215, \"fondness\": 206, \"comparison\": 3681, \"rawdon\": 43, \"central\": 9633, \"enzymatic\": 41, \"insinuating\": 79, \"bushido\": 47, \"sri\": 279, \"hiatus\": 119, \"ideology\": 100, \"delimitation\": 55, \"journey\": 3416, \"supervised\": 46, \"greatly\": 550, \"testimony\": 528, \"invested\": 209, \"referred\": 2153, \"antibody\": 237, \"processor\": 449, \"barrels\": 129, \"disinfectant\": 47, \"inclusion\": 6037, \"chevrons\": 55, \"rat's\": 80, \"numerically\": 46, \"steadiness\": 41, \"variable\": 2784, \"commodious\": 169, \"defraying\": 71, \"heated\": 706, \"elementary\": 619, \"shrinking\": 71, \"your\": 5503, \"intervention\": 150, \"stare\": 49, \"log\": 913, \"prepare\": 1176, \"area\": 7324, \"assumed\": 984, \"stark\": 41, \"cato\": 97, \"los\": 161, \"cats\": 104, \"grated\": 41, \"lot\": 21172, \"attends\": 45, \"strict\": 1719, \"assumes\": 448, \"allergic\": 113, \"photostatic\": 45, \"groan\": 114, \"pitcher\": 204, \"delayed\": 162, \"philosophers\": 138, \"curiously\": 122, \"cottage\": 461, \"reorganization\": 263, \"pitched\": 336, \"trying\": 3068, \"proposal\": 1344, \"hire\": 76, \"fraud\": 635, \"circulation\": 303, \"default\": 66, \"recurring\": 75, \"receptive\": 604, \"bucket\": 511, \"trinity\": 167, \"tones\": 46, \"citadel\": 45, \"beliefs\": 262, \"expect\": 3242, \"juggler\": 44, \"arabs\": 185, \"describe\": 552, \"moved\": 1556, \"sales\": 268, \"trickles\": 83, \"cadastral\": 77, \"scratching\": 56, \"reliability\": 40, \"trace\": 1277, \"sheath\": 58, \"mover\": 50, \"moves\": 378, \"cestui\": 57, \"cemented\": 66, \"completeness\": 96, \"englishman\": 142, \"gorilla\": 65, \"credibility\": 96, \"storage\": 378, \"thither\": 222, \"trample\": 45, \"valid\": 2320, \"evenings\": 51, \"gambling\": 45, \"fools\": 61, \"forcing\": 337, \"gaining\": 1484, \"desolation\": 93, \"drift\": 440, \"carpenter\": 141, \"whistling\": 49, \"peal\": 75, \"shamefaced\": 62, \"flattened\": 57, \"massachusetts\": 227, \"coverage\": 45, \"laudatory\": 40, \"pool\": 887, \"building\": 4774, \"assert\": 188, \"condensation\": 217, \"studio\": 152, \"buchner\": 96, \"controlled\": 780, \"vines\": 310, \"moonlight\": 154, \"repay\": 193, \"requisition\": 110, \"profits\": 46, \"doubted\": 120, \"prerequisite\": 222, \"overseas\": 98, \"misnomer\": 58, \"strings\": 80, \"banishment\": 194, \"monte\": 65, \"surrounded\": 1171, \"semantic\": 209, \"skeleton\": 40, \"pointing\": 195, \"gown\": 379, \"angler\": 46, \"month\": 8482, \"ceased\": 90, \"thoughtful\": 72, \"viability\": 57, \"religious\": 3569, \"carpet\": 253, \"dreadful\": 545, \"corps\": 789, \"equivalence\": 54, \"trireme\": 41, \"foster\": 274, \"napoleon\": 123, \"dominated\": 283, \"nodes\": 193, \"cdna\": 478, \"vers\": 62, \"relieve\": 1359, \"confidential\": 53, \"homes\": 442, \"very\": 80216, \"apoptosis\": 180, \"horror\": 627, \"coloured\": 68, \"weighting\": 96, \"verb\": 164, \"balancing\": 120, \"minded\": 56, \"decide\": 2374, \"begot\": 52, \"heaven\": 958, \"deficient\": 175, \"heaved\": 230, \"bright's\": 100, \"mild\": 2987, \"random\": 978, \"wearer\": 85, \"study\": 18934, \"locomotive\": 169, \"fence\": 470, \"colossal\": 246, \"streets\": 441, \"value\": 8008, \"enjoin\": 130, \"exodus\": 47, \"hamper\": 65, \"chuckle\": 186, \"inert\": 70, \"conscience\": 1091, \"dissertation\": 83, \"darkness\": 152, \"consumers\": 44, \"ecclesiastical\": 45, \"investing\": 141, \"dribbling\": 51, \"bituminous\": 149, \"learner\": 62, \"thickness\": 1153, \"run\": 4946, \"fractional\": 57, \"learned\": 1820, \"repugnant\": 328, \"edited\": 169, \"ferocious\": 52, \"loose\": 395, \"answers\": 51, \"tracks\": 40, \"selective\": 260, \"excess\": 281, \"praises\": 99, \"strong\": 19511, \"handwriting\": 54, \"conflation\": 64, \"arena\": 74, \"interposed\": 140, \"creeps\": 48, \"colored\": 64, \"conviction\": 3301, \"outgrowth\": 2562, \"inspired\": 160, \"losses\": 66, \"creepy\": 55, \"drawers\": 186, \"amount\": 17896, \"holdover\": 69, \"inspires\": 132, \"uniquely\": 60, \"inherits\": 41, \"family\": 7960, \"mediator\": 900, \"marginal\": 128, \"impiety\": 46, \"courtier\": 173, \"fatuous\": 43, \"put\": 15077, \"muslim\": 1081, \"thatched\": 86, \"seventeenth\": 142, \"conventional\": 227, \"takes\": 3853, \"answered\": 2706, \"revelation\": 879, \"contains\": 2221, \"unpleasant\": 165, \"mysterious\": 413, \"injury\": 1085, \"linden\": 80, \"lowering\": 2777, \"tenon\": 45, \"conformational\": 239, \"quickening\": 45, \"site\": 2612, \"instrumental\": 50, \"excuse\": 458, \"commenced\": 149, \"broke\": 858, \"factories\": 43, \"pretense\": 167, \"sovereignty\": 59, \"respected\": 174, \"organization\": 2253, \"coalition\": 996, \"offended\": 44, \"nine\": 1695, \"sociocultural\": 78, \"perceptible\": 126, \"history\": 35481, \"templar\": 54, \"painefull\": 51, \"prose\": 209, \"phrase\": 2467, \"lacks\": 73, \"cornice\": 76, \"species\": 2346, \"cateran\": 53, \"technological\": 98, \"utilize\": 55, \"ratified\": 652, \"hampered\": 44, \"foresees\": 84, \"gash\": 47, \"ft\": 73, \"threat\": 5383, \"prognostic\": 180, \"tattoo\": 64, \"derived\": 1032, \"tries\": 129, \"terrorist\": 217, \"electromotive\": 98, \"gasp\": 293, \"horizontal\": 1236, \"derives\": 57, \"a\": 282138, \"contrived\": 277, \"undergo\": 454, \"morphine\": 75, \"deluge\": 61, \"enzymes\": 51, \"documentation\": 73, \"ego\": 49, \"dread\": 188, \"deterioration\": 185, \"comatose\": 208, \"banks\": 423, \"egg\": 355, \"thirsting\": 57, \"ligature\": 129, \"remnants\": 243, \"help\": 3976, \"reservoir\": 180, \"hierarchy\": 1261, \"restored\": 326, \"urine\": 391, \"chalked\": 57, \"held\": 7240, \"thermal\": 40, \"sham\": 42, \"committee\": 3354, \"committed\": 1669, \"smart\": 189, \"hell\": 12085, \"kinetic\": 663, \"skirmishing\": 71, \"probability\": 2739, \"taxpayer\": 52, \"brigands\": 617, \"solving\": 94, \"reluctance\": 734, \"teeming\": 46, \"fruitful\": 394, \"absence\": 4464, \"projection\": 150, \"relate\": 223, \"rabble\": 63, \"fool\": 1677, \"evening\": 2997, \"food\": 1624, \"musket\": 759, \"ye\": 131, \"awarding\": 208, \"resigned\": 457, \"foot\": 2516, \"towering\": 45, \"stopper\": 40, \"sundays\": 61, \"fully\": 690, \"decimal\": 343, \"intervene\": 131, \"sailor\": 158, \"twelfth\": 212, \"capability\": 98, \"tear\": 68, \"stopped\": 1135, \"fairy\": 383, \"predatory\": 70, \"heavy\": 5560, \"mythologist\": 140, \"restless\": 397, \"p\": 176, \"thirteenth\": 58, \"positioned\": 54, \"democrat\": 90, \"sketched\": 200, \"quantum\": 270, \"beyond\": 3170, \"heave\": 60, \"event\": 2824, \"travels\": 54, \"unsurpassed\": 50, \"praise\": 204, \"presumptuous\": 85, \"unnatural\": 45, \"robert\": 84, \"since\": 5672, \"meditating\": 107, \"publish\": 357, \"jolly\": 136, \"settle\": 505, \"fountain\": 79, \"brownish\": 47, \"issue\": 2820, \"gardener\": 130, \"appertaining\": 48, \"pun\": 61, \"bald\": 51, \"impertinence\": 50, \"protruding\": 43, \"dirt\": 77, \"favored\": 61, \"pug\": 48, \"enantiomers\": 244, \"pub\": 132, \"spenser\": 43, \"houses\": 301, \"reason\": 6056, \"base\": 2283, \"dire\": 48, \"ask\": 6275, \"regidor\": 74, \"heroic\": 138, \"temperature\": 6691, \"revolutionary\": 591, \"diffused\": 90, \"unbecoming\": 74, \"launch\": 493, \"just\": 11254, \"migrants\": 105, \"persuading\": 44, \"terrible\": 3438, \"cheering\": 42, \"american\": 2366, \"expecting\": 844, \"scheduled\": 482, \"blush\": 62, \"assign\": 875, \"merry\": 112, \"mr\": 525, \"buffaloes\": 50, \"encoding\": 226, \"quarell\": 69, \"reflected\": 688, \"unaccompanied\": 81, \"elder\": 186, \"shilling\": 282, \"mist\": 309, \"miss\": 198, \"occurrence\": 833, \"arbitration\": 107, \"horse\": 2661, \"perturbation\": 216, \"slavery\": 256, \"swarm\": 58, \"obedience\": 277, \"pinned\": 169, \"station\": 1600, \"identity\": 870, \"sigh\": 1358, \"nigeria\": 77, \"hundred\": 13700, \"banana\": 103, \"shifted\": 397, \"bowed\": 490, \"selling\": 664, \"storm\": 499, \"trapped\": 1267, \"basal\": 109, \"bower\": 63, \"blindly\": 53, \"taxable\": 421, \"inventing\": 91, \"consonant\": 102, \"financing\": 168, \"grew\": 716, \"tunic\": 43, \"kindly\": 147, \"morning's\": 43, \"miseries\": 66, \"anticipate\": 111, \"grey\": 252, \"finances\": 117, \"bride\": 238, \"store\": 1729, \"attorney\": 149, \"shotgun\": 44, \"kindle\": 427, \"disqualification\": 97, \"ousted\": 52, \"procedural\": 51, \"sentenced\": 296, \"charlotte\": 113, \"phobia\": 105, \"footnote\": 66, \"deflationary\": 46, \"affirmative\": 324, \"juice\": 212, \"substantial\": 4969, \"comrades\": 46, \"hallam\": 63, \"sentences\": 312, \"concentration\": 3214, \"null\": 1380, \"vulnerable\": 40, \"reverberatory\": 70, \"lid\": 179, \"lie\": 2731, \"trance\": 256, \"speculative\": 145, \"empowered\": 66, \"scotland\": 383, \"officers\": 1342, \"lit\": 730, \"relieved\": 408, \"labour\": 272, \"lip\": 213, \"useless\": 74, \"clambering\": 94, \"rhodes\": 148, \"caliber\": 46, \"threatening\": 51, \"quote\": 664, \"eater\": 46, \"worker's\": 167, \"plunder\": 85, \"vindication\": 45, \"hired\": 144, \"experiences\": 192, \"eaten\": 52, \"ravine\": 229, \"diametrically\": 72, \"barbarism\": 57, \"approved\": 198, \"mach\": 61, \"salary\": 1468, \"creeke\": 41, \"chronicle\": 46, \"sturdy\": 113, \"mobile\": 397, \"clear\": 22935, \"popularity\": 306, \"electrons\": 142, \"clean\": 1558, \"lordship\": 51, \"velocity\": 322, \"blend\": 224, \"tuber\": 71, \"phenomenon\": 1748, \"hovered\": 80, \"authors\": 128, \"registers\": 62, \"crayon\": 53, \"pocketed\": 50, \"brahman\": 97, \"heavens\": 179, \"translation\": 1217, \"completion\": 599, \"copyright\": 541, \"duncan\": 59, \"justice\": 731, \"inaugurated\": 1085, \"less\": 17085, \"assertion\": 453, \"darted\": 48, \"pretty\": 1953, \"hardened\": 106, \"circle\": 2767, \"dominant\": 294, \"king\": 4970, \"imparted\": 148, \"speckled\": 127, \"famous\": 1085, \"feels\": 572, \"pretending\": 105, \"international\": 4234, \"boils\": 72, \"during\": 7304, \"molten\": 256, \"catches\": 105, \"tossing\": 261, \"evince\": 150, \"sacrifices\": 75, \"stored\": 909, \"gloves\": 856, \"attained\": 521, \"x\": 580, \"doctrinaire\": 47, \"voltage\": 4224, \"seventeen\": 249, \"patriotism\": 103, \"throwing\": 103, \"undergoes\": 189, \"ship's\": 87, \"plausible\": 70, \"culture\": 4189, \"schizophrenia\": 112, \"millstone\": 310, \"dispensed\": 83, \"close\": 6059, \"despatch\": 156, \"constellation\": 151, \"paul\": 118, \"probable\": 55, \"echeloot\": 49, \"aqueduct\": 48, \"pictures\": 164, \"woo\": 67, \"thongs\": 62, \"honour\": 1463, \"woe\": 120, \"architect\": 74, \"broomstick\": 66, \"conditions\": 2408, \"pictured\": 163, \"stagnation\": 65, \"abishag\": 76, \"statistically\": 143, \"unconscious\": 77, \"missing\": 161, \"poorer\": 92, \"spray\": 347, \"monied\": 82, \"distinguish\": 512, \"dally\": 44, \"abruptly\": 181, \"both\": 6849, \"garrison\": 189, \"sputum\": 44, \"characterised\": 850, \"vaster\": 89, \"forgotten\": 272, \"tangent\": 227, \"protector\": 86, \"experimental\": 616, \"tongues\": 44, \"liked\": 364, \"deciding\": 458, \"battery\": 1865, \"format\": 267, \"kilometers\": 188, \"manners\": 294, \"proton\": 136, \"header\": 112, \"likes\": 211, \"vessel\": 3469, \"turbulent\": 162, \"complied\": 56, \"described\": 7807, \"universality\": 49, \"stamp\": 77, \"damp\": 180, \"describes\": 42, \"damn\": 127, \"viaje\": 112, \"maintenance\": 470, \"collected\": 7066, \"preventable\": 100, \"territory\": 884, \"instructing\": 98, \"empty\": 193, \"dame\": 122, \"generating\": 108, \"lived\": 7933, \"partly\": 490, \"crack\": 689, \"else\": 933, \"determination\": 2770, \"liver\": 62, \"bidding\": 90, \"stupified\": 44, \"furrow\": 40, \"gentleman's\": 135, \"soiled\": 77, \"look\": 26363, \"socialist\": 605, \"governor\": 1468, \"rope\": 682, \"pace\": 388, \"bikini\": 196, \"socialism\": 271, \"match\": 809, \"shift\": 2506, \"fleet\": 961, \"guide\": 3163, \"loop\": 1512, \"pack\": 1334, \"vectors\": 1815, \"costly\": 44, \"voters\": 539, \"overlooked\": 170, \"hoax\": 55, \"reads\": 203, \"ready\": 1775, \"legitimizing\": 74, \"fairer\": 61, \"protestantism\": 56, \"vibratory\": 76, \"communal\": 41, \"grant\": 1778, \"belong\": 11491, \"grand\": 2013, \"modification\": 1204, \"composition\": 4600, \"conflict\": 2173, \"clearness\": 309, \"hallway\": 123, \"used\": 64297, \"lawyers\": 278, \"dime\": 41, \"bonus\": 95, \"fulfilment\": 267, \"transitory\": 210, \"censure\": 47, \"arbitrators\": 62, \"overstep\": 72, \"uses\": 637, \"user\": 729, \"defarge's\": 67, \"crucible\": 44, \"indefinable\": 75, \"gsr\": 136, \"database\": 335, \"poland\": 256, \"increases\": 97, \"grind\": 54, \"accrediting\": 111, \"auditor\": 106, \"consistency\": 295, \"clears\": 271, \"cedar\": 105, \"appalled\": 268, \"coup\": 45, \"cave\": 1414, \"bearer\": 107, \"judgments\": 87, \"blockhouse\": 43, \"morsel\": 44, \"quarters\": 506, \"winced\": 178, \"roasted\": 61, \"reviewer\": 79, \"dissimulation\": 126, \"pictorial\": 130, \"questioner\": 71, \"informal\": 1503, \"recurs\": 180, \"universitats\": 64, \"guaranteed\": 112, \"exercising\": 351, \"shortcut\": 82, \"questioned\": 143, \"machado\": 71, \"remaining\": 68, \"fabulously\": 42, \"lacking\": 245, \"evaluate\": 60, \"capacities\": 160, \"subdivision\": 65, \"undersigned\": 77, \"game\": 2342, \"culturally\": 185, \"appendices\": 80, \"populous\": 195, \"damage\": 303, \"wings\": 171, \"preparatory\": 44, \"success\": 6004, \"submission\": 185, \"envisioned\": 62, \"pillar\": 427, \"multicultural\": 429, \"manifest\": 348, \"suborder\": 114, \"popular\": 2244, \"eec\": 62, \"mathematical\": 656, \"sketch\": 6672, \"parade\": 75, \"fathers\": 152, \"creation\": 2111, \"some\": 12969, \"metres\": 138, \"separated\": 760, \"lips\": 268, \"economic\": 1299, \"delivered\": 790, \"therapeutic\": 436, \"describing\": 489, \"dilapidated\": 67, \"gratuity\": 106, \"exceeding\": 449, \"conditionally\": 48, \"civilization\": 337, \"defectives\": 54, \"simmer\": 85, \"user's\": 97, \"retrogression\": 112, \"minimal\": 331, \"clownish\": 75, \"measures\": 418, \"eating\": 41, \"rum\": 78, \"fresco\": 299, \"benefactor\": 131, \"undergone\": 3226, \"rue\": 82, \"step\": 6394, \"stew\": 145, \"lasts\": 154, \"ache\": 42, \"taboo\": 60, \"smothered\": 205, \"abroad\": 219, \"elderly\": 98, \"wealth\": 9606, \"shine\": 410, \"faith\": 3035, \"simulation\": 412, \"hinge\": 74, \"turret\": 41, \"shins\": 46, \"congressman\": 170, \"kaleidoscope\": 47, \"shiny\": 102, \"block\": 1393, \"disclosure\": 62, \"bucklaw\": 78, \"within\": 19377, \"nonsense\": 63, \"dissatisfaction\": 187, \"conscientious\": 170, \"presupposes\": 42, \"wicket\": 44, \"convulsion\": 40, \"rolls\": 45, \"behaving\": 216, \"vineyard\": 137, \"statistics\": 229, \"innate\": 73, \"renewal\": 346, \"monumental\": 68, \"consultation\": 378, \"heritage\": 159, \"calumny\": 44, \"manufacture\": 54, \"withholding\": 65, \"himself\": 8847, \"registered\": 77, \"frost\": 58, \"teratogen\": 108, \"inclose\": 109, \"properly\": 581, \"reed\": 246, \"authority\": 6022, \"fishy\": 42, \"shouldered\": 44, \"russian\": 2812, \"tryptophan\": 75, \"injection\": 2144, \"warlike\": 61, \"dull\": 441, \"ceremonies\": 215, \"quorum\": 577, \"ideals\": 815, \"persisting\": 44, \"prolongation\": 324, \"hybridized\": 44, \"circuits\": 90, \"stumbling\": 126, \"sunderland\": 69, \"politic\": 92, \"accustomed\": 433, \"stragglers\": 187, \"wicked\": 43, \"similar\": 16322, \"tricyclic\": 49, \"ordered\": 231, \"estrogen\": 44, \"corrective\": 219, \"doesn\": 42, \"precept\": 344, \"sharing\": 58, \"tragedian\": 44, \"kidney\": 210, \"cotton\": 2062, \"amounts\": 456, \"dashed\": 208, \"fears\": 95, \"dissolved\": 656, \"application\": 4585, \"nap\": 166, \"contenting\": 40, \"casteless\": 62, \"genome\": 103, \"theology\": 172, \"department\": 2237, \"arithmetic\": 79, \"responded\": 146, \"smiles\": 139, \"draw\": 3450, \"venerable\": 65, \"calculating\": 42, \"kansas\": 128, \"miscellaneous\": 226, \"pretended\": 103, \"averting\": 128, \"drag\": 148, \"rested\": 848, \"reservation\": 206, \"swede\": 50, \"heroine\": 491, \"structure\": 2881, \"urged\": 96, \"notch\": 152, \"e\": 66, \"practically\": 256, \"complicating\": 81, \"physics\": 408, \"required\": 5411, \"orbit\": 451, \"pamphlets\": 166, \"depth\": 2163, \"bribe\": 242, \"ignorant\": 42, \"requires\": 2480, \"collodion\": 45, \"pinion\": 40, \"hyaline\": 135, \"series\": 36253, \"denman\": 44, \"cheerful\": 328, \"proposition\": 1509, \"sixpence\": 130, \"go\": 10051, \"ammonia\": 125, \"compact\": 555, \"baron\": 73, \"wizard\": 42, \"arid\": 86, \"nose\": 283, \"attired\": 189, \"shack\": 54, \"topic\": 1506, \"excluded\": 49, \"suite\": 163, \"friendly\": 783, \"schooner\": 41, \"virtuous\": 130, \"memorandum\": 7001, \"infinite\": 49, \"murderous\": 103, \"prudence\": 40, \"miners\": 62, \"wave\": 2892, \"felicity\": 167, \"trough\": 79, \"cellular\": 328, \"rattling\": 64, \"telling\": 373, \"yourselves\": 83, \"nausea\": 79, \"stiff\": 561, \"meant\": 1847, \"gender\": 232, \"button\": 101, \"compassionate\": 49, \"tubes\": 178, \"queen\": 1021, \"verdict\": 2532, \"realization\": 163, \"betwixt\": 69, \"inspection\": 161, \"configurations\": 79, \"dilute\": 110, \"oscillator\": 53, \"encroachment\": 322, \"pacified\": 48, \"thinly\": 107, \"boots\": 123, \"decreed\": 63, \"jump\": 99, \"noise\": 1556, \"booth\": 241, \"picked\": 289, \"download\": 247, \"languor\": 56, \"deputation\": 84, \"recur\": 54, \"plays\": 1295, \"bhagavad\": 210, \"colonel\": 296, \"ribald\": 119, \"edifice\": 138, \"cell\": 2615, \"rotten\": 119, \"experiment\": 773, \"poles\": 90, \"adjecto\": 149, \"infuse\": 49, \"nicholas\": 65, \"distressing\": 43, \"melancholy\": 1753, \"accomplices\": 54, \"stance\": 397, \"stanch\": 91, \"commercial\": 643, \"following\": 4637, \"scythe\": 122, \"villa\": 71, \"focused\": 244, \"engraving\": 48, \"convert\": 991, \"likened\": 49, \"chant\": 50, \"twofold\": 41, \"ventured\": 71, \"whisking\": 42, \"benevolence\": 527, \"noways\": 51, \"products\": 2008, \"antecedents\": 115, \"gene\": 572, \"salvation\": 89, \"examining\": 78, \"stabilization\": 129, \"addresses\": 114, \"danger\": 3130, \"clare\": 112, \"win\": 1440, \"manage\": 316, \"crazy\": 49, \"austria\": 295, \"wit\": 98, \"ligament\": 47, \"singing\": 350, \"marketable\": 99, \"cloud\": 3045, \"tubular\": 73, \"crap\": 140, \"remains\": 1403, \"moorish\": 61, \"pious\": 151, \"adequacy\": 170, \"crag\": 63, \"contentment\": 42, \"vehicle\": 1840, \"cram\": 44, \"panel\": 175, \"historically\": 132, \"cheeks\": 246, \"bureaucracy\": 96, \"formally\": 62, \"biblical\": 368, \"started\": 2643, \"becomes\": 2705, \"benchmark\": 45, \"visibility\": 48, \"charming\": 291, \"fuch\": 89, \"appointed\": 756, \"whisky\": 384, \"crosses\": 133, \"arched\": 188, \"announcing\": 366, \"sanctions\": 46, \"lapse\": 107, \"recession\": 67, \"arches\": 743, \"archer\": 58, \"crossed\": 283, \"vexatious\": 74, \"meet\": 5742, \"drops\": 68, \"conformity\": 286, \"withdrew\": 553, \"control\": 2474, \"links\": 428, \"shepherd\": 748, \"allowed\": 2645, \"escaped\": 92, \"sought\": 195, \"hit\": 1054, \"shrift\": 88, \"voice\": 7144, \"skirt\": 43, \"embodiment\": 58, \"boasting\": 67, \"defective\": 71, \"picturesque\": 41, \"poetry\": 588, \"arrangement\": 463, \"enactments\": 55, \"located\": 820, \"sentiments\": 118, \"elliptical\": 270, \"immoral\": 43, \"filament\": 93, \"circular\": 1420, \"farm\": 2644, \"paffage\": 49, \"thunderstorm\": 175, \"chiefs\": 82, \"fatigue\": 106, \"trees\": 2482, \"consecrated\": 91, \"computations\": 45, \"adjectival\": 68, \"advocates\": 67, \"encyclopedia\": 42, \"alienation\": 126, \"craggy\": 67, \"software\": 394, \"least\": 9033, \"strum\": 71, \"sperm\": 155, \"enclose\": 41, \"costume\": 81, \"instinctive\": 40, \"mentioned\": 701, \"converting\": 82, \"integument\": 80, \"brittle\": 55, \"subversive\": 134, \"thumbing\": 57, \"brood\": 186, \"outer\": 72, \"ruder\": 41, \"guerrilla\": 52, \"notebooks\": 55, \"brook\": 78, \"housewife\": 166, \"him\": 54809, \"sinecure\": 42, \"recognisance\": 116, \"shewes\": 261, \"poetaster\": 41, \"sword\": 708, \"functional\": 315, \"placid\": 806, \"stout\": 112, \"hands\": 2919, \"front\": 3564, \"documented\": 547, \"handy\": 40, \"screamed\": 44, \"masters\": 44, \"entitling\": 44, \"mastery\": 107, \"university\": 4020, \"slide\": 112, \"magnitude\": 122, \"perfectionist\": 106, \"mode\": 5603, \"crossing\": 100, \"shaking\": 274, \"upward\": 433, \"commonwealth\": 239, \"conceiving\": 175, \"illuminate\": 142, \"map\": 5716, \"chunk\": 91, \"alteration\": 106, \"aggravated\": 138, \"mar\": 123, \"measure\": 12390, \"separating\": 189, \"margins\": 42, \"transitions\": 76, \"sandy\": 357, \"gallant\": 64, \"secretly\": 142, \"entertainment\": 84, \"armor\": 709, \"confess\": 272, \"unlawful\": 46, \"fathom\": 316, \"unitarian\": 61, \"may\": 37282, \"activist\": 332, \"playground\": 82, \"thriving\": 108, \"wick\": 112, \"cause\": 8072, \"one's\": 813, \"reacts\": 50, \"discontinuity\": 55, \"diagonal\": 210, \"undo\": 104, \"darkly\": 45, \"attending\": 643, \"completely\": 1014, \"ancestry\": 52, \"folemn\": 53, \"princess\": 291, \"resumed\": 133, \"poisoned\": 42, \"hostile\": 743, \"penknife\": 102, \"determining\": 4265, \"route\": 513, \"galling\": 61, \"florida\": 134, \"keep\": 5384, \"keen\": 1052, \"shred\": 41, \"wrote\": 5644, \"austin\": 527, \"lancet\": 48, \"mad\": 340, \"glories\": 207, \"prospective\": 299, \"bijection\": 324, \"possessing\": 42, \"powerful\": 3711, \"suckling\": 57, \"date\": 3043, \"stultifying\": 114, \"bitch\": 185, \"drinker\": 94, \"mumbled\": 174, \"precisely\": 333, \"quality\": 1813, \"horseman\": 100, \"long\": 50801, \"bears\": 162, \"data\": 2213, \"durable\": 45, \"pharisees\": 78, \"adopted\": 1442, \"forgery\": 235, \"attack\": 3450, \"ankle\": 66, \"vile\": 41, \"perfectly\": 1304, \"final\": 2889, \"beard\": 61, \"temperate\": 47, \"terminates\": 45, \"polyatomic\": 56, \"wavelength\": 746, \"punish\": 232, \"exactly\": 385, \"manifestation\": 1161, \"fuzzy\": 259, \"overwhelming\": 113, \"herself\": 1266, \"omen\": 127, \"schizophrenic\": 168, \"photograph\": 2200, \"girdle\": 239, \"aspiration\": 94, \"thrashing\": 45, \"beg\": 924, \"bed\": 2103, \"bee\": 71, \"succinctly\": 58, \"defense\": 844, \"dumb\": 85, \"providing\": 1838, \"insignificance\": 100, \"distinguished\": 1771, \"bet\": 275, \"are\": 77134, \"exhibit\": 319, \"enforced\": 232, \"villains\": 44, \"lightly\": 146, \"unchanged\": 73, \"horrors\": 120, \"sardonic\": 66, \"thereto\": 49, \"portrait\": 993, \"need\": 20506, \"rican\": 45, \"saintly\": 61, \"bastard\": 146, \"heaped\": 168, \"pursued\": 148, \"storehouse\": 202, \"ephemeral\": 192, \"purchasing\": 43, \"telescope\": 93, \"instance\": 1106, \"relatives\": 47, \"issuing\": 40, \"pivotal\": 79, \"grounding\": 203, \"sufficiency\": 76, \"truck\": 311, \"pursues\": 239, \"blades\": 271, \"goddamned\": 42, \"lectures\": 353, \"bachelor's\": 366, \"sewing\": 72, \"bronislaw\": 74, \"intentions\": 48, \"moths\": 155, \"vengeance\": 159, \"connected\": 2445, \"preparations\": 317, \"counterbalance\": 67, \"tall\": 2140, \"nuisance\": 689, \"gallery\": 454, \"consequences\": 856, \"spleen\": 247, \"url\": 50, \"urn\": 65, \"upset\": 228, \"astonishing\": 45, \"proceedings\": 61, \"lowered\": 41, \"snapshot\": 286, \"talk\": 1890, \"distinctive\": 556, \"grovelling\": 122, \"emerging\": 738, \"wilful\": 62, \"violation\": 4220, \"sent\": 8999, \"halting\": 99, \"likens\": 50, \"soldiers\": 783, \"partners\": 42, \"based\": 10473, \"unfinished\": 92, \"earned\": 549, \"winner\": 136, \"credited\": 131, \"rash\": 206, \"gelatinous\": 67, \"brighter\": 44, \"bases\": 82, \"inherited\": 518, \"employee\": 252, \"employed\": 1508, \"partially\": 43, \"achieve\": 4135, \"doubting\": 69, \"shaky\": 82, \"commendation\": 50, \"wishing\": 229, \"michigan\": 62, \"leased\": 237, \"baptist\": 199, \"vehicles\": 214, \"joint\": 10366, \"legitimate\": 1834, \"magistrate\": 1091, \"buyer\": 41, \"tossed\": 59, \"quantifier\": 1315, \"leases\": 135, \"procedures\": 326, \"endless\": 221, \"gray\": 439, \"evolution\": 238, \"philosopher's\": 43, \"tobacco\": 272, \"shopping\": 49, \"shy\": 356, \"transposition\": 95, \"instantiate\": 55, \"expansions\": 113, \"watershed\": 109, \"tuned\": 86, \"reprimand\": 80, \"gram\": 271, \"contain\": 3909, \"lyric\": 124, \"unfrequently\": 79, \"preach\": 409, \"multiplying\": 176, \"computed\": 189, \"transcendent\": 142, \"pitch\": 185, \"capitalists\": 1020, \"canine\": 50, \"freeze\": 110, \"differs\": 40, \"reinforce\": 221, \"computer\": 5467, \"driveway\": 49, \"desperate\": 1011, \"marchioness\": 56, \"recently\": 1776, \"humane\": 143, \"conductivity\": 57, \"whinnying\": 42, \"placed\": 4632, \"sawdusty\": 46, \"nightmare\": 44, \"marshy\": 59, \"thumb\": 105, \"tend\": 486, \"migrant\": 110, \"arraigned\": 65, \"supernatural\": 1125, \"correctly\": 324, \"allotted\": 59, \"antler\": 52, \"tent\": 248, \"nutritious\": 48, \"comparable\": 130, \"neither\": 1214, \"sorely\": 40, \"jig\": 51, \"importance\": 1864, \"interfere\": 79, \"kicking\": 41, \"key\": 4077, \"approval\": 2291, \"precious\": 323, \"problem\": 13588, \"haughty\": 119, \"interpretations\": 380, \"sediments\": 74, \"limits\": 473, \"career\": 3808, \"minds\": 516, \"admit\": 782, \"manifestations\": 51, \"dagger\": 237, \"urchins\": 79, \"klopstock\": 48, \"gita\": 210, \"cordial\": 336, \"harmonic\": 214, \"quadrilateral\": 125, \"competent\": 393, \"councillor\": 60, \"kings\": 236, \"poem\": 2345, \"tread\": 85, \"tort\": 70, \"addition\": 2274, \"discrimination\": 134, \"riband\": 96, \"cent\": 1002, \"relying\": 79, \"immense\": 145, \"slowly\": 167, \"treat\": 1170, \"poet\": 3176, \"isolating\": 129, \"battlements\": 76, \"diversity\": 317, \"retrospective\": 148, \"league\": 552, \"thump\": 62, \"kiowas\": 47, \"controller\": 249, \"expenditure\": 54, \"abortions\": 108, \"ours\": 250, \"prescription\": 122, \"digger\": 105, \"shameless\": 73, \"quotation\": 203, \"debtor\": 356, \"main\": 1937, \"glossary\": 80, \"bahama\": 44, \"harder\": 325, \"judicature\": 51, \"homolateral\": 70, \"chalk\": 44, \"texas\": 125, \"encircled\": 49, \"owns\": 63, \"instantly\": 140, \"examiner\": 145, \"conveying\": 387, \"resident\": 1762, \"coating\": 865, \"simony\": 138, \"surface\": 5420, \"examined\": 456, \"swinging\": 103, \"bucks\": 155, \"lambs\": 80, \"finance\": 325, \"capture\": 59, \"thereby\": 634, \"sensitive\": 612, \"generic\": 299, \"balloon\": 98, \"antiviral\": 63, \"became\": 10616, \"fido\": 72, \"incumbent\": 136, \"party\": 9202, \"newton's\": 153, \"fide\": 104, \"practitioner\": 331, \"fraternity\": 43, \"absorb\": 253, \"appearances\": 130, \"effect\": 7639, \"colouring\": 44, \"discouraged\": 55, \"fierce\": 398, \"frequently\": 718, \"nation\": 7702, \"single\": 33280, \"destruction\": 3168, \"poultry\": 66, \"compendium\": 132, \"scarcely\": 784, \"plural\": 132, \"weld\": 76, \"reflection\": 3901, \"lunch\": 52, \"i\": 74085, \"modeled\": 117, \"well\": 12756, \"corporation\": 3461, \"corroded\": 93, \"spherical\": 1273, \"restore\": 439, \"uk\": 329, \"increasingly\": 191, \"accurate\": 1054, \"click\": 142, \"mistaken\": 280, \"dose\": 4136, \"sources\": 137, \"mistakes\": 118, \"distant\": 6979, \"disputation\": 65, \"purified\": 1171, \"coordination\": 180, \"atoll\": 65, \"ushered\": 94, \"ovum\": 170, \"density\": 757, \"headed\": 771, \"extends\": 98, \"subordinated\": 60, \"stratum\": 108, \"billionths\": 70, \"morgue\": 501, \"ought\": 1715, \"warrant\": 1143, \"kick\": 73, \"kinswoman\": 45, \"precedents\": 104, \"pact\": 734, \"definitive\": 371, \"fate\": 665, \"disappearance\": 110, \"devised\": 253, \"crushed\": 42, \"solvency\": 75, \"historic\": 69, \"whatever\": 185, \"burden\": 1858, \"immediately\": 1911, \"prominent\": 1994, \"loss\": 6771, \"necessary\": 9780, \"lost\": 3209, \"exploiting\": 1720, \"ring\": 2086, \"aptest\": 41, \"candy\": 53, \"payments\": 253, \"lose\": 1792, \"page\": 1354, \"stranger's\": 132, \"lends\": 51, \"shed\": 511, \"glare\": 54, \"convicts\": 77, \"eurobond\": 59, \"sleight\": 44, \"belonged\": 359, \"village\": 4534, \"phenomena\": 111, \"library\": 2095, \"artificial\": 95, \"motive\": 385, \"shew\": 128, \"repeat\": 302, \"warmer\": 130, \"home\": 9877, \"liking\": 129, \"peter\": 105, \"heaven's\": 43, \"competitor\": 65, \"demonstrates\": 82, \"delaware\": 47, \"rewarding\": 463, \"cradle\": 86, \"inflammation\": 46, \"wasted\": 87, \"demonstrated\": 272, \"hinder\": 63, \"medieval\": 43, \"reaching\": 471, \"witch's\": 60, \"journal\": 1515, \"expansion\": 534, \"prohibited\": 44, \"variation\": 1541, \"instinct\": 861, \"choked\": 45, \"refuge\": 771, \"individualism\": 81, \"quarter\": 9474, \"twirl\": 55, \"staked\": 69, \"freedom\": 1375, \"moft\": 53, \"sinister\": 123, \"recognized\": 3252, \"madame\": 67, \"compatible\": 42, \"dominion\": 217, \"tongue\": 857, \"removable\": 79, \"persuaded\": 185, \"pastries\": 84, \"equally\": 593, \"enacts\": 211, \"previously\": 542, \"townships\": 179, \"attains\": 53, \"articulate\": 47, \"due\": 2642, \"receptor\": 537, \"artists\": 79, \"managing\": 62, \"bombay\": 65, \"utility\": 406, \"doubtless\": 250, \"mississippi\": 192, \"astronomy\": 57, \"additional\": 131, \"whom\": 8062, \"museum\": 410, \"canting\": 64, \"imperial\": 167, \"inner\": 58, \"inspiration\": 3900, \"hoofs\": 591, \"cricket\": 75, \"prophetic\": 70, \"north\": 936, \"mutiny\": 67, \"hazardous\": 42, \"stirred\": 179, \"weight\": 3572, \"gait\": 40, \"administrators\": 339, \"neutral\": 745, \"hierarchical\": 86, \"goals\": 1182, \"courts\": 782, \"sprinkling\": 48, \"ear\": 468, \"eat\": 2605, \"he\": 124379, \"tracheotomy\": 40, \"denominate\": 92, \"oligarchy\": 99, \"cells\": 1819, \"signed\": 1857, \"sufferer\": 79, \"portraitures\": 58, \"carriage\": 1217, \"exerts\": 620, \"datos\": 104, \"shewn\": 156, \"piece\": 11575, \"leathery\": 50, \"display\": 1051, \"urging\": 72, \"marketplace\": 161, \"preaching\": 88, \"devise\": 1539, \"temporal\": 43, \"universal\": 1553, \"penny\": 760, \"dialogue\": 1098, \"twist\": 294, \"beats\": 62, \"penne\": 48, \"pastiche\": 50, \"erie\": 116, \"chromosome\": 177, \"balcony\": 56, \"diego\": 84, \"functions\": 1222, \"contest\": 2081, \"westminster\": 86, \"gardener's\": 45, \"envisages\": 86, \"chemist\": 127, \"disposing\": 2166, \"motivator\": 63, \"star\": 844, \"dilution\": 52, \"living\": 8799, \"stay\": 1538, \"methinks\": 62, \"foil\": 50, \"peasant\": 348, \"stab\": 61, \"friends\": 1462, \"calamitous\": 40, \"appoint\": 1130, \"pestilence\": 120, \"shunt\": 47, \"apothecary's\": 58, \"bcd\": 200, \"atheist\": 149, \"persistent\": 134, \"portion\": 10638, \"diagnosis\": 1113, \"lives\": 599, \"commencement\": 62, \"magnetizing\": 52, \"aided\": 142, \"pardon\": 182, \"pasteboard\": 70, \"dissolution\": 713, \"dynamic\": 729, \"obstruction\": 115, \"protest\": 568, \"tensile\": 168, \"asian\": 88, \"consists\": 3298, \"captain\": 771, \"whose\": 4446, \"calculate\": 170, \"swab\": 59, \"segments\": 72, \"swan\": 269, \"disability\": 308, \"boundless\": 64, \"blacking\": 98, \"presents\": 1100, \"swap\": 49, \"offending\": 143, \"teaching\": 547, \"sorry\": 187, \"editorship\": 106, \"sway\": 149, \"summarized\": 115, \"numinosum\": 58, \"collaborate\": 108, \"downstream\": 54, \"destitution\": 53, \"activation\": 72, \"railways\": 42, \"misunderstanding\": 319, \"vase\": 42, \"smack\": 121, \"stolen\": 54, \"nourished\": 244, \"confederate\": 90, \"affect\": 541, \"vast\": 6077, \"philosopher\": 852, \"squares\": 124, \"baking\": 134, \"retinoic\": 62, \"holiness\": 149, \"clothed\": 446, \"tumour\": 119, \"companies\": 305, \"commons\": 1935, \"convenience\": 97, \"unrelated\": 50, \"cholesterol\": 142, \"enhance\": 198, \"deplorable\": 93, \"graces\": 80, \"clothes\": 371, \"favoured\": 370, \"force\": 7245, \"tenuous\": 59, \"concise\": 251, \"till\": 784, \"lustre\": 44, \"japanese\": 284, \"likely\": 2131, \"subordinate\": 636, \"hundredfold\": 42, \"implemented\": 153, \"even\": 16892, \"wreck\": 60, \"desirous\": 117, \"saved\": 555, \"panama\": 339, \"orchestra\": 191, \"while\": 12160, \"asia\": 62, \"spokesman\": 199, \"lights\": 55, \"haze\": 148, \"fetish\": 96, \"net\": 1113, \"ever\": 2487, \"reviving\": 52, \"coefficient\": 49, \"deemed\": 833, \"barometer\": 81, \"repugnance\": 45, \"seventh\": 42, \"men\": 11795, \"drew\": 1142, \"cadres\": 57, \"met\": 5787, \"deposition\": 96, \"possibility\": 9343, \"active\": 923, \"cardboard\": 109, \"interpret\": 177, \"contraction\": 2728, \"dry\": 2334, \"taper\": 196, \"rests\": 547, \"economics\": 831, \"piercing\": 185, \"credit\": 1754, \"permit\": 1102, \"lucrative\": 184, \"adopting\": 311, \"suitable\": 1885, \"eyebrows\": 50, \"reckoned\": 518, \"fantastic\": 109, \"hunch\": 71, \"campaign\": 713, \"elaborated\": 48, \"bayonet\": 147, \"reagan\": 82, \"schooling\": 45, \"county\": 459, \"niece's\": 59, \"suffered\": 1558, \"moral\": 4247, \"guests\": 174, \"drowned\": 217, \"hardwicke\": 69, \"rokeby\": 45, \"counts\": 182, \"landscape\": 378, \"ore\": 64, \"army\": 2358, \"watering\": 58, \"arms\": 1793, \"seventy\": 863, \"call\": 8265, \"calm\": 694, \"recommend\": 579, \"survive\": 1078, \"leaky\": 47, \"type\": 14116, \"tell\": 4399, \"calf\": 167, \"voted\": 110, \"posting\": 43, \"lungs\": 79, \"composite\": 321, \"expose\": 94, \"under\": 23331, \"disruption\": 45, \"warm\": 3732, \"frenzy\": 188, \"adult\": 251, \"ward\": 125, \"aligned\": 60, \"honorary\": 54, \"nobilitie\": 59, \"pride\": 920, \"room\": 10647, \"rights\": 1481, \"roof\": 2496, \"waiter\": 159, \"suggestive\": 58, \"obstacle\": 111, \"guise\": 113, \"akin\": 46, \"root\": 388, \"newfoundland\": 152, \"buffoonery\": 96, \"give\": 29826, \"programming\": 40, \"climax\": 99, \"laughs\": 117, \"lure\": 47, \"involve\": 577, \"surveyor\": 202, \"willard\": 41, \"degenerate\": 108, \"cursory\": 164, \"advancing\": 942, \"masterly\": 652, \"autonomy\": 62, \"stupidity\": 43, \"sate\": 52, \"answer\": 4175, \"massive\": 1010, \"oscillatory\": 48, \"commencing\": 64, \"rise\": 6804, \"briefcase\": 73, \"undergoing\": 607, \"believers\": 98, \"reconciled\": 70, \"abdomen\": 267, \"triaxial\": 58, \"curiosity\": 43, \"president\": 2041, \"shirt\": 598, \"purchase\": 1070, \"attempt\": 4908, \"overtaken\": 448, \"replication\": 138, \"provinces\": 149, \"capitalism\": 137, \"fictitious\": 100, \"preacher's\": 48, \"waited\": 207, \"operate\": 862, \"scintillation\": 178, \"apse\": 52, \"operations\": 475, \"determinate\": 154, \"fetus\": 79, \"deck\": 346, \"ensnare\": 41, \"hare's\": 53, \"ghastly\": 147, \"before\": 14039, \"scoring\": 131, \"personal\": 3694, \"stopover\": 112, \"crew\": 621, \"better\": 17821, \"damascus\": 83, \"differently\": 281, \"persist\": 149, \"carve\": 744, \"stalemate\": 94, \"weeks\": 3872, \"overcome\": 335, \"widely\": 835, \"combination\": 5653, \"unanimous\": 1322, \"weakness\": 1361, \"rift\": 111, \"therapy\": 293, \"rhymes\": 90, \"indulge\": 335, \"submerged\": 213, \"bony\": 51, \"grammar\": 241, \"meat\": 58, \"recovery\": 512, \"sleepless\": 133, \"arrested\": 350, \"lucy\": 146, \"droll\": 42, \"faraway\": 72, \"leaned\": 66, \"doctor's\": 207, \"bona\": 104, \"interpolation\": 410, \"loneliness\": 51, \"bone\": 3020, \"bond\": 2056, \"afforded\": 134, \"nave\": 158, \"spanish\": 493, \"principles\": 557, \"aide\": 192, \"taught\": 2785, \"trading\": 441, \"methodological\": 49, \"temporary\": 2914, \"dawn\": 198, \"collector\": 95, \"enclosure\": 59, \"conjectures\": 59, \"decree\": 425, \"superposing\": 44, \"langue\": 45, \"hushed\": 82, \"oppressors\": 70, \"crucial\": 1296, \"lurks\": 55, \"content\": 1435, \"multiply\": 68, \"reader\": 1073, \"revolving\": 346, \"turning\": 1399, \"linear\": 766, \"resume\": 166, \"revenge\": 123, \"ascending\": 42, \"aboriginal\": 41, \"proportionality\": 40, \"flows\": 208, \"abate\": 61, \"mistress\": 58, \"lineal\": 55, \"swimming\": 129, \"impossibility\": 165, \"lacerated\": 70, \"starts\": 351, \"cosmic\": 42, \"peyer's\": 50, \"signature\": 43, \"perforated\": 115, \"moving\": 2182, \"loud\": 1421, \"enragee\": 43, \"playwright\": 162, \"features\": 335, \"economists\": 69, \"grade\": 545, \"thereof\": 323, \"peculiarity\": 322, \"hook\": 232, \"synthesize\": 224, \"floors\": 118, \"radiate\": 44, \"ditch\": 678, \"snubbing\": 89, \"pragmatic\": 267, \"dwelt\": 65, \"acquaint\": 81, \"psychotic\": 154, \"girls\": 593, \"twisted\": 277, \"bourgeois\": 130, \"decentralised\": 72, \"dwell\": 364, \"fiery\": 107, \"occasioned\": 71, \"villager\": 47, \"foreclose\": 233, \"somewhat\": 2640, \"requisite\": 176, \"peculiar\": 2511, \"symptom\": 307, \"begins\": 2372, \"distance\": 18446, \"anxiety\": 676, \"princeton\": 73, \"older\": 922, \"enabled\": 142, \"spending\": 610, \"preparation\": 729, \"matter\": 54518, \"persuade\": 327, \"silly\": 144, \"speaking\": 674, \"tingling\": 325, \"spoiled\": 156, \"knights\": 183, \"enables\": 276, \"cheek\": 81, \"sees\": 86, \"palace\": 550, \"rattle\": 118, \"guggenheim\": 49, \"modern\": 2720, \"mind\": 9972, \"mine\": 3138, \"seed\": 809, \"seen\": 8155, \"seem\": 3022, \"magnified\": 131, \"mint\": 154, \"tells\": 416, \"devolution\": 60, \"chest\": 622, \"fanfoa\": 44, \"simplified\": 95, \"choledochal\": 70, \"translator\": 44, \"regular\": 2639, \"meaning\": 6303, \"crevice\": 108, \"don\": 47, \"observation\": 320, \"testament\": 332, \"alarm\": 228, \"m\": 1060, \"dog\": 1495, \"doe\": 279, \"definitely\": 262, \"principle\": 5517, \"breathed\": 325, \"scotch\": 88, \"annoyed\": 96, \"dot\": 136, \"selected\": 396, \"hunger\": 164, \"withstand\": 112, \"visitor\": 535, \"armament\": 48, \"ending\": 718, \"waveforms\": 47, \"attempts\": 834, \"chord\": 198, \"uneasiness\": 114, \"poison\": 476, \"stepping\": 386, \"judges\": 107, \"northeast\": 56, \"divinity\": 114, \"representing\": 52, \"explain\": 452, \"folded\": 72, \"cripple\": 41, \"sugar\": 306, \"judged\": 104, \"integrate\": 127, \"inventor\": 131, \"chamberlain\": 43, \"palliative\": 161, \"wearing\": 457, \"establishes\": 485, \"guthrie\": 44, \"stop\": 3461, \"perceive\": 310, \"coast\": 1572, \"watermelon\": 98, \"reviewed\": 527, \"comply\": 115, \"earl\": 210, \"bat\": 94, \"chronological\": 198, \"bar\": 1737, \"sailing\": 130, \"bugbear\": 64, \"fields\": 178, \"bay\": 615, \"bag\": 1411, \"bad\": 5698, \"troop\": 467, \"rival\": 952, \"ban\": 188, \"fertility\": 64, \"ears\": 626, \"ethical\": 342, \"unworthy\": 734, \"fascinating\": 175, \"diminutive\": 60, \"testing\": 9139, \"portent\": 64, \"australia\": 302, \"decided\": 3085, \"nontraditional\": 49, \"synchronize\": 41, \"hydrocarbon\": 144, \"juliet\": 41, \"brazil\": 77, \"snuff\": 40, \"antimony\": 58, \"transliteration\": 48, \"narrated\": 59, \"scrap\": 46, \"sail\": 389, \"shaved\": 90, \"connective\": 44, \"prince\": 989, \"protected\": 1669, \"sair\": 48, \"embroidery\": 102, \"adjudged\": 959, \"tolerance\": 252, \"tamed\": 77, \"pyrophosphate\": 57, \"wears\": 394, \"wrapping\": 121, \"stakeholder\": 40, \"ignorance\": 41, \"weary\": 403, \"retirement\": 55, \"cousin\": 4256, \"picking\": 41, \"hundreds\": 478, \"meaningful\": 545, \"suggested\": 3700, \"horsemen\": 157, \"disorderly\": 170, \"prudential\": 42, \"uncertainty\": 283, \"against\": 18771, \"russia\": 724, \"stoppered\": 41, \"une\": 45, \"distinction\": 5909, \"contribution\": 8870, \"confronted\": 540, \"council's\": 55, \"appeared\": 1959, \"cemetery\": 66, \"hardworking\": 84, \"height\": 910, \"offerings\": 117, \"initiative\": 52, \"drilled\": 218, \"loaded\": 134, \"speedily\": 62, \"contraindication\": 50, \"tint\": 165, \"abdominal\": 217, \"asks\": 587, \"basis\": 17576, \"futility\": 128, \"cesarean\": 57, \"erect\": 884, \"milieu\": 188, \"commission\": 4206, \"recognised\": 982, \"detrimental\": 157, \"interest\": 8431, \"basic\": 1781, \"separatum\": 194, \"basin\": 432, \"lovely\": 1579, \"plateau\": 225, \"website\": 135, \"deeper\": 2401, \"efficacy\": 51, \"dismiss\": 427, \"shattering\": 152, \"personally\": 42, \"calcified\": 44, \"encyclopaedia\": 43, \"unpopular\": 63, \"exception\": 1278, \"tank\": 211, \"earth's\": 552, \"spontaneously\": 80, \"lizard\": 41, \"melted\": 218, \"neat\": 611, \"aeroplane\": 52, \"signifies\": 194, \"reconnaissance\": 75, \"balance\": 2460, \"smoky\": 41, \"theocratic\": 132, \"seven\": 419, \"cane\": 288, \"concomitant\": 101, \"metropolitan\": 87, \"cana\": 78, \"diaphragm\": 166, \"ip\": 237, \"is\": 545905, \"complaint\": 592, \"defeated\": 3119, \"ii\": 171, \"shame\": 533, \"cant\": 95, \"il\": 48, \"jest\": 96, \"in\": 868997, \"march\": 1286, \"nailed\": 45, \"mouse\": 848, \"disappear\": 182, \"if\": 31433, \"grown\": 798, \"abscess\": 52, \"growl\": 81, \"waging\": 93, \"bottles\": 350, \"specialization\": 43, \"entitles\": 98, \"belle\": 49, \"make\": 61633, \"stachybotrys\": 42, \"quid\": 115, \"potentially\": 477, \"vegetable\": 123, \"filtered\": 529, \"colonies\": 43, \"utilizing\": 45, \"grows\": 387, \"entitled\": 4941, \"evolve\": 728, \"advocate\": 508, \"burette\": 122, \"governors\": 62, \"declaring\": 113, \"differing\": 259, \"kit\": 51, \"delight\": 795, \"renaissance\": 333, \"scale\": 5193, \"supposing\": 124, \"jealous\": 631, \"reconquer\": 67, \"bequest\": 339, \"thoughts\": 217, \"kid\": 479, \"butter\": 266, \"warld\": 52, \"practiced\": 85, \"programs\": 163, \"settled\": 1095, \"stimuli\": 94, \"failing\": 459, \"approbation\": 41, \"materials\": 140, \"tombstone\": 61, \"topical\": 98, \"qualities\": 382, \"claims\": 349, \"paradigm\": 176, \"yours\": 58, \"left\": 4381, \"facto\": 47, \"perpetration\": 133, \"consciousness\": 2199, \"sentence\": 3378, \"wiser\": 667, \"verdure\": 45, \"assigned\": 769, \"alludes\": 50, \"bandwidth\": 372, \"reformation\": 70, \"identify\": 301, \"transforms\": 120, \"fullness\": 324, \"augments\": 86, \"yes\": 165, \"peacekeeping\": 75, \"yet\": 3858, \"impending\": 70, \"daviess\": 41, \"catalytic\": 102, \"candidate\": 3693, \"infinitely\": 108, \"pecuniary\": 127, \"regarded\": 10103, \"assassination\": 114, \"character\": 8878, \"streptococcus\": 54, \"squad\": 291, \"affinity\": 148, \"instrument\": 1258, \"justices\": 73, \"envelopment\": 66, \"allele\": 52, \"save\": 950, \"locator\": 47, \"neglecting\": 40, \"microcentrifuge\": 79, \"visibly\": 58, \"discreet\": 68, \"dreamy\": 168, \"assis\": 71, \"wanting\": 44, \"depicts\": 199, \"dreams\": 106, \"vanity\": 113, \"shoulder\": 1358, \"dignity\": 130, \"sunshiny\": 41, \"ramparts\": 67, \"visible\": 418, \"occlusion\": 290, \"performing\": 267, \"manual\": 1117, \"unnecessary\": 48, \"notorious\": 201, \"signal\": 2232, \"cowardice\": 107, \"dean\": 203, \"deal\": 31668, \"bookseller\": 121, \"deaf\": 316, \"handing\": 65, \"dead\": 3493, \"histopathologic\": 45, \"dear\": 97, \"pain\": 1443, \"eked\": 54, \"strategic\": 145, \"separately\": 85, \"dense\": 2193, \"theatre\": 1081, \"grading\": 58, \"notification\": 59, \"normal\": 4620, \"daytime\": 71, \"syllable\": 321, \"shakespeare\": 197, \"dispelled\": 456, \"disorders\": 59, \"beget\": 156, \"incidence\": 301, \"bold\": 619, \"subscriptions\": 44, \"molecule\": 993, \"burn\": 103, \"rearrangement\": 244, \"keeper\": 64, \"stimulant\": 307, \"presentiment\": 45, \"brahmin\": 52, \"conceal\": 52, \"metrical\": 96, \"operates\": 44, \"palisade\": 101, \"cliche\": 121, \"afternoon\": 1217, \"craftsman\": 56, \"commit\": 880, \"automatically\": 45, \"nerve\": 987, \"indians\": 212, \"vision's\": 202, \"formerly\": 471, \"amounted\": 162, \"lien\": 1453, \"intellectual\": 636, \"negative\": 6298, \"down\": 14456, \"contrasts\": 69, \"diabetics\": 138, \"doctrine\": 2332, \"narration\": 77, \"latus\": 69, \"frightened\": 59, \"murderers\": 90, \"communists\": 40, \"stump\": 396, \"flying\": 217, \"illustrious\": 44, \"approximate\": 122, \"corporeal\": 55, \"pages\": 1205, \"lampoon\": 45, \"victorious\": 86, \"editor\": 730, \"fraction\": 3074, \"vacated\": 98, \"handicaps\": 67, \"sobered\": 43, \"fork\": 368, \"reinforcing\": 134, \"form\": 34804, \"analyse\": 252, \"landing\": 390, \"ford\": 42, \"idealized\": 56, \"failure\": 2966, \"lows\": 62, \"radioactive\": 105, \"surrender\": 234, \"fort\": 1118, \"continuance\": 217, \"protestant\": 1080, \"understood\": 568, \"recerca\": 64, \"attached\": 973, \"cosmos\": 80, \"lantern\": 191, \"temper\": 429, \"originating\": 266, \"mystical\": 209, \"strengthening\": 865, \"pontiff\": 42, \"classic\": 1408, \"covert\": 77, \"trunk\": 352, \"covers\": 129, \"sale\": 1037, \"anthrax\": 54, \"floating\": 348, \"pernicious\": 390, \"fraternal\": 129, \"graft\": 72, \"vertical\": 2020, \"marking\": 80, \"marxist\": 119, \"discriminate\": 84, \"locality\": 242, \"authoritative\": 238, \"management's\": 44, \"generally\": 1821, \"handed\": 1649, \"venison\": 80, \"capstone\": 59, \"marxism\": 143, \"tardy\": 58, \"mediaeval\": 40, \"faction\": 214, \"dies\": 349, \"felt\": 4634, \"diet\": 1294, \"ammonium\": 155, \"fell\": 1424, \"reign\": 685, \"budded\": 93, \"authorities\": 137, \"pierced\": 108, \"weekend\": 181, \"died\": 1695, \"billion\": 103, \"happening\": 91, \"apology\": 151, \"potato\": 45, \"assume\": 2096, \"microcosm\": 465, \"daily\": 2316, \"jacket\": 335, \"commandry\": 40, \"amniotic\": 57, \"teeth\": 238, \"laws\": 909, \"parcels\": 201, \"mobilized\": 166, \"shop\": 759, \"managed\": 669, \"skip\": 47, \"excellent\": 391, \"eldest\": 587, \"invent\": 834, \"themes\": 119, \"manager\": 2006, \"mile\": 4342, \"interrelatedness\": 160, \"skin\": 921, \"mill\": 186, \"commentaries\": 40, \"proletarian\": 78, \"milk\": 1676, \"resourceful\": 47, \"retention\": 128, \"suicide\": 44, \"depend\": 217, \"deceitful\": 41, \"tariff\": 290, \"technique\": 2171, \"father\": 12590, \"amaze\": 48, \"finally\": 521, \"monotonically\": 106, \"petersburg\": 43, \"marks\": 337, \"analogous\": 2013, \"shoot\": 201, \"blazoned\": 80, \"string\": 2159, \"tends\": 1160, \"gestation\": 630, \"contemporary\": 505, \"vasoconstrictor\": 65, \"merit\": 1138, \"refectory\": 90, \"advised\": 248, \"ma\": 195, \"anne\": 54, \"dim\": 505, \"did\": 10185, \"die\": 2451, \"dig\": 521, \"proposals\": 55, \"accidentally\": 146, \"magnet\": 747, \"item\": 555, \"therapist\": 154, \"excellence\": 343, \"grimace\": 62, \"overlain\": 182, \"signficant\": 60, \"stiffer\": 66, \"round\": 2275, \"drawings\": 94, \"vocation\": 100, \"connaisseer\": 44, \"olympic\": 49, \"talked\": 531, \"fearing\": 84, \"dealing\": 753, \"zooms\": 44, \"holywell\": 52, \"worm\": 168, \"entertained\": 495, \"scarce\": 492, \"minimis\": 53, \"soviets\": 94, \"resurgence\": 87, \"adds\": 73, \"richer\": 86, \"distension\": 51, \"favour\": 4019, \"suspect\": 675, \"dishonored\": 172, \"hypocritical\": 44, \"drunkard\": 63, \"filled\": 1648, \"xml\": 62, \"proclaiming\": 84, \"transportation\": 351, \"bloke\": 453, \"guardian\": 112, \"clerk\": 618, \"involuntarily\": 69, \"french\": 3247, \"superstition\": 44, \"handmaiden\": 61, \"slow\": 1135, \"aurelius\": 43, \"hummed\": 51, \"congestion\": 54, \"oversimplify\": 218, \"wait\": 633, \"box\": 2523, \"boy\": 6230, \"supernature\": 47, \"canadian\": 226, \"institute\": 255, \"my\": 15770, \"widening\": 70, \"bow\": 798, \"exploitation\": 46, \"spheres\": 75, \"exemplifies\": 109, \"averseness\": 42, \"suggestion\": 2958, \"cyst\": 165, \"conveniently\": 127, \"shook\": 392, \"treasure\": 212, \"elect\": 381, \"merely\": 4100, \"regeneration\": 74, \"soliciting\": 62, \"withal\": 52, \"flexibility\": 44, \"modus\": 62, \"verge\": 138, \"rented\": 1424, \"everybody\": 916, \"hierarchically\": 163, \"troops\": 484, \"sharper\": 44, \"sake\": 312, \"visit\": 9964, \"france\": 5243, \"struldbrug\": 60, \"rhodesia\": 42, \"nozzle\": 312, \"preserving\": 107, \"condescension\": 78, \"acceptable\": 226, \"curriculum\": 370, \"downtown\": 130, \"antigens\": 141, \"downing\": 54, \"rigid\": 1405, \"olive\": 83, \"ruggedness\": 48, \"effort\": 3024, \"fly\": 436, \"walled\": 48, \"tokyo\": 58, \"avoiding\": 299, \"soul\": 2588, \"soup\": 42, \"sous\": 88, \"growing\": 4206, \"making\": 15421, \"arrive\": 748, \"deceased\": 87, \"claim\": 3272, \"classrooms\": 47, \"martyr's\": 85, \"predict\": 447, \"confused\": 348, \"agent\": 1161, \"sample\": 6828, \"drawer\": 740, \"council\": 3252, \"pink\": 92, \"papua\": 266, \"complainant\": 45, \"tripod\": 198, \"stricken\": 52, \"pine\": 57, \"transmissible\": 225, \"chemical\": 1029, \"hostage\": 64, \"sunday\": 319, \"hypersensitivity\": 173, \"pure\": 2339, \"pins\": 85, \"persuasion\": 148, \"pathway\": 318, \"drapery\": 42, \"pint\": 428, \"inputs\": 606, \"staying\": 170, \"designer\": 307, \"mau\": 108, \"mat\": 133, \"critics\": 337, \"tilting\": 46, \"waxen\": 80, \"membership\": 3691, \"designed\": 1551, \"centrum\": 83, \"destructive\": 293, \"journals\": 283, \"grow\": 1256, \"spoonfuls\": 129, \"man\": 113754, \"scrambling\": 62, \"muslim's\": 76, \"noun\": 1663, \"neck\": 1812, \"johnson\": 86, \"maybe\": 407, \"preacher\": 1168, \"elongation\": 58, \"triglyceride\": 52, \"q\": 71, \"cascade\": 42, \"switch\": 87, \"jail\": 507, \"deposit\": 441, \"deceive\": 46, \"african\": 485, \"basket\": 513, \"nous\": 48, \"gesture\": 2883, \"lsd\": 99, \"shield\": 147, \"seeing\": 707, \"gradual\": 1576, \"pointed\": 491, \"moralist\": 59, \"seizing\": 249, \"entity\": 462, \"stability\": 554, \"fatalities\": 66, \"cuts\": 120, \"argued\": 247, \"consolidating\": 42, \"pointer\": 1037, \"irresolute\": 46, \"group\": 31176, \"monitor\": 103, \"interesting\": 1562, \"encompasses\": 72, \"confedrit\": 76, \"maid\": 79, \"writers\": 400, \"listing\": 231, \"policy\": 5032, \"mail\": 158, \"haamau\": 40, \"alluvial\": 40, \"toxin\": 42, \"tonic\": 128, \"accusations\": 135, \"views\": 532, \"impulses\": 68, \"killer\": 81, \"sooner\": 105, \"interview\": 1745, \"touching\": 193, \"resource\": 989, \"ensue\": 87, \"killed\": 775, \"possess\": 578, \"feverish\": 125, \"memorization\": 41, \"swiftness\": 68, \"peered\": 103, \"leech\": 51, \"rock\": 2645, \"scolded\": 59, \"girt\": 43, \"latin\": 938, \"fistula\": 74, \"continu\": 47, \"conventions\": 476, \"gird\": 74, \"manifesto\": 173, \"mustache\": 258, \"yield\": 2420, \"befell\": 84, \"girl\": 10134, \"requesting\": 79, \"scion\": 284, \"canada\": 180, \"emerges\": 203, \"stitch\": 204, \"greeks\": 117, \"interference\": 92, \"transforming\": 245, \"nominal\": 179, \"imperative\": 56, \"emerged\": 244, \"dutch\": 41, \"correct\": 1449, \"assurance\": 116, \"inaction\": 67, \"earlier\": 821, \"monster\": 142, \"impressed\": 71, \"mechanisms\": 40, \"smudge\": 49, \"brooks\": 166, \"ajax\": 187, \"california\": 55, \"lump\": 206, \"bandbox\": 67, \"brooke\": 47, \"cough\": 273, \"holdup\": 45, \"worshipper\": 150, \"advance\": 1722, \"derivation\": 367, \"language\": 5713, \"ministry\": 326, \"standby\": 79, \"drizzling\": 43, \"contented\": 162, \"thing\": 20285, \"registrar\": 304, \"blacksmith\": 178, \"think\": 7930, \"frequent\": 612, \"first\": 11875, \"cheese\": 110, \"placing\": 2246, \"dwelling\": 170, \"praemunire\": 42, \"pannikin\": 142, \"crib\": 40, \"americans\": 406, \"amidst\": 93, \"suspended\": 400, \"carry\": 7363, \"corporations\": 87, \"sounds\": 483, \"discharged\": 552, \"facilitation\": 98, \"little\": 72184, \"thoughtless\": 85, \"lap\": 136, \"slept\": 295, \"anyone\": 384, \"plains\": 62, \"worshipped\": 153, \"escort\": 48, \"participated\": 762, \"mermaid\": 44, \"eyes\": 4693, \"continuous\": 15323, \"accurately\": 43, \"broadcast\": 889, \"austere\": 57, \"stipulation\": 76, \"undoubtedly\": 282, \"oversimplification\": 83, \"here's\": 42, \"preventing\": 136, \"easement\": 122, \"gotta\": 55, \"mutilation\": 55, \"orgy\": 54, \"venture\": 472, \"were\": 46059, \"gigantic\": 226, \"rimini\": 72, \"gathering\": 838, \"dollop\": 294, \"marrying\": 62, \"topics\": 551, \"occupies\": 607, \"street\": 1437, \"voices\": 148, \"dash\": 464, \"winding\": 337, \"conspiracy\": 1927, \"spectacle\": 52, \"voiced\": 99, \"occupied\": 627, \"speakers\": 133, \"efficient\": 485, \"answering\": 71, \"foreigner\": 480, \"shocked\": 120, \"converges\": 68, \"potential\": 2622, \"interior\": 401, \"performance\": 2338, \"modulus\": 55, \"channel\": 576, \"ultimate\": 135, \"flattered\": 770, \"amiable\": 167, \"norman\": 40, \"pail\": 88, \"investigations\": 170, \"arguing\": 212, \"baize\": 82, \"decreasing\": 119, \"paid\": 3754, \"rehearsal\": 167, \"assault\": 48, \"barrage\": 242, \"sheets\": 60, \"tract\": 799, \"complaints\": 66, \"conspicuous\": 432, \"weakening\": 46, \"massacred\": 71, \"especially\": 549, \"surprising\": 2761, \"fills\": 53, \"nonpartisan\": 372, \"supporting\": 1919, \"participle\": 62, \"stockings\": 252, \"segregation\": 56, \"precise\": 1173, \"medalist\": 49, \"shot\": 2342, \"reef\": 49, \"festschrift\": 549, \"show\": 7297, \"ornament\": 328, \"cornea\": 89, \"accession\": 43, \"supposition\": 106, \"moderator\": 1859, \"elevate\": 70, \"bedside\": 46, \"shod\": 87, \"arrears\": 40, \"threshold\": 922, \"corner\": 4609, \"label\": 74, \"father's\": 451, \"devote\": 1429, \"enough\": 3240, \"black\": 4860, \"travesty\": 264, \"treasury\": 46, \"enthusiasm\": 618, \"over\": 31865, \"awareness\": 2438, \"plump\": 293, \"pauper\": 170, \"exaggeration\": 122, \"get\": 22714, \"contracts\": 118, \"refreshed\": 53, \"designated\": 58, \"patriot\": 362, \"employers\": 173, \"hailed\": 134, \"nearly\": 2715, \"distinctly\": 100, \"conjunction\": 737, \"gibbet\": 112, \"gel\": 43, \"harbinger\": 45, \"intuitive\": 63, \"sickly\": 144, \"median\": 211, \"medial\": 120, \"morning\": 6480, \"miles\": 4520, \"ruddy\": 40, \"finishing\": 55, \"communicated\": 138, \"silently\": 140, \"declared\": 1620, \"honesty\": 52, \"eighteenth\": 58, \"seat\": 4743, \"relative\": 1223, \"declares\": 84, \"seal\": 330, \"stigma\": 90, \"dialectic\": 172, \"sincere\": 1342, \"wonder\": 1443, \"indicted\": 171, \"satisfying\": 205, \"parent\": 2466, \"camping\": 176, \"machetes\": 45, \"forecast\": 104, \"boundaries\": 182, \"behind\": 2761, \"digest\": 40, \"radiated\": 133, \"geometric\": 46, \"reading\": 2429, \"across\": 2571, \"whispered\": 589, \"august\": 277, \"foreword\": 201, \"parental\": 216, \"tacit\": 1024, \"dome\": 57, \"countenance\": 170, \"gregorian\": 43, \"tun\": 56, \"highlight\": 114, \"tub\": 205, \"killing\": 506, \"tug\": 72, \"dates\": 712, \"trader\": 235, \"trades\": 53, \"dedicate\": 65, \"indelicate\": 97, \"disappointment\": 462, \"delirium\": 70, \"holders\": 40, \"traded\": 45, \"nonentity\": 123, \"among\": 5148, \"stretches\": 42, \"cancer\": 894, \"accusation\": 175, \"maintained\": 1185, \"stretched\": 426, \"mortification\": 160, \"custody\": 111, \"adults\": 54, \"considering\": 486, \"sensible\": 562, \"arts\": 105, \"caricature\": 208, \"underworld\": 55, \"tuning\": 155, \"capable\": 1384, \"sufferable\": 54, \"slum\": 123, \"mark\": 3449, \"attaching\": 41, \"subscription\": 157, \"workshop\": 227, \"regimental\": 62, \"acre\": 893, \"tyrrel\": 47, \"marx\": 87, \"mary\": 147, \"disappointed\": 52, \"educated\": 507, \"derogation\": 104, \"devilish\": 173, \"offered\": 2315, \"workable\": 190, \"regency\": 187, \"dramatic\": 748, \"wake\": 2873, \"metals\": 159, \"declaration\": 2663, \"roguish\": 136, \"those\": 8160, \"puling\": 47, \"disconnected\": 80, \"slumber\": 1486, \"sobbed\": 47, \"compile\": 47, \"antipathies\": 42, \"promising\": 139, \"awakened\": 214, \"mettre\": 60, \"cock\": 94, \"planar\": 86, \"then\": 14038, \"characteristics\": 921, \"rubbing\": 188, \"tuvo\": 53, \"them\": 36318, \"according\": 1415, \"cluster\": 282, \"pressing\": 262, \"protein\": 1434, \"obnoxious\": 48, \"receptacle\": 90, \"abhors\": 54, \"movements\": 250, \"bags\": 358, \"different\": 22071, \"pas\": 403, \"pat\": 210, \"harsh\": 143, \"doctor\": 1848, \"pay\": 3932, \"tour\": 1781, \"heirs\": 68, \"adsorption\": 76, \"nicety\": 275, \"enquiries\": 178, \"compiling\": 53, \"pad\": 112, \"arguments\": 44, \"tenant's\": 62, \"deference\": 343, \"stepped\": 115, \"pan\": 202, \"dated\": 159, \"dishonorable\": 99, \"jeffrey\": 45, \"extended\": 1337, \"foundling\": 234, \"assist\": 200, \"companion\": 593, \"diversion\": 522, \"climbing\": 56, \"totally\": 371, \"weave\": 458, \"drain\": 186, \"businesslike\": 54, \"nonjudgmental\": 59, \"spoonful\": 255, \"objection\": 603, \"solve\": 1022, \"bottle\": 1803, \"convened\": 50, \"consisted\": 865, \"gates\": 41, \"peace\": 4336, \"they\": 43670, \"monev\": 40, \"generalisation\": 250, \"money\": 3633, \"adjustments\": 81, \"sights\": 130, \"reputably\": 105, \"imprint\": 81, \"manipulation\": 222, \"aspect\": 2414, \"positions\": 116, \"multiples\": 100, \"sprang\": 273, \"doctoral\": 66, \"dipped\": 3561, \"trigger\": 43, \"comradeship\": 78, \"summer's\": 41, \"trespasser\": 50, \"pile\": 1720, \"astonishment\": 167, \"electrical\": 354, \"extensive\": 426, \"heavier\": 117, \"pill\": 343, \"grip\": 2368, \"polymorphonuclear\": 87, \"mop\": 45, \"reddened\": 43, \"forge\": 45, \"gnarled\": 98, \"inhibition\": 61, \"grid\": 66, \"disadvantageous\": 54, \"railroad\": 598, \"aiming\": 62, \"blankets\": 52, \"grim\": 55, \"grin\": 249, \"fondling\": 57, \"vertically\": 64, \"acquainted\": 70, \"slain\": 74, \"serves\": 2858, \"server\": 95, \"facing\": 225, \"chamber\": 782, \"audience\": 1168, \"miraculous\": 134, \"either\": 4780, \"robbery\": 184, \"drainage\": 47, \"served\": 4260, \"nice\": 4111, \"fulfil\": 131, \"jews\": 266, \"doll\": 148, \"splash\": 146, \"imprisonment\": 630, \"galvanic\": 68, \"erase\": 81, \"sneaked\": 333, \"specified\": 2053, \"images\": 481, \"pasture\": 137, \"ascent\": 80, \"mustard\": 152, \"gross\": 2535, \"livres\": 122, \"colonial\": 88, \"footing\": 246, \"pioneer\": 68, \"critical\": 4218, \"decomposition\": 48, \"expressing\": 924, \"pipes\": 46, \"moderate\": 1319, \"declension\": 45, \"intravenous\": 43, \"knife\": 2020, \"measuring\": 462, \"fitful\": 176, \"reasonable\": 6959, \"seconds\": 852, \"manufactured\": 213, \"nonoperating\": 135, \"notable\": 805, \"broker\": 195, \"broken\": 2205, \"despicable\": 79, \"glycerol\": 52, \"arithmetical\": 49, \"patronising\": 57, \"manufacturer\": 182, \"regulations\": 49, \"conducting\": 56, \"soudain\": 46, \"opium\": 122, \"roar\": 131, \"island\": 912, \"fringe\": 282, \"sustain\": 107, \"develops\": 81, \"mixer\": 84, \"practical\": 3614, \"pockets\": 92, \"west\": 1507, \"mixed\": 391, \"provisional\": 94, \"road\": 2758, \"fallacy\": 87, \"quietly\": 275, \"lands\": 61, \"fertile\": 817, \"whites\": 284, \"spreading\": 118, \"bountiful\": 112, \"blessed\": 437, \"references\": 316, \"dreaming\": 86, \"observance\": 197, \"jerusalem\": 377, \"logs\": 169, \"lakota\": 51, \"acquiesced\": 105, \"shells\": 43, \"distracted\": 73, \"totalitarian\": 756, \"tincture\": 121, \"lions\": 62, \"decisive\": 1641, \"hysterical\": 48, \"pretends\": 134, \"spicy\": 45, \"supposable\": 85, \"granules\": 61, \"stereotyped\": 78, \"fanatic\": 193, \"proportionately\": 64, \"wholehearted\": 50, \"buggy\": 118, \"pleased\": 44, \"hydrochloric\": 162, \"sophisticated\": 494, \"visitant\": 46, \"belated\": 88, \"woman\": 22246, \"arranged\": 2627, \"appendixes\": 54, \"proceeds\": 45, \"sailor's\": 42, \"thls\": 83, \"wardrobe\": 43, \"brother's\": 61, \"kinsman\": 112, \"affection\": 389, \"smoothing\": 51, \"palate\": 45, \"deliberation\": 84, \"citation\": 97, \"deer\": 210, \"deep\": 7071, \"general\": 21624, \"imagination\": 817, \"examine\": 218, \"chalet\": 43, \"file\": 2091, \"lifetime\": 367, \"deed\": 1582, \"hound\": 162, \"film\": 972, \"fill\": 425, \"tedious\": 69, \"again\": 3108, \"assessing\": 520, \"graveyard\": 214, \"drivers\": 79, \"phonon\": 149, \"repent\": 137, \"field\": 8937, \"prism\": 466, \"thousand\": 10661, \"fruitless\": 1449, \"obsessed\": 54, \"shelter\": 201, \"bondservant\": 49, \"narrative\": 1414, \"vertex\": 375, \"packaging\": 52, \"brandy\": 458, \"important\": 10525, \"recent\": 3179, \"she's\": 115, \"tackle\": 70, \"decorated\": 138, \"prudent\": 285, \"conclusive\": 2522, \"resembled\": 92, \"grudge\": 77, \"remote\": 925, \"fraught\": 118, \"casts\": 135, \"percentage\": 4668, \"sounded\": 570, \"excretion\": 202, \"ingestion\": 196, \"livingness\": 67, \"husky\": 136, \"craftsmen\": 58, \"resolution\": 4494, \"caste\": 186, \"represent\": 1546, \"looped\": 44, \"liar\": 65, \"forget\": 317, \"founder\": 6293, \"dollar\": 2433, \"crosshairs\": 349, \"talke\": 46, \"founded\": 1052, \"sunk\": 214, \"forged\": 380, \"cooperative\": 251, \"talks\": 42, \"implement\": 41, \"allowances\": 227, \"children\": 7643, \"duplicated\": 435, \"diffusive\": 69, \"preserves\": 52, \"preserver\": 59, \"musketry\": 368, \"former\": 2258, \"modernization\": 65, \"preserved\": 2143, \"crimson\": 80, \"swallow\": 103, \"enjoying\": 304, \"hideous\": 65, \"sound\": 2940, \"premium\": 748, \"parcel\": 380, \"straightforward\": 138, \"returning\": 614, \"removing\": 42, \"toss\": 48, \"lain\": 48, \"fall\": 5454, \"seek\": 3480, \"subterranean\": 112, \"difference\": 18945, \"elated\": 134, \"neurological\": 63, \"knighthood\": 45, \"norfolk\": 390, \"dictatorship\": 68, \"mothers\": 110, \"judith\": 91, \"celebrity\": 68, \"applicable\": 907, \"biological\": 633, \"becometh\": 287, \"yearling\": 45, \"neighborhood\": 128, \"glioma\": 49, \"prominence\": 322, \"soldier\": 3626, \"knitted\": 80, \"zero\": 1568, \"perception\": 1214, \"perspective\": 1590, \"lawyer\": 2025, \"disputed\": 538, \"wager\": 60, \"ribbon\": 181, \"cigars\": 287, \"residue\": 118, \"defence\": 4673, \"stood\": 929, \"opted\": 134, \"straighter\": 61, \"skeptic\": 40, \"wrecked\": 148, \"cienfuegos\": 75, \"exasperation\": 107, \"stoop\": 56, \"conveyance\": 872, \"coronet\": 68, \"judicious\": 270, \"tribute\": 431, \"public\": 15210, \"movement\": 5164, \"girlhood\": 114, \"chlorate\": 57, \"ranged\": 93, \"compilation\": 390, \"component\": 6784, \"nation's\": 159, \"ranges\": 198, \"favourable\": 946, \"beacon\": 490, \"cylindrical\": 275, \"operating\": 584, \"standard\": 2683, \"endured\": 53, \"fantasies\": 137, \"publisher\": 329, \"search\": 4303, \"generalizing\": 105, \"enmity\": 115, \"margin\": 2769, \"paradoxes\": 107, \"stretching\": 57, \"significantly\": 86, \"masterpiece\": 327, \"milky\": 83, \"homologous\": 60, \"narrow\": 4713, \"fatten\": 47, \"pathological\": 257, \"splashes\": 106, \"alexandria\": 88, \"caravan\": 69, \"transit\": 129, \"africa\": 279, \"empties\": 156, \"lion's\": 122, \"extinction\": 162, \"establish\": 5220, \"readily\": 536, \"eye\": 2852, \"score\": 891, \"distinct\": 5157, \"hillock\": 63, \"wiped\": 56, \"destination\": 53, \"two\": 21021, \"governance\": 67, \"cultivation\": 56, \"libel\": 187, \"aperture\": 254, \"raft\": 169, \"achieving\": 630, \"diamond\": 44, \"formality\": 44, \"canon\": 132, \"brisk\": 105, \"landed\": 106, \"controlling\": 44, \"hinduism\": 436, \"projective\": 183, \"sleeping\": 964, \"nineteen\": 49, \"town\": 7383, \"willfully\": 45, \"spillage\": 52, \"hour\": 2262, \"middle\": 2014, \"recall\": 69, \"der\": 168, \"voyagers\": 41, \"dei\": 61, \"remain\": 1238, \"paragraph\": 801, \"clergy\": 232, \"dazed\": 61, \"specialized\": 61, \"hovels\": 56, \"lingered\": 42, \"gymkhanas\": 48, \"mutuality\": 68, \"compare\": 48, \"ritual\": 83, \"buttress\": 87, \"galleries\": 49, \"share\": 20739, \"collision\": 178, \"breathing\": 156, \"attain\": 627, \"purchased\": 187, \"sharp\": 2977, \"botanist\": 81, \"homicide\": 66, \"pence\": 107, \"needs\": 782, \"drained\": 41, \"technology\": 339, \"plans\": 253, \"acts\": 709, \"renew\": 51, \"ivy\": 67, \"neede\": 51, \"sacred\": 574, \"sprig\": 59, \"stir\": 145, \"uprising\": 126, \"advice\": 460, \"par\": 318, \"sophistication\": 186, \"malediction\": 138, \"synagogue\": 62, \"blood\": 1824, \"coming\": 1577, \"bloom\": 46, \"response\": 5562, \"bleak\": 90, \"gravelly\": 47, \"surgeons\": 59, \"orchard\": 102, \"crowded\": 137, \"bradt\": 71, \"coat\": 1907, \"reinforcer\": 65, \"spoon\": 279, \"blunder\": 312, \"coal\": 638, \"wishes\": 276, \"responsibility\": 1462, \"sect\": 241, \"pleasure\": 4317, \"twigs\": 144, \"playing\": 1149, \"that's\": 562, \"infant\": 740, \"rounded\": 1045, \"vividness\": 134, \"setback\": 257, \"industrial\": 738, \"dough\": 55, \"same\": 13177, \"dendritic\": 73, \"existence\": 15219, \"suffer\": 572, \"arteries\": 133, \"possessions\": 53, \"sodium\": 204, \"forthwith\": 210, \"bosom\": 70, \"famished\": 65, \"late\": 12681, \"detected\": 840, \"microscopic\": 47, \"speech\": 2285, \"jostled\": 41, \"lookout\": 260, \"hurting\": 138, \"good\": 72539, \"canonry\": 51, \"betime\": 43, \"postwar\": 216, \"synonymous\": 73, \"spectacles\": 180, \"libido\": 54, \"socially\": 59, \"detour\": 83, \"encouraging\": 116, \"humans\": 54, \"compound\": 763, \"inception\": 338, \"formulating\": 160, \"detach\": 55, \"struggling\": 75, \"association\": 649, \"mystery\": 746, \"easily\": 880, \"celerity\": 83, \"pregnant\": 242, \"spy\": 360, \"ashes\": 140, \"someone\": 774, \"boisterous\": 82, \"repeating\": 44, \"biscuits\": 89, \"exquisite\": 298, \"sterling\": 52, \"everyone\": 963, \"finder's\": 52, \"house\": 18168, \"hare\": 308, \"hard\": 7032, \"idea\": 9529, \"engaging\": 185, \"sober\": 98, \"oil\": 614, \"furtherance\": 53, \"connect\": 230, \"ripple\": 282, \"insurance\": 530, \"worshipers\": 62, \"heights\": 295, \"initiatives\": 248, \"flower\": 1300, \"creditor\": 1873, \"childish\": 52, \"throes\": 53, \"crowing\": 45, \"projected\": 789, \"coauthor\": 42, \"england's\": 42, \"acting\": 3961, \"flowed\": 383, \"cyclone\": 70, \"learners\": 152, \"evaluation\": 561, \"disobedience\": 228, \"pathetic\": 71, \"circumstance\": 1332, \"commits\": 43, \"enforcing\": 50, \"geared\": 43, \"extraordinary\": 1297, \"term\": 14601, \"disposition\": 573, \"backed\": 198, \"beginning\": 2394, \"sedentary\": 64, \"benefits\": 342, \"tap\": 217, \"prophet\": 1480, \"computers\": 167, \"running\": 1633, \"conducted\": 1415, \"comforts\": 70, \"reinforced\": 101, \"copper\": 551, \"embraces\": 59, \"bullies\": 66, \"waged\": 350, \"barbarian\": 256, \"juncture\": 264, \"instances\": 6845, \"pop\": 133, \"done\": 4962, \"embraced\": 233, \"wages\": 632, \"euphoria\": 79, \"plentiful\": 254, \"divorce\": 301, \"construct\": 2344, \"obligatory\": 115, \"paint\": 1044, \"leash\": 59, \"assumption\": 796, \"pains\": 202, \"rates\": 140, \"compartment\": 47, \"lease\": 1088, \"travail\": 267, \"bodleian\": 45, \"favorably\": 58, \"needle\": 351, \"acorns\": 102, \"sensation\": 1190, \"draped\": 116, \"dentist\": 172, \"part\": 53330, \"favorable\": 1606, \"doctors\": 50, \"gruesome\": 46, \"believe\": 1659, \"what's\": 147, \"inconvenient\": 117, \"peaked\": 92, \"b\": 3735, \"incision\": 153, \"gotten\": 143, \"largely\": 408, \"jesuit\": 142, \"recording\": 301, \"contrary\": 2890, \"supposed\": 1338, \"sole\": 81, \"treated\": 2785, \"declare\": 545, \"reparation\": 46, \"reunion\": 63, \"ages\": 970, \"fastidiousness\": 86, \"cistern\": 360, \"orders\": 812, \"mountain\": 1617, \"built\": 3480, \"depending\": 274, \"trip\": 3172, \"couch\": 40, \"anthologies\": 58, \"majority\": 7953, \"lifts\": 215, \"build\": 4972, \"obviously\": 797, \"deepening\": 178, \"commentary\": 407, \"listeria\": 167, \"sheepskin\": 410, \"province\": 1022, \"thoracic\": 80, \"vibration\": 130, \"cytotrophoblasts\": 82, \"chart\": 717, \"serviced\": 102, \"depths\": 196, \"most\": 11515, \"charm\": 714, \"moss\": 82, \"services\": 2471, \"extremely\": 171, \"refrigerator\": 179, \"mediastinal\": 40, \"subdivided\": 57, \"mediation\": 129, \"panegyric\": 45, \"charitable\": 96, \"reflections\": 136, \"directness\": 143, \"weigh\": 257, \"parody\": 117, \"daresay\": 117, \"clinician\": 47, \"nobility\": 233, \"sector\": 119, \"thomas\": 145, \"particularly\": 1593, \"philanthropic\": 49, \"disturbances\": 174, \"obligations\": 196, \"swelling\": 951, \"wailing\": 92, \"scattered\": 321, \"cauda\": 100, \"converge\": 322, \"hillside\": 50, \"corresponded\": 124, \"businesses\": 1408, \"malignant\": 119, \"carefully\": 384, \"fine\": 5284, \"find\": 23579, \"urchin\": 46, \"month's\": 42, \"decanters\": 43, \"giant\": 119, \"depended\": 223, \"dividing\": 126, \"merger\": 70, \"merges\": 98, \"ruin\": 214, \"distributed\": 271, \"unhappy\": 122, \"dysfunctional\": 104, \"fiend\": 105, \"volatile\": 307, \"gills\": 138, \"seller\": 497, \"merged\": 63, \"therefore\": 1396, \"permission\": 160, \"cholera\": 45, \"express\": 1064, \"cheaper\": 51, \"courage\": 105, \"batter\": 40, \"breast\": 898, \"theft\": 43, \"annexation\": 275, \"silk\": 99, \"pellet\": 99, \"merchandise\": 100, \"huff\": 74, \"elapse\": 136, \"resolve\": 245, \"urinary\": 143, \"physician's\": 87, \"transitional\": 159, \"doubled\": 117, \"common\": 19636, \"gospel\": 386, \"ph\": 490, \"doublet\": 47, \"infinitum\": 99, \"selecting\": 240, \"vine\": 60, \"tended\": 65, \"lion\": 1108, \"arouse\": 270, \"manly\": 330, \"seated\": 1526, \"surrendered\": 91, \"peacock\": 100, \"tender\": 611, \"forthcoming\": 43, \"materially\": 311, \"curvilinear\": 165, \"feared\": 53, \"enveloped\": 87, \"degree\": 18873, \"expert\": 205, \"visiting\": 520, \"superseded\": 189, \"burner\": 128, \"interrelated\": 87, \"myriad\": 150, \"vascular\": 82, \"testified\": 71, \"sonsy\": 62, \"burned\": 274, \"champagne\": 50, \"transfered\": 48, \"tried\": 887, \"historical\": 2570, \"complementary\": 283, \"complement\": 195, \"pagoda\": 50, \"aircraft\": 230, \"premise\": 2155, \"tackled\": 44, \"lightness\": 170, \"marilyn\": 46, \"dualism\": 48, \"defunct\": 64, \"folding\": 57, \"grounded\": 53, \"restaurant\": 1298, \"solely\": 141, \"annual\": 67, \"foreign\": 5497, \"quadruped\": 73, \"mean\": 5543, \"baltimore\": 214, \"elaborating\": 196, \"point\": 26263, \"dwindle\": 42, \"newborn\": 79, \"pamphlet\": 573, \"simply\": 2081, \"breastwork\": 43, \"asserted\": 118, \"throughout\": 788, \"expensive\": 98, \"platinum\": 1044, \"consuming\": 94, \"fused\": 184, \"raise\": 1622, \"discriminant\": 66, \"apostle\": 81, \"create\": 16839, \"trilogy\": 42, \"creativity\": 110, \"vasari\": 52, \"volley\": 487, \"secret\": 2416, \"fuses\": 81, \"ensured\": 152, \"ireland\": 230, \"meeting\": 5479, \"praeger\": 49, \"slips\": 49, \"addison\": 46, \"chattel\": 40, \"ruckus\": 77, \"gay\": 291, \"chatted\": 736, \"gas\": 2071, \"cruelty\": 43, \"gap\": 1155, \"gal\": 41, \"understand\": 2445, \"potash\": 195, \"gag\": 88, \"chatter\": 85, \"turnspit\": 127, \"fur\": 208, \"grains\": 199, \"talking\": 868, \"solid\": 1497, \"bill\": 2400, \"tolerate\": 44, \"elections\": 255, \"crutch\": 124, \"sexuality\": 81, \"replaced\": 1579, \"consular\": 51, \"rigour\": 77, \"withdrawing\": 45, \"fun\": 360, \"ass's\": 42, \"sheepfold\": 74, \"manner\": 10564, \"indulging\": 230, \"elucidation\": 82, \"portugal\": 78, \"century\": 7610, \"cents\": 553, \"mystic\": 367, \"encountered\": 148, \"decoration\": 46, \"itself\": 4859, \"anode\": 308, \"stubbornly\": 68, \"monroe\": 46, \"italy\": 448, \"earn\": 831, \"meted\": 166, \"seduce\": 157, \"migraine\": 72, \"thesis\": 85, \"knitting\": 56, \"butcher\": 197, \"wherein\": 92, \"benign\": 467, \"discourse\": 919, \"emphasize\": 52, \"bristle\": 46, \"lenient\": 79, \"relatively\": 5473, \"neutron\": 45, \"development\": 8508, \"attenuation\": 61, \"keys\": 46, \"assignment\": 88, \"resounds\": 51, \"kill\": 321, \"retrenchment\": 46, \"flurry\": 98, \"purpose\": 4825, \"aggregate\": 320, \"infused\": 431, \"dart\": 46, \"timid\": 173, \"oeuvre\": 60, \"task\": 2358, \"spent\": 5895, \"withdraw\": 130, \"landmark\": 214, \"functionary\": 42, \"hardwoods\": 69, \"chemistry\": 44, \"spend\": 5893, \"howl\": 45, \"preference\": 1187, \"vindictive\": 47, \"irritably\": 77, \"snow\": 119, \"profoundly\": 80, \"shape\": 3122, \"openly\": 72, \"atomic\": 129, \"mob\": 850, \"alternative\": 2470, \"indexes\": 57, \"snare\": 46, \"timber\": 58, \"discipline\": 397, \"superficial\": 429, \"cut\": 3232, \"cup\": 4801, \"hated\": 202, \"impoverisher\": 57, \"duct\": 186, \"subjects\": 1191, \"deliberately\": 51, \"bridal\": 55, \"easter\": 47, \"excited\": 348, \"hater\": 170, \"silken\": 144, \"squawk\": 41, \"womanly\": 49, \"big\": 20612, \"bid\": 452, \"matters\": 494, \"bit\": 16359, \"precipitation\": 114, \"vapour\": 70, \"insect\": 193, \"knock\": 1221, \"blemish\": 177, \"cognitive\": 429, \"semi\": 133, \"improbable\": 74, \"follows\": 916, \"covereth\": 370, \"disks\": 43, \"flue\": 69, \"addressed\": 1717, \"flux\": 67, \"indication\": 1420, \"bamboo\": 200, \"foolish\": 749, \"cardinal's\": 54, \"often\": 4292, \"collectors\": 47, \"metabolic\": 468, \"absolutely\": 410, \"obliged\": 197, \"ripeness\": 94, \"abundantly\": 106, \"back\": 8812, \"delegation\": 513, \"martial\": 113, \"examples\": 1051, \"mirror\": 2154, \"candle\": 123, \"ourselves\": 623, \"pronounced\": 307, \"acquaintance\": 238, \"contacts\": 146, \"pet\": 41, \"affects\": 141, \"decision\": 9195, \"proficient\": 54, \"integration\": 151, \"per\": 1064, \"pen\": 327, \"connecting\": 124, \"eliminate\": 410, \"matron\": 189, \"lark\": 86, \"peg\": 41, \"invade\": 42, \"resolutely\": 56, \"laughing\": 161, \"evaporating\": 105, \"visionary\": 95, \"patient\": 8985, \"remembered\": 123, \"peculiarly\": 286, \"continuing\": 1670, \"use\": 11797, \"subconscious\": 48, \"flanks\": 43, \"metaphor\": 496, \"feigning\": 92, \"goods\": 792, \"constraint\": 93, \"pumice\": 264, \"conciliatory\": 63, \"drama\": 605, \"trinitarianism\": 66, \"genre\": 578, \"misplaced\": 41, \"liberator\": 50, \"acquirement\": 45, \"neutrality\": 325, \"inhospitable\": 44, \"assessed\": 136, \"remembrance\": 83, \"negation\": 47, \"lesson\": 3074, \"bankruptcy\": 146, \"pathologic\": 188, \"philosophic\": 174, \"modicum\": 105, \"borer\": 40, \"goodhumoured\": 82, \"camera\": 784, \"handbook\": 629, \"germans\": 877, \"forward\": 1700, \"lapygia\": 46, \"thinke\": 40, \"invite\": 153, \"pounded\": 51, \"constitutionally\": 90, \"immigration\": 47, \"hoped\": 233, \"boys\": 429, \"agreeable\": 201, \"hopes\": 179, \"directed\": 715, \"rejection\": 810, \"lover's\": 194, \"clips\": 47, \"exploration\": 93, \"aversion\": 347, \"belgian\": 45, \"groove\": 303, \"precipitated\": 192, \"sort\": 20531, \"partition\": 133, \"constant\": 7080, \"expedition\": 234, \"metal\": 1113, \"possessor\": 90, \"deprive\": 48, \"consulted\": 165, \"cure\": 742, \"curb\": 153, \"dispensation\": 2664, \"organizational\": 40, \"curl\": 455, \"cafe\": 139, \"prevail\": 70, \"denying\": 73, \"swamp\": 48, \"organizing\": 790, \"composing\": 95, \"excuses\": 171, \"priori\": 1586, \"emanated\": 72, \"assassinate\": 192, \"confine\": 85, \"explaining\": 229, \"cellar\": 412, \"lend\": 248, \"favourite\": 1474, \"mismatch\": 228, \"printing\": 203, \"luxurious\": 121, \"lens\": 360, \"restoration\": 633, \"lent\": 51, \"fishes\": 73, \"stoppages\": 53, \"missile\": 153, \"desert\": 277, \"statesman\": 403, \"implies\": 400, \"mantel\": 60, \"overlooking\": 157, \"monic\": 105, \"pasha\": 62, \"gaulish\": 60, \"teams\": 115, \"admiring\": 168, \"dispassionate\": 667, \"cooked\": 251, \"socrates\": 101, \"implied\": 85, \"presenting\": 1404, \"uterus\": 77, \"tube\": 3129, \"initiating\": 208, \"pneumoniae\": 90, \"hint\": 1532, \"sanctuary\": 59, \"intricate\": 146, \"query\": 63, \"vicious\": 149, \"disintegration\": 42, \"compose\": 221, \"graver\": 188, \"papist\": 66, \"coadjutor\": 55, \"helps\": 182, \"masculine\": 43, \"quarterly\": 64, \"mowed\": 131, \"fatal\": 632, \"brigade\": 1463, \"labels\": 46, \"presently\": 110, \"rhyme\": 66, \"lounsbeck\": 59, \"putting\": 1394, \"surgeon\": 179, \"arrange\": 43, \"molar\": 89, \"gipsy\": 45, \"recreation\": 41, \"meek\": 220, \"succeed\": 167, \"knight\": 1686, \"chloretone\": 40, \"cacama\": 77, \"rearing\": 301, \"married\": 2013, \"choppy\": 75, \"ceasefire\": 63, \"ride\": 1979, \"government's\": 64, \"educators\": 55, \"bleeding\": 429, \"crow\": 43, \"playmate\": 137, \"crop\": 533, \"maintain\": 2312, \"insertion\": 56, \"substituting\": 49, \"carlo\": 65, \"submit\": 401, \"depression\": 470, \"scientific\": 1219, \"reconciliation\": 154, \"power\": 15817, \"transplanted\": 62, \"giving\": 7075, \"surety\": 326, \"assisted\": 72, \"relented\": 101, \"paddle\": 96, \"access\": 2665, \"wildest\": 41, \"microprocessor\": 47, \"plug\": 1377, \"exercise\": 2171, \"body\": 17813, \"justification\": 1111, \"personification\": 126, \"exchange\": 9824, \"warrior\": 358, \"repudiation\": 61, \"sprung\": 255, \"bachelor\": 105, \"objects\": 686, \"healing\": 586, \"others\": 2237, \"solute\": 69, \"resemblance\": 809, \"safer\": 344, \"sine\": 122, \"implicit\": 62, \"extreme\": 511, \"remark\": 348, \"talent\": 607, \"photomultiplier\": 237, \"conceit\": 162, \"poured\": 3522, \"contradiction\": 247, \"situations\": 207, \"principally\": 40, \"climb\": 119, \"proof\": 2014, \"clime\": 70, \"composed\": 1604, \"named\": 1919, \"truism\": 277, \"limp\": 84, \"millwright\": 48, \"private\": 9301, \"decrease\": 3981, \"names\": 301, \"composer\": 495, \"limb\": 380, \"scandal\": 120, \"resolutions\": 50, \"staple\": 152, \"sermon\": 676, \"refers\": 777, \"nasopharyngeal\": 66, \"thirsty\": 65, \"chi\": 92, \"readable\": 84, \"transactions\": 48, \"calculation\": 441, \"totality\": 41, \"contrariety\": 65, \"themselves\": 7509, \"defendant\": 1010, \"trait\": 242, \"scanty\": 108, \"apprenticed\": 49, \"emigration\": 41, \"habitually\": 84, \"hailstorm\": 41, \"normalized\": 41, \"tattered\": 72, \"arranging\": 1108, \"tearing\": 53, \"harvest\": 765, \"risking\": 147, \"hints\": 52, \"account\": 9715, \"f\": 332, \"tunnel\": 795, \"sutter\": 48, \"gruff\": 111, \"exhilaration\": 44, \"tag\": 73, \"obvious\": 686, \"unwitting\": 195, \"indignities\": 88, \"smear\": 44, \"internecine\": 72, \"closing\": 113, \"fetch\": 139, \"admiralty\": 167, \"violence\": 634, \"prohibiting\": 64, \"infantry\": 133, \"renewed\": 511, \"smattering\": 57, \"employs\": 227, \"bones\": 310, \"stories\": 1090, \"contempt\": 213, \"native\": 2600, \"lamb\": 158, \"gcb\": 108, \"daring\": 126, \"democracy\": 628, \"awkwardness\": 247, \"protect\": 904, \"aff\": 66, \"holds\": 428, \"hampshire\": 129, \"regions\": 93, \"pleasing\": 259, \"lamp\": 1066, \"forest\": 837, \"furnace\": 315, \"practicable\": 94, \"profile\": 2365, \"buildings\": 253, \"y\": 65, \"accorded\": 503, \"sir\": 314, \"waters\": 907, \"philosophy\": 1633, \"collection\": 12728, \"legality\": 261, \"worried\": 211, \"fray\": 74, \"ambiguous\": 113, \"chasing\": 68, \"bind\": 96, \"lines\": 1720, \"correspond\": 200, \"trembling\": 135, \"linen\": 144, \"chief\": 918, \"furious\": 271, \"lined\": 99, \"furnish\": 562, \"six\": 1730, \"scolex\": 65, \"institutional\": 51, \"wedding\": 371, \"embers\": 92, \"symbols\": 63, \"report\": 6825, \"circumscribed\": 412, \"horns\": 100, \"flattering\": 51, \"electors\": 44, \"patronize\": 48, \"thyself\": 174, \"bunch\": 1103, \"gestational\": 56, \"bridges\": 84, \"industrious\": 44, \"le\": 208, \"whereon\": 60, \"la\": 617, \"ll\": 896, \"accredited\": 140, \"labor\": 601, \"heroism\": 118, \"willing\": 879, \"criminal\": 1899, \"yeoman\": 69, \"colorpoint\": 92, \"junction\": 215, \"greater\": 15137, \"bolder\": 48, \"descendants\": 178, \"dam\": 46, \"spell\": 401, \"operator\": 1046, \"mention\": 840, \"cutting\": 374, \"courtroom\": 186, \"mandate\": 685, \"trade\": 3395, \"wheatstone\": 1527, \"kindness\": 428, \"day\": 59659, \"dielectric\": 438, \"applicants\": 80, \"february\": 96, \"thrill\": 395, \"preclude\": 224, \"tranflation\": 54, \"identified\": 2099, \"blazing\": 144, \"sin\": 860, \"morris\": 55, \"virulent\": 405, \"phonetic\": 48, \"experienced\": 2167, \"flair\": 95, \"ratings\": 87, \"transported\": 567, \"strip\": 2989, \"waking\": 218, \"pantry\": 44, \"burdened\": 311, \"thirty\": 2127, \"pivot\": 203, \"lesion\": 380, \"programmer\": 89, \"programmes\": 51, \"salesman\": 534, \"announces\": 70, \"defend\": 86, \"rev\": 165, \"wholly\": 836, \"mate\": 116, \"arkansas\": 43, \"barley\": 47, \"rem\": 56, \"insolvent\": 114, \"postpone\": 60, \"marvelled\": 42, \"announced\": 211, \"thereupon\": 40, \"approached\": 432, \"roughened\": 68, \"frank\": 186, \"fourteen\": 48, \"clarify\": 386, \"approaches\": 331, \"unilateral\": 172, \"sounder\": 60, \"likelihood\": 449, \"bleed\": 583, \"receipts\": 66, \"interaction\": 614, \"yard\": 577, \"rumbled\": 74, \"deprived\": 131, \"recipes\": 186, \"mortal\": 724, \"retain\": 532, \"retail\": 117, \"facilitate\": 200, \"deprives\": 89, \"arterial\": 94, \"domiciled\": 67, \"jigsaw\": 66, \"sprawled\": 59, \"savour\": 59, \"reaches\": 420, \"philadelphia\": 505, \"embarrassed\": 66, \"improvements\": 97, \"hurdle\": 56, \"facie\": 54, \"reached\": 6640, \"moiety\": 279, \"pyrite\": 168, \"ancient\": 134, \"vulgar\": 122, \"arcot\": 45, \"hilary\": 71, \"establishments\": 152, \"lamentable\": 320, \"immovable\": 149, \"intermediate\": 42, \"acquiescence\": 45, \"palestine\": 131, \"jingle\": 53, \"ferocity\": 152, \"cabin\": 40, \"udp\": 85, \"judgeth\": 1984, \"explanation\": 3789, \"acquire\": 1032, \"dreary\": 51, \"negro\": 2261, \"environmental\": 72, \"inestimable\": 102, \"springboard\": 86, \"loved\": 463, \"ureteral\": 329, \"treatise\": 924, \"labourers\": 83, \"compensation\": 261, \"boyish\": 57, \"amplitude\": 72, \"lover\": 860, \"visited\": 47, \"doctorate\": 144, \"fermentation\": 426, \"imaginative\": 286, \"neutralize\": 162, \"cytoplasm\": 106, \"tidy\": 152, \"curves\": 83, \"comfortable\": 844, \"tide\": 58, \"comfortably\": 106, \"pitiable\": 53, \"cavern\": 58, \"have\": 155612, \"miserable\": 504, \"countryman\": 107, \"curved\": 321, \"keener\": 67, \"dementia\": 45, \"demonstration\": 871, \"she\": 34528, \"acceleration\": 41, \"billiards\": 51, \"gravity\": 399, \"incentive\": 807, \"precipice\": 81, \"mix\": 229, \"concerns\": 198, \"provoked\": 128, \"chaise\": 40, \"mis\": 42, \"unless\": 2986, \"agenda\": 144, \"signifying\": 108, \"transmit\": 43, \"reindeer\": 115, \"procure\": 244, \"masts\": 45, \"eight\": 1737, \"strikes\": 366, \"preliminary\": 1038, \"prisoner\": 2116, \"sally\": 50, \"payment\": 1537, \"firelight\": 86, \"allegorical\": 47, \"enthusiastic\": 66, \"gather\": 180, \"request\": 3521, \"disease\": 4209, \"crediting\": 53, \"discursive\": 208, \"absurd\": 49, \"rendezvous\": 143, \"occasion\": 2154, \"normally\": 556, \"morocco\": 53, \"recess\": 74, \"settee\": 99, \"text\": 1936, \"charles\": 238, \"incapacitate\": 60, \"hamlet\": 54, \"postdoctoral\": 75, \"portfolio\": 258, \"thicket\": 67, \"supporter\": 461, \"staff\": 1772, \"communism\": 48, \"grabbed\": 47, \"knowledge\": 7638, \"outbuilding\": 41, \"sparks\": 45, \"madman\": 53, \"controls\": 63, \"unfortunates\": 50, \"ambiguity\": 147, \"tropics\": 275, \"communist\": 594, \"inferior\": 607, \"finger\": 1289, \"regularly\": 385, \"peptide\": 216, \"pharmacology\": 149, \"exceptional\": 43, \"beat\": 306, \"photography\": 50, \"bear\": 1740, \"beam\": 3050, \"impatience\": 41, \"drawn\": 1676, \"bead\": 177, \"areas\": 800, \"substrate\": 422, \"organ\": 408, \"rage\": 249, \"fixes\": 42, \"calling\": 544, \"motherhood\": 52, \"excesses\": 54, \"fixed\": 3754, \"conform\": 93, \"omission\": 88, \"constructing\": 60, \"exists\": 1449, \"national\": 7943, \"showdown\": 225, \"we\": 49990, \"yearning\": 266, \"intensity\": 1109, \"theres\": 100, \"enhanced\": 61, \"precautions\": 244, \"liberalization\": 204, \"phases\": 327, \"imposition\": 657, \"turks\": 227, \"attempting\": 1446, \"master's\": 1706, \"clearing\": 351, \"nebula\": 83, \"purses\": 60, \"discounts\": 56, \"difficulties\": 255, \"routine\": 648, \"encamped\": 175, \"progress\": 1117, \"boundary\": 341, \"admiration\": 497, \"voucher\": 74, \"various\": 1348, \"cedars\": 50, \"reproduced\": 159, \"superior\": 2627, \"sorrow\": 63, \"emitted\": 241, \"deliver\": 882, \"placidly\": 53, \"implementing\": 91, \"firmness\": 45, \"users\": 573, \"empathy\": 47, \"instant\": 287, \"asunder\": 53, \"southeast\": 169, \"freely\": 215, \"taking\": 5043, \"thence\": 103, \"equal\": 1144, \"attributed\": 524, \"pulp\": 176, \"fulfilled\": 271, \"assure\": 101, \"manchild\": 57, \"swim\": 59, \"attributes\": 161, \"beak\": 49, \"darker\": 179, \"broom\": 1029, \"glorious\": 1109, \"otherwise\": 607, \"comment\": 724, \"vent\": 662, \"relevant\": 54, \"abortive\": 91, \"disservice\": 68, \"reborn\": 91, \"recompense\": 69, \"harpoon\": 60, \"basing\": 183, \"earning\": 287, \"flourishing\": 110, \"tremendous\": 1489, \"it's\": 3094, \"muddy\": 162, \"mouthpiece\": 92, \"copies\": 858, \"gaze\": 390, \"devoting\": 137, \"lady's\": 42, \"curtain\": 130, \"copied\": 57, \"bellows\": 201, \"anomaly\": 64, \"define\": 412, \"faced\": 1375, \"arises\": 654, \"perplexed\": 161, \"reasonings\": 67, \"stationed\": 232, \"foes\": 44, \"essentially\": 1289, \"bulk\": 94, \"finished\": 504, \"angles\": 948, \"bull\": 150, \"bulb\": 59, \"fellow\": 3440, \"arisen\": 42, \"volunteer\": 670, \"divisions\": 234, \"multi\": 184, \"dyscrasia\": 85, \"survey\": 1972, \"plain\": 1614, \"appearance\": 6804, \"promoter\": 57, \"rectangular\": 387, \"deem\": 58, \"tarsus\": 44, \"promoted\": 252, \"advisable\": 112, \"decrements\": 100, \"paralyzing\": 51, \"lymphokines\": 62, \"respecter\": 45, \"almost\": 6293, \"delusion\": 180, \"helped\": 141, \"arrangements\": 444, \"haunches\": 45, \"arabin\": 51, \"claimed\": 321, \"partner\": 2003, \"arabic\": 44, \"deterrent\": 318, \"tumbled\": 57, \"ventricular\": 202, \"watchful\": 70, \"productivity\": 176, \"supported\": 1358, \"landmarks\": 70, \"administration\": 1037, \"defiant\": 85, \"coronary\": 401, \"brightened\": 62, \"thyrotropin\": 177, \"tumbler\": 218, \"finite\": 2351, \"microsoft\": 113, \"infer\": 165, \"injured\": 104, \"responses\": 647, \"practice\": 2355, \"toil\": 361, \"cubic\": 351, \"reporting\": 186, \"bullying\": 114, \"ion\": 104, \"discredited\": 101, \"breech\": 151, \"variance\": 542, \"judgment\": 4573, \"tighter\": 50, \"pensive\": 56, \"numbered\": 138, \"recourse\": 428, \"center\": 2413, \"neural\": 316, \"nevertheless\": 203, \"restricted\": 1415, \"weapon\": 1032, \"chastisement\": 128, \"thought\": 9422, \"wyf\": 83, \"sets\": 313, \"position\": 27074, \"simile\": 71, \"muscle\": 71, \"soviet\": 1380, \"usual\": 1747, \"stores\": 62, \"excise\": 81, \"pulleys\": 234, \"proximity\": 45, \"executive\": 479, \"domestic\": 779, \"clinic\": 163, \"interim\": 76, \"books\": 1330, \"tior\": 49, \"seats\": 649, \"tough\": 430, \"graduate\": 1359, \"spear\": 246, \"discreditable\": 54, \"absorption\": 332, \"lake\": 874, \"bench\": 1238, \"add\": 1947, \"sedan\": 81, \"citizen\": 4488, \"confederacy\": 45, \"resolved\": 1196, \"tests\": 40, \"worlds\": 495, \"elapsed\": 140, \"royalty\": 118, \"resolves\": 162, \"insert\": 54, \"like\": 39008, \"inviting\": 43, \"poetics\": 214, \"sofa\": 329, \"qualitative\": 579, \"profound\": 4145, \"porous\": 56, \"admitted\": 1449, \"crawley\": 87, \"journalist\": 231, \"works\": 3708, \"soft\": 1607, \"audible\": 135, \"heel\": 44, \"italian\": 102, \"accessible\": 142, \"straightway\": 72, \"classical\": 183, \"pauline\": 180, \"hail\": 88, \"hair\": 1439, \"tony\": 43, \"convey\": 652, \"recommendation\": 103, \"proper\": 5115, \"novelist\": 222, \"supportive\": 116, \"happens\": 901, \"bulbous\": 60, \"shrub\": 229, \"corpse\": 328, \"hurricane\": 159, \"students\": 1895, \"discretion\": 93, \"economical\": 76, \"assuming\": 146, \"transmitted\": 147, \"regain\": 175, \"pepper\": 366, \"hose\": 107, \"proud\": 1599, \"slight\": 4727, \"lieutenant\": 134, \"host\": 1575, \"although\": 1976, \"worthy\": 2112, \"approximating\": 53, \"noisy\": 68, \"beaker\": 178, \"judging\": 85, \"about\": 34999, \"actual\": 2521, \"certainty\": 276, \"introduces\": 190, \"flake\": 49, \"bradwardine\": 69, \"statement\": 10968, \"tomb\": 740, \"introduced\": 1548, \"predictor\": 402, \"baseless\": 50, \"rendered\": 177, \"surplice\": 50, \"submits\": 212, \"gleaner\": 46, \"chronic\": 1529, \"guard\": 849, \"lactic\": 45, \"female\": 920, \"manifests\": 204, \"sheet\": 2427, \"demeanour\": 54, \"signify\": 559, \"ridge\": 662, \"legends\": 42, \"elastic\": 182, \"rushed\": 72, \"stainless\": 277, \"vegetables\": 51, \"outline\": 330, \"condense\": 43, \"awarded\": 833, \"glimmer\": 44, \"biggest\": 316, \"maze\": 40, \"globe\": 261, \"ivory\": 63, \"buy\": 11747, \"enchantment\": 42, \"bus\": 529, \"brand\": 113, \"amity\": 105, \"but\": 46438, \"insured\": 64, \"repeated\": 1137, \"plague\": 253, \"bum\": 204, \"contemptuously\": 44, \"editing\": 106, \"strident\": 186, \"sprawling\": 51, \"assets\": 151, \"usefulness\": 180, \"constitute\": 3163, \"wise\": 1571, \"glory\": 403, \"whitish\": 93, \"dangerous\": 1425, \"j\": 60, \"variations\": 141, \"warmth\": 261, \"waived\": 47, \"duties\": 730, \"trapezoid\": 1754, \"minutes\": 20860, \"skating\": 49, \"penetrating\": 45, \"groom\": 182, \"pin\": 672, \"whisper\": 231, \"circus\": 64, \"pie\": 111, \"pig\": 315, \"crusade\": 245, \"periods\": 209, \"our\": 6877, \"paraguay\": 67, \"pit\": 180, \"campus\": 169, \"halfdozen\": 55, \"revocation\": 110, \"dressed\": 994, \"blighting\": 44, \"detail\": 901, \"virtual\": 249, \"bulstrode\": 48, \"special\": 20865, \"ledge\": 256, \"granite\": 42, \"dresses\": 145, \"wished\": 226, \"dorothea\": 52, \"puzzlement\": 135, \"conveys\": 171, \"semen\": 60, \"draught\": 204, \"sawing\": 150, \"flange\": 353, \"bundle\": 487, \"enlargement\": 262, \"cheque\": 85, \"godsend\": 109, \"turmoil\": 475, \"christians\": 222, \"absurdity\": 92, \"undulating\": 93, \"prevalent\": 47, \"bulwark\": 178, \"starting\": 1964, \"grimmer\": 51, \"dog's\": 44, \"stirrer\": 436, \"pupil\": 822, \"yell\": 176, \"accidents\": 42, \"limited\": 8027, \"legacies\": 63, \"resist\": 321, \"comparatively\": 1312, \"hath\": 677, \"earmarks\": 41, \"sleep\": 971, \"appetite\": 85, \"hate\": 139, \"assembled\": 224, \"undisputed\": 83, \"muzzle\": 122, \"patches\": 55, \"paris\": 968, \"theodolite\": 61, \"striking\": 1483, \"tenacity\": 105, \"tweed\": 172, \"cephalothorax\": 41, \"supreme\": 1491, \"wondrous\": 177, \"merchant\": 447, \"conjecture\": 74, \"landlocked\": 67, \"haughtiness\": 73, \"risk\": 3930, \"hireling\": 49, \"impart\": 59, \"lurk\": 56, \"bosoms\": 63, \"vitreous\": 178, \"every\": 2252, \"gratification\": 53, \"vastly\": 89, \"fireplace\": 45, \"encounter\": 377, \"school\": 16039, \"reciprocal\": 92, \"induction\": 57, \"conceive\": 274, \"hindumuslim\": 43, \"phase\": 2570, \"guiding\": 124, \"enclosing\": 165, \"affectation\": 41, \"barracks\": 51, \"glued\": 44, \"degeneracy\": 114, \"enjoy\": 369, \"veritable\": 198, \"parted\": 62, \"bicycle\": 241, \"leaders\": 144, \"consistent\": 781, \"welfare\": 128, \"feathers\": 113, \"direct\": 22603, \"nail\": 238, \"disciplined\": 100, \"compassed\": 46, \"louder\": 45, \"infiltration\": 139, \"estimated\": 91, \"expressive\": 97, \"shining\": 364, \"blue\": 1894, \"hide\": 131, \"christ\": 1083, \"organisms\": 124, \"solemn\": 571, \"specification\": 263, \"beaten\": 175, \"revolver\": 130, \"liberty\": 842, \"sung\": 111, \"conduct\": 4290, \"supplier\": 441, \"supplies\": 544, \"reluctant\": 65, \"withering\": 67, \"seeks\": 171, \"watercourse\": 47, \"kicked\": 128, \"shattered\": 44, \"stared\": 450, \"delegates\": 52, \"ionization\": 63, \"pate\": 46, \"rampart\": 43, \"humility\": 197, \"represented\": 1611, \"path\": 1382, \"acceptor\": 108, \"digits\": 42, \"connoisseur\": 85, \"forum\": 783, \"luggage\": 59, \"leaves\": 1268, \"changed\": 1126, \"proportioned\": 133, \"published\": 2328, \"saint\": 620, \"mentor\": 122, \"abolition\": 55, \"leaven\": 64, \"fourier\": 262, \"changes\": 820, \"punishment\": 256, \"mutual\": 935, \"prints\": 175, \"stray\": 422, \"straw\": 304, \"purifying\": 55, \"perpetuated\": 58, \"erected\": 425, \"patience\": 109, \"amherst\": 45, \"would\": 67170, \"to\": 1086759, \"hospital\": 2915, \"asset\": 122, \"tradesman\": 52, \"preview\": 117, \"assessment\": 2099, \"breathe\": 609, \"anchorage\": 48, \"grief\": 565, \"phone\": 900, \"correspondingly\": 336, \"crabat\": 44, \"provide\": 21322, \"hogg's\": 48, \"parsee\": 45, \"pouch\": 79, \"must\": 13939, \"me\": 42795, \"mg\": 55, \"join\": 1561, \"advocacy\": 113, \"jocundity\": 49, \"tissue\": 225, \"ms\": 45, \"henry\": 349, \"ernest\": 54, \"appraisal\": 54, \"grenade\": 58, \"fortress\": 438, \"quarrel\": 561, \"inscription\": 483, \"ramifications\": 67, \"estate\": 467, \"ingenuity\": 43, \"dolphin\": 75, \"reach\": 1469, \"sick\": 520, \"overheard\": 220, \"view\": 18804, \"times\": 4245, \"guarantee\": 893, \"ceremony\": 275, \"sneers\": 77, \"end\": 5975, \"stride\": 219, \"enquiry\": 122, \"sitting\": 1675, \"sincerer\": 48, \"lesions\": 121, \"drummer\": 104, \"enquire\": 101, \"low\": 9440, \"adjacent\": 210, \"toxic\": 48, \"gate\": 376, \"widespread\": 247, \"ancestor\": 58, \"charging\": 75, \"dialect\": 321, \"moisten\": 45, \"description\": 12854, \"mess\": 249, \"delicacy\": 223, \"demanding\": 180, \"predicated\": 46, \"jumping\": 111, \"understandable\": 50, \"parallel\": 1886, \"stronghold\": 43, \"splendid\": 1603, \"acknowledged\": 158, \"hypotheses\": 139, \"perform\": 471, \"complexity\": 249, \"jungle\": 184, \"correlation\": 665, \"roused\": 107, \"preventive\": 87, \"vapor\": 606, \"unsteady\": 176, \"executed\": 623, \"interpretation\": 1379, \"alternation\": 65, \"epauletted\": 42, \"london\": 736, \"oven\": 326, \"clapped\": 41, \"beside\": 1308, \"theologian\": 47, \"womanhood\": 46, \"multidisciplinary\": 51, \"expectations\": 187, \"exhibits\": 81, \"writing\": 2909, \"destroyed\": 518, \"drachm\": 65, \"indistinctness\": 65, \"drawback\": 66, \"compelling\": 294, \"strand\": 205, \"croquet\": 42, \"inventory\": 41, \"diseases\": 211, \"prevented\": 581, \"plaster\": 50, \"vessel's\": 47, \"reenactment\": 43, \"washing\": 96, \"hitherto\": 129, \"gloom\": 362, \"randomized\": 163, \"potatoes\": 61, \"shadowy\": 114, \"trustful\": 61, \"herald\": 111, \"filling\": 112, \"victory\": 1256, \"each\": 12414, \"lasting\": 251, \"prohibit\": 107, \"signing\": 47, \"magneto\": 61, \"stockbrokers\": 67, \"hanged\": 42, \"combining\": 411, \"saturday\": 1841, \"driving\": 1159, \"hellenistic\": 94, \"god\": 8954, \"psychic\": 149, \"thousandfold\": 44, \"collaborated\": 51, \"laid\": 990, \"millennium\": 57, \"heavenly\": 56, \"got\": 10069, \"resistor\": 179, \"independence\": 2011, \"splashed\": 89, \"numerical\": 999, \"scottish\": 54, \"associate\": 142, \"rail\": 250, \"jeweller's\": 42, \"eternal\": 80, \"free\": 8129, \"carcase\": 47, \"management\": 1225, \"formation\": 4402, \"rain\": 660, \"skeletal\": 169, \"wanted\": 2520, \"equina\": 100, \"laborer\": 420, \"suburb\": 476, \"denture\": 79, \"inexpensive\": 351, \"days\": 8637, \"priorities\": 47, \"filter\": 429, \"presumptive\": 51, \"labored\": 45, \"hopeless\": 196, \"soda\": 86, \"aspire\": 44, \"scheme\": 2029, \"onto\": 162, \"recite\": 75, \"rang\": 129, \"already\": 7404, \"attractions\": 60, \"coding\": 89, \"bandages\": 45, \"rank\": 603, \"hearing\": 698, \"restrict\": 45, \"fantasy\": 176, \"philosophical\": 630, \"occupancy\": 92, \"selfless\": 87, \"insulation\": 124, \"nip\": 74, \"excommunication\": 70, \"portable\": 80, \"mercury\": 43, \"cheerless\": 148, \"magnificent\": 329, \"toy\": 569, \"revival\": 2039, \"attach\": 242, \"sarcasm\": 45, \"top\": 1953, \"fiction\": 172, \"confirming\": 278, \"ton\": 101, \"too\": 8182, \"tom\": 144, \"corpus\": 194, \"variational\": 82, \"glucose\": 141, \"curtains\": 48, \"ceiling\": 43, \"murder\": 299, \"tool\": 1667, \"serve\": 22233, \"took\": 14618, \"solicitor\": 101, \"wrapped\": 964, \"galba\": 50, \"western\": 454, \"injected\": 165, \"abated\": 43, \"brushed\": 408, \"classed\": 302, \"thy\": 252, \"roles\": 249, \"prong\": 78, \"classes\": 233, \"flame\": 1192, \"company's\": 131, \"paved\": 100, \"countess\": 171, \"bridge\": 2997, \"donkey\": 325, \"fashion\": 2494, \"handkerchief\": 508, \"ran\": 1029, \"ram\": 121, \"selfaddressed\": 41, \"raw\": 286, \"rat\": 262, \"further\": 8134, \"regulate\": 454, \"strolling\": 55, \"seminar\": 193, \"ray\": 135, \"triangle\": 886, \"traditionally\": 135, \"relapse\": 344, \"scriptures\": 58, \"rapacity\": 48, \"thoroughly\": 172, \"isolated\": 119, \"elegance\": 85, \"predominantly\": 69, \"contact\": 820, \"retinoblastoma\": 95, \"laughed\": 180, \"cleft\": 49, \"isolates\": 87, \"effectiveness\": 546, \"rides\": 42, \"reversed\": 192, \"predisposing\": 50, \"incapable\": 42, \"capitalization\": 46, \"though\": 3904, \"denominator\": 54, \"poker\": 276, \"carcinoma\": 63, \"plenty\": 182, \"commanding\": 895, \"coil\": 446, \"coin\": 1624, \"parting\": 317, \"glow\": 658, \"constancy\": 62, \"peers\": 231, \"potency\": 169, \"treats\": 115, \"flop\": 90, \"flow\": 2604, \"treaty\": 2716, \"reputation\": 4310, \"enterprise\": 130, \"rupees\": 92, \"entertaining\": 90, \"kinship\": 126, \"attested\": 249, \"levying\": 41, \"prettie\": 64, \"chariot\": 142, \"bait\": 591, \"inspire\": 46, \"pope\": 3139, \"plectrum\": 86, \"arrayed\": 169, \"sage\": 98, \"aspires\": 194, \"colors\": 46, \"radio\": 1044, \"pardoner\": 68, \"queer\": 298, \"earth\": 1300, \"endowment\": 58, \"availability\": 1309, \"transport\": 270, \"traditions\": 66, \"vache\": 43, \"spite\": 2458, \"morbidity\": 123, \"pacification\": 90, \"ethling\": 56, \"institution\": 1675, \"protonate\": 54, \"supremacy\": 96, \"knuckle\": 49, \"easterly\": 71, \"lodge\": 265, \"interactionist\": 61, \"scripture\": 216, \"continuity\": 100, \"rinsing\": 50, \"mixture\": 6642, \"squeaking\": 59, \"watch\": 949, \"fluid\": 1358, \"congruent\": 106, \"tuberculosis\": 53, \"despite\": 158, \"intermingled\": 155, \"reconstruct\": 402, \"beads\": 153, \"countries\": 1234, \"anxiously\": 115, \"vacancies\": 52, \"twice\": 568, \"shots\": 856, \"subserviency\": 61, \"automatic\": 81, \"thanks\": 88, \"penance\": 43, \"swept\": 596, \"habit\": 1224, \"liquor\": 53, \"parol\": 107, \"proclaims\": 52, \"nun\": 153, \"hairbreadth\": 42, \"showre\": 156, \"submitted\": 7470, \"resigning\": 51, \"corrupt\": 101, \"disturbing\": 40, \"depressive\": 48, \"rarity\": 215, \"correlational\": 57, \"combustion\": 225, \"capacity\": 3368, \"temptation\": 671, \"homeowner\": 134, \"tragical\": 81, \"grandmother\": 131, \"mud\": 462, \"catalogue\": 304, \"discovers\": 55, \"hopefully\": 58, \"bellowing\": 79, \"approach\": 4105, \"discovery\": 936, \"confusion\": 1183, \"weak\": 2866, \"however\": 201, \"leaping\": 57, \"toothbrush\": 46, \"rime\": 51, \"substituant\": 45, \"wear\": 1788, \"censorship\": 98, \"contamination\": 40, \"dedication\": 508, \"news\": 2239, \"vomiting\": 131, \"improve\": 145, \"adapting\": 42, \"goddess\": 471, \"referral\": 130, \"irregular\": 155, \"fault\": 1136, \"extracts\": 43, \"postulate\": 54, \"inconsiderable\": 2084, \"precipitous\": 187, \"subjoin\": 104, \"facet\": 59, \"players\": 61, \"autolysis\": 269, \"games\": 67, \"mildly\": 53, \"faces\": 163, \"sophism\": 118, \"expense\": 982, \"skill\": 923, \"sullivan\": 66, \"epidemic\": 121, \"hast\": 110, \"smuggler\": 57, \"comprehension\": 285, \"majestic\": 96, \"subscribing\": 45, \"trust\": 1930, \"november\": 240, \"bureaucratic\": 54, \"comical\": 44, \"conference\": 3240, \"bathroom\": 209, \"beef\": 415, \"bible\": 299, \"simplification\": 86, \"faltering\": 147, \"been\": 111688, \"quickly\": 326, \"beneficiary\": 86, \"confident\": 177, \"beer\": 51, \"spread\": 1511, \"communion\": 207, \"expected\": 1240, \"teenager\": 161, \"fleeting\": 42, \"loft\": 48, \"drugs\": 127, \"republicans\": 298, \"speeches\": 164, \"uncommon\": 180, \"enterprises\": 132, \"proportional\": 217, \"craft\": 93, \"revised\": 403, \"catch\": 620, \"snipe\": 140, \"scutcheon\": 356, \"lessee\": 54, \"apprehension\": 221, \"n\": 278, \"lesser\": 505, \"thousandth\": 261, \"teachers\": 788, \"stopping\": 64, \"precede\": 109, \"procedure\": 1275, \"preponderant\": 106, \"pyramid\": 102, \"provocative\": 224, \"broth\": 134, \"expenses\": 40, \"brewed\": 44, \"experts\": 284, \"exterior\": 210, \"antidepressants\": 49, \"containing\": 1554, \"nike\": 87, \"suggest\": 1620, \"wound\": 1578, \"forehead\": 3032, \"montesquieu\": 63, \"complex\": 9677, \"boater\": 90, \"bands\": 267, \"several\": 5756, \"inventors\": 114, \"youth\": 614, \"satellite\": 57, \"screw\": 175, \"misery\": 55, \"greeted\": 109, \"action\": 4050, \"gudbrand\": 51, \"characters\": 141, \"mentions\": 46, \"insisted\": 137, \"normalization\": 99, \"cycle\": 265, \"mentioning\": 47, \"mother's\": 380, \"paralysed\": 52, \"reprinted\": 191, \"possessed\": 733, \"fusion\": 1919, \"ocean\": 63, \"savings\": 142, \"hearty\": 939, \"greatest\": 147, \"detained\": 196, \"mother\": 3423, \"hearts\": 61, \"alabama\": 76, \"submarine\": 75, \"possesses\": 198, \"assembling\": 161, \"proposed\": 1261, \"toque\": 59, \"able\": 26284, \"bruise\": 50, \"rodent\": 82, \"plaintiff's\": 450, \"transporting\": 41, \"campbell\": 59, \"depart\": 84, \"scattering\": 1746, \"propitiate\": 62, \"tolerably\": 534, \"forfeiture\": 148, \"monitored\": 47, \"dearer\": 48, \"stent\": 141, \"thick\": 2140, \"vie\": 403, \"pharmacy\": 70, \"urogenital\": 57, \"overemphasize\": 40, \"kelp\": 41, \"rumor\": 66, \"aikin\": 143, \"humanity\": 444, \"gave\": 14562, \"casting\": 478, \"tactic\": 165, \"metaphorical\": 80, \"mounds\": 55, \"advances\": 68, \"sulphuric\": 82, \"cultural\": 1712, \"quicksand\": 111, \"newcastle\": 83, \"judge\": 1904, \"burns\": 744, \"willful\": 89, \"advanced\": 1820, \"apart\": 1054, \"appearing\": 58, \"gift\": 2569, \"zeal\": 273, \"contradict\": 67, \"gifted\": 50, \"excitant\": 59, \"mosquito\": 48, \"arbitrary\": 180, \"hung\": 826, \"iroquois\": 106, \"lecturer\": 1225, \"rustling\": 100, \"detraction\": 143, \"refinement\": 174, \"successfully\": 310, \"spongy\": 40, \"viz\": 60, \"meters\": 353, \"election\": 1292, \"escape\": 283, \"peacemaker\": 111, \"tremor\": 283, \"indirect\": 143, \"contests\": 66, \"stools\": 72, \"intellect\": 55, \"exotoxin\": 44, \"nobleman\": 329, \"embodied\": 223, \"proceeding\": 182, \"clash\": 60, \"crowns\": 54, \"armed\": 92, \"companions\": 54, \"ice\": 350, \"everything\": 1268, \"convict\": 42, \"subordination\": 101, \"christmas\": 1277, \"icu\": 49, \"officer\": 1556, \"cord\": 145, \"core\": 852, \"technicality\": 194, \"corn\": 261, \"night\": 7019, \"cork\": 43, \"discount\": 169, \"newcomer\": 215, \"permitted\": 712, \"garnished\": 41, \"cauld\": 297, \"mimosa\": 43, \"limitation\": 890, \"census\": 207, \"collectivity\": 194, \"cowboy\": 47, \"attacks\": 249, \"rim\": 265, \"dinner\": 3244, \"misleading\": 106, \"coiled\": 68, \"monocytogenes\": 167, \"rigor\": 44, \"efforts\": 62, \"twitch\": 102, \"duke\": 395, \"primitive\": 502, \"respondent\": 115, \"civic\": 47, \"civil\": 3919, \"puzzle\": 384, \"obtaining\": 3480, \"bath\": 837, \"accommodate\": 94, \"finely\": 128, \"tribune\": 140, \"dissenting\": 159, \"cafeteria\": 123, \"rounds\": 55, \"existed\": 775, \"rely\": 219, \"git\": 54, \"undeservedly\": 113, \"vaccination\": 47, \"indispensable\": 241, \"nunez\": 103, \"personage\": 151, \"sunlight\": 96, \"why\": 3011, \"stuck\": 379, \"fought\": 454, \"rapped\": 46, \"metabolism\": 329, \"synthesis\": 260, \"questionable\": 243, \"head\": 9845, \"medium\": 2968, \"comicality\": 52, \"attempted\": 657, \"visitation\": 248, \"differences\": 103, \"removes\": 65, \"payable\": 214, \"heat\": 1318, \"illuminating\": 67, \"hear\": 3965, \"satisfactorily\": 57, \"heap\": 622, \"sustained\": 377, \"removed\": 962, \"nodded\": 141, \"refreshing\": 3137, \"counsel\": 403, \"glottis\": 301, \"portions\": 192, \"bargain\": 386, \"ruined\": 359, \"retire\": 81, \"supersensible\": 131, \"phosphate\": 359, \"submitting\": 218, \"usher\": 67, \"zodiac\": 40, \"penal\": 71, \"trim\": 142, \"trio\": 41, \"knight's\": 52, \"forearm\": 549, \"fury\": 255, \"despotism\": 80, \"cobbler\": 79, \"shines\": 175, \"check\": 2785, \"liberalism\": 87, \"constructed\": 699, \"pipe\": 1149, \"faithful\": 1183, \"no\": 30340, \"moment's\": 635, \"nc\": 83, \"tip\": 195, \"loosening\": 61, \"junta\": 54, \"tin\": 51, \"setting\": 2833, \"rapidity\": 68, \"papers\": 2873, \"formalize\": 78, \"tie\": 1282, \"depot\": 110, \"erosion\": 484, \"pseudonym\": 79, \"eternity\": 50, \"picture\": 6465, \"grasps\": 96, \"permitting\": 46, \"superposition\": 106, \"tasteful\": 46, \"preceding\": 360, \"football\": 334, \"uniformly\": 309, \"geneticist\": 241, \"twain\": 62, \"rising\": 1249, \"discharge\": 942, \"thorax\": 110, \"younger\": 760, \"meteor\": 42, \"apologizing\": 65, \"faster\": 290, \"bullet\": 3582, \"withhold\": 70, \"uncovered\": 241, \"fasted\": 47, \"spade\": 195, \"crosssectional\": 298, \"serious\": 11026, \"intimacy\": 124, \"backward\": 148, \"bridport\": 58, \"coach\": 161, \"heriot\": 47, \"remarkable\": 2593, \"affair\": 1242, \"rob\": 122, \"particular\": 21805, \"rod\": 530, \"focus\": 2474, \"livelihood\": 2523, \"adjective\": 69, \"tripartite\": 106, \"snit\": 56, \"computation\": 126, \"disjuncture\": 88, \"remarkably\": 311, \"fusing\": 70, \"row\": 2145, \"turbid\": 73, \"essentials\": 197, \"contemplating\": 213, \"passage\": 2819, \"environment\": 921, \"charge\": 5597, \"trustees\": 47, \"promoting\": 318, \"determinations\": 318, \"sceptical\": 59, \"discovering\": 185, \"sing\": 435, \"stove\": 67, \"imposture\": 47, \"federation\": 172, \"advantage\": 2517, \"cantilever\": 83, \"egmont\": 46, \"frequencies\": 500, \"hatter\": 449, \"congregation\": 398, \"placebo\": 100, \"cook\": 240, \"roving\": 240, \"cool\": 95, \"unruliness\": 45, \"denounced\": 44, \"cortical\": 142, \"clouds\": 199, \"impressive\": 143, \"level\": 13876, \"philippines\": 221, \"posts\": 143, \"brother\": 1141, \"cloudy\": 42, \"standards\": 50, \"couched\": 283, \"brothel\": 47, \"starlit\": 43, \"yale\": 50, \"quick\": 2013, \"lever\": 437, \"accumulation\": 74, \"tenths\": 251, \"seaweed\": 51, \"pork\": 57, \"illustrating\": 206, \"ixion\": 58, \"superabundance\": 127, \"baled\": 51, \"exasperates\": 143, \"widened\": 46, \"dried\": 162, \"chicken\": 108, \"substitute\": 1937, \"hymn\": 418, \"nonsuit\": 44, \"constitution\": 2015, \"agrees\": 47, \"lt\": 136, \"goes\": 8301, \"reply\": 3204, \"amounting\": 59, \"hairy\": 80, \"tabulation\": 62, \"alkaline\": 40, \"hairs\": 197, \"superstitions\": 49, \"water\": 12830, \"attainment\": 50, \"unanimously\": 340, \"baseball\": 94, \"twentieth\": 40, \"groups\": 760, \"hoarse\": 374, \"dissipated\": 55, \"disappeared\": 482, \"male\": 1110, \"boast\": 187, \"healthy\": 1162, \"pearls\": 117, \"guilty\": 2435, \"restructuring\": 64, \"marble\": 257, \"hospitality\": 244, \"potable\": 100, \"navigation\": 61, \"emerge\": 315, \"convolution\": 78, \"humour\": 387, \"problematic\": 190, \"chaired\": 212, \"shark\": 138, \"morale\": 64, \"jewess\": 61, \"maelstrom\": 44, \"islet\": 50, \"surff\": 110, \"crisis\": 2606, \"yourself\": 720, \"handled\": 397, \"waals\": 168, \"scan\": 98, \"athens\": 85, \"sports\": 171, \"theme\": 1065, \"prey\": 234, \"criteria\": 2174, \"negroes\": 87, \"australian\": 401, \"symmetrical\": 62, \"today\": 1340, \"chapter\": 2878, \"conductor\": 891, \"clicking\": 60, \"suggestions\": 99, \"libre\": 62, \"fuel\": 353, \"dismal\": 157, \"lotte\": 43, \"cases\": 4246, \"states\": 5162, \"sphere\": 1132, \"julius\": 50, \"thousands\": 184, \"modified\": 118, \"districts\": 583, \"minimum\": 6910, \"mortality\": 394, \"ferry\": 52, \"laughter\": 95, \"newspapers\": 62, \"numbers\": 1520, \"viceroy\": 44, \"corrupted\": 105, \"figure\": 5408, \"downfall\": 225, \"nexus\": 302, \"irruption\": 61, \"unarmed\": 66, \"critic\": 332, \"dropped\": 1452, \"provoke\": 51, \"hydrogen\": 406, \"parliamentary\": 156, \"bigot\": 225, \"requirements\": 269, \"inheritance\": 167, \"secured\": 206, \"eloquent\": 188, \"innumerable\": 89, \"vital\": 771, \"cardinal\": 542, \"fillip\": 50, \"fourth\": 1181, \"ensure\": 768, \"condemn\": 55, \"secures\": 62, \"demoniacal\": 51, \"levy\": 92, \"paramount\": 102, \"cocktail\": 116, \"information\": 10224, \"fascist\": 40, \"digesting\": 71, \"clone\": 59, \"granddaughter\": 111, \"eighty\": 246, \"fascism\": 59, \"tenancy\": 48, \"birthday\": 189, \"trickling\": 96, \"typewritten\": 58, \"floral\": 74, \"apprenticeship\": 154, \"curing\": 114, \"steal\": 733, \"classroom\": 344, \"branches\": 352, \"awkward\": 124, \"commodity\": 1073, \"inform\": 275, \"annealing\": 40, \"ones\": 643, \"glancing\": 52, \"lagoon\": 155, \"representation\": 1923, \"turnpikes\": 44, \"exclusive\": 152, \"comfort\": 2681, \"marguerite\": 60, \"estuary\": 45, \"furnished\": 1294, \"mainly\": 169, \"konigsberg\": 100, \"furnishes\": 91, \"sauve\": 403, \"relinquishes\": 85, \"motions\": 101, \"rapport\": 41, \"worship\": 660, \"blocked\": 43, \"supplemented\": 441, \"wallace\": 57, \"he's\": 288, \"organisation\": 45, \"presence\": 3343, \"abhorred\": 51, \"coordinates\": 427, \"platform\": 1331, \"offers\": 3362, \"farmer\": 384, \"coordinated\": 101, \"defendant's\": 74, \"cutter\": 55, \"lonely\": 1365, \"qualifies\": 230, \"monopolistic\": 180, \"processes\": 829, \"delighted\": 51, \"warranted\": 136, \"qualified\": 442, \"hamilton\": 55, \"endeavored\": 136, \"producing\": 483, \"acetone\": 1423, \"wagon\": 178, \"blueprints\": 45, \"equality\": 279, \"name\": 13102, \"realist\": 48, \"opera\": 40, \"clutch\": 110, \"invents\": 86, \"possibilities\": 99, \"realistic\": 1509, \"realise\": 122, \"individually\": 74, \"hydroxide\": 78, \"secondary\": 2502, \"populated\": 45, \"divisional\": 82, \"dejected\": 59, \"ejaculation\": 111, \"catching\": 154, \"farewell\": 398, \"begun\": 694, \"distributor\": 62, \"phalanx\": 110, \"sunrise\": 51, \"hysteria\": 76, \"ultimately\": 322, \"america's\": 98, \"concur\": 66, \"intercourse\": 289, \"factors\": 1030, \"profit\": 2882, \"tensions\": 40, \"middleman\": 53, \"factory\": 1354, \"ejb\": 58, \"attracted\": 360, \"hacked\": 334, \"sweet\": 221, \"overflowing\": 96, \"cloves\": 200, \"eagle\": 47, \"attended\": 632, \"theory\": 6481, \"booby\": 49, \"hull\": 48, \"satanic\": 56, \"dispatched\": 92, \"electrified\": 115, \"proprietorship\": 55, \"flyer\": 66, \"curable\": 129, \"notary\": 293, \"aragonese\": 44, \"inconsistent\": 78, \"accommodation\": 107, \"delude\": 58, \"mantegazza\": 198, \"widow's\": 109, \"impose\": 757, \"calories\": 179, \"gusto\": 40, \"motion\": 1695, \"strange\": 5398, \"place\": 36347, \"nephrotic\": 203, \"foamless\": 72, \"turf\": 42, \"unborn\": 53, \"truer\": 371, \"childhood\": 418, \"origin\": 358, \"ballpoint\": 40, \"sneezing\": 147, \"surviving\": 129, \"predictive\": 654, \"baker's\": 57, \"faculty\": 523, \"accruing\": 87, \"shedding\": 42, \"transform\": 317, \"clumsy\": 99, \"commissioners\": 185, \"generative\": 52, \"array\": 1313, \"george\": 677, \"engineer\": 609, \"disinterested\": 95, \"given\": 28978, \"necessarily\": 265, \"humiliation\": 196, \"district\": 715, \"plastic\": 920, \"cooling\": 93, \"conservation\": 61, \"chastity\": 71, \"bounty\": 94, \"legally\": 102, \"politian\": 67, \"gives\": 4706, \"hue\": 84, \"hug\": 925, \"cope\": 1471, \"hum\": 170, \"circulated\": 68, \"alan\": 79, \"hut\": 116, \"released\": 239, \"girded\": 471, \"copy\": 12238, \"disequilibrium\": 170, \"population\": 4884, \"petrified\": 47, \"unfortunately\": 167, \"was\": 393359, \"require\": 3626, \"diplomatic\": 214, \"modelled\": 142, \"serf\": 115, \"accused\": 760, \"aesthetic\": 440, \"cards\": 670, \"marines\": 69, \"outcome\": 2722, \"oath\": 94, \"medullary\": 142, \"powder\": 218, \"and\": 562238, \"twisting\": 221, \"rend\": 124, \"generality\": 168, \"pro\": 157, \"generalization\": 900, \"medical\": 1922, \"mates\": 55, \"pastime\": 42, \"rent\": 1873, \"sells\": 357, \"any\": 10637, \"batting\": 42, \"superman\": 55, \"prosperity\": 104, \"conversion\": 143, \"wanderer\": 192, \"farmer's\": 59, \"lf\": 172, \"ideas\": 1698, \"wandered\": 124, \"dining\": 165, \"emphasis\": 335, \"skull\": 462, \"fracture\": 138, \"nazareth\": 140, \"prevalence\": 268, \"new\": 138511, \"paraphrase\": 108, \"blunt\": 40, \"skilful\": 101, \"commonplace\": 40, \"multiple\": 648, \"numher\": 69, \"clearer\": 549, \"equinocciales\": 112, \"falls\": 99, \"boiling\": 694, \"donation\": 61, \"indelibly\": 55, \"fortnight's\": 279, \"stormed\": 51, \"clatter\": 53, \"cleared\": 708, \"icon\": 45, \"tendon\": 181, \"discarding\": 78, \"adopt\": 928, \"pores\": 74, \"senior\": 308, \"quantity\": 7569, \"detective\": 124, \"perpetrated\": 55, \"permeable\": 81, \"convoy\": 113, \"solar\": 183, \"cheat\": 51, \"workshops\": 61, \"cheap\": 733, \"trespass\": 84, \"bucklers\": 60, \"shibboleth\": 72, \"trot\": 255, \"gulf\": 276, \"genius\": 1844, \"state\": 41661, \"crime\": 4974, \"gulp\": 270, \"wood\": 1077, \"believing\": 799, \"wool\": 83, \"centrally\": 137, \"lighted\": 755, \"presbyterian\": 615, \"fatherly\": 55, \"horrible\": 893, \"begging\": 122, \"expectation\": 598, \"clerks\": 83, \"strafing\": 56, \"hedge\": 142, \"installed\": 216, \"treachery\": 151, \"cautionary\": 158, \"reveal\": 155, \"entomologists\": 55, \"workman\": 144, \"naked\": 149, \"barbaric\": 56, \"paper\": 7466, \"predicted\": 51, \"mapped\": 45, \"spaniard\": 91, \"scott\": 417, \"pants\": 42, \"discussing\": 411, \"ignored\": 291, \"beethoven\": 54, \"picnic\": 97, \"imposing\": 792, \"professes\": 500, \"violated\": 50, \"connections\": 122, \"college\": 3907, \"slashing\": 54, \"obliging\": 248, \"apologies\": 117, \"collects\": 198, \"professed\": 131, \"cat's\": 86, \"fails\": 520, \"invoked\": 189, \"voluntary\": 442, \"mortgage\": 381, \"crystal\": 57, \"federal\": 4233, \"subsequent\": 249, \"review\": 3398, \"diode\": 148, \"its\": 19415, \"weapons\": 124, \"keg\": 49, \"outside\": 1370, \"john\": 244, \"hiss\": 42, \"reproducible\": 73, \"prentice\": 45, \"tours\": 46, \"arrival\": 301, \"multiplied\": 274, \"warding\": 59, \"rumours\": 71, \"originated\": 48, \"fearless\": 49, \"guitar\": 40, \"disdainful\": 46, \"comb\": 204, \"come\": 14979, \"grieved\": 70, \"originates\": 66, \"reaction\": 2413, \"secession\": 89, \"acquiring\": 81, \"missions\": 43, \"region\": 1950, \"priests\": 102, \"recumbent\": 201, \"quiet\": 2215, \"contract\": 4860, \"propagation\": 44, \"berry\": 71, \"senator\": 539, \"railway\": 952, \"aretas\": 57, \"duty\": 4916, \"pakistan\": 66, \"afterwards\": 309, \"prayed\": 47, \"bricks\": 74, \"armchair\": 195, \"pot\": 596, \"colony\": 1395, \"period\": 41410, \"insist\": 271, \"resentment\": 273, \"satisfaction\": 294, \"pole\": 2939, \"colon\": 252, \"endeavor\": 46, \"poll\": 64, \"runaway\": 54, \"beareth\": 64, \"subscribed\": 48, \"scandalous\": 72, \"attendeth\": 41, \"subscribes\": 80, \"deposited\": 479, \"peaceful\": 677, \"coups\": 72, \"cords\": 151, \"confessions\": 48, \"hardly\": 3082, \"schoolboy\": 142, \"engine\": 517, \"direction\": 3560, \"blessing\": 1770, \"wretched\": 404, \"tiger\": 109, \"minister\": 1310, \"careful\": 2724, \"spirit\": 6109, \"pilot\": 558, \"case\": 38325, \"shaft\": 85, \"myself\": 1858, \"washington\": 384, \"amend\": 79, \"mount\": 601, \"embodying\": 52, \"thigh\": 80, \"cash\": 595, \"premature\": 42, \"cast\": 1835, \"mound\": 334, \"interconnected\": 89, \"formalin\": 100, \"vest\": 68, \"crusader\": 117, \"coupled\": 183, \"contrive\": 64, \"telephone\": 423, \"discrepancy\": 437, \"inconsequently\": 44, \"volition\": 73, \"helmet\": 142, \"revolutions\": 1413, \"participant\": 637, \"vivid\": 738, \"author\": 2014, \"granted\": 4013, \"seeking\": 1300, \"bowl\": 1160, \"injurious\": 45, \"curacy\": 96, \"democratical\": 61, \"agitated\": 116, \"reminder\": 1202, \"physical\": 2174, \"events\": 758, \"hermit\": 171, \"status\": 2904, \"males\": 105, \"vivendi\": 62, \"nest\": 462, \"refusal\": 146, \"driver\": 241, \"muffled\": 130, \"weed\": 170, \"driven\": 553, \"devoid\": 101, \"fowls\": 43, \"lamentation\": 200, \"lute\": 54, \"arose\": 673, \"statue\": 741, \"changing\": 1773, \"cartoon\": 58, \"implements\": 47, \"fasting\": 140, \"weakened\": 166, \"pennsylvania\": 119, \"caressing\": 64, \"delectable\": 47, \"magical\": 102, \"without\": 11581, \"relief\": 5466, \"components\": 303, \"inability\": 974, \"albaycin\": 61, \"model\": 17326, \"reward\": 2141, \"nb\": 56, \"bodies\": 487, \"justify\": 537, \"stammering\": 62, \"clog\": 168, \"captures\": 46, \"guided\": 560, \"actions\": 208, \"clot\": 158, \"oxford\": 114, \"violent\": 700, \"cease\": 208, \"polish\": 96, \"therefrom\": 72, \"tis\": 52, \"perilous\": 128, \"captured\": 498, \"halfway\": 40, \"blow\": 3130, \"announcement\": 47, \"blot\": 100, \"widest\": 367, \"feminist\": 205, \"rose\": 1237, \"seems\": 2631, \"except\": 1284, \"shrine\": 147, \"rosy\": 41, \"samples\": 2878, \"poised\": 46, \"sucked\": 55, \"feminism\": 446, \"kingdom\": 1938, \"kills\": 177, \"widow\": 1336, \"delhi\": 44, \"preferred\": 90, \"virginia\": 455, \"roods\": 44, \"test\": 5076, \"inflation\": 54, \"relinquishment\": 154, \"styled\": 51, \"confined\": 1971, \"accepted\": 1101, \"furniture\": 342, \"acute\": 409, \"standstill\": 762, \"particle\": 685, \"aqueous\": 158, \"proconsul\": 44, \"reduces\": 68, \"strictly\": 111, \"tower\": 1154, \"reduced\": 2753, \"node\": 628, \"shillings\": 130, \"competition\": 529, \"reagent\": 103, \"table\": 6050, \"canteen\": 48, \"musician\": 503, \"pulmonary\": 397, \"developmental\": 185, \"slice\": 411, \"mood\": 1899, \"prolific\": 128, \"renounce\": 77, \"token\": 434, \"legal\": 2385, \"moon\": 1642, \"aguish\": 97, \"buddha\": 546, \"imputed\": 128, \"provides\": 2366, \"provider\": 311, \"porter\": 277, \"freed\": 192, \"verses\": 104, \"welcome\": 1037, \"liquid\": 5101, \"itching\": 72, \"inspect\": 46, \"communicate\": 237, \"backbiter\": 40, \"slaughter\": 525, \"intrusted\": 529, \"royall\": 58, \"journeyman\": 289, \"nasogastric\": 108, \"parishioners\": 49, \"absorbance\": 141, \"resurrection\": 363, \"purse\": 129, \"affording\": 43, \"stereotypes\": 47, \"on\": 207050, \"subdued\": 59, \"clergyman's\": 88, \"zealous\": 533, \"of\": 2589891, \"paralysis\": 48, \"discussed\": 524, \"brittany\": 200, \"mutually\": 1407, \"whence\": 44, \"neurodegenerative\": 55, \"subdues\": 58, \"stand\": 3885, \"scornful\": 108, \"hindu\": 116, \"concentrations\": 177, \"gregory\": 51, \"discusses\": 151, \"or\": 119699, \"op\": 225, \"amber\": 55, \"tribe\": 822, \"ladies\": 67, \"communication\": 2728, \"augustus\": 88, \"cursed\": 148, \"spinal\": 133, \"accounts\": 81, \"determine\": 1127, \"syringe\": 49, \"begged\": 65, \"diftance\": 45, \"feudal\": 54, \"theoretically\": 167, \"mental\": 2488, \"backwater\": 164, \"calamities\": 221, \"omega\": 112, \"speculators\": 163, \"there\": 160031, \"disposed\": 190, \"cultured\": 120, \"christianity\": 372, \"dispersion\": 147, \"ferris\": 254, \"nitric\": 132, \"cultures\": 51, \"disposes\": 112, \"valley\": 915, \"equated\": 56, \"fish\": 475, \"catholics\": 41, \"illuminated\": 42, \"vested\": 268, \"irradiating\": 45, \"amongst\": 982, \"cabinet\": 371, \"strenuous\": 62, \"promote\": 667, \"voyages\": 532, \"longer\": 9174, \"terminus\": 106, \"applying\": 373, \"moustaches\": 51, \"fabricate\": 56, \"multiplicity\": 669, \"grasp\": 1348, \"grass\": 650, \"inoculation\": 55, \"obtains\": 64, \"castles\": 88, \"autoimmune\": 163, \"wretches\": 139, \"cinema\": 283, \"taste\": 1980, \"measurement\": 507, \"contributory\": 872, \"shoulders\": 1315, \"britain\": 1178, \"together\": 6793, \"ingeniously\": 67, \"orchards\": 72, \"corresponding\": 1552, \"encompass\": 750, \"bishop\": 640, \"abyss\": 64, \"fiddler\": 53, \"heather\": 77, \"idiot\": 50, \"deserve\": 137, \"compel\": 87, \"erecting\": 274, \"rubber\": 321, \"idiom\": 70, \"narrowing\": 47, \"vietnam\": 124, \"heathen\": 90, \"residence\": 450, \"stalwart\": 251, \"immunity\": 69, \"preoccupation\": 1053, \"deviation\": 197, \"briefly\": 317, \"oneself\": 166, \"collaborative\": 70, \"separate\": 5836, \"symbol\": 1873, \"souls\": 55, \"cove\": 42, \"includes\": 2201, \"commutator\": 56, \"courtly\": 53, \"bounded\": 560, \"recognise\": 46, \"included\": 1048, \"brass\": 105, \"spouse\": 1066, \"psychology\": 605, \"semicircle\": 366, \"booked\": 64, \"dextrous\": 42, \"applause\": 53, \"calls\": 1658, \"wife\": 7248, \"invest\": 259, \"odds\": 83, \"curve\": 1184, \"barcelona\": 98, \"reproduce\": 340, \"directors\": 288, \"prolegomena\": 81, \"treason\": 57, \"sensed\": 51, \"trooper\": 64, \"all\": 22553, \"lace\": 140, \"chinese\": 1156, \"lack\": 5501, \"executing\": 51, \"scalar\": 95, \"disc\": 665, \"generalize\": 56, \"smoking\": 158, \"dish\": 966, \"follow\": 1227, \"meditation\": 66, \"disk\": 696, \"decisions\": 1782, \"barony\": 162, \"synthetic\": 865, \"glimpse\": 3363, \"apartment\": 73, \"lining\": 67, \"subjected\": 2698, \"regulars\": 416, \"participants\": 130, \"opportunities\": 268, \"removal\": 745, \"diluting\": 153, \"matrix\": 1080, \"program\": 10676, \"present\": 7522, \"stochastic\": 262, \"crest\": 64, \"activities\": 548, \"belonging\": 2210, \"fay\": 44, \"incorporate\": 147, \"ministerial\": 74, \"egyptian\": 66, \"far\": 8946, \"facetious\": 42, \"fat\": 326, \"print\": 194, \"novel\": 2981, \"fan\": 242, \"awful\": 47, \"ticket\": 223, \"enter\": 2833, \"fad\": 184, \"treating\": 313, \"leads\": 2402, \"sentimental\": 500, \"hamiltonian\": 198, \"stimulus\": 473, \"regiments\": 49, \"list\": 8339, \"prolonged\": 449, \"occurs\": 3437, \"singularly\": 95, \"supplement\": 615, \"subscript\": 344, \"becket\": 52, \"programme\": 1245, \"employing\": 44, \"rats\": 640, \"ten\": 2205, \"tea\": 700, \"rate\": 10961, \"invention\": 104, \"design\": 2347, \"functioning\": 105, \"speculator\": 72, \"what\": 17439, \"nonlinear\": 172, \"tenor\": 155, \"sub\": 47, \"advantageous\": 558, \"reception\": 781, \"deeply\": 1225, \"sum\": 3825, \"crust\": 329, \"eminent\": 369, \"crush\": 229, \"importer\": 146, \"version\": 2818, \"attitudes\": 243, \"fathoms\": 54, \"whan\": 83, \"brier\": 238, \"racing\": 54, \"guns\": 57, \"multitude\": 2815, \"layers\": 102, \"condensed\": 64, \"christian\": 5945, \"eligibility\": 226, \"behaviour\": 166, \"drudgery\": 55, \"condenser\": 231, \"compressed\": 89, \"relaxation\": 140, \"directions\": 217, \"equations\": 307, \"tragedy\": 748, \"clarification\": 291, \"pleasant\": 2835, \"mythology\": 58, \"naval\": 147, \"difficulty\": 1783, \"identifiable\": 42, \"deities\": 92, \"marchfeld\": 58, \"outposts\": 48, \"tramping\": 46, \"options\": 63, \"elongated\": 51, \"proxy\": 809, \"sticking\": 79, \"flash\": 2133, \"members\": 5594, \"suddenly\": 1406, \"imagine\": 1412, \"textual\": 40, \"texts\": 100, \"semester\": 100, \"fearfully\": 57, \"algonquins\": 50, \"theatrical\": 327, \"proceed\": 1134, \"harlequin\": 108, \"faint\": 669, \"wield\": 46, \"permanently\": 48, \"branded\": 94, \"unthinkable\": 134, \"minor\": 7785, \"horses\": 269, \"flat\": 2264, \"darting\": 59, \"flap\": 73, \"immersion\": 158, \"glas\": 193, \"tusk\": 63, \"pairs\": 123, \"flag\": 622, \"basically\": 320, \"known\": 5965, \"glad\": 121, \"debater\": 44, \"debates\": 165, \"profaneness\": 106, \"equation\": 1024, \"holocaust\": 303, \"excursion\": 44, \"sensuality\": 58, \"prehistory\": 138, \"embarrassing\": 63, \"challenging\": 247, \"division\": 982, \"abandonment\": 168, \"imitation\": 1744, \"arise\": 307, \"libertarian\": 46, \"pond\": 172, \"cultivate\": 63, \"concordat\": 61, \"influenced\": 168, \"court\": 5994, \"goal\": 1873, \"ordinance\": 132, \"breaking\": 260, \"exalted\": 164, \"occasionally\": 124, \"influences\": 45, \"noninvasive\": 88, \"explains\": 60, \"goat\": 1166, \"simplicity\": 297, \"cytokine\": 45, \"prepayment\": 107, \"obituary\": 177, \"anecdote\": 114, \"fungus\": 234, \"replace\": 95, \"catalog\": 49, \"adventure\": 701, \"trademark\": 235, \"concentrating\": 50, \"castle\": 1050, \"proclaimed\": 709, \"penitentiary\": 61, \"profited\": 1841, \"dissolving\": 45, \"short\": 25160, \"chiefly\": 393, \"shady\": 121, \"departure\": 1074, \"supervision\": 384, \"strutting\": 100, \"shore\": 666, \"grande\": 122, \"shade\": 693, \"shorn\": 296, \"cruelties\": 42, \"unsartain\": 40, \"divergences\": 46, \"laboratory\": 209, \"developed\": 4653, \"refractive\": 59, \"insuring\": 61, \"mission\": 1610, \"scientist\": 51, \"pretext\": 522, \"avenue\": 333, \"trouble\": 1078, \"islam\": 747, \"style\": 1967, \"propensity\": 86, \"susceptible\": 153, \"inward\": 105, \"abbey\": 446, \"mattress\": 64, \"resort\": 454, \"parts\": 4074, \"speaker\": 870, \"bout\": 44, \"soccer\": 75, \"might\": 9900, \"alter\": 45, \"waistcloth\": 98, \"accompli\": 188, \"pedigree\": 52, \"return\": 16222, \"kingly\": 50, \"persecutions\": 44, \"hunter\": 333, \"framework\": 2314, \"tilings\": 84, \"asserting\": 123, \"communities\": 83, \"nucleus\": 195, \"bigger\": 363, \"marcus\": 43, \"schoolteacher\": 83, \"stated\": 867, \"mathematician\": 68, \"nephews\": 45, \"policeman\": 172, \"utilized\": 74, \"privileged\": 136, \"inequality\": 115, \"mastered\": 45, \"letting\": 127, \"accommodated\": 68, \"residing\": 81, \"friendship\": 229, \"characterized\": 1390, \"reigned\": 49, \"pirates\": 72, \"formulate\": 256, \"needless\": 46, \"generation\": 2900, \"colder\": 42, \"notochord\": 102, \"duchess\": 50, \"culminating\": 43, \"undertake\": 2199, \"loops\": 285, \"organised\": 99, \"reanalysed\": 96, \"seditious\": 72, \"turbidity\": 66, \"cups\": 352, \"loudly\": 113, \"hydraulic\": 238, \"disbelieves\": 66, \"reverend\": 72, \"health\": 2828, \"hill\": 1176, \"shipment\": 63, \"paradise\": 328, \"congenial\": 154, \"induced\": 141, \"huntsman\": 62, \"benjamin\": 118, \"hailing\": 54, \"fiber\": 268, \"boldness\": 49, \"razor\": 41, \"platitude\": 112, \"friday\": 222, \"guess\": 1871, \"diploma\": 3223, \"cookie\": 71, \"organising\": 152, \"heads\": 126, \"teach\": 1112, \"generate\": 8461, \"lag\": 334, \"jew\": 358, \"blister\": 94, \"galactose\": 136, \"thread\": 463, \"woven\": 409, \"year's\": 392, \"tributaries\": 102, \"prejudice\": 1232, \"circuit\": 1682, \"twenty\": 853, \"consequence\": 20359, \"fallen\": 1080, \"throws\": 323, \"bushel\": 100, \"dine\": 56, \"seeming\": 310, \"feel\": 6618, \"radical\": 1294, \"fancy\": 981, \"traveled\": 776, \"feet\": 2957, \"sympathy\": 1060, \"enlarged\": 94, \"revolution\": 2393, \"defects\": 64, \"blank\": 70, \"says\": 630, \"distributive\": 88, \"blanc\": 53, \"passes\": 513, \"story\": 25358, \"scathing\": 114, \"unfavorable\": 146, \"script\": 324, \"leading\": 3908, \"financed\": 133, \"regulation\": 704, \"exhortation\": 67, \"strategy\": 1006, \"steals\": 53, \"passed\": 6079, \"sware\": 51, \"aristocracy\": 50, \"recovered\": 623, \"headache\": 123, \"attendants\": 55, \"injunction\": 212, \"option\": 545, \"pump\": 418, \"churchwardens\": 59, \"exploded\": 210, \"hotel\": 1633, \"optical\": 105, \"stumblingblock\": 75, \"rifle\": 313, \"convinced\": 158, \"albeit\": 303, \"kind\": 31956, \"backwoodsman\": 45, \"nagging\": 166, \"vial\": 185, \"double\": 3148, \"instruction\": 324, \"kink\": 51, \"aims\": 134, \"stall\": 79, \"cuff\": 135, \"insulted\": 326, \"outdoors\": 62, \"shrike\": 46, \"risky\": 49, \"amass\": 40, \"silence\": 2379, \"motivation\": 163, \"exert\": 302, \"strengthen\": 121, \"suspicious\": 93, \"shrewd\": 179, \"decadent\": 92, \"gale\": 220, \"gala\": 1521, \"cleaned\": 54, \"salutary\": 107, \"nights\": 560, \"secretariat\": 109, \"tired\": 281, \"port\": 838, \"moist\": 150, \"chairman\": 198, \"flexure\": 64, \"finding\": 2556, \"donor\": 347, \"pianist\": 44, \"weltering\": 333, \"added\": 2203, \"electric\": 269, \"coterie\": 57, \"reckon\": 79, \"park\": 1380, \"inconvenience\": 50, \"eruption\": 99, \"reunited\": 53, \"react\": 184, \"cigarette\": 762, \"shareholder\": 227, \"enduring\": 105, \"undertaken\": 746, \"nothing\": 3275, \"seasons\": 1318, \"pouncing\": 48, \"measured\": 801, \"achievement\": 455, \"stands\": 456, \"polyethylene\": 119, \"mineral\": 159, \"windows\": 503, \"coincides\": 54, \"paru\": 48, \"artemis\": 75, \"traditional\": 425, \"forerunner\": 1080, \"hindrance\": 178, \"saloon\": 107, \"coincided\": 53, \"institutions\": 684, \"lying\": 1780, \"stones\": 927, \"mexico\": 218, \"thorough\": 3022, \"barter\": 73, \"pennies\": 294, \"lay\": 2534, \"fond\": 562, \"shillin\": 40, \"synopsis\": 132, \"readjustment\": 40, \"prodigious\": 389, \"riveted\": 63, \"melody\": 122, \"font\": 108, \"costing\": 61, \"securing\": 383, \"witty\": 176, \"inflection\": 40, \"grotesque\": 86, \"penalty\": 728, \"abiding\": 101, \"betray\": 177, \"transcendental\": 57, \"unsuited\": 56, \"sacking\": 54, \"his\": 73495, \"founding\": 242, \"spurious\": 65, \"compiled\": 585, \"whistle\": 302, \"revered\": 442, \"hid\": 144, \"determines\": 129, \"banquet\": 928, \"compiler\": 133, \"philosophising\": 98, \"insensibly\": 48, \"crucifying\": 42, \"continuum\": 175, \"oxide\": 42, \"investigate\": 51, \"prescribing\": 59, \"paraneoplastic\": 102, \"activity\": 3434, \"sustainable\": 339, \"wheeling\": 64, \"engraved\": 51, \"snowstorm\": 243, \"insensible\": 45, \"condescended\": 64, \"bars\": 2590, \"art\": 3469, \"skills\": 217, \"achieved\": 747, \"intelligence\": 1937, \"arc\": 101, \"bare\": 234, \"bard\": 62, \"duma\": 45, \"bark\": 95, \"ark\": 97, \"arm\": 3275, \"declined\": 442, \"barn\": 610, \"spirited\": 148, \"threats\": 96, \"forlorn\": 156, \"surmounted\": 1018, \"parchment\": 402, \"stressor\": 126, \"jaundiced\": 60, \"consecutive\": 55, \"other's\": 43, \"numerous\": 471, \"corruption\": 900, \"atra\": 42, \"solo\": 209, \"korea\": 49, \"misstep\": 68, \"creating\": 1397, \"sold\": 6335, \"attention\": 1028, \"confiscated\": 76, \"outfit\": 90, \"poetical\": 146, \"opposition\": 613, \"baleful\": 48, \"prelude\": 158, \"inertia\": 209, \"bronze\": 86, \"c\": 948, \"blazer\": 64, \"license\": 2322, \"roman\": 2441, \"advocate's\": 43, \"unincorporated\": 84, \"context\": 2554, \"finds\": 533, \"reside\": 278, \"distress\": 111, \"reasons\": 481, \"smith\": 44, \"sweep\": 284, \"harbour\": 123, \"regulated\": 194, \"suckers\": 65, \"fibres\": 64, \"eyewitness\": 52, \"decline\": 5072, \"complication\": 149, \"java\": 49, \"political\": 10380, \"clyde\": 96, \"dug\": 649, \"pc\": 53, \"reduction\": 2331, \"brick\": 380, \"flight\": 1893, \"sending\": 815, \"transferring\": 147, \"flinty\": 66, \"precision\": 131, \"defect\": 947, \"vaguely\": 42, \"goodly\": 3870, \"demand\": 3581, \"ways\": 355, \"plants\": 382, \"georgia\": 78, \"conception\": 2396, \"noticeable\": 3765, \"workmen\": 41, \"batch\": 99, \"evaluated\": 210, \"unprecedented\": 152, \"behavior\": 1437, \"ravaging\": 140, \"shake\": 436, \"moustache\": 55, \"fernandez\": 73, \"engineers\": 40, \"knob\": 452, \"unitary\": 292, \"demon\": 64, \"disappointing\": 60, \"rio\": 44, \"awakening\": 48, \"neurons\": 73, \"lodged\": 201, \"quail\": 118, \"rid\": 70, \"anguish\": 69, \"parodic\": 43, \"shove\": 223, \"lengthy\": 5016, \"morequito\": 58, \"provisions\": 305, \"minim\": 56, \"lengths\": 53, \"passionate\": 835, \"delicious\": 46, \"deletion\": 52, \"peoples\": 51, \"esteemed\": 49, \"advise\": 71, \"yogurt\": 294, \"spears\": 117, \"daughters\": 231, \"higher\": 12569, \"sell\": 429, \"literature\": 1504, \"choriomeningitis\": 384, \"paths\": 210, \"restraint\": 185, \"negotiate\": 599, \"cement\": 46, \"usually\": 3679, \"flown\": 104, \"arrived\": 1880, \"photometer\": 182, \"sagacious\": 71, \"resonance\": 105, \"robust\": 51, \"knack\": 244, \"weird\": 43, \"culvert\": 43, \"lower\": 5791, \"equalled\": 66, \"try\": 5317, \"dancing\": 131, \"chickens\": 64, \"analysis\": 3631, \"dared\": 114, \"deliverable\": 61, \"cheer\": 55, \"edge\": 486, \"tales\": 123, \"machinery\": 61, \"magnifies\": 59, \"stating\": 298, \"propos\": 49, \"grievance\": 109, \"abilities\": 50, \"endeavour\": 89, \"marshalling\": 60, \"precedence\": 51, \"scrupulous\": 48, \"competitive\": 380, \"intervals\": 110, \"questions\": 985, \"retired\": 545, \"northern\": 239, \"continent\": 836, \"profitable\": 485, \"onset\": 5288, \"loading\": 65, \"carthusian\": 94, \"morals\": 118, \"tablet\": 496, \"workers\": 1551, \"exclusively\": 200, \"contractor\": 185, \"governmental\": 94, \"exhibition\": 137, \"violations\": 182, \"subsequence\": 68, \"customers\": 109, \"homozygous\": 63, \"constitutions\": 135, \"discriminatory\": 247, \"unlimited\": 99, \"swallower\": 73, \"entangled\": 87, \"antiseptic\": 213, \"shunammite\": 76, \"moody\": 42, \"shaped\": 122, \"commanders\": 43, \"seemingly\": 143, \"ignore\": 117, \"collect\": 159, \"distrust\": 106, \"alternatively\": 55, \"breeder\": 75, \"acceptation\": 55, \"essential\": 1712, \"hallmark\": 46, \"nor\": 4540, \"pretension\": 197, \"litter\": 303, \"clown\": 45, \"selfishness\": 69, \"sauces\": 71, \"saucer\": 177, \"stately\": 327, \"gradually\": 156, \"constitutionality\": 313, \"isles\": 55, \"innovation\": 99, \"suddenness\": 82, \"fragments\": 195, \"eggs\": 128, \"rectitude\": 82, \"martin\": 140, \"perpendicular\": 289, \"equipping\": 40, \"aloft\": 47, \"percentile\": 69, \"othello\": 49, \"consolation\": 440, \"refuses\": 90, \"intense\": 478, \"vaccine\": 82, \"russell\": 112, \"cautious\": 317, \"firing\": 484, \"wineglass\": 73, \"frightful\": 325, \"recited\": 47, \"range\": 18529, \"militia\": 223, \"dialog\": 297, \"paroxysm\": 390, \"hatred\": 385, \"complimentary\": 114, \"fluttering\": 95, \"credible\": 100, \"conserving\": 41, \"significant\": 11173, \"plethora\": 246, \"conquest\": 119, \"warmed\": 96, \"ellipse\": 66, \"canal\": 1043, \"diameters\": 1181, \"tenth\": 1660, \"whims\": 350, \"lone\": 331, \"fast\": 1597, \"baggy\": 66, \"impresses\": 46, \"signified\": 48, \"conceivable\": 172, \"analyze\": 95, \"sections\": 346, \"counterpoise\": 63, \"mountains\": 140, \"raisins\": 399, \"memory\": 2050, \"succumbed\": 222, \"understands\": 46, \"gracefulness\": 67, \"cloth\": 323, \"monomers\": 46, \"filed\": 769, \"forbidding\": 62, \"crane\": 74, \"junior\": 87, \"raising\": 558, \"partitioning\": 49, \"consist\": 2548, \"upheld\": 122, \"fulfilling\": 45, \"characteristic\": 2462, \"stalking\": 50, \"gratifying\": 319, \"variant\": 199, \"fluctuations\": 54, \"z\": 101, \"called\": 8829, \"bell\": 1253, \"v\": 585, \"associated\": 827, \"worthwhile\": 198, \"stick\": 3056, \"articulating\": 924, \"trumbull\": 65, \"commissioner\": 519, \"warning\": 1386, \"snuffs\": 52, \"rainy\": 47, \"translated\": 43, \"lemon\": 294, \"diurnal\": 54, \"tentative\": 135, \"evils\": 93, \"fiddle's\": 44, \"endurance\": 67, \"malicious\": 454, \"backs\": 71, \"vendor\": 44, \"towers\": 49, \"parlor\": 140, \"income\": 2441, \"mock\": 151, \"cultivating\": 45, \"perusal\": 233, \"generates\": 111, \"smitten\": 167, \"backbone\": 190, \"problems\": 861, \"fertilized\": 170, \"publkation\": 48, \"helping\": 566, \"generated\": 1108, \"helplessness\": 198, \"allowing\": 372, \"inventions\": 45, \"suffers\": 385, \"happier\": 170, \"delineation\": 123, \"vice\": 847, \"organism\": 882, \"attacking\": 43, \"impatient\": 207, \"gangue\": 168, \"thames\": 79, \"broad\": 4536, \"buffalo\": 84, \"scroll\": 49, \"once\": 8801, \"pervert\": 75, \"issued\": 1494, \"resistance\": 1048, \"alien\": 142, \"windy\": 44, \"gang\": 456, \"misreading\": 81, \"winds\": 54, \"discordant\": 71, \"adjustment\": 350, \"contributions\": 149, \"prophecy\": 2970, \"issues\": 1817, \"rigidity\": 102, \"venerated\": 103, \"uphold\": 46, \"disposal\": 47, \"obstinate\": 153, \"stable\": 3243, \"breach\": 4600, \"include\": 5283, \"fences\": 53, \"mutation\": 536, \"rag\": 138, \"dandy\": 82, \"confirmation\": 430, \"seized\": 212, \"misinterpretation\": 172, \"tribunal\": 1021, \"stales\": 50, \"electron\": 213, \"foretell\": 192, \"romantic\": 344, \"artery\": 240, \"drinking\": 773, \"posture\": 243, \"solutions\": 212, \"sanctity\": 66, \"notes\": 968, \"deals\": 202, \"tenderness\": 121, \"session\": 429, \"week's\": 227, \"dealt\": 129, \"melodies\": 78, \"relation\": 9308, \"moulding\": 79, \"noted\": 669, \"assemblage\": 62, \"concluded\": 1524, \"limitations\": 163, \"smaller\": 2287, \"plexus\": 61, \"procession\": 154, \"fold\": 368, \"traveling\": 86, \"concludes\": 203, \"acid\": 1306, \"folk\": 44, \"showcase\": 105, \"concessions\": 67, \"saw\": 12198, \"man's\": 6187, \"ramekins\": 134, \"waiting\": 1013, \"cerium\": 91, \"jesuits\": 54, \"ammunition\": 65, \"unruly\": 71, \"labyrinth\": 299, \"multivariate\": 255, \"desires\": 71, \"pushing\": 244, \"desired\": 452, \"explore\": 264, \"separation\": 6666, \"lubricant\": 208, \"perforation\": 140, \"miser\": 141, \"settling\": 411, \"frolicsome\": 65, \"distressed\": 41, \"guarantor\": 45, \"larger\": 6757, \"leaving\": 2950, \"eliot's\": 46, \"evading\": 245, \"nervous\": 547, \"spices\": 143, \"continuities\": 40, \"chaste\": 51, \"shovel\": 140, \"gossiped\": 44, \"scales\": 284, \"egypt\": 183, \"confession\": 421, \"ensign\": 55, \"apt\": 1011, \"hardy\": 133, \"captaincy\": 97, \"motor\": 997, \"lodging\": 270, \"summation\": 499, \"apply\": 1226, \"boasts\": 45, \"nursing\": 555, \"witchery\": 82, \"fed\": 445, \"fee\": 1101, \"from\": 129456, \"stream\": 4992, \"consumption\": 109, \"manifested\": 225, \"frog\": 289, \"few\": 120532, \"depicted\": 286, \"examination\": 2544, \"weeping\": 168, \"attribute\": 83, \"circuitous\": 90, \"sorrowing\": 177, \"possession\": 739, \"clever\": 648, \"journalists\": 53, \"schematic\": 45, \"inclined\": 1567, \"factor\": 6709, \"impress\": 375, \"infection\": 459, \"cooperate\": 213, \"sore\": 573, \"rabbit\": 321, \"recount\": 49, \"penis\": 359, \"sculptor\": 71, \"women\": 8610, \"paused\": 166, \"heard\": 3116, \"linger\": 46, \"stroke\": 527, \"anywhere\": 345, \"stabilizer\": 118, \"executor\": 56, \"metastases\": 63, \"posing\": 126, \"performed\": 4693, \"impedes\": 46, \"indulgence\": 60, \"patron\": 90, \"earnestness\": 48, \"tax\": 2978, \"plebiscite\": 117, \"villain\": 59, \"assumptions\": 507, \"something\": 5095, \"serial\": 458, \"egbas\": 48, \"onions\": 205, \"autobiography\": 337, \"united\": 30691, \"syndrome\": 345, \"memorize\": 176, \"sit\": 737, \"intelligible\": 65, \"justifiable\": 49, \"parlour\": 65, \"struggles\": 84, \"fortunate\": 300, \"sic\": 66, \"prognosis\": 270, \"camels\": 69, \"instead\": 1859, \"toddler\": 64, \"panic\": 246, \"memoir\": 402, \"segmenting\": 77, \"tension\": 625, \"administrator\": 86, \"cupboard\": 350, \"attend\": 783, \"immersed\": 612, \"hazard\": 235, \"abuse\": 128, \"ethnic\": 168, \"readiness\": 170, \"light\": 13094, \"arduous\": 108, \"interrupted\": 44, \"manganese\": 64, \"tenure\": 43, \"stakes\": 97, \"persuasive\": 51, \"hematoma\": 139, \"preparing\": 1793, \"saturated\": 114, \"stamped\": 41, \"reeling\": 91, \"coolly\": 44, \"farming\": 155, \"encouraged\": 3166, \"interpreted\": 790, \"whilst\": 56, \"looks\": 878, \"tyrant\": 250, \"seignorage\": 67, \"longitudinal\": 1995, \"inlet\": 102, \"voiceless\": 45, \"ships\": 541, \"permanent\": 2286, \"restrain\": 82, \"choose\": 1040, \"inspecting\": 42, \"orange\": 49, \"covered\": 2041, \"holiday\": 604, \"defining\": 351, \"sweden\": 175, \"fructification\": 150, \"freeman\": 71, \"orfice\": 54, \"campaigned\": 385, \"crash\": 1149, \"contention\": 1872, \"richness\": 50, \"salad\": 55, \"flour\": 61, \"material\": 3345, \"leisure\": 92, \"flew\": 41, \"sustentation\": 45, \"campaigner\": 70, \"discomfiture\": 67, \"ambition\": 309, \"flea\": 91, \"impaired\": 48, \"republican\": 1631, \"successor\": 497, \"articles\": 229, \"bewilderment\": 102, \"speaks\": 778, \"night's\": 58, \"eased\": 151, \"feast\": 1579, \"fiddle\": 49, \"trap\": 205, \"pleasures\": 53, \"cocoon\": 252, \"bills\": 91, \"tray\": 1962, \"pitying\": 124, \"registration\": 303, \"whimsy\": 49, \"related\": 1359, \"avulsion\": 51, \"remove\": 237, \"geiger\": 62, \"ambassadors\": 49, \"irritability\": 223, \"indulged\": 272, \"shearing\": 151, \"out\": 45823, \"category\": 964, \"respects\": 106, \"generalizations\": 88, \"sentiment\": 785, \"frontier\": 45, \"cerebral\": 100, \"transcript\": 103, \"chaos\": 473, \"strengthened\": 604, \"subdural\": 139, \"performs\": 100, \"exporting\": 99, \"frankness\": 59, \"integrated\": 106, \"adhesives\": 71, \"proviso\": 108, \"dictionary\": 204, \"southern\": 98, \"maintains\": 152, \"geostationary\": 71, \"tenement\": 210, \"bering\": 53, \"york\": 3024, \"conflicts\": 72, \"van\": 250, \"compositions\": 151, \"tenant\": 858, \"greenhorn\": 47, \"repairing\": 73, \"comrade\": 130, \"organic\": 327, \"waterloo\": 54, \"g\": 561, \"phrases\": 271, \"feasible\": 129, \"conversation\": 3240, \"wounded\": 103, \"barbarity\": 41, \"hence\": 954, \"gentlemanly\": 56, \"phrased\": 87, \"timbers\": 78, \"obscurity\": 461, \"vases\": 57, \"echo\": 2625, \"bonnet\": 86, \"walter\": 118, \"representations\": 173, \"probation\": 65, \"noticed\": 971, \"salient\": 301, \"publication\": 333, \"unknown\": 192, \"grantor\": 44, \"priority\": 336, \"their\": 14841, \"swear\": 429, \"god's\": 3261, \"boil\": 949, \"shell\": 232, \"tuple\": 43, \"postgraduate\": 163, \"doomed\": 44, \"shallow\": 790, \"slides\": 98, \"reflecting\": 181, \"simulate\": 67, \"mules\": 131, \"constituent\": 1650, \"july\": 117, \"commence\": 45, \"reaped\": 40, \"congenital\": 198, \"holland\": 40, \"elope\": 56, \"isolation\": 45, \"infectious\": 60, \"limiting\": 106, \"probe\": 44, \"patients\": 849, \"individual\": 8147, \"dynamo\": 133, \"sculpture\": 279, \"fowl\": 1008, \"westward\": 45, \"frostbitten\": 41, \"tca\": 54, \"linked\": 554, \"scotchman\": 69, \"pallor\": 154, \"catholic\": 2791, \"afraid\": 369, \"angle\": 5820, \"pupils\": 139, \"russians\": 79, \"propriety\": 136, \"theoretic\": 71, \"bough\": 136, \"agency\": 562, \"boastful\": 45, \"anglo\": 91, \"which\": 113380, \"divert\": 63, \"castellated\": 68, \"combat\": 99, \"centre\": 2083, \"collaboration\": 245, \"who\": 65349, \"siphon\": 55, \"triangular\": 606, \"emancipation\": 68, \"histogram\": 154, \"class\": 4859, \"clasp\": 65, \"statute\": 1585, \"deny\": 143, \"connectionless\": 85, \"neighboring\": 132, \"ensues\": 117, \"dent\": 420, \"looked\": 4606, \"cloaked\": 72, \"movie\": 261, \"typical\": 570, \"ensued\": 163, \"fief\": 159, \"gain\": 2479, \"son\": 6939, \"mk\": 2041, \"mistook\": 43, \"chances\": 45, \"please\": 62, \"agreed\": 1081, \"chapters\": 242, \"purely\": 1822, \"planning\": 1185, \"democrats\": 55, \"siberia\": 51, \"utter\": 666, \"fear\": 1927, \"darkest\": 107, \"feat\": 295, \"debate\": 576, \"subtracting\": 131, \"nearer\": 93, \"highest\": 125, \"pastoral\": 79, \"minutely\": 69, \"smallest\": 110, \"candidates\": 146, \"piano\": 101, \"local\": 3611, \"counsellor\": 71, \"indignant\": 83, \"monuments\": 51, \"plaintiff\": 435, \"midnight\": 511, \"willis's\": 44, \"malaise\": 91, \"words\": 11583, \"coordinating\": 204, \"burglary\": 126, \"penetrate\": 108, \"spur\": 388, \"mouthful\": 70, \"mahomet\": 58, \"heretic\": 226, \"ended\": 738, \"differential\": 513, \"partir\": 104, \"thrive\": 137, \"quaternary\": 78, \"ascertain\": 52, \"cleavage\": 82, \"deceived\": 44, \"available\": 10083, \"requirement\": 480, \"statistical\": 684, \"ebb\": 65, \"acquired\": 1828, \"admonition\": 42, \"module\": 56, \"churchman\": 83, \"luminous\": 143, \"comeliness\": 42, \"acquires\": 51, \"closer\": 3204, \"puts\": 336, \"closet\": 162, \"arguably\": 69, \"monstrous\": 94, \"cruel\": 478, \"nucleation\": 176, \"favor\": 1499, \"mexicans\": 48, \"converted\": 2611, \"identification\": 288, \"entrant\": 48, \"closed\": 1821, \"crude\": 277, \"limit\": 2837, \"torpedo\": 69, \"bought\": 801, \"variability\": 177, \"recipe\": 310, \"jot\": 124, \"ability\": 2398, \"opening\": 721, \"joy\": 877, \"agencies\": 121, \"huts\": 174, \"embarrassment\": 66, \"job\": 5936, \"hypothesis\": 1854, \"vertiginously\": 62, \"swift\": 279, \"declining\": 125, \"commands\": 122, \"nun's\": 41, \"respondents\": 94, \"april\": 294, \"grain\": 3411, \"tactical\": 42, \"canopy\": 142, \"grounds\": 520, \"torments\": 55, \"wall\": 2389, \"antioxidant\": 62, \"narrower\": 226, \"walk\": 6450, \"africa's\": 74, \"interface\": 352, \"worldly\": 122, \"respect\": 11147, \"narrowed\": 345, \"unclean\": 68, \"freedmen\": 53, \"fishery\": 44, \"stupor\": 241, \"decent\": 871, \"bbc\": 54, \"charts\": 185, \"responds\": 54, \"tutor\": 2151, \"literal\": 257, \"unspoken\": 43, \"semaphore\": 55, \"monoclonal\": 156, \"remedies\": 47, \"determinant\": 248, \"tissues\": 43, \"resultant\": 144, \"painted\": 373, \"sufficient\": 7657, \"meritorious\": 62, \"twinge\": 100, \"kisser\": 51, \"ensuring\": 75, \"confers\": 54, \"remedied\": 146, \"last\": 4817, \"repetition\": 4255, \"painter\": 729, \"reverse\": 650, \"resumption\": 208, \"abandoned\": 96, \"unlike\": 102, \"fearful\": 157, \"sultan\": 57, \"herpesvirus\": 47, \"choices\": 47, \"cursor\": 114, \"thou\": 144, \"hovering\": 81, \"wild\": 1690, \"happened\": 1207, \"primacy\": 114, \"rename\": 44, \"layer\": 2052, \"mutant\": 148, \"ringing\": 445, \"thus\": 5107, \"encouragement\": 118, \"rooster\": 119, \"draining\": 124, \"gothic\": 312, \"dual\": 2454, \"thud\": 153, \"whore\": 261, \"education\": 2655, \"perhaps\": 1776, \"privileges\": 72, \"buddhist\": 533, \"radiation\": 61, \"cross\": 2362, \"enumeration\": 171, \"member\": 106277, \"adverse\": 227, \"unity\": 819, \"merciful\": 177, \"geographical\": 123, \"largest\": 736, \"inch\": 884, \"samson\": 61, \"gets\": 690, \"disciple\": 94, \"difficult\": 8445, \"parthenon\": 65, \"slave\": 2618, \"cavalry\": 741, \"conceived\": 933, \"folio\": 455, \"romeo\": 41, \"beast\": 264, \"solubility\": 193, \"student\": 5148, \"whale\": 243, \"laborious\": 328, \"collar\": 91, \"warming\": 48, \"scaling\": 127, \"correspondent\": 393, \"undertakes\": 74, \"whole\": 18180, \"ingredients\": 153, \"fighting\": 805, \"scruples\": 42, \"spectator\": 81, \"english\": 1817, \"track\": 689, \"breaker\": 733, \"bandanna\": 49, \"bending\": 78, \"simpler\": 378, \"cameo\": 51, \"cried\": 476, \"wealthy\": 1363, \"obtain\": 7588, \"fibrin\": 56, \"batteries\": 66, \"recollection\": 224, \"fishing\": 404, \"neurasthenia\": 60, \"happiness\": 254, \"consume\": 48, \"disturbance\": 1393, \"console\": 88, \"pendulum\": 262, \"sune\": 52, \"guts\": 57, \"sky\": 1033, \"capabilities\": 71, \"discuss\": 602, \"simple\": 6951, \"concourse\": 103, \"other\": 16046, \"adoption\": 416, \"attractive\": 60, \"usage\": 67, \"enacted\": 252, \"loan\": 1626, \"identical\": 232, \"saturation\": 49, \"frieze\": 205, \"branch\": 2731, \"myth\": 540, \"masquerade\": 117, \"execute\": 705, \"know\": 5349, \"knot\": 207, \"denser\": 70, \"press\": 828, \"hollow\": 791, \"showing\": 1617, \"helpful\": 435, \"perpetual\": 585, \"loser\": 253, \"loses\": 566, \"taxpayers\": 45, \"vortex\": 205, \"feigned\": 52, \"january\": 242, \"sloping\": 58, \"parity\": 314, \"exceed\": 881, \"because\": 14213, \"shabby\": 75, \"sequence\": 3557, \"flagrant\": 137, \"searching\": 289, \"promontory\": 40, \"preposition\": 92, \"growth\": 3936, \"vicarious\": 107, \"empire\": 446, \"employment\": 524, \"leaf\": 472, \"lead\": 4341, \"receivership\": 137, \"outranked\": 55, \"lean\": 50, \"thank\": 235, \"leal\": 59, \"leap\": 212, \"campfire\": 67, \"whereas\": 48, \"leader\": 2836, \"trout\": 62, \"pasty\": 80, \"bowyer\": 61, \"murderer\": 211, \"thoroughfare\": 49, \"death's\": 50, \"analysed\": 215, \"overall\": 270, \"murdered\": 141, \"conveyed\": 249, \"corpuscle\": 107, \"analyses\": 71, \"paste\": 286, \"swaggered\": 73, \"throne\": 153, \"throng\": 373, \"rare\": 2955, \"carried\": 2257, \"extension\": 369, \"getting\": 1661, \"column\": 2087, \"universe\": 2325, \"smote\": 43, \"dependence\": 345, \"shipping\": 937, \"surge\": 97, \"dependency\": 43, \"carries\": 496, \"carrier\": 457, \"places\": 700, \"christian's\": 43, \"hohenzollern\": 45, \"emperor\": 96, \"oviedo\": 73, \"outset\": 228, \"own\": 3775, \"polished\": 70, \"wilderness\": 184, \"owe\": 47, \"warrants\": 46, \"domain\": 351, \"loner\": 90, \"weather\": 151, \"promise\": 1692, \"brush\": 221, \"lawful\": 1433, \"prompted\": 109, \"hitting\": 126, \"sabre\": 104, \"chyle\": 85, \"effeminate\": 56, \"transfer\": 1136, \"support\": 8363, \"spiral\": 63, \"tourist\": 42, \"captains\": 56, \"continental\": 40, \"intention\": 2791, \"dropping\": 617, \"wouldn\": 93, \"transfigures\": 63, \"dynamite\": 64, \"upwards\": 46, \"recurrent\": 105, \"limpets\": 48, \"appointing\": 147, \"funds\": 192, \"incursions\": 40, \"volume\": 5961, \"mailed\": 45, \"hurried\": 83, \"wage\": 1141, \"nassau\": 55, \"squeeze\": 42, \"selfish\": 101, \"made\": 46569, \"tactics\": 61, \"whether\": 8218, \"protesting\": 121, \"recede\": 61, \"record\": 3103, \"below\": 1221, \"persian\": 84, \"ruling\": 189, \"cake\": 970, \"demonstrate\": 1030, \"rickety\": 103, \"stirring\": 182, \"unfolding\": 45, \"eagerness\": 94, \"received\": 7692, \"dearth\": 203, \"carbohydrate\": 408, \"goodness\": 46, \"tumultuous\": 41, \"narrator\": 573, \"naming\": 70, \"visa\": 1123, \"sympathizers\": 50, \"diplomat\": 89, \"incredible\": 73, \"percent\": 404, \"bating\": 84, \"book\": 18507, \"boom\": 47, \"boon\": 475, \"zinc\": 71, \"clicks\": 62, \"flexion\": 186, \"conclusion\": 2640, \"lance\": 88, \"kinds\": 227, \"reorientation\": 111, \"nourishment\": 570, \"june\": 190, \"margaret\": 65, \"quietus\": 56, \"earthly\": 76, \"priced\": 49, \"incurred\": 50, \"cliff\": 118, \"coupling\": 43, \"ranks\": 52, \"slap\": 33661, \"necrosis\": 82, \"jewel\": 93, \"volumes\": 150, \"ideological\": 137, \"sleeves\": 59, \"expands\": 89}\r\n",
      "\"aa\"\t{\"and\": 180, \"edited\": 45, \"long\": 45, \"jackson\": 43, \"patterned\": 77, \"bb\": 70, \"tate\": 43, \"after\": 77, \"but\": 77, \"stonewall\": 43, \"gc\": 110, \"are\": 147, \"berle\": 110, \"allen\": 43, \"the\": 70, \"by\": 155, \"feminism\": 45}\r\n",
      "\"aahperd\"\t{\"american\": 44, \"alliance\": 44, \"health\": 44, \"for\": 44}\r\n",
      "\"aalborg\"\t{\"city\": 48, \"the\": 48, \"of\": 48, \"in\": 48}\r\n",
      "\"ab\"\t{\"a\": 168, \"and\": 163, \"hollingshead\": 53, \"chord\": 53, \"from\": 161, \"university\": 161, \"that\": 43, \"of\": 206, \"is\": 168, \"lines\": 57, \"equal\": 80, \"fc\": 53, \"cd\": 57, \"to\": 80, \"cannot\": 57, \"the\": 214, \"piece\": 45, \"by\": 53, \"bisects\": 53, \"quantity\": 43}\r\n",
      "\"aback\"\t{\"taken\": 50, \"with\": 50, \"all\": 50, \"so\": 50}\r\n",
      "\"abandon\"\t{\"all\": 117, \"attitude\": 66, \"own\": 42, \"find\": 249, \"chosen\": 42, \"had\": 535, \"should\": 41, \"to\": 4683, \"only\": 46, \"going\": 146, \"board\": 56, \"has\": 173, \"do\": 149, \"them\": 459, \"his\": 143, \"seeking\": 42, \"practice\": 42, \"bear\": 99, \"compelled\": 255, \"they\": 2100, \"not\": 597, \"now\": 122, \"him\": 46, \"projects\": 44, \"did\": 110, \"t\": 89, \"people\": 42, \"hard\": 249, \"idea\": 91, \"decided\": 179, \"are\": 59, \"our\": 90, \"for\": 46, \"god\": 102, \"liberty\": 61, \"wholly\": 42, \"everything\": 46, \"induced\": 92, \"who\": 179, \"reason\": 81, \"disposition\": 44, \"hostile\": 66, \"career\": 46, \"of\": 199, \"must\": 91, \"place\": 155, \"suggestion\": 42, \"alliance\": 106, \"feel\": 61, \"merely\": 149, \"use\": 66, \"her\": 56, \"their\": 342, \"indians\": 59, \"intention\": 42, \"attack\": 73, \"that\": 41, \"fire\": 66, \"with\": 164, \"than\": 41, \"he\": 223, \"me\": 47, \"work\": 47, \"will\": 102, \"wild\": 58, \"and\": 46, \"would\": 1958, \"want\": 89, \"is\": 56, \"it\": 617, \"an\": 42, \"currency\": 56, \"at\": 337, \"have\": 1911, \"in\": 46, \"ready\": 59, \"any\": 91, \"forced\": 219, \"no\": 81, \"take\": 55, \"you\": 89, \"felt\": 182, \"prepared\": 122, \"plan\": 118, \"so\": 142, \"withdraw\": 46, \"the\": 1028, \"its\": 106, \"once\": 230}\r\n",
      "\"abandoned\"\t{\"all\": 161, \"less\": 187, \"being\": 40, \"pigeons\": 43, \"soon\": 88, \"tuesdays\": 45, \"theseus\": 46, \"had\": 550, \"should\": 156, \"to\": 1048, \"theme\": 68, \"has\": 275, \"then\": 158, \"his\": 311, \"every\": 71, \"projects\": 45, \"term\": 80, \"large\": 41, \"either\": 79, \"found\": 108, \"went\": 45, \"works\": 52, \"because\": 53, \"house\": 94, \"sex\": 115, \"are\": 57, \"nests\": 43, \"for\": 116, \"favor\": 544, \"closed\": 41, \"approach\": 163, \"arrival\": 52, \"be\": 1060, \"we\": 57, \"lode\": 76, \"completely\": 45, \"path\": 96, \"earliest\": 166, \"by\": 897, \"on\": 209, \"about\": 584, \"her\": 87, \"of\": 1288, \"military\": 40, \"or\": 234, \"number\": 41, \"another\": 464, \"village\": 45, \"canal\": 41, \"city\": 68, \"service\": 49, \"there\": 154, \"been\": 414, \"their\": 140, \"scheme\": 59, \"baronet\": 62, \"more\": 115, \"life\": 96, \"himself\": 62, \"that\": 103, \"site\": 78, \"child\": 68, \"he\": 185, \"me\": 233, \"this\": 80, \"was\": 802, \"project\": 53, \"were\": 279, \"my\": 137, \"and\": 205, \"is\": 156, \"it\": 95, \"as\": 138, \"at\": 211, \"have\": 180, \"in\": 544, \"expeditions\": 40, \"author\": 62, \"speculative\": 45, \"when\": 401, \"which\": 41, \"if\": 76, \"shall\": 76, \"after\": 164, \"most\": 115, \"plan\": 95, \"ariadne\": 46, \"a\": 96, \"largely\": 112, \"i\": 306, \"thought\": 88, \"so\": 75, \"claims\": 76, \"the\": 1615}\r\n",
      "\"abandoning\"\t{\"thought\": 123, \"of\": 123, \"time\": 123, \"one\": 123}\r\n",
      "\"abandonment\"\t{\"and\": 62, \"set\": 77, \"is\": 98, \"an\": 105, \"imply\": 62, \"rule\": 52, \"in\": 71, \"our\": 77, \"trust\": 45, \"open\": 106, \"any\": 106, \"out\": 77, \"city\": 71, \"unanimity\": 52, \"system\": 62, \"same\": 50, \"their\": 40, \"rational\": 106, \"prohibitory\": 55, \"announce\": 119, \"was\": 117, \"his\": 62, \"complete\": 106, \"on\": 77, \"early\": 62, \"blockade\": 52, \"york\": 71, \"new\": 71, \"apprenticeship\": 41, \"by\": 162, \"a\": 168, \"entire\": 53, \"virtual\": 40, \"of\": 954, \"devices\": 106, \"time\": 142, \"accompanied\": 117, \"the\": 1154}\r\n"
     ]
    }
   ],
   "source": [
    "# !hadoop fs -cat {OUTPUT_PATH}/* > stripes_output.txt\n",
    "# !hadoop fs -tail {OUTPUT_PATH}/part-00000\n",
    "!head -n 10 stripes_output.txt"
   ]
  },
  {
   "cell_type": "markdown",
   "metadata": {},
   "source": [
    "### `invertedIndexP2.py`"
   ]
  },
  {
   "cell_type": "code",
   "execution_count": 30,
   "metadata": {},
   "outputs": [
    {
     "name": "stdout",
     "output_type": "stream",
     "text": [
      "Overwriting invertedIndexP2.py\n"
     ]
    }
   ],
   "source": [
    "%%writefile invertedIndexP2.py\n",
    "#!~/anaconda2/bin/python\n",
    "# -*- coding: utf-8 -*-\n",
    "\n",
    "\n",
    "from __future__ import division\n",
    "import collections\n",
    "import re\n",
    "import json\n",
    "import math\n",
    "import numpy as np\n",
    "import itertools\n",
    "import mrjob\n",
    "from mrjob.protocol import RawProtocol\n",
    "from mrjob.job import MRJob\n",
    "from mrjob.step import MRStep\n",
    "\n",
    "class MRinvertedIndex(MRJob):\n",
    "    \n",
    "    def mapper(self, _, line):\n",
    "        if line:\n",
    "            word,stripe = line.split(\"\\t\")\n",
    "            stripe=json.loads(stripe)\n",
    "            len_dict = len(stripe)\n",
    "            for key, _ in stripe.items():\n",
    "                yield key, (word.strip(\"\\\"\"), len_dict)\n",
    "    \n",
    "    def reducer(self, key, values):\n",
    "        yield key, values\n",
    "        \n",
    "if __name__ == '__main__':\n",
    "    MRinvertedIndex.run() "
   ]
  },
  {
   "cell_type": "code",
   "execution_count": 31,
   "metadata": {},
   "outputs": [
    {
     "name": "stdout",
     "output_type": "stream",
     "text": [
      "18/02/17 15:12:18 INFO fs.TrashPolicyDefault: Namenode trash configuration: Deletion interval = 5760 minutes, Emptier interval = 360 minutes.\n",
      "Moved: 'hdfs://nn-ia.s3s.altiscale.com:8020/user/stassyvichev/test_invertedIndex' to trash at: hdfs://nn-ia.s3s.altiscale.com:8020/user/stassyvichev/.Trash/Current\n",
      "Using configs in /home/stassyvichev/.mrjob.conf\n",
      "Looking for hadoop binary in /opt/hadoop/bin...\n",
      "Found hadoop binary: /opt/hadoop/bin/hadoop\n",
      "Using Hadoop version 2.7.3\n",
      "Looking for Hadoop streaming jar in /opt/hadoop...\n",
      "Found Hadoop streaming jar: /opt/hadoop/share/hadoop/tools/lib/hadoop-streaming-2.7.3.jar\n",
      "Creating temp directory /tmp/invertedIndexP2.stassyvichev.20180217.151219.500488\n",
      "Copying local files to hdfs:///user/stassyvichev/tmp/mrjob/invertedIndexP2.stassyvichev.20180217.151219.500488/files/...\n",
      "Running step 1 of 1...\n",
      "  packageJobJar: [] [/opt/hadoop-2.7.3/share/hadoop/tools/lib/hadoop-streaming-2.7.3.jar] /tmp/streamjob6715349396267073290.jar tmpDir=null\n",
      "  Timeline service address: http://rm-ia.s3s.altiscale.com:8188/ws/v1/timeline/\n",
      "  Connecting to ResourceManager at rm-ia.s3s.altiscale.com/10.251.255.108:8032\n",
      "  Connecting to Application History server at rm-ia.s3s.altiscale.com/10.251.255.108:10200\n",
      "  Timeline service address: http://rm-ia.s3s.altiscale.com:8188/ws/v1/timeline/\n",
      "  Connecting to ResourceManager at rm-ia.s3s.altiscale.com/10.251.255.108:8032\n",
      "  Connecting to Application History server at rm-ia.s3s.altiscale.com/10.251.255.108:10200\n",
      "  Loaded native gpl library from the embedded binaries\n",
      "  Successfully loaded & initialized native-lzo library [hadoop-lzo rev d62701d4d05dfa6115bbaf8d9dff002df142e62d]\n",
      "  Total input paths to process : 1\n",
      "  number of splits:2\n",
      "  Submitting tokens for job: job_1509050304403_11983\n",
      "  Submitted application application_1509050304403_11983\n",
      "  The url to track the job: http://rm-ia.s3s.altiscale.com:8088/proxy/application_1509050304403_11983/\n",
      "  Running job: job_1509050304403_11983\n",
      "  Job job_1509050304403_11983 running in uber mode : false\n",
      "   map 0% reduce 0%\n",
      "   map 32% reduce 0%\n",
      "   map 51% reduce 0%\n",
      "   map 67% reduce 0%\n",
      "   map 100% reduce 0%\n",
      "  Task Id : attempt_1509050304403_11983_r_000000_0, Status : FAILED\n",
      "Error: java.lang.RuntimeException: PipeMapRed.waitOutputThreads(): subprocess failed with code 1\n",
      "\tat org.apache.hadoop.streaming.PipeMapRed.waitOutputThreads(PipeMapRed.java:322)\n",
      "\tat org.apache.hadoop.streaming.PipeMapRed.mapRedFinished(PipeMapRed.java:535)\n",
      "\tat org.apache.hadoop.streaming.PipeReducer.close(PipeReducer.java:134)\n",
      "\tat org.apache.hadoop.io.IOUtils.cleanup(IOUtils.java:244)\n",
      "\tat org.apache.hadoop.mapred.ReduceTask.runOldReducer(ReduceTask.java:459)\n",
      "\tat org.apache.hadoop.mapred.ReduceTask.run(ReduceTask.java:392)\n",
      "\tat org.apache.hadoop.mapred.YarnChild$2.run(YarnChild.java:164)\n",
      "\tat java.security.AccessController.doPrivileged(Native Method)\n",
      "\tat javax.security.auth.Subject.doAs(Subject.java:422)\n",
      "\tat org.apache.hadoop.security.UserGroupInformation.doAs(UserGroupInformation.java:1719)\n",
      "\tat org.apache.hadoop.mapred.YarnChild.main(YarnChild.java:158)\n",
      "\n",
      "Container killed by the ApplicationMaster.\n",
      "Container killed on request. Exit code is 143\n",
      "Container exited with a non-zero exit code 143\n",
      "\n",
      "  Task Id : attempt_1509050304403_11983_r_000000_1, Status : FAILED\n",
      "Error: java.lang.RuntimeException: PipeMapRed.waitOutputThreads(): subprocess failed with code 1\n",
      "\tat org.apache.hadoop.streaming.PipeMapRed.waitOutputThreads(PipeMapRed.java:322)\n",
      "\tat org.apache.hadoop.streaming.PipeMapRed.mapRedFinished(PipeMapRed.java:535)\n",
      "\tat org.apache.hadoop.streaming.PipeReducer.close(PipeReducer.java:134)\n",
      "\tat org.apache.hadoop.io.IOUtils.cleanup(IOUtils.java:244)\n",
      "\tat org.apache.hadoop.mapred.ReduceTask.runOldReducer(ReduceTask.java:459)\n",
      "\tat org.apache.hadoop.mapred.ReduceTask.run(ReduceTask.java:392)\n",
      "\tat org.apache.hadoop.mapred.YarnChild$2.run(YarnChild.java:164)\n",
      "\tat java.security.AccessController.doPrivileged(Native Method)\n",
      "\tat javax.security.auth.Subject.doAs(Subject.java:422)\n",
      "\tat org.apache.hadoop.security.UserGroupInformation.doAs(UserGroupInformation.java:1719)\n",
      "\tat org.apache.hadoop.mapred.YarnChild.main(YarnChild.java:158)\n",
      "\n",
      "  Task Id : attempt_1509050304403_11983_r_000000_2, Status : FAILED\n",
      "Error: java.lang.RuntimeException: PipeMapRed.waitOutputThreads(): subprocess failed with code 1\n",
      "\tat org.apache.hadoop.streaming.PipeMapRed.waitOutputThreads(PipeMapRed.java:322)\n",
      "\tat org.apache.hadoop.streaming.PipeMapRed.mapRedFinished(PipeMapRed.java:535)\n",
      "\tat org.apache.hadoop.streaming.PipeReducer.close(PipeReducer.java:134)\n",
      "\tat org.apache.hadoop.io.IOUtils.cleanup(IOUtils.java:244)\n",
      "\tat org.apache.hadoop.mapred.ReduceTask.runOldReducer(ReduceTask.java:459)\n",
      "\tat org.apache.hadoop.mapred.ReduceTask.run(ReduceTask.java:392)\n",
      "\tat org.apache.hadoop.mapred.YarnChild$2.run(YarnChild.java:164)\n",
      "\tat java.security.AccessController.doPrivileged(Native Method)\n",
      "\tat javax.security.auth.Subject.doAs(Subject.java:422)\n",
      "\tat org.apache.hadoop.security.UserGroupInformation.doAs(UserGroupInformation.java:1719)\n",
      "\tat org.apache.hadoop.mapred.YarnChild.main(YarnChild.java:158)\n",
      "\n",
      "   map 100% reduce 100%\n",
      "  Job job_1509050304403_11983 failed with state FAILED due to: Task failed task_1509050304403_11983_r_000000\n",
      "Job failed as tasks failed. failedMaps:0 failedReduces:1\n",
      "\n",
      "  Job not successful!\n",
      "  Streaming Command Failed!\n",
      "Counters: 37\n",
      "\tFile Input Format Counters \n",
      "\t\tBytes Read=22496397\n",
      "\tFile System Counters\n",
      "\t\tFILE: Number of bytes read=0\n",
      "\t\tFILE: Number of bytes written=17181176\n",
      "\t\tFILE: Number of large read operations=0\n",
      "\t\tFILE: Number of read operations=0\n",
      "\t\tFILE: Number of write operations=0\n",
      "\t\tHDFS: Number of bytes read=22496783\n",
      "\t\tHDFS: Number of bytes written=0\n",
      "\t\tHDFS: Number of large read operations=0\n",
      "\t\tHDFS: Number of read operations=6\n",
      "\t\tHDFS: Number of write operations=0\n",
      "\tJob Counters \n",
      "\t\tFailed reduce tasks=4\n",
      "\t\tLaunched map tasks=2\n",
      "\t\tLaunched reduce tasks=4\n",
      "\t\tRack-local map tasks=2\n",
      "\t\tTotal megabyte-milliseconds taken by all map tasks=53262336\n",
      "\t\tTotal megabyte-milliseconds taken by all reduce tasks=47119360\n",
      "\t\tTotal time spent by all map tasks (ms)=34676\n",
      "\t\tTotal time spent by all maps in occupied slots (ms)=104028\n",
      "\t\tTotal time spent by all reduce tasks (ms)=18406\n",
      "\t\tTotal time spent by all reduces in occupied slots (ms)=92030\n",
      "\t\tTotal vcore-milliseconds taken by all map tasks=34676\n",
      "\t\tTotal vcore-milliseconds taken by all reduce tasks=18406\n",
      "\tMap-Reduce Framework\n",
      "\t\tCPU time spent (ms)=23270\n",
      "\t\tCombine input records=0\n",
      "\t\tFailed Shuffles=0\n",
      "\t\tGC time elapsed (ms)=143\n",
      "\t\tInput split bytes=386\n",
      "\t\tMap input records=36353\n",
      "\t\tMap output bytes=37737241\n",
      "\t\tMap output materialized bytes=16917874\n",
      "\t\tMap output records=1532215\n",
      "\t\tMerged Map outputs=0\n",
      "\t\tPhysical memory (bytes) snapshot=1589735424\n",
      "\t\tSpilled Records=1532215\n",
      "\t\tTotal committed heap usage (bytes)=1805123584\n",
      "\t\tVirtual memory (bytes) snapshot=6842478592\n",
      "Scanning logs for probable cause of failure...\n",
      "Can't fetch history log; missing job ID\n",
      "Can't fetch task logs; missing application ID\n",
      "Step 1 of 1 failed: Command '['/opt/hadoop/bin/hadoop', 'jar', '/opt/hadoop/share/hadoop/tools/lib/hadoop-streaming-2.7.3.jar', '-files', 'hdfs:///user/stassyvichev/tmp/mrjob/invertedIndexP2.stassyvichev.20180217.151219.500488/files/invertedIndexP2.py#invertedIndexP2.py,hdfs:///user/stassyvichev/tmp/mrjob/invertedIndexP2.stassyvichev.20180217.151219.500488/files/mrjob.zip#mrjob.zip,hdfs:///user/stassyvichev/virtualenv/py27.zip#py27.zip,hdfs:///user/stassyvichev/tmp/mrjob/invertedIndexP2.stassyvichev.20180217.151219.500488/files/setup-wrapper.sh#setup-wrapper.sh', '-cmdenv', 'LD_LIBRARY_PATH=/opt/rh/python27/root/usr/lib64', '-input', 'hdfs:///user/stassyvichev/tmp/mrjob/invertedIndexP2.stassyvichev.20180217.151219.500488/files/stripes_output.txt', '-output', 'hdfs:///user/stassyvichev/test_invertedIndex', '-mapper', 'sh -ex setup-wrapper.sh /opt/rh/python27/root/usr/bin/python2.7 invertedIndexP2.py --step-num=0 --mapper', '-reducer', 'sh -ex setup-wrapper.sh /opt/rh/python27/root/usr/bin/python2.7 invertedIndexP2.py --step-num=0 --reducer']' returned non-zero exit status 256\n",
      "Removing HDFS temp directory hdfs:///user/stassyvichev/tmp/mrjob/invertedIndexP2.stassyvichev.20180217.151219.500488...\n",
      "Removing temp directory /tmp/invertedIndexP2.stassyvichev.20180217.151219.500488...\n"
     ]
    }
   ],
   "source": [
    "INPUT_PATH = os.path.join(OUTPUT_PATH_BASE,'test_buildStripes')\n",
    "OUTPUT_PATH = os.path.join(OUTPUT_PATH_BASE,'test_invertedIndex')\n",
    "!hadoop fs -rm -r {OUTPUT_PATH}\n",
    "!python invertedIndexP2.py \\\n",
    "        -r hadoop stripes_output.txt \\\n",
    "        --output-dir={OUTPUT_PATH} \\\n",
    "        --no-output"
   ]
  },
  {
   "cell_type": "code",
   "execution_count": 32,
   "metadata": {},
   "outputs": [
    {
     "name": "stdout",
     "output_type": "stream",
     "text": [
      "tail: `/user/stassyvichev/test_invertedIndex/part-00000': No such file or directory\r\n"
     ]
    }
   ],
   "source": [
    "# !hadoop fs -cat {OUTPUT_PATH}/* | head -n 10\n",
    "!hadoop fs -tail {OUTPUT_PATH}/part-00000"
   ]
  },
  {
   "cell_type": "markdown",
   "metadata": {},
   "source": [
    "### `invertedIndexCosineP2.py`"
   ]
  },
  {
   "cell_type": "code",
   "execution_count": 33,
   "metadata": {},
   "outputs": [
    {
     "name": "stdout",
     "output_type": "stream",
     "text": [
      "Writing invertedIndexCosineP2.py\n"
     ]
    }
   ],
   "source": [
    "%%writefile invertedIndexCosineP2.py\n",
    "#!~/anaconda2/bin/python\n",
    "# -*- coding: utf-8 -*-\n",
    "\n",
    "\n",
    "from __future__ import division\n",
    "import collections\n",
    "import re\n",
    "import json\n",
    "import math\n",
    "import numpy as np\n",
    "import itertools\n",
    "import mrjob\n",
    "from mrjob.protocol import RawProtocol\n",
    "from mrjob.job import MRJob\n",
    "from mrjob.step import MRStep\n",
    "\n",
    "class MRinvertedIndexCosine(MRJob):\n",
    "    \n",
    "    def mapper(self, _, line):\n",
    "        if line:\n",
    "            word,stripe = line.split()\n",
    "            stripe=json.loads(stripe)\n",
    "            stripe_length = 1/math.sqrt(len(stripe))\n",
    "            for key, _ in stripe.items():\n",
    "                yield key, (word.strip(\"\\\"\"), stripe_length)\n",
    "    \n",
    "    def reducer(self, key, values):\n",
    "        yield key, values\n",
    "        \n",
    "if __name__ == '__main__':\n",
    "    MRinvertedIndexCosine.run() "
   ]
  },
  {
   "cell_type": "code",
   "execution_count": null,
   "metadata": {},
   "outputs": [],
   "source": [
    "INPUT_PATH = os.path.join(OUTPUT_PATH_BASE,'test_buildStripes')\n",
    "OUTPUT_PATH = os.path.join(OUTPUT_PATH_BASE,'test_invertedIndexCosine')\n",
    "!hadoop fs -rm -r {OUTPUT_PATH}\n",
    "!python invertedIndexCosineP2.py \\\n",
    "        -r hadoop stripes_output.txt \\\n",
    "        --output-dir={OUTPUT_PATH} \\\n",
    "        --no-output"
   ]
  },
  {
   "cell_type": "code",
   "execution_count": null,
   "metadata": {},
   "outputs": [],
   "source": [
    "# !hadoop fs -cat {OUTPUT_PATH}/* | head -n 10\n",
    "!hadoop fs -tail {OUTPUT_PATH}/part-00000"
   ]
  },
  {
   "cell_type": "code",
   "execution_count": null,
   "metadata": {},
   "outputs": [],
   "source": [
    "!hadoop fs -cat {OUTPUT_PATH}/* > invertedindex_output.txt"
   ]
  },
  {
   "cell_type": "markdown",
   "metadata": {},
   "source": [
    "### `similarityP2.py`"
   ]
  },
  {
   "cell_type": "code",
   "execution_count": 34,
   "metadata": {},
   "outputs": [
    {
     "name": "stdout",
     "output_type": "stream",
     "text": [
      "Writing similarityP2.py\n"
     ]
    }
   ],
   "source": [
    "%%writefile similarityP2.py\n",
    "#!~/anaconda2/bin/python\n",
    "# -*- coding: utf-8 -*-\n",
    "import json\n",
    "import math\n",
    "import mrjob\n",
    "from mrjob.job import MRJob\n",
    "from mrjob.step import MRStep\n",
    "\n",
    "class MRSimilarity(MRJob):\n",
    "    SORT_VALUES = True\n",
    "    JOBCONF = {\"mapreduce.job.reduces\": \"1\"}\n",
    "    \n",
    "    def mapper_first(self, _, line):\n",
    "        word, stripe = line.split(\"\\t\")\n",
    "        stripe = json.loads(stripe)\n",
    "        if len(stripe)>1:\n",
    "            count = 1\n",
    "            for s in stripe:\n",
    "                for i in xrange(count, len(stripe)):\n",
    "                    yield (s[0], stripe[i][0]), s[1]*stripe[i][1]*1.0\n",
    "                count += 1\n",
    "    \n",
    "    def reducer_first(self, pair, partSims):\n",
    "        sum_sims = sum(partSims)\n",
    "        yield sum_sims, (pair, sum_sims)\n",
    "        \n",
    "    def reducer_second(self, key, value):\n",
    "        yield float(key), list(value)[0]\n",
    "        \n",
    "    def steps(self):\n",
    "        return [\n",
    "            MRStep(\n",
    "                mapper = self.mapper_first,\n",
    "                reducer = self.reducer_first\n",
    "            ),\n",
    "            MRStep(\n",
    "                reducer = self.reducer_second,\n",
    "                jobconf={\n",
    "                        \"mapreduce.job.reduces\": \"1\",\n",
    "                        \"stream.num.map.output.key.fields\": 1,\n",
    "                        \"mapreduce.job.output.key.comparator.class\" : \"org.apache.hadoop.mapred.lib.KeyFieldBasedComparator\",\n",
    "                        \"mapreduce.partition.keycomparator.options\":\"-k1,1nr\",\n",
    "                        \"mapred.num.key.comparator.options\":\"-k1,1nr\",\n",
    "                        \"mapred.text.key.comparator.options\": \"-k1,1nr\",\n",
    "                        \"SORT_VALUES\":True\n",
    "                   }\n",
    "            )\n",
    "        ]\n",
    "        \n",
    "if __name__ == '__main__':\n",
    "    MRSimilarity.run()"
   ]
  },
  {
   "cell_type": "code",
   "execution_count": null,
   "metadata": {},
   "outputs": [],
   "source": [
    "INPUT_PATH = os.path.join(OUTPUT_PATH_BASE,'test_invertedIndexCosine')\n",
    "OUTPUT_PATH = os.path.join(OUTPUT_PATH_BASE,'test_similarity')\n",
    "!hadoop fs -rm -r {OUTPUT_PATH}\n",
    "!python invertedIndexCosineP2.py \\\n",
    "        -r hadoop invertedindex_output.txt \\\n",
    "        --output-dir={OUTPUT_PATH} \\\n",
    "        --no-output"
   ]
  },
  {
   "cell_type": "code",
   "execution_count": null,
   "metadata": {},
   "outputs": [],
   "source": [
    "# !hadoop fs -cat {OUTPUT_PATH}/* | head -n 10\n",
    "!hadoop fs -tail {OUTPUT_PATH}/part-00000"
   ]
  },
  {
   "cell_type": "code",
   "execution_count": null,
   "metadata": {},
   "outputs": [],
   "source": [
    "!hadoop fs -cat {OUTPUT_PATH}/* > similarity_output.txt"
   ]
  },
  {
   "cell_type": "markdown",
   "metadata": {},
   "source": [
    "#### atlas-boon systems test"
   ]
  },
  {
   "cell_type": "code",
   "execution_count": null,
   "metadata": {
    "collapsed": true
   },
   "outputs": [],
   "source": [
    "# ADD CELLS HERE AS NEEDED"
   ]
  },
  {
   "cell_type": "markdown",
   "metadata": {},
   "source": [
    "#### 10-line systems test"
   ]
  },
  {
   "cell_type": "code",
   "execution_count": null,
   "metadata": {
    "collapsed": true
   },
   "outputs": [],
   "source": [
    "# ADD CELLS HERE AS NEEDED"
   ]
  },
  {
   "cell_type": "code",
   "execution_count": null,
   "metadata": {
    "collapsed": true
   },
   "outputs": [],
   "source": []
  },
  {
   "cell_type": "markdown",
   "metadata": {},
   "source": [
    "# HW5.6 -Google n-grams EDA\n",
    "\n",
    "Do some EDA on this dataset using mrjob, e.g., \n",
    "\n",
    "- A. Longest 5-gram (number of characters)\n",
    "- B. Top 10 most frequent words (please use the count information), i.e., unigrams\n",
    "- C. 20 Most/Least densely appearing words (count/pages_count) sorted in decreasing order of relative frequency \n",
    "- D. Distribution of 5-gram sizes (character length).  E.g., count (using the count field) up how many times a 5-gram of 50 characters shows up. Plot the data graphically using a histogram."
   ]
  },
  {
   "cell_type": "markdown",
   "metadata": {},
   "source": [
    "### HW5.6.1 - A. Longest 5-gram (number of characters)"
   ]
  },
  {
   "cell_type": "code",
   "execution_count": 35,
   "metadata": {},
   "outputs": [
    {
     "name": "stdout",
     "output_type": "stream",
     "text": [
      "Overwriting longest5gram.py\n"
     ]
    }
   ],
   "source": [
    "%%writefile longest5gram.py\n",
    "#!~/anaconda2/bin/python\n",
    "# -*- coding: utf-8 -*-\n",
    "\n",
    "import re\n",
    "\n",
    "import mrjob\n",
    "from mrjob.protocol import RawProtocol\n",
    "from mrjob.job import MRJob\n",
    "from mrjob.step import MRStep\n",
    "\n",
    "class longest5gram(MRJob):\n",
    "#     SORT_VALUES = True\n",
    "    def mapper(self, _, line):\n",
    "        fields = line.strip(\"\\n\").split(\"\\t\")\n",
    "        yield len(fields[0]), fields[0]\n",
    "    \n",
    "    def reducer_init(self):\n",
    "        self.longest_ngrams = None\n",
    "        self.longest_size = 0\n",
    "        \n",
    "    def reducer(self, key, values):\n",
    "        if int(key)> self.longest_size:\n",
    "            self.longest_size = int(key)\n",
    "            self.longest_ngrams = list(values)\n",
    "            \n",
    "    def reducer_final(self):\n",
    "        yield self.longest_size, \";\".join(list(self.longest_ngrams))\n",
    "    \n",
    "    def reducer_2_init(self):\n",
    "        self.longest_2_ngrams = None\n",
    "        self.longest_2_size = 0\n",
    "    \n",
    "    def reducer_2(self, key, values):\n",
    "        if int(key)> self.longest_2_size:\n",
    "            self.longest_2_size = int(key)\n",
    "            self.longest_2_ngrams = values\n",
    "        elif int(key) == self.longest_2_size:\n",
    "            self.longest_2_ngrams = list(self.longest_2_ngrams)+list(values)\n",
    "            \n",
    "    def reducer_2_final(self):\n",
    "        yield self.longest_2_size, \";\".join(list(self.longest_2_ngrams))\n",
    "        \n",
    "    def steps(self):\n",
    "        return [\n",
    "            MRStep(\n",
    "                mapper = self.mapper,\n",
    "                reducer_init = self.reducer_init,\n",
    "                reducer_final = self.reducer_final,\n",
    "                reducer = self.reducer,\n",
    "                jobconf={\n",
    "                    \"mapreduce.job.reduces\": \"2\",\n",
    "                    \"stream.num.map.output.key.fields\": 1,\n",
    "                    \"mapreduce.job.output.key.comparator.class\" : \"org.apache.hadoop.mapred.lib.KeyFieldBasedComparator\",\n",
    "                    \"mapreduce.partition.keycomparator.options\":\"-k1,1nr\",\n",
    "                }\n",
    "#                 jobconf={\n",
    "#                     \"stream.num.map.output.key.fields\": 1,\n",
    "#                     \"mapreduce.job.output.key.comparator.class\" : \"org.apache.hadoop.mapred.lib.KeyFieldBasedComparator\",\n",
    "#                     \"mapreduce.partition.keycomparator.options\":\"-k1,1nr\",\n",
    "#                     \"mapred.num.key.comparator.options\":\"-k1,1nr\",\n",
    "#                     \"mapred.text.key.comparator.options\": \"-k1,1nr\",\n",
    "#                     \"SORT_VALUES\":True\n",
    "#                 }\n",
    "            ),\n",
    "            MRStep(\n",
    "                reducer_init = self.reducer_2_init,\n",
    "                reducer_final = self.reducer_2_final,\n",
    "                reducer = self.reducer_2,\n",
    "                jobconf={\n",
    "                    \"mapreduce.job.reduces\": \"1\"\n",
    "                }\n",
    "            )\n",
    "        ]\n",
    "    \n",
    "if __name__ == '__main__':\n",
    "    longest5gram.run()"
   ]
  },
  {
   "cell_type": "markdown",
   "metadata": {},
   "source": [
    "__On test data set:__"
   ]
  },
  {
   "cell_type": "code",
   "execution_count": null,
   "metadata": {
    "collapsed": true
   },
   "outputs": [],
   "source": [
    "OUTPUT_PATH = os.path.join(OUTPUT_PATH_BASE,'longest_sample')\n",
    "!hadoop fs -rm -r {OUTPUT_PATH}\n",
    "!python longest5gram.py \\\n",
    "        -r hadoop googlebooks-eng-all-5gram-20090715-0-filtered-first-10-lines.txt \\\n",
    "        --output-dir={OUTPUT_PATH} \\\n",
    "        --no-output\n",
    "\n",
    "!hadoop fs -cat {OUTPUT_PATH}/*"
   ]
  },
  {
   "cell_type": "code",
   "execution_count": null,
   "metadata": {},
   "outputs": [],
   "source": [
    "OUTPUT_PATH = os.path.join(OUTPUT_PATH_BASE,'longest_test1')\n",
    "!hadoop fs -rm -r {OUTPUT_PATH}\n",
    "!python longest5gram.py \\\n",
    "        -r hadoop hdfs://{TEST_1} \\\n",
    "        --output-dir={OUTPUT_PATH} \\\n",
    "        --no-output\n",
    "\n",
    "!hadoop fs -cat {OUTPUT_PATH}/*"
   ]
  },
  {
   "cell_type": "code",
   "execution_count": null,
   "metadata": {
    "collapsed": true
   },
   "outputs": [],
   "source": []
  },
  {
   "cell_type": "markdown",
   "metadata": {
    "collapsed": true
   },
   "source": [
    "__ On the 20 files dataset: __"
   ]
  },
  {
   "cell_type": "code",
   "execution_count": null,
   "metadata": {
    "collapsed": true
   },
   "outputs": [],
   "source": [
    "OUTPUT_PATH = os.path.join(OUTPUT_PATH_BASE,'longest_test20')\n",
    "!hadoop fs -rm -r {OUTPUT_PATH}\n",
    "!python longest5gram.py \\\n",
    "        -r hadoop hdfs://{TEST_20} \\\n",
    "        --output-dir={OUTPUT_PATH} \\\n",
    "        --no-output\n",
    "\n",
    "!hadoop fs -cat {OUTPUT_PATH}/*"
   ]
  },
  {
   "cell_type": "code",
   "execution_count": null,
   "metadata": {
    "collapsed": true
   },
   "outputs": [],
   "source": []
  },
  {
   "cell_type": "markdown",
   "metadata": {},
   "source": [
    "__On full data set:__"
   ]
  },
  {
   "cell_type": "code",
   "execution_count": null,
   "metadata": {
    "collapsed": true
   },
   "outputs": [],
   "source": [
    "OUTPUT_PATH = os.path.join(OUTPUT_PATH_BASE,'longest_full')\n",
    "!hadoop fs -rm -r {OUTPUT_PATH}\n",
    "!python longest5gram.py \\\n",
    "        -r hadoop hdfs://{FULL_DATA} \\\n",
    "        --output-dir={OUTPUT_PATH} \\\n",
    "        --no-output\n",
    "\n",
    "!hadoop fs -cat {OUTPUT_PATH}/*"
   ]
  },
  {
   "cell_type": "code",
   "execution_count": null,
   "metadata": {
    "collapsed": true
   },
   "outputs": [],
   "source": []
  },
  {
   "cell_type": "markdown",
   "metadata": {},
   "source": [
    "### Longest 5grams MR stats\n",
    "\n",
    "    ec2_instance_type: m3.xlarge\n",
    "    num_ec2_instances: 15\n",
    "\n",
    "__Step 1:__  \n",
    "\n",
    "    RUNNING for 107.0s ~= 2 minutes  \n",
    "    Reduce tasks = 16 \n",
    "    \n",
    "__Step 2:__   \n",
    "\n",
    "    RUNNING for 108.8s ~= 2 minutes\n",
    "    Reduce tasks = 1  "
   ]
  },
  {
   "cell_type": "markdown",
   "metadata": {},
   "source": [
    "### HW5.6.1 - B. Top 10 most frequent words "
   ]
  },
  {
   "cell_type": "code",
   "execution_count": null,
   "metadata": {
    "collapsed": true
   },
   "outputs": [],
   "source": [
    "%%writefile mostFrequentWords.py\n",
    "#!~/anaconda2/bin/python\n",
    "# -*- coding: utf-8 -*-\n",
    "\n",
    "import re\n",
    "\n",
    "import mrjob\n",
    "from mrjob.protocol import RawProtocol\n",
    "from mrjob.job import MRJob\n",
    "from mrjob.step import MRStep\n",
    "\n",
    "class mostFrequentWords(MRJob):\n",
    "\n",
    "    \n",
    "    # START STUDENT CODE 5.6.1.B\n",
    "    \n",
    "    # END STUDENT CODE 5.6.1.B\n",
    "        \n",
    "        \n",
    "if __name__ == '__main__':\n",
    "    mostFrequentWords.run()"
   ]
  },
  {
   "cell_type": "markdown",
   "metadata": {},
   "source": [
    "__On the test data set:__"
   ]
  },
  {
   "cell_type": "code",
   "execution_count": null,
   "metadata": {
    "collapsed": true
   },
   "outputs": [],
   "source": []
  },
  {
   "cell_type": "code",
   "execution_count": null,
   "metadata": {
    "collapsed": true
   },
   "outputs": [],
   "source": []
  },
  {
   "cell_type": "markdown",
   "metadata": {},
   "source": [
    "__ On the 20 files dataset: __"
   ]
  },
  {
   "cell_type": "code",
   "execution_count": null,
   "metadata": {
    "collapsed": true
   },
   "outputs": [],
   "source": []
  },
  {
   "cell_type": "code",
   "execution_count": null,
   "metadata": {
    "collapsed": true
   },
   "outputs": [],
   "source": []
  },
  {
   "cell_type": "markdown",
   "metadata": {},
   "source": [
    "__On the full data set:__"
   ]
  },
  {
   "cell_type": "code",
   "execution_count": null,
   "metadata": {
    "collapsed": true
   },
   "outputs": [],
   "source": []
  },
  {
   "cell_type": "code",
   "execution_count": null,
   "metadata": {
    "collapsed": true
   },
   "outputs": [],
   "source": []
  },
  {
   "cell_type": "markdown",
   "metadata": {},
   "source": [
    "### Most frequent words MR stats\n",
    "    \n",
    "    ec2_instance_type: m3.xlarge\n",
    "    num_ec2_instances: 15\n",
    "    \n",
    "__Step 1:__   \n",
    "\n",
    "    RUNNING for 590.7s ~= 10 minutes   \n",
    "    Launched map tasks=191  \n",
    "    Launched reduce tasks=57   \n",
    "\n",
    "__Step 2:__  \n",
    "\n",
    "    RUNNING for 76.6s   \n",
    "    Launched map tasks=110\n",
    "    Launched reduce tasks=16  \n"
   ]
  },
  {
   "cell_type": "markdown",
   "metadata": {},
   "source": [
    "### HW5.6.1 - C. 20 Most/Least densely appearing words "
   ]
  },
  {
   "cell_type": "code",
   "execution_count": null,
   "metadata": {
    "collapsed": true
   },
   "outputs": [],
   "source": [
    "%%writefile mostLeastDenseWords.py\n",
    "#!~/anaconda2/bin/python\n",
    "# -*- coding: utf-8 -*-\n",
    "from __future__ import division\n",
    "import re\n",
    "import numpy as np\n",
    "import mrjob\n",
    "from mrjob.protocol import RawProtocol\n",
    "from mrjob.job import MRJob\n",
    "from mrjob.step import MRStep\n",
    "\n",
    "class mostLeastDenseWords(MRJob):\n",
    "    \n",
    "    # START STUDENT CODE 5.6.1.C\n",
    "    \n",
    "    # END STUDENT CODE 5.6.1.C\n",
    "        \n",
    "if __name__ == '__main__':\n",
    "    mostLeastDenseWords.run()"
   ]
  },
  {
   "cell_type": "markdown",
   "metadata": {},
   "source": [
    "__On the test data set:__"
   ]
  },
  {
   "cell_type": "code",
   "execution_count": null,
   "metadata": {
    "collapsed": true
   },
   "outputs": [],
   "source": []
  },
  {
   "cell_type": "code",
   "execution_count": null,
   "metadata": {
    "collapsed": true
   },
   "outputs": [],
   "source": []
  },
  {
   "cell_type": "markdown",
   "metadata": {},
   "source": [
    "__ On the 20 files dataset: __"
   ]
  },
  {
   "cell_type": "code",
   "execution_count": null,
   "metadata": {
    "collapsed": true
   },
   "outputs": [],
   "source": []
  },
  {
   "cell_type": "code",
   "execution_count": null,
   "metadata": {
    "collapsed": true
   },
   "outputs": [],
   "source": []
  },
  {
   "cell_type": "markdown",
   "metadata": {},
   "source": [
    "__On the full data set:__"
   ]
  },
  {
   "cell_type": "code",
   "execution_count": null,
   "metadata": {
    "collapsed": true
   },
   "outputs": [],
   "source": []
  },
  {
   "cell_type": "code",
   "execution_count": null,
   "metadata": {
    "collapsed": true
   },
   "outputs": [],
   "source": []
  },
  {
   "cell_type": "markdown",
   "metadata": {},
   "source": [
    "### Word density MR stats\n",
    "\n",
    "    ec2_instance_type: m3.xlarge\n",
    "    num_ec2_instances: 15\n",
    "    \n",
    "__Step 1:__ \n",
    "\n",
    "    RUNNING for 649.2s  ~= 10 minutes      \n",
    "    Launched map tasks=190   \n",
    "    Launched reduce tasks=57     \n",
    "\n",
    "__Step 2:__  \n",
    "\n",
    "    RUNNING for 74.4s  ~= 1 minute    \n",
    "    Launched map tasks=110   \n",
    "    Launched reduce tasks=20   "
   ]
  },
  {
   "cell_type": "markdown",
   "metadata": {},
   "source": [
    "### HW5.6.1 - D. Distribution of 5-gram sizes (character length)"
   ]
  },
  {
   "cell_type": "code",
   "execution_count": null,
   "metadata": {
    "collapsed": true
   },
   "outputs": [],
   "source": [
    "%%writefile distribution.py\n",
    "#!~/anaconda2/bin/python\n",
    "# -*- coding: utf-8 -*-\n",
    "\n",
    "import mrjob\n",
    "from mrjob.protocol import RawProtocol\n",
    "from mrjob.job import MRJob\n",
    "from mrjob.step import MRStep\n",
    "\n",
    "class distribution(MRJob):\n",
    "    \n",
    "    # START STUDENT CODE 5.6.1.D\n",
    "    \n",
    "    # END STUDENT CODE 5.6.1.D\n",
    "    \n",
    "if __name__ == '__main__':\n",
    "    distribution.run()"
   ]
  },
  {
   "cell_type": "markdown",
   "metadata": {},
   "source": [
    "__On the test data set:__"
   ]
  },
  {
   "cell_type": "code",
   "execution_count": null,
   "metadata": {
    "collapsed": true
   },
   "outputs": [],
   "source": []
  },
  {
   "cell_type": "code",
   "execution_count": null,
   "metadata": {
    "collapsed": true
   },
   "outputs": [],
   "source": []
  },
  {
   "cell_type": "markdown",
   "metadata": {},
   "source": [
    "__ On the 20 files dataset: __"
   ]
  },
  {
   "cell_type": "code",
   "execution_count": null,
   "metadata": {
    "collapsed": true
   },
   "outputs": [],
   "source": []
  },
  {
   "cell_type": "code",
   "execution_count": null,
   "metadata": {
    "collapsed": true
   },
   "outputs": [],
   "source": []
  },
  {
   "cell_type": "markdown",
   "metadata": {},
   "source": [
    "__On the full data set:__"
   ]
  },
  {
   "cell_type": "code",
   "execution_count": null,
   "metadata": {
    "collapsed": true
   },
   "outputs": [],
   "source": []
  },
  {
   "cell_type": "code",
   "execution_count": null,
   "metadata": {
    "collapsed": true
   },
   "outputs": [],
   "source": []
  },
  {
   "cell_type": "markdown",
   "metadata": {},
   "source": [
    "### Distribution MRJob stats\n",
    "\n",
    "__Step 1:__ \n",
    "\n",
    "    RUNNING for 157.8s ~= 2.6 minutes  \n",
    "    Launched map tasks=191  \n",
    "    Launched reduce tasks=16   \n",
    "    \n",
    "__Step 2:__  \n",
    "\n",
    "    RUNNING for 115.0s ~= 2 minutes   \n",
    "    Launched map tasks=139\n",
    "\tLaunched reduce tasks=1  "
   ]
  },
  {
   "cell_type": "code",
   "execution_count": null,
   "metadata": {
    "collapsed": true
   },
   "outputs": [],
   "source": [
    "%matplotlib inline\n",
    "import numpy as np\n",
    "import pylab as pl\n",
    "\n",
    "results_A = []\n",
    "for line in open(\"5.6distributions/part-00000\").readlines():\n",
    "    line = line.strip()\n",
    "    X,Y = line.split(\"\\t\")\n",
    "    results_A.append([int(X),int(Y)])\n",
    "\n",
    "items = (np.array(results_A)[::-1].T)\n",
    "fig = pl.figure(figsize=(17,7))\n",
    "ax = pl.subplot(111)\n",
    "width=0.8\n",
    "ax.bar(range(len(items[0])), items[1], width=width)\n",
    "ax.set_xticks(np.arange(len(items[0])) + width/2)\n",
    "ax.set_xticklabels(items[0], rotation=90)\n",
    "\n",
    "\n",
    "\n",
    "pl.title(\"Distributions of 5 Gram lengths\")\n",
    "pl.show()"
   ]
  },
  {
   "cell_type": "code",
   "execution_count": null,
   "metadata": {
    "collapsed": true
   },
   "outputs": [],
   "source": []
  },
  {
   "cell_type": "code",
   "execution_count": null,
   "metadata": {
    "collapsed": true
   },
   "outputs": [],
   "source": []
  },
  {
   "cell_type": "markdown",
   "metadata": {},
   "source": [
    "### HW5.6.2 - OPTIONAL: log-log plots (PHASE 2)\n",
    "\n",
    "Plot the log-log plot of the frequency distributuion of unigrams. Does it follow power law distribution?\n",
    "\n",
    "For more background see:\n",
    "- https://en.wikipedia.org/wiki/Log%E2%80%93log_plot\n",
    "- https://en.wikipedia.org/wiki/Power_law"
   ]
  },
  {
   "cell_type": "code",
   "execution_count": null,
   "metadata": {
    "collapsed": true
   },
   "outputs": [],
   "source": []
  },
  {
   "cell_type": "code",
   "execution_count": null,
   "metadata": {
    "collapsed": true
   },
   "outputs": [],
   "source": []
  },
  {
   "cell_type": "markdown",
   "metadata": {},
   "source": [
    "# HW5.7 - Synonym detection over 2Gig of Data with extra Preprocessing steps (HW5.3-5 plus some preprocessing)   \n",
    "\n",
    "For the remainder of this assignment please feel free to eliminate stop words from your analysis (see stopWords in the cell below)\n",
    "\n",
    "__A large subset of the Google n-grams dataset as was described above__\n",
    "\n",
    "For each HW 5.6 - 5.7.1 Please unit test and system test your code with respect \n",
    "to SYSTEMS TEST DATASET and show the results. \n",
    "Please compute the expected answer by hand and show your hand calculations for the \n",
    "SYSTEMS TEST DATASET. Then show the results you get with your system.\n",
    "\n",
    "In this part of the assignment we will focus on developing methods for detecting synonyms, using the Google 5-grams dataset. At a high level:\n",
    "\n",
    "\n",
    "1. remove stopwords\n",
    "2. get 10,000 most frequent\n",
    "3. get 1000 (9001-10000) features\n",
    "3. build stripes\n",
    "\n",
    "To accomplish this you must script two main tasks using MRJob:\n",
    "\n",
    "\n",
    "__TASK (1)__ Build stripes for the most frequent 10,000 words using cooccurence information based on\n",
    "the words ranked from 9001,-10,000 as a basis/vocabulary (drop stopword-like terms),\n",
    "and output to a file in your bucket on s3 (bigram analysis, though the words are non-contiguous).\n",
    "\n",
    "\n",
    "__TASK (2)__ Using two (symmetric) comparison methods of your choice \n",
    "(e.g., correlations, distances, similarities), pairwise compare \n",
    "all stripes (vectors), and output to a file in your bucket on s3.\n",
    "\n",
    "\n",
    "For this task you will have to determine a method of comparison.\n",
    "Here are a few that you might consider:\n",
    "\n",
    "- Jaccard\n",
    "- Cosine similarity\n",
    "- Spearman correlation\n",
    "- Euclidean distance\n",
    "- Taxicab (Manhattan) distance\n",
    "- Shortest path graph distance (a graph, because our data is symmetric!)\n",
    "- Pearson correlation\n",
    "- Kendall correlation\n",
    "\n",
    "However, be cautioned that some comparison methods are more difficult to\n",
    "parallelize than others, and do not perform more associations than is necessary, \n",
    "since your choice of association will be symmetric.\n",
    "\n",
    "Please report the size of the cluster used and the amount of time it takes to run for the index construction task and for the synonym calculation task. How many pairs need to be processed (HINT: use the posting list length to calculate directly)? Report your  Cluster configuration!"
   ]
  },
  {
   "cell_type": "code",
   "execution_count": null,
   "metadata": {
    "collapsed": true
   },
   "outputs": [],
   "source": [
    "stopwords =  ['i', 'me', 'my', 'myself', 'we', 'our', 'ours', \n",
    "              'ourselves', 'you', 'your', 'yours', 'yourself', \n",
    "              'yourselves', 'he', 'him', 'his', 'himself', 'she', \n",
    "              'her', 'hers', 'herself', 'it', 'its', 'itself', \n",
    "              'they', 'them', 'their', 'theirs', 'themselves', \n",
    "              'what', 'which', 'who', 'whom', 'this', 'that', \n",
    "              'these', 'those', 'am', 'is', 'are', 'was', 'were', \n",
    "              'be', 'been', 'being', 'have', 'has', 'had', 'having', \n",
    "              'do', 'does', 'did', 'doing', 'a', 'an', 'the', 'and', \n",
    "              'but', 'if', 'or', 'because', 'as', 'until', 'while', \n",
    "              'of', 'at', 'by', 'for', 'with', 'about', 'against', \n",
    "              'between', 'into', 'through', 'during', 'before', \n",
    "              'after', 'above', 'below', 'to', 'from', 'up', 'down', \n",
    "              'in', 'out', 'on', 'off', 'over', 'under', 'again', \n",
    "              'further', 'then', 'once', 'here', 'there', 'when', \n",
    "              'where', 'why', 'how', 'all', 'any', 'both', 'each', \n",
    "              'few', 'more', 'most', 'other', 'some', 'such', 'no', \n",
    "              'nor', 'not', 'only', 'own', 'same', 'so', 'than', \n",
    "              'too', 'very', 's', 't', 'can', 'will', 'just', \n",
    "              'don', 'should', 'now']"
   ]
  },
  {
   "cell_type": "markdown",
   "metadata": {},
   "source": [
    "### HW5.7.1 Running on 1 file"
   ]
  },
  {
   "cell_type": "code",
   "execution_count": null,
   "metadata": {
    "collapsed": true
   },
   "outputs": [],
   "source": [
    "# ADD CELLS AS NEEDED"
   ]
  },
  {
   "cell_type": "markdown",
   "metadata": {},
   "source": [
    "### HW5.7.2 Running on 20 test files"
   ]
  },
  {
   "cell_type": "code",
   "execution_count": null,
   "metadata": {
    "collapsed": true
   },
   "outputs": [],
   "source": [
    "# ADD CELLS AS NEEDED"
   ]
  },
  {
   "cell_type": "markdown",
   "metadata": {},
   "source": [
    "### HW5.7.3 Running the full dataset on Altiscale\n",
    "\n",
    "Please contact the TAs for approval after obtaining results from 5.7.2. We have ran into issues in the past where the clusters froze because people did not test their code on a smaller dataset."
   ]
  },
  {
   "cell_type": "code",
   "execution_count": null,
   "metadata": {
    "collapsed": true
   },
   "outputs": [],
   "source": [
    "# ADD CELLS AS NEEDED"
   ]
  },
  {
   "cell_type": "markdown",
   "metadata": {},
   "source": [
    "#### Pretty print results\n",
    "NOTE: depending on how you processed the stop words your results may differ from the table provided. "
   ]
  },
  {
   "cell_type": "code",
   "execution_count": null,
   "metadata": {
    "collapsed": true
   },
   "outputs": [],
   "source": [
    "print \"\\nTop/Bottom 20 results - Similarity measures - sorted by cosine\"\n",
    "print \"(From the entire data set)\"\n",
    "print '—'*117\n",
    "print \"{0:>30} |{1:>15} |{2:>15} |{3:>15} |{4:>15} |{5:>15}\".format(\n",
    "        \"pair\", \"cosine\", \"jaccard\", \"overlap\", \"dice\", \"average\")\n",
    "print '-'*117\n",
    "\n",
    "for stripe in sortedSims[:20]:\n",
    "    print \"{0:>30} |{1:>15f} |{2:>15f} |{3:>15f} |{4:>15f} |{5:>15f}\".format(\n",
    "        stripe[0], float(stripe[1]), float(stripe[2]), float(stripe[3]), float(stripe[4]), float(stripe[5]) )\n",
    "\n",
    "print '—'*117\n",
    "\n",
    "for stripe in sortedSims[-20:]:\n",
    "    print \"{0:>30} |{1:>15f} |{2:>15f} |{3:>15f} |{4:>15f} |{5:>15f}\".format(\n",
    "        stripe[0], float(stripe[1]), float(stripe[2]), float(stripe[3]), float(stripe[4]), float(stripe[5]) )\n"
   ]
  },
  {
   "cell_type": "code",
   "execution_count": null,
   "metadata": {
    "collapsed": true
   },
   "outputs": [],
   "source": [
    "Top/Bottom 20 results - Similarity measures - sorted by cosine\n",
    "(From the entire data set)\n",
    "—————————————————————————————————————————————————————————————————————————————————————————————————————————————————————\n",
    "                          pair |         cosine |        jaccard |        overlap |           dice |        average\n",
    "---------------------------------------------------------------------------------------------------------------------\n",
    "                   cons - pros |       0.894427 |       0.800000 |       1.000000 |       0.888889 |       0.895829\n",
    "            forties - twenties |       0.816497 |       0.666667 |       1.000000 |       0.800000 |       0.820791\n",
    "                    own - time |       0.809510 |       0.670563 |       0.921168 |       0.802799 |       0.801010\n",
    "                 little - time |       0.784197 |       0.630621 |       0.926101 |       0.773473 |       0.778598\n",
    "                  found - time |       0.783434 |       0.636364 |       0.883788 |       0.777778 |       0.770341\n",
    "                 nova - scotia |       0.774597 |       0.600000 |       1.000000 |       0.750000 |       0.781149\n",
    "                   hong - kong |       0.769800 |       0.615385 |       0.888889 |       0.761905 |       0.758995\n",
    "                   life - time |       0.769666 |       0.608789 |       0.925081 |       0.756829 |       0.765091\n",
    "                  time - world |       0.755476 |       0.585049 |       0.937500 |       0.738209 |       0.754058\n",
    "                  means - time |       0.752181 |       0.587117 |       0.902597 |       0.739854 |       0.745437\n",
    "                   form - time |       0.749943 |       0.588418 |       0.876733 |       0.740885 |       0.738995\n",
    "       infarction - myocardial |       0.748331 |       0.560000 |       1.000000 |       0.717949 |       0.756570\n",
    "                 people - time |       0.745788 |       0.573577 |       0.923875 |       0.729010 |       0.743063\n",
    "                 angeles - los |       0.745499 |       0.586207 |       0.850000 |       0.739130 |       0.730209\n",
    "                  little - own |       0.739343 |       0.585834 |       0.767296 |       0.738834 |       0.707827\n",
    "                    life - own |       0.737053 |       0.582217 |       0.778502 |       0.735951 |       0.708430\n",
    "          anterior - posterior |       0.733388 |       0.576471 |       0.790323 |       0.731343 |       0.707881\n",
    "                  power - time |       0.719611 |       0.533623 |       0.933586 |       0.695898 |       0.720680\n",
    "              dearly - install |       0.707107 |       0.500000 |       1.000000 |       0.666667 |       0.718443\n",
    "                   found - own |       0.704802 |       0.544134 |       0.710949 |       0.704776 |       0.666165\n",
    "—————————————————————————————————————————————————————————————————————————————————————————————————————————————————————\n",
    "           arrival - essential |       0.008258 |       0.004098 |       0.009615 |       0.008163 |       0.007534\n",
    "         governments - surface |       0.008251 |       0.003534 |       0.014706 |       0.007042 |       0.008383\n",
    "                king - lesions |       0.008178 |       0.003106 |       0.017857 |       0.006192 |       0.008833\n",
    "              clinical - stood |       0.008178 |       0.003831 |       0.011905 |       0.007634 |       0.007887\n",
    "               till - validity |       0.008172 |       0.003367 |       0.015625 |       0.006711 |       0.008469\n",
    "            evidence - started |       0.008159 |       0.003802 |       0.012048 |       0.007576 |       0.007896\n",
    "               forces - record |       0.008152 |       0.003876 |       0.011364 |       0.007722 |       0.007778\n",
    "               primary - stone |       0.008146 |       0.004065 |       0.009091 |       0.008097 |       0.007350\n",
    "             beneath - federal |       0.008134 |       0.004082 |       0.008403 |       0.008130 |       0.007187\n",
    "                factors - rose |       0.008113 |       0.004032 |       0.009346 |       0.008032 |       0.007381\n",
    "           evening - functions |       0.008069 |       0.004049 |       0.008333 |       0.008065 |       0.007129\n",
    "                   bone - told |       0.008061 |       0.003704 |       0.012346 |       0.007380 |       0.007873\n",
    "             building - occurs |       0.008002 |       0.003891 |       0.010309 |       0.007752 |       0.007489\n",
    "                 company - fig |       0.007913 |       0.003257 |       0.015152 |       0.006494 |       0.008204\n",
    "               chronic - north |       0.007803 |       0.003268 |       0.014493 |       0.006515 |       0.008020\n",
    "             evaluation - king |       0.007650 |       0.003030 |       0.015625 |       0.006042 |       0.008087\n",
    "             resulting - stood |       0.007650 |       0.003663 |       0.010417 |       0.007299 |       0.007257\n",
    "                 agent - round |       0.007515 |       0.003289 |       0.012821 |       0.006557 |       0.007546\n",
    "         afterwards - analysis |       0.007387 |       0.003521 |       0.010204 |       0.007018 |       0.007032\n",
    "            posterior - spirit |       0.007156 |       0.002660 |       0.016129 |       0.005305 |       0.007812"
   ]
  },
  {
   "cell_type": "markdown",
   "metadata": {},
   "source": [
    "# HW5.8 - Evaluation of synonyms that your discovered\n",
    "\n",
    "In this part of the assignment you will evaluate the success of you synonym detector. Take the top 1,000 closest/most similar/correlative pairs of words as determined by your measure in HW5.7, and use the synonyms function from the wordnet synonnyms list from the nltk package (see provided code below).\n",
    "\n",
    "For each (word1,word2) pair, check to see if word1 is in the list, \n",
    "synonyms(word2), and vice-versa. If one of the two is a synonym of the other, \n",
    "then consider this pair a 'hit', and then report the precision, recall, and F1 measure  of \n",
    "your detector across your 1,000 best guesses. Report the macro averages of these measures."
   ]
  },
  {
   "cell_type": "markdown",
   "metadata": {
    "collapsed": true
   },
   "source": [
    "### Calculate performance measures:\n",
    "$$Precision (P) = \\frac{TP}{TP + FP} $$  \n",
    "$$Recall (R) = \\frac{TP}{TP + FN} $$  \n",
    "$$F1 = \\frac{2 * ( precision * recall )}{precision + recall}$$\n",
    "\n",
    "\n",
    "We calculate Precision by counting the number of hits and dividing by the number of occurances in our top1000 (opportunities)   \n",
    "We calculate Recall by counting the number of hits, and dividing by the number of synonyms in wordnet (syns)\n",
    "\n",
    "\n",
    "Other diagnostic measures not implemented here:  https://en.wikipedia.org/wiki/F1_score#Diagnostic_Testing"
   ]
  },
  {
   "cell_type": "code",
   "execution_count": null,
   "metadata": {
    "collapsed": true
   },
   "outputs": [],
   "source": [
    "''' Performance measures '''\n",
    "from __future__ import division\n",
    "import numpy as np\n",
    "import json\n",
    "import nltk\n",
    "from nltk.corpus import wordnet as wn\n",
    "import sys\n",
    "#print all the synset element of an element\n",
    "def synonyms(string):\n",
    "    syndict = {}\n",
    "    for i,j in enumerate(wn.synsets(string)):\n",
    "        syns = j.lemma_names()\n",
    "        for syn in syns:\n",
    "            syndict.setdefault(syn,1)\n",
    "    return syndict.keys()\n",
    "hits = []\n",
    "\n",
    "TP = 0\n",
    "FP = 0\n",
    "\n",
    "TOTAL = 0\n",
    "flag = False # so we don't double count, but at the same time don't miss hits\n",
    "\n",
    "top1000sims = []\n",
    "with open(\"sims2/top1000sims\",\"r\") as f:\n",
    "    for line in f.readlines():\n",
    "\n",
    "        line = line.strip()\n",
    "        avg,lisst = line.split(\"\\t\")\n",
    "        lisst = json.loads(lisst)\n",
    "        lisst.append(avg)\n",
    "        top1000sims.append(lisst)\n",
    "    \n",
    "\n",
    "measures = {}\n",
    "not_in_wordnet = []\n",
    "\n",
    "for line in top1000sims:\n",
    "    TOTAL += 1\n",
    "\n",
    "    pair = line[0]\n",
    "    words = pair.split(\" - \")\n",
    "    \n",
    "    for word in words:\n",
    "        if word not in measures:\n",
    "            measures[word] = {\"syns\":0,\"opps\": 0,\"hits\":0}\n",
    "        measures[word][\"opps\"] += 1 \n",
    "    \n",
    "    syns0 = synonyms(words[0])\n",
    "    measures[words[1]][\"syns\"] = len(syns0)\n",
    "    if len(syns0) == 0:\n",
    "        not_in_wordnet.append(words[0])\n",
    "        \n",
    "    if words[1] in syns0:\n",
    "        TP += 1\n",
    "        hits.append(line)\n",
    "        flag = True\n",
    "        measures[words[1]][\"hits\"] += 1\n",
    "        \n",
    "        \n",
    "        \n",
    "    syns1 = synonyms(words[1]) \n",
    "    measures[words[0]][\"syns\"] = len(syns1)\n",
    "    if len(syns1) == 0:\n",
    "        not_in_wordnet.append(words[1])\n",
    "\n",
    "    if words[0] in syns1:\n",
    "        if flag == False:\n",
    "            TP += 1\n",
    "            hits.append(line)\n",
    "            measures[words[0]][\"hits\"] += 1\n",
    "            \n",
    "    flag = False    \n",
    "\n",
    "precision = []\n",
    "recall = []\n",
    "f1 = []\n",
    "\n",
    "for key in measures:\n",
    "    p,r,f = 0,0,0\n",
    "    if measures[key][\"hits\"] > 0 and measures[key][\"syns\"] > 0:\n",
    "        p = measures[key][\"hits\"]/measures[key][\"opps\"]\n",
    "        r = measures[key][\"hits\"]/measures[key][\"syns\"]\n",
    "        f = 2 * (p*r)/(p+r)\n",
    "    \n",
    "    # For calculating measures, only take into account words that have synonyms in wordnet\n",
    "    if measures[key][\"syns\"] > 0:\n",
    "        precision.append(p)\n",
    "        recall.append(r)\n",
    "        f1.append(f)\n",
    "\n",
    "    \n",
    "# Take the mean of each measure    \n",
    "print \"—\"*110    \n",
    "print \"Number of Hits:\",TP, \"out of top\",TOTAL\n",
    "print \"Number of words without synonyms:\",len(not_in_wordnet)\n",
    "print \"—\"*110 \n",
    "print \"Precision\\t\", np.mean(precision)\n",
    "print \"Recall\\t\\t\", np.mean(recall)\n",
    "print \"F1\\t\\t\", np.mean(f1)\n",
    "print \"—\"*110  \n",
    "\n",
    "print \"Words without synonyms:\"\n",
    "print \"-\"*100\n",
    "\n",
    "for word in not_in_wordnet:\n",
    "    print synonyms(word),word\n",
    "\n",
    "    "
   ]
  },
  {
   "cell_type": "markdown",
   "metadata": {},
   "source": [
    "### Sample output"
   ]
  },
  {
   "cell_type": "code",
   "execution_count": null,
   "metadata": {
    "collapsed": true
   },
   "outputs": [],
   "source": [
    "——————————————————————————————————————————————————————————————————————————————————————————————————————————————\n",
    "Number of Hits: 31 out of top 1000\n",
    "Number of words without synonyms: 67\n",
    "——————————————————————————————————————————————————————————————————————————————————————————————————————————————\n",
    "Precision\t0.0280214404967\n",
    "Recall\t\t0.0178598869579\n",
    "F1\t\t0.013965517619\n",
    "——————————————————————————————————————————————————————————————————————————————————————————————————————————————\n",
    "Words without synonyms:\n",
    "----------------------------------------------------------------------------------------------------\n",
    "[] scotia\n",
    "[] hong\n",
    "[] kong\n",
    "[] angeles\n",
    "[] los\n",
    "[] nor\n",
    "[] themselves\n",
    "[] \n",
    "......."
   ]
  },
  {
   "cell_type": "markdown",
   "metadata": {},
   "source": [
    "# HW5.9 - OPTIONAL: using different vocabulary subsets\n",
    "\n",
    "Repeat HW5 using vocabulary words ranked from 8001,-10,000;  7001,-10,000; 6001,-10,000; 5001,-10,000; 3001,-10,000; and 1001,-10,000;\n",
    "Dont forget to report you Cluster configuration.\n",
    "\n",
    "Generate the following graphs:\n",
    "-- vocabulary size (X-Axis) versus CPU time for indexing\n",
    "-- vocabulary size (X-Axis) versus number of pairs processed\n",
    "-- vocabulary size (X-Axis) versus F1 measure, Precision, Recall"
   ]
  },
  {
   "cell_type": "code",
   "execution_count": null,
   "metadata": {
    "collapsed": true
   },
   "outputs": [],
   "source": []
  },
  {
   "cell_type": "code",
   "execution_count": null,
   "metadata": {
    "collapsed": true
   },
   "outputs": [],
   "source": []
  },
  {
   "cell_type": "markdown",
   "metadata": {},
   "source": []
  },
  {
   "cell_type": "markdown",
   "metadata": {},
   "source": [
    "# HW5.10  - OPTIONAL \n",
    "\n",
    "There are many good ways to build our synonym detectors, so for this optional homework, \n",
    "measure co-occurrence by (left/right/all) consecutive words only, \n",
    "or make stripes according to word co-occurrences with the accompanying \n",
    "2-, 3-, or 4-grams (note here that your output will no longer \n",
    "be interpretable as a network) inside of the 5-grams."
   ]
  },
  {
   "cell_type": "code",
   "execution_count": null,
   "metadata": {
    "collapsed": true
   },
   "outputs": [],
   "source": []
  },
  {
   "cell_type": "markdown",
   "metadata": {},
   "source": [
    "# HW5.11 - OPTIONAL \n",
    "\n",
    "Once again, benchmark your top 10,000 associations (as in 5.7), this time for your\n",
    "results from 5.8. Has your detector improved?"
   ]
  },
  {
   "cell_type": "code",
   "execution_count": null,
   "metadata": {
    "collapsed": true
   },
   "outputs": [],
   "source": []
  }
 ],
 "metadata": {
  "anaconda-cloud": {},
  "kernelspec": {
   "display_name": "Python [conda env:py27]",
   "language": "python",
   "name": "conda-env-py27-py"
  },
  "language_info": {
   "codemirror_mode": {
    "name": "ipython",
    "version": 2
   },
   "file_extension": ".py",
   "mimetype": "text/x-python",
   "name": "python",
   "nbconvert_exporter": "python",
   "pygments_lexer": "ipython2",
   "version": "2.7.14"
  },
  "toc": {
   "nav_menu": {
    "height": "511px",
    "width": "251px"
   },
   "number_sections": true,
   "sideBar": true,
   "skip_h1_title": false,
   "title_cell": "Table of Contents",
   "title_sidebar": "Contents",
   "toc_cell": false,
   "toc_position": {
    "height": "1080px",
    "left": "0px",
    "right": "1300px",
    "top": "107px",
    "width": "318px"
   },
   "toc_section_display": "block",
   "toc_window_display": true
  }
 },
 "nbformat": 4,
 "nbformat_minor": 1
}
