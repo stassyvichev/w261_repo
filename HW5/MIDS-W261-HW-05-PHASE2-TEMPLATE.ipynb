{
 "cells": [
  {
   "cell_type": "markdown",
   "metadata": {},
   "source": [
    "# MIDS - w261 Machine Learning At Scale\n",
    "__Course Lead:__ Dr James G. Shanahan (__email__ Jimi via  James.Shanahan _AT_ gmail.com)\n",
    "\n",
    "## Assignment - HW5 Phase 2\n",
    "\n",
    "\n",
    "---\n",
    "__Name:__  *Your Name Goes Here*   \n",
    "__Class:__ MIDS w261 (Section *Your Section Goes Here*, e.g., Fall 2016 Group 1)     \n",
    "__Email:__  *Your UC Berkeley Email Goes Here*@iSchool.Berkeley.edu     \n",
    "__StudentId__  123457    __End of StudentId__     \n",
    "__Week:__   5.5\n",
    "\n",
    "__NOTE:__ please replace `1234567` with your student id above      \n",
    "__Due Time:__ HW is due the Thursday of the following week by 8AM (West coast time).\n",
    "\n",
    "* __HW5 Phase 1__ \n",
    "This can be done on a local machine (with a unit test on the cloud such as Altiscale's PaaS or on AWS) and is due Thursday, Week 6 by 8AM (West coast time). It will primarily focus on building a unit/systems and for pairwise similarity calculations pipeline (for stripe documents)\n",
    "\n",
    "* __HW5 Phase 2__ \n",
    "This will require the Altiscale cluster and will be due Thursday of the following week by 8AM (West coast time). \n",
    "The focus of  HW5 Phase 2  will be to scale up the unit/systems tests to the Google 5 gram corpus. "
   ]
  },
  {
   "cell_type": "markdown",
   "metadata": {},
   "source": [
    "# Datasets\n",
    "\n",
    "For Phase 2 you will first use the small datasets from phase 1 to systems test your code in the cloud. Then you will test your code on 1 file and then 20 files before running the full (191 file) Google n-gram dataset."
   ]
  },
  {
   "cell_type": "markdown",
   "metadata": {},
   "source": [
    "__Small data for systems tests__"
   ]
  },
  {
   "cell_type": "code",
   "execution_count": 1,
   "metadata": {},
   "outputs": [
    {
     "name": "stdout",
     "output_type": "stream",
     "text": [
      "Overwriting atlas-boon-systems-test.txt\n"
     ]
    }
   ],
   "source": [
    "%%writefile atlas-boon-systems-test.txt\n",
    "atlas boon\t50\t50\t50\n",
    "boon cava dipped\t10\t10\t10\n",
    "atlas dipped\t15\t15\t15"
   ]
  },
  {
   "cell_type": "code",
   "execution_count": 23,
   "metadata": {},
   "outputs": [
    {
     "name": "stdout",
     "output_type": "stream",
     "text": [
      "Overwriting googlebooks-eng-all-5gram-20090715-0-filtered-first-10-lines.txt\n"
     ]
    }
   ],
   "source": [
    "%%writefile googlebooks-eng-all-5gram-20090715-0-filtered-first-10-lines.txt\n",
    "A BILL FOR ESTABLISHING RELIGIOUS\t59\t59\t54\n",
    "A Biography of General George\t92\t90\t74\n",
    "A Case Study in Government\t102\t102\t78\n",
    "A Case Study of Female\t447\t447\t327\n",
    "A Case Study of Limited\t55\t55\t43\n",
    "A Child's Christmas in Wales\t1099\t1061\t866\n",
    "A Circumstantial Narrative of the\t62\t62\t50\n",
    "A City by the Sea\t62\t60\t49\n",
    "A Collection of Fairy Tales\t123\t117\t80\n",
    "A Collection of Forms of\t116\t103\t82"
   ]
  },
  {
   "cell_type": "markdown",
   "metadata": {},
   "source": [
    "__Paths to Main data in HDFS on Altiscale__"
   ]
  },
  {
   "cell_type": "code",
   "execution_count": 1,
   "metadata": {},
   "outputs": [],
   "source": [
    "import os\n",
    "USER = !whoami\n",
    "USER = USER[0]\n",
    "OUTPUT_PATH_BASE = '/user/{USER}'.format(USER=USER)\n",
    "TEST_1 = \"/user/winegarj/data/1_test\"\n",
    "TEST_20 = \"/user/winegarj/data/20_test\"\n",
    "FULL_DATA = \"/user/winegarj/data/full\" \n",
    "HDFS_DIR = \"/user/root/hw51\" # eg. /user/root/hw3 \n",
    "HOME_DIR = os.getcwd()\n",
    "USER_DIR = \"/home/stassyvichev\""
   ]
  },
  {
   "cell_type": "code",
   "execution_count": 2,
   "metadata": {},
   "outputs": [],
   "source": [
    "# general imports\n",
    "import os\n",
    "import re\n",
    "import sys\n",
    "from os import environ\n",
    "import numpy as np\n",
    "import matplotlib.pyplot as plt\n",
    "PATH  = environ['PATH']\n",
    "# tell matplotlib not to open a new window\n",
    "%matplotlib inline\n",
    "\n",
    "# automatically reload modules \n",
    "%reload_ext autoreload\n",
    "%autoreload 2"
   ]
  },
  {
   "cell_type": "code",
   "execution_count": 3,
   "metadata": {},
   "outputs": [
    {
     "name": "stdout",
     "output_type": "stream",
     "text": [
      "Python Version: 2.7.14 \n",
      "HDFS filesystem running at: \n",
      "\t hdfs://nn-ia.s3s.altiscale.com:8020\n"
     ]
    }
   ],
   "source": [
    "# print some configuration details for future replicability.\n",
    "print 'Python Version: %s' % (sys.version.split('|')[0])\n",
    "hdfs_conf = !hdfs getconf -confKey fs.defaultFS ### UNCOMMENT ON DOCKER\n",
    "#hdfs_conf = !hdfs getconf -confKey fs.default.name ### UNCOMMENT ON ALTISCALE\n",
    "print 'HDFS filesystem running at: \\n\\t %s' % (hdfs_conf[0])"
   ]
  },
  {
   "cell_type": "code",
   "execution_count": 5,
   "metadata": {},
   "outputs": [
    {
     "name": "stdout",
     "output_type": "stream",
     "text": [
      "mkdir: `hw52': File exists\r\n"
     ]
    }
   ],
   "source": [
    "# create an HDFS directory for this assignment\n",
    "!hdfs dfs -mkdir hw52"
   ]
  },
  {
   "cell_type": "code",
   "execution_count": 4,
   "metadata": {},
   "outputs": [
    {
     "data": {
      "application/javascript": [
       "$('.math>span').css(\"border-left-color\",\"transparent\")"
      ],
      "text/plain": [
       "<IPython.core.display.Javascript object>"
      ]
     },
     "metadata": {},
     "output_type": "display_data"
    }
   ],
   "source": [
    "%%javascript\n",
    "$('.math>span').css(\"border-left-color\",\"transparent\")"
   ]
  },
  {
   "cell_type": "markdown",
   "metadata": {},
   "source": [
    "# Set - Up for Phase 2\n",
    "Before you can run your simlarity analysis on the full Google n-gram dataset you should confirm that the code your wrote in Phase 1 works on the cloud. In the space below, copy the code for your three jobs from Phase 1 (`buildStripes.py`, `invertedIndex.py`, `similarity.py`) and rerun your  atlas-boon systems tests on Altiscale (i.e. ** the cloud**). NOTE: _you may end up modifying this code when you get to 5.7, that's fine._"
   ]
  },
  {
   "cell_type": "markdown",
   "metadata": {},
   "source": [
    "### `buildStripesP2.py`"
   ]
  },
  {
   "cell_type": "code",
   "execution_count": 5,
   "metadata": {},
   "outputs": [
    {
     "name": "stdout",
     "output_type": "stream",
     "text": [
      "Overwriting buildStripesP2.py\n"
     ]
    }
   ],
   "source": [
    "%%writefile buildStripesP2.py\n",
    "#!~/anaconda2/bin/python\n",
    "# -*- coding: utf-8 -*-\n",
    "\n",
    "from __future__ import division\n",
    "import re\n",
    "import mrjob\n",
    "import json\n",
    "from mrjob.protocol import RawProtocol\n",
    "from mrjob.job import MRJob\n",
    "from mrjob.step import MRStep\n",
    "\n",
    "class MRbuildStripes(MRJob):\n",
    "    SORT_VALUES = True\n",
    "    \n",
    "    def mapper(self, _, line):\n",
    "        fields = line.lower().strip(\"\\n\").split(\"\\t\")\n",
    "        words = fields[0].split(\" \")\n",
    "        occurrence_count = int(fields[1])\n",
    "        count = 1\n",
    "        for word in words:\n",
    "            for i in xrange(count, len(words)):\n",
    "                yield word, (words[i], occurrence_count)\n",
    "                yield words[i], (word, occurrence_count)\n",
    "            count += 1\n",
    "    \n",
    "    def reducer(self, word, occurrence_counts):\n",
    "        stripe = {}\n",
    "        for other_word, occurrence_count in occurrence_counts:\n",
    "            stripe[other_word] = stripe.get(other_word,0)+occurrence_count\n",
    "        yield word, stripe\n",
    "\n",
    "if __name__ == '__main__':\n",
    "    MRbuildStripes.run()"
   ]
  },
  {
   "cell_type": "code",
   "execution_count": 24,
   "metadata": {
    "scrolled": true
   },
   "outputs": [
    {
     "name": "stdout",
     "output_type": "stream",
     "text": [
      "rm: `/user/stassyvichev/test_buildStripes_sample': No such file or directory\n",
      "Using configs in /home/stassyvichev/.mrjob.conf\n",
      "Looking for hadoop binary in /opt/hadoop/bin...\n",
      "Found hadoop binary: /opt/hadoop/bin/hadoop\n",
      "Using Hadoop version 2.7.3\n",
      "Looking for Hadoop streaming jar in /opt/hadoop...\n",
      "Found Hadoop streaming jar: /opt/hadoop/share/hadoop/tools/lib/hadoop-streaming-2.7.3.jar\n",
      "Creating temp directory /tmp/buildStripesP2.stassyvichev.20180217.185401.836278\n",
      "Copying local files to hdfs:///user/stassyvichev/tmp/mrjob/buildStripesP2.stassyvichev.20180217.185401.836278/files/...\n",
      "Running step 1 of 1...\n",
      "  packageJobJar: [] [/opt/hadoop-2.7.3/share/hadoop/tools/lib/hadoop-streaming-2.7.3.jar] /tmp/streamjob5673101425416124703.jar tmpDir=null\n",
      "  Timeline service address: http://rm-ia.s3s.altiscale.com:8188/ws/v1/timeline/\n",
      "  Connecting to ResourceManager at rm-ia.s3s.altiscale.com/10.251.255.108:8032\n",
      "  Connecting to Application History server at rm-ia.s3s.altiscale.com/10.251.255.108:10200\n",
      "  Timeline service address: http://rm-ia.s3s.altiscale.com:8188/ws/v1/timeline/\n",
      "  Connecting to ResourceManager at rm-ia.s3s.altiscale.com/10.251.255.108:8032\n",
      "  Connecting to Application History server at rm-ia.s3s.altiscale.com/10.251.255.108:10200\n",
      "  Loaded native gpl library from the embedded binaries\n",
      "  Successfully loaded & initialized native-lzo library [hadoop-lzo rev d62701d4d05dfa6115bbaf8d9dff002df142e62d]\n",
      "  Total input paths to process : 1\n",
      "  number of splits:2\n",
      "  Submitting tokens for job: job_1509050304403_11991\n",
      "  Submitted application application_1509050304403_11991\n",
      "  The url to track the job: http://rm-ia.s3s.altiscale.com:8088/proxy/application_1509050304403_11991/\n",
      "  Running job: job_1509050304403_11991\n",
      "  Job job_1509050304403_11991 running in uber mode : false\n",
      "   map 0% reduce 0%\n",
      "   map 100% reduce 0%\n",
      "   map 100% reduce 100%\n",
      "  Job job_1509050304403_11991 completed successfully\n",
      "  Output directory: hdfs:///user/stassyvichev/test_buildStripes_sample\n",
      "Counters: 49\n",
      "\tFile Input Format Counters \n",
      "\t\tBytes Read=563\n",
      "\tFile Output Format Counters \n",
      "\t\tBytes Written=2419\n",
      "\tFile System Counters\n",
      "\t\tFILE: Number of bytes read=1636\n",
      "\t\tFILE: Number of bytes written=399797\n",
      "\t\tFILE: Number of large read operations=0\n",
      "\t\tFILE: Number of read operations=0\n",
      "\t\tFILE: Number of write operations=0\n",
      "\t\tHDFS: Number of bytes read=1039\n",
      "\t\tHDFS: Number of bytes written=2419\n",
      "\t\tHDFS: Number of large read operations=0\n",
      "\t\tHDFS: Number of read operations=9\n",
      "\t\tHDFS: Number of write operations=2\n",
      "\tJob Counters \n",
      "\t\tLaunched map tasks=2\n",
      "\t\tLaunched reduce tasks=1\n",
      "\t\tRack-local map tasks=2\n",
      "\t\tTotal megabyte-milliseconds taken by all map tasks=15747072\n",
      "\t\tTotal megabyte-milliseconds taken by all reduce tasks=8399360\n",
      "\t\tTotal time spent by all map tasks (ms)=10252\n",
      "\t\tTotal time spent by all maps in occupied slots (ms)=30756\n",
      "\t\tTotal time spent by all reduce tasks (ms)=3281\n",
      "\t\tTotal time spent by all reduces in occupied slots (ms)=16405\n",
      "\t\tTotal vcore-milliseconds taken by all map tasks=10252\n",
      "\t\tTotal vcore-milliseconds taken by all reduce tasks=3281\n",
      "\tMap-Reduce Framework\n",
      "\t\tCPU time spent (ms)=2560\n",
      "\t\tCombine input records=0\n",
      "\t\tCombine output records=0\n",
      "\t\tFailed Shuffles=0\n",
      "\t\tGC time elapsed (ms)=242\n",
      "\t\tInput split bytes=476\n",
      "\t\tMap input records=10\n",
      "\t\tMap output bytes=4496\n",
      "\t\tMap output materialized bytes=1700\n",
      "\t\tMap output records=200\n",
      "\t\tMerged Map outputs=2\n",
      "\t\tPhysical memory (bytes) snapshot=1898770432\n",
      "\t\tReduce input groups=191\n",
      "\t\tReduce input records=200\n",
      "\t\tReduce output records=28\n",
      "\t\tReduce shuffle bytes=1700\n",
      "\t\tShuffled Maps =2\n",
      "\t\tSpilled Records=400\n",
      "\t\tTotal committed heap usage (bytes)=2229272576\n",
      "\t\tVirtual memory (bytes) snapshot=11413028864\n",
      "\tShuffle Errors\n",
      "\t\tBAD_ID=0\n",
      "\t\tCONNECTION=0\n",
      "\t\tIO_ERROR=0\n",
      "\t\tWRONG_LENGTH=0\n",
      "\t\tWRONG_MAP=0\n",
      "\t\tWRONG_REDUCE=0\n",
      "Removing HDFS temp directory hdfs:///user/stassyvichev/tmp/mrjob/buildStripesP2.stassyvichev.20180217.185401.836278...\n",
      "Removing temp directory /tmp/buildStripesP2.stassyvichev.20180217.185401.836278...\n"
     ]
    }
   ],
   "source": [
    "OUTPUT_PATH = os.path.join(OUTPUT_PATH_BASE,'test_buildStripes_sample')\n",
    "!hadoop fs -rm -r {OUTPUT_PATH}\n",
    "!python buildStripesP2.py \\\n",
    "        -r hadoop googlebooks-eng-all-5gram-20090715-0-filtered-first-10-lines.txt \\\n",
    "        --output-dir={OUTPUT_PATH} \\\n",
    "        --no-output"
   ]
  },
  {
   "cell_type": "code",
   "execution_count": 33,
   "metadata": {},
   "outputs": [],
   "source": [
    "OUTPUT_PATH = os.path.join(OUTPUT_PATH_BASE,'test_buildStripes_sample')\n",
    "!hadoop fs -cat {OUTPUT_PATH}/* > stripes_sample_output.txt"
   ]
  },
  {
   "cell_type": "code",
   "execution_count": 34,
   "metadata": {},
   "outputs": [
    {
     "name": "stdout",
     "output_type": "stream",
     "text": [
      "\"a\"\t{\"limited\": 55, \"sea\": 62, \"general\": 92, \"female\": 447, \"in\": 1201, \"religious\": 59, \"george\": 92, \"biography\": 92, \"city\": 62, \"for\": 59, \"tales\": 123, \"government\": 102, \"the\": 124, \"forms\": 116, \"wales\": 1099, \"christmas\": 1099, \"child's\": 1099, \"collection\": 239, \"by\": 62, \"case\": 604, \"circumstantial\": 62, \"of\": 1011, \"study\": 604, \"bill\": 59, \"establishing\": 59, \"narrative\": 62, \"fairy\": 123}\r\n",
      "\"bill\"\t{\"a\": 59, \"religious\": 59, \"for\": 59, \"establishing\": 59}\r\n",
      "\"biography\"\t{\"a\": 92, \"of\": 92, \"george\": 92, \"general\": 92}\r\n",
      "\"by\"\t{\"a\": 62, \"city\": 62, \"the\": 62, \"sea\": 62}\r\n",
      "\"case\"\t{\"a\": 604, \"limited\": 55, \"government\": 102, \"of\": 502, \"study\": 604, \"female\": 447, \"in\": 102}\r\n",
      "\"child's\"\t{\"a\": 1099, \"wales\": 1099, \"christmas\": 1099, \"in\": 1099}\r\n",
      "\"christmas\"\t{\"a\": 1099, \"wales\": 1099, \"in\": 1099, \"child's\": 1099}\r\n",
      "\"circumstantial\"\t{\"a\": 62, \"of\": 62, \"the\": 62, \"narrative\": 62}\r\n",
      "\"city\"\t{\"a\": 62, \"the\": 62, \"by\": 62, \"sea\": 62}\r\n",
      "\"collection\"\t{\"a\": 239, \"forms\": 116, \"fairy\": 123, \"tales\": 123, \"of\": 355}\r\n",
      "\"establishing\"\t{\"a\": 59, \"bill\": 59, \"religious\": 59, \"for\": 59}\r\n",
      "\"fairy\"\t{\"a\": 123, \"of\": 123, \"tales\": 123, \"collection\": 123}\r\n",
      "\"female\"\t{\"a\": 447, \"case\": 447, \"study\": 447, \"of\": 447}\r\n",
      "\"for\"\t{\"a\": 59, \"bill\": 59, \"religious\": 59, \"establishing\": 59}\r\n",
      "\"forms\"\t{\"a\": 116, \"of\": 232, \"collection\": 116}\r\n",
      "\"general\"\t{\"a\": 92, \"of\": 92, \"george\": 92, \"biography\": 92}\r\n",
      "\"george\"\t{\"a\": 92, \"of\": 92, \"biography\": 92, \"general\": 92}\r\n",
      "\"government\"\t{\"a\": 102, \"case\": 102, \"study\": 102, \"in\": 102}\r\n",
      "\"in\"\t{\"a\": 1201, \"case\": 102, \"government\": 102, \"study\": 102, \"child's\": 1099, \"wales\": 1099, \"christmas\": 1099}\r\n",
      "\"limited\"\t{\"a\": 55, \"case\": 55, \"study\": 55, \"of\": 55}\r\n",
      "\"narrative\"\t{\"a\": 62, \"of\": 62, \"the\": 62, \"circumstantial\": 62}\r\n",
      "\"of\"\t{\"a\": 1011, \"case\": 502, \"circumstantial\": 62, \"limited\": 55, \"of\": 232, \"study\": 502, \"collection\": 355, \"general\": 92, \"forms\": 232, \"tales\": 123, \"female\": 447, \"narrative\": 62, \"fairy\": 123, \"the\": 62, \"george\": 92, \"biography\": 92}\r\n",
      "\"religious\"\t{\"a\": 59, \"bill\": 59, \"for\": 59, \"establishing\": 59}\r\n",
      "\"sea\"\t{\"a\": 62, \"city\": 62, \"the\": 62, \"by\": 62}\r\n",
      "\"study\"\t{\"a\": 604, \"case\": 604, \"limited\": 55, \"of\": 502, \"government\": 102, \"female\": 447, \"in\": 102}\r\n",
      "\"tales\"\t{\"a\": 123, \"of\": 123, \"fairy\": 123, \"collection\": 123}\r\n",
      "\"the\"\t{\"a\": 124, \"city\": 62, \"circumstantial\": 62, \"of\": 62, \"sea\": 62, \"narrative\": 62, \"by\": 62}\r\n",
      "\"wales\"\t{\"a\": 1099, \"in\": 1099, \"christmas\": 1099, \"child's\": 1099}\r\n"
     ]
    }
   ],
   "source": [
    "!cat stripes_sample_output.txt"
   ]
  },
  {
   "cell_type": "code",
   "execution_count": 6,
   "metadata": {},
   "outputs": [
    {
     "name": "stdout",
     "output_type": "stream",
     "text": [
      "18/02/17 18:25:16 INFO fs.TrashPolicyDefault: Namenode trash configuration: Deletion interval = 5760 minutes, Emptier interval = 360 minutes.\n",
      "Moved: 'hdfs://nn-ia.s3s.altiscale.com:8020/user/stassyvichev/test_buildStripes' to trash at: hdfs://nn-ia.s3s.altiscale.com:8020/user/stassyvichev/.Trash/Current\n",
      "Using configs in /home/stassyvichev/.mrjob.conf\n",
      "Looking for hadoop binary in /opt/hadoop/bin...\n",
      "Found hadoop binary: /opt/hadoop/bin/hadoop\n",
      "Using Hadoop version 2.7.3\n",
      "Looking for Hadoop streaming jar in /opt/hadoop...\n",
      "Found Hadoop streaming jar: /opt/hadoop/share/hadoop/tools/lib/hadoop-streaming-2.7.3.jar\n",
      "Creating temp directory /tmp/buildStripesP2.stassyvichev.20180217.182517.409318\n",
      "Copying local files to hdfs:///user/stassyvichev/tmp/mrjob/buildStripesP2.stassyvichev.20180217.182517.409318/files/...\n",
      "Running step 1 of 1...\n",
      "  packageJobJar: [] [/opt/hadoop-2.7.3/share/hadoop/tools/lib/hadoop-streaming-2.7.3.jar] /tmp/streamjob8236993835228788579.jar tmpDir=null\n",
      "  Timeline service address: http://rm-ia.s3s.altiscale.com:8188/ws/v1/timeline/\n",
      "  Connecting to ResourceManager at rm-ia.s3s.altiscale.com/10.251.255.108:8032\n",
      "  Connecting to Application History server at rm-ia.s3s.altiscale.com/10.251.255.108:10200\n",
      "  Timeline service address: http://rm-ia.s3s.altiscale.com:8188/ws/v1/timeline/\n",
      "  Connecting to ResourceManager at rm-ia.s3s.altiscale.com/10.251.255.108:8032\n",
      "  Connecting to Application History server at rm-ia.s3s.altiscale.com/10.251.255.108:10200\n",
      "  Loaded native gpl library from the embedded binaries\n",
      "  Successfully loaded & initialized native-lzo library [hadoop-lzo rev d62701d4d05dfa6115bbaf8d9dff002df142e62d]\n",
      "  Total input paths to process : 1\n",
      "  number of splits:2\n",
      "  Submitting tokens for job: job_1509050304403_11985\n",
      "  Submitted application application_1509050304403_11985\n",
      "  The url to track the job: http://rm-ia.s3s.altiscale.com:8088/proxy/application_1509050304403_11985/\n",
      "  Running job: job_1509050304403_11985\n",
      "  Job job_1509050304403_11985 running in uber mode : false\n",
      "   map 0% reduce 0%\n",
      "   map 11% reduce 0%\n",
      "   map 15% reduce 0%\n",
      "   map 21% reduce 0%\n",
      "   map 26% reduce 0%\n",
      "   map 28% reduce 0%\n",
      "   map 31% reduce 0%\n",
      "   map 34% reduce 0%\n",
      "   map 37% reduce 0%\n",
      "   map 41% reduce 0%\n",
      "   map 47% reduce 0%\n",
      "   map 52% reduce 0%\n",
      "   map 57% reduce 0%\n",
      "   map 63% reduce 0%\n",
      "   map 67% reduce 0%\n",
      "   map 100% reduce 0%\n",
      "   map 100% reduce 68%\n",
      "   map 100% reduce 70%\n",
      "   map 100% reduce 72%\n",
      "   map 100% reduce 74%\n",
      "   map 100% reduce 76%\n",
      "   map 100% reduce 78%\n",
      "   map 100% reduce 80%\n",
      "   map 100% reduce 82%\n",
      "   map 100% reduce 84%\n",
      "   map 100% reduce 86%\n",
      "   map 100% reduce 88%\n",
      "   map 100% reduce 90%\n",
      "   map 100% reduce 92%\n",
      "   map 100% reduce 94%\n",
      "   map 100% reduce 97%\n",
      "   map 100% reduce 99%\n",
      "   map 100% reduce 100%\n",
      "  Job job_1509050304403_11985 completed successfully\n",
      "  Output directory: hdfs:///user/stassyvichev/test_buildStripes\n",
      "Counters: 49\n",
      "\tFile Input Format Counters \n",
      "\t\tBytes Read=11489475\n",
      "\tFile Output Format Counters \n",
      "\t\tBytes Written=22448410\n",
      "\tFile System Counters\n",
      "\t\tFILE: Number of bytes read=35744328\n",
      "\t\tFILE: Number of bytes written=74829366\n",
      "\t\tFILE: Number of large read operations=0\n",
      "\t\tFILE: Number of read operations=0\n",
      "\t\tFILE: Number of write operations=0\n",
      "\t\tHDFS: Number of bytes read=11489801\n",
      "\t\tHDFS: Number of bytes written=22448410\n",
      "\t\tHDFS: Number of large read operations=0\n",
      "\t\tHDFS: Number of read operations=9\n",
      "\t\tHDFS: Number of write operations=2\n",
      "\tJob Counters \n",
      "\t\tLaunched map tasks=2\n",
      "\t\tLaunched reduce tasks=1\n",
      "\t\tRack-local map tasks=2\n",
      "\t\tTotal megabyte-milliseconds taken by all map tasks=145695744\n",
      "\t\tTotal megabyte-milliseconds taken by all reduce tasks=149207040\n",
      "\t\tTotal time spent by all map tasks (ms)=94854\n",
      "\t\tTotal time spent by all maps in occupied slots (ms)=284562\n",
      "\t\tTotal time spent by all reduce tasks (ms)=58284\n",
      "\t\tTotal time spent by all reduces in occupied slots (ms)=291420\n",
      "\t\tTotal vcore-milliseconds taken by all map tasks=94854\n",
      "\t\tTotal vcore-milliseconds taken by all reduce tasks=58284\n",
      "\tMap-Reduce Framework\n",
      "\t\tCPU time spent (ms)=156870\n",
      "\t\tCombine input records=0\n",
      "\t\tCombine output records=0\n",
      "\t\tFailed Shuffles=0\n",
      "\t\tGC time elapsed (ms)=409\n",
      "\t\tInput split bytes=326\n",
      "\t\tMap input records=311614\n",
      "\t\tMap output bytes=137309840\n",
      "\t\tMap output materialized bytes=38688982\n",
      "\t\tMap output records=6232280\n",
      "\t\tMerged Map outputs=2\n",
      "\t\tPhysical memory (bytes) snapshot=2326827008\n",
      "\t\tReduce input groups=4437771\n",
      "\t\tReduce input records=6232280\n",
      "\t\tReduce output records=36353\n",
      "\t\tReduce shuffle bytes=38688982\n",
      "\t\tShuffled Maps =2\n",
      "\t\tSpilled Records=12464560\n",
      "\t\tTotal committed heap usage (bytes)=2737307648\n",
      "\t\tVirtual memory (bytes) snapshot=11418120192\n",
      "\tShuffle Errors\n",
      "\t\tBAD_ID=0\n",
      "\t\tCONNECTION=0\n",
      "\t\tIO_ERROR=0\n",
      "\t\tWRONG_LENGTH=0\n",
      "\t\tWRONG_MAP=0\n",
      "\t\tWRONG_REDUCE=0\n",
      "Removing HDFS temp directory hdfs:///user/stassyvichev/tmp/mrjob/buildStripesP2.stassyvichev.20180217.182517.409318...\n",
      "Removing temp directory /tmp/buildStripesP2.stassyvichev.20180217.182517.409318...\n"
     ]
    }
   ],
   "source": [
    "OUTPUT_PATH = os.path.join(OUTPUT_PATH_BASE,'test_buildStripes')\n",
    "!hadoop fs -rm -r {OUTPUT_PATH}\n",
    "!python buildStripesP2.py \\\n",
    "        -r hadoop hdfs://{TEST_1} \\\n",
    "        --output-dir={OUTPUT_PATH} \\\n",
    "        --no-output"
   ]
  },
  {
   "cell_type": "code",
   "execution_count": 7,
   "metadata": {},
   "outputs": [],
   "source": [
    "!hadoop fs -cat {OUTPUT_PATH}/* > stripes_output.txt"
   ]
  },
  {
   "cell_type": "code",
   "execution_count": 8,
   "metadata": {},
   "outputs": [
    {
     "name": "stdout",
     "output_type": "stream",
     "text": [
      "\"zu\"\t{\"einer\": 528, \"der\": 528, \"kommunikativen\": 426, \"psychologic\": 102, \"probleme\": 102, \"theorie\": 426}\r\n",
      "\"zulu\"\t{\"army\": 43, \"of\": 43, \"had\": 43, \"in\": 150, \"the\": 193, \"was\": 150, \"killed\": 150}\r\n",
      "\"zulueta\"\t{\"the\": 44, \"like\": 44, \"costa's\": 44, \"da\": 44}\r\n",
      "\"zulus\"\t{\"of\": 356, \"the\": 642, \"land\": 286, \"south\": 70, \"african\": 70}\r\n",
      "\"zum\"\t{\"nachweis\": 48, \"typhusbacillen\": 48, \"der\": 121, \"aufklarung\": 73, \"von\": 73, \"bis\": 73, \"verfahren\": 48}\r\n",
      "\"zur\"\t{\"vom\": 65, \"the\": 115, \"erforschung\": 50, \"institut\": 50, \"grundlegung\": 170, \"der\": 119, \"des\": 423, \"deutsche\": 65, \"literatur\": 65, \"spathumanismus\": 65, \"zur\": 170, \"und\": 170, \"geschichte\": 65, \"mittelalters\": 373, \"abhandlungen\": 65, \"aufklarung\": 54, \"logik\": 170, \"von\": 54, \"bis\": 54, \"kulturgeschichte\": 373, \"beitrage\": 373}\r\n",
      "\"zurich\"\t{\"place\": 55, \"took\": 55, \"which\": 55, \"in\": 55}\r\n",
      "\"zweck\"\t{\"politik\": 337, \"der\": 337, \"und\": 337, \"wesen\": 337}\r\n",
      "\"zwischen\"\t{\"die\": 192, \"beziehungen\": 192, \"iiber\": 192, \"untersuchungen\": 192}\r\n",
      "\"zygomatic\"\t{\"and\": 308, \"maxilla\": 237, \"from\": 71, \"of\": 46, \"lacrimal\": 62, \"nasal\": 62, \"medial\": 46, \"surface\": 46, \"the\": 545, \"arch\": 46, \"bone\": 195}\r\n"
     ]
    }
   ],
   "source": [
    "!tail -n 10 stripes_output.txt"
   ]
  },
  {
   "cell_type": "code",
   "execution_count": null,
   "metadata": {},
   "outputs": [],
   "source": []
  },
  {
   "cell_type": "markdown",
   "metadata": {},
   "source": [
    "### `invertedIndexP2.py`"
   ]
  },
  {
   "cell_type": "code",
   "execution_count": 9,
   "metadata": {},
   "outputs": [
    {
     "name": "stdout",
     "output_type": "stream",
     "text": [
      "Overwriting invertedIndexP2.py\n"
     ]
    }
   ],
   "source": [
    "%%writefile invertedIndexP2.py\n",
    "#!~/anaconda2/bin/python\n",
    "# -*- coding: utf-8 -*-\n",
    "\n",
    "\n",
    "from __future__ import division\n",
    "import collections\n",
    "import re\n",
    "import json\n",
    "import math\n",
    "import numpy as np\n",
    "import itertools\n",
    "import mrjob\n",
    "from mrjob.protocol import RawProtocol\n",
    "from mrjob.job import MRJob\n",
    "from mrjob.step import MRStep\n",
    "\n",
    "class MRinvertedIndex(MRJob):\n",
    "    \n",
    "    def mapper(self, _, line):\n",
    "        if line:\n",
    "            word,stripe = line.split(\"\\t\")\n",
    "            stripe=json.loads(stripe)\n",
    "            len_dict = len(stripe)\n",
    "            for key, _ in stripe.items():\n",
    "                yield key, (word.strip(\"\\\"\"), len_dict)\n",
    "    \n",
    "    def reducer(self, key, values):\n",
    "        yield key, list(values)\n",
    "        \n",
    "if __name__ == '__main__':\n",
    "    MRinvertedIndex.run() "
   ]
  },
  {
   "cell_type": "code",
   "execution_count": 28,
   "metadata": {
    "scrolled": true
   },
   "outputs": [
    {
     "name": "stdout",
     "output_type": "stream",
     "text": [
      "rm: `/user/stassyvichev/test_invertedIndex_sample': No such file or directory\n",
      "Using configs in /home/stassyvichev/.mrjob.conf\n",
      "Looking for hadoop binary in /opt/hadoop/bin...\n",
      "Found hadoop binary: /opt/hadoop/bin/hadoop\n",
      "Using Hadoop version 2.7.3\n",
      "Looking for Hadoop streaming jar in /opt/hadoop...\n",
      "Found Hadoop streaming jar: /opt/hadoop/share/hadoop/tools/lib/hadoop-streaming-2.7.3.jar\n",
      "Creating temp directory /tmp/invertedIndexP2.stassyvichev.20180217.190323.919044\n",
      "Copying local files to hdfs:///user/stassyvichev/tmp/mrjob/invertedIndexP2.stassyvichev.20180217.190323.919044/files/...\n",
      "Running step 1 of 1...\n",
      "  packageJobJar: [] [/opt/hadoop-2.7.3/share/hadoop/tools/lib/hadoop-streaming-2.7.3.jar] /tmp/streamjob6952041362264543784.jar tmpDir=null\n",
      "  Timeline service address: http://rm-ia.s3s.altiscale.com:8188/ws/v1/timeline/\n",
      "  Connecting to ResourceManager at rm-ia.s3s.altiscale.com/10.251.255.108:8032\n",
      "  Connecting to Application History server at rm-ia.s3s.altiscale.com/10.251.255.108:10200\n",
      "  Timeline service address: http://rm-ia.s3s.altiscale.com:8188/ws/v1/timeline/\n",
      "  Connecting to ResourceManager at rm-ia.s3s.altiscale.com/10.251.255.108:8032\n",
      "  Connecting to Application History server at rm-ia.s3s.altiscale.com/10.251.255.108:10200\n",
      "  Loaded native gpl library from the embedded binaries\n",
      "  Successfully loaded & initialized native-lzo library [hadoop-lzo rev d62701d4d05dfa6115bbaf8d9dff002df142e62d]\n",
      "  Total input paths to process : 1\n",
      "  number of splits:2\n",
      "  Submitting tokens for job: job_1509050304403_11992\n",
      "  Submitted application application_1509050304403_11992\n",
      "  The url to track the job: http://rm-ia.s3s.altiscale.com:8088/proxy/application_1509050304403_11992/\n",
      "  Running job: job_1509050304403_11992\n",
      "  Job job_1509050304403_11992 running in uber mode : false\n",
      "   map 0% reduce 0%\n",
      "   map 100% reduce 0%\n",
      "   map 100% reduce 100%\n",
      "  Job job_1509050304403_11992 completed successfully\n",
      "  Output directory: hdfs:///user/stassyvichev/test_invertedIndex_sample\n",
      "Counters: 49\n",
      "\tFile Input Format Counters \n",
      "\t\tBytes Read=3629\n",
      "\tFile Output Format Counters \n",
      "\t\tBytes Written=2520\n",
      "\tFile System Counters\n",
      "\t\tFILE: Number of bytes read=1412\n",
      "\t\tFILE: Number of bytes written=397602\n",
      "\t\tFILE: Number of large read operations=0\n",
      "\t\tFILE: Number of read operations=0\n",
      "\t\tFILE: Number of write operations=0\n",
      "\t\tHDFS: Number of bytes read=4029\n",
      "\t\tHDFS: Number of bytes written=2520\n",
      "\t\tHDFS: Number of large read operations=0\n",
      "\t\tHDFS: Number of read operations=9\n",
      "\t\tHDFS: Number of write operations=2\n",
      "\tJob Counters \n",
      "\t\tLaunched map tasks=2\n",
      "\t\tLaunched reduce tasks=1\n",
      "\t\tRack-local map tasks=2\n",
      "\t\tTotal megabyte-milliseconds taken by all map tasks=9512448\n",
      "\t\tTotal megabyte-milliseconds taken by all reduce tasks=15032320\n",
      "\t\tTotal time spent by all map tasks (ms)=6193\n",
      "\t\tTotal time spent by all maps in occupied slots (ms)=18579\n",
      "\t\tTotal time spent by all reduce tasks (ms)=5872\n",
      "\t\tTotal time spent by all reduces in occupied slots (ms)=29360\n",
      "\t\tTotal vcore-milliseconds taken by all map tasks=6193\n",
      "\t\tTotal vcore-milliseconds taken by all reduce tasks=5872\n",
      "\tMap-Reduce Framework\n",
      "\t\tCPU time spent (ms)=2690\n",
      "\t\tCombine input records=0\n",
      "\t\tCombine output records=0\n",
      "\t\tFailed Shuffles=0\n",
      "\t\tGC time elapsed (ms)=204\n",
      "\t\tInput split bytes=400\n",
      "\t\tMap input records=28\n",
      "\t\tMap output bytes=3324\n",
      "\t\tMap output materialized bytes=1630\n",
      "\t\tMap output records=159\n",
      "\t\tMerged Map outputs=2\n",
      "\t\tPhysical memory (bytes) snapshot=1889816576\n",
      "\t\tReduce input groups=28\n",
      "\t\tReduce input records=159\n",
      "\t\tReduce output records=28\n",
      "\t\tReduce shuffle bytes=1630\n",
      "\t\tShuffled Maps =2\n",
      "\t\tSpilled Records=318\n",
      "\t\tTotal committed heap usage (bytes)=2256011264\n",
      "\t\tVirtual memory (bytes) snapshot=11411116032\n",
      "\tShuffle Errors\n",
      "\t\tBAD_ID=0\n",
      "\t\tCONNECTION=0\n",
      "\t\tIO_ERROR=0\n",
      "\t\tWRONG_LENGTH=0\n",
      "\t\tWRONG_MAP=0\n",
      "\t\tWRONG_REDUCE=0\n",
      "Removing HDFS temp directory hdfs:///user/stassyvichev/tmp/mrjob/invertedIndexP2.stassyvichev.20180217.190323.919044...\n",
      "Removing temp directory /tmp/invertedIndexP2.stassyvichev.20180217.190323.919044...\n"
     ]
    }
   ],
   "source": [
    "OUTPUT_PATH = os.path.join(OUTPUT_PATH_BASE,'test_invertedIndex_sample')\n",
    "!hadoop fs -rm -r {OUTPUT_PATH}\n",
    "!python invertedIndexP2.py \\\n",
    "        -r hadoop stripes_sample_output.txt \\\n",
    "        --output-dir={OUTPUT_PATH} \\\n",
    "        --no-output"
   ]
  },
  {
   "cell_type": "code",
   "execution_count": 35,
   "metadata": {},
   "outputs": [],
   "source": [
    "OUTPUT_PATH = os.path.join(OUTPUT_PATH_BASE,'test_invertedIndex_sample')\n",
    "!hadoop fs -cat {OUTPUT_PATH}/* > invertedindex_sample_output.txt"
   ]
  },
  {
   "cell_type": "code",
   "execution_count": 36,
   "metadata": {},
   "outputs": [
    {
     "name": "stdout",
     "output_type": "stream",
     "text": [
      "\"a\"\t[[\"wales\", 4], [\"study\", 7], [\"limited\", 4], [\"general\", 4], [\"george\", 4], [\"religious\", 4], [\"the\", 7], [\"government\", 4], [\"tales\", 4], [\"forms\", 3], [\"in\", 7], [\"of\", 16], [\"narrative\", 4], [\"sea\", 4], [\"circumstantial\", 4], [\"city\", 4], [\"for\", 4], [\"biography\", 4], [\"child's\", 4], [\"by\", 4], [\"female\", 4], [\"bill\", 4], [\"case\", 7], [\"fairy\", 4], [\"collection\", 5], [\"christmas\", 4], [\"establishing\", 4]]\r\n",
      "\"bill\"\t[[\"a\", 27], [\"for\", 4], [\"establishing\", 4], [\"religious\", 4]]\r\n",
      "\"biography\"\t[[\"of\", 16], [\"general\", 4], [\"george\", 4], [\"a\", 27]]\r\n",
      "\"by\"\t[[\"a\", 27], [\"city\", 4], [\"sea\", 4], [\"the\", 7]]\r\n",
      "\"case\"\t[[\"of\", 16], [\"government\", 4], [\"in\", 7], [\"study\", 7], [\"limited\", 4], [\"a\", 27], [\"female\", 4]]\r\n",
      "\"child's\"\t[[\"a\", 27], [\"christmas\", 4], [\"in\", 7], [\"wales\", 4]]\r\n",
      "\"christmas\"\t[[\"in\", 7], [\"wales\", 4], [\"child's\", 4], [\"a\", 27]]\r\n",
      "\"circumstantial\"\t[[\"a\", 27], [\"of\", 16], [\"the\", 7], [\"narrative\", 4]]\r\n",
      "\"city\"\t[[\"the\", 7], [\"sea\", 4], [\"by\", 4], [\"a\", 27]]\r\n",
      "\"collection\"\t[[\"a\", 27], [\"fairy\", 4], [\"of\", 16], [\"tales\", 4], [\"forms\", 3]]\r\n",
      "\"establishing\"\t[[\"religious\", 4], [\"bill\", 4], [\"a\", 27], [\"for\", 4]]\r\n",
      "\"fairy\"\t[[\"a\", 27], [\"collection\", 5], [\"of\", 16], [\"tales\", 4]]\r\n",
      "\"female\"\t[[\"of\", 16], [\"study\", 7], [\"case\", 7], [\"a\", 27]]\r\n",
      "\"for\"\t[[\"bill\", 4], [\"a\", 27], [\"establishing\", 4], [\"religious\", 4]]\r\n",
      "\"forms\"\t[[\"of\", 16], [\"a\", 27], [\"collection\", 5]]\r\n",
      "\"general\"\t[[\"a\", 27], [\"biography\", 4], [\"of\", 16], [\"george\", 4]]\r\n",
      "\"george\"\t[[\"of\", 16], [\"general\", 4], [\"a\", 27], [\"biography\", 4]]\r\n",
      "\"government\"\t[[\"case\", 7], [\"a\", 27], [\"study\", 7], [\"in\", 7]]\r\n",
      "\"in\"\t[[\"government\", 4], [\"study\", 7], [\"wales\", 4], [\"a\", 27], [\"christmas\", 4], [\"child's\", 4], [\"case\", 7]]\r\n",
      "\"limited\"\t[[\"case\", 7], [\"a\", 27], [\"study\", 7], [\"of\", 16]]\r\n",
      "\"narrative\"\t[[\"of\", 16], [\"the\", 7], [\"a\", 27], [\"circumstantial\", 4]]\r\n",
      "\"of\"\t[[\"case\", 7], [\"fairy\", 4], [\"a\", 27], [\"biography\", 4], [\"circumstantial\", 4], [\"collection\", 5], [\"female\", 4], [\"limited\", 4], [\"narrative\", 4], [\"forms\", 3], [\"study\", 7], [\"tales\", 4], [\"general\", 4], [\"george\", 4], [\"the\", 7], [\"of\", 16]]\r\n",
      "\"religious\"\t[[\"bill\", 4], [\"for\", 4], [\"a\", 27], [\"establishing\", 4]]\r\n",
      "\"sea\"\t[[\"by\", 4], [\"city\", 4], [\"a\", 27], [\"the\", 7]]\r\n",
      "\"study\"\t[[\"in\", 7], [\"government\", 4], [\"limited\", 4], [\"of\", 16], [\"female\", 4], [\"a\", 27], [\"case\", 7]]\r\n",
      "\"tales\"\t[[\"collection\", 5], [\"a\", 27], [\"fairy\", 4], [\"of\", 16]]\r\n",
      "\"the\"\t[[\"sea\", 4], [\"narrative\", 4], [\"of\", 16], [\"circumstantial\", 4], [\"a\", 27], [\"by\", 4], [\"city\", 4]]\r\n",
      "\"wales\"\t[[\"christmas\", 4], [\"child's\", 4], [\"a\", 27], [\"in\", 7]]\r\n"
     ]
    }
   ],
   "source": [
    "!cat invertedindex_sample_output.txt"
   ]
  },
  {
   "cell_type": "code",
   "execution_count": 10,
   "metadata": {
    "scrolled": true
   },
   "outputs": [
    {
     "name": "stdout",
     "output_type": "stream",
     "text": [
      "18/02/17 18:30:12 INFO fs.TrashPolicyDefault: Namenode trash configuration: Deletion interval = 5760 minutes, Emptier interval = 360 minutes.\n",
      "Moved: 'hdfs://nn-ia.s3s.altiscale.com:8020/user/stassyvichev/test_invertedIndex' to trash at: hdfs://nn-ia.s3s.altiscale.com:8020/user/stassyvichev/.Trash/Current\n",
      "Using configs in /home/stassyvichev/.mrjob.conf\n",
      "Looking for hadoop binary in /opt/hadoop/bin...\n",
      "Found hadoop binary: /opt/hadoop/bin/hadoop\n",
      "Using Hadoop version 2.7.3\n",
      "Looking for Hadoop streaming jar in /opt/hadoop...\n",
      "Found Hadoop streaming jar: /opt/hadoop/share/hadoop/tools/lib/hadoop-streaming-2.7.3.jar\n",
      "Creating temp directory /tmp/invertedIndexP2.stassyvichev.20180217.183013.412098\n",
      "Copying local files to hdfs:///user/stassyvichev/tmp/mrjob/invertedIndexP2.stassyvichev.20180217.183013.412098/files/...\n",
      "Running step 1 of 1...\n",
      "  packageJobJar: [] [/opt/hadoop-2.7.3/share/hadoop/tools/lib/hadoop-streaming-2.7.3.jar] /tmp/streamjob2847967598515887239.jar tmpDir=null\n",
      "  Timeline service address: http://rm-ia.s3s.altiscale.com:8188/ws/v1/timeline/\n",
      "  Connecting to ResourceManager at rm-ia.s3s.altiscale.com/10.251.255.108:8032\n",
      "  Connecting to Application History server at rm-ia.s3s.altiscale.com/10.251.255.108:10200\n",
      "  Timeline service address: http://rm-ia.s3s.altiscale.com:8188/ws/v1/timeline/\n",
      "  Connecting to ResourceManager at rm-ia.s3s.altiscale.com/10.251.255.108:8032\n",
      "  Connecting to Application History server at rm-ia.s3s.altiscale.com/10.251.255.108:10200\n",
      "  Loaded native gpl library from the embedded binaries\n",
      "  Successfully loaded & initialized native-lzo library [hadoop-lzo rev d62701d4d05dfa6115bbaf8d9dff002df142e62d]\n",
      "  Total input paths to process : 1\n",
      "  number of splits:2\n",
      "  Submitting tokens for job: job_1509050304403_11986\n",
      "  Submitted application application_1509050304403_11986\n",
      "  The url to track the job: http://rm-ia.s3s.altiscale.com:8088/proxy/application_1509050304403_11986/\n",
      "  Running job: job_1509050304403_11986\n",
      "  Job job_1509050304403_11986 running in uber mode : false\n",
      "   map 0% reduce 0%\n",
      "   map 28% reduce 0%\n",
      "   map 46% reduce 0%\n",
      "   map 64% reduce 0%\n",
      "   map 100% reduce 0%\n",
      "   map 100% reduce 76%\n",
      "   map 100% reduce 83%\n",
      "   map 100% reduce 91%\n",
      "   map 100% reduce 98%\n",
      "   map 100% reduce 100%\n",
      "  Job job_1509050304403_11986 completed successfully\n",
      "  Output directory: hdfs:///user/stassyvichev/test_invertedIndex\n",
      "Counters: 49\n",
      "\tFile Input Format Counters \n",
      "\t\tBytes Read=22496397\n",
      "\tFile Output Format Counters \n",
      "\t\tBytes Written=26174321\n",
      "\tFile System Counters\n",
      "\t\tFILE: Number of bytes read=17151919\n",
      "\t\tFILE: Number of bytes written=34463931\n",
      "\t\tFILE: Number of large read operations=0\n",
      "\t\tFILE: Number of read operations=0\n",
      "\t\tFILE: Number of write operations=0\n",
      "\t\tHDFS: Number of bytes read=22496783\n",
      "\t\tHDFS: Number of bytes written=26174321\n",
      "\t\tHDFS: Number of large read operations=0\n",
      "\t\tHDFS: Number of read operations=9\n",
      "\t\tHDFS: Number of write operations=2\n",
      "\tJob Counters \n",
      "\t\tLaunched map tasks=2\n",
      "\t\tLaunched reduce tasks=1\n",
      "\t\tRack-local map tasks=2\n",
      "\t\tTotal megabyte-milliseconds taken by all map tasks=49036800\n",
      "\t\tTotal megabyte-milliseconds taken by all reduce tasks=53752320\n",
      "\t\tTotal time spent by all map tasks (ms)=31925\n",
      "\t\tTotal time spent by all maps in occupied slots (ms)=95775\n",
      "\t\tTotal time spent by all reduce tasks (ms)=20997\n",
      "\t\tTotal time spent by all reduces in occupied slots (ms)=104985\n",
      "\t\tTotal vcore-milliseconds taken by all map tasks=31925\n",
      "\t\tTotal vcore-milliseconds taken by all reduce tasks=20997\n",
      "\tMap-Reduce Framework\n",
      "\t\tCPU time spent (ms)=48670\n",
      "\t\tCombine input records=0\n",
      "\t\tCombine output records=0\n",
      "\t\tFailed Shuffles=0\n",
      "\t\tGC time elapsed (ms)=233\n",
      "\t\tInput split bytes=386\n",
      "\t\tMap input records=36353\n",
      "\t\tMap output bytes=37737241\n",
      "\t\tMap output materialized bytes=16917874\n",
      "\t\tMap output records=1532215\n",
      "\t\tMerged Map outputs=2\n",
      "\t\tPhysical memory (bytes) snapshot=1955827712\n",
      "\t\tReduce input groups=36353\n",
      "\t\tReduce input records=1532215\n",
      "\t\tReduce output records=36353\n",
      "\t\tReduce shuffle bytes=16917874\n",
      "\t\tShuffled Maps =2\n",
      "\t\tSpilled Records=3064430\n",
      "\t\tTotal committed heap usage (bytes)=2257584128\n",
      "\t\tVirtual memory (bytes) snapshot=11409326080\n",
      "\tShuffle Errors\n",
      "\t\tBAD_ID=0\n",
      "\t\tCONNECTION=0\n",
      "\t\tIO_ERROR=0\n",
      "\t\tWRONG_LENGTH=0\n",
      "\t\tWRONG_MAP=0\n",
      "\t\tWRONG_REDUCE=0\n",
      "Removing HDFS temp directory hdfs:///user/stassyvichev/tmp/mrjob/invertedIndexP2.stassyvichev.20180217.183013.412098...\n",
      "Removing temp directory /tmp/invertedIndexP2.stassyvichev.20180217.183013.412098...\n"
     ]
    }
   ],
   "source": [
    "OUTPUT_PATH = os.path.join(OUTPUT_PATH_BASE,'test_invertedIndex')\n",
    "!hadoop fs -rm -r {OUTPUT_PATH}\n",
    "!python invertedIndexP2.py \\\n",
    "        -r hadoop stripes_output.txt \\\n",
    "        --output-dir={OUTPUT_PATH} \\\n",
    "        --no-output"
   ]
  },
  {
   "cell_type": "code",
   "execution_count": 11,
   "metadata": {},
   "outputs": [],
   "source": [
    "!hadoop fs -cat {OUTPUT_PATH}/* > invertedindex_output.txt"
   ]
  },
  {
   "cell_type": "code",
   "execution_count": 13,
   "metadata": {},
   "outputs": [
    {
     "name": "stdout",
     "output_type": "stream",
     "text": [
      "\"zu\"\t[[\"einer\", 14], [\"kommunikativen\", 4], [\"der\", 127], [\"probleme\", 4], [\"theorie\", 4], [\"psychologic\", 4]]\r\n",
      "\"zulu\"\t[[\"was\", 6548], [\"of\", 22497], [\"the\", 25549], [\"in\", 13892], [\"had\", 4406], [\"army\", 384], [\"killed\", 177]]\r\n",
      "\"zulueta\"\t[[\"costa's\", 4], [\"like\", 1238], [\"da\", 38], [\"the\", 25549]]\r\n",
      "\"zulus\"\t[[\"south\", 405], [\"of\", 22497], [\"the\", 25549], [\"land\", 566], [\"african\", 142]]\r\n",
      "\"zum\"\t[[\"der\", 127], [\"bis\", 14], [\"aufklarung\", 5], [\"typhusbacillen\", 4], [\"von\", 50], [\"verfahren\", 4], [\"nachweis\", 4]]\r\n",
      "\"zur\"\t[[\"mittelalters\", 4], [\"the\", 25549], [\"vom\", 4], [\"logik\", 3], [\"spathumanismus\", 4], [\"und\", 93], [\"zur\", 21], [\"von\", 50], [\"erforschung\", 4], [\"bis\", 14], [\"abhandlungen\", 4], [\"literatur\", 4], [\"institut\", 8], [\"aufklarung\", 5], [\"kulturgeschichte\", 4], [\"beitrage\", 4], [\"grundlegung\", 3], [\"der\", 127], [\"des\", 152], [\"deutsche\", 8], [\"geschichte\", 15]]\r\n",
      "\"zurich\"\t[[\"in\", 13892], [\"took\", 650], [\"place\", 1033], [\"which\", 5431]]\r\n",
      "\"zweck\"\t[[\"politik\", 4], [\"wesen\", 4], [\"und\", 93], [\"der\", 127]]\r\n",
      "\"zwischen\"\t[[\"die\", 250], [\"beziehungen\", 4], [\"iiber\", 9], [\"untersuchungen\", 9]]\r\n",
      "\"zygomatic\"\t[[\"surface\", 444], [\"the\", 25549], [\"of\", 22497], [\"medial\", 54], [\"nasal\", 22], [\"maxilla\", 10], [\"and\", 16490], [\"arch\", 44], [\"bone\", 135], [\"lacrimal\", 3], [\"from\", 5738]]\r\n"
     ]
    }
   ],
   "source": [
    "!tail -n 10 invertedindex_output.txt"
   ]
  },
  {
   "cell_type": "markdown",
   "metadata": {},
   "source": [
    "### `invertedIndexCosineP2.py`"
   ]
  },
  {
   "cell_type": "code",
   "execution_count": 16,
   "metadata": {},
   "outputs": [
    {
     "name": "stdout",
     "output_type": "stream",
     "text": [
      "Overwriting invertedIndexCosineP2.py\n"
     ]
    }
   ],
   "source": [
    "%%writefile invertedIndexCosineP2.py\n",
    "#!~/anaconda2/bin/python\n",
    "# -*- coding: utf-8 -*-\n",
    "\n",
    "\n",
    "from __future__ import division\n",
    "import collections\n",
    "import re\n",
    "import json\n",
    "import math\n",
    "import numpy as np\n",
    "import itertools\n",
    "import mrjob\n",
    "from mrjob.protocol import RawProtocol\n",
    "from mrjob.job import MRJob\n",
    "from mrjob.step import MRStep\n",
    "\n",
    "class MRinvertedIndexCosine(MRJob):\n",
    "    \n",
    "    def mapper(self, _, line):\n",
    "        if line:\n",
    "            word,stripe = line.split(\"\\t\")\n",
    "            stripe=json.loads(stripe)\n",
    "            stripe_length = 1/math.sqrt(len(stripe))\n",
    "            for key, _ in stripe.items():\n",
    "                yield key, (word.strip(\"\\\"\"), stripe_length)\n",
    "    \n",
    "    def reducer(self, key, values):\n",
    "        yield key, list(values)\n",
    "        \n",
    "if __name__ == '__main__':\n",
    "    MRinvertedIndexCosine.run() "
   ]
  },
  {
   "cell_type": "code",
   "execution_count": 37,
   "metadata": {},
   "outputs": [
    {
     "name": "stdout",
     "output_type": "stream",
     "text": [
      "18/02/17 19:09:28 INFO fs.TrashPolicyDefault: Namenode trash configuration: Deletion interval = 5760 minutes, Emptier interval = 360 minutes.\n",
      "Moved: 'hdfs://nn-ia.s3s.altiscale.com:8020/user/stassyvichev/test_invertedIndexCosine_sample' to trash at: hdfs://nn-ia.s3s.altiscale.com:8020/user/stassyvichev/.Trash/Current\n",
      "Using configs in /home/stassyvichev/.mrjob.conf\n",
      "Looking for hadoop binary in /opt/hadoop/bin...\n",
      "Found hadoop binary: /opt/hadoop/bin/hadoop\n",
      "Using Hadoop version 2.7.3\n",
      "Looking for Hadoop streaming jar in /opt/hadoop...\n",
      "Found Hadoop streaming jar: /opt/hadoop/share/hadoop/tools/lib/hadoop-streaming-2.7.3.jar\n",
      "Creating temp directory /tmp/invertedIndexCosineP2.stassyvichev.20180217.190929.366461\n",
      "Copying local files to hdfs:///user/stassyvichev/tmp/mrjob/invertedIndexCosineP2.stassyvichev.20180217.190929.366461/files/...\n",
      "Running step 1 of 1...\n",
      "  packageJobJar: [] [/opt/hadoop-2.7.3/share/hadoop/tools/lib/hadoop-streaming-2.7.3.jar] /tmp/streamjob6144667925112571994.jar tmpDir=null\n",
      "  Timeline service address: http://rm-ia.s3s.altiscale.com:8188/ws/v1/timeline/\n",
      "  Connecting to ResourceManager at rm-ia.s3s.altiscale.com/10.251.255.108:8032\n",
      "  Connecting to Application History server at rm-ia.s3s.altiscale.com/10.251.255.108:10200\n",
      "  Timeline service address: http://rm-ia.s3s.altiscale.com:8188/ws/v1/timeline/\n",
      "  Connecting to ResourceManager at rm-ia.s3s.altiscale.com/10.251.255.108:8032\n",
      "  Connecting to Application History server at rm-ia.s3s.altiscale.com/10.251.255.108:10200\n",
      "  Loaded native gpl library from the embedded binaries\n",
      "  Successfully loaded & initialized native-lzo library [hadoop-lzo rev d62701d4d05dfa6115bbaf8d9dff002df142e62d]\n",
      "  Total input paths to process : 1\n",
      "  number of splits:2\n",
      "  Submitting tokens for job: job_1509050304403_11994\n",
      "  Submitted application application_1509050304403_11994\n",
      "  The url to track the job: http://rm-ia.s3s.altiscale.com:8088/proxy/application_1509050304403_11994/\n",
      "  Running job: job_1509050304403_11994\n",
      "  Job job_1509050304403_11994 running in uber mode : false\n",
      "   map 0% reduce 0%\n",
      "   map 50% reduce 0%\n",
      "   map 100% reduce 0%\n",
      "   map 100% reduce 100%\n",
      "  Job job_1509050304403_11994 completed successfully\n",
      "  Output directory: hdfs:///user/stassyvichev/test_invertedIndexCosine_sample\n",
      "Counters: 49\n",
      "\tFile Input Format Counters \n",
      "\t\tBytes Read=3629\n",
      "\tFile Output Format Counters \n",
      "\t\tBytes Written=3783\n",
      "\tFile System Counters\n",
      "\t\tFILE: Number of bytes read=1574\n",
      "\t\tFILE: Number of bytes written=398576\n",
      "\t\tFILE: Number of large read operations=0\n",
      "\t\tFILE: Number of read operations=0\n",
      "\t\tFILE: Number of write operations=0\n",
      "\t\tHDFS: Number of bytes read=4041\n",
      "\t\tHDFS: Number of bytes written=3783\n",
      "\t\tHDFS: Number of large read operations=0\n",
      "\t\tHDFS: Number of read operations=9\n",
      "\t\tHDFS: Number of write operations=2\n",
      "\tJob Counters \n",
      "\t\tLaunched map tasks=2\n",
      "\t\tLaunched reduce tasks=1\n",
      "\t\tRack-local map tasks=2\n",
      "\t\tTotal megabyte-milliseconds taken by all map tasks=16831488\n",
      "\t\tTotal megabyte-milliseconds taken by all reduce tasks=7969280\n",
      "\t\tTotal time spent by all map tasks (ms)=10958\n",
      "\t\tTotal time spent by all maps in occupied slots (ms)=32874\n",
      "\t\tTotal time spent by all reduce tasks (ms)=3113\n",
      "\t\tTotal time spent by all reduces in occupied slots (ms)=15565\n",
      "\t\tTotal vcore-milliseconds taken by all map tasks=10958\n",
      "\t\tTotal vcore-milliseconds taken by all reduce tasks=3113\n",
      "\tMap-Reduce Framework\n",
      "\t\tCPU time spent (ms)=2660\n",
      "\t\tCombine input records=0\n",
      "\t\tCombine output records=0\n",
      "\t\tFailed Shuffles=0\n",
      "\t\tGC time elapsed (ms)=225\n",
      "\t\tInput split bytes=412\n",
      "\t\tMap input records=28\n",
      "\t\tMap output bytes=4587\n",
      "\t\tMap output materialized bytes=1792\n",
      "\t\tMap output records=159\n",
      "\t\tMerged Map outputs=2\n",
      "\t\tPhysical memory (bytes) snapshot=1888743424\n",
      "\t\tReduce input groups=28\n",
      "\t\tReduce input records=159\n",
      "\t\tReduce output records=28\n",
      "\t\tReduce shuffle bytes=1792\n",
      "\t\tShuffled Maps =2\n",
      "\t\tSpilled Records=318\n",
      "\t\tTotal committed heap usage (bytes)=2307391488\n",
      "\t\tVirtual memory (bytes) snapshot=11407867904\n",
      "\tShuffle Errors\n",
      "\t\tBAD_ID=0\n",
      "\t\tCONNECTION=0\n",
      "\t\tIO_ERROR=0\n",
      "\t\tWRONG_LENGTH=0\n",
      "\t\tWRONG_MAP=0\n",
      "\t\tWRONG_REDUCE=0\n",
      "Removing HDFS temp directory hdfs:///user/stassyvichev/tmp/mrjob/invertedIndexCosineP2.stassyvichev.20180217.190929.366461...\n",
      "Removing temp directory /tmp/invertedIndexCosineP2.stassyvichev.20180217.190929.366461...\n"
     ]
    }
   ],
   "source": [
    "OUTPUT_PATH = os.path.join(OUTPUT_PATH_BASE,'test_invertedIndexCosine_sample')\n",
    "!hadoop fs -rm -r {OUTPUT_PATH}\n",
    "!python invertedIndexCosineP2.py \\\n",
    "        -r hadoop stripes_sample_output.txt \\\n",
    "        --output-dir={OUTPUT_PATH} \\\n",
    "        --no-output"
   ]
  },
  {
   "cell_type": "code",
   "execution_count": 38,
   "metadata": {},
   "outputs": [],
   "source": [
    "!hadoop fs -cat {OUTPUT_PATH}/* > invertedindexcosine_sample_output.txt"
   ]
  },
  {
   "cell_type": "code",
   "execution_count": 39,
   "metadata": {},
   "outputs": [
    {
     "name": "stdout",
     "output_type": "stream",
     "text": [
      "\"a\"\t[[\"wales\", 0.5], [\"study\", 0.3779644730092272], [\"limited\", 0.5], [\"general\", 0.5], [\"george\", 0.5], [\"religious\", 0.5], [\"the\", 0.3779644730092272], [\"government\", 0.5], [\"tales\", 0.5], [\"forms\", 0.5773502691896258], [\"in\", 0.3779644730092272], [\"of\", 0.25], [\"narrative\", 0.5], [\"sea\", 0.5], [\"circumstantial\", 0.5], [\"city\", 0.5], [\"for\", 0.5], [\"biography\", 0.5], [\"child's\", 0.5], [\"by\", 0.5], [\"female\", 0.5], [\"bill\", 0.5], [\"case\", 0.3779644730092272], [\"fairy\", 0.5], [\"collection\", 0.4472135954999579], [\"christmas\", 0.5], [\"establishing\", 0.5]]\r\n",
      "\"bill\"\t[[\"a\", 0.19245008972987526], [\"for\", 0.5], [\"establishing\", 0.5], [\"religious\", 0.5]]\r\n",
      "\"biography\"\t[[\"of\", 0.25], [\"general\", 0.5], [\"george\", 0.5], [\"a\", 0.19245008972987526]]\r\n",
      "\"by\"\t[[\"a\", 0.19245008972987526], [\"city\", 0.5], [\"sea\", 0.5], [\"the\", 0.3779644730092272]]\r\n",
      "\"case\"\t[[\"of\", 0.25], [\"government\", 0.5], [\"in\", 0.3779644730092272], [\"study\", 0.3779644730092272], [\"limited\", 0.5], [\"a\", 0.19245008972987526], [\"female\", 0.5]]\r\n",
      "\"child's\"\t[[\"a\", 0.19245008972987526], [\"christmas\", 0.5], [\"in\", 0.3779644730092272], [\"wales\", 0.5]]\r\n",
      "\"christmas\"\t[[\"in\", 0.3779644730092272], [\"wales\", 0.5], [\"child's\", 0.5], [\"a\", 0.19245008972987526]]\r\n",
      "\"circumstantial\"\t[[\"a\", 0.19245008972987526], [\"of\", 0.25], [\"the\", 0.3779644730092272], [\"narrative\", 0.5]]\r\n",
      "\"city\"\t[[\"the\", 0.3779644730092272], [\"sea\", 0.5], [\"by\", 0.5], [\"a\", 0.19245008972987526]]\r\n",
      "\"collection\"\t[[\"a\", 0.19245008972987526], [\"fairy\", 0.5], [\"of\", 0.25], [\"tales\", 0.5], [\"forms\", 0.5773502691896258]]\r\n",
      "\"establishing\"\t[[\"religious\", 0.5], [\"bill\", 0.5], [\"a\", 0.19245008972987526], [\"for\", 0.5]]\r\n",
      "\"fairy\"\t[[\"a\", 0.19245008972987526], [\"collection\", 0.4472135954999579], [\"of\", 0.25], [\"tales\", 0.5]]\r\n",
      "\"female\"\t[[\"of\", 0.25], [\"study\", 0.3779644730092272], [\"case\", 0.3779644730092272], [\"a\", 0.19245008972987526]]\r\n",
      "\"for\"\t[[\"bill\", 0.5], [\"a\", 0.19245008972987526], [\"establishing\", 0.5], [\"religious\", 0.5]]\r\n",
      "\"forms\"\t[[\"of\", 0.25], [\"a\", 0.19245008972987526], [\"collection\", 0.4472135954999579]]\r\n",
      "\"general\"\t[[\"a\", 0.19245008972987526], [\"biography\", 0.5], [\"of\", 0.25], [\"george\", 0.5]]\r\n",
      "\"george\"\t[[\"of\", 0.25], [\"general\", 0.5], [\"a\", 0.19245008972987526], [\"biography\", 0.5]]\r\n",
      "\"government\"\t[[\"case\", 0.3779644730092272], [\"a\", 0.19245008972987526], [\"study\", 0.3779644730092272], [\"in\", 0.3779644730092272]]\r\n",
      "\"in\"\t[[\"government\", 0.5], [\"study\", 0.3779644730092272], [\"wales\", 0.5], [\"a\", 0.19245008972987526], [\"christmas\", 0.5], [\"child's\", 0.5], [\"case\", 0.3779644730092272]]\r\n",
      "\"limited\"\t[[\"case\", 0.3779644730092272], [\"a\", 0.19245008972987526], [\"study\", 0.3779644730092272], [\"of\", 0.25]]\r\n",
      "\"narrative\"\t[[\"of\", 0.25], [\"the\", 0.3779644730092272], [\"a\", 0.19245008972987526], [\"circumstantial\", 0.5]]\r\n",
      "\"of\"\t[[\"case\", 0.3779644730092272], [\"fairy\", 0.5], [\"a\", 0.19245008972987526], [\"biography\", 0.5], [\"circumstantial\", 0.5], [\"collection\", 0.4472135954999579], [\"female\", 0.5], [\"limited\", 0.5], [\"narrative\", 0.5], [\"forms\", 0.5773502691896258], [\"study\", 0.3779644730092272], [\"tales\", 0.5], [\"general\", 0.5], [\"george\", 0.5], [\"the\", 0.3779644730092272], [\"of\", 0.25]]\r\n",
      "\"religious\"\t[[\"bill\", 0.5], [\"for\", 0.5], [\"a\", 0.19245008972987526], [\"establishing\", 0.5]]\r\n",
      "\"sea\"\t[[\"by\", 0.5], [\"city\", 0.5], [\"a\", 0.19245008972987526], [\"the\", 0.3779644730092272]]\r\n",
      "\"study\"\t[[\"in\", 0.3779644730092272], [\"government\", 0.5], [\"limited\", 0.5], [\"of\", 0.25], [\"female\", 0.5], [\"a\", 0.19245008972987526], [\"case\", 0.3779644730092272]]\r\n",
      "\"tales\"\t[[\"collection\", 0.4472135954999579], [\"a\", 0.19245008972987526], [\"fairy\", 0.5], [\"of\", 0.25]]\r\n",
      "\"the\"\t[[\"sea\", 0.5], [\"narrative\", 0.5], [\"of\", 0.25], [\"circumstantial\", 0.5], [\"a\", 0.19245008972987526], [\"by\", 0.5], [\"city\", 0.5]]\r\n",
      "\"wales\"\t[[\"christmas\", 0.5], [\"child's\", 0.5], [\"a\", 0.19245008972987526], [\"in\", 0.3779644730092272]]\r\n"
     ]
    }
   ],
   "source": [
    "!cat invertedindexcosine_sample_output.txt"
   ]
  },
  {
   "cell_type": "code",
   "execution_count": 17,
   "metadata": {},
   "outputs": [
    {
     "name": "stdout",
     "output_type": "stream",
     "text": [
      "18/02/17 18:37:45 INFO fs.TrashPolicyDefault: Namenode trash configuration: Deletion interval = 5760 minutes, Emptier interval = 360 minutes.\n",
      "Moved: 'hdfs://nn-ia.s3s.altiscale.com:8020/user/stassyvichev/test_invertedIndexCosine' to trash at: hdfs://nn-ia.s3s.altiscale.com:8020/user/stassyvichev/.Trash/Current\n",
      "Using configs in /home/stassyvichev/.mrjob.conf\n",
      "Looking for hadoop binary in /opt/hadoop/bin...\n",
      "Found hadoop binary: /opt/hadoop/bin/hadoop\n",
      "Using Hadoop version 2.7.3\n",
      "Looking for Hadoop streaming jar in /opt/hadoop...\n",
      "Found Hadoop streaming jar: /opt/hadoop/share/hadoop/tools/lib/hadoop-streaming-2.7.3.jar\n",
      "Creating temp directory /tmp/invertedIndexCosineP2.stassyvichev.20180217.183746.618093\n",
      "Copying local files to hdfs:///user/stassyvichev/tmp/mrjob/invertedIndexCosineP2.stassyvichev.20180217.183746.618093/files/...\n",
      "Running step 1 of 1...\n",
      "  packageJobJar: [] [/opt/hadoop-2.7.3/share/hadoop/tools/lib/hadoop-streaming-2.7.3.jar] /tmp/streamjob2485728368978734556.jar tmpDir=null\n",
      "  Timeline service address: http://rm-ia.s3s.altiscale.com:8188/ws/v1/timeline/\n",
      "  Connecting to ResourceManager at rm-ia.s3s.altiscale.com/10.251.255.108:8032\n",
      "  Connecting to Application History server at rm-ia.s3s.altiscale.com/10.251.255.108:10200\n",
      "  Timeline service address: http://rm-ia.s3s.altiscale.com:8188/ws/v1/timeline/\n",
      "  Connecting to ResourceManager at rm-ia.s3s.altiscale.com/10.251.255.108:8032\n",
      "  Connecting to Application History server at rm-ia.s3s.altiscale.com/10.251.255.108:10200\n",
      "  Loaded native gpl library from the embedded binaries\n",
      "  Successfully loaded & initialized native-lzo library [hadoop-lzo rev d62701d4d05dfa6115bbaf8d9dff002df142e62d]\n",
      "  Total input paths to process : 1\n",
      "  number of splits:2\n",
      "  Submitting tokens for job: job_1509050304403_11988\n",
      "  Submitted application application_1509050304403_11988\n",
      "  The url to track the job: http://rm-ia.s3s.altiscale.com:8088/proxy/application_1509050304403_11988/\n",
      "  Running job: job_1509050304403_11988\n",
      "  Job job_1509050304403_11988 running in uber mode : false\n",
      "   map 0% reduce 0%\n",
      "   map 28% reduce 0%\n",
      "   map 44% reduce 0%\n",
      "   map 59% reduce 0%\n",
      "   map 83% reduce 0%\n",
      "   map 100% reduce 0%\n",
      "   map 100% reduce 74%\n",
      "   map 100% reduce 80%\n",
      "   map 100% reduce 86%\n",
      "   map 100% reduce 92%\n",
      "   map 100% reduce 98%\n",
      "   map 100% reduce 100%\n",
      "  Job job_1509050304403_11988 completed successfully\n",
      "  Output directory: hdfs:///user/stassyvichev/test_invertedIndexCosine\n",
      "Counters: 49\n",
      "\tFile Input Format Counters \n",
      "\t\tBytes Read=22496397\n",
      "\tFile Output Format Counters \n",
      "\t\tBytes Written=49727726\n",
      "\tFile System Counters\n",
      "\t\tFILE: Number of bytes read=26037542\n",
      "\t\tFILE: Number of bytes written=51197518\n",
      "\t\tFILE: Number of large read operations=0\n",
      "\t\tFILE: Number of read operations=0\n",
      "\t\tFILE: Number of write operations=0\n",
      "\t\tHDFS: Number of bytes read=22496795\n",
      "\t\tHDFS: Number of bytes written=49727726\n",
      "\t\tHDFS: Number of large read operations=0\n",
      "\t\tHDFS: Number of read operations=9\n",
      "\t\tHDFS: Number of write operations=2\n",
      "\tJob Counters \n",
      "\t\tLaunched map tasks=2\n",
      "\t\tLaunched reduce tasks=1\n",
      "\t\tRack-local map tasks=2\n",
      "\t\tTotal megabyte-milliseconds taken by all map tasks=61550592\n",
      "\t\tTotal megabyte-milliseconds taken by all reduce tasks=55587840\n",
      "\t\tTotal time spent by all map tasks (ms)=40072\n",
      "\t\tTotal time spent by all maps in occupied slots (ms)=120216\n",
      "\t\tTotal time spent by all reduce tasks (ms)=21714\n",
      "\t\tTotal time spent by all reduces in occupied slots (ms)=108570\n",
      "\t\tTotal vcore-milliseconds taken by all map tasks=40072\n",
      "\t\tTotal vcore-milliseconds taken by all reduce tasks=21714\n",
      "\tMap-Reduce Framework\n",
      "\t\tCPU time spent (ms)=53530\n",
      "\t\tCombine input records=0\n",
      "\t\tCombine output records=0\n",
      "\t\tFailed Shuffles=0\n",
      "\t\tGC time elapsed (ms)=229\n",
      "\t\tInput split bytes=398\n",
      "\t\tMap input records=36353\n",
      "\t\tMap output bytes=61290646\n",
      "\t\tMap output materialized bytes=24764808\n",
      "\t\tMap output records=1532215\n",
      "\t\tMerged Map outputs=2\n",
      "\t\tPhysical memory (bytes) snapshot=1920548864\n",
      "\t\tReduce input groups=36353\n",
      "\t\tReduce input records=1532215\n",
      "\t\tReduce output records=36353\n",
      "\t\tReduce shuffle bytes=24764808\n",
      "\t\tShuffled Maps =2\n",
      "\t\tSpilled Records=3064430\n",
      "\t\tTotal committed heap usage (bytes)=2232942592\n",
      "\t\tVirtual memory (bytes) snapshot=11410759680\n",
      "\tShuffle Errors\n",
      "\t\tBAD_ID=0\n",
      "\t\tCONNECTION=0\n",
      "\t\tIO_ERROR=0\n",
      "\t\tWRONG_LENGTH=0\n",
      "\t\tWRONG_MAP=0\n",
      "\t\tWRONG_REDUCE=0\n",
      "Removing HDFS temp directory hdfs:///user/stassyvichev/tmp/mrjob/invertedIndexCosineP2.stassyvichev.20180217.183746.618093...\n",
      "Removing temp directory /tmp/invertedIndexCosineP2.stassyvichev.20180217.183746.618093...\n"
     ]
    }
   ],
   "source": [
    "OUTPUT_PATH = os.path.join(OUTPUT_PATH_BASE,'test_invertedIndexCosine')\n",
    "!hadoop fs -rm -r {OUTPUT_PATH}\n",
    "!python invertedIndexCosineP2.py \\\n",
    "        -r hadoop stripes_output.txt \\\n",
    "        --output-dir={OUTPUT_PATH} \\\n",
    "        --no-output"
   ]
  },
  {
   "cell_type": "code",
   "execution_count": 18,
   "metadata": {},
   "outputs": [],
   "source": [
    "!hadoop fs -cat {OUTPUT_PATH}/* > invertedindexcosine_output.txt"
   ]
  },
  {
   "cell_type": "code",
   "execution_count": 19,
   "metadata": {},
   "outputs": [
    {
     "name": "stdout",
     "output_type": "stream",
     "text": [
      "\"zu\"\t[[\"einer\", 0.2672612419124244], [\"kommunikativen\", 0.5], [\"der\", 0.08873565094161139], [\"probleme\", 0.5], [\"theorie\", 0.5], [\"psychologic\", 0.5]]\r\n",
      "\"zulu\"\t[[\"was\", 0.012357928114932137], [\"of\", 0.006667111155560494], [\"the\", 0.00625623490330794], [\"in\", 0.008484331182353913], [\"had\", 0.015065298933523458], [\"army\", 0.051031036307982884], [\"killed\", 0.07516460280028289]]\r\n",
      "\"zulueta\"\t[[\"costa's\", 0.5], [\"like\", 0.028421021140160225], [\"da\", 0.16222142113076254], [\"the\", 0.00625623490330794]]\r\n",
      "\"zulus\"\t[[\"south\", 0.049690399499995326], [\"of\", 0.006667111155560494], [\"the\", 0.00625623490330794], [\"land\", 0.04203313517091986], [\"african\", 0.08391813582966891]]\r\n",
      "\"zum\"\t[[\"der\", 0.08873565094161139], [\"bis\", 0.2672612419124244], [\"aufklarung\", 0.4472135954999579], [\"typhusbacillen\", 0.5], [\"von\", 0.1414213562373095], [\"verfahren\", 0.5], [\"nachweis\", 0.5]]\r\n",
      "\"zur\"\t[[\"mittelalters\", 0.5], [\"the\", 0.00625623490330794], [\"vom\", 0.5], [\"logik\", 0.5773502691896258], [\"spathumanismus\", 0.5], [\"und\", 0.10369516947304253], [\"zur\", 0.2182178902359924], [\"von\", 0.1414213562373095], [\"erforschung\", 0.5], [\"bis\", 0.2672612419124244], [\"abhandlungen\", 0.5], [\"literatur\", 0.5], [\"institut\", 0.35355339059327373], [\"aufklarung\", 0.4472135954999579], [\"kulturgeschichte\", 0.5], [\"beitrage\", 0.5], [\"grundlegung\", 0.5773502691896258], [\"der\", 0.08873565094161139], [\"des\", 0.08111071056538127], [\"deutsche\", 0.35355339059327373], [\"geschichte\", 0.2581988897471611]]\r\n",
      "\"zurich\"\t[[\"in\", 0.008484331182353913], [\"took\", 0.03922322702763681], [\"place\", 0.031113569564352756], [\"which\", 0.013569382933450712]]\r\n",
      "\"zweck\"\t[[\"politik\", 0.5], [\"wesen\", 0.5], [\"und\", 0.10369516947304253], [\"der\", 0.08873565094161139]]\r\n",
      "\"zwischen\"\t[[\"die\", 0.06324555320336758], [\"beziehungen\", 0.5], [\"iiber\", 0.3333333333333333], [\"untersuchungen\", 0.3333333333333333]]\r\n",
      "\"zygomatic\"\t[[\"surface\", 0.04745789978762495], [\"the\", 0.00625623490330794], [\"of\", 0.006667111155560494], [\"medial\", 0.13608276348795434], [\"nasal\", 0.21320071635561041], [\"maxilla\", 0.31622776601683794], [\"and\", 0.0077873496021792655], [\"arch\", 0.15075567228888181], [\"bone\", 0.08606629658238704], [\"lacrimal\", 0.5773502691896258], [\"from\", 0.013201392028167044]]\r\n"
     ]
    }
   ],
   "source": [
    "!tail -n 10 invertedindexcosine_output.txt"
   ]
  },
  {
   "cell_type": "markdown",
   "metadata": {},
   "source": [
    "### `similarityP2.py`"
   ]
  },
  {
   "cell_type": "code",
   "execution_count": 20,
   "metadata": {},
   "outputs": [
    {
     "name": "stdout",
     "output_type": "stream",
     "text": [
      "Overwriting similarityP2.py\n"
     ]
    }
   ],
   "source": [
    "%%writefile similarityP2.py\n",
    "#!~/anaconda2/bin/python\n",
    "# -*- coding: utf-8 -*-\n",
    "import json\n",
    "import math\n",
    "import mrjob\n",
    "from mrjob.job import MRJob\n",
    "from mrjob.step import MRStep\n",
    "\n",
    "class MRSimilarity(MRJob):\n",
    "    SORT_VALUES = True\n",
    "    JOBCONF = {\"mapreduce.job.reduces\": \"1\"}\n",
    "    \n",
    "    def mapper_first(self, _, line):\n",
    "        word, stripe = line.split(\"\\t\")\n",
    "        stripe = json.loads(stripe)\n",
    "        if len(stripe)>1:\n",
    "            count = 1\n",
    "            for s in stripe:\n",
    "                for i in xrange(count, len(stripe)):\n",
    "                    yield (s[0], stripe[i][0]), s[1]*stripe[i][1]*1.0\n",
    "                count += 1\n",
    "    \n",
    "    def reducer_first(self, pair, partSims):\n",
    "        sum_sims = sum(partSims)\n",
    "        yield sum_sims, (pair, sum_sims)\n",
    "        \n",
    "    def reducer_second(self, key, value):\n",
    "        yield float(key), list(value)[0]\n",
    "        \n",
    "    def steps(self):\n",
    "        return [\n",
    "            MRStep(\n",
    "                mapper = self.mapper_first,\n",
    "                reducer = self.reducer_first\n",
    "            ),\n",
    "            MRStep(\n",
    "                reducer = self.reducer_second,\n",
    "                jobconf={\n",
    "                        \"stream.num.map.output.key.fields\": 1,\n",
    "                        \"mapreduce.job.output.key.comparator.class\" : \"org.apache.hadoop.mapred.lib.KeyFieldBasedComparator\",\n",
    "                        \"mapreduce.partition.keycomparator.options\":\"-k1,1nr\",\n",
    "                        \"mapred.num.key.comparator.options\":\"-k1,1nr\",\n",
    "                        \"mapred.text.key.comparator.options\": \"-k1,1nr\",\n",
    "                        \"SORT_VALUES\":True\n",
    "                   }\n",
    "            )\n",
    "        ]\n",
    "        \n",
    "if __name__ == '__main__':\n",
    "    MRSimilarity.run()"
   ]
  },
  {
   "cell_type": "code",
   "execution_count": 41,
   "metadata": {},
   "outputs": [
    {
     "name": "stdout",
     "output_type": "stream",
     "text": [
      "rm: `/user/stassyvichev/test_similarity_sample': No such file or directory\n",
      "Using configs in /home/stassyvichev/.mrjob.conf\n",
      "Looking for hadoop binary in /opt/hadoop/bin...\n",
      "Found hadoop binary: /opt/hadoop/bin/hadoop\n",
      "Using Hadoop version 2.7.3\n",
      "Looking for Hadoop streaming jar in /opt/hadoop...\n",
      "Found Hadoop streaming jar: /opt/hadoop/share/hadoop/tools/lib/hadoop-streaming-2.7.3.jar\n",
      "Creating temp directory /tmp/similarityP2.stassyvichev.20180217.191547.830288\n",
      "Copying local files to hdfs:///user/stassyvichev/tmp/mrjob/similarityP2.stassyvichev.20180217.191547.830288/files/...\n",
      "Running step 1 of 2...\n",
      "  packageJobJar: [] [/opt/hadoop-2.7.3/share/hadoop/tools/lib/hadoop-streaming-2.7.3.jar] /tmp/streamjob8017154263845484942.jar tmpDir=null\n",
      "  Timeline service address: http://rm-ia.s3s.altiscale.com:8188/ws/v1/timeline/\n",
      "  Connecting to ResourceManager at rm-ia.s3s.altiscale.com/10.251.255.108:8032\n",
      "  Connecting to Application History server at rm-ia.s3s.altiscale.com/10.251.255.108:10200\n",
      "  Timeline service address: http://rm-ia.s3s.altiscale.com:8188/ws/v1/timeline/\n",
      "  Connecting to ResourceManager at rm-ia.s3s.altiscale.com/10.251.255.108:8032\n",
      "  Connecting to Application History server at rm-ia.s3s.altiscale.com/10.251.255.108:10200\n",
      "  Loaded native gpl library from the embedded binaries\n",
      "  Successfully loaded & initialized native-lzo library [hadoop-lzo rev d62701d4d05dfa6115bbaf8d9dff002df142e62d]\n",
      "  Total input paths to process : 1\n",
      "  number of splits:2\n",
      "  Submitting tokens for job: job_1509050304403_11996\n",
      "  Submitted application application_1509050304403_11996\n",
      "  The url to track the job: http://rm-ia.s3s.altiscale.com:8088/proxy/application_1509050304403_11996/\n",
      "  Running job: job_1509050304403_11996\n",
      "  Job job_1509050304403_11996 running in uber mode : false\n",
      "   map 0% reduce 0%\n",
      "   map 50% reduce 0%\n",
      "   map 100% reduce 0%\n",
      "   map 100% reduce 100%\n",
      "  Job job_1509050304403_11996 completed successfully\n",
      "  Output directory: hdfs:///user/stassyvichev/tmp/mrjob/similarityP2.stassyvichev.20180217.191547.830288/step-output/0000\n",
      "Counters: 49\n",
      "\tFile Input Format Counters \n",
      "\t\tBytes Read=5675\n",
      "\tFile Output Format Counters \n",
      "\t\tBytes Written=24508\n",
      "\tFile System Counters\n",
      "\t\tFILE: Number of bytes read=5101\n",
      "\t\tFILE: Number of bytes written=407412\n",
      "\t\tFILE: Number of large read operations=0\n",
      "\t\tFILE: Number of read operations=0\n",
      "\t\tFILE: Number of write operations=0\n",
      "\t\tHDFS: Number of bytes read=6093\n",
      "\t\tHDFS: Number of bytes written=24508\n",
      "\t\tHDFS: Number of large read operations=0\n",
      "\t\tHDFS: Number of read operations=9\n",
      "\t\tHDFS: Number of write operations=2\n",
      "\tJob Counters \n",
      "\t\tLaunched map tasks=2\n",
      "\t\tLaunched reduce tasks=1\n",
      "\t\tRack-local map tasks=2\n",
      "\t\tTotal megabyte-milliseconds taken by all map tasks=16940544\n",
      "\t\tTotal megabyte-milliseconds taken by all reduce tasks=15490560\n",
      "\t\tTotal time spent by all map tasks (ms)=11029\n",
      "\t\tTotal time spent by all maps in occupied slots (ms)=33087\n",
      "\t\tTotal time spent by all reduce tasks (ms)=6051\n",
      "\t\tTotal time spent by all reduces in occupied slots (ms)=30255\n",
      "\t\tTotal vcore-milliseconds taken by all map tasks=11029\n",
      "\t\tTotal vcore-milliseconds taken by all reduce tasks=6051\n",
      "\tMap-Reduce Framework\n",
      "\t\tCPU time spent (ms)=2880\n",
      "\t\tCombine input records=0\n",
      "\t\tCombine output records=0\n",
      "\t\tFailed Shuffles=0\n",
      "\t\tGC time elapsed (ms)=227\n",
      "\t\tInput split bytes=418\n",
      "\t\tMap input records=28\n",
      "\t\tMap output bytes=23417\n",
      "\t\tMap output materialized bytes=6242\n",
      "\t\tMap output records=688\n",
      "\t\tMerged Map outputs=2\n",
      "\t\tPhysical memory (bytes) snapshot=1890512896\n",
      "\t\tReduce input groups=512\n",
      "\t\tReduce input records=688\n",
      "\t\tReduce output records=512\n",
      "\t\tReduce shuffle bytes=6242\n",
      "\t\tShuffled Maps =2\n",
      "\t\tSpilled Records=1376\n",
      "\t\tTotal committed heap usage (bytes)=2239758336\n",
      "\t\tVirtual memory (bytes) snapshot=11406311424\n",
      "\tShuffle Errors\n",
      "\t\tBAD_ID=0\n",
      "\t\tCONNECTION=0\n",
      "\t\tIO_ERROR=0\n",
      "\t\tWRONG_LENGTH=0\n",
      "\t\tWRONG_MAP=0\n",
      "\t\tWRONG_REDUCE=0\n",
      "Running step 2 of 2...\n",
      "  packageJobJar: [] [/opt/hadoop-2.7.3/share/hadoop/tools/lib/hadoop-streaming-2.7.3.jar] /tmp/streamjob5236324384937010949.jar tmpDir=null\n",
      "  Timeline service address: http://rm-ia.s3s.altiscale.com:8188/ws/v1/timeline/\n",
      "  Connecting to ResourceManager at rm-ia.s3s.altiscale.com/10.251.255.108:8032\n",
      "  Connecting to Application History server at rm-ia.s3s.altiscale.com/10.251.255.108:10200\n",
      "  Timeline service address: http://rm-ia.s3s.altiscale.com:8188/ws/v1/timeline/\n",
      "  Connecting to ResourceManager at rm-ia.s3s.altiscale.com/10.251.255.108:8032\n",
      "  Connecting to Application History server at rm-ia.s3s.altiscale.com/10.251.255.108:10200\n",
      "  Loaded native gpl library from the embedded binaries\n",
      "  Successfully loaded & initialized native-lzo library [hadoop-lzo rev d62701d4d05dfa6115bbaf8d9dff002df142e62d]\n",
      "  Total input paths to process : 1\n",
      "  number of splits:2\n",
      "  Submitting tokens for job: job_1509050304403_11997\n",
      "  Submitted application application_1509050304403_11997\n",
      "  The url to track the job: http://rm-ia.s3s.altiscale.com:8088/proxy/application_1509050304403_11997/\n",
      "  Running job: job_1509050304403_11997\n",
      "  Job job_1509050304403_11997 running in uber mode : false\n",
      "   map 0% reduce 0%\n",
      "   map 100% reduce 0%\n",
      "   map 100% reduce 100%\n",
      "  Job job_1509050304403_11997 completed successfully\n",
      "  Output directory: hdfs:///user/stassyvichev/test_similarity_sample\n",
      "Counters: 49\n",
      "\tFile Input Format Counters \n",
      "\t\tBytes Read=36762\n",
      "\tFile Output Format Counters \n",
      "\t\tBytes Written=1921\n",
      "\tFile System Counters\n",
      "\t\tFILE: Number of bytes read=6068\n",
      "\t\tFILE: Number of bytes written=410565\n",
      "\t\tFILE: Number of large read operations=0\n",
      "\t\tFILE: Number of read operations=0\n",
      "\t\tFILE: Number of write operations=0\n",
      "\t\tHDFS: Number of bytes read=37148\n",
      "\t\tHDFS: Number of bytes written=1921\n",
      "\t\tHDFS: Number of large read operations=0\n",
      "\t\tHDFS: Number of read operations=9\n",
      "\t\tHDFS: Number of write operations=2\n",
      "\tJob Counters \n",
      "\t\tLaunched map tasks=2\n",
      "\t\tLaunched reduce tasks=1\n",
      "\t\tRack-local map tasks=2\n",
      "\t\tTotal megabyte-milliseconds taken by all map tasks=14754816\n",
      "\t\tTotal megabyte-milliseconds taken by all reduce tasks=7339520\n",
      "\t\tTotal time spent by all map tasks (ms)=9606\n",
      "\t\tTotal time spent by all maps in occupied slots (ms)=28818\n",
      "\t\tTotal time spent by all reduce tasks (ms)=2867\n",
      "\t\tTotal time spent by all reduces in occupied slots (ms)=14335\n",
      "\t\tTotal vcore-milliseconds taken by all map tasks=9606\n",
      "\t\tTotal vcore-milliseconds taken by all reduce tasks=2867\n",
      "\tMap-Reduce Framework\n",
      "\t\tCPU time spent (ms)=2550\n",
      "\t\tCombine input records=0\n",
      "\t\tCombine output records=0\n",
      "\t\tFailed Shuffles=0\n",
      "\t\tGC time elapsed (ms)=302\n",
      "\t\tInput split bytes=386\n",
      "\t\tMap input records=512\n",
      "\t\tMap output bytes=24508\n",
      "\t\tMap output materialized bytes=6746\n",
      "\t\tMap output records=512\n",
      "\t\tMerged Map outputs=2\n",
      "\t\tPhysical memory (bytes) snapshot=1896992768\n",
      "\t\tReduce input groups=34\n",
      "\t\tReduce input records=512\n",
      "\t\tReduce output records=34\n",
      "\t\tReduce shuffle bytes=6746\n",
      "\t\tShuffled Maps =2\n",
      "\t\tSpilled Records=1024\n",
      "\t\tTotal committed heap usage (bytes)=2323120128\n",
      "\t\tVirtual memory (bytes) snapshot=11412664320\n",
      "\tShuffle Errors\n",
      "\t\tBAD_ID=0\n",
      "\t\tCONNECTION=0\n",
      "\t\tIO_ERROR=0\n",
      "\t\tWRONG_LENGTH=0\n",
      "\t\tWRONG_MAP=0\n",
      "\t\tWRONG_REDUCE=0\n",
      "Removing HDFS temp directory hdfs:///user/stassyvichev/tmp/mrjob/similarityP2.stassyvichev.20180217.191547.830288...\n",
      "Removing temp directory /tmp/similarityP2.stassyvichev.20180217.191547.830288...\n"
     ]
    }
   ],
   "source": [
    "OUTPUT_PATH = os.path.join(OUTPUT_PATH_BASE,'test_similarity_sample')\n",
    "!hadoop fs -rm -r {OUTPUT_PATH}\n",
    "!python similarityP2.py \\\n",
    "        -r hadoop invertedindexcosine_sample_output.txt \\\n",
    "        --output-dir={OUTPUT_PATH} \\\n",
    "        --no-output"
   ]
  },
  {
   "cell_type": "code",
   "execution_count": 42,
   "metadata": {},
   "outputs": [],
   "source": [
    "!hadoop fs -cat {OUTPUT_PATH}/* > similarity_sample_output.txt"
   ]
  },
  {
   "cell_type": "code",
   "execution_count": 44,
   "metadata": {},
   "outputs": [
    {
     "name": "stdout",
     "output_type": "stream",
     "text": [
      "Found 2 items\r\n",
      "-rw-r--r--   3 stassyvichev users          0 2018-02-17 19:16 /user/stassyvichev/test_similarity_sample/_SUCCESS\r\n",
      "-rw-r--r--   3 stassyvichev users       1921 2018-02-17 19:16 /user/stassyvichev/test_similarity_sample/part-00000\r\n"
     ]
    }
   ],
   "source": [
    "!hadoop fs -ls {OUTPUT_PATH}"
   ]
  },
  {
   "cell_type": "code",
   "execution_count": 43,
   "metadata": {},
   "outputs": [
    {
     "name": "stdout",
     "output_type": "stream",
     "text": [
      "0.75\t[[\"general\", \"george\"], 0.75]\r\n",
      "0.5773502691896258\t[[\"limited\", \"forms\"], 0.5773502691896258]\r\n",
      "0.5669467095138407\t[[\"in\", \"female\"], 0.5669467095138407]\r\n",
      "0.5\t[[\"government\", \"child's\"], 0.5]\r\n",
      "0.4472135954999579\t[[\"biography\", \"collection\"], 0.4472135954999579]\r\n",
      "0.4285714285714285\t[[\"case\", \"study\"], 0.4285714285714285]\r\n",
      "0.3849001794597506\t[[\"of\", \"a\"], 0.3849001794597506]\r\n",
      "0.3779644730092272\t[[\"the\", \"sea\"], 0.3779644730092272]\r\n",
      "0.375\t[[\"fairy\", \"of\"], 0.375]\r\n",
      "0.3380617018914066\t[[\"case\", \"collection\"], 0.3380617018914066]\r\n",
      "0.33678765702728175\t[[\"a\", \"of\"], 0.33678765702728175]\r\n",
      "0.33541019662496846\t[[\"collection\", \"of\"], 0.33541019662496846]\r\n",
      "0.29095718698132317\t[[\"a\", \"the\"], 0.29095718698132317]\r\n",
      "0.2886751345948129\t[[\"forms\", \"george\"], 0.2886751345948129]\r\n",
      "0.28867513459481287\t[[\"government\", \"a\"], 0.28867513459481287]\r\n",
      "0.28571428571428564\t[[\"study\", \"the\"], 0.28571428571428564]\r\n",
      "0.28347335475692037\t[[\"study\", \"of\"], 0.28347335475692037]\r\n",
      "0.25819888974716115\t[[\"collection\", \"forms\"], 0.25819888974716115]\r\n",
      "0.2581988897471611\t[[\"a\", \"collection\"], 0.2581988897471611]\r\n",
      "0.25\t[[\"george\", \"establishing\"], 0.25]\r\n",
      "0.22360679774997896\t[[\"sea\", \"collection\"], 0.22360679774997896]\r\n",
      "0.22222222222222227\t[[\"a\", \"forms\"], 0.22222222222222227]\r\n",
      "0.2182178902359924\t[[\"case\", \"forms\"], 0.2182178902359924]\r\n",
      "0.21821789023599236\t[[\"in\", \"a\"], 0.21821789023599236]\r\n",
      "0.19245008972987526\t[[\"general\", \"a\"], 0.19245008972987526]\r\n",
      "0.1889822365046136\t[[\"the\", \"fairy\"], 0.1889822365046136]\r\n",
      "0.1690308509457033\t[[\"collection\", \"the\"], 0.1690308509457033]\r\n",
      "0.14547859349066158\t[[\"the\", \"a\"], 0.14547859349066158]\r\n",
      "0.14433756729740646\t[[\"of\", \"forms\"], 0.14433756729740646]\r\n",
      "0.14285714285714282\t[[\"in\", \"study\"], 0.14285714285714282]\r\n",
      "0.125\t[[\"circumstantial\", \"of\"], 0.125]\r\n",
      "0.09622504486493763\t[[\"narrative\", \"a\"], 0.09622504486493763]\r\n",
      "0.0944911182523068\t[[\"of\", \"in\"], 0.0944911182523068]\r\n",
      "0.08606629658238704\t[[\"collection\", \"a\"], 0.08606629658238704]\r\n"
     ]
    }
   ],
   "source": [
    "!cat similarity_sample_output.txt"
   ]
  },
  {
   "cell_type": "code",
   "execution_count": 22,
   "metadata": {},
   "outputs": [
    {
     "name": "stdout",
     "output_type": "stream",
     "text": [
      "18/02/17 18:42:57 INFO fs.TrashPolicyDefault: Namenode trash configuration: Deletion interval = 5760 minutes, Emptier interval = 360 minutes.\n",
      "Moved: 'hdfs://nn-ia.s3s.altiscale.com:8020/user/stassyvichev/test_similarity' to trash at: hdfs://nn-ia.s3s.altiscale.com:8020/user/stassyvichev/.Trash/Current\n",
      "Using configs in /home/stassyvichev/.mrjob.conf\n",
      "Looking for hadoop binary in /opt/hadoop/bin...\n",
      "Found hadoop binary: /opt/hadoop/bin/hadoop\n",
      "Using Hadoop version 2.7.3\n",
      "Looking for Hadoop streaming jar in /opt/hadoop...\n",
      "Found Hadoop streaming jar: /opt/hadoop/share/hadoop/tools/lib/hadoop-streaming-2.7.3.jar\n",
      "Creating temp directory /tmp/similarityP2.stassyvichev.20180217.184258.139204\n",
      "Copying local files to hdfs:///user/stassyvichev/tmp/mrjob/similarityP2.stassyvichev.20180217.184258.139204/files/...\n",
      "Running step 1 of 2...\n",
      "^C\n",
      "Removing HDFS temp directory hdfs:///user/stassyvichev/tmp/mrjob/similarityP2.stassyvichev.20180217.184258.139204...\n"
     ]
    }
   ],
   "source": [
    "OUTPUT_PATH = os.path.join(OUTPUT_PATH_BASE,'test_similarity')\n",
    "!hadoop fs -rm -r {OUTPUT_PATH}\n",
    "!python similarityP2.py \\\n",
    "        -r hadoop invertedindexcosine_output.txt \\\n",
    "        --output-dir={OUTPUT_PATH} \\\n",
    "        --no-output"
   ]
  },
  {
   "cell_type": "code",
   "execution_count": null,
   "metadata": {},
   "outputs": [],
   "source": [
    "# !hadoop fs -cat {OUTPUT_PATH}/* | head -n 10\n",
    "!hadoop fs -tail {OUTPUT_PATH}/part-00000"
   ]
  },
  {
   "cell_type": "code",
   "execution_count": null,
   "metadata": {},
   "outputs": [],
   "source": [
    "!hadoop fs -cat {OUTPUT_PATH}/* > similarity_output.txt"
   ]
  },
  {
   "cell_type": "markdown",
   "metadata": {},
   "source": [
    "#### atlas-boon systems test"
   ]
  },
  {
   "cell_type": "code",
   "execution_count": null,
   "metadata": {
    "collapsed": true
   },
   "outputs": [],
   "source": [
    "# ADD CELLS HERE AS NEEDED"
   ]
  },
  {
   "cell_type": "markdown",
   "metadata": {},
   "source": [
    "#### 10-line systems test"
   ]
  },
  {
   "cell_type": "code",
   "execution_count": null,
   "metadata": {
    "collapsed": true
   },
   "outputs": [],
   "source": [
    "# ADD CELLS HERE AS NEEDED"
   ]
  },
  {
   "cell_type": "code",
   "execution_count": null,
   "metadata": {
    "collapsed": true
   },
   "outputs": [],
   "source": []
  },
  {
   "cell_type": "markdown",
   "metadata": {},
   "source": [
    "# HW5.6 -Google n-grams EDA\n",
    "\n",
    "Do some EDA on this dataset using mrjob, e.g., \n",
    "\n",
    "- A. Longest 5-gram (number of characters)\n",
    "- B. Top 10 most frequent words (please use the count information), i.e., unigrams\n",
    "- C. 20 Most/Least densely appearing words (count/pages_count) sorted in decreasing order of relative frequency \n",
    "- D. Distribution of 5-gram sizes (character length).  E.g., count (using the count field) up how many times a 5-gram of 50 characters shows up. Plot the data graphically using a histogram."
   ]
  },
  {
   "cell_type": "markdown",
   "metadata": {},
   "source": [
    "### HW5.6.1 - A. Longest 5-gram (number of characters)"
   ]
  },
  {
   "cell_type": "code",
   "execution_count": 35,
   "metadata": {},
   "outputs": [
    {
     "name": "stdout",
     "output_type": "stream",
     "text": [
      "Overwriting longest5gram.py\n"
     ]
    }
   ],
   "source": [
    "%%writefile longest5gram.py\n",
    "#!~/anaconda2/bin/python\n",
    "# -*- coding: utf-8 -*-\n",
    "\n",
    "import re\n",
    "\n",
    "import mrjob\n",
    "from mrjob.protocol import RawProtocol\n",
    "from mrjob.job import MRJob\n",
    "from mrjob.step import MRStep\n",
    "\n",
    "class longest5gram(MRJob):\n",
    "#     SORT_VALUES = True\n",
    "    def mapper(self, _, line):\n",
    "        fields = line.strip(\"\\n\").split(\"\\t\")\n",
    "        yield len(fields[0]), fields[0]\n",
    "    \n",
    "    def reducer_init(self):\n",
    "        self.longest_ngrams = None\n",
    "        self.longest_size = 0\n",
    "        \n",
    "    def reducer(self, key, values):\n",
    "        if int(key)> self.longest_size:\n",
    "            self.longest_size = int(key)\n",
    "            self.longest_ngrams = list(values)\n",
    "            \n",
    "    def reducer_final(self):\n",
    "        yield self.longest_size, \";\".join(list(self.longest_ngrams))\n",
    "    \n",
    "    def reducer_2_init(self):\n",
    "        self.longest_2_ngrams = None\n",
    "        self.longest_2_size = 0\n",
    "    \n",
    "    def reducer_2(self, key, values):\n",
    "        if int(key)> self.longest_2_size:\n",
    "            self.longest_2_size = int(key)\n",
    "            self.longest_2_ngrams = values\n",
    "        elif int(key) == self.longest_2_size:\n",
    "            self.longest_2_ngrams = list(self.longest_2_ngrams)+list(values)\n",
    "            \n",
    "    def reducer_2_final(self):\n",
    "        yield self.longest_2_size, \";\".join(list(self.longest_2_ngrams))\n",
    "        \n",
    "    def steps(self):\n",
    "        return [\n",
    "            MRStep(\n",
    "                mapper = self.mapper,\n",
    "                reducer_init = self.reducer_init,\n",
    "                reducer_final = self.reducer_final,\n",
    "                reducer = self.reducer,\n",
    "                jobconf={\n",
    "                    \"mapreduce.job.reduces\": \"2\",\n",
    "                    \"stream.num.map.output.key.fields\": 1,\n",
    "                    \"mapreduce.job.output.key.comparator.class\" : \"org.apache.hadoop.mapred.lib.KeyFieldBasedComparator\",\n",
    "                    \"mapreduce.partition.keycomparator.options\":\"-k1,1nr\",\n",
    "                }\n",
    "#                 jobconf={\n",
    "#                     \"stream.num.map.output.key.fields\": 1,\n",
    "#                     \"mapreduce.job.output.key.comparator.class\" : \"org.apache.hadoop.mapred.lib.KeyFieldBasedComparator\",\n",
    "#                     \"mapreduce.partition.keycomparator.options\":\"-k1,1nr\",\n",
    "#                     \"mapred.num.key.comparator.options\":\"-k1,1nr\",\n",
    "#                     \"mapred.text.key.comparator.options\": \"-k1,1nr\",\n",
    "#                     \"SORT_VALUES\":True\n",
    "#                 }\n",
    "            ),\n",
    "            MRStep(\n",
    "                reducer_init = self.reducer_2_init,\n",
    "                reducer_final = self.reducer_2_final,\n",
    "                reducer = self.reducer_2,\n",
    "                jobconf={\n",
    "                    \"mapreduce.job.reduces\": \"1\"\n",
    "                }\n",
    "            )\n",
    "        ]\n",
    "    \n",
    "if __name__ == '__main__':\n",
    "    longest5gram.run()"
   ]
  },
  {
   "cell_type": "markdown",
   "metadata": {},
   "source": [
    "__On test data set:__"
   ]
  },
  {
   "cell_type": "code",
   "execution_count": null,
   "metadata": {
    "collapsed": true
   },
   "outputs": [],
   "source": [
    "OUTPUT_PATH = os.path.join(OUTPUT_PATH_BASE,'longest_sample')\n",
    "!hadoop fs -rm -r {OUTPUT_PATH}\n",
    "!python longest5gram.py \\\n",
    "        -r hadoop googlebooks-eng-all-5gram-20090715-0-filtered-first-10-lines.txt \\\n",
    "        --output-dir={OUTPUT_PATH} \\\n",
    "        --no-output\n",
    "\n",
    "!hadoop fs -cat {OUTPUT_PATH}/*"
   ]
  },
  {
   "cell_type": "code",
   "execution_count": null,
   "metadata": {},
   "outputs": [],
   "source": [
    "OUTPUT_PATH = os.path.join(OUTPUT_PATH_BASE,'longest_test1')\n",
    "!hadoop fs -rm -r {OUTPUT_PATH}\n",
    "!python longest5gram.py \\\n",
    "        -r hadoop hdfs://{TEST_1} \\\n",
    "        --output-dir={OUTPUT_PATH} \\\n",
    "        --no-output\n",
    "\n",
    "!hadoop fs -cat {OUTPUT_PATH}/*"
   ]
  },
  {
   "cell_type": "code",
   "execution_count": null,
   "metadata": {
    "collapsed": true
   },
   "outputs": [],
   "source": []
  },
  {
   "cell_type": "markdown",
   "metadata": {
    "collapsed": true
   },
   "source": [
    "__ On the 20 files dataset: __"
   ]
  },
  {
   "cell_type": "code",
   "execution_count": null,
   "metadata": {
    "collapsed": true
   },
   "outputs": [],
   "source": [
    "OUTPUT_PATH = os.path.join(OUTPUT_PATH_BASE,'longest_test20')\n",
    "!hadoop fs -rm -r {OUTPUT_PATH}\n",
    "!python longest5gram.py \\\n",
    "        -r hadoop hdfs://{TEST_20} \\\n",
    "        --output-dir={OUTPUT_PATH} \\\n",
    "        --no-output\n",
    "\n",
    "!hadoop fs -cat {OUTPUT_PATH}/*"
   ]
  },
  {
   "cell_type": "code",
   "execution_count": null,
   "metadata": {
    "collapsed": true
   },
   "outputs": [],
   "source": []
  },
  {
   "cell_type": "markdown",
   "metadata": {},
   "source": [
    "__On full data set:__"
   ]
  },
  {
   "cell_type": "code",
   "execution_count": null,
   "metadata": {
    "collapsed": true
   },
   "outputs": [],
   "source": [
    "OUTPUT_PATH = os.path.join(OUTPUT_PATH_BASE,'longest_full')\n",
    "!hadoop fs -rm -r {OUTPUT_PATH}\n",
    "!python longest5gram.py \\\n",
    "        -r hadoop hdfs://{FULL_DATA} \\\n",
    "        --output-dir={OUTPUT_PATH} \\\n",
    "        --no-output\n",
    "\n",
    "!hadoop fs -cat {OUTPUT_PATH}/*"
   ]
  },
  {
   "cell_type": "code",
   "execution_count": null,
   "metadata": {
    "collapsed": true
   },
   "outputs": [],
   "source": []
  },
  {
   "cell_type": "markdown",
   "metadata": {},
   "source": [
    "### Longest 5grams MR stats\n",
    "\n",
    "    ec2_instance_type: m3.xlarge\n",
    "    num_ec2_instances: 15\n",
    "\n",
    "__Step 1:__  \n",
    "\n",
    "    RUNNING for 107.0s ~= 2 minutes  \n",
    "    Reduce tasks = 16 \n",
    "    \n",
    "__Step 2:__   \n",
    "\n",
    "    RUNNING for 108.8s ~= 2 minutes\n",
    "    Reduce tasks = 1  "
   ]
  },
  {
   "cell_type": "markdown",
   "metadata": {},
   "source": [
    "### HW5.6.1 - B. Top 10 most frequent words "
   ]
  },
  {
   "cell_type": "code",
   "execution_count": 36,
   "metadata": {},
   "outputs": [
    {
     "name": "stdout",
     "output_type": "stream",
     "text": [
      "Writing mostFrequentWords.py\n"
     ]
    }
   ],
   "source": [
    "%%writefile mostFrequentWords.py\n",
    "#!~/anaconda2/bin/python\n",
    "# -*- coding: utf-8 -*-\n",
    "\n",
    "import re\n",
    "\n",
    "import mrjob\n",
    "from mrjob.protocol import RawProtocol\n",
    "from mrjob.job import MRJob\n",
    "from mrjob.step import MRStep\n",
    "\n",
    "class mostFrequentWords(MRJob):\n",
    " \n",
    "    def mapper(self, _, line):\n",
    "        fields = line.strip(\"\\n\").split(\"\\t\")\n",
    "        count = int(fields[1])\n",
    "        for word in fields[0].split(\" \"):\n",
    "            yield word.lower(), count\n",
    "    \n",
    "    def reducer(self, key, values):\n",
    "        yield key, sum(values)\n",
    "        \n",
    "        \n",
    "if __name__ == '__main__':\n",
    "    mostFrequentWords.run()"
   ]
  },
  {
   "cell_type": "markdown",
   "metadata": {},
   "source": [
    "__On the test data set:__"
   ]
  },
  {
   "cell_type": "code",
   "execution_count": null,
   "metadata": {
    "collapsed": true
   },
   "outputs": [],
   "source": []
  },
  {
   "cell_type": "code",
   "execution_count": null,
   "metadata": {
    "collapsed": true
   },
   "outputs": [],
   "source": []
  },
  {
   "cell_type": "markdown",
   "metadata": {},
   "source": [
    "__ On the 20 files dataset: __"
   ]
  },
  {
   "cell_type": "code",
   "execution_count": null,
   "metadata": {
    "collapsed": true
   },
   "outputs": [],
   "source": []
  },
  {
   "cell_type": "code",
   "execution_count": null,
   "metadata": {
    "collapsed": true
   },
   "outputs": [],
   "source": []
  },
  {
   "cell_type": "markdown",
   "metadata": {},
   "source": [
    "__On the full data set:__"
   ]
  },
  {
   "cell_type": "code",
   "execution_count": null,
   "metadata": {
    "collapsed": true
   },
   "outputs": [],
   "source": []
  },
  {
   "cell_type": "code",
   "execution_count": null,
   "metadata": {
    "collapsed": true
   },
   "outputs": [],
   "source": []
  },
  {
   "cell_type": "markdown",
   "metadata": {},
   "source": [
    "### Most frequent words MR stats\n",
    "    \n",
    "    ec2_instance_type: m3.xlarge\n",
    "    num_ec2_instances: 15\n",
    "    \n",
    "__Step 1:__   \n",
    "\n",
    "    RUNNING for 590.7s ~= 10 minutes   \n",
    "    Launched map tasks=191  \n",
    "    Launched reduce tasks=57   \n",
    "\n",
    "__Step 2:__  \n",
    "\n",
    "    RUNNING for 76.6s   \n",
    "    Launched map tasks=110\n",
    "    Launched reduce tasks=16  \n"
   ]
  },
  {
   "cell_type": "markdown",
   "metadata": {},
   "source": [
    "### HW5.6.1 - C. 20 Most/Least densely appearing words "
   ]
  },
  {
   "cell_type": "code",
   "execution_count": null,
   "metadata": {
    "collapsed": true
   },
   "outputs": [],
   "source": [
    "%%writefile mostLeastDenseWords.py\n",
    "#!~/anaconda2/bin/python\n",
    "# -*- coding: utf-8 -*-\n",
    "from __future__ import division\n",
    "import re\n",
    "import numpy as np\n",
    "import mrjob\n",
    "from mrjob.protocol import RawProtocol\n",
    "from mrjob.job import MRJob\n",
    "from mrjob.step import MRStep\n",
    "\n",
    "class mostLeastDenseWords(MRJob):\n",
    "    \n",
    "    # START STUDENT CODE 5.6.1.C\n",
    "    \n",
    "    # END STUDENT CODE 5.6.1.C\n",
    "        \n",
    "if __name__ == '__main__':\n",
    "    mostLeastDenseWords.run()"
   ]
  },
  {
   "cell_type": "markdown",
   "metadata": {},
   "source": [
    "__On the test data set:__"
   ]
  },
  {
   "cell_type": "code",
   "execution_count": null,
   "metadata": {
    "collapsed": true
   },
   "outputs": [],
   "source": []
  },
  {
   "cell_type": "code",
   "execution_count": null,
   "metadata": {
    "collapsed": true
   },
   "outputs": [],
   "source": []
  },
  {
   "cell_type": "markdown",
   "metadata": {},
   "source": [
    "__ On the 20 files dataset: __"
   ]
  },
  {
   "cell_type": "code",
   "execution_count": null,
   "metadata": {
    "collapsed": true
   },
   "outputs": [],
   "source": []
  },
  {
   "cell_type": "code",
   "execution_count": null,
   "metadata": {
    "collapsed": true
   },
   "outputs": [],
   "source": []
  },
  {
   "cell_type": "markdown",
   "metadata": {},
   "source": [
    "__On the full data set:__"
   ]
  },
  {
   "cell_type": "code",
   "execution_count": null,
   "metadata": {
    "collapsed": true
   },
   "outputs": [],
   "source": []
  },
  {
   "cell_type": "code",
   "execution_count": null,
   "metadata": {
    "collapsed": true
   },
   "outputs": [],
   "source": []
  },
  {
   "cell_type": "markdown",
   "metadata": {},
   "source": [
    "### Word density MR stats\n",
    "\n",
    "    ec2_instance_type: m3.xlarge\n",
    "    num_ec2_instances: 15\n",
    "    \n",
    "__Step 1:__ \n",
    "\n",
    "    RUNNING for 649.2s  ~= 10 minutes      \n",
    "    Launched map tasks=190   \n",
    "    Launched reduce tasks=57     \n",
    "\n",
    "__Step 2:__  \n",
    "\n",
    "    RUNNING for 74.4s  ~= 1 minute    \n",
    "    Launched map tasks=110   \n",
    "    Launched reduce tasks=20   "
   ]
  },
  {
   "cell_type": "markdown",
   "metadata": {},
   "source": [
    "### HW5.6.1 - D. Distribution of 5-gram sizes (character length)"
   ]
  },
  {
   "cell_type": "code",
   "execution_count": null,
   "metadata": {
    "collapsed": true
   },
   "outputs": [],
   "source": [
    "%%writefile distribution.py\n",
    "#!~/anaconda2/bin/python\n",
    "# -*- coding: utf-8 -*-\n",
    "\n",
    "import mrjob\n",
    "from mrjob.protocol import RawProtocol\n",
    "from mrjob.job import MRJob\n",
    "from mrjob.step import MRStep\n",
    "\n",
    "class distribution(MRJob):\n",
    "    \n",
    "    # START STUDENT CODE 5.6.1.D\n",
    "    \n",
    "    # END STUDENT CODE 5.6.1.D\n",
    "    \n",
    "if __name__ == '__main__':\n",
    "    distribution.run()"
   ]
  },
  {
   "cell_type": "markdown",
   "metadata": {},
   "source": [
    "__On the test data set:__"
   ]
  },
  {
   "cell_type": "code",
   "execution_count": null,
   "metadata": {
    "collapsed": true
   },
   "outputs": [],
   "source": []
  },
  {
   "cell_type": "code",
   "execution_count": null,
   "metadata": {
    "collapsed": true
   },
   "outputs": [],
   "source": []
  },
  {
   "cell_type": "markdown",
   "metadata": {},
   "source": [
    "__ On the 20 files dataset: __"
   ]
  },
  {
   "cell_type": "code",
   "execution_count": null,
   "metadata": {
    "collapsed": true
   },
   "outputs": [],
   "source": []
  },
  {
   "cell_type": "code",
   "execution_count": null,
   "metadata": {
    "collapsed": true
   },
   "outputs": [],
   "source": []
  },
  {
   "cell_type": "markdown",
   "metadata": {},
   "source": [
    "__On the full data set:__"
   ]
  },
  {
   "cell_type": "code",
   "execution_count": null,
   "metadata": {
    "collapsed": true
   },
   "outputs": [],
   "source": []
  },
  {
   "cell_type": "code",
   "execution_count": null,
   "metadata": {
    "collapsed": true
   },
   "outputs": [],
   "source": []
  },
  {
   "cell_type": "markdown",
   "metadata": {},
   "source": [
    "### Distribution MRJob stats\n",
    "\n",
    "__Step 1:__ \n",
    "\n",
    "    RUNNING for 157.8s ~= 2.6 minutes  \n",
    "    Launched map tasks=191  \n",
    "    Launched reduce tasks=16   \n",
    "    \n",
    "__Step 2:__  \n",
    "\n",
    "    RUNNING for 115.0s ~= 2 minutes   \n",
    "    Launched map tasks=139\n",
    "\tLaunched reduce tasks=1  "
   ]
  },
  {
   "cell_type": "code",
   "execution_count": null,
   "metadata": {
    "collapsed": true
   },
   "outputs": [],
   "source": [
    "%matplotlib inline\n",
    "import numpy as np\n",
    "import pylab as pl\n",
    "\n",
    "results_A = []\n",
    "for line in open(\"5.6distributions/part-00000\").readlines():\n",
    "    line = line.strip()\n",
    "    X,Y = line.split(\"\\t\")\n",
    "    results_A.append([int(X),int(Y)])\n",
    "\n",
    "items = (np.array(results_A)[::-1].T)\n",
    "fig = pl.figure(figsize=(17,7))\n",
    "ax = pl.subplot(111)\n",
    "width=0.8\n",
    "ax.bar(range(len(items[0])), items[1], width=width)\n",
    "ax.set_xticks(np.arange(len(items[0])) + width/2)\n",
    "ax.set_xticklabels(items[0], rotation=90)\n",
    "\n",
    "\n",
    "\n",
    "pl.title(\"Distributions of 5 Gram lengths\")\n",
    "pl.show()"
   ]
  },
  {
   "cell_type": "code",
   "execution_count": null,
   "metadata": {
    "collapsed": true
   },
   "outputs": [],
   "source": []
  },
  {
   "cell_type": "code",
   "execution_count": null,
   "metadata": {
    "collapsed": true
   },
   "outputs": [],
   "source": []
  },
  {
   "cell_type": "markdown",
   "metadata": {},
   "source": [
    "### HW5.6.2 - OPTIONAL: log-log plots (PHASE 2)\n",
    "\n",
    "Plot the log-log plot of the frequency distributuion of unigrams. Does it follow power law distribution?\n",
    "\n",
    "For more background see:\n",
    "- https://en.wikipedia.org/wiki/Log%E2%80%93log_plot\n",
    "- https://en.wikipedia.org/wiki/Power_law"
   ]
  },
  {
   "cell_type": "code",
   "execution_count": null,
   "metadata": {
    "collapsed": true
   },
   "outputs": [],
   "source": []
  },
  {
   "cell_type": "code",
   "execution_count": null,
   "metadata": {
    "collapsed": true
   },
   "outputs": [],
   "source": []
  },
  {
   "cell_type": "markdown",
   "metadata": {},
   "source": [
    "# HW5.7 - Synonym detection over 2Gig of Data with extra Preprocessing steps (HW5.3-5 plus some preprocessing)   \n",
    "\n",
    "For the remainder of this assignment please feel free to eliminate stop words from your analysis (see stopWords in the cell below)\n",
    "\n",
    "__A large subset of the Google n-grams dataset as was described above__\n",
    "\n",
    "For each HW 5.6 - 5.7.1 Please unit test and system test your code with respect \n",
    "to SYSTEMS TEST DATASET and show the results. \n",
    "Please compute the expected answer by hand and show your hand calculations for the \n",
    "SYSTEMS TEST DATASET. Then show the results you get with your system.\n",
    "\n",
    "In this part of the assignment we will focus on developing methods for detecting synonyms, using the Google 5-grams dataset. At a high level:\n",
    "\n",
    "\n",
    "1. remove stopwords\n",
    "2. get 10,000 most frequent\n",
    "3. get 1000 (9001-10000) features\n",
    "3. build stripes\n",
    "\n",
    "To accomplish this you must script two main tasks using MRJob:\n",
    "\n",
    "\n",
    "__TASK (1)__ Build stripes for the most frequent 10,000 words using cooccurence information based on\n",
    "the words ranked from 9001,-10,000 as a basis/vocabulary (drop stopword-like terms),\n",
    "and output to a file in your bucket on s3 (bigram analysis, though the words are non-contiguous).\n",
    "\n",
    "\n",
    "__TASK (2)__ Using two (symmetric) comparison methods of your choice \n",
    "(e.g., correlations, distances, similarities), pairwise compare \n",
    "all stripes (vectors), and output to a file in your bucket on s3.\n",
    "\n",
    "\n",
    "For this task you will have to determine a method of comparison.\n",
    "Here are a few that you might consider:\n",
    "\n",
    "- Jaccard\n",
    "- Cosine similarity\n",
    "- Spearman correlation\n",
    "- Euclidean distance\n",
    "- Taxicab (Manhattan) distance\n",
    "- Shortest path graph distance (a graph, because our data is symmetric!)\n",
    "- Pearson correlation\n",
    "- Kendall correlation\n",
    "\n",
    "However, be cautioned that some comparison methods are more difficult to\n",
    "parallelize than others, and do not perform more associations than is necessary, \n",
    "since your choice of association will be symmetric.\n",
    "\n",
    "Please report the size of the cluster used and the amount of time it takes to run for the index construction task and for the synonym calculation task. How many pairs need to be processed (HINT: use the posting list length to calculate directly)? Report your  Cluster configuration!"
   ]
  },
  {
   "cell_type": "code",
   "execution_count": null,
   "metadata": {
    "collapsed": true
   },
   "outputs": [],
   "source": [
    "stopwords =  ['i', 'me', 'my', 'myself', 'we', 'our', 'ours', \n",
    "              'ourselves', 'you', 'your', 'yours', 'yourself', \n",
    "              'yourselves', 'he', 'him', 'his', 'himself', 'she', \n",
    "              'her', 'hers', 'herself', 'it', 'its', 'itself', \n",
    "              'they', 'them', 'their', 'theirs', 'themselves', \n",
    "              'what', 'which', 'who', 'whom', 'this', 'that', \n",
    "              'these', 'those', 'am', 'is', 'are', 'was', 'were', \n",
    "              'be', 'been', 'being', 'have', 'has', 'had', 'having', \n",
    "              'do', 'does', 'did', 'doing', 'a', 'an', 'the', 'and', \n",
    "              'but', 'if', 'or', 'because', 'as', 'until', 'while', \n",
    "              'of', 'at', 'by', 'for', 'with', 'about', 'against', \n",
    "              'between', 'into', 'through', 'during', 'before', \n",
    "              'after', 'above', 'below', 'to', 'from', 'up', 'down', \n",
    "              'in', 'out', 'on', 'off', 'over', 'under', 'again', \n",
    "              'further', 'then', 'once', 'here', 'there', 'when', \n",
    "              'where', 'why', 'how', 'all', 'any', 'both', 'each', \n",
    "              'few', 'more', 'most', 'other', 'some', 'such', 'no', \n",
    "              'nor', 'not', 'only', 'own', 'same', 'so', 'than', \n",
    "              'too', 'very', 's', 't', 'can', 'will', 'just', \n",
    "              'don', 'should', 'now']"
   ]
  },
  {
   "cell_type": "markdown",
   "metadata": {},
   "source": [
    "### HW5.7.1 Running on 1 file"
   ]
  },
  {
   "cell_type": "code",
   "execution_count": null,
   "metadata": {
    "collapsed": true
   },
   "outputs": [],
   "source": [
    "# ADD CELLS AS NEEDED"
   ]
  },
  {
   "cell_type": "markdown",
   "metadata": {},
   "source": [
    "### HW5.7.2 Running on 20 test files"
   ]
  },
  {
   "cell_type": "code",
   "execution_count": null,
   "metadata": {
    "collapsed": true
   },
   "outputs": [],
   "source": [
    "# ADD CELLS AS NEEDED"
   ]
  },
  {
   "cell_type": "markdown",
   "metadata": {},
   "source": [
    "### HW5.7.3 Running the full dataset on Altiscale\n",
    "\n",
    "Please contact the TAs for approval after obtaining results from 5.7.2. We have ran into issues in the past where the clusters froze because people did not test their code on a smaller dataset."
   ]
  },
  {
   "cell_type": "code",
   "execution_count": null,
   "metadata": {
    "collapsed": true
   },
   "outputs": [],
   "source": [
    "# ADD CELLS AS NEEDED"
   ]
  },
  {
   "cell_type": "markdown",
   "metadata": {},
   "source": [
    "#### Pretty print results\n",
    "NOTE: depending on how you processed the stop words your results may differ from the table provided. "
   ]
  },
  {
   "cell_type": "code",
   "execution_count": null,
   "metadata": {
    "collapsed": true
   },
   "outputs": [],
   "source": [
    "print \"\\nTop/Bottom 20 results - Similarity measures - sorted by cosine\"\n",
    "print \"(From the entire data set)\"\n",
    "print '—'*117\n",
    "print \"{0:>30} |{1:>15} |{2:>15} |{3:>15} |{4:>15} |{5:>15}\".format(\n",
    "        \"pair\", \"cosine\", \"jaccard\", \"overlap\", \"dice\", \"average\")\n",
    "print '-'*117\n",
    "\n",
    "for stripe in sortedSims[:20]:\n",
    "    print \"{0:>30} |{1:>15f} |{2:>15f} |{3:>15f} |{4:>15f} |{5:>15f}\".format(\n",
    "        stripe[0], float(stripe[1]), float(stripe[2]), float(stripe[3]), float(stripe[4]), float(stripe[5]) )\n",
    "\n",
    "print '—'*117\n",
    "\n",
    "for stripe in sortedSims[-20:]:\n",
    "    print \"{0:>30} |{1:>15f} |{2:>15f} |{3:>15f} |{4:>15f} |{5:>15f}\".format(\n",
    "        stripe[0], float(stripe[1]), float(stripe[2]), float(stripe[3]), float(stripe[4]), float(stripe[5]) )\n"
   ]
  },
  {
   "cell_type": "code",
   "execution_count": null,
   "metadata": {
    "collapsed": true
   },
   "outputs": [],
   "source": [
    "Top/Bottom 20 results - Similarity measures - sorted by cosine\n",
    "(From the entire data set)\n",
    "—————————————————————————————————————————————————————————————————————————————————————————————————————————————————————\n",
    "                          pair |         cosine |        jaccard |        overlap |           dice |        average\n",
    "---------------------------------------------------------------------------------------------------------------------\n",
    "                   cons - pros |       0.894427 |       0.800000 |       1.000000 |       0.888889 |       0.895829\n",
    "            forties - twenties |       0.816497 |       0.666667 |       1.000000 |       0.800000 |       0.820791\n",
    "                    own - time |       0.809510 |       0.670563 |       0.921168 |       0.802799 |       0.801010\n",
    "                 little - time |       0.784197 |       0.630621 |       0.926101 |       0.773473 |       0.778598\n",
    "                  found - time |       0.783434 |       0.636364 |       0.883788 |       0.777778 |       0.770341\n",
    "                 nova - scotia |       0.774597 |       0.600000 |       1.000000 |       0.750000 |       0.781149\n",
    "                   hong - kong |       0.769800 |       0.615385 |       0.888889 |       0.761905 |       0.758995\n",
    "                   life - time |       0.769666 |       0.608789 |       0.925081 |       0.756829 |       0.765091\n",
    "                  time - world |       0.755476 |       0.585049 |       0.937500 |       0.738209 |       0.754058\n",
    "                  means - time |       0.752181 |       0.587117 |       0.902597 |       0.739854 |       0.745437\n",
    "                   form - time |       0.749943 |       0.588418 |       0.876733 |       0.740885 |       0.738995\n",
    "       infarction - myocardial |       0.748331 |       0.560000 |       1.000000 |       0.717949 |       0.756570\n",
    "                 people - time |       0.745788 |       0.573577 |       0.923875 |       0.729010 |       0.743063\n",
    "                 angeles - los |       0.745499 |       0.586207 |       0.850000 |       0.739130 |       0.730209\n",
    "                  little - own |       0.739343 |       0.585834 |       0.767296 |       0.738834 |       0.707827\n",
    "                    life - own |       0.737053 |       0.582217 |       0.778502 |       0.735951 |       0.708430\n",
    "          anterior - posterior |       0.733388 |       0.576471 |       0.790323 |       0.731343 |       0.707881\n",
    "                  power - time |       0.719611 |       0.533623 |       0.933586 |       0.695898 |       0.720680\n",
    "              dearly - install |       0.707107 |       0.500000 |       1.000000 |       0.666667 |       0.718443\n",
    "                   found - own |       0.704802 |       0.544134 |       0.710949 |       0.704776 |       0.666165\n",
    "—————————————————————————————————————————————————————————————————————————————————————————————————————————————————————\n",
    "           arrival - essential |       0.008258 |       0.004098 |       0.009615 |       0.008163 |       0.007534\n",
    "         governments - surface |       0.008251 |       0.003534 |       0.014706 |       0.007042 |       0.008383\n",
    "                king - lesions |       0.008178 |       0.003106 |       0.017857 |       0.006192 |       0.008833\n",
    "              clinical - stood |       0.008178 |       0.003831 |       0.011905 |       0.007634 |       0.007887\n",
    "               till - validity |       0.008172 |       0.003367 |       0.015625 |       0.006711 |       0.008469\n",
    "            evidence - started |       0.008159 |       0.003802 |       0.012048 |       0.007576 |       0.007896\n",
    "               forces - record |       0.008152 |       0.003876 |       0.011364 |       0.007722 |       0.007778\n",
    "               primary - stone |       0.008146 |       0.004065 |       0.009091 |       0.008097 |       0.007350\n",
    "             beneath - federal |       0.008134 |       0.004082 |       0.008403 |       0.008130 |       0.007187\n",
    "                factors - rose |       0.008113 |       0.004032 |       0.009346 |       0.008032 |       0.007381\n",
    "           evening - functions |       0.008069 |       0.004049 |       0.008333 |       0.008065 |       0.007129\n",
    "                   bone - told |       0.008061 |       0.003704 |       0.012346 |       0.007380 |       0.007873\n",
    "             building - occurs |       0.008002 |       0.003891 |       0.010309 |       0.007752 |       0.007489\n",
    "                 company - fig |       0.007913 |       0.003257 |       0.015152 |       0.006494 |       0.008204\n",
    "               chronic - north |       0.007803 |       0.003268 |       0.014493 |       0.006515 |       0.008020\n",
    "             evaluation - king |       0.007650 |       0.003030 |       0.015625 |       0.006042 |       0.008087\n",
    "             resulting - stood |       0.007650 |       0.003663 |       0.010417 |       0.007299 |       0.007257\n",
    "                 agent - round |       0.007515 |       0.003289 |       0.012821 |       0.006557 |       0.007546\n",
    "         afterwards - analysis |       0.007387 |       0.003521 |       0.010204 |       0.007018 |       0.007032\n",
    "            posterior - spirit |       0.007156 |       0.002660 |       0.016129 |       0.005305 |       0.007812"
   ]
  },
  {
   "cell_type": "markdown",
   "metadata": {},
   "source": [
    "# HW5.8 - Evaluation of synonyms that your discovered\n",
    "\n",
    "In this part of the assignment you will evaluate the success of you synonym detector. Take the top 1,000 closest/most similar/correlative pairs of words as determined by your measure in HW5.7, and use the synonyms function from the wordnet synonnyms list from the nltk package (see provided code below).\n",
    "\n",
    "For each (word1,word2) pair, check to see if word1 is in the list, \n",
    "synonyms(word2), and vice-versa. If one of the two is a synonym of the other, \n",
    "then consider this pair a 'hit', and then report the precision, recall, and F1 measure  of \n",
    "your detector across your 1,000 best guesses. Report the macro averages of these measures."
   ]
  },
  {
   "cell_type": "markdown",
   "metadata": {
    "collapsed": true
   },
   "source": [
    "### Calculate performance measures:\n",
    "$$Precision (P) = \\frac{TP}{TP + FP} $$  \n",
    "$$Recall (R) = \\frac{TP}{TP + FN} $$  \n",
    "$$F1 = \\frac{2 * ( precision * recall )}{precision + recall}$$\n",
    "\n",
    "\n",
    "We calculate Precision by counting the number of hits and dividing by the number of occurances in our top1000 (opportunities)   \n",
    "We calculate Recall by counting the number of hits, and dividing by the number of synonyms in wordnet (syns)\n",
    "\n",
    "\n",
    "Other diagnostic measures not implemented here:  https://en.wikipedia.org/wiki/F1_score#Diagnostic_Testing"
   ]
  },
  {
   "cell_type": "code",
   "execution_count": null,
   "metadata": {
    "collapsed": true
   },
   "outputs": [],
   "source": [
    "''' Performance measures '''\n",
    "from __future__ import division\n",
    "import numpy as np\n",
    "import json\n",
    "import nltk\n",
    "from nltk.corpus import wordnet as wn\n",
    "import sys\n",
    "#print all the synset element of an element\n",
    "def synonyms(string):\n",
    "    syndict = {}\n",
    "    for i,j in enumerate(wn.synsets(string)):\n",
    "        syns = j.lemma_names()\n",
    "        for syn in syns:\n",
    "            syndict.setdefault(syn,1)\n",
    "    return syndict.keys()\n",
    "hits = []\n",
    "\n",
    "TP = 0\n",
    "FP = 0\n",
    "\n",
    "TOTAL = 0\n",
    "flag = False # so we don't double count, but at the same time don't miss hits\n",
    "\n",
    "top1000sims = []\n",
    "with open(\"sims2/top1000sims\",\"r\") as f:\n",
    "    for line in f.readlines():\n",
    "\n",
    "        line = line.strip()\n",
    "        avg,lisst = line.split(\"\\t\")\n",
    "        lisst = json.loads(lisst)\n",
    "        lisst.append(avg)\n",
    "        top1000sims.append(lisst)\n",
    "    \n",
    "\n",
    "measures = {}\n",
    "not_in_wordnet = []\n",
    "\n",
    "for line in top1000sims:\n",
    "    TOTAL += 1\n",
    "\n",
    "    pair = line[0]\n",
    "    words = pair.split(\" - \")\n",
    "    \n",
    "    for word in words:\n",
    "        if word not in measures:\n",
    "            measures[word] = {\"syns\":0,\"opps\": 0,\"hits\":0}\n",
    "        measures[word][\"opps\"] += 1 \n",
    "    \n",
    "    syns0 = synonyms(words[0])\n",
    "    measures[words[1]][\"syns\"] = len(syns0)\n",
    "    if len(syns0) == 0:\n",
    "        not_in_wordnet.append(words[0])\n",
    "        \n",
    "    if words[1] in syns0:\n",
    "        TP += 1\n",
    "        hits.append(line)\n",
    "        flag = True\n",
    "        measures[words[1]][\"hits\"] += 1\n",
    "        \n",
    "        \n",
    "        \n",
    "    syns1 = synonyms(words[1]) \n",
    "    measures[words[0]][\"syns\"] = len(syns1)\n",
    "    if len(syns1) == 0:\n",
    "        not_in_wordnet.append(words[1])\n",
    "\n",
    "    if words[0] in syns1:\n",
    "        if flag == False:\n",
    "            TP += 1\n",
    "            hits.append(line)\n",
    "            measures[words[0]][\"hits\"] += 1\n",
    "            \n",
    "    flag = False    \n",
    "\n",
    "precision = []\n",
    "recall = []\n",
    "f1 = []\n",
    "\n",
    "for key in measures:\n",
    "    p,r,f = 0,0,0\n",
    "    if measures[key][\"hits\"] > 0 and measures[key][\"syns\"] > 0:\n",
    "        p = measures[key][\"hits\"]/measures[key][\"opps\"]\n",
    "        r = measures[key][\"hits\"]/measures[key][\"syns\"]\n",
    "        f = 2 * (p*r)/(p+r)\n",
    "    \n",
    "    # For calculating measures, only take into account words that have synonyms in wordnet\n",
    "    if measures[key][\"syns\"] > 0:\n",
    "        precision.append(p)\n",
    "        recall.append(r)\n",
    "        f1.append(f)\n",
    "\n",
    "    \n",
    "# Take the mean of each measure    \n",
    "print \"—\"*110    \n",
    "print \"Number of Hits:\",TP, \"out of top\",TOTAL\n",
    "print \"Number of words without synonyms:\",len(not_in_wordnet)\n",
    "print \"—\"*110 \n",
    "print \"Precision\\t\", np.mean(precision)\n",
    "print \"Recall\\t\\t\", np.mean(recall)\n",
    "print \"F1\\t\\t\", np.mean(f1)\n",
    "print \"—\"*110  \n",
    "\n",
    "print \"Words without synonyms:\"\n",
    "print \"-\"*100\n",
    "\n",
    "for word in not_in_wordnet:\n",
    "    print synonyms(word),word\n",
    "\n",
    "    "
   ]
  },
  {
   "cell_type": "markdown",
   "metadata": {},
   "source": [
    "### Sample output"
   ]
  },
  {
   "cell_type": "code",
   "execution_count": null,
   "metadata": {
    "collapsed": true
   },
   "outputs": [],
   "source": [
    "——————————————————————————————————————————————————————————————————————————————————————————————————————————————\n",
    "Number of Hits: 31 out of top 1000\n",
    "Number of words without synonyms: 67\n",
    "——————————————————————————————————————————————————————————————————————————————————————————————————————————————\n",
    "Precision\t0.0280214404967\n",
    "Recall\t\t0.0178598869579\n",
    "F1\t\t0.013965517619\n",
    "——————————————————————————————————————————————————————————————————————————————————————————————————————————————\n",
    "Words without synonyms:\n",
    "----------------------------------------------------------------------------------------------------\n",
    "[] scotia\n",
    "[] hong\n",
    "[] kong\n",
    "[] angeles\n",
    "[] los\n",
    "[] nor\n",
    "[] themselves\n",
    "[] \n",
    "......."
   ]
  },
  {
   "cell_type": "markdown",
   "metadata": {},
   "source": [
    "# HW5.9 - OPTIONAL: using different vocabulary subsets\n",
    "\n",
    "Repeat HW5 using vocabulary words ranked from 8001,-10,000;  7001,-10,000; 6001,-10,000; 5001,-10,000; 3001,-10,000; and 1001,-10,000;\n",
    "Dont forget to report you Cluster configuration.\n",
    "\n",
    "Generate the following graphs:\n",
    "-- vocabulary size (X-Axis) versus CPU time for indexing\n",
    "-- vocabulary size (X-Axis) versus number of pairs processed\n",
    "-- vocabulary size (X-Axis) versus F1 measure, Precision, Recall"
   ]
  },
  {
   "cell_type": "code",
   "execution_count": null,
   "metadata": {
    "collapsed": true
   },
   "outputs": [],
   "source": []
  },
  {
   "cell_type": "code",
   "execution_count": null,
   "metadata": {
    "collapsed": true
   },
   "outputs": [],
   "source": []
  },
  {
   "cell_type": "markdown",
   "metadata": {},
   "source": []
  },
  {
   "cell_type": "markdown",
   "metadata": {},
   "source": [
    "# HW5.10  - OPTIONAL \n",
    "\n",
    "There are many good ways to build our synonym detectors, so for this optional homework, \n",
    "measure co-occurrence by (left/right/all) consecutive words only, \n",
    "or make stripes according to word co-occurrences with the accompanying \n",
    "2-, 3-, or 4-grams (note here that your output will no longer \n",
    "be interpretable as a network) inside of the 5-grams."
   ]
  },
  {
   "cell_type": "code",
   "execution_count": null,
   "metadata": {
    "collapsed": true
   },
   "outputs": [],
   "source": []
  },
  {
   "cell_type": "markdown",
   "metadata": {},
   "source": [
    "# HW5.11 - OPTIONAL \n",
    "\n",
    "Once again, benchmark your top 10,000 associations (as in 5.7), this time for your\n",
    "results from 5.8. Has your detector improved?"
   ]
  },
  {
   "cell_type": "code",
   "execution_count": null,
   "metadata": {
    "collapsed": true
   },
   "outputs": [],
   "source": []
  }
 ],
 "metadata": {
  "anaconda-cloud": {},
  "kernelspec": {
   "display_name": "Python [conda env:py27]",
   "language": "python",
   "name": "conda-env-py27-py"
  },
  "language_info": {
   "codemirror_mode": {
    "name": "ipython",
    "version": 2
   },
   "file_extension": ".py",
   "mimetype": "text/x-python",
   "name": "python",
   "nbconvert_exporter": "python",
   "pygments_lexer": "ipython2",
   "version": "2.7.14"
  },
  "toc": {
   "nav_menu": {
    "height": "511px",
    "width": "251px"
   },
   "number_sections": true,
   "sideBar": true,
   "skip_h1_title": false,
   "title_cell": "Table of Contents",
   "title_sidebar": "Contents",
   "toc_cell": false,
   "toc_position": {
    "height": "1080px",
    "left": "0px",
    "right": "1300px",
    "top": "107px",
    "width": "318px"
   },
   "toc_section_display": "block",
   "toc_window_display": true
  }
 },
 "nbformat": 4,
 "nbformat_minor": 1
}
