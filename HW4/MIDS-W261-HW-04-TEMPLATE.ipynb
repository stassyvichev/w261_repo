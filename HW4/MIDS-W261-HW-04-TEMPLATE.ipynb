{
 "cells": [
  {
   "cell_type": "markdown",
   "metadata": {
    "toc": "true"
   },
   "source": [
    "<h1>Table of Contents<span class=\"tocSkip\"></span></h1>\n",
    "<div class=\"toc\"><ul class=\"toc-item\"><li><span><a href=\"#MIDS---w261-Machine-Learning-At-Scale\" data-toc-modified-id=\"MIDS---w261-Machine-Learning-At-Scale-1\">MIDS - w261 Machine Learning At Scale</a></span><ul class=\"toc-item\"><li><span><a href=\"#Assignment---HW4\" data-toc-modified-id=\"Assignment---HW4-1.1\">Assignment - HW4</a></span><ul class=\"toc-item\"><li><span><a href=\"#INSTRUCTIONS-for-SUBMISSION\" data-toc-modified-id=\"INSTRUCTIONS-for-SUBMISSION-1.1.1\">INSTRUCTIONS for SUBMISSION</a></span></li><li><span><a href=\"#CONFIGURATION\" data-toc-modified-id=\"CONFIGURATION-1.1.2\">CONFIGURATION</a></span></li><li><span><a href=\"#DATASETS\" data-toc-modified-id=\"DATASETS-1.1.3\">DATASETS</a></span></li></ul></li></ul></li><li><span><a href=\"#HW-Problems\" data-toc-modified-id=\"HW-Problems-2\">HW Problems</a></span><ul class=\"toc-item\"><li><span><a href=\"#HW4.0\" data-toc-modified-id=\"HW4.0-2.1\">HW4.0</a></span></li><li><span><a href=\"#HW4.1\" data-toc-modified-id=\"HW4.1-2.2\">HW4.1</a></span></li><li><span><a href=\"#HW4.2----Preprocess-log-file-data\" data-toc-modified-id=\"HW4.2----Preprocess-log-file-data-2.3\">HW4.2  - Preprocess log file data</a></span></li><li><span><a href=\"#HW4.3---Find-the-most-frequent-pages\" data-toc-modified-id=\"HW4.3---Find-the-most-frequent-pages-2.4\">HW4.3 - Find the most frequent pages</a></span></li><li><span><a href=\"#HW4.4----Find-the-most-frequent-visitor\" data-toc-modified-id=\"HW4.4----Find-the-most-frequent-visitor-2.5\">HW4.4  - Find the most frequent visitor</a></span><ul class=\"toc-item\"><li><span><a href=\"#Run-a-test-on-some-data-that-has-multiple-visits\" data-toc-modified-id=\"Run-a-test-on-some-data-that-has-multiple-visits-2.5.1\">Run a test on some data that has multiple visits</a></span></li></ul></li><li><span><a href=\"#HW4.5---Clustering-Tweet-Dataset\" data-toc-modified-id=\"HW4.5---Clustering-Tweet-Dataset-2.6\">HW4.5 - Clustering Tweet Dataset</a></span></li><li><span><a href=\"#K-Means\" data-toc-modified-id=\"K-Means-2.7\">K-Means</a></span></li><li><span><a href=\"#K-means-algorithm\" data-toc-modified-id=\"K-means-algorithm-2.8\">K-means algorithm</a></span></li><li><span><a href=\"#Calculating-purity\" data-toc-modified-id=\"Calculating-purity-2.9\">Calculating purity</a></span></li><li><span><a href=\"#HW4.6----(OPTIONAL)-Scaleable-K-MEANS++\" data-toc-modified-id=\"HW4.6----(OPTIONAL)-Scaleable-K-MEANS++-2.10\">HW4.6  - (OPTIONAL) Scaleable K-MEANS++</a></span><ul class=\"toc-item\"><li><span><a href=\"#4.6.1-(OPTIONAL)-Apply-K-MEANS||\" data-toc-modified-id=\"4.6.1-(OPTIONAL)-Apply-K-MEANS||-2.10.1\">4.6.1 (OPTIONAL) Apply K-MEANS||</a></span></li></ul></li><li><span><a href=\"#HW4.7---(OPTIONAL)-Canopy-Clustering\" data-toc-modified-id=\"HW4.7---(OPTIONAL)-Canopy-Clustering-2.11\">HW4.7 - (OPTIONAL) Canopy Clustering</a></span><ul class=\"toc-item\"><li><span><a href=\"#4.7.1-(OPTIONAL)-Apply-Canopy-Clustering-based-K-MEANS\" data-toc-modified-id=\"4.7.1-(OPTIONAL)-Apply-Canopy-Clustering-based-K-MEANS-2.11.1\">4.7.1 (OPTIONAL) Apply Canopy Clustering based K-MEANS</a></span></li></ul></li></ul></li></ul></div>"
   ]
  },
  {
   "cell_type": "markdown",
   "metadata": {},
   "source": [
    "# MIDS - w261 Machine Learning At Scale \n",
    "__Course Lead:__ Dr James G. Shanahan (__email__ Jimi via  James.Shanahan _AT_ gmail.com)\n",
    "\n",
    "## Assignment - HW4\n",
    "\n",
    "\n",
    "\n",
    "---\n",
    "__Name:__  *Your Name Goes Here*   \n",
    "__Class:__ MIDS w261 (Section *Your Section Goes Here*, e.g., Fall 2016 Group 1)     \n",
    "__Email:__  *Your UC Berkeley Email Goes Here*@iSchool.Berkeley.edu     \n",
    "__StudentId__  123457    __End of StudentId__     \n",
    "\n",
    "__NOTE:__ please replace `1234567` with your student id above      \n",
    "\n",
    "### INSTRUCTIONS for SUBMISSION\n",
    "\n",
    "This homework can be completed locally on your computer. __Please submit your notebook to your classroom github repository 24 hours prior to the next live session.__ \n",
    "\n",
    "### CONFIGURATION\n",
    "Before starting your homework run the following cells to confirm your setup."
   ]
  },
  {
   "cell_type": "code",
   "execution_count": 1,
   "metadata": {
    "collapsed": true
   },
   "outputs": [],
   "source": [
    "# general imports\n",
    "import os\n",
    "import re\n",
    "import sys\n",
    "import numpy as np\n",
    "import matplotlib.pyplot as plt\n",
    "\n",
    "# tell matplotlib not to open a new window\n",
    "%matplotlib inline\n",
    "\n",
    "# automatically reload modules \n",
    "%reload_ext autoreload\n",
    "%autoreload 2"
   ]
  },
  {
   "cell_type": "code",
   "execution_count": 2,
   "metadata": {
    "collapsed": true
   },
   "outputs": [
    {
     "name": "stdout",
     "output_type": "stream",
     "text": [
      "Python Version: 2.7.14 \n",
      "HDFS filesystem running at: \n",
      "\t hdfs://quickstart.cloudera:8020\n"
     ]
    }
   ],
   "source": [
    "# print some configuration details for future replicability.\n",
    "print 'Python Version: %s' % (sys.version.split('|')[0])\n",
    "hdfs_conf = !hdfs getconf -confKey fs.defaultFS ### UNCOMMENT ON DOCKER\n",
    "#hdfs_conf = !hdfs getconf -confKey fs.default.name ### UNCOMMENT ON ALTISCALE\n",
    "print 'HDFS filesystem running at: \\n\\t %s' % (hdfs_conf[0])"
   ]
  },
  {
   "cell_type": "code",
   "execution_count": 3,
   "metadata": {
    "collapsed": true
   },
   "outputs": [],
   "source": [
    "# create an HDFS directory for this assignment\n",
    "!hdfs dfs -mkdir hw4"
   ]
  },
  {
   "cell_type": "markdown",
   "metadata": {},
   "source": [
    "__[OPTIONAL]:__ Save yourself some typing by defining global variables for paths we'll reuse frequently."
   ]
  },
  {
   "cell_type": "code",
   "execution_count": 5,
   "metadata": {
    "collapsed": true
   },
   "outputs": [],
   "source": [
    "HDFS_DIR = \"/user/root/hw4\" # eg. /user/root/hw3 \n",
    "HOME_DIR = os.getcwd()"
   ]
  },
  {
   "cell_type": "markdown",
   "metadata": {},
   "source": [
    "__[OPTIONAL]:__ Fix chrome formatting. _The cell below implements a quick hack based on [this stackoverflow thread](http://stackoverflow.com/questions/34277967/chrome-rendering-mathjax-equations-with-a-trailing-vertical-line) to fix [this known issue](https://github.com/mathjax/MathJax/issues/1300) with Mathjax formatting in Chrome (a rounding issue adds a border to the right of mathjax markup)._"
   ]
  },
  {
   "cell_type": "code",
   "execution_count": 4,
   "metadata": {
    "collapsed": true
   },
   "outputs": [
    {
     "data": {
      "application/javascript": [
       "$('.math>span').css(\"border-left-color\",\"transparent\")"
      ],
      "text/plain": [
       "<IPython.core.display.Javascript object>"
      ]
     },
     "metadata": {},
     "output_type": "display_data"
    }
   ],
   "source": [
    "%%javascript\n",
    "$('.math>span').css(\"border-left-color\",\"transparent\")"
   ]
  },
  {
   "cell_type": "markdown",
   "metadata": {},
   "source": [
    "### DATASETS\n",
    "For this homework we be using two different datasets:\n",
    "* __Microsoft log files data__ (available from the [UC Irvine KDD Archive](https://kdd.ics.uci.edu/databases/msweb/msweb.html) at [this url](http://archive.ics.uci.edu/ml/machine-learning-databases/anonymous/) - _This data, referenced in the asynch lectures, captures which areas (Vroots) of www.microsoft.com each user visited in a one-week timeframe in Feburary 1998. We'll perform preprocessing on the data in HW 4.2 and find the most frequently visited pages and visitors in HW 4.3 and 4.4_\n",
    "* __Tweets data__ (from [this publication](https://arxiv.org/abs/1505.04342) in the Journal of Computation Science and available at [this url] - _This data, comes from a corpus of Tweets that were hand coded to reflect whether the tweet was written by a human,cyborg,robot or spammer. The data are in two files: the primary [topUsers file](https://www.dropbox.com/s/6129k2urvbvobkr/topUsers_Apr-Jul_2014_1000-words.txt?dl=0), and an auxilary [word summaries](https://www.dropbox.com/s/w4oklbsoqefou3b/topUsers_Apr-Jul_2014_1000-words_summaries.txt?dl=0) file (more details below). We'll perform a KMeans clustering analysis on this data in HW 4.5._\n",
    "\n",
    "Follow the directions below to load each of these datasets. You may want to familiarize yourself with their contents before proceeding to the homework questions.\n",
    "\n",
    "__`anonymous-msweb.data`__  \n",
    "Notes on the data format:\n",
    "> The data is in an ASCII-based sparse-data format called \"DST\". Each line of the data file starts with a letter which tells the line's type. The three line types of interest are:\n",
    "\n",
    ">__Attribute lines__:\n",
    "e.g. `A,1277,1,\"NetShow for PowerPoint\",\"/stream\"`\n",
    "Where:\n",
    "  'A' marks this as an attribute line, \n",
    "  '1277' is the attribute ID number for an area of the website (called a Vroot),\n",
    "  '1' may be ignored, \n",
    "  '\"NetShow for PowerPoint\"' is the title of the Vroot, \n",
    "  '\"/stream\"' is the URL relative to \"http://www.microsoft.com\"\n",
    "\n",
    ">__Case and Vote Lines__:\n",
    "For each user, there is a case line followed by zero or more vote lines.\n",
    "For example:\n",
    "  C,\"10164\",10164\n",
    "  V,1123,1\n",
    "  V,1009,1\n",
    "  V,1052,1\n",
    "Where:\n",
    "  'C' marks this as a case line, \n",
    "  '10164' is the case ID number of a user, \n",
    "  'V' marks the vote lines for this case, \n",
    "  '1123', 1009', 1052' are the attributes ID's of Vroots that a user visited. \n",
    "  '1' may be ignored.\n",
    "  \n",
    "Run the cells below to download and examine the file."
   ]
  },
  {
   "cell_type": "code",
   "execution_count": 6,
   "metadata": {
    "collapsed": true
   },
   "outputs": [
    {
     "name": "stdout",
     "output_type": "stream",
     "text": [
      "  % Total    % Received % Xferd  Average Speed   Time    Time     Time  Current\n",
      "                                 Dload  Upload   Total   Spent    Left  Speed\n",
      "100 1389k  100 1389k    0     0   347k      0  0:00:04  0:00:04 --:--:--  303k\n"
     ]
    }
   ],
   "source": [
    "# download the data\n",
    "!curl -L http://archive.ics.uci.edu/ml/machine-learning-databases/anonymous/anonymous-msweb.data -o anonymous-msweb.data"
   ]
  },
  {
   "cell_type": "code",
   "execution_count": 7,
   "metadata": {
    "collapsed": true
   },
   "outputs": [
    {
     "name": "stdout",
     "output_type": "stream",
     "text": [
      "I,4,\"www.microsoft.com\",\"created by getlog.pl\"\n",
      "T,1,\"VRoot\",0,0,\"VRoot\"\n",
      "N,0,\"0\"\n",
      "N,1,\"1\"\n",
      "T,2,\"Hide1\",0,0,\"Hide\"\n"
     ]
    }
   ],
   "source": [
    "# take a look\n",
    "!head -n 5 anonymous-msweb.data"
   ]
  },
  {
   "cell_type": "markdown",
   "metadata": {},
   "source": [
    "__`topUsers_Apr-Jul_2014_1000-words.txt`__  \n",
    "Notes about the data coding:  \n",
    "> This file consists of word frequency distributions for 1,000 twitter users. These Twitter users use language in very different ways,and were classified by hand according to the criteria:  \n",
    "\n",
    ">__0__: Human, _where only basic human-human communication is observed._  \n",
    "\n",
    ">__1__: Cyborg, _where language is primarily borrowed from other sources. (e.g., jobs listings, classifieds postings, advertisements, etc...)._  \n",
    "\n",
    "> __2__: Robot, _where language is formulaically derived from unrelated sources(e.g., weather/seismology, police/fire event logs, etc...)._  \n",
    "\n",
    ">__3__: Spammer, _where language is replicated to high multiplicity\n",
    "(e.g., celebrity obsessions, personal promotion, etc...)_\n",
    "\n",
    "Data format:\n",
    "> `USERID,CODE,TOTAL,WORD1_COUNT,WORD2_COUNT,...`  \n",
    "where   \n",
    "USERID = unique user identifier  \n",
    "CODE = 0/1/2/3 class code  \n",
    "TOTAL = sum of the word counts  \n",
    "\n",
    "Run the cells below to load and preview the data. "
   ]
  },
  {
   "cell_type": "code",
   "execution_count": 8,
   "metadata": {
    "collapsed": true
   },
   "outputs": [
    {
     "name": "stdout",
     "output_type": "stream",
     "text": [
      "  % Total    % Received % Xferd  Average Speed   Time    Time     Time  Current\n",
      "                                 Dload  Upload   Total   Spent    Left  Speed\n",
      "  0     0    0     0    0     0      0      0 --:--:-- --:--:-- --:--:--     0\n",
      "100 2493k  100 2493k    0     0   623k      0  0:00:04  0:00:04 --:--:--  691k\n"
     ]
    }
   ],
   "source": [
    "# download the main Twitter data\n",
    "!curl -L -O https://www.dropbox.com/s/6129k2urvbvobkr/topUsers_Apr-Jul_2014_1000-words.txt"
   ]
  },
  {
   "cell_type": "code",
   "execution_count": 9,
   "metadata": {
    "collapsed": true
   },
   "outputs": [
    {
     "name": "stdout",
     "output_type": "stream",
     "text": [
      "1180025371,2,1724608,75552,827,57603,7128,4282,45674,66811,27632,0,8,23783,2,42853,0,62335,22349,21428,19801,4125,0,0,2,1585,21118,1,1,1,16079,19676,1587,0,19695,0,0,0,0,0,0,2,20216,60,4278,0,16,46,788,2,0,0,3,0,3,0,0,111122,0,12,0,0,0,2,739,0,176,0,0,0,38,626,0,0,0,6,1584,0,19672,510,0,0,0,12,0,1675,0,0,0,0,5,2,0,0,1,9,0,0,31,0,0,2,0,0,0,0,4,64,476,0,1,0,617,0,0,15672,70315,70317,0,2997,0,0,0,665,0,0,12,0,0,0,3135,1,2,39,0,0,0,0,23,0,1,0,179,667,0,0,32,0,0,224,5,0,0,66,0,3,450,96,0,0,0,0,8,15,15,0,115,0,0,19672,0,46,15,0,0,2,0,51,0,0,0,298,0,0,5,2,165,3,0,0,46497,0,19675,0,4,0,42036,0,0,40035,84,0,103,0,2,12,1924,7,0,0,0,0,3,0,42629,197,15490,0,0,45,0,0,0,0,0,0,301,0,0,0,0,134,3300,0,422,386,0,19826,2,0,0,46,9,354,175,71,165,20338,0,109,0,1,44376,0,1370,0,0,0,0,0,0,0,0,0,0,2,0,0,4462,0,0,5,0,202,436,408,0,61,0,0,39888,74,0,19672,0,0,0,0,0,19672,19672,2,2,349,0,13,0,30,0,0,8,0,40,0,23,0,12,337,0,12,19952,26,0,0,15489,0,0,0,0,39,0,0,26,0,0,19,144,161,0,0,0,5558,0,23,1561,52,0,0,0,9,0,0,35319,0,0,68,0,0,0,0,0,0,0,8,0,0,222,463,60,0,77,0,20219,0,1,4581,0,0,0,297,0,0,0,0,0,68,0,17942,0,38,226,0,0,0,0,9,19,0,0,0,0,0,217,12,261,0,25052,263,0,0,0,1,0,59,27,14,133,76,234,24966,0,0,1,2,11,44,3,0,0,43,0,3,3,2,0,0,0,2,0,0,7,47,0,0,0,0,2,0,0,1,0,0,0,0,175,0,0,5,1,0,0,0,7,0,0,104,53,0,0,16,13,26,0,11,0,6,77,0,17,0,360,0,0,1693,0,147,0,10,0,0,0,61,1,0,0,113,0,0,1,0,305,14,23,0,42,0,0,0,1,14,2391,6,0,21,0,0,911,3,0,0,0,0,0,0,0,0,39,0,25088,0,0,0,34,134,59,35,45,1584,40,2,8,0,249,0,72,0,0,0,0,0,2,0,0,0,0,0,25,0,13,0,0,4223,30,0,0,0,0,0,0,184,1,5558,0,0,24,0,61,7,38,0,309,0,25,0,0,0,0,0,0,0,0,0,3,258,0,0,0,0,0,710,0,62,0,21,0,0,0,0,820,0,0,19672,0,1,0,0,8,74,0,0,0,87,15390,12,20216,1,0,2,10810,11,0,0,47,0,0,797,95,19826,143,0,2,772,0,0,0,117,90,0,56,1,0,0,86,382,807,0,0,0,77,0,97,0,169,282,0,0,0,0,0,0,14,1,0,0,0,0,202,825,1,10,0,803,98,0,167,113,0,263,18506,0,18521,0,243,4,88,0,46,0,0,0,0,15,0,718,1,0,0,0,0,261,0,0,0,454,3028,0,0,0,48,0,0,0,48,0,112,0,0,140,0,1,0,0,0,0,0,2701,0,0,13,0,0,178,741,0,0,1,0,0,0,0,0,352,5,0,0,42,0,0,94,0,0,0,9,0,0,0,0,2,15489,0,11,225,0,5,0,811,0,5,0,43,0,16,277,26,0,11,0,0,0,0,0,0,0,0,0,0,0,0,15489,0,0,0,0,0,0,0,0,0,0,0,95,61,9,0,70,0,28,0,0,135,0,0,0,31,12,0,0,0,0,1,0,0,1,202,0,0,0,39,0,0,125,0,0,48,0,0,24,0,13,272,48,22,0,74,0,0,0,23,0,5,0,2,21,0,0,0,69,12512,0,0,38,0,0,16,0,0,0,0,0,7,2,1,0,17,1,0,0,0,0,18,14,0,0,0,90,0,0,0,128,45,0,1,0,0,0,2,8,0,30,11,15,28,0,0,0,0,0,0,0,0,0,113,0,0,0,50,0,0,0,5,0,118,0,6,85,56,15,12,0,0,0,176,10,57,12,289,0,27,0,0,0,0,0,23,89,0,221,0,16,0,0,0,0,0,14,33,126,11,32,1,137,13,0,0,0,0,0,0,0,0,0,1,0,98,0,0,0,45,0,215,0,0,0,0,71,76,0,0,0,15,108,0,0,176,0,0,0,0,121,0,0,0,0\n"
     ]
    }
   ],
   "source": [
    "# take a look at the first row\n",
    "!head -n 1 topUsers_Apr-Jul_2014_1000-words.txt"
   ]
  },
  {
   "cell_type": "markdown",
   "metadata": {},
   "source": [
    "__`topUsers_Apr-Jul_2014_1000-words_summaries.txt`__\n",
    "This file contains 5 special word-frequency distributions.\n",
    "Notes about the format of this auxillary information:  \n",
    "> Row 1: Words  \n",
    "Row 2: 1000-user-wide aggregated distribution across all classes  \n",
    "Row 3-6 class-aggregated distributions for clases 0-3  "
   ]
  },
  {
   "cell_type": "code",
   "execution_count": 10,
   "metadata": {
    "collapsed": true
   },
   "outputs": [
    {
     "name": "stdout",
     "output_type": "stream",
     "text": [
      "  % Total    % Received % Xferd  Average Speed   Time    Time     Time  Current\n",
      "                                 Dload  Upload   Total   Spent    Left  Speed\n",
      "  0     0    0     0    0     0      0      0 --:--:-- --:--:-- --:--:--     0\n",
      "100 31952  100 31952    0     0  31952      0  0:00:01  0:00:01 --:--:-- 46173\n"
     ]
    }
   ],
   "source": [
    "# download auxillary file\n",
    "!curl -L -O https://www.dropbox.com/s/w4oklbsoqefou3b/topUsers_Apr-Jul_2014_1000-words_summaries.txt"
   ]
  },
  {
   "cell_type": "code",
   "execution_count": 11,
   "metadata": {
    "collapsed": true
   },
   "outputs": [
    {
     "name": "stdout",
     "output_type": "stream",
     "text": [
      "\"ID\",\"CODE\",\"TOTAL_WORDS\",\"http\",\"I\",\"the\",\"to\",\"you\"\n",
      "ALL_CODES,NA,61819567,2488393,1989622,1329663,1259298,1181631\n",
      "CODE,0,35130977,449927,1668694,914155,957278,916553\n",
      "CODE,1,11423284,1239122,28497,117272,104367,10209\n",
      "CODE,2,9373246,613561,42672,191091,60120,31309\n",
      "CODE,3,5892060,185783,249759,107145,137533,223560\n"
     ]
    }
   ],
   "source": [
    "# take a look at the first few columns\n",
    "!cut -d ',' -f 1-8 topUsers_Apr-Jul_2014_1000-words_summaries.txt"
   ]
  },
  {
   "cell_type": "markdown",
   "metadata": {},
   "source": [
    "# HW Problems\n"
   ]
  },
  {
   "cell_type": "markdown",
   "metadata": {},
   "source": [
    "## HW4.0 \n",
    "\n",
    "What is MrJob? How is it different to Hadoop MapReduce? \n",
    "What are the mapper_init, mapper_final(), combiner_final(), reducer_final() methods? When are they called?"
   ]
  },
  {
   "cell_type": "markdown",
   "metadata": {},
   "source": [
    "MRJob is a framework for running MR tasks in python, which allows us to specify our MR steps in a Python class. mapper_init is the method used to initiate the mapper, which we can use to set up any variables to be uesd through the mapper, mapper_final() is the method called at the end of the mapper run. "
   ]
  },
  {
   "cell_type": "markdown",
   "metadata": {},
   "source": [
    "## HW4.1\n",
    "- What is serialization in the context of MrJob or Hadoop? \n",
    "\n",
    "This is the process of taking structured object data and turning it into a byte stream for transmission over a network or for writing to persistent storage. The text processing in MRJob is slow because it doesn't support automatic serialization, meaning that we need to perform our own encoding to binary."
   ]
  },
  {
   "cell_type": "markdown",
   "metadata": {},
   "source": []
  },
  {
   "cell_type": "markdown",
   "metadata": {},
   "source": [
    "- When it used in these frameworks? \n",
    "\n",
    "When communicating between nodes and when writing to persistent storage. "
   ]
  },
  {
   "cell_type": "markdown",
   "metadata": {},
   "source": []
  },
  {
   "cell_type": "markdown",
   "metadata": {},
   "source": [
    "- What is the default serialization mode for input and outputs for MrJob? \n",
    "\n",
    "Raw text."
   ]
  },
  {
   "cell_type": "markdown",
   "metadata": {},
   "source": []
  },
  {
   "cell_type": "markdown",
   "metadata": {},
   "source": [
    "## HW4.2  - Preprocess log file data\n",
    "\n",
    "For this homework question we'll work with the Microsoft log files we downloaded to `anonymous-msweb.data`. Your job is to  transform/preprocess the data on a single node (i.e., not on a cluster of nodes) from the following format:\n",
    "\n",
    ">C,\"10001\",10001   #Visitor id 10001  \n",
    "V,1000,1          #Visit by Visitor 10001 to page id 1000  \n",
    "V,1001,1          #Visit by Visitor 10001 to page id 1001  \n",
    "V,1002,1          #Visit by Visitor 10001 to page id 1002  \n",
    "C,\"10002\",10002   #Visitor id 10001  \n",
    "V  \n",
    "Note: #denotes comments  \n",
    "\n",
    "\n",
    "to the following format (V, PageID, 1, C, Visitor):\n",
    "\n",
    ">V,1000,1,C, 10001  \n",
    "V,1001,1,C, 10001  \n",
    "V,1002,1,C, 10001  \n",
    "\n",
    "Write the python code to accomplish this transformation. Save your output to a file called `anonymous-msweb-preprocessed.data`"
   ]
  },
  {
   "cell_type": "code",
   "execution_count": 19,
   "metadata": {
    "collapsed": true
   },
   "outputs": [
    {
     "name": "stdout",
     "output_type": "stream",
     "text": [
      "Overwriting preprocess-msweb.py\n"
     ]
    }
   ],
   "source": [
    "%%writefile preprocess-msweb.py\n",
    "#START STUDENT CODE42\n",
    "\n",
    "import sys\n",
    "curr_visitor = None\n",
    "file_name = sys.argv[1]\n",
    "with open(file_name) as file:\n",
    "    for line in file.readlines():\n",
    "        fields = line.split(',')\n",
    "        if fields[0] ==\"C\":\n",
    "            curr_visitor = fields[1].replace(\"\\\"\",\"\")\n",
    "        elif fields[0] == \"V\":\n",
    "            print \"V,%s,1,C,%s\" % (fields[1],curr_visitor)\n",
    "#END STUDENT CODE42"
   ]
  },
  {
   "cell_type": "code",
   "execution_count": 21,
   "metadata": {},
   "outputs": [],
   "source": [
    "!python preprocess-msweb.py anonymous-msweb.test > anonymous-msweb-preprocessed.test"
   ]
  },
  {
   "cell_type": "code",
   "execution_count": 22,
   "metadata": {},
   "outputs": [],
   "source": [
    "!python preprocess-msweb.py anonymous-msweb.data > anonymous-msweb-preprocessed.data"
   ]
  },
  {
   "cell_type": "code",
   "execution_count": 23,
   "metadata": {},
   "outputs": [
    {
     "name": "stdout",
     "output_type": "stream",
     "text": [
      "V,1000,1,C,10001\n",
      "V,1001,1,C,10001\n",
      "V,1002,1,C,10001\n",
      "V,1001,1,C,10002\n",
      "V,1003,1,C,10002\n",
      "V,1001,1,C,10003\n",
      "V,1003,1,C,10003\n",
      "V,1004,1,C,10003\n",
      "V,1005,1,C,10004\n",
      "V,1006,1,C,10005\n",
      "98654 anonymous-msweb-preprocessed.data\n"
     ]
    }
   ],
   "source": [
    "# Take a look at your results\n",
    "!head -10 anonymous-msweb-preprocessed.data\n",
    "!wc -l anonymous-msweb-preprocessed.data"
   ]
  },
  {
   "cell_type": "code",
   "execution_count": 371,
   "metadata": {},
   "outputs": [
    {
     "name": "stdout",
     "output_type": "stream",
     "text": [
      "Overwriting preprocess-att-msweb.py\n"
     ]
    }
   ],
   "source": [
    "%%writefile preprocess-att-msweb.py\n",
    "#START STUDENT CODE42\n",
    "\n",
    "import sys\n",
    "curr_visitor = None\n",
    "file_name = sys.argv[1]\n",
    "with open(file_name) as file:\n",
    "    for line in file.readlines():\n",
    "        fields = line.split(',')\n",
    "        if fields[0] ==\"A\":\n",
    "            print \"%s,%s\" % (fields[1],fields[4].replace(\"\\\"\",\"\").replace(\"\\n\",\"\"))\n",
    "#END STUDENT CODE42"
   ]
  },
  {
   "cell_type": "code",
   "execution_count": 372,
   "metadata": {},
   "outputs": [
    {
     "name": "stdout",
     "output_type": "stream",
     "text": [
      "1287,/autoroute\n",
      "1288,/library\n",
      "1289,/masterchef\n",
      "1297,/centroam\n",
      "1215,/developer\n"
     ]
    }
   ],
   "source": [
    "!python preprocess-att-msweb.py anonymous-msweb.data > anonymous-attr-preprocessed.data\n",
    "!head -n 5 anonymous-attr-preprocessed.data"
   ]
  },
  {
   "cell_type": "code",
   "execution_count": 362,
   "metadata": {},
   "outputs": [
    {
     "name": "stdout",
     "output_type": "stream",
     "text": [
      "Writing test43.data\n"
     ]
    }
   ],
   "source": [
    "%%writefile test43.data\n",
    "V,1000,1,C,10001\n",
    "V,1001,1,C,10001\n",
    "V,1002,1,C,10001\n",
    "V,1001,1,C,10002\n",
    "V,1003,1,C,10002\n",
    "V,1001,1,C,10003\n",
    "V,1003,1,C,10003\n",
    "V,1004,1,C,10003\n",
    "V,1005,1,C,10004\n",
    "V,1006,1,C,10005"
   ]
  },
  {
   "cell_type": "code",
   "execution_count": 75,
   "metadata": {},
   "outputs": [
    {
     "name": "stdout",
     "output_type": "stream",
     "text": [
      "Overwriting firstmr.py\n"
     ]
    }
   ],
   "source": [
    "%%writefile firstmr.py\n",
    "from mrjob.job import MRJob\n",
    "import re\n",
    "\n",
    "WORD_RE = re.compile(r\"[\\w']+\")\n",
    "\n",
    "\n",
    "class MRWordFrequencyCount(MRJob):\n",
    "\n",
    "    def mapper(self, _, line):\n",
    "        yield \"chars\", len(line)\n",
    "        yield \"words\", len(line.split())\n",
    "        yield \"lines\", 1\n",
    "    \n",
    "    def reducer_init(self):\n",
    "        print \"reducer init\"\n",
    "    def reducer(self, key, values):\n",
    "        yield key, sum(values)\n",
    "\n",
    "\n",
    "if __name__ == '__main__':\n",
    "    MRWordFrequencyCount.run()"
   ]
  },
  {
   "cell_type": "code",
   "execution_count": 379,
   "metadata": {},
   "outputs": [
    {
     "name": "stdout",
     "output_type": "stream",
     "text": [
      "No configs found; falling back on auto-configuration\n",
      "Creating temp directory /tmp/firstmr.root.20180203.185622.715808\n",
      "Running step 1 of 1...\n",
      "reducer init\n",
      "reducer init\n",
      "Streaming final output from /tmp/firstmr.root.20180203.185622.715808/output...\n",
      "\"chars\"\t80\n",
      "\"lines\"\t12\n",
      "\"words\"\t46\n",
      "Removing temp directory /tmp/firstmr.root.20180203.185622.715808...\n"
     ]
    }
   ],
   "source": [
    "!python firstmr.py sometext.txt sometext.txt"
   ]
  },
  {
   "cell_type": "code",
   "execution_count": 356,
   "metadata": {},
   "outputs": [
    {
     "name": "stdout",
     "output_type": "stream",
     "text": [
      "Overwriting secondmr.py\n"
     ]
    }
   ],
   "source": [
    "%%writefile secondmr.py\n",
    "from mrjob.job import MRJob\n",
    "from mrjob.step import MRStep\n",
    "import re\n",
    "import logging\n",
    "\n",
    "WORD_RE = re.compile(r\"[\\w']+\")\n",
    "\n",
    "class MRWordFreqCount(MRJob):\n",
    "    \n",
    "    SORT_VALUES = True\n",
    "\n",
    "    JOBCONF = {\"mapreduce.job.reduces\": \"1\"}\n",
    "    def __init__(self, *args, **kwargs):\n",
    "        super(MRWordFreqCount, self).__init__(*args,**kwargs)\n",
    "        \n",
    "    def init_get_words(self):\n",
    "        self.words = {}\n",
    "\n",
    "    def get_words(self, _, line):\n",
    "        for word in WORD_RE.findall(line):\n",
    "            word = word.lower()\n",
    "            self.words.setdefault(word, 0)\n",
    "            self.words[word] = self.words[word] + 1\n",
    "\n",
    "    def final_get_words(self):\n",
    "        for word, val in self.words.iteritems():\n",
    "            yield word, val\n",
    "    \n",
    "    def sum_words(self, word, counts):\n",
    "        yield word, sum(counts)\n",
    "    \n",
    "    def map_max_words(self, word, count):\n",
    "        logging.warning(word)\n",
    "        logging.warning(count)\n",
    "        yield word, int(count)\n",
    "        \n",
    "    def reduce_max_words(self, word, count):\n",
    "        yield word, sum(count)\n",
    "        \n",
    "    def steps(self):\n",
    "        return [MRStep(mapper_init=self.init_get_words,\n",
    "                       mapper=self.get_words,\n",
    "                       mapper_final=self.final_get_words,\n",
    "                       reducer=self.sum_words),\n",
    "               MRStep(mapper = self.map_max_words,\n",
    "                      reducer = self.reduce_max_words,\n",
    "                        jobconf={\n",
    "                        \"mapreduce.job.reduces\": \"1\",\n",
    "                        \"stream.num.map.output.key.fields\": 2,\n",
    "                        \"mapreduce.job.output.key.comparator.class\" : \"org.apache.hadoop.mapred.lib.KeyFieldBasedComparator\",\n",
    "                        \"mapreduce.partition.keycomparator.options\":\"-k2,2nr\",\n",
    "                        \"mapred.num.key.comparator.options\":\"-k2,2nr\",\n",
    "                        \"mapred.text.key.comparator.options\": \"-k2,2nr\",\n",
    "                        \"SORT_VALUES\":True\n",
    "                   })\n",
    "               ]\n",
    "\n",
    "if __name__ == '__main__':\n",
    "    MRWordFreqCount.run()"
   ]
  },
  {
   "cell_type": "code",
   "execution_count": 354,
   "metadata": {},
   "outputs": [
    {
     "name": "stdout",
     "output_type": "stream",
     "text": [
      "Overwriting thirdmr.py\n"
     ]
    }
   ],
   "source": [
    "%%writefile thirdmr.py\n",
    "from mrjob.job import MRJob\n",
    "from mrjob.step import MRStep\n",
    "import re\n",
    "\n",
    "WORD_RE = re.compile(r\"[\\w']+\")\n",
    "\n",
    "class MRWordFreqCount(MRJob):\n",
    "    \n",
    "    SORT_VALUES = True\n",
    "\n",
    "    JOBCONF = {\"mapreduce.job.reduces\": \"1\"}\n",
    "    def __init__(self, *args, **kwargs):\n",
    "        super(MRWordFreqCount, self).__init__(*args,**kwargs)\n",
    "    \n",
    "    def map_max_words(self, _, line):\n",
    "        word, count = line.split()\n",
    "        yield word, int(count)\n",
    "        \n",
    "    def reduce_max_words(self, word, count):\n",
    "        yield word, count.next()\n",
    "        \n",
    "    def steps(self):\n",
    "        return [MRStep(mapper = self.map_max_words,\n",
    "                      reducer = self.reduce_max_words,\n",
    "                        jobconf={\n",
    "                        \"mapreduce.job.reduces\": \"1\",\n",
    "                        \"stream.num.map.output.key.fields\": 2,\n",
    "                         \"mapreduce.job.output.key.comparator.class\" : \"org.apache.hadoop.mapred.lib.KeyFieldBasedComparator\",\n",
    "                        \"mapreduce.partition.keycomparator.options\":\"-k2,2nr\",\n",
    "                        \"mapred.num.key.comparator.options\":\"-k2,2nr\",\n",
    "#                       \"mapred.text.key.comparator.options\": \"-k2,2nr\",\n",
    "                        \"SORT_VALUES\":True\n",
    "                   })\n",
    "               ]\n",
    "\n",
    "if __name__ == '__main__':\n",
    "    MRWordFreqCount.run()"
   ]
  },
  {
   "cell_type": "code",
   "execution_count": 240,
   "metadata": {},
   "outputs": [
    {
     "name": "stdout",
     "output_type": "stream",
     "text": [
      "Overwriting sometext.txt\n"
     ]
    }
   ],
   "source": [
    "%%writefile sometext.txt\n",
    "z z z\n",
    "a a b a\n",
    "b c c d\n",
    "z c a z\n",
    "z z z z\n",
    "c c z z"
   ]
  },
  {
   "cell_type": "code",
   "execution_count": 328,
   "metadata": {},
   "outputs": [
    {
     "name": "stdout",
     "output_type": "stream",
     "text": [
      "Overwriting res.txt\n"
     ]
    }
   ],
   "source": [
    "%%writefile res.txt\n",
    "a 4\n",
    "b 5\n",
    "c 1\n",
    "z 11\n",
    "d 8"
   ]
  },
  {
   "cell_type": "code",
   "execution_count": 357,
   "metadata": {},
   "outputs": [
    {
     "name": "stdout",
     "output_type": "stream",
     "text": [
      "No configs found; falling back on auto-configuration\n",
      "Looking for hadoop binary in $PATH...\n",
      "Found hadoop binary: /usr/bin/hadoop\n",
      "Using Hadoop version 2.6.0\n",
      "Looking for Hadoop streaming jar in /home/hadoop/contrib...\n",
      "Looking for Hadoop streaming jar in /usr/lib/hadoop-mapreduce...\n",
      "Found Hadoop streaming jar: /usr/lib/hadoop-mapreduce/hadoop-streaming.jar\n",
      "Creating temp directory /tmp/secondmr.root.20180203.172738.102438\n",
      "Copying local files to hdfs:///user/root/tmp/mrjob/secondmr.root.20180203.172738.102438/files/...\n",
      "Running step 1 of 2...\n",
      "  packageJobJar: [] [/usr/jars/hadoop-streaming-2.6.0-cdh5.7.0.jar] /tmp/streamjob2197694743868221798.jar tmpDir=null\n",
      "  Connecting to ResourceManager at /0.0.0.0:8032\n",
      "  Connecting to ResourceManager at /0.0.0.0:8032\n",
      "  Total input paths to process : 1\n",
      "  number of splits:2\n",
      "  Submitting tokens for job: job_1517652631830_0017\n",
      "  Submitted application application_1517652631830_0017\n",
      "  The url to track the job: http://quickstart.cloudera:8088/proxy/application_1517652631830_0017/\n",
      "  Running job: job_1517652631830_0017\n",
      "  Job job_1517652631830_0017 running in uber mode : false\n",
      "   map 0% reduce 0%\n",
      "   map 50% reduce 0%\n",
      "   map 100% reduce 0%\n",
      "   map 100% reduce 100%\n",
      "  Job job_1517652631830_0017 completed successfully\n",
      "  Output directory: hdfs:///user/root/tmp/mrjob/secondmr.root.20180203.172738.102438/step-output/0000\n",
      "Counters: 49\n",
      "\tFile Input Format Counters \n",
      "\t\tBytes Read=68\n",
      "\tFile Output Format Counters \n",
      "\t\tBytes Written=31\n",
      "\tFile System Counters\n",
      "\t\tFILE: Number of bytes read=69\n",
      "\t\tFILE: Number of bytes written=355148\n",
      "\t\tFILE: Number of large read operations=0\n",
      "\t\tFILE: Number of read operations=0\n",
      "\t\tFILE: Number of write operations=0\n",
      "\t\tHDFS: Number of bytes read=386\n",
      "\t\tHDFS: Number of bytes written=31\n",
      "\t\tHDFS: Number of large read operations=0\n",
      "\t\tHDFS: Number of read operations=9\n",
      "\t\tHDFS: Number of write operations=2\n",
      "\tJob Counters \n",
      "\t\tData-local map tasks=2\n",
      "\t\tLaunched map tasks=2\n",
      "\t\tLaunched reduce tasks=1\n",
      "\t\tTotal megabyte-seconds taken by all map tasks=6735872\n",
      "\t\tTotal megabyte-seconds taken by all reduce tasks=2841600\n",
      "\t\tTotal time spent by all map tasks (ms)=6578\n",
      "\t\tTotal time spent by all maps in occupied slots (ms)=6578\n",
      "\t\tTotal time spent by all reduce tasks (ms)=2775\n",
      "\t\tTotal time spent by all reduces in occupied slots (ms)=2775\n",
      "\t\tTotal vcore-seconds taken by all map tasks=6578\n",
      "\t\tTotal vcore-seconds taken by all reduce tasks=2775\n",
      "\tMap-Reduce Framework\n",
      "\t\tCPU time spent (ms)=1400\n",
      "\t\tCombine input records=0\n",
      "\t\tCombine output records=0\n",
      "\t\tFailed Shuffles=0\n",
      "\t\tGC time elapsed (ms)=104\n",
      "\t\tInput split bytes=318\n",
      "\t\tMap input records=6\n",
      "\t\tMap output bytes=49\n",
      "\t\tMap output materialized bytes=75\n",
      "\t\tMap output records=7\n",
      "\t\tMerged Map outputs=2\n",
      "\t\tPhysical memory (bytes) snapshot=743841792\n",
      "\t\tReduce input groups=7\n",
      "\t\tReduce input records=7\n",
      "\t\tReduce output records=5\n",
      "\t\tReduce shuffle bytes=75\n",
      "\t\tShuffled Maps =2\n",
      "\t\tSpilled Records=14\n",
      "\t\tTotal committed heap usage (bytes)=552599552\n",
      "\t\tVirtual memory (bytes) snapshot=4084174848\n",
      "\tShuffle Errors\n",
      "\t\tBAD_ID=0\n",
      "\t\tCONNECTION=0\n",
      "\t\tIO_ERROR=0\n",
      "\t\tWRONG_LENGTH=0\n",
      "\t\tWRONG_MAP=0\n",
      "\t\tWRONG_REDUCE=0\n",
      "Running step 2 of 2...\n",
      "  mapred.text.key.comparator.options is deprecated. Instead, use mapreduce.partition.keycomparator.options\n",
      "  packageJobJar: [] [/usr/jars/hadoop-streaming-2.6.0-cdh5.7.0.jar] /tmp/streamjob8591660935218899365.jar tmpDir=null\n",
      "  Connecting to ResourceManager at /0.0.0.0:8032\n",
      "  Connecting to ResourceManager at /0.0.0.0:8032\n",
      "  Total input paths to process : 1\n",
      "  number of splits:2\n",
      "  Submitting tokens for job: job_1517652631830_0018\n",
      "  Submitted application application_1517652631830_0018\n",
      "  The url to track the job: http://quickstart.cloudera:8088/proxy/application_1517652631830_0018/\n",
      "  Running job: job_1517652631830_0018\n",
      "  Job job_1517652631830_0018 running in uber mode : false\n",
      "   map 0% reduce 0%\n",
      "   map 50% reduce 0%\n",
      "   map 100% reduce 0%\n",
      "   map 100% reduce 100%\n",
      "  Job job_1517652631830_0018 completed successfully\n",
      "  Output directory: hdfs:///user/root/tmp/mrjob/secondmr.root.20180203.172738.102438/output\n",
      "Counters: 49\n",
      "\tFile Input Format Counters \n",
      "\t\tBytes Read=47\n",
      "\tFile Output Format Counters \n",
      "\t\tBytes Written=31\n",
      "\tFile System Counters\n",
      "\t\tFILE: Number of bytes read=52\n",
      "\t\tFILE: Number of bytes written=356974\n",
      "\t\tFILE: Number of large read operations=0\n",
      "\t\tFILE: Number of read operations=0\n",
      "\t\tFILE: Number of write operations=0\n",
      "\t\tHDFS: Number of bytes read=383\n",
      "\t\tHDFS: Number of bytes written=31\n",
      "\t\tHDFS: Number of large read operations=0\n",
      "\t\tHDFS: Number of read operations=9\n",
      "\t\tHDFS: Number of write operations=2\n",
      "\tJob Counters \n",
      "\t\tData-local map tasks=2\n",
      "\t\tLaunched map tasks=2\n",
      "\t\tLaunched reduce tasks=1\n",
      "\t\tTotal megabyte-seconds taken by all map tasks=7870464\n",
      "\t\tTotal megabyte-seconds taken by all reduce tasks=2886656\n",
      "\t\tTotal time spent by all map tasks (ms)=7686\n",
      "\t\tTotal time spent by all maps in occupied slots (ms)=7686\n",
      "\t\tTotal time spent by all reduce tasks (ms)=2819\n",
      "\t\tTotal time spent by all reduces in occupied slots (ms)=2819\n",
      "\t\tTotal vcore-seconds taken by all map tasks=7686\n",
      "\t\tTotal vcore-seconds taken by all reduce tasks=2819\n",
      "\tMap-Reduce Framework\n",
      "\t\tCPU time spent (ms)=1380\n",
      "\t\tCombine input records=0\n",
      "\t\tCombine output records=0\n",
      "\t\tFailed Shuffles=0\n",
      "\t\tGC time elapsed (ms)=74\n",
      "\t\tInput split bytes=336\n",
      "\t\tMap input records=5\n",
      "\t\tMap output bytes=36\n",
      "\t\tMap output materialized bytes=58\n",
      "\t\tMap output records=5\n",
      "\t\tMerged Map outputs=2\n",
      "\t\tPhysical memory (bytes) snapshot=760791040\n",
      "\t\tReduce input groups=5\n",
      "\t\tReduce input records=5\n",
      "\t\tReduce output records=5\n",
      "\t\tReduce shuffle bytes=58\n",
      "\t\tShuffled Maps =2\n",
      "\t\tSpilled Records=10\n",
      "\t\tTotal committed heap usage (bytes)=619184128\n",
      "\t\tVirtual memory (bytes) snapshot=4088250368\n",
      "\tShuffle Errors\n",
      "\t\tBAD_ID=0\n",
      "\t\tCONNECTION=0\n",
      "\t\tIO_ERROR=0\n",
      "\t\tWRONG_LENGTH=0\n",
      "\t\tWRONG_MAP=0\n",
      "\t\tWRONG_REDUCE=0\n",
      "Streaming final output from hdfs:///user/root/tmp/mrjob/secondmr.root.20180203.172738.102438/output...\n",
      "\"z\"\t11\n",
      "\"c\"\t5\n",
      "\"a\"\t4\n",
      "\"b\"\t2\n",
      "\"d\"\t1\n",
      "Removing HDFS temp directory hdfs:///user/root/tmp/mrjob/secondmr.root.20180203.172738.102438...\n",
      "Removing temp directory /tmp/secondmr.root.20180203.172738.102438...\n"
     ]
    }
   ],
   "source": [
    "!python secondmr.py sometext.txt -r hadoop"
   ]
  },
  {
   "cell_type": "code",
   "execution_count": 338,
   "metadata": {},
   "outputs": [
    {
     "name": "stdout",
     "output_type": "stream",
     "text": [
      "No configs found; falling back on auto-configuration\n",
      "Looking for hadoop binary in $PATH...\n",
      "Found hadoop binary: /usr/bin/hadoop\n",
      "Using Hadoop version 2.6.0\n",
      "Looking for Hadoop streaming jar in /home/hadoop/contrib...\n",
      "Looking for Hadoop streaming jar in /usr/lib/hadoop-mapreduce...\n",
      "Found Hadoop streaming jar: /usr/lib/hadoop-mapreduce/hadoop-streaming.jar\n",
      "Creating temp directory /tmp/thirdmr.root.20180203.171336.602585\n",
      "Copying local files to hdfs:///user/root/tmp/mrjob/thirdmr.root.20180203.171336.602585/files/...\n",
      "Running step 1 of 1...\n",
      "  packageJobJar: [] [/usr/jars/hadoop-streaming-2.6.0-cdh5.7.0.jar] /tmp/streamjob7849667324169741335.jar tmpDir=null\n",
      "  Connecting to ResourceManager at /0.0.0.0:8032\n",
      "  Connecting to ResourceManager at /0.0.0.0:8032\n",
      "  Total input paths to process : 1\n",
      "  number of splits:2\n",
      "  Submitting tokens for job: job_1517652631830_0008\n",
      "  Submitted application application_1517652631830_0008\n",
      "  The url to track the job: http://quickstart.cloudera:8088/proxy/application_1517652631830_0008/\n",
      "  Running job: job_1517652631830_0008\n",
      "  Job job_1517652631830_0008 running in uber mode : false\n",
      "   map 0% reduce 0%\n",
      "   map 50% reduce 0%\n",
      "   map 100% reduce 0%\n",
      "   map 100% reduce 100%\n",
      "  Job job_1517652631830_0008 completed successfully\n",
      "  Output directory: hdfs:///user/root/tmp/mrjob/thirdmr.root.20180203.171336.602585/output\n",
      "Counters: 49\n",
      "\tFile Input Format Counters \n",
      "\t\tBytes Read=30\n",
      "\tFile Output Format Counters \n",
      "\t\tBytes Written=12\n",
      "\tFile System Counters\n",
      "\t\tFILE: Number of bytes read=72\n",
      "\t\tFILE: Number of bytes written=356960\n",
      "\t\tFILE: Number of large read operations=0\n",
      "\t\tFILE: Number of read operations=0\n",
      "\t\tFILE: Number of write operations=0\n",
      "\t\tHDFS: Number of bytes read=336\n",
      "\t\tHDFS: Number of bytes written=12\n",
      "\t\tHDFS: Number of large read operations=0\n",
      "\t\tHDFS: Number of read operations=9\n",
      "\t\tHDFS: Number of write operations=2\n",
      "\tJob Counters \n",
      "\t\tData-local map tasks=2\n",
      "\t\tLaunched map tasks=2\n",
      "\t\tLaunched reduce tasks=1\n",
      "\t\tTotal megabyte-seconds taken by all map tasks=7597056\n",
      "\t\tTotal megabyte-seconds taken by all reduce tasks=3845120\n",
      "\t\tTotal time spent by all map tasks (ms)=7419\n",
      "\t\tTotal time spent by all maps in occupied slots (ms)=7419\n",
      "\t\tTotal time spent by all reduce tasks (ms)=3755\n",
      "\t\tTotal time spent by all reduces in occupied slots (ms)=3755\n",
      "\t\tTotal vcore-seconds taken by all map tasks=7419\n",
      "\t\tTotal vcore-seconds taken by all reduce tasks=3755\n",
      "\tMap-Reduce Framework\n",
      "\t\tCPU time spent (ms)=1620\n",
      "\t\tCombine input records=0\n",
      "\t\tCombine output records=0\n",
      "\t\tFailed Shuffles=0\n",
      "\t\tGC time elapsed (ms)=117\n",
      "\t\tInput split bytes=306\n",
      "\t\tMap input records=5\n",
      "\t\tMap output bytes=56\n",
      "\t\tMap output materialized bytes=78\n",
      "\t\tMap output records=5\n",
      "\t\tMerged Map outputs=2\n",
      "\t\tPhysical memory (bytes) snapshot=760156160\n",
      "\t\tReduce input groups=1\n",
      "\t\tReduce input records=5\n",
      "\t\tReduce output records=1\n",
      "\t\tReduce shuffle bytes=78\n",
      "\t\tShuffled Maps =2\n",
      "\t\tSpilled Records=10\n",
      "\t\tTotal committed heap usage (bytes)=552075264\n",
      "\t\tVirtual memory (bytes) snapshot=4100775936\n",
      "\tShuffle Errors\n",
      "\t\tBAD_ID=0\n",
      "\t\tCONNECTION=0\n",
      "\t\tIO_ERROR=0\n",
      "\t\tWRONG_LENGTH=0\n",
      "\t\tWRONG_MAP=0\n",
      "\t\tWRONG_REDUCE=0\n",
      "Streaming final output from hdfs:///user/root/tmp/mrjob/thirdmr.root.20180203.171336.602585/output...\n",
      "null\t\"z 11\"\n",
      "Removing HDFS temp directory hdfs:///user/root/tmp/mrjob/thirdmr.root.20180203.171336.602585...\n",
      "Removing temp directory /tmp/thirdmr.root.20180203.171336.602585...\n"
     ]
    }
   ],
   "source": [
    "!python thirdmr.py res.txt -r hadoop"
   ]
  },
  {
   "cell_type": "markdown",
   "metadata": {},
   "source": [
    "## HW4.3 - Find the most frequent pages\n",
    "\n",
    "Find the 5 most frequently visited pages using MrJob from the output of 4.2 (i.e., transfromed log file)."
   ]
  },
  {
   "cell_type": "code",
   "execution_count": 415,
   "metadata": {},
   "outputs": [
    {
     "name": "stdout",
     "output_type": "stream",
     "text": [
      "Overwriting MostFrequentVisits.py\n"
     ]
    }
   ],
   "source": [
    "%%writefile MostFrequentVisits.py\n",
    "#!/usr/bin/env python\n",
    "#START STUDENT CODE43\n",
    "from mrjob.job import MRJob\n",
    "from mrjob.step import MRStep\n",
    "\n",
    "class MRPageCount(MRJob):\n",
    "    \n",
    "    SORT_VALUES = True\n",
    "    JOBCONF = {\"mapreduce.job.reduces\": \"1\"}\n",
    "    def __init__(self, *args, **kwargs):\n",
    "        super(MRPageCount, self).__init__(*args,**kwargs)\n",
    "        \n",
    "    def mapper_pages(self, _, line):\n",
    "        fields = line.split(\",\")\n",
    "        yield fields[1], int(fields[2])\n",
    "\n",
    "    def reducer_pages(self, page, visits):\n",
    "#         yield None, (sum(visits), page)\n",
    "        yield page, sum(visits)\n",
    "    \n",
    "#     def reducer_find_most_freq_pages(self, _,page_freq_pairs):\n",
    "#         for pair in sorted(page_freq_pairs, reverse=True)[:5]:\n",
    "#             yield pair\n",
    "    \n",
    "    def mapper_most(self, page, count):\n",
    "        yield page, int(count)\n",
    "        \n",
    "    def reducer_most(self, page, count):\n",
    "        yield page, sum(count)\n",
    "            \n",
    "    def steps(self):\n",
    "        return [\n",
    "            MRStep(mapper = self.mapper_pages,\n",
    "                  reducer = self.reducer_pages),\n",
    "            MRStep(\n",
    "                mapper = self.mapper_most,\n",
    "                reducer = self.reducer_most, \n",
    "                jobconf={\n",
    "                        \"mapreduce.job.reduces\": \"1\",\n",
    "                        \"stream.num.map.output.key.fields\": 2,\n",
    "                        \"mapreduce.job.output.key.comparator.class\" : \"org.apache.hadoop.mapred.lib.KeyFieldBasedComparator\",\n",
    "                        #\"mapreduce.partition.keycomparator.options\":\"-k2,2nr\",\n",
    "                        #\"mapred.num.key.comparator.options\":\"-k2,2nr\",\n",
    "                        \"mapred.text.key.comparator.options\": \"-k2,2nr\",\n",
    "                        \"SORT_VALUES\":True\n",
    "                   }\n",
    "            )\n",
    "        ]\n",
    "if __name__ == \"__main__\":\n",
    "    MRPageCount.run()\n",
    "#END STUDENT CODE43"
   ]
  },
  {
   "cell_type": "code",
   "execution_count": 58,
   "metadata": {
    "collapsed": true
   },
   "outputs": [],
   "source": [
    "!chmod +x MostFrequentVisits.py"
   ]
  },
  {
   "cell_type": "code",
   "execution_count": 361,
   "metadata": {},
   "outputs": [
    {
     "name": "stdout",
     "output_type": "stream",
     "text": [
      "(u'1008', 10836)\n",
      "(u'1034', 9383)\n",
      "(u'1004', 8463)\n",
      "(u'1018', 5330)\n",
      "(u'1017', 5108)\n"
     ]
    }
   ],
   "source": [
    "from MostFrequentVisits import MRPageCount\n",
    "mr_job = MRPageCount(args=[\"anonymous-msweb-preprocessed.data\",\"-r\", \"hadoop\"])\n",
    "count = 0\n",
    "with mr_job.make_runner() as runner:\n",
    "    runner.run()\n",
    "    for line in runner.stream_output():\n",
    "        print mr_job.parse_output_line(line)\n",
    "        count  +=1\n",
    "        if count >=5:\n",
    "            break"
   ]
  },
  {
   "cell_type": "code",
   "execution_count": 416,
   "metadata": {},
   "outputs": [
    {
     "name": "stdout",
     "output_type": "stream",
     "text": [
      "No configs found; falling back on auto-configuration\n",
      "Looking for hadoop binary in $PATH...\n",
      "Found hadoop binary: /usr/bin/hadoop\n",
      "Using Hadoop version 2.6.0\n",
      "Looking for Hadoop streaming jar in /home/hadoop/contrib...\n",
      "Looking for Hadoop streaming jar in /usr/lib/hadoop-mapreduce...\n",
      "Found Hadoop streaming jar: /usr/lib/hadoop-mapreduce/hadoop-streaming.jar\n",
      "Creating temp directory /tmp/MostFrequentVisits.root.20180203.194413.518476\n",
      "Copying local files to hdfs:///user/root/tmp/mrjob/MostFrequentVisits.root.20180203.194413.518476/files/...\n",
      "Running step 1 of 2...\n",
      "  packageJobJar: [] [/usr/jars/hadoop-streaming-2.6.0-cdh5.7.0.jar] /tmp/streamjob7877103873928319542.jar tmpDir=null\n",
      "  Connecting to ResourceManager at /0.0.0.0:8032\n",
      "  Connecting to ResourceManager at /0.0.0.0:8032\n",
      "  Total input paths to process : 1\n",
      "  number of splits:2\n",
      "  Submitting tokens for job: job_1517652631830_0031\n",
      "  Submitted application application_1517652631830_0031\n",
      "  The url to track the job: http://quickstart.cloudera:8088/proxy/application_1517652631830_0031/\n",
      "  Running job: job_1517652631830_0031\n",
      "  Job job_1517652631830_0031 running in uber mode : false\n",
      "   map 0% reduce 0%\n",
      "   map 50% reduce 0%\n",
      "   map 100% reduce 0%\n",
      "   map 100% reduce 100%\n",
      "  Job job_1517652631830_0031 completed successfully\n",
      "  Output directory: hdfs:///user/root/tmp/mrjob/MostFrequentVisits.root.20180203.194413.518476/step-output/0000\n",
      "Counters: 49\n",
      "\tFile Input Format Counters \n",
      "\t\tBytes Read=1681214\n",
      "\tFile Output Format Counters \n",
      "\t\tBytes Written=2903\n",
      "\tFile System Counters\n",
      "\t\tFILE: Number of bytes read=1183854\n",
      "\t\tFILE: Number of bytes written=2723231\n",
      "\t\tFILE: Number of large read operations=0\n",
      "\t\tFILE: Number of read operations=0\n",
      "\t\tFILE: Number of write operations=0\n",
      "\t\tHDFS: Number of bytes read=1681596\n",
      "\t\tHDFS: Number of bytes written=2903\n",
      "\t\tHDFS: Number of large read operations=0\n",
      "\t\tHDFS: Number of read operations=9\n",
      "\t\tHDFS: Number of write operations=2\n",
      "\tJob Counters \n",
      "\t\tData-local map tasks=2\n",
      "\t\tLaunched map tasks=2\n",
      "\t\tLaunched reduce tasks=1\n",
      "\t\tTotal megabyte-seconds taken by all map tasks=9966592\n",
      "\t\tTotal megabyte-seconds taken by all reduce tasks=4592640\n",
      "\t\tTotal time spent by all map tasks (ms)=9733\n",
      "\t\tTotal time spent by all maps in occupied slots (ms)=9733\n",
      "\t\tTotal time spent by all reduce tasks (ms)=4485\n",
      "\t\tTotal time spent by all reduces in occupied slots (ms)=4485\n",
      "\t\tTotal vcore-seconds taken by all map tasks=9733\n",
      "\t\tTotal vcore-seconds taken by all reduce tasks=4485\n",
      "\tMap-Reduce Framework\n",
      "\t\tCPU time spent (ms)=3410\n",
      "\t\tCombine input records=0\n",
      "\t\tCombine output records=0\n",
      "\t\tFailed Shuffles=0\n",
      "\t\tGC time elapsed (ms)=90\n",
      "\t\tInput split bytes=382\n",
      "\t\tMap input records=98654\n",
      "\t\tMap output bytes=986540\n",
      "\t\tMap output materialized bytes=1183860\n",
      "\t\tMap output records=98654\n",
      "\t\tMerged Map outputs=2\n",
      "\t\tPhysical memory (bytes) snapshot=771309568\n",
      "\t\tReduce input groups=285\n",
      "\t\tReduce input records=98654\n",
      "\t\tReduce output records=285\n",
      "\t\tReduce shuffle bytes=1183860\n",
      "\t\tShuffled Maps =2\n",
      "\t\tSpilled Records=197308\n",
      "\t\tTotal committed heap usage (bytes)=685244416\n",
      "\t\tVirtual memory (bytes) snapshot=4105240576\n",
      "\tShuffle Errors\n",
      "\t\tBAD_ID=0\n",
      "\t\tCONNECTION=0\n",
      "\t\tIO_ERROR=0\n",
      "\t\tWRONG_LENGTH=0\n",
      "\t\tWRONG_MAP=0\n",
      "\t\tWRONG_REDUCE=0\n",
      "Detected hadoop configuration property names that do not match hadoop version 2.6.0:\n",
      "The have been translated as follows\n",
      " mapred.text.key.comparator.options: mapreduce.partition.keycomparator.options\n",
      "Running step 2 of 2...\n",
      "  mapred.text.key.comparator.options is deprecated. Instead, use mapreduce.partition.keycomparator.options\n",
      "  packageJobJar: [] [/usr/jars/hadoop-streaming-2.6.0-cdh5.7.0.jar] /tmp/streamjob2101642672992434153.jar tmpDir=null\n",
      "  Connecting to ResourceManager at /0.0.0.0:8032\n",
      "  Connecting to ResourceManager at /0.0.0.0:8032\n",
      "  Total input paths to process : 1\n",
      "  number of splits:2\n",
      "  Submitting tokens for job: job_1517652631830_0032\n",
      "  Submitted application application_1517652631830_0032\n",
      "  The url to track the job: http://quickstart.cloudera:8088/proxy/application_1517652631830_0032/\n",
      "  Running job: job_1517652631830_0032\n",
      "  Job job_1517652631830_0032 running in uber mode : false\n",
      "   map 0% reduce 0%\n",
      "   map 50% reduce 0%\n",
      "   map 100% reduce 0%\n",
      "   map 100% reduce 100%\n",
      "  Job job_1517652631830_0032 completed successfully\n",
      "  Output directory: hdfs:///user/root/tmp/mrjob/MostFrequentVisits.root.20180203.194413.518476/output\n",
      "Counters: 49\n",
      "\tFile Input Format Counters \n",
      "\t\tBytes Read=4355\n",
      "\tFile Output Format Counters \n",
      "\t\tBytes Written=2903\n",
      "\tFile System Counters\n",
      "\t\tFILE: Number of bytes read=3764\n",
      "\t\tFILE: Number of bytes written=364404\n",
      "\t\tFILE: Number of large read operations=0\n",
      "\t\tFILE: Number of read operations=0\n",
      "\t\tFILE: Number of write operations=0\n",
      "\t\tHDFS: Number of bytes read=4711\n",
      "\t\tHDFS: Number of bytes written=2903\n",
      "\t\tHDFS: Number of large read operations=0\n",
      "\t\tHDFS: Number of read operations=9\n",
      "\t\tHDFS: Number of write operations=2\n",
      "\tJob Counters \n",
      "\t\tData-local map tasks=2\n",
      "\t\tLaunched map tasks=2\n",
      "\t\tLaunched reduce tasks=1\n",
      "\t\tTotal megabyte-seconds taken by all map tasks=8003584\n",
      "\t\tTotal megabyte-seconds taken by all reduce tasks=4013056\n",
      "\t\tTotal time spent by all map tasks (ms)=7816\n",
      "\t\tTotal time spent by all maps in occupied slots (ms)=7816\n",
      "\t\tTotal time spent by all reduce tasks (ms)=3919\n",
      "\t\tTotal time spent by all reduces in occupied slots (ms)=3919\n",
      "\t\tTotal vcore-seconds taken by all map tasks=7816\n",
      "\t\tTotal vcore-seconds taken by all reduce tasks=3919\n",
      "\tMap-Reduce Framework\n",
      "\t\tCPU time spent (ms)=1570\n",
      "\t\tCombine input records=0\n",
      "\t\tCombine output records=0\n",
      "\t\tFailed Shuffles=0\n",
      "\t\tGC time elapsed (ms)=46\n",
      "\t\tInput split bytes=356\n",
      "\t\tMap input records=285\n",
      "\t\tMap output bytes=3188\n",
      "\t\tMap output materialized bytes=3770\n",
      "\t\tMap output records=285\n",
      "\t\tMerged Map outputs=2\n",
      "\t\tPhysical memory (bytes) snapshot=735031296\n",
      "\t\tReduce input groups=285\n",
      "\t\tReduce input records=285\n",
      "\t\tReduce output records=285\n",
      "\t\tReduce shuffle bytes=3770\n",
      "\t\tShuffled Maps =2\n",
      "\t\tSpilled Records=570\n",
      "\t\tTotal committed heap usage (bytes)=548405248\n",
      "\t\tVirtual memory (bytes) snapshot=4110348288\n",
      "\tShuffle Errors\n",
      "\t\tBAD_ID=0\n",
      "\t\tCONNECTION=0\n",
      "\t\tIO_ERROR=0\n",
      "\t\tWRONG_LENGTH=0\n",
      "\t\tWRONG_MAP=0\n",
      "\t\tWRONG_REDUCE=0\n",
      "Streaming final output from hdfs:///user/root/tmp/mrjob/MostFrequentVisits.root.20180203.194413.518476/output...\n",
      "\"1008\"\t10836\n",
      "\"1034\"\t9383\n",
      "\"1004\"\t8463\n",
      "\"1018\"\t5330\n",
      "\"1017\"\t5108\n",
      "\"1009\"\t4628\n",
      "\"1001\"\t4451\n",
      "\"1026\"\t3220\n",
      "\"1003\"\t2968\n",
      "\"1025\"\t2123\n",
      "\"1035\"\t1791\n",
      "\"1040\"\t1506\n",
      "\"1041\"\t1500\n",
      "\"1032\"\t1446\n",
      "\"1037\"\t1160\n",
      "\"1030\"\t1115\n",
      "\"1038\"\t1110\n",
      "\"1020\"\t1087\n",
      "\"1000\"\t912\n",
      "\"1007\"\t865\n",
      "\"1052\"\t842\n",
      "\"1036\"\t759\n",
      "\"1002\"\t749\n",
      "\"1014\"\t728\n",
      "\"1295\"\t716\n",
      "\"1010\"\t698\n",
      "\"1058\"\t672\n",
      "\"1053\"\t670\n",
      "\"1046\"\t636\n",
      "\"1070\"\t602\n",
      "\"1074\"\t584\n",
      "\"1031\"\t574\n",
      "\"1067\"\t548\n",
      "\"1024\"\t521\n",
      "\"1027\"\t507\n",
      "\"1045\"\t474\n",
      "\"1078\"\t462\n",
      "\"1076\"\t444\n",
      "\"1075\"\t396\n",
      "\"1130\"\t395\n",
      "\"1060\"\t391\n",
      "\"1021\"\t380\n",
      "\"1123\"\t372\n",
      "\"1119\"\t365\n",
      "\"1039\"\t345\n",
      "\"1049\"\t343\n",
      "\"1054\"\t338\n",
      "\"1022\"\t325\n",
      "\"1064\"\t324\n",
      "\"1065\"\t323\n",
      "\"1100\"\t291\n",
      "\"1016\"\t287\n",
      "\"1042\"\t281\n",
      "\"1056\"\t276\n",
      "\"1061\"\t269\n",
      "\"1055\"\t264\n",
      "\"1059\"\t258\n",
      "\"1082\"\t241\n",
      "\"1088\"\t237\n",
      "\"1069\"\t227\n",
      "\"1043\"\t224\n",
      "\"1124\"\t222\n",
      "\"1081\"\t215\n",
      "\"1096\"\t214\n",
      "\"1048\"\t210\n",
      "\"1073\"\t204\n",
      "\"1125\"\t199\n",
      "\"1068\"\t198\n",
      "\"1057\"\t195\n",
      "\"1023\"\t191\n",
      "\"1087\"\t189\n",
      "\"1071\"\t187\n",
      "\"1084\"\t186\n",
      "\"1105\"\t183\n",
      "\"1113\"\t181\n",
      "\"1136\"\t181\n",
      "\"1011\"\t179\n",
      "\"1118\"\t172\n",
      "\"1044\"\t168\n",
      "\"1183\"\t167\n",
      "\"1134\"\t162\n",
      "\"1089\"\t157\n",
      "\"1077\"\t155\n",
      "\"1131\"\t148\n",
      "\"1062\"\t141\n",
      "\"1079\"\t136\n",
      "\"1006\"\t135\n",
      "\"1127\"\t132\n",
      "\"1029\"\t132\n",
      "\"1112\"\t128\n",
      "\"1072\"\t128\n",
      "\"1157\"\t124\n",
      "\"1137\"\t123\n",
      "\"1080\"\t121\n",
      "\"1099\"\t120\n",
      "\"1102\"\t118\n",
      "\"1140\"\t118\n",
      "\"1135\"\t115\n",
      "\"1063\"\t113\n",
      "\"1019\"\t111\n",
      "\"1090\"\t107\n",
      "\"1050\"\t106\n",
      "\"1083\"\t105\n",
      "\"1095\"\t102\n",
      "\"1098\"\t98\n",
      "\"1092\"\t97\n",
      "\"1148\"\t96\n",
      "\"1188\"\t94\n",
      "\"1150\"\t93\n",
      "\"1168\"\t93\n",
      "\"1028\"\t93\n",
      "\"1158\"\t90\n",
      "\"1147\"\t86\n",
      "\"1051\"\t86\n",
      "\"1085\"\t86\n",
      "\"1066\"\t82\n",
      "\"1015\"\t79\n",
      "\"1146\"\t79\n",
      "\"1156\"\t75\n",
      "\"1167\"\t72\n",
      "\"1091\"\t69\n",
      "\"1133\"\t69\n",
      "\"1154\"\t67\n",
      "\"1093\"\t65\n",
      "\"1121\"\t63\n",
      "\"1176\"\t63\n",
      "\"1013\"\t61\n",
      "\"1143\"\t60\n",
      "\"1109\"\t59\n",
      "\"1184\"\t57\n",
      "\"1097\"\t56\n",
      "\"1203\"\t55\n",
      "\"1155\"\t52\n",
      "\"1152\"\t52\n",
      "\"1189\"\t51\n",
      "\"1164\"\t49\n",
      "\"1190\"\t48\n",
      "\"1162\"\t48\n",
      "\"1114\"\t48\n",
      "\"1108\"\t47\n",
      "\"1171\"\t47\n",
      "\"1186\"\t46\n",
      "\"1110\"\t46\n",
      "\"1172\"\t45\n",
      "\"1215\"\t45\n",
      "\"1169\"\t44\n",
      "\"1012\"\t44\n",
      "\"1177\"\t43\n",
      "\"1005\"\t42\n",
      "\"1159\"\t41\n",
      "\"1165\"\t38\n",
      "\"1187\"\t38\n",
      "\"1201\"\t38\n",
      "\"1141\"\t36\n",
      "\"1160\"\t36\n",
      "\"1144\"\t36\n",
      "\"1111\"\t36\n",
      "\"1103\"\t36\n",
      "\"1104\"\t35\n",
      "\"1208\"\t34\n",
      "\"1166\"\t33\n",
      "\"1138\"\t33\n",
      "\"1197\"\t32\n",
      "\"1227\"\t32\n",
      "\"1116\"\t31\n",
      "\"1204\"\t30\n",
      "\"1216\"\t30\n",
      "\"1223\"\t29\n",
      "\"1206\"\t29\n",
      "\"1126\"\t27\n",
      "\"1033\"\t26\n",
      "\"1194\"\t26\n",
      "\"1163\"\t25\n",
      "\"1212\"\t25\n",
      "\"1193\"\t25\n",
      "\"1185\"\t24\n",
      "\"1205\"\t24\n",
      "\"1220\"\t23\n",
      "\"1132\"\t23\n",
      "\"1086\"\t22\n",
      "\"1151\"\t21\n",
      "\"1230\"\t21\n",
      "\"1145\"\t20\n",
      "\"1231\"\t19\n",
      "\"1142\"\t19\n",
      "\"1218\"\t18\n",
      "\"1198\"\t18\n",
      "\"1200\"\t18\n",
      "\"1139\"\t18\n",
      "\"1211\"\t16\n",
      "\"1170\"\t16\n",
      "\"1224\"\t16\n",
      "\"1161\"\t16\n",
      "\"1106\"\t16\n",
      "\"1115\"\t15\n",
      "\"1195\"\t15\n",
      "\"1226\"\t14\n",
      "\"1101\"\t14\n",
      "\"1094\"\t14\n",
      "\"1122\"\t13\n",
      "\"1250\"\t13\n",
      "\"1228\"\t13\n",
      "\"1217\"\t13\n",
      "\"1181\"\t12\n",
      "\"1207\"\t12\n",
      "\"1149\"\t12\n",
      "\"1179\"\t11\n",
      "\"1251\"\t11\n",
      "\"1222\"\t11\n",
      "\"1240\"\t11\n",
      "\"1107\"\t11\n",
      "\"1236\"\t10\n",
      "\"1174\"\t10\n",
      "\"1221\"\t10\n",
      "\"1246\"\t10\n",
      "\"1209\"\t9\n",
      "\"1241\"\t9\n",
      "\"1235\"\t9\n",
      "\"1180\"\t9\n",
      "\"1117\"\t9\n",
      "\"1234\"\t8\n",
      "\"1153\"\t8\n",
      "\"1182\"\t7\n",
      "\"1225\"\t7\n",
      "\"1192\"\t7\n",
      "\"1129\"\t7\n",
      "\"1175\"\t6\n",
      "\"1210\"\t5\n",
      "\"1267\"\t5\n",
      "\"1257\"\t5\n",
      "\"1253\"\t5\n",
      "\"1232\"\t4\n",
      "\"1242\"\t4\n",
      "\"1191\"\t4\n",
      "\"1202\"\t4\n",
      "\"1238\"\t4\n",
      "\"1244\"\t4\n",
      "\"1264\"\t4\n",
      "\"1262\"\t4\n",
      "\"1243\"\t4\n",
      "\"1219\"\t4\n",
      "\"1229\"\t4\n",
      "\"1255\"\t3\n",
      "\"1213\"\t3\n",
      "\"1214\"\t3\n",
      "\"1173\"\t3\n",
      "\"1237\"\t3\n",
      "\"1239\"\t3\n",
      "\"1247\"\t3\n",
      "\"1252\"\t3\n",
      "\"1256\"\t3\n",
      "\"1258\"\t3\n",
      "\"1265\"\t3\n",
      "\"1276\"\t3\n",
      "\"1249\"\t2\n",
      "\"1278\"\t2\n",
      "\"1280\"\t2\n",
      "\"1261\"\t2\n",
      "\"1263\"\t2\n",
      "\"1266\"\t2\n",
      "\"1269\"\t2\n",
      "\"1178\"\t2\n",
      "\"1245\"\t2\n",
      "\"1282\"\t2\n",
      "\"1199\"\t1\n",
      "\"1233\"\t1\n",
      "\"1196\"\t1\n",
      "\"1284\"\t1\n",
      "\"1248\"\t1\n",
      "\"1268\"\t1\n",
      "\"1279\"\t1\n",
      "\"1270\"\t1\n",
      "\"1271\"\t1\n",
      "\"1272\"\t1\n",
      "\"1273\"\t1\n",
      "\"1254\"\t1\n",
      "\"1274\"\t1\n",
      "\"1277\"\t1\n",
      "\"1283\"\t1\n",
      "\"1281\"\t1\n",
      "\"1259\"\t1\n",
      "\"1260\"\t1\n",
      "\"1275\"\t1\n",
      "\"1128\"\t1\n",
      "\"1120\"\t1\n",
      "Removing HDFS temp directory hdfs:///user/root/tmp/mrjob/MostFrequentVisits.root.20180203.194413.518476...\n",
      "Removing temp directory /tmp/MostFrequentVisits.root.20180203.194413.518476...\n"
     ]
    }
   ],
   "source": [
    "!python MostFrequentVisits.py anonymous-msweb-preprocessed.data -r hadoop"
   ]
  },
  {
   "cell_type": "markdown",
   "metadata": {},
   "source": [
    "## HW4.4  - Find the most frequent visitor\n",
    "\n",
    "Find the most frequent visitor of each page using MrJob and the output of 4.2  (i.e., transfromed log file). In this output please include the webpage URL, webpageID and Visitor ID.  You may get a weird result.  HINT: The maximum visits by any visitor to any given webpage is 1."
   ]
  },
  {
   "cell_type": "code",
   "execution_count": 2,
   "metadata": {
    "collapsed": true
   },
   "outputs": [],
   "source": [
    "from IPython.display import Image, HTML"
   ]
  },
  {
   "cell_type": "code",
   "execution_count": 3,
   "metadata": {},
   "outputs": [
    {
     "data": {
      "image/png": "[encoded data removed]",
      "text/plain": [
       "<IPython.core.display.Image object>"
      ]
     },
     "execution_count": 3,
     "metadata": {},
     "output_type": "execute_result"
    }
   ],
   "source": [
    "Image('ms-data.png')"
   ]
  },
  {
   "cell_type": "code",
   "execution_count": 420,
   "metadata": {},
   "outputs": [
    {
     "name": "stdout",
     "output_type": "stream",
     "text": [
      "Overwriting mostFrequentVisitors.py\n"
     ]
    }
   ],
   "source": [
    "%%writefile mostFrequentVisitors.py\n",
    "#!/usr/bin/env python\n",
    "#START STUDENT CODE44\n",
    "from mrjob.job import MRJob\n",
    "from mrjob.step import MRStep\n",
    "import logging\n",
    "class MRVisitorCount(MRJob):\n",
    "    \n",
    "    SORT_VALUES = True\n",
    "    JOBCONF = {\"mapreduce.job.reduces\": \"1\"}\n",
    "    def __init__(self, *args, **kwargs):\n",
    "        super(MRVisitorCount, self).__init__(*args,**kwargs)\n",
    "        \n",
    "    def mapper_visits(self, _, line):\n",
    "        fields = line.split(\",\")\n",
    "#         if len(fields) == 5:\n",
    "#             yield (fields[1],\"C\",fields[4]),1\n",
    "#         elif len(fields) == 2:\n",
    "#             yield (fields[0],\"A\",fields[1]),1\n",
    "        if len(fields) == 5:\n",
    "            yield int(fields[1]), (\"C\",fields[4], 1)\n",
    "        elif len(fields) == 2:\n",
    "            yield int(fields[0]), (\"A\",fields[1], 1)\n",
    "\n",
    "    def reducer_visits(self, page_id, visits):\n",
    "        visits = list(visits)\n",
    "        logging.warning(page_id)\n",
    "        logging.warning(visits)\n",
    "        page_path = None\n",
    "        curr_cust = None\n",
    "        curr_count = 0\n",
    "        max_cust = None\n",
    "        max_count = 0\n",
    "        for val in visits:\n",
    "            if val[0] == \"A\":\n",
    "                page_path = val[1]\n",
    "            elif curr_cust == val[1]:\n",
    "                curr_count +=val[2]\n",
    "            else:\n",
    "                if curr_cust:\n",
    "                    if curr_count > max_count:\n",
    "                        max_cust = curr_cust\n",
    "                        max_count = curr_count\n",
    "                curr_cust = val[1]\n",
    "                curr_count = val[2]\n",
    "        if curr_count > max_count:\n",
    "            max_cust = curr_cust\n",
    "            max_count = curr_count\n",
    "        logging.warning( \"end for \"+str(page_id))\n",
    "        yield page_path, (page_id, max_cust, max_count)\n",
    "    \n",
    "    def steps(self):\n",
    "        return [\n",
    "            MRStep(mapper = self.mapper_visits,\n",
    "                   reducer = self.reducer_visits,\n",
    "                   jobconf={\n",
    "                       \"mapreduce.job.reduces\": \"1\",\n",
    "                       \"stream.num.map.output.key.fields\": 3,\n",
    "                       \"mapreduce.job.output.key.comparator.class\" : \"org.apache.hadoop.mapred.lib.KeyFieldBasedComparator\",\n",
    "                       \"mapreduce.partition.keycomparator.options\":\"-k1,1 -k2,2 -k3,3n\",\n",
    "                       \"SORT_VALUES\":True\n",
    "                   }\n",
    "                  )\n",
    "        ]\n",
    "if __name__ == \"__main__\":\n",
    "    MRVisitorCount.run()\n",
    "#END STUDENT CODE44"
   ]
  },
  {
   "cell_type": "code",
   "execution_count": 387,
   "metadata": {
    "collapsed": true
   },
   "outputs": [],
   "source": [
    "!chmod +x mostFrequentVisitors.py"
   ]
  },
  {
   "cell_type": "markdown",
   "metadata": {},
   "source": [
    "### Run a test on some data that has multiple visits"
   ]
  },
  {
   "cell_type": "code",
   "execution_count": 363,
   "metadata": {
    "collapsed": true
   },
   "outputs": [
    {
     "name": "stdout",
     "output_type": "stream",
     "text": [
      "Overwriting test.data\n"
     ]
    }
   ],
   "source": [
    "%%writefile test.data\n",
    "V,1000,1,C,10001\n",
    "V,1001,1,C,10001\n",
    "V,1001,1,C,10001\n",
    "V,1001,1,C,10001\n",
    "V,1001,1,C,10002\n",
    "V,1002,1,C,10001\n",
    "V,1001,1,C,10002\n",
    "V,1003,1,C,10002\n",
    "V,1001,1,C,10003\n",
    "V,1003,1,C,10003\n",
    "V,1004,1,C,10003\n",
    "V,1005,1,C,10004\n",
    "V,1006,1,C,10005\n",
    "V,1006,1,C,10005\n",
    "V,1006,1,C,10005\n",
    "V,1006,1,C,10005\n",
    "V,1006,1,C,10003\n",
    "V,1006,1,C,10003"
   ]
  },
  {
   "cell_type": "code",
   "execution_count": 380,
   "metadata": {},
   "outputs": [
    {
     "name": "stdout",
     "output_type": "stream",
     "text": [
      "Writing test-att.data\n"
     ]
    }
   ],
   "source": [
    "%%writefile test-att.data\n",
    "1000,/regwiz\n",
    "1001,/support\n",
    "1002,/athome\n",
    "1003,/kb\n",
    "1004,/search\n",
    "1005,/norge\n",
    "1006,/misc"
   ]
  },
  {
   "cell_type": "code",
   "execution_count": 373,
   "metadata": {},
   "outputs": [
    {
     "name": "stdout",
     "output_type": "stream",
     "text": [
      "1287,/autoroute\n",
      "1288,/library\n",
      "1289,/masterchef\n",
      "1297,/centroam\n",
      "1215,/developer\n"
     ]
    }
   ],
   "source": [
    "!cat anonymous-attr-preprocessed.data"
   ]
  },
  {
   "cell_type": "markdown",
   "metadata": {},
   "source": [
    "Expected Output on test.data"
   ]
  },
  {
   "cell_type": "code",
   "execution_count": null,
   "metadata": {
    "collapsed": true
   },
   "outputs": [],
   "source": [
    "            URL |    PageID |    CustID | Num Visits\n",
    "----------------------------------------------------------------------\n",
    "      \"/regwiz\" |      1000 |     10001 |         1\n",
    "     \"/support\" |      1001 |     10001 |         3\n",
    "      \"/athome\" |      1002 |     10001 |         1\n",
    "          \"/kb\" |      1003 |     10002 |         1\n",
    "      \"/search\" |      1004 |     10003 |         1\n",
    "       \"/norge\" |      1005 |     10004 |         1\n",
    "        \"/misc\" |      1006 |     10005 |         4"
   ]
  },
  {
   "cell_type": "code",
   "execution_count": 421,
   "metadata": {
    "collapsed": true
   },
   "outputs": [
    {
     "name": "stdout",
     "output_type": "stream",
     "text": [
      "No configs found; falling back on auto-configuration\n",
      "Looking for hadoop binary in $PATH...\n",
      "Found hadoop binary: /usr/bin/hadoop\n",
      "Using Hadoop version 2.6.0\n",
      "Looking for Hadoop streaming jar in /home/hadoop/contrib...\n",
      "Looking for Hadoop streaming jar in /usr/lib/hadoop-mapreduce...\n",
      "Found Hadoop streaming jar: /usr/lib/hadoop-mapreduce/hadoop-streaming.jar\n",
      "Creating temp directory /tmp/mostFrequentVisitors.root.20180203.194825.277359\n",
      "Copying local files to hdfs:///user/root/tmp/mrjob/mostFrequentVisitors.root.20180203.194825.277359/files/...\n",
      "Running step 1 of 1...\n",
      "  packageJobJar: [] [/usr/jars/hadoop-streaming-2.6.0-cdh5.7.0.jar] /tmp/streamjob8950375242425686798.jar tmpDir=null\n",
      "  Connecting to ResourceManager at /0.0.0.0:8032\n",
      "  Connecting to ResourceManager at /0.0.0.0:8032\n",
      "  Total input paths to process : 2\n",
      "  number of splits:3\n",
      "  Submitting tokens for job: job_1517652631830_0033\n",
      "  Submitted application application_1517652631830_0033\n",
      "  The url to track the job: http://quickstart.cloudera:8088/proxy/application_1517652631830_0033/\n",
      "  Running job: job_1517652631830_0033\n",
      "  Job job_1517652631830_0033 running in uber mode : false\n",
      "   map 0% reduce 0%\n",
      "   map 33% reduce 0%\n",
      "   map 100% reduce 0%\n",
      "   map 100% reduce 100%\n",
      "  Job job_1517652631830_0033 completed successfully\n",
      "  Output directory: hdfs:///user/root/tmp/mrjob/mostFrequentVisitors.root.20180203.194825.277359/output\n",
      "Counters: 49\n",
      "\tFile Input Format Counters \n",
      "\t\tBytes Read=500\n",
      "\tFile Output Format Counters \n",
      "\t\tBytes Written=197\n",
      "\tFile System Counters\n",
      "\t\tFILE: Number of bytes read=664\n",
      "\t\tFILE: Number of bytes written=477725\n",
      "\t\tFILE: Number of large read operations=0\n",
      "\t\tFILE: Number of read operations=0\n",
      "\t\tFILE: Number of write operations=0\n",
      "\t\tHDFS: Number of bytes read=1008\n",
      "\t\tHDFS: Number of bytes written=197\n",
      "\t\tHDFS: Number of large read operations=0\n",
      "\t\tHDFS: Number of read operations=12\n",
      "\t\tHDFS: Number of write operations=2\n",
      "\tJob Counters \n",
      "\t\tData-local map tasks=3\n",
      "\t\tLaunched map tasks=3\n",
      "\t\tLaunched reduce tasks=1\n",
      "\t\tTotal megabyte-seconds taken by all map tasks=21380096\n",
      "\t\tTotal megabyte-seconds taken by all reduce tasks=3509248\n",
      "\t\tTotal time spent by all map tasks (ms)=20879\n",
      "\t\tTotal time spent by all maps in occupied slots (ms)=20879\n",
      "\t\tTotal time spent by all reduce tasks (ms)=3427\n",
      "\t\tTotal time spent by all reduces in occupied slots (ms)=3427\n",
      "\t\tTotal vcore-seconds taken by all map tasks=20879\n",
      "\t\tTotal vcore-seconds taken by all reduce tasks=3427\n",
      "\tMap-Reduce Framework\n",
      "\t\tCPU time spent (ms)=1840\n",
      "\t\tCombine input records=0\n",
      "\t\tCombine output records=0\n",
      "\t\tFailed Shuffles=0\n",
      "\t\tGC time elapsed (ms)=108\n",
      "\t\tInput split bytes=508\n",
      "\t\tMap input records=25\n",
      "\t\tMap output bytes=608\n",
      "\t\tMap output materialized bytes=676\n",
      "\t\tMap output records=25\n",
      "\t\tMerged Map outputs=3\n",
      "\t\tPhysical memory (bytes) snapshot=974467072\n",
      "\t\tReduce input groups=18\n",
      "\t\tReduce input records=25\n",
      "\t\tReduce output records=7\n",
      "\t\tReduce shuffle bytes=676\n",
      "\t\tShuffled Maps =3\n",
      "\t\tSpilled Records=50\n",
      "\t\tTotal committed heap usage (bytes)=743440384\n",
      "\t\tVirtual memory (bytes) snapshot=5444448256\n",
      "\tShuffle Errors\n",
      "\t\tBAD_ID=0\n",
      "\t\tCONNECTION=0\n",
      "\t\tIO_ERROR=0\n",
      "\t\tWRONG_LENGTH=0\n",
      "\t\tWRONG_MAP=0\n",
      "\t\tWRONG_REDUCE=0\n",
      "Streaming final output from hdfs:///user/root/tmp/mrjob/mostFrequentVisitors.root.20180203.194825.277359/output...\n",
      "\"/regwiz\"\t[1000, \"10001\", 1]\n",
      "\"/support\"\t[1001, \"10001\", 3]\n",
      "\"/athome\"\t[1002, \"10001\", 1]\n",
      "\"/kb\"\t[1003, \"10002\", 1]\n",
      "\"/search\"\t[1004, \"10003\", 1]\n",
      "\"/norge\"\t[1005, \"10004\", 1]\n",
      "\"/misc\"\t[1006, \"10005\", 4]\n",
      "Removing HDFS temp directory hdfs:///user/root/tmp/mrjob/mostFrequentVisitors.root.20180203.194825.277359...\n",
      "Removing temp directory /tmp/mostFrequentVisitors.root.20180203.194825.277359...\n"
     ]
    }
   ],
   "source": [
    "!python mostFrequentVisitors.py test.data test-att.data -r hadoop"
   ]
  },
  {
   "cell_type": "code",
   "execution_count": 423,
   "metadata": {},
   "outputs": [
    {
     "name": "stdout",
     "output_type": "stream",
     "text": [
      "(u'/regwiz', [1000, u'10001', 1])\n",
      "(u'/support', [1001, u'10001', 3])\n",
      "(u'/athome', [1002, u'10001', 1])\n",
      "(u'/kb', [1003, u'10002', 1])\n",
      "(u'/search', [1004, u'10003', 1])\n",
      "(u'/norge', [1005, u'10004', 1])\n",
      "(u'/misc', [1006, u'10005', 4])\n"
     ]
    }
   ],
   "source": [
    "from mostFrequentVisitors import MRVisitorCount\n",
    "mr_job = MRVisitorCount(args=[\"test.data\",\"test-att.data\",\"-r\", \"hadoop\"])\n",
    "count = 0\n",
    "with mr_job.make_runner() as runner:\n",
    "    runner.run()\n",
    "    for line in runner.stream_output():\n",
    "        print mr_job.parse_output_line(line)"
   ]
  },
  {
   "cell_type": "code",
   "execution_count": null,
   "metadata": {},
   "outputs": [],
   "source": [
    "from mostFrequentVisitors import MRVisitorCount\n",
    "mr_job = MRVisitorCount(args=[\"anonymous-msweb-preprocessed.data\",\"anonymous-attr-preprocessed.data\",\"-r\", \"hadoop\"])\n",
    "count = 0\n",
    "with mr_job.make_runner() as runner:\n",
    "    runner.run()\n",
    "    for line in runner.stream_output():\n",
    "        print mr_job.parse_output_line(line)"
   ]
  },
  {
   "cell_type": "code",
   "execution_count": null,
   "metadata": {},
   "outputs": [],
   "source": [
    "Sample Output:\n",
    "(u'/regwiz', [1000, u'10001', 1])\n",
    "(u'/support', [1001, u'10001', 1])\n",
    "(u'/athome', [1002, u'10001', 1])\n",
    "(u'/kb', [1003, u'10002', 1])\n",
    "(u'/search', [1004, u'10003', 1])\n",
    "(u'/norge', [1005, u'10004', 1])\n",
    "(u'/misc', [1006, u'10005', 1])\n",
    "(u'/ie_intl', [1007, u'10007', 1])\n",
    "(u'/msdownload', [1008, u'10009', 1])\n",
    "(u'/windows', [1009, u'10009', 1])\n",
    "(u'/vbasic', [1010, u'10010', 1])\n",
    "(u'/officedev', [1011, u'10010', 1])\n",
    "(u'/outlookdev', [1012, u'10010', 1])\n",
    "(u'/vbasicsupport', [1013, u'10010', 1])\n",
    "(u'/officefreestuff', [1014, u'10010', 1])\n",
    "(u'/msexcel', [1015, u'10011', 1])\n",
    "(u'/excel', [1016, u'10011', 1])\n",
    "(u'/products', [1017, u'10011', 1])\n",
    "(u'/isapi', [1018, u'10011', 1])\n",
    "(u'/mspowerpoint', [1019, u'10011', 1])\n",
    "(u'/msdn', [1020, u'10012', 1])\n",
    "..."
   ]
  },
  {
   "cell_type": "markdown",
   "metadata": {},
   "source": [
    "## HW4.5 - Clustering Tweet Dataset\n",
    "\n",
    "For this question use the Tweet data in `topUsers_Apr-Jul_2014_1000-words.txt`, you will implement a 1000-dimensional K-means algorithm in MrJob on the users by their 1000-dimensional word stripes/vectors using several centroid initializations and values of K.\n",
    "\n",
    "Note that each \"point\" is a user as represented by 1000 words, and that word-frequency distributions are generally heavy-tailed power-laws(often called Zipf distributions), and are very rare in the larger class of discrete, random distributions. For each user you will have to normalize by its \"TOTAL\" column. __Try several parameterizations and initializations__ :\n",
    "\n",
    "* (A) K=4 uniform random centroid-distributions over the 1000 words (generate 1000 random numbers and normalize the vectors)\n",
    "* (B) K=2 perturbation-centroids, randomly perturbed from the aggregated (user-wide) distribution \n",
    "* (C) K=4 perturbation-centroids, randomly perturbed from the aggregated (user-wide) distribution \n",
    "* (D) K=4 \"trained\" centroids, determined by the sums across the classes. Use use the \n",
    "(row-normalized) class-level aggregates as 'trained' starting centroids (i.e., the training is already done for you!).\n",
    "\n",
    "Note that you do not have to compute the aggregated distribution or the class-aggregated distributions, which are rows in the auxiliary file `topUsers_Apr-Jul_2014_1000-words_summaries.txt`. \n",
    "\n",
    "For (A),  we select 4 users randomly from a uniform distribution [1,...,1,000]. For (B), (C), and (D)  you will have to use data from the auxiliary file. In parts (B) and (C), you will have to perturb the 1000-user aggregate (after initially normalizing by its sum, which is also provided). So if in (B) you want to create 2 perturbations of the aggregate, startwith (1), normalize, and generate 1000 random numbers uniformly from the unit interval (0,1) twice (for two centroids), using:"
   ]
  },
  {
   "cell_type": "code",
   "execution_count": 443,
   "metadata": {
    "collapsed": true
   },
   "outputs": [],
   "source": [
    "from numpy import random\n",
    "numbers = random.sample(1000)"
   ]
  },
  {
   "cell_type": "markdown",
   "metadata": {},
   "source": [
    "Take these 1000 numbers and add them (component-wise) to the 1000-user aggregate,\n",
    "and then renormalize to obtain one of your aggregate-perturbed initial centroids."
   ]
  },
  {
   "cell_type": "code",
   "execution_count": 516,
   "metadata": {
    "collapsed": true
   },
   "outputs": [
    {
     "name": "stdout",
     "output_type": "stream",
     "text": [
      "[  1.15048779e-03   1.50236280e-03   2.07892039e-03   1.21979136e-03\n",
      "   2.28847124e-03   1.35133262e-03   1.81244077e-03   5.89954340e-04\n",
      "   1.70421020e-03   4.13743618e-04   2.90063170e-04   2.10972670e-03\n",
      "   1.84672565e-03   5.21554452e-04   9.34078278e-04   4.91549019e-04\n",
      "   1.29250180e-03   1.19590543e-03   1.85188155e-03   1.61492417e-04\n",
      "   5.92410032e-04   1.02868891e-03   3.77446058e-04   2.68347310e-04\n",
      "   8.40048071e-04   1.70697341e-03   1.28545505e-03   1.10697834e-04\n",
      "   3.68721114e-04   2.06289573e-03   1.85411100e-03   6.98390058e-04\n",
      "   2.64147634e-04   1.61494039e-03   1.02276706e-04   8.78804822e-04\n",
      "   2.02217742e-03   3.96201976e-04   1.06567239e-03   2.63425436e-04\n",
      "   1.17359115e-03   9.33836844e-04   1.97328761e-03   1.79902885e-03\n",
      "   5.77147155e-04   1.46777177e-03   1.98900983e-03   1.67429026e-03\n",
      "   3.23079091e-04   6.67304643e-04   3.67297414e-04   1.91558767e-03\n",
      "   9.89816626e-04   5.82647553e-04   1.75419460e-03   2.05498301e-03\n",
      "   1.94530953e-03   1.80862930e-03   6.50273991e-04   6.53298586e-04\n",
      "   1.72071906e-03   9.63845778e-04   4.71141535e-04   1.07120157e-03\n",
      "   5.20851978e-04   1.49383211e-04   3.47855439e-04   2.33595117e-04\n",
      "   3.73306906e-04   6.06636671e-05   7.22892318e-04   3.20393729e-04\n",
      "   2.71199645e-04   5.19996956e-04   3.51292039e-04   5.05152669e-04\n",
      "   1.83385619e-03   1.57793579e-03   1.42175510e-03   2.75471074e-04\n",
      "   1.82775065e-03   4.51017237e-04   1.36462767e-03   1.18252995e-03\n",
      "   1.33617438e-03   1.22923571e-03   6.12938260e-04   1.92195682e-03\n",
      "   4.57830717e-04   1.85710208e-03   1.54153280e-03   3.48113693e-04\n",
      "   8.91695259e-04   1.12183150e-04   8.44961158e-04   1.59491511e-04\n",
      "   1.03231073e-03   1.39717773e-03   7.03849986e-04   1.80070920e-03\n",
      "   1.62643899e-03   1.46243570e-03   3.65360106e-04   1.22364037e-03\n",
      "   1.64780481e-03   4.08472527e-04   1.12790636e-03   1.52883179e-04\n",
      "   1.86904858e-03   1.38519430e-03   9.52014353e-04   5.69718562e-05\n",
      "   6.61895314e-04   1.75419685e-03   2.26956638e-04   1.40949386e-04\n",
      "   1.46525979e-03   1.34865152e-04   1.62731899e-03   2.71982551e-04\n",
      "   1.29942148e-03   1.67343843e-03   4.51426983e-04   9.19135641e-04\n",
      "   6.89150616e-04   5.36192085e-04   8.06501566e-04   1.10670784e-03\n",
      "   2.02720095e-03   1.93624390e-03   9.74082595e-04   9.50306369e-04\n",
      "   1.66359609e-03   1.78204346e-03   1.03169108e-03   4.03275483e-04\n",
      "   1.80654721e-03   1.88394779e-03   1.72895287e-03   6.80180092e-04\n",
      "   2.59266959e-04   4.40254994e-04   2.50774100e-04   7.58501653e-04\n",
      "   3.27605504e-04   1.53485209e-03   5.47033287e-04   4.30504845e-04\n",
      "   1.46910517e-03   1.18975765e-03   1.01066248e-03   3.59293788e-04\n",
      "   1.16074034e-03   1.71022648e-03   5.57159199e-04   1.00161165e-03\n",
      "   7.33053090e-04   5.83780197e-04   2.94221046e-04   2.83004289e-04\n",
      "   1.86304914e-03   1.39165196e-03   3.34189861e-04   1.76539176e-04\n",
      "   5.02019930e-04   1.22161129e-03   1.23922876e-03   1.34620978e-03\n",
      "   9.74593169e-04   1.40178095e-03   8.56683824e-04   1.45868869e-03\n",
      "   5.12038639e-04   1.19642740e-03   1.46328795e-03   1.26350906e-03\n",
      "   4.43640575e-04   1.17598027e-03   8.79821202e-04   2.39163639e-04\n",
      "   1.29777529e-03   1.27031999e-03   1.05967160e-03   1.30170618e-03\n",
      "   6.79394678e-04   1.26824940e-04   5.52023876e-04   1.24371442e-03\n",
      "   1.59484450e-03   9.65162911e-04   1.50235334e-03   1.22085215e-03\n",
      "   1.59290878e-03   8.53403963e-05   1.38092478e-03   2.38646636e-04\n",
      "   1.16274578e-03   1.17389648e-03   6.22687345e-04   2.98082591e-05\n",
      "   5.24234716e-04   1.20480447e-04   7.94463400e-04   3.27650219e-04\n",
      "   8.38972492e-04   1.76799534e-03   1.77542529e-03   1.83500494e-03\n",
      "   1.24956395e-03   1.73347271e-03   8.73426590e-04   1.73942204e-03\n",
      "   1.47575446e-03   8.98544011e-04   9.08237090e-04   1.22077861e-03\n",
      "   7.96581489e-04   5.48812273e-04   1.27029006e-03   4.33149641e-04\n",
      "   1.31030368e-03   1.71786024e-03   9.98633037e-04   1.98293360e-03\n",
      "   1.35700950e-03   7.43711979e-04   5.83900388e-04   1.75189379e-03\n",
      "   7.14535030e-04   4.62582101e-05   2.64104604e-04   4.63742102e-05\n",
      "   1.58415718e-03   8.18226907e-04   1.19603346e-03   1.03717285e-03\n",
      "   6.53672064e-04   1.28238125e-03   7.57197953e-04   9.51518790e-04\n",
      "   2.01450606e-03   1.96236654e-03   1.05362847e-03   5.59390562e-04\n",
      "   1.38624852e-03   5.80202232e-04   1.77361417e-03   1.53205625e-03\n",
      "   1.68178409e-04   1.47249810e-03   4.58977012e-04   5.03454125e-04\n",
      "   3.11919601e-04   1.55812845e-03   1.26543468e-03   1.82110684e-03\n",
      "   3.04415372e-04   1.76014658e-03   1.80188429e-03   4.04614472e-04\n",
      "   1.88526771e-03   3.59439694e-04   1.90460794e-03   9.93176821e-04\n",
      "   1.60063044e-03   3.55597641e-04   1.19050995e-03   1.39781747e-04\n",
      "   2.51458570e-04   1.83695734e-04   1.54636569e-03   1.74672108e-03\n",
      "   1.68630894e-03   3.28910672e-04   8.06930420e-04   1.40631129e-03\n",
      "   1.21767406e-03   4.89627842e-04   3.62010700e-04   4.63944981e-04\n",
      "   8.54741336e-04   3.55773871e-05   4.73781221e-04   2.49692194e-04\n",
      "   1.94727100e-03   1.36653721e-03   1.42945086e-04   1.23277611e-03\n",
      "   1.05291276e-03   6.55992022e-04   1.63741729e-03   2.46257182e-04\n",
      "   6.52997934e-04   1.29657116e-03   2.26293210e-04   5.66638416e-04\n",
      "   1.94002757e-03   1.43679752e-03   2.86699882e-04   1.69430102e-04\n",
      "   1.51396530e-03   1.46577297e-03   1.99173609e-03   1.26597996e-03\n",
      "   1.82540922e-04   1.07280515e-03   4.25396244e-04   1.99774296e-03\n",
      "   8.11145014e-04   3.16036565e-04   1.07301405e-03   3.46575590e-04\n",
      "   1.14521809e-03   1.66527502e-03   1.25898648e-03   2.47197788e-04\n",
      "   1.07156195e-03   1.67477847e-03   1.52452745e-03   2.97817173e-05\n",
      "   1.66763413e-03   1.38601424e-03   1.76583793e-03   3.07457307e-04\n",
      "   2.31302902e-04   1.37441541e-03   5.97953953e-04   5.54617343e-04\n",
      "   8.08598510e-04   8.81314957e-04   1.06337476e-03   7.03578555e-04\n",
      "   1.74070608e-03   1.03060802e-04   1.33681197e-03   7.11101422e-04\n",
      "   1.69490031e-03   9.98483541e-04   3.18351565e-04   5.11900299e-04\n",
      "   4.92322301e-05   1.59709965e-03   7.62982228e-04   1.05229382e-03\n",
      "   1.06082164e-03   7.87486892e-04   8.35867805e-04   1.02169128e-03\n",
      "   8.45417056e-04   1.27694331e-03   5.26094304e-04   7.28427045e-04\n",
      "   1.77959057e-03   1.40349856e-03   2.81559781e-04   7.00962189e-04\n",
      "   1.59855030e-03   9.64180192e-04   7.02830780e-04   1.12851993e-03\n",
      "   1.35652714e-04   1.74975982e-04   4.57726347e-04   3.36993473e-04\n",
      "   1.08496856e-03   3.45540871e-04   7.16266109e-05   1.32430323e-03\n",
      "   6.05368285e-04   2.94060015e-04   1.67839495e-03   3.40568593e-04\n",
      "   1.71285179e-03   1.23074536e-03   1.39006207e-03   3.76294798e-04\n",
      "   9.01368973e-04   1.05953845e-03   1.19336930e-03   1.49123830e-03\n",
      "   1.07176531e-03   1.74615459e-04   9.23008904e-04   6.28796122e-05\n",
      "   6.19029128e-04   8.82221643e-04   6.98188811e-04   1.64913617e-04\n",
      "   1.27672966e-03   1.79159350e-03   3.66950134e-04   9.96314382e-04\n",
      "   6.39993297e-04   6.47297722e-04   1.49455261e-03   1.71927365e-03\n",
      "   1.79602446e-04   7.36555942e-04   1.72643567e-03   7.74949116e-04\n",
      "   4.87187234e-04   6.52481748e-04   1.75357641e-04   3.81375062e-04\n",
      "   7.16049195e-04   7.29835151e-04   1.09409421e-03   6.41619457e-04\n",
      "   1.25468376e-03   2.22777266e-04   1.86805347e-03   1.51545829e-03\n",
      "   1.52692401e-03   1.98130259e-03   3.91619554e-04   3.45047840e-04\n",
      "   3.48236019e-04   1.18298705e-03   5.23139950e-04   1.17790001e-03\n",
      "   9.23261299e-05   8.32929163e-04   4.91215405e-04   4.00578548e-04\n",
      "   7.16854560e-04   6.45851839e-04   8.08392533e-04   1.94949839e-04\n",
      "   4.35242760e-04   1.18520523e-04   1.26899929e-03   6.07789848e-04\n",
      "   1.79607242e-03   1.80032669e-03   1.33635551e-03   2.01344547e-03\n",
      "   1.98347380e-03   1.35725810e-03   1.92011957e-03   1.51928657e-03\n",
      "   6.97904060e-04   7.37251063e-04   1.00291586e-03   1.11007617e-03\n",
      "   2.01863235e-03   1.88573691e-03   1.91035627e-03   1.26411972e-03\n",
      "   1.06869326e-03   2.13990711e-04   4.42580609e-04   6.88870585e-04\n",
      "   8.78716118e-04   6.95298010e-04   3.08347853e-04   1.62327943e-03\n",
      "   1.72252500e-03   3.42593246e-04   1.34586238e-03   1.30653510e-03\n",
      "   4.74940015e-04   1.64338054e-03   1.91671538e-03   3.89817385e-04\n",
      "   1.49907653e-04   4.82201624e-04   1.79390584e-03   1.42949490e-03\n",
      "   1.91852366e-03   3.93640086e-04   1.86216523e-03   8.76938041e-04\n",
      "   1.32313521e-03   2.00362978e-03   9.88678522e-05   1.23237277e-03\n",
      "   1.77176936e-03   7.45914466e-04   1.03915201e-03   1.96146714e-03\n",
      "   2.29476738e-04   1.22223807e-03   3.20793226e-04   1.05732861e-03\n",
      "   1.30579817e-03   1.14573122e-03   1.71924378e-03   4.37326932e-04\n",
      "   1.53646811e-03   5.84525855e-04   3.65263909e-04   1.58347233e-03\n",
      "   7.94818372e-05   2.06006083e-04   1.19174535e-03   1.83269238e-03\n",
      "   9.11490779e-04   1.43980527e-03   7.07219346e-05   1.27560760e-03\n",
      "   1.33886016e-03   3.71737400e-04   1.19535768e-03   1.09216129e-03\n",
      "   9.27673257e-04   8.37663885e-04   1.67017822e-03   4.79253042e-04\n",
      "   1.99840356e-04   1.24485140e-03   3.03291043e-04   1.49401540e-03\n",
      "   1.07448807e-03   1.84874025e-04   8.35989658e-04   1.86230287e-03\n",
      "   1.60991505e-03   1.01677988e-03   9.99502951e-04   1.97700654e-03\n",
      "   7.72553599e-04   2.12843831e-04   1.15110370e-03   1.44322609e-03\n",
      "   1.67693381e-03   5.77529005e-04   1.88246733e-03   1.05565011e-03\n",
      "   1.37783955e-03   1.85834696e-03   1.72775491e-03   5.50199311e-04\n",
      "   1.62565329e-03   1.81747457e-03   2.58163297e-04   5.24171850e-04\n",
      "   5.34414978e-04   3.56131174e-04   5.46270829e-04   5.23960760e-04\n",
      "   1.48677537e-04   7.61498773e-04   1.22304092e-03   1.95219269e-03\n",
      "   1.35490130e-03   1.06848619e-03   8.13925176e-04   1.18895689e-03\n",
      "   1.61509535e-03   7.67483761e-04   1.11705561e-03   1.94336882e-03\n",
      "   1.44797682e-03   5.43914356e-04   1.00923371e-03   1.34953427e-03\n",
      "   1.99752014e-03   1.88867898e-03   7.49459920e-04   1.44702003e-03\n",
      "   1.65632811e-03   1.22420740e-03   2.10156857e-04   1.76760492e-03\n",
      "   1.20766503e-03   1.80452935e-04   1.91521450e-03   1.06319656e-03\n",
      "   1.59887520e-03   5.01770848e-04   1.33906510e-03   5.09110527e-04\n",
      "   1.87703893e-03   5.77825766e-04   1.68324322e-03   7.31103396e-04\n",
      "   7.59571872e-04   1.58187581e-04   3.81087817e-04   1.87076379e-04\n",
      "   1.77879996e-03   4.67250256e-04   1.99595172e-03   2.66978682e-04\n",
      "   1.07259465e-03   5.25818172e-04   3.90707178e-04   9.35603865e-05\n",
      "   1.35298301e-04   1.34096152e-03   1.00654612e-03   1.46223969e-03\n",
      "   7.16726275e-04   6.08915947e-04   1.31177999e-03   1.32572186e-03\n",
      "   1.32192490e-03   1.36920468e-03   1.73397338e-03   4.02802827e-04\n",
      "   1.79177309e-03   1.18882141e-03   1.05207329e-03   1.89460877e-03\n",
      "   1.29194189e-03   3.97666973e-05   1.73607090e-03   5.35704657e-04\n",
      "   1.74193427e-03   4.46408449e-04   1.22172011e-03   1.76432256e-03\n",
      "   1.17858008e-03   5.79979796e-04   4.70441618e-04   1.98936627e-03\n",
      "   9.22724943e-04   2.27765332e-04   7.72960239e-04   1.80833998e-03\n",
      "   1.18721067e-04   4.74757110e-04   8.77982647e-04   1.13002064e-03\n",
      "   2.84441181e-04   1.63533321e-03   3.80737460e-04   5.49520051e-04\n",
      "   4.32394231e-04   1.83784788e-03   2.41699934e-04   1.28613008e-03\n",
      "   1.32593298e-03   3.80064728e-04   1.63506034e-03   1.21875388e-03\n",
      "   1.74725382e-03   1.55206379e-03   9.68749347e-04   2.99969889e-04\n",
      "   1.24489490e-03   1.27367002e-03   4.08167868e-04   3.02302445e-04\n",
      "   4.63156479e-04   3.56084735e-04   7.51178762e-04   5.91112243e-05\n",
      "   3.92762095e-04   3.63506912e-04   4.49714191e-04   1.98071312e-03\n",
      "   1.94985188e-03   9.00890781e-04   1.59308632e-03   7.62479454e-04\n",
      "   5.68290803e-04   8.67280644e-04   1.41418204e-03   4.56608887e-05\n",
      "   4.89534966e-05   4.79952603e-04   7.20595380e-04   9.70727030e-04\n",
      "   9.95765905e-05   1.35061083e-03   1.66050338e-03   1.26502170e-03\n",
      "   4.90015511e-04   1.05404102e-03   1.01782824e-03   1.16647951e-03\n",
      "   7.12671119e-04   1.13176226e-03   1.44620036e-03   1.89447807e-03\n",
      "   1.18099623e-03   4.68815486e-05   3.51227549e-04   1.63666785e-03\n",
      "   9.87099768e-04   7.02446067e-04   8.90107377e-04   7.68199331e-04\n",
      "   9.62846748e-05   1.39252130e-03   2.19842008e-05   1.47491346e-03\n",
      "   9.46680956e-04   4.18982077e-04   1.83263723e-03   1.95460296e-03\n",
      "   3.01209185e-04   5.65490192e-04   1.71988297e-03   1.66245987e-03\n",
      "   4.65203419e-04   2.00383689e-03   1.96641283e-03   1.40403084e-03\n",
      "   1.22486576e-04   6.15504814e-04   6.67200380e-04   4.77437481e-04\n",
      "   1.59810798e-03   1.65709672e-03   7.72171142e-04   1.32155825e-03\n",
      "   1.84019232e-03   9.04196827e-04   1.46074228e-03   1.74322788e-03\n",
      "   1.58329553e-03   1.69073325e-03   1.24105695e-04   1.42099329e-03\n",
      "   2.11296502e-04   8.31674395e-04   1.61291269e-03   1.51173910e-03\n",
      "   7.14045335e-04   1.80682167e-03   7.74519700e-04   1.01250340e-03\n",
      "   1.32494510e-03   3.92001661e-04   1.58008461e-03   3.07988125e-04\n",
      "   1.85787060e-03   4.64416906e-05   4.73960165e-04   1.64559152e-03\n",
      "   9.01661306e-04   8.07813176e-04   9.12215251e-04   4.28929065e-04\n",
      "   8.09126328e-04   2.94767597e-04   8.88518166e-04   1.84406737e-03\n",
      "   1.57560216e-03   8.12237277e-05   1.36102556e-03   1.60876262e-04\n",
      "   7.75332962e-04   5.73507182e-04   2.41740810e-05   8.98502809e-04\n",
      "   1.31357427e-03   4.18572882e-04   1.49000485e-05   1.20012435e-03\n",
      "   1.20231601e-03   2.59628443e-04   3.39009856e-05   1.77812173e-03\n",
      "   7.09459596e-04   5.55407834e-04   6.36333291e-04   7.72199323e-04\n",
      "   8.38428748e-04   3.73344557e-04   1.98215877e-03   2.37825402e-04\n",
      "   1.89817702e-03   5.39990945e-04   9.53938006e-04   7.01558841e-04\n",
      "   1.91711324e-03   1.51456398e-03   7.36173154e-04   1.57211801e-03\n",
      "   9.28832514e-04   4.50581771e-04   5.63973225e-04   1.46744321e-03\n",
      "   3.21091199e-04   1.00398739e-03   1.99251294e-04   8.21079223e-04\n",
      "   1.75403153e-03   1.30687518e-03   8.07762950e-04   1.84789683e-03\n",
      "   1.42324527e-03   1.35501784e-03   6.00969880e-05   1.15899532e-03\n",
      "   9.08800904e-04   9.73471344e-04   1.60896204e-03   7.92360639e-04\n",
      "   1.15599851e-03   1.97455734e-03   1.36489372e-03   6.75861174e-04\n",
      "   1.80204186e-03   1.16099787e-03   6.53176289e-04   1.34835306e-03\n",
      "   1.15593022e-03   9.08782802e-04   1.68521992e-03   1.30200888e-03\n",
      "   2.00602245e-03   1.63630403e-03   4.99915789e-04   1.42013959e-03\n",
      "   1.54109633e-03   1.58540205e-03   5.26774582e-04   1.60351619e-03\n",
      "   1.40438446e-04   5.84390418e-04   1.82205434e-03   1.67349534e-04\n",
      "   6.70182875e-04   1.54007194e-04   1.82561991e-03   1.22295425e-03\n",
      "   2.69572174e-04   1.04856509e-03   4.43481885e-04   4.94148535e-04\n",
      "   1.16271311e-03   1.02225419e-03   1.44088088e-04   3.38370400e-04\n",
      "   1.24309417e-04   1.92038115e-03   9.34140267e-04   1.48979111e-03\n",
      "   1.28879677e-03   1.25366852e-03   1.53032379e-05   3.10198233e-04\n",
      "   3.07149039e-04   1.26975672e-03   1.60271092e-03   6.03501626e-04\n",
      "   1.66963571e-03   1.38767433e-03   2.13029676e-04   1.13750083e-03\n",
      "   3.13688079e-04   8.37639544e-04   1.00853372e-04   1.49279939e-03\n",
      "   1.58950380e-03   7.60381101e-04   1.81719751e-03   1.64265768e-03\n",
      "   4.67625993e-04   6.05619948e-04   2.01733402e-04   5.19596063e-04\n",
      "   1.02323295e-03   9.59000528e-04   1.98378710e-03   1.39632291e-03\n",
      "   1.19077715e-03   1.98719409e-04   1.24636265e-03   1.26820935e-04\n",
      "   1.69904223e-03   6.31419823e-04   1.85301698e-03   9.08622681e-04\n",
      "   7.96195635e-05   6.64903483e-04   1.36482589e-03   8.99579372e-04\n",
      "   1.26280109e-03   1.17255110e-03   1.70657860e-03   1.43923037e-03\n",
      "   2.09411129e-04   4.74158656e-04   1.82404302e-04   1.02517667e-03\n",
      "   5.66621360e-04   1.67953320e-03   1.66506980e-04   1.71650857e-03\n",
      "   1.45459631e-03   3.15721983e-04   1.21855736e-03   1.08913174e-03\n",
      "   2.87829922e-04   1.77217053e-03   2.58001787e-04   8.62153385e-04\n",
      "   1.87808785e-03   1.80874076e-04   1.26887521e-03   1.04910728e-03\n",
      "   1.12387040e-03   1.80668426e-03   1.95382362e-03   1.73341223e-03\n",
      "   1.29301654e-03   2.54556026e-04   1.94234941e-03   7.12050626e-04\n",
      "   6.86132249e-04   1.39650255e-03   8.80156676e-04   6.33164708e-04\n",
      "   2.27216550e-04   7.82741524e-05   1.53991322e-03   1.63552751e-03\n",
      "   7.70169995e-04   9.10282186e-04   2.16522066e-04   1.78616576e-03\n",
      "   1.73180630e-04   1.56982020e-03   1.88489685e-03   1.53839095e-03\n",
      "   1.27577555e-03   1.39820987e-03   4.67052469e-04   8.39978961e-04\n",
      "   1.64241723e-03   6.32721997e-04   8.64819602e-04   1.68946293e-03\n",
      "   7.21730192e-04   1.81705338e-04   2.92313729e-04   1.33982264e-03\n",
      "   1.76126232e-03   5.20682894e-04   2.49221555e-04   1.41959449e-04\n",
      "   7.12094210e-05   1.64720550e-03   2.04106096e-04   1.90433245e-03\n",
      "   1.63562355e-03   7.00655733e-04   1.10006856e-03   9.91877008e-04\n",
      "   7.92973064e-04   1.61885435e-03   1.86580053e-03   1.87515103e-03\n",
      "   1.92385371e-03   7.47847587e-05   1.81747896e-04   2.43671167e-04\n",
      "   1.85437865e-03   1.84465242e-03   1.21261022e-03   1.52121429e-03\n",
      "   8.56013926e-04   1.69775584e-03   9.08081180e-04   1.35598090e-03\n",
      "   1.70522562e-03   1.98623638e-03   1.92280882e-03   1.52561441e-03\n",
      "   5.52217375e-04   8.88658331e-04   5.06172036e-04   1.89761515e-03\n",
      "   1.44281418e-03   1.92551597e-03   1.21373471e-03   1.76114441e-03\n",
      "   2.70592985e-04   9.02066584e-04   4.55217578e-04   1.79949604e-03\n",
      "   1.91645388e-03   2.00825114e-03   1.27290880e-03   1.74053591e-03\n",
      "   1.80818639e-03   1.21964643e-03   1.12890577e-03   3.96766518e-04\n",
      "   1.02993883e-03   1.78866550e-03   5.33718625e-05   1.21680117e-03\n",
      "   1.68718392e-03   1.98480500e-03   3.64640648e-04   9.33245737e-04\n",
      "   3.63522121e-05   1.55206554e-04   1.48676047e-03   1.93419212e-03\n",
      "   9.40245156e-04   4.27401591e-05   1.74924294e-04   4.51591436e-04]\n"
     ]
    }
   ],
   "source": [
    "###################################################################################\n",
    "##Geneate random initial centroids around the global aggregate\n",
    "##Part (B) and (C) of this question\n",
    "###################################################################################\n",
    "def startCentroidsBC(k):\n",
    "    counter = 0\n",
    "    for line in open(\"topUsers_Apr-Jul_2014_1000-words_summaries.txt\").readlines():\n",
    "        if counter == 1:        \n",
    "            data = re.split(\",\",line)\n",
    "            globalAggregate = [float(data[i+3])/float(data[2]) for i in range(1000)]\n",
    "        counter += 1\n",
    "    #perturb the global aggregate for the four initializations    \n",
    "    centroids = []\n",
    "    for i in range(k):\n",
    "        rndpoints = random.sample(1000)\n",
    "        peturpoints = [rndpoints[n]/10+globalAggregate[n] for n in range(1000)]\n",
    "        centroids.append(peturpoints)\n",
    "        total = 0\n",
    "        for j in range(len(centroids[i])):\n",
    "            total += centroids[i][j]\n",
    "        for j in range(len(centroids[i])):\n",
    "            centroids[i][j] = centroids[i][j]/total\n",
    "    return np.array(centroids)\n",
    "\n",
    "print startCentroidsBC(2)[0]"
   ]
  },
  {
   "cell_type": "code",
   "execution_count": 595,
   "metadata": {},
   "outputs": [],
   "source": [
    "def startCentroidsA(k):\n",
    "    counter = 0\n",
    "    centroid_rows = np.random.randint(0,999, size=k)\n",
    "    centroids = []\n",
    "    for line in open(\"topUsers_Apr-Jul_2014_1000-words.txt\").readlines():\n",
    "        if counter in centroid_rows:\n",
    "            data = re.split(\",\",line)\n",
    "            centroids.append([float(d) for d in data[3:]])\n",
    "        if counter >max(centroid_rows):\n",
    "            break\n",
    "        counter +=1\n",
    "    return centroids"
   ]
  },
  {
   "cell_type": "markdown",
   "metadata": {},
   "source": [
    "For experiments A, B, C and D and iterate until a threshold (try 0.001) is reached.\n",
    "After convergence, print out a summary of the classes present in each cluster.\n",
    "In particular, report the composition as measured by the total\n",
    "portion of each class type (0-3) contained in each cluster,\n",
    "and discuss your findings and any differences in outcomes across parts A-D."
   ]
  },
  {
   "cell_type": "markdown",
   "metadata": {},
   "source": [
    "<h2>K-Means</h2>\n",
    "K-means is a clustering method that aims to find the positions μi,i=1...k of the clusters that minimize the distance from the data points to the cluster. K-means clustering solves:\n",
    "<br><br>\n",
    "$$\\arg\\min_{c} \\sum_{i=1}^k\\sum_{{x}\\in c_i} d({x},\\mu_i) = \\arg\\min_{c} \\sum_{i=1}^k\\sum_{{x}\\in c_i} \\left\\Vert {x}-\\mu_i \\right\\Vert_2^2$$\n",
    "<br><br>\n",
    "where ${c}_i$ is the set of points that belong to cluster i. The K-means clustering uses the square of the Euclidean distance $d({x},\\mu_i) = \\left\\Vert {x}-\\mu_i \\right\\Vert_2^2$. This problem is not trivial (in fact it is NP-hard), so the K-means algorithm only hopes to find the global minimum, possibly getting stuck in a different solution.\n",
    "\n",
    "<h2>K-means algorithm</h2>\n",
    "\n",
    "The Lloyd's algorithm, mostly known as k-means algorithm, is used to solve the k-means clustering problem and works as follows. First, decide the number of clusters k. Then:\n",
    "\n",
    "<table>\n",
    "<tbody><tr><td>1. Initialize the center of the clusters</td>\n",
    "<td>${\\mu}_i = $ some value $, i=1,...,k$</td>\n",
    "</tr>\n",
    "<tr>\n",
    "<td>2. Attribute the closest cluster to each data point</td>\n",
    "<td>${c}_i = \\{j: d({x}_j, \\mu_i) \\le d({x}_j, \\mu_l),  l \\ne i, j=1,...,n\\}$ </td>\n",
    "</tr>\n",
    "<tr>\n",
    "<td>3. Set the position of each cluster to the mean of all data points belonging to that cluster</td>\n",
    "<td>$\\mu_i = \\frac{1}{|c_i|}\\sum_{j\\in c_i} {x}_j,\\forall i$</td>\n",
    "</tr>\n",
    "<tr><td>4. Repeat steps 2-3 until convergence</td>\n",
    "<td></td>\n",
    "</tr>\n",
    "<tr><td>Notation</td><td>${|c|} = $ number of elements in  ${c}$</td>\n",
    "</tr>\n",
    "</tbody>\n",
    "</table>"
   ]
  },
  {
   "cell_type": "markdown",
   "metadata": {},
   "source": [
    "<h2>Calculating purity</h2>\n",
    "![purity illustration](http://www.candpgeneration.com/images/purity.png)"
   ]
  },
  {
   "cell_type": "markdown",
   "metadata": {},
   "source": [
    "__`topUsers_Apr-Jul_2014_1000-words.txt`__  \n",
    "Notes about the data coding:  \n",
    "> This file consists of word frequency distributions for 1,000 twitter users. These Twitter users use language in very different ways,and were classified by hand according to the criteria:  \n",
    "\n",
    ">__0__: Human, _where only basic human-human communication is observed._  \n",
    "\n",
    ">__1__: Cyborg, _where language is primarily borrowed from other sources. (e.g., jobs listings, classifieds postings, advertisements, etc...)._  \n",
    "\n",
    "> __2__: Robot, _where language is formulaically derived from unrelated sources(e.g., weather/seismology, police/fire event logs, etc...)._  \n",
    "\n",
    ">__3__: Spammer, _where language is replicated to high multiplicity\n",
    "(e.g., celebrity obsessions, personal promotion, etc...)_\n",
    "\n",
    "Data format:\n",
    "> `USERID,CODE,TOTAL,WORD1_COUNT,WORD2_COUNT,...`  \n",
    "where   \n",
    "USERID = unique user identifier  \n",
    "CODE = 0/1/2/3 class code  \n",
    "TOTAL = sum of the word counts  \n"
   ]
  },
  {
   "cell_type": "code",
   "execution_count": 425,
   "metadata": {},
   "outputs": [
    {
     "name": "stdout",
     "output_type": "stream",
     "text": [
      "1180025371,2,1724608,75552,827,57603,7128,4282,45674,66811,27632,0,8,23783,2,42853,0,62335,22349,21428,19801,4125,0,0,2,1585,21118,1,1,1,16079,19676,1587,0,19695,0,0,0,0,0,0,2,20216,60,4278,0,16,46,788,2,0,0,3,0,3,0,0,111122,0,12,0,0,0,2,739,0,176,0,0,0,38,626,0,0,0,6,1584,0,19672,510,0,0,0,12,0,1675,0,0,0,0,5,2,0,0,1,9,0,0,31,0,0,2,0,0,0,0,4,64,476,0,1,0,617,0,0,15672,70315,70317,0,2997,0,0,0,665,0,0,12,0,0,0,3135,1,2,39,0,0,0,0,23,0,1,0,179,667,0,0,32,0,0,224,5,0,0,66,0,3,450,96,0,0,0,0,8,15,15,0,115,0,0,19672,0,46,15,0,0,2,0,51,0,0,0,298,0,0,5,2,165,3,0,0,46497,0,19675,0,4,0,42036,0,0,40035,84,0,103,0,2,12,1924,7,0,0,0,0,3,0,42629,197,15490,0,0,45,0,0,0,0,0,0,301,0,0,0,0,134,3300,0,422,386,0,19826,2,0,0,46,9,354,175,71,165,20338,0,109,0,1,44376,0,1370,0,0,0,0,0,0,0,0,0,0,2,0,0,4462,0,0,5,0,202,436,408,0,61,0,0,39888,74,0,19672,0,0,0,0,0,19672,19672,2,2,349,0,13,0,30,0,0,8,0,40,0,23,0,12,337,0,12,19952,26,0,0,15489,0,0,0,0,39,0,0,26,0,0,19,144,161,0,0,0,5558,0,23,1561,52,0,0,0,9,0,0,35319,0,0,68,0,0,0,0,0,0,0,8,0,0,222,463,60,0,77,0,20219,0,1,4581,0,0,0,297,0,0,0,0,0,68,0,17942,0,38,226,0,0,0,0,9,19,0,0,0,0,0,217,12,261,0,25052,263,0,0,0,1,0,59,27,14,133,76,234,24966,0,0,1,2,11,44,3,0,0,43,0,3,3,2,0,0,0,2,0,0,7,47,0,0,0,0,2,0,0,1,0,0,0,0,175,0,0,5,1,0,0,0,7,0,0,104,53,0,0,16,13,26,0,11,0,6,77,0,17,0,360,0,0,1693,0,147,0,10,0,0,0,61,1,0,0,113,0,0,1,0,305,14,23,0,42,0,0,0,1,14,2391,6,0,21,0,0,911,3,0,0,0,0,0,0,0,0,39,0,25088,0,0,0,34,134,59,35,45,1584,40,2,8,0,249,0,72,0,0,0,0,0,2,0,0,0,0,0,25,0,13,0,0,4223,30,0,0,0,0,0,0,184,1,5558,0,0,24,0,61,7,38,0,309,0,25,0,0,0,0,0,0,0,0,0,3,258,0,0,0,0,0,710,0,62,0,21,0,0,0,0,820,0,0,19672,0,1,0,0,8,74,0,0,0,87,15390,12,20216,1,0,2,10810,11,0,0,47,0,0,797,95,19826,143,0,2,772,0,0,0,117,90,0,56,1,0,0,86,382,807,0,0,0,77,0,97,0,169,282,0,0,0,0,0,0,14,1,0,0,0,0,202,825,1,10,0,803,98,0,167,113,0,263,18506,0,18521,0,243,4,88,0,46,0,0,0,0,15,0,718,1,0,0,0,0,261,0,0,0,454,3028,0,0,0,48,0,0,0,48,0,112,0,0,140,0,1,0,0,0,0,0,2701,0,0,13,0,0,178,741,0,0,1,0,0,0,0,0,352,5,0,0,42,0,0,94,0,0,0,9,0,0,0,0,2,15489,0,11,225,0,5,0,811,0,5,0,43,0,16,277,26,0,11,0,0,0,0,0,0,0,0,0,0,0,0,15489,0,0,0,0,0,0,0,0,0,0,0,95,61,9,0,70,0,28,0,0,135,0,0,0,31,12,0,0,0,0,1,0,0,1,202,0,0,0,39,0,0,125,0,0,48,0,0,24,0,13,272,48,22,0,74,0,0,0,23,0,5,0,2,21,0,0,0,69,12512,0,0,38,0,0,16,0,0,0,0,0,7,2,1,0,17,1,0,0,0,0,18,14,0,0,0,90,0,0,0,128,45,0,1,0,0,0,2,8,0,30,11,15,28,0,0,0,0,0,0,0,0,0,113,0,0,0,50,0,0,0,5,0,118,0,6,85,56,15,12,0,0,0,176,10,57,12,289,0,27,0,0,0,0,0,23,89,0,221,0,16,0,0,0,0,0,14,33,126,11,32,1,137,13,0,0,0,0,0,0,0,0,0,1,0,98,0,0,0,45,0,215,0,0,0,0,71,76,0,0,0,15,108,0,0,176,0,0,0,0,121,0,0,0,0\n"
     ]
    }
   ],
   "source": [
    "# take a look at the first row\n",
    "!head -n 1 topUsers_Apr-Jul_2014_1000-words.txt"
   ]
  },
  {
   "cell_type": "code",
   "execution_count": 427,
   "metadata": {},
   "outputs": [
    {
     "data": {
      "text/plain": [
       "1003"
      ]
     },
     "execution_count": 427,
     "metadata": {},
     "output_type": "execute_result"
    }
   ],
   "source": [
    "a = \"1180025371,2,1724608,75552,827,57603,7128,4282,45674,66811,27632,0,8,23783,2,42853,0,62335,22349,21428,19801,4125,0,0,2,1585,21118,1,1,1,16079,19676,1587,0,19695,0,0,0,0,0,0,2,20216,60,4278,0,16,46,788,2,0,0,3,0,3,0,0,111122,0,12,0,0,0,2,739,0,176,0,0,0,38,626,0,0,0,6,1584,0,19672,510,0,0,0,12,0,1675,0,0,0,0,5,2,0,0,1,9,0,0,31,0,0,2,0,0,0,0,4,64,476,0,1,0,617,0,0,15672,70315,70317,0,2997,0,0,0,665,0,0,12,0,0,0,3135,1,2,39,0,0,0,0,23,0,1,0,179,667,0,0,32,0,0,224,5,0,0,66,0,3,450,96,0,0,0,0,8,15,15,0,115,0,0,19672,0,46,15,0,0,2,0,51,0,0,0,298,0,0,5,2,165,3,0,0,46497,0,19675,0,4,0,42036,0,0,40035,84,0,103,0,2,12,1924,7,0,0,0,0,3,0,42629,197,15490,0,0,45,0,0,0,0,0,0,301,0,0,0,0,134,3300,0,422,386,0,19826,2,0,0,46,9,354,175,71,165,20338,0,109,0,1,44376,0,1370,0,0,0,0,0,0,0,0,0,0,2,0,0,4462,0,0,5,0,202,436,408,0,61,0,0,39888,74,0,19672,0,0,0,0,0,19672,19672,2,2,349,0,13,0,30,0,0,8,0,40,0,23,0,12,337,0,12,19952,26,0,0,15489,0,0,0,0,39,0,0,26,0,0,19,144,161,0,0,0,5558,0,23,1561,52,0,0,0,9,0,0,35319,0,0,68,0,0,0,0,0,0,0,8,0,0,222,463,60,0,77,0,20219,0,1,4581,0,0,0,297,0,0,0,0,0,68,0,17942,0,38,226,0,0,0,0,9,19,0,0,0,0,0,217,12,261,0,25052,263,0,0,0,1,0,59,27,14,133,76,234,24966,0,0,1,2,11,44,3,0,0,43,0,3,3,2,0,0,0,2,0,0,7,47,0,0,0,0,2,0,0,1,0,0,0,0,175,0,0,5,1,0,0,0,7,0,0,104,53,0,0,16,13,26,0,11,0,6,77,0,17,0,360,0,0,1693,0,147,0,10,0,0,0,61,1,0,0,113,0,0,1,0,305,14,23,0,42,0,0,0,1,14,2391,6,0,21,0,0,911,3,0,0,0,0,0,0,0,0,39,0,25088,0,0,0,34,134,59,35,45,1584,40,2,8,0,249,0,72,0,0,0,0,0,2,0,0,0,0,0,25,0,13,0,0,4223,30,0,0,0,0,0,0,184,1,5558,0,0,24,0,61,7,38,0,309,0,25,0,0,0,0,0,0,0,0,0,3,258,0,0,0,0,0,710,0,62,0,21,0,0,0,0,820,0,0,19672,0,1,0,0,8,74,0,0,0,87,15390,12,20216,1,0,2,10810,11,0,0,47,0,0,797,95,19826,143,0,2,772,0,0,0,117,90,0,56,1,0,0,86,382,807,0,0,0,77,0,97,0,169,282,0,0,0,0,0,0,14,1,0,0,0,0,202,825,1,10,0,803,98,0,167,113,0,263,18506,0,18521,0,243,4,88,0,46,0,0,0,0,15,0,718,1,0,0,0,0,261,0,0,0,454,3028,0,0,0,48,0,0,0,48,0,112,0,0,140,0,1,0,0,0,0,0,2701,0,0,13,0,0,178,741,0,0,1,0,0,0,0,0,352,5,0,0,42,0,0,94,0,0,0,9,0,0,0,0,2,15489,0,11,225,0,5,0,811,0,5,0,43,0,16,277,26,0,11,0,0,0,0,0,0,0,0,0,0,0,0,15489,0,0,0,0,0,0,0,0,0,0,0,95,61,9,0,70,0,28,0,0,135,0,0,0,31,12,0,0,0,0,1,0,0,1,202,0,0,0,39,0,0,125,0,0,48,0,0,24,0,13,272,48,22,0,74,0,0,0,23,0,5,0,2,21,0,0,0,69,12512,0,0,38,0,0,16,0,0,0,0,0,7,2,1,0,17,1,0,0,0,0,18,14,0,0,0,90,0,0,0,128,45,0,1,0,0,0,2,8,0,30,11,15,28,0,0,0,0,0,0,0,0,0,113,0,0,0,50,0,0,0,5,0,118,0,6,85,56,15,12,0,0,0,176,10,57,12,289,0,27,0,0,0,0,0,23,89,0,221,0,16,0,0,0,0,0,14,33,126,11,32,1,137,13,0,0,0,0,0,0,0,0,0,1,0,98,0,0,0,45,0,215,0,0,0,0,71,76,0,0,0,15,108,0,0,176,0,0,0,0,121,0,0,0,0\"\n",
    "len(a.split(\",\"))"
   ]
  },
  {
   "cell_type": "markdown",
   "metadata": {},
   "source": [
    "__`topUsers_Apr-Jul_2014_1000-words_summaries.txt`__\n",
    "This file contains 5 special word-frequency distributions.\n",
    "Notes about the format of this auxillary information:  \n",
    "> Row 1: Words  \n",
    "Row 2: 1000-user-wide aggregated distribution across all classes  \n",
    "Row 3-6 class-aggregated distributions for clases 0-3  "
   ]
  },
  {
   "cell_type": "code",
   "execution_count": 426,
   "metadata": {},
   "outputs": [
    {
     "name": "stdout",
     "output_type": "stream",
     "text": [
      "\"ID\",\"CODE\",\"TOTAL_WORDS\",\"http\",\"I\",\"the\",\"to\",\"you\"\n",
      "ALL_CODES,NA,61819567,2488393,1989622,1329663,1259298,1181631\n",
      "CODE,0,35130977,449927,1668694,914155,957278,916553\n",
      "CODE,1,11423284,1239122,28497,117272,104367,10209\n",
      "CODE,2,9373246,613561,42672,191091,60120,31309\n",
      "CODE,3,5892060,185783,249759,107145,137533,223560\n"
     ]
    }
   ],
   "source": [
    "# take a look at the first few columns\n",
    "!cut -d ',' -f 1-8 topUsers_Apr-Jul_2014_1000-words_summaries.txt"
   ]
  },
  {
   "cell_type": "code",
   "execution_count": 431,
   "metadata": {},
   "outputs": [
    {
     "name": "stdout",
     "output_type": "stream",
     "text": [
      "6 topUsers_Apr-Jul_2014_1000-words_summaries.txt\n"
     ]
    }
   ],
   "source": [
    "!wc -l topUsers_Apr-Jul_2014_1000-words_summaries.txt"
   ]
  },
  {
   "cell_type": "code",
   "execution_count": 691,
   "metadata": {
    "collapsed": true
   },
   "outputs": [
    {
     "name": "stdout",
     "output_type": "stream",
     "text": [
      "Overwriting Kmeans.py\n"
     ]
    }
   ],
   "source": [
    "%%writefile Kmeans.py\n",
    "#!/usr/bin/env python\n",
    "#START STUDENT CODE45\n",
    "from mrjob.job import MRJob\n",
    "from mrjob.step import MRStep\n",
    "import logging, re\n",
    "import numpy as np\n",
    "\n",
    "def stop_criterion(centroids_old, centroids_new, alpha):\n",
    "    diff = abs(np.array(centroids_old) - np.array(centroids_new))\n",
    "    return np.all(diff <= alpha)\n",
    "\n",
    "def min_distance(centroids, datapoint):\n",
    "    dp = np.array(datapoint)\n",
    "    diff = dp -centroids\n",
    "    diffsq = diff * diff\n",
    "    minidx = np.argmin(list(diffsq.sum(axis = 1)))\n",
    "    return minidx\n",
    "\n",
    "def startCentroidsA(k):\n",
    "    counter = 0\n",
    "    centroid_rows = np.random.randint(0,999, size=k)\n",
    "    centroids = []\n",
    "    for line in open(\"topUsers_Apr-Jul_2014_1000-words.txt\").readlines():\n",
    "        if counter in centroid_rows:\n",
    "            data = re.split(\",\",line)\n",
    "            centroids.append([float(d) for d in data[3:]])\n",
    "        if counter >max(centroid_rows):\n",
    "            break\n",
    "        counter +=1\n",
    "    return centroids\n",
    "\n",
    "def startCentroidsBC(k):\n",
    "    counter = 0\n",
    "    for line in open(\"topUsers_Apr-Jul_2014_1000-words_summaries.txt\").readlines():\n",
    "        if counter == 1:        \n",
    "            data = re.split(\",\",line)\n",
    "            globalAggregate = [float(data[i+3])/float(data[2]) for i in range(1000)]\n",
    "        counter += 1\n",
    "    #perturb the global aggregate for the four initializations    \n",
    "    centroids = []\n",
    "    for i in range(k):\n",
    "        rndpoints = np.random.sample(1000)\n",
    "        peturpoints = [rndpoints[n]/10+globalAggregate[n] for n in range(1000)]\n",
    "        centroids.append(peturpoints)\n",
    "        total = 0\n",
    "        for j in range(len(centroids[i])):\n",
    "            total += centroids[i][j]\n",
    "        for j in range(len(centroids[i])):\n",
    "            centroids[i][j] = centroids[i][j]/total\n",
    "    return centroids\n",
    "\n",
    "def startCentroidsD(k):\n",
    "    counter = 0\n",
    "    centroids = [[],[],[],[]]\n",
    "    for line in open(\"topUsers_Apr-Jul_2014_1000-words_summaries.txt\").readlines():\n",
    "        if counter in [2,3,4,5]:        \n",
    "            data = re.split(\",\",line)\n",
    "            cls = int(data[1])\n",
    "            class_agg = [float(d) for d in data[3:]]\n",
    "            centroids[cls]=class_agg\n",
    "        counter += 1\n",
    "    return centroids\n",
    "\n",
    "class MRKmeans(MRJob):\n",
    "    \n",
    "    JOBCONF = {\"mapreduce.job.reduces\": \"1\"}\n",
    "    \n",
    "    def __init__(self, *args, **kwargs):\n",
    "        super(MRKmeans, self).__init__(*args,**kwargs)\n",
    "        self.centroids = []\n",
    "        self.k = 4\n",
    "    \n",
    "    def mapper_init(self):        \n",
    "        self.centroids = [map(float,s.split('\\n')[0].split(',')) for s in open(\"Centroids.txt\").readlines()]\n",
    "        print len(self.centroids)\n",
    "    def mapper(self, _, line):\n",
    "        fields = line.split(\",\")\n",
    "        datapoint = (map(float, fields[3:]))\n",
    "        c_min_idx = min_distance(self.centroids, datapoint)\n",
    "        yield int(c_min_idx), (datapoint,1)\n",
    "    \n",
    "    def reducer(self, c_idx, datapoints):\n",
    "        total = 0\n",
    "        num = 0\n",
    "        for dp,n in datapoints:\n",
    "            num += n\n",
    "            total += np.array(dp)\n",
    "        yield c_idx, (total/num)\n",
    "    \n",
    "    def steps(self):\n",
    "        return [\n",
    "            MRStep(\n",
    "                mapper_init= self.mapper_init,\n",
    "                mapper = self.mapper,\n",
    "                reducer = self.reducer\n",
    "            )\n",
    "        ]\n",
    "    \n",
    "if __name__ == '__main__':\n",
    "    MRKmeans.run()\n",
    "\n",
    "#END STUDENT CODE45"
   ]
  },
  {
   "cell_type": "code",
   "execution_count": 679,
   "metadata": {
    "collapsed": true
   },
   "outputs": [
    {
     "name": "stdout",
     "output_type": "stream",
     "text": [
      "Overwriting kmeans_runner.py\n"
     ]
    }
   ],
   "source": [
    "%%writefile kmeans_runner.py\n",
    "#!/usr/bin/env python\n",
    "#START STUDENT CODE45_RUNNER\n",
    "from Kmeans import MRKmeans, stop_criterion, startCentroidsA, startCentroidsBC, startCentroidsD\n",
    "k = 4\n",
    "alpha = 0.01\n",
    "centroids = startCentroidsD(k)\n",
    "with open('Centroids.txt', 'w+') as f:\n",
    "    f.writelines(','.join(str(j) for j in i) + '\\n' for i in centroids)\n",
    "    \n",
    "mr_job = MRKmeans(args=['topUsers_Apr-Jul_2014_1000-words.txt', '--file=Centroids.txt'])\n",
    "\n",
    "i = 0\n",
    "while(1):\n",
    "    centroids_old = centroids[:]\n",
    "    print \"iteration \"+str(i)\n",
    "    with mr_job.make_runner() as runner:\n",
    "        runner.run()\n",
    "        for line in runner.stream_output():\n",
    "            c_idx, centroid_loc = mr_job.parse_output_line(line)\n",
    "            print c_idx, len(centroid_loc)\n",
    "            centroids[c_idx] = centroid_loc\n",
    "        # Update the centroids for the next iteration\n",
    "        with open('Centroids.txt', 'w') as f:\n",
    "            f.writelines(','.join(str(j) for j in i) + '\\n' for i in centroids)\n",
    "        \n",
    "    print \"\\n\"\n",
    "    i = i + 1\n",
    "    if(stop_criterion(centroids_old,centroids,alpha)):\n",
    "        break\n",
    "print \"Centroids\\n\"\n",
    "#END STUDENT CODE45_RUNNER"
   ]
  },
  {
   "cell_type": "code",
   "execution_count": 647,
   "metadata": {
    "collapsed": true
   },
   "outputs": [
    {
     "name": "stdout",
     "output_type": "stream",
     "text": [
      "iteration 0\n",
      "0 1000\n",
      "1 1000\n",
      "2 1000\n",
      "3 1000\n",
      "\n",
      "\n",
      "iteration 1\n",
      "0 1000\n",
      "1 1000\n",
      "2 1000\n",
      "3 1000\n",
      "\n",
      "\n",
      "iteration 2\n",
      "0 1000\n",
      "1 1000\n",
      "2 1000\n",
      "3 1000\n",
      "\n",
      "\n",
      "iteration 3\n",
      "0 1000\n",
      "1 1000\n",
      "2 1000\n",
      "3 1000\n",
      "\n",
      "\n",
      "iteration 4\n",
      "0 1000\n",
      "1 1000\n",
      "2 1000\n",
      "3 1000\n",
      "\n",
      "\n",
      "iteration 5\n",
      "0 1000\n",
      "1 1000\n",
      "2 1000\n",
      "3 1000\n",
      "\n",
      "\n",
      "iteration 6\n",
      "0 1000\n",
      "1 1000\n",
      "2 1000\n",
      "3 1000\n",
      "\n",
      "\n",
      "iteration 7\n",
      "0 1000\n",
      "1 1000\n",
      "2 1000\n",
      "3 1000\n",
      "\n",
      "\n",
      "iteration 8\n",
      "0 1000\n",
      "1 1000\n",
      "2 1000\n",
      "3 1000\n",
      "\n",
      "\n",
      "iteration 9\n",
      "0 1000\n",
      "1 1000\n",
      "2 1000\n",
      "3 1000\n",
      "\n",
      "\n",
      "iteration 10\n",
      "0 1000\n",
      "1 1000\n",
      "2 1000\n",
      "3 1000\n",
      "\n",
      "\n",
      "iteration 11\n",
      "0 1000\n",
      "1 1000\n",
      "2 1000\n",
      "3 1000\n",
      "\n",
      "\n",
      "iteration 12\n",
      "0 1000\n",
      "1 1000\n",
      "2 1000\n",
      "3 1000\n",
      "\n",
      "\n",
      "iteration 13\n",
      "0 1000\n",
      "1 1000\n",
      "2 1000\n",
      "3 1000\n",
      "\n",
      "\n",
      "iteration 14\n",
      "0 1000\n",
      "1 1000\n",
      "2 1000\n",
      "3 1000\n",
      "\n",
      "\n",
      "iteration 15\n",
      "0 1000\n",
      "1 1000\n",
      "2 1000\n",
      "3 1000\n",
      "\n",
      "\n",
      "iteration 16\n",
      "0 1000\n",
      "1 1000\n",
      "2 1000\n",
      "3 1000\n",
      "\n",
      "\n",
      "iteration 17\n",
      "0 1000\n",
      "1 1000\n",
      "2 1000\n",
      "3 1000\n",
      "\n",
      "\n",
      "iteration 18\n",
      "0 1000\n",
      "1 1000\n",
      "2 1000\n",
      "3 1000\n",
      "\n",
      "\n",
      "iteration 19\n",
      "0 1000\n",
      "1 1000\n",
      "2 1000\n",
      "3 1000\n",
      "\n",
      "\n",
      "iteration 20\n",
      "0 1000\n",
      "1 1000\n",
      "2 1000\n",
      "3 1000\n",
      "\n",
      "\n",
      "iteration 21\n",
      "0 1000\n",
      "1 1000\n",
      "2 1000\n",
      "3 1000\n",
      "\n",
      "\n",
      "iteration 22\n",
      "0 1000\n",
      "1 1000\n",
      "2 1000\n",
      "3 1000\n",
      "\n",
      "\n",
      "iteration 23\n",
      "0 1000\n",
      "1 1000\n",
      "2 1000\n",
      "3 1000\n",
      "\n",
      "\n",
      "iteration 24\n",
      "0 1000\n",
      "1 1000\n",
      "2 1000\n",
      "3 1000\n",
      "\n",
      "\n",
      "iteration 25\n",
      "0 1000\n",
      "1 1000\n",
      "2 1000\n",
      "3 1000\n",
      "\n",
      "\n",
      "iteration 26\n",
      "0 1000\n",
      "1 1000\n",
      "2 1000\n",
      "3 1000\n",
      "\n",
      "\n",
      "iteration 27\n",
      "0 1000\n",
      "1 1000\n",
      "2 1000\n",
      "3 1000\n",
      "\n",
      "\n",
      "iteration 28\n",
      "0 1000\n",
      "1 1000\n",
      "2 1000\n",
      "3 1000\n",
      "\n",
      "\n",
      "iteration 29\n",
      "0 1000\n",
      "1 1000\n",
      "2 1000\n",
      "3 1000\n",
      "\n",
      "\n",
      "iteration 30\n",
      "0 1000\n",
      "1 1000\n",
      "2 1000\n",
      "3 1000\n",
      "\n",
      "\n",
      "Centroids\n",
      "\n"
     ]
    }
   ],
   "source": [
    "# Running with A\n",
    "!python kmeans_runner.py"
   ]
  },
  {
   "cell_type": "code",
   "execution_count": 672,
   "metadata": {},
   "outputs": [
    {
     "name": "stdout",
     "output_type": "stream",
     "text": [
      "Overwriting KmeansEval.py\n"
     ]
    }
   ],
   "source": [
    "%%writefile KmeansEval.py\n",
    "#!/usr/bin/env python\n",
    "#START STUDENT CODE45\n",
    "from mrjob.job import MRJob\n",
    "from mrjob.step import MRStep\n",
    "from Kmeans import min_distance\n",
    "import logging, re\n",
    "import numpy as np\n",
    "\n",
    "class MRKmeansEval(MRJob):\n",
    "    \n",
    "    JOBCONF = {\"mapreduce.job.reduces\": \"1\"}\n",
    "    \n",
    "    def __init__(self, *args, **kwargs):\n",
    "        super(MRKmeansEval, self).__init__(*args,**kwargs)\n",
    "        self.centroids = []\n",
    "        self.k = 4\n",
    "    \n",
    "    def mapper_init(self):        \n",
    "        self.centroids = [map(float,s.split('\\n')[0].split(',')) for s in open(\"Centroids.txt\").readlines()]\n",
    "    \n",
    "    def mapper(self, _, line):\n",
    "        fields = line.split(\",\")\n",
    "        cl = fields[1]\n",
    "        datapoint = (map(float, fields[3:]))\n",
    "        c_min_idx = min_distance(self.centroids, datapoint)\n",
    "        yield int(c_min_idx), (int(cl),1)\n",
    "    \n",
    "    def reducer(self, key, vals):\n",
    "        cl_sum = [0]*4\n",
    "        for cl,n in vals:\n",
    "            cl_sum[cl] +=n\n",
    "        yield key, (cl_sum)\n",
    "\n",
    "if __name__ == '__main__':\n",
    "    MRKmeansEval.run()"
   ]
  },
  {
   "cell_type": "code",
   "execution_count": 668,
   "metadata": {
    "collapsed": true
   },
   "outputs": [
    {
     "name": "stdout",
     "output_type": "stream",
     "text": [
      "Overwriting kmeans_eval_runner.py\n"
     ]
    }
   ],
   "source": [
    "%%writefile kmeans_eval_runner.py\n",
    "#!/usr/bin/env python\n",
    "#START STUDENT CODE45_RUNNER\n",
    "from KmeansEval import MRKmeansEval\n",
    "    \n",
    "mr_job = MRKmeansEval(args=['topUsers_Apr-Jul_2014_1000-words.txt', '--file=Centroids.txt'])\n",
    "with mr_job.make_runner() as runner:\n",
    "    runner.run()\n",
    "    for line in runner.stream_output():\n",
    "        print mr_job.parse_output_line(line)\n",
    "#END STUDENT CODE45_RUNNER"
   ]
  },
  {
   "cell_type": "code",
   "execution_count": 656,
   "metadata": {},
   "outputs": [
    {
     "name": "stdout",
     "output_type": "stream",
     "text": [
      "(0, [0, 0, 4, 0])\n",
      "(1, [0, 4, 4, 0])\n",
      "(2, [0, 37, 2, 0])\n",
      "(3, [752, 50, 44, 103])\n"
     ]
    }
   ],
   "source": [
    "# Running with A\n",
    "!python kmeans_eval_runner.py"
   ]
  },
  {
   "cell_type": "code",
   "execution_count": 666,
   "metadata": {},
   "outputs": [
    {
     "name": "stdout",
     "output_type": "stream",
     "text": [
      "iteration 0\n",
      "0 1000\n",
      "1 1000\n",
      "\n",
      "\n",
      "iteration 1\n",
      "0 1000\n",
      "1 1000\n",
      "\n",
      "\n",
      "iteration 2\n",
      "0 1000\n",
      "1 1000\n",
      "\n",
      "\n",
      "iteration 3\n",
      "0 1000\n",
      "1 1000\n",
      "\n",
      "\n",
      "iteration 4\n",
      "0 1000\n",
      "1 1000\n",
      "\n",
      "\n",
      "iteration 5\n",
      "0 1000\n",
      "1 1000\n",
      "\n",
      "\n",
      "iteration 6\n",
      "0 1000\n",
      "1 1000\n",
      "\n",
      "\n",
      "iteration 7\n",
      "0 1000\n",
      "1 1000\n",
      "\n",
      "\n",
      "iteration 8\n",
      "0 1000\n",
      "1 1000\n",
      "\n",
      "\n",
      "iteration 9\n",
      "0 1000\n",
      "1 1000\n",
      "\n",
      "\n",
      "Centroids\n",
      "\n"
     ]
    }
   ],
   "source": [
    "# Running with B2\n",
    "!python kmeans_runner.py"
   ]
  },
  {
   "cell_type": "code",
   "execution_count": 671,
   "metadata": {},
   "outputs": [
    {
     "name": "stdout",
     "output_type": "stream",
     "text": [
      "(0, [0, 15, 9, 0])\n",
      "(1, [752, 76, 45, 103])\n"
     ]
    }
   ],
   "source": [
    "# Running with B2\n",
    "!python kmeans_eval_runner.py"
   ]
  },
  {
   "cell_type": "code",
   "execution_count": 674,
   "metadata": {},
   "outputs": [
    {
     "name": "stdout",
     "output_type": "stream",
     "text": [
      "iteration 0\n",
      "0 1000\n",
      "1 1000\n",
      "2 1000\n",
      "3 1000\n",
      "\n",
      "\n",
      "iteration 1\n",
      "0 1000\n",
      "1 1000\n",
      "2 1000\n",
      "3 1000\n",
      "\n",
      "\n",
      "iteration 2\n",
      "0 1000\n",
      "1 1000\n",
      "2 1000\n",
      "3 1000\n",
      "\n",
      "\n",
      "iteration 3\n",
      "0 1000\n",
      "1 1000\n",
      "2 1000\n",
      "3 1000\n",
      "\n",
      "\n",
      "iteration 4\n",
      "0 1000\n",
      "1 1000\n",
      "2 1000\n",
      "3 1000\n",
      "\n",
      "\n",
      "iteration 5\n",
      "0 1000\n",
      "1 1000\n",
      "2 1000\n",
      "3 1000\n",
      "\n",
      "\n",
      "iteration 6\n",
      "0 1000\n",
      "1 1000\n",
      "2 1000\n",
      "3 1000\n",
      "\n",
      "\n",
      "iteration 7\n",
      "0 1000\n",
      "1 1000\n",
      "2 1000\n",
      "3 1000\n",
      "\n",
      "\n",
      "iteration 8\n",
      "0 1000\n",
      "1 1000\n",
      "2 1000\n",
      "3 1000\n",
      "\n",
      "\n",
      "iteration 9\n",
      "0 1000\n",
      "1 1000\n",
      "2 1000\n",
      "3 1000\n",
      "\n",
      "\n",
      "iteration 10\n",
      "0 1000\n",
      "1 1000\n",
      "2 1000\n",
      "3 1000\n",
      "\n",
      "\n",
      "iteration 11\n",
      "0 1000\n",
      "1 1000\n",
      "2 1000\n",
      "3 1000\n",
      "\n",
      "\n",
      "iteration 12\n",
      "0 1000\n",
      "1 1000\n",
      "2 1000\n",
      "3 1000\n",
      "\n",
      "\n",
      "iteration 13\n",
      "0 1000\n",
      "1 1000\n",
      "2 1000\n",
      "3 1000\n",
      "\n",
      "\n",
      "iteration 14\n",
      "0 1000\n",
      "1 1000\n",
      "2 1000\n",
      "3 1000\n",
      "\n",
      "\n",
      "iteration 15\n",
      "0 1000\n",
      "1 1000\n",
      "2 1000\n",
      "3 1000\n",
      "\n",
      "\n",
      "iteration 16\n",
      "0 1000\n",
      "1 1000\n",
      "2 1000\n",
      "3 1000\n",
      "\n",
      "\n",
      "Centroids\n",
      "\n"
     ]
    }
   ],
   "source": [
    "# Running with C4\n",
    "!python kmeans_runner.py"
   ]
  },
  {
   "cell_type": "code",
   "execution_count": 675,
   "metadata": {},
   "outputs": [
    {
     "name": "stdout",
     "output_type": "stream",
     "text": [
      "(0, [752, 56, 44, 103])\n",
      "(1, [0, 4, 2, 0])\n",
      "(2, [0, 0, 3, 0])\n",
      "(3, [0, 31, 5, 0])\n"
     ]
    }
   ],
   "source": [
    "# Running with C4\n",
    "!python kmeans_eval_runner.py"
   ]
  },
  {
   "cell_type": "code",
   "execution_count": 692,
   "metadata": {},
   "outputs": [
    {
     "name": "stdout",
     "output_type": "stream",
     "text": [
      "iteration 0\n",
      "4\n",
      "4\n",
      "3 1000\n",
      "\n",
      "\n",
      "iteration 1\n",
      "4\n",
      "4\n",
      "3 1000\n",
      "\n",
      "\n",
      "Centroids\n",
      "\n"
     ]
    }
   ],
   "source": [
    "# Running with D4\n",
    "!python kmeans_runner.py"
   ]
  },
  {
   "cell_type": "code",
   "execution_count": 693,
   "metadata": {},
   "outputs": [
    {
     "name": "stdout",
     "output_type": "stream",
     "text": [
      "(3, [752, 91, 54, 103])\n"
     ]
    }
   ],
   "source": [
    "# Running with D4\n",
    "!python kmeans_eval_runner.py"
   ]
  },
  {
   "cell_type": "markdown",
   "metadata": {},
   "source": [
    "## HW4.6  - (OPTIONAL) Scaleable K-MEANS++ \n",
    "\n",
    "Over half a century old and showing no signs of aging,\n",
    "k-means remains one of the most popular data processing\n",
    "algorithms. As is well-known, a proper initialization\n",
    "of k-means is crucial for obtaining a good final solution.\n",
    "The recently proposed k-means++ initialization algorithm\n",
    "achieves this, obtaining an initial set of centers that is provably\n",
    "close to the optimum solution. A major downside of the\n",
    "k-means++ is its inherent sequential nature, which limits its\n",
    "applicability to massive data: one must make k passes over\n",
    "the data to find a good initial set of centers. The paper listed below \n",
    "shows how to drastically reduce the number of passes needed\n",
    "to obtain, in parallel, a good initialization. This is unlike\n",
    "prevailing efforts on parallelizing k-means that have mostly\n",
    "focused on the post-initialization phases of k-means. The \n",
    "proposed initialization algorithm k-means||\n",
    "obtains a nearly optimal solution after a logarithmic number\n",
    "of passes; the paper also shows that in practice a constant\n",
    "number of passes suffices. Experimental evaluation on realworld\n",
    "large-scale data demonstrates that k-means|| outperforms\n",
    "k-means++ in both sequential and parallel settings.\n",
    "\n",
    "Read the following paper entitled \"Scaleable K-MEANS++\" located at:\n",
    "\n",
    "http://theory.stanford.edu/~sergei/papers/vldb12-kmpar.pdf \n",
    "\n",
    "In MrJob, implement K-MEANS|| and compare with a random initializtion when used in \n",
    "conjunction with the kmeans algorithm as an initialization step for the 2D  dataset \n",
    "generated using code in the following notebook:\n",
    "\n",
    "https://www.dropbox.com/s/lbzwmyv0d8rocfq/MrJobKmeans.ipynb?dl=0\n",
    "\n",
    "Plot the initialation centroids and the centroid trajectory as the K-MEANS|| algorithms iterates. \n",
    "Repeat this for a random initalization (i.e., pick a training vector at random for each inital centroid)\n",
    "of the kmeans algorithm. Comment on the trajectories of both algorithms.\n",
    "Report on the number passes over the training data, and time required to run both  clustering algorithms.\n",
    "Also report the rand index score for both algorithms and comment on your findings."
   ]
  },
  {
   "cell_type": "code",
   "execution_count": null,
   "metadata": {
    "collapsed": true
   },
   "outputs": [],
   "source": []
  },
  {
   "cell_type": "markdown",
   "metadata": {},
   "source": [
    "### 4.6.1 (OPTIONAL) Apply K-MEANS||\n",
    "\n",
    "Apply your implementation of K-MEANS|| to the dataset  in HW 4.5 and compare to the a random initalization (i.e., pick a training vector at random for each inital centroid)of the kmeans algorithm.\n",
    "Report on the number passes over the training data, and time required to run all  clustering algorithms. \n",
    "Also report the rand index score for both algorithms and comment on your findings."
   ]
  },
  {
   "cell_type": "code",
   "execution_count": null,
   "metadata": {
    "collapsed": true
   },
   "outputs": [],
   "source": []
  },
  {
   "cell_type": "markdown",
   "metadata": {},
   "source": [
    "## HW4.7 - (OPTIONAL) Canopy Clustering\n",
    "\n",
    "An alternative way to intialize the k-means algorithm is the  canopy clustering. The canopy clustering \n",
    "algorithm is an unsupervised pre-clustering algorithm introduced by Andrew McCallum, Kamal Nigam and \n",
    "Lyle Ungar in 2000. It is often used as preprocessing step for the K-means algorithm or the \n",
    "Hierarchical clustering algorithm. It is intended to speed up clustering operations on large data sets, \n",
    "where using another algorithm directly may be impractical due to the size of the data set.\n",
    "\n",
    "For more details on the Canopy Clustering algorithm see:\n",
    "\n",
    "https://en.wikipedia.org/wiki/Canopy_clustering_algorithm\n",
    "\n",
    "Plot the initialation centroids and the centroid trajectory as the Canopy Clustering based K-MEANS algorithm iterates. \n",
    "Repeat this for a random initalization (i.e., pick a training vector at random for each inital centroid)\n",
    "of the kmeans algorithm. Comment on the trajectories of both algorithms.\n",
    "Report on the number passes over the training data, and time required to run both  clustering algorithms.\n",
    "Also report the rand index score for both algorithms and comment on your findings."
   ]
  },
  {
   "cell_type": "code",
   "execution_count": null,
   "metadata": {
    "collapsed": true
   },
   "outputs": [],
   "source": []
  },
  {
   "cell_type": "markdown",
   "metadata": {},
   "source": [
    "### 4.7.1 (OPTIONAL) Apply Canopy Clustering based K-MEANS\n",
    "\n",
    "Apply your implementation Canopy Clustering based K-MEANS algorithm to the dataset  in HW 4.5 and compare to the a \n",
    "random initalization (i.e., pick a training vector at random for each inital centroid)of the kmeans algorithm.\n",
    "Report on the number passes over the training data, and time required to run both  clustering algorithms. \n",
    "Also report the rand index score for both algorithms and comment on your findings."
   ]
  },
  {
   "cell_type": "code",
   "execution_count": null,
   "metadata": {
    "collapsed": true
   },
   "outputs": [],
   "source": []
  }
 ],
 "metadata": {
  "kernelspec": {
   "display_name": "Python [default]",
   "language": "python",
   "name": "python2"
  },
  "language_info": {
   "codemirror_mode": {
    "name": "ipython",
    "version": 2
   },
   "file_extension": ".py",
   "mimetype": "text/x-python",
   "name": "python",
   "nbconvert_exporter": "python",
   "pygments_lexer": "ipython2",
   "version": "2.7.14"
  },
  "toc": {
   "nav_menu": {
    "height": "380px",
    "width": "252px"
   },
   "number_sections": false,
   "sideBar": true,
   "skip_h1_title": false,
   "title_cell": "Table of Contents",
   "title_sidebar": "Contents",
   "toc_cell": true,
   "toc_position": {
    "height": "333px",
    "left": "479px",
    "right": "20px",
    "top": "676px",
    "width": "165px"
   },
   "toc_section_display": true,
   "toc_window_display": true
  }
 },
 "nbformat": 4,
 "nbformat_minor": 2
}
